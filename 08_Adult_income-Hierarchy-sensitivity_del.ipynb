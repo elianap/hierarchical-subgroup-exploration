{
 "cells": [
  {
   "cell_type": "code",
   "execution_count": 1,
   "id": "23ebfde9",
   "metadata": {
    "ExecuteTime": {
     "end_time": "2022-06-08T13:22:23.566119Z",
     "start_time": "2022-06-08T13:22:23.536059Z"
    }
   },
   "outputs": [],
   "source": [
    "%load_ext autoreload\n",
    "%autoreload 2"
   ]
  },
  {
   "cell_type": "code",
   "execution_count": 2,
   "id": "sunrise-seating",
   "metadata": {
    "ExecuteTime": {
     "end_time": "2022-06-08T13:22:23.587021Z",
     "start_time": "2022-06-08T13:22:23.567959Z"
    }
   },
   "outputs": [],
   "source": [
    "from utils_printable import printable\n",
    "\n",
    "\n",
    "\n",
    "abbreviations = {\"RAC1P\": \"RAC\", \"White alone\": \"White\", \"Reference person\": \"Ref person\", \\\n",
    "\"Employee of a private for-profit company or business, or of an individual, for wages, salary, or commissions\": \"Empl. for-profit-c\",\\\n",
    "\"Employee of a private not-for-profit, tax-exempt, or charitable organization\": \"Empl. no-profit-c\",\n",
    "\"Self-employed in own not incorporated business, professional practice, or farm\": \"Self-Empl. not incorp\" ,     \n",
    "\"Self-employed in own incorporated business, professional practice or farm\": \"Self-Empl. incorp\" ,\n",
    "\"Local government employee (city, county, etc.)\" : \"Local gov. Empl. \",\n",
    "\"Federal government employee\": \"Federal gov.  Empl.\",\n",
    "\"California/CA\":\"CA\", \"Never married or under 15 years old\": \"Never married/<15yrs\", \n",
    "\"Biological son or daughter\": \"Son/daughter\", \"Regular high school diploma\":\"HS\", \\\n",
    "\"Asian alone\":\"Asian\", \"1 or more years of college credit\":\"1+ collage cr\",\n",
    "\"Some Other Race alone\": \"Other\", \"Bachelor's degree\": \"Bachelor\", \"Master's degree\": \"Master\", \n",
    "                \"Some college, but less than 1 year\": \"<1y collage\",\n",
    "                \"Associate's degree\":\"Associate\",\n",
    "\"Noninstitutionalized group quarters population\": \"Noninstit. GQs\", \n",
    "\"OCCP=CMM-Software Developers\": \"OCCP=CMM-SW Dev\", \n",
    "                 \"Professional degree beyond a bachelor's degree\": \"Prof beyond bachelor\"}"
   ]
  },
  {
   "cell_type": "code",
   "execution_count": 3,
   "id": "saving-generator",
   "metadata": {
    "ExecuteTime": {
     "end_time": "2022-06-08T13:22:23.603813Z",
     "start_time": "2022-06-08T13:22:23.589373Z"
    }
   },
   "outputs": [],
   "source": [
    "def printable_with_ratio(df_pr, abbreviations = {}, show_weighted_ratio = False):\n",
    "    out_cols = [\"itemsets\", \"sup\", \"Δ_outcome\", \"t_outcome\", \"ratio\"]\n",
    "    df_pr[\"ratio\"] = df_pr[\"outcome\"]/mean_outcome\n",
    "    if show_weighted_ratio:\n",
    "        out_cols = out_cols + [\"wlogr\"]\n",
    "    df_pr = printable(df_pr, abbreviations=abbreviations)\n",
    "    return df_pr[out_cols]\n",
    "\n"
   ]
  },
  {
   "cell_type": "markdown",
   "id": "2c61951a",
   "metadata": {},
   "source": [
    "# Load data"
   ]
  },
  {
   "cell_type": "code",
   "execution_count": 4,
   "id": "1e8527f4",
   "metadata": {
    "ExecuteTime": {
     "end_time": "2022-06-08T13:22:32.514993Z",
     "start_time": "2022-06-08T13:22:23.605431Z"
    }
   },
   "outputs": [],
   "source": [
    "from folktables import ACSDataSource, ACSIncome\n",
    "\n",
    "data_source = ACSDataSource(survey_year='2018', horizon='1-Year', survey='person')\n",
    "acs_data = data_source.get_data(states=[\"CA\"], download=True)\n",
    "features, label, group = ACSIncome.df_to_numpy(acs_data)"
   ]
  },
  {
   "cell_type": "code",
   "execution_count": 5,
   "id": "49915da4",
   "metadata": {
    "ExecuteTime": {
     "end_time": "2022-06-08T13:22:32.532579Z",
     "start_time": "2022-06-08T13:22:32.516650Z"
    }
   },
   "outputs": [],
   "source": [
    "from folktables.acs import adult_filter\n",
    "from folktables import BasicProblem\n",
    "import numpy as np\n",
    "\n",
    "feature_names = [\n",
    "        'AGEP',\n",
    "        'COW',\n",
    "        'SCHL',\n",
    "        'MAR',\n",
    "        'OCCP',\n",
    "        'POBP',\n",
    "        'RELP',\n",
    "        'WKHP',\n",
    "        'SEX',\n",
    "        'RAC1P'\n",
    "    ]\n",
    "\n",
    "target='PINCP'\n",
    "\n",
    "ACSIncome_outcome = BasicProblem(\n",
    "    features=feature_names,\n",
    "    target=target,\n",
    "    #target_transform=lambda x: x > 50000,    \n",
    "    group='RAC1P',\n",
    "    preprocess=adult_filter,\n",
    "    #postprocess=lambda x: np.nan_to_num(x, -1),\n",
    ")"
   ]
  },
  {
   "cell_type": "code",
   "execution_count": 6,
   "id": "fd2ef146",
   "metadata": {
    "ExecuteTime": {
     "end_time": "2022-06-08T13:22:33.506902Z",
     "start_time": "2022-06-08T13:22:32.533974Z"
    }
   },
   "outputs": [],
   "source": [
    "features, label, group = ACSIncome_outcome.df_to_numpy(acs_data)"
   ]
  },
  {
   "cell_type": "code",
   "execution_count": 7,
   "id": "bbb6df0e",
   "metadata": {
    "ExecuteTime": {
     "end_time": "2022-06-08T13:22:33.522619Z",
     "start_time": "2022-06-08T13:22:33.508827Z"
    }
   },
   "outputs": [],
   "source": [
    "continuous_attributes = ['AGEP', 'WKHP']"
   ]
  },
  {
   "cell_type": "code",
   "execution_count": 8,
   "id": "076d453a",
   "metadata": {
    "ExecuteTime": {
     "end_time": "2022-06-08T13:22:33.550247Z",
     "start_time": "2022-06-08T13:22:33.524064Z"
    }
   },
   "outputs": [],
   "source": [
    "categorical_attributes = list(set(feature_names)-set(continuous_attributes))"
   ]
  },
  {
   "cell_type": "code",
   "execution_count": 9,
   "id": "d57cc259",
   "metadata": {
    "ExecuteTime": {
     "end_time": "2022-06-08T13:22:33.580876Z",
     "start_time": "2022-06-08T13:22:33.553991Z"
    }
   },
   "outputs": [
    {
     "data": {
      "text/html": [
       "<div>\n",
       "<style scoped>\n",
       "    .dataframe tbody tr th:only-of-type {\n",
       "        vertical-align: middle;\n",
       "    }\n",
       "\n",
       "    .dataframe tbody tr th {\n",
       "        vertical-align: top;\n",
       "    }\n",
       "\n",
       "    .dataframe thead th {\n",
       "        text-align: right;\n",
       "    }\n",
       "</style>\n",
       "<table border=\"1\" class=\"dataframe\">\n",
       "  <thead>\n",
       "    <tr style=\"text-align: right;\">\n",
       "      <th></th>\n",
       "      <th>AGEP</th>\n",
       "      <th>COW</th>\n",
       "      <th>SCHL</th>\n",
       "      <th>MAR</th>\n",
       "      <th>OCCP</th>\n",
       "      <th>POBP</th>\n",
       "      <th>RELP</th>\n",
       "      <th>WKHP</th>\n",
       "      <th>SEX</th>\n",
       "      <th>RAC1P</th>\n",
       "      <th>income</th>\n",
       "    </tr>\n",
       "  </thead>\n",
       "  <tbody>\n",
       "    <tr>\n",
       "      <th>0</th>\n",
       "      <td>30.0</td>\n",
       "      <td>6.0</td>\n",
       "      <td>14.0</td>\n",
       "      <td>1.0</td>\n",
       "      <td>9610.0</td>\n",
       "      <td>6.0</td>\n",
       "      <td>16.0</td>\n",
       "      <td>40.0</td>\n",
       "      <td>1.0</td>\n",
       "      <td>8.0</td>\n",
       "      <td>48500.0</td>\n",
       "    </tr>\n",
       "    <tr>\n",
       "      <th>1</th>\n",
       "      <td>21.0</td>\n",
       "      <td>4.0</td>\n",
       "      <td>16.0</td>\n",
       "      <td>5.0</td>\n",
       "      <td>1970.0</td>\n",
       "      <td>6.0</td>\n",
       "      <td>17.0</td>\n",
       "      <td>20.0</td>\n",
       "      <td>1.0</td>\n",
       "      <td>1.0</td>\n",
       "      <td>7700.0</td>\n",
       "    </tr>\n",
       "    <tr>\n",
       "      <th>2</th>\n",
       "      <td>65.0</td>\n",
       "      <td>2.0</td>\n",
       "      <td>22.0</td>\n",
       "      <td>5.0</td>\n",
       "      <td>2040.0</td>\n",
       "      <td>6.0</td>\n",
       "      <td>17.0</td>\n",
       "      <td>8.0</td>\n",
       "      <td>1.0</td>\n",
       "      <td>1.0</td>\n",
       "      <td>17200.0</td>\n",
       "    </tr>\n",
       "    <tr>\n",
       "      <th>3</th>\n",
       "      <td>33.0</td>\n",
       "      <td>1.0</td>\n",
       "      <td>14.0</td>\n",
       "      <td>3.0</td>\n",
       "      <td>9610.0</td>\n",
       "      <td>36.0</td>\n",
       "      <td>16.0</td>\n",
       "      <td>40.0</td>\n",
       "      <td>1.0</td>\n",
       "      <td>1.0</td>\n",
       "      <td>12000.0</td>\n",
       "    </tr>\n",
       "    <tr>\n",
       "      <th>4</th>\n",
       "      <td>18.0</td>\n",
       "      <td>2.0</td>\n",
       "      <td>19.0</td>\n",
       "      <td>5.0</td>\n",
       "      <td>1021.0</td>\n",
       "      <td>6.0</td>\n",
       "      <td>17.0</td>\n",
       "      <td>18.0</td>\n",
       "      <td>2.0</td>\n",
       "      <td>1.0</td>\n",
       "      <td>300.0</td>\n",
       "    </tr>\n",
       "  </tbody>\n",
       "</table>\n",
       "</div>"
      ],
      "text/plain": [
       "   AGEP  COW  SCHL  MAR    OCCP  POBP  RELP  WKHP  SEX  RAC1P   income\n",
       "0  30.0  6.0  14.0  1.0  9610.0   6.0  16.0  40.0  1.0    8.0  48500.0\n",
       "1  21.0  4.0  16.0  5.0  1970.0   6.0  17.0  20.0  1.0    1.0   7700.0\n",
       "2  65.0  2.0  22.0  5.0  2040.0   6.0  17.0   8.0  1.0    1.0  17200.0\n",
       "3  33.0  1.0  14.0  3.0  9610.0  36.0  16.0  40.0  1.0    1.0  12000.0\n",
       "4  18.0  2.0  19.0  5.0  1021.0   6.0  17.0  18.0  2.0    1.0    300.0"
      ]
     },
     "execution_count": 9,
     "metadata": {},
     "output_type": "execute_result"
    }
   ],
   "source": [
    "import pandas as pd\n",
    "\n",
    "\n",
    "df = pd.DataFrame(features, columns=feature_names)\n",
    "df[\"income\"] = label\n",
    "df.head()"
   ]
  },
  {
   "cell_type": "markdown",
   "id": "65895cac",
   "metadata": {},
   "source": [
    "# Remap columns"
   ]
  },
  {
   "cell_type": "markdown",
   "id": "dependent-positive",
   "metadata": {},
   "source": [
    "From label encoding to interpretable notation: e.g., 0, 1 to \"male\", \"female\""
   ]
  },
  {
   "cell_type": "code",
   "execution_count": 10,
   "id": "abstract-prospect",
   "metadata": {
    "ExecuteTime": {
     "end_time": "2022-06-08T13:22:33.595785Z",
     "start_time": "2022-06-08T13:22:33.582512Z"
    }
   },
   "outputs": [],
   "source": [
    "\n",
    "import pandas as pd\n",
    "import os\n",
    "filename = os.path.join(os.path.curdir, \"datasets\", \"ACSPUMS\", \"PUMS_Data_Dictionary_2018.csv\")"
   ]
  },
  {
   "cell_type": "code",
   "execution_count": 11,
   "id": "f695e936",
   "metadata": {
    "ExecuteTime": {
     "end_time": "2022-06-08T13:22:33.739449Z",
     "start_time": "2022-06-08T13:22:33.597250Z"
    }
   },
   "outputs": [],
   "source": [
    "df_mappings = pd.read_csv(filename)"
   ]
  },
  {
   "cell_type": "code",
   "execution_count": 12,
   "id": "f44506e0",
   "metadata": {
    "ExecuteTime": {
     "end_time": "2022-06-08T13:22:33.754358Z",
     "start_time": "2022-06-08T13:22:33.741054Z"
    }
   },
   "outputs": [],
   "source": [
    "remapping_cols = {}"
   ]
  },
  {
   "cell_type": "code",
   "execution_count": 13,
   "id": "e17ec43e",
   "metadata": {
    "ExecuteTime": {
     "end_time": "2022-06-08T13:22:33.806407Z",
     "start_time": "2022-06-08T13:22:33.756004Z"
    }
   },
   "outputs": [],
   "source": [
    "orig_col = \"1\"\n",
    "new_col = \"Record Type\"\n",
    "cols_i = [orig_col, new_col]\n",
    "\n",
    "#col_name = \"OCCP\"\n",
    "for col_name in categorical_attributes:\n",
    "    dict_i = df_mappings.loc[\"VAL\"].loc[col_name][cols_i].set_index(orig_col).to_dict()[new_col]\n",
    "    dict_i = {float(k) if (k not in [\"b\", \"bb\", 'bbb', 'bbbb']) else -1 :v for k,v in dict_i.items()}\n",
    "    remapping_cols[col_name] = dict_i"
   ]
  },
  {
   "cell_type": "code",
   "execution_count": 14,
   "id": "f6b86971",
   "metadata": {
    "ExecuteTime": {
     "end_time": "2022-06-08T13:22:35.841095Z",
     "start_time": "2022-06-08T13:22:33.807934Z"
    }
   },
   "outputs": [],
   "source": [
    "from copy import deepcopy\n",
    "\n",
    "df_renamed = deepcopy(df)\n",
    "\n",
    "for column_name in remapping_cols:\n",
    "    df_renamed[column_name] = df[column_name].replace(remapping_cols[column_name])"
   ]
  },
  {
   "cell_type": "markdown",
   "id": "portable-personal",
   "metadata": {},
   "source": [
    "We substituite nan with string \"NaN\""
   ]
  },
  {
   "cell_type": "code",
   "execution_count": 15,
   "id": "029194e4",
   "metadata": {
    "ExecuteTime": {
     "end_time": "2022-06-08T13:22:35.912798Z",
     "start_time": "2022-06-08T13:22:35.842887Z"
    }
   },
   "outputs": [],
   "source": [
    "for c in df_renamed:\n",
    "    if df_renamed[c].isna().any():\n",
    "        print(c)\n",
    "        df_renamed[c].fillna('NaN', inplace=True)"
   ]
  },
  {
   "cell_type": "code",
   "execution_count": 16,
   "id": "bf01cb9e",
   "metadata": {
    "ExecuteTime": {
     "end_time": "2022-06-08T13:22:35.939287Z",
     "start_time": "2022-06-08T13:22:35.914266Z"
    }
   },
   "outputs": [
    {
     "data": {
      "text/html": [
       "<div>\n",
       "<style scoped>\n",
       "    .dataframe tbody tr th:only-of-type {\n",
       "        vertical-align: middle;\n",
       "    }\n",
       "\n",
       "    .dataframe tbody tr th {\n",
       "        vertical-align: top;\n",
       "    }\n",
       "\n",
       "    .dataframe thead th {\n",
       "        text-align: right;\n",
       "    }\n",
       "</style>\n",
       "<table border=\"1\" class=\"dataframe\">\n",
       "  <thead>\n",
       "    <tr style=\"text-align: right;\">\n",
       "      <th></th>\n",
       "      <th>AGEP</th>\n",
       "      <th>COW</th>\n",
       "      <th>SCHL</th>\n",
       "      <th>MAR</th>\n",
       "      <th>OCCP</th>\n",
       "      <th>POBP</th>\n",
       "      <th>RELP</th>\n",
       "      <th>WKHP</th>\n",
       "      <th>SEX</th>\n",
       "      <th>RAC1P</th>\n",
       "      <th>income</th>\n",
       "    </tr>\n",
       "  </thead>\n",
       "  <tbody>\n",
       "    <tr>\n",
       "      <th>0</th>\n",
       "      <td>30.0</td>\n",
       "      <td>Self-employed in own not incorporated business...</td>\n",
       "      <td>Grade 11</td>\n",
       "      <td>Married</td>\n",
       "      <td>TRN-Cleaners Of Vehicles And Equipment</td>\n",
       "      <td>California/CA</td>\n",
       "      <td>Institutionalized group quarters population</td>\n",
       "      <td>40.0</td>\n",
       "      <td>Male</td>\n",
       "      <td>Some Other Race alone</td>\n",
       "      <td>48500.0</td>\n",
       "    </tr>\n",
       "    <tr>\n",
       "      <th>1</th>\n",
       "      <td>21.0</td>\n",
       "      <td>State government employee</td>\n",
       "      <td>Regular high school diploma</td>\n",
       "      <td>Never married or under 15 years old</td>\n",
       "      <td>SCI-Other Life, Physical, And Social Science T...</td>\n",
       "      <td>California/CA</td>\n",
       "      <td>Noninstitutionalized group quarters population</td>\n",
       "      <td>20.0</td>\n",
       "      <td>Male</td>\n",
       "      <td>White alone</td>\n",
       "      <td>7700.0</td>\n",
       "    </tr>\n",
       "    <tr>\n",
       "      <th>2</th>\n",
       "      <td>65.0</td>\n",
       "      <td>Employee of a private not-for-profit, tax-exem...</td>\n",
       "      <td>Master's degree</td>\n",
       "      <td>Never married or under 15 years old</td>\n",
       "      <td>CMS-Clergy</td>\n",
       "      <td>California/CA</td>\n",
       "      <td>Noninstitutionalized group quarters population</td>\n",
       "      <td>8.0</td>\n",
       "      <td>Male</td>\n",
       "      <td>White alone</td>\n",
       "      <td>17200.0</td>\n",
       "    </tr>\n",
       "    <tr>\n",
       "      <th>3</th>\n",
       "      <td>33.0</td>\n",
       "      <td>Employee of a private for-profit company or bu...</td>\n",
       "      <td>Grade 11</td>\n",
       "      <td>Divorced</td>\n",
       "      <td>TRN-Cleaners Of Vehicles And Equipment</td>\n",
       "      <td>New York/NY</td>\n",
       "      <td>Institutionalized group quarters population</td>\n",
       "      <td>40.0</td>\n",
       "      <td>Male</td>\n",
       "      <td>White alone</td>\n",
       "      <td>12000.0</td>\n",
       "    </tr>\n",
       "    <tr>\n",
       "      <th>4</th>\n",
       "      <td>18.0</td>\n",
       "      <td>Employee of a private not-for-profit, tax-exem...</td>\n",
       "      <td>1 or more years of college credit, no degree</td>\n",
       "      <td>Never married or under 15 years old</td>\n",
       "      <td>CMM-Software Developers</td>\n",
       "      <td>California/CA</td>\n",
       "      <td>Noninstitutionalized group quarters population</td>\n",
       "      <td>18.0</td>\n",
       "      <td>Female</td>\n",
       "      <td>White alone</td>\n",
       "      <td>300.0</td>\n",
       "    </tr>\n",
       "  </tbody>\n",
       "</table>\n",
       "</div>"
      ],
      "text/plain": [
       "   AGEP                                                COW  \\\n",
       "0  30.0  Self-employed in own not incorporated business...   \n",
       "1  21.0                          State government employee   \n",
       "2  65.0  Employee of a private not-for-profit, tax-exem...   \n",
       "3  33.0  Employee of a private for-profit company or bu...   \n",
       "4  18.0  Employee of a private not-for-profit, tax-exem...   \n",
       "\n",
       "                                           SCHL  \\\n",
       "0                                      Grade 11   \n",
       "1                   Regular high school diploma   \n",
       "2                               Master's degree   \n",
       "3                                      Grade 11   \n",
       "4  1 or more years of college credit, no degree   \n",
       "\n",
       "                                   MAR  \\\n",
       "0                              Married   \n",
       "1  Never married or under 15 years old   \n",
       "2  Never married or under 15 years old   \n",
       "3                             Divorced   \n",
       "4  Never married or under 15 years old   \n",
       "\n",
       "                                                OCCP           POBP  \\\n",
       "0             TRN-Cleaners Of Vehicles And Equipment  California/CA   \n",
       "1  SCI-Other Life, Physical, And Social Science T...  California/CA   \n",
       "2                                         CMS-Clergy  California/CA   \n",
       "3             TRN-Cleaners Of Vehicles And Equipment    New York/NY   \n",
       "4                            CMM-Software Developers  California/CA   \n",
       "\n",
       "                                             RELP  WKHP     SEX  \\\n",
       "0     Institutionalized group quarters population  40.0    Male   \n",
       "1  Noninstitutionalized group quarters population  20.0    Male   \n",
       "2  Noninstitutionalized group quarters population   8.0    Male   \n",
       "3     Institutionalized group quarters population  40.0    Male   \n",
       "4  Noninstitutionalized group quarters population  18.0  Female   \n",
       "\n",
       "                   RAC1P   income  \n",
       "0  Some Other Race alone  48500.0  \n",
       "1            White alone   7700.0  \n",
       "2            White alone  17200.0  \n",
       "3            White alone  12000.0  \n",
       "4            White alone    300.0  "
      ]
     },
     "execution_count": 16,
     "metadata": {},
     "output_type": "execute_result"
    }
   ],
   "source": [
    "df_renamed.head()"
   ]
  },
  {
   "cell_type": "code",
   "execution_count": 17,
   "id": "stretch-token",
   "metadata": {
    "ExecuteTime": {
     "end_time": "2022-06-08T13:22:35.970161Z",
     "start_time": "2022-06-08T13:22:35.940753Z"
    }
   },
   "outputs": [
    {
     "data": {
      "text/plain": [
       "['MGR-Lodging Managers',\n",
       " 'MGR-Food Service Managers',\n",
       " 'MGR-Social And Community Service Managers',\n",
       " 'MGR-Other Managers',\n",
       " 'MGR-Medical And Health Services Managers',\n",
       " 'MGR-Human Resources Managers',\n",
       " 'MGR-Sales Managers',\n",
       " 'MGR-Farmers, Ranchers, And Other Agricultural Managers',\n",
       " 'MGR-Education And Childcare Administrators',\n",
       " 'MGR-General And Operations Managers',\n",
       " 'MGR-Training And Development Managers',\n",
       " 'MGR-Chief Executives And Legislators',\n",
       " 'MGR-Property, Real Estate, And Community Association Managers',\n",
       " 'MGR-Marketing Managers',\n",
       " 'MGR-Industrial Production Managers',\n",
       " 'MGR-Construction Managers',\n",
       " 'MGR-Entertainment and Recreation Managers',\n",
       " 'MGR-Financial Managers',\n",
       " 'MGR-Computer And Information Systems Managers',\n",
       " 'MGR-Architectural And Engineering Managers',\n",
       " 'MGR-Purchasing Managers',\n",
       " 'MGR-Public Relations And Fundraising Managers',\n",
       " 'MGR-Advertising And Promotions Managers',\n",
       " 'MGR-Administrative Services Managers',\n",
       " 'MGR-Transportation, Storage, And Distribution Managers',\n",
       " 'MGR-Facilities Managers',\n",
       " 'MGR-Emergency Management Directors',\n",
       " 'MGR-Natural Sciences Managers',\n",
       " 'MGR-Compensation And Benefits Managers']"
      ]
     },
     "execution_count": 17,
     "metadata": {},
     "output_type": "execute_result"
    }
   ],
   "source": [
    "[i for i in df_renamed[\"OCCP\"].unique() if \"MGR\" in i]"
   ]
  },
  {
   "cell_type": "code",
   "execution_count": 18,
   "id": "9fb7efc0",
   "metadata": {
    "ExecuteTime": {
     "end_time": "2022-06-08T13:22:36.041509Z",
     "start_time": "2022-06-08T13:22:35.971504Z"
    }
   },
   "outputs": [],
   "source": [
    "import pickle\n",
    "\n",
    "with open(\n",
    "    os.path.join(os.path.curdir, \"datasets\", \"ACSPUMS\", \"census_column_mapping.pickle\"),\n",
    "    \"wb\",\n",
    ") as fp:\n",
    "    pickle.dump(remapping_cols, fp)"
   ]
  },
  {
   "cell_type": "code",
   "execution_count": 19,
   "id": "f92274a3",
   "metadata": {
    "ExecuteTime": {
     "end_time": "2022-06-08T13:22:36.064633Z",
     "start_time": "2022-06-08T13:22:36.044466Z"
    }
   },
   "outputs": [],
   "source": [
    "from copy import deepcopy\n",
    "\n",
    "df_analysis = deepcopy(df_renamed)"
   ]
  },
  {
   "cell_type": "code",
   "execution_count": 20,
   "id": "5e353603",
   "metadata": {
    "ExecuteTime": {
     "end_time": "2022-06-08T13:22:37.467885Z",
     "start_time": "2022-06-08T13:22:36.066184Z"
    }
   },
   "outputs": [],
   "source": [
    "df_analysis.to_csv(os.path.join(os.path.curdir, \"datasets\", \"ACSPUMS\", \"adult_dataset_income.csv\"), index=False)"
   ]
  },
  {
   "cell_type": "code",
   "execution_count": 21,
   "id": "ff583e16",
   "metadata": {
    "ExecuteTime": {
     "end_time": "2022-06-08T13:22:37.484075Z",
     "start_time": "2022-06-08T13:22:37.469515Z"
    }
   },
   "outputs": [],
   "source": [
    "continuous_attributes = ['AGEP', 'WKHP']"
   ]
  },
  {
   "cell_type": "code",
   "execution_count": 22,
   "id": "9ec8ef79",
   "metadata": {
    "ExecuteTime": {
     "end_time": "2022-06-08T13:22:37.527758Z",
     "start_time": "2022-06-08T13:22:37.485452Z"
    }
   },
   "outputs": [
    {
     "data": {
      "text/plain": [
       "(195665, 11)"
      ]
     },
     "execution_count": 22,
     "metadata": {},
     "output_type": "execute_result"
    }
   ],
   "source": [
    "df_analysis.shape"
   ]
  },
  {
   "cell_type": "markdown",
   "id": "3cd56012",
   "metadata": {},
   "source": [
    "# Taxonomy"
   ]
  },
  {
   "cell_type": "code",
   "execution_count": 23,
   "id": "0f9f22bf",
   "metadata": {
    "ExecuteTime": {
     "end_time": "2022-06-08T13:22:37.556681Z",
     "start_time": "2022-06-08T13:22:37.530892Z"
    }
   },
   "outputs": [],
   "source": [
    "df_analysis_proc = deepcopy(df_analysis)"
   ]
  },
  {
   "cell_type": "markdown",
   "id": "romance-devil",
   "metadata": {},
   "source": [
    "## Occupation"
   ]
  },
  {
   "cell_type": "code",
   "execution_count": 24,
   "id": "4ee6945c",
   "metadata": {
    "ExecuteTime": {
     "end_time": "2022-06-08T13:22:37.647640Z",
     "start_time": "2022-06-08T13:22:37.558321Z"
    }
   },
   "outputs": [],
   "source": [
    "attr = \"OCCP\"\n",
    "from copy import deepcopy\n",
    "\n",
    "#generalization_dict_tax = deepcopy(generalization_dict)\n",
    "generalization_dict_tax = {}\n",
    "generalization_dict_tax[attr] = {x: x.split(\"-\")[0] for x in df_analysis_proc[attr].values if \"-\" in x}"
   ]
  },
  {
   "cell_type": "markdown",
   "id": "brutal-luxembourg",
   "metadata": {},
   "source": [
    "## Mean of transport"
   ]
  },
  {
   "cell_type": "code",
   "execution_count": 25,
   "id": "311fb583",
   "metadata": {
    "ExecuteTime": {
     "end_time": "2022-06-08T13:22:37.662594Z",
     "start_time": "2022-06-08T13:22:37.649015Z"
    }
   },
   "outputs": [],
   "source": [
    "attr = \"JWTR\"\n",
    "\n",
    "if attr in df_analysis_proc.columns:\n",
    "    print(df_analysis_proc[attr].value_counts()/len(df_analysis_proc))\n",
    "    generalization_dict_tax[attr] =  {'Bicycle': 'Private Transportation', \n",
    "    'Car, truck, or van': 'Private Transportation', \n",
    "    'Bus or trolley bus': 'Public Transportation',\n",
    "    'Railroad': 'Public Transportation',\n",
    "    'Subway or elevated': 'Public Transportation',\n",
    "    'Motorcycle': 'Private Transportation', \n",
    "    'Streetcar or trolley car (carro publico in Puerto Rico)': 'Public Transportation',\n",
    "    'Ferryboat': 'Public Transportation'}"
   ]
  },
  {
   "cell_type": "markdown",
   "id": "demographic-archive",
   "metadata": {},
   "source": [
    "## Working weeks"
   ]
  },
  {
   "cell_type": "code",
   "execution_count": 26,
   "id": "3db13ed3",
   "metadata": {
    "ExecuteTime": {
     "end_time": "2022-06-08T13:22:37.713850Z",
     "start_time": "2022-06-08T13:22:37.663884Z"
    }
   },
   "outputs": [],
   "source": [
    "attr = \"WKW\"\n",
    "\n",
    "if attr in df_analysis_proc.columns:\n",
    "    print(df_analysis_proc[attr].value_counts())\n",
    "    generalization_dict_tax[attr] =  {'14 to 26 weeks worked during past 12 months': '14 to 39 weeks worked during past 12 months',\n",
    "    '27 to 39 weeks worked during past 12 months': '14 to 39 weeks worked during past 12 months',\n",
    "    '40 to 47 weeks worked during past 12 months': '40 to 49 weeks worked during past 12 months',\n",
    "    '48 to 49 weeks worked during past 12 months': '40 to 49 weeks worked during past 12 months'}"
   ]
  },
  {
   "cell_type": "markdown",
   "id": "miniature-irish",
   "metadata": {},
   "source": [
    "## Arrival and departure time at work"
   ]
  },
  {
   "cell_type": "code",
   "execution_count": 27,
   "id": "fdc92c46",
   "metadata": {
    "ExecuteTime": {
     "end_time": "2022-06-08T13:22:37.831170Z",
     "start_time": "2022-06-08T13:22:37.719122Z"
    }
   },
   "outputs": [],
   "source": [
    "def taxonomy_split_in_slot(values):\n",
    "    def define_slot(x, v_slot):            \n",
    "            if int(x)%v_slot == 0:\n",
    "                slot_value= f\"{x}-{x+v_slot}\"\n",
    "                if x == 24:\n",
    "                    slot_value= f\"{x}-{v_slot}\"\n",
    "            else:\n",
    "                x = x-(int(x)%v_slot)\n",
    "                slot_value= f\"{x}-{x+v_slot}\"\n",
    "            return slot_value\n",
    "        \n",
    "    tax = {}\n",
    "\n",
    "    for val in values:\n",
    "        if val==\"NaN\":\n",
    "            continue\n",
    "        tmp = val.split(\":\")\n",
    "        h = int(tmp[0])\n",
    "        t = tmp[1].split(\" \")[1]\n",
    "        if h==12:\n",
    "            if t == \"a.m.\":\n",
    "                h = 0    \n",
    "        else:\n",
    "            if t==\"p.m.\":\n",
    "                h = h+12\n",
    "        hier1 = h\n",
    "\n",
    "        tax[val] = str(hier1)\n",
    "\n",
    "        hier2 = define_slot(h, 2)\n",
    "        tax[str(hier1)] = hier2\n",
    "        hier3 = define_slot(h, 4)\n",
    "        tax[hier2] = hier3\n",
    "    return tax"
   ]
  },
  {
   "cell_type": "code",
   "execution_count": 28,
   "id": "c2ee4240",
   "metadata": {
    "ExecuteTime": {
     "end_time": "2022-06-08T13:22:37.852975Z",
     "start_time": "2022-06-08T13:22:37.835106Z"
    }
   },
   "outputs": [],
   "source": [
    "attr = \"JWAP\"\n",
    "\n",
    "if attr in df_analysis_proc.columns:\n",
    "    tax= taxonomy_split_in_slot(df_analysis_proc[attr].unique())\n",
    "\n",
    "    generalization_dict_tax[attr] = tax\n",
    "\n",
    "attr = \"JWDP\"\n",
    "if attr in df_analysis_proc.columns:\n",
    "    # We use the same\n",
    "    generalization_dict_tax[attr] = deepcopy(tax)"
   ]
  },
  {
   "cell_type": "markdown",
   "id": "varied-mainland",
   "metadata": {},
   "source": [
    "## Country"
   ]
  },
  {
   "cell_type": "markdown",
   "id": "distributed-nepal",
   "metadata": {},
   "source": [
    "We rename some of the columns for vizualization and mapping reasons."
   ]
  },
  {
   "cell_type": "code",
   "execution_count": 29,
   "id": "committed-hayes",
   "metadata": {
    "ExecuteTime": {
     "end_time": "2022-06-08T13:22:37.956257Z",
     "start_time": "2022-06-08T13:22:37.854235Z"
    }
   },
   "outputs": [],
   "source": [
    "if \"POBP\" in df_analysis_proc.columns:\n",
    "    df_analysis_proc[\"POBP\"] = df_analysis_proc[\"POBP\"]\\\n",
    "    .replace({\"England\":\"United Kingdom\", 'Scotland': \"United Kingdom\", \\\n",
    "              \"United Kingdom, Not Specified\": \"United Kingdom\",  'Northern Ireland': \"United Kingdom\",\\\n",
    "               \"USSR\": \"Russia\", \"Hong Kong\": \"Hong Kong SAR\",\n",
    "             \"Democratic Republic of Congo (Zaire)\": 'Democratic Republic of the Congo',\n",
    "             \"Trinidad & Tobago\": \"Trinidad and Tobago\", 'Macedonia':'North Macedonia',\n",
    "             'Antigua & Barbuda': 'Antigua and Barbuda', \\\n",
    "              'Commonwealth of the Northern Mariana Islands':'Northern Mariana Islands',\n",
    "             'St. Vincent & the Grenadines': 'St. Vincent and the Grenadines', \\\n",
    "              #simplification\n",
    "             \"Azores Islands\": \"Portugal\"})"
   ]
  },
  {
   "cell_type": "code",
   "execution_count": 30,
   "id": "grave-greeting",
   "metadata": {
    "ExecuteTime": {
     "end_time": "2022-06-08T13:22:38.038318Z",
     "start_time": "2022-06-08T13:22:37.957882Z"
    }
   },
   "outputs": [],
   "source": [
    "# https://statisticstimes.com/geography/countries-by-continents.php\n",
    "df_taxonomy_country = pd.read_csv(\"country_hierarchies.csv\", header=None, index_col=0)\n",
    "\n",
    "df_taxonomy_country.columns=[\"Country or Area\",\"ISO-alpha3 Code\", \"M49 Code\", \"Region 1\", \"Region 2\", \"Continent\"]\n",
    "\n",
    "df_taxonomy_country[\"Country or Area\"] = df_taxonomy_country[\"Country or Area\"].replace({\n",
    "    \"Viet Nam\":\"Vietnam\", \"Bolivia (Plurinational State of)\": \"Bolivia\" ,\\\n",
    "      \"Russian Federation\": \"Russia\",'Iran (Islamic Republic of)': 'Iran', \\\n",
    "    \"Lao People's Democratic Republic\": \"Laos\", 'Syrian Arab Republic': \"Syria\", \n",
    "    'Venezuela (Bolivarian Republic of)': \"Venezuela\",\n",
    "    \"Republic of Moldova\": \"Moldova\", \"Czechia\": \"Czech Republic\",\n",
    "        'United Republic of Tanzania': \"Tanzania\", 'Côte d’Ivoire': \"Ivory Coast\",\n",
    "        'United States Virgin Islands': 'US Virgin Islands', 'Saint Lucia': 'St. Lucia', \n",
    "    'Saint Kitts and Nevis': 'St. Kitts-Nevis',\n",
    "    'Saint Vincent and the Grenadines': 'St. Vincent and the Grenadines',\n",
    "    \"United Kingdom of Great Britain and Northern Ireland\" : \"United Kingdom\",\\\n",
    "    \"China, Hong Kong Special Administrative Region\" : \"Hong Kong SAR\"\n",
    "})\n",
    "\n",
    "\n",
    "g_hierarchy = {}\n",
    "target_cols = [\"Country or Area\", \"Region 1\", \"Continent\"]\n",
    "for i, row in df_taxonomy_country.iterrows():\n",
    "    levels = [col for col in target_cols if pd.notnull(row[col])]\n",
    "    \n",
    "    for l in range(len(levels)-1):\n",
    "        tax_c, tax_p = row[levels[l]], row[levels[l+1]]\n",
    "        # If already exist but the value is different\n",
    "        if \"Korea\" in tax_c:\n",
    "            tax_c = \"Korea\"\n",
    "        \n",
    "        if tax_c in g_hierarchy and tax_p!=g_hierarchy[tax_c]:\n",
    "            print(row)\n",
    "            raise ValueError()\n",
    "        if tax_c == tax_p:\n",
    "            continue\n",
    "        g_hierarchy[tax_c] = tax_p\n",
    "attr = 'POBP'\n",
    "#g_hierarchy = {}\n",
    "g_hierarchy.update({\"North America\": \"America\", \n",
    " \"South America\": \"America\", \n",
    " \"Americas, Not Specified\" : \"America\", \n",
    "\"Other Europe, Not Specified\": \"Europe\",\n",
    "\"Eastern Africa, Not Specified\": \"Africa\",\n",
    "\"Other Asia, Not Specified\": \"Asia\",\n",
    "\"South Central Asia, Not Specified\": \"Asia\",\n",
    "\"Caribbean, Not Specified\": \"North America\",\n",
    "\"Other US Island Areas, Oceania, Not Specified, or at Sea\": \"Oceania\",\n",
    "\"Other Africa, Not Specified\": \"Africa\",\n",
    "\"Western Africa, Not Specified\": \"Africa\",\n",
    "                   \"Taiwan\" : 'Eastern Asia',\n",
    "                   'Czechoslovakia':'Eastern Europe', 'Yugoslavia':'Southern Europe'})\n"
   ]
  },
  {
   "cell_type": "code",
   "execution_count": 31,
   "id": "original-diary",
   "metadata": {
    "ExecuteTime": {
     "end_time": "2022-06-08T13:22:38.249067Z",
     "start_time": "2022-06-08T13:22:38.039860Z"
    },
    "scrolled": false
   },
   "outputs": [
    {
     "name": "stdout",
     "output_type": "stream",
     "text": [
      "Asia 54\n",
      "Europe 23\n",
      "Africa 18\n",
      "West Indies 2\n",
      "North America 0\n",
      "South America 4\n",
      "Micronesia 8\n",
      "109 0.00056\n"
     ]
    }
   ],
   "source": [
    "generalization_dict_tax_u = deepcopy(g_hierarchy)\n",
    "delete_values = []\n",
    "for c, v in df_analysis_proc[\"POBP\"].value_counts().items():\n",
    "    if c not in g_hierarchy.keys():\n",
    "        if \"/\" in c:\n",
    "            g_hierarchy[c] = \"United States of America\"\n",
    "        else:\n",
    "            delete_values.append(c)\n",
    "\n",
    "delete_values.append(\"North America\")\n",
    "delete_values.append(\"South America\")\n",
    "delete_values.append(\"Micronesia\")\n",
    "\n",
    "tot_deleted = 0\n",
    "for c in delete_values:\n",
    "    print(c, len(df_analysis_proc.loc[df_analysis_proc[\"POBP\"]==c]))\n",
    "    tot_deleted +=len(df_analysis_proc.loc[df_analysis_proc[\"POBP\"]==c])\n",
    "print(tot_deleted, round(tot_deleted/len(df_analysis_proc),5))"
   ]
  },
  {
   "cell_type": "markdown",
   "id": "approved-peninsula",
   "metadata": {
    "ExecuteTime": {
     "end_time": "2022-05-22T14:48:17.840751Z",
     "start_time": "2022-05-22T14:48:17.832450Z"
    }
   },
   "source": [
    "Delete rows for which the detailed information is not available"
   ]
  },
  {
   "cell_type": "code",
   "execution_count": 32,
   "id": "804d2083",
   "metadata": {
    "ExecuteTime": {
     "end_time": "2022-06-08T13:22:38.281291Z",
     "start_time": "2022-06-08T13:22:38.250548Z"
    }
   },
   "outputs": [],
   "source": [
    "df_analysis_proc = df_analysis_proc.loc[df_analysis_proc[\"POBP\"].isin(delete_values)==False]"
   ]
  },
  {
   "cell_type": "code",
   "execution_count": 33,
   "id": "1acd592f",
   "metadata": {
    "ExecuteTime": {
     "end_time": "2022-06-08T13:22:38.305822Z",
     "start_time": "2022-06-08T13:22:38.282883Z"
    },
    "scrolled": true
   },
   "outputs": [
    {
     "data": {
      "text/html": [
       "<div>\n",
       "<style scoped>\n",
       "    .dataframe tbody tr th:only-of-type {\n",
       "        vertical-align: middle;\n",
       "    }\n",
       "\n",
       "    .dataframe tbody tr th {\n",
       "        vertical-align: top;\n",
       "    }\n",
       "\n",
       "    .dataframe thead th {\n",
       "        text-align: right;\n",
       "    }\n",
       "</style>\n",
       "<table border=\"1\" class=\"dataframe\">\n",
       "  <thead>\n",
       "    <tr style=\"text-align: right;\">\n",
       "      <th></th>\n",
       "      <th>AGEP</th>\n",
       "      <th>COW</th>\n",
       "      <th>SCHL</th>\n",
       "      <th>MAR</th>\n",
       "      <th>OCCP</th>\n",
       "      <th>POBP</th>\n",
       "      <th>RELP</th>\n",
       "      <th>WKHP</th>\n",
       "      <th>SEX</th>\n",
       "      <th>RAC1P</th>\n",
       "      <th>income</th>\n",
       "    </tr>\n",
       "  </thead>\n",
       "  <tbody>\n",
       "  </tbody>\n",
       "</table>\n",
       "</div>"
      ],
      "text/plain": [
       "Empty DataFrame\n",
       "Columns: [AGEP, COW, SCHL, MAR, OCCP, POBP, RELP, WKHP, SEX, RAC1P, income]\n",
       "Index: []"
      ]
     },
     "execution_count": 33,
     "metadata": {},
     "output_type": "execute_result"
    }
   ],
   "source": [
    "df_analysis_proc.loc[df_analysis_proc[\"POBP\"].isin(delete_values)]"
   ]
  },
  {
   "cell_type": "code",
   "execution_count": 34,
   "id": "b6e0891a",
   "metadata": {
    "ExecuteTime": {
     "end_time": "2022-06-08T13:22:38.322532Z",
     "start_time": "2022-06-08T13:22:38.307743Z"
    }
   },
   "outputs": [],
   "source": [
    "generalization_dict_tax[attr] = generalization_dict_tax_u"
   ]
  },
  {
   "cell_type": "code",
   "execution_count": 35,
   "id": "mathematical-healthcare",
   "metadata": {
    "ExecuteTime": {
     "end_time": "2022-06-08T13:22:39.774896Z",
     "start_time": "2022-06-08T13:22:38.324011Z"
    }
   },
   "outputs": [],
   "source": [
    "df_analysis_proc.to_csv(os.path.join(os.path.curdir, \"datasets\", \"ACSPUMS\", \"adult_dataset_income_tax.csv\"), index=False)"
   ]
  },
  {
   "cell_type": "code",
   "execution_count": 36,
   "id": "altered-preview",
   "metadata": {
    "ExecuteTime": {
     "end_time": "2022-06-08T13:22:39.846363Z",
     "start_time": "2022-06-08T13:22:39.776509Z"
    }
   },
   "outputs": [],
   "source": [
    "import json\n",
    "\n",
    "with open(os.path.join(os.path.curdir, \"datasets\", \"ACSPUMS\", \"adult_taxonomies.json\"), \"w\") as fp:\n",
    "    json.dump(generalization_dict_tax, fp)"
   ]
  },
  {
   "cell_type": "markdown",
   "id": "fdc16218",
   "metadata": {},
   "source": [
    "# Tree divergence - income - individual"
   ]
  },
  {
   "cell_type": "markdown",
   "id": "bef91cf1",
   "metadata": {
    "ExecuteTime": {
     "end_time": "2022-01-14T16:09:38.440308Z",
     "start_time": "2022-01-14T16:09:38.415153Z"
    }
   },
   "source": [
    "## min_sup_divergence = 0.025"
   ]
  },
  {
   "cell_type": "code",
   "execution_count": 37,
   "id": "462cee06",
   "metadata": {},
   "outputs": [],
   "source": [
    "all_results = {}"
   ]
  },
  {
   "cell_type": "code",
   "execution_count": 38,
   "id": "b54a664a",
   "metadata": {},
   "outputs": [],
   "source": [
    "min_support_trees = [0.0025, 0.005, 0.01, 0.02, 0.025, 0.035, 0.05, 0.075, 0.1, 0.125, 0.15, 0.175, 0.2, 0.25, 0.3]"
   ]
  },
  {
   "cell_type": "code",
   "execution_count": 39,
   "id": "d3004959",
   "metadata": {
    "ExecuteTime": {
     "end_time": "2022-06-08T13:22:43.771108Z",
     "start_time": "2022-06-08T13:22:43.750747Z"
    }
   },
   "outputs": [],
   "source": [
    "metric = \"d_outcome\"\n",
    "\n",
    "\n",
    "target = \"income\"\n",
    "\n",
    "type_experiment = \"one_at_time\"\n",
    "\n",
    "type_criterion = \"weighted_sum_abs_reference_s\""
   ]
  },
  {
   "cell_type": "code",
   "execution_count": 40,
   "id": "f500c39c",
   "metadata": {
    "ExecuteTime": {
     "end_time": "2022-06-08T13:22:48.335133Z",
     "start_time": "2022-06-08T13:22:48.312953Z"
    }
   },
   "outputs": [],
   "source": [
    "min_sup_divergence = 0.025"
   ]
  },
  {
   "cell_type": "code",
   "execution_count": 41,
   "id": "32db5661",
   "metadata": {
    "ExecuteTime": {
     "end_time": "2022-06-08T13:22:44.712665Z",
     "start_time": "2022-06-08T13:22:44.102915Z"
    },
    "scrolled": true
   },
   "outputs": [
    {
     "name": "stdout",
     "output_type": "stream",
     "text": [
      "0.0025 0.005 0.01 0.02 0.025 0.035 0.05 0.075 0.1 0.125 0.15 0.175 0.2 0.25 0.3 "
     ]
    }
   ],
   "source": [
    "from tree_discretization_ranking import TreeDiscretization_ranking\n",
    "from divexplorer_generalized_ranking.FP_Divergence import FP_Divergence\n",
    "\n",
    "\n",
    "\n",
    "for min_support_tree in min_support_trees:\n",
    "\n",
    "    if min_support_tree in all_results:\n",
    "        out = all_results[min_support_tree]\n",
    "    else:\n",
    "        out = {}\n",
    "        \n",
    "    print(min_support_tree, end = \" \")\n",
    "    \n",
    "    tree_discr = TreeDiscretization_ranking()\n",
    "\n",
    "\n",
    "\n",
    "    generalization_dict, discretizations = tree_discr.get_tree_discretization(\n",
    "        df_analysis_proc,\n",
    "        type_splitting=type_experiment,\n",
    "        min_support=min_support_tree,\n",
    "        metric=metric,\n",
    "        continuous_attributes= list(continuous_attributes),\n",
    "        storeTree=True,\n",
    "        type_criterion = type_criterion,\n",
    "        minimal_gain = 0.0,\n",
    "        target_col = target\n",
    "    )\n",
    "\n",
    "    \n",
    "    generalization_dict_all = deepcopy(generalization_dict)\n",
    "    generalization_dict_all.update(generalization_dict_tax)\n",
    "    \n",
    "    from utils_extract_divergence_generalized_ranking import (\n",
    "        extract_divergence_generalized,\n",
    "    )\n",
    "\n",
    "    for apply_generalization in [False, True]:\n",
    "        if apply_generalization == True:\n",
    "            pattern_type = \"generalized\"\n",
    "        else:\n",
    "            pattern_type = \"base\"\n",
    "\n",
    "        if pattern_type in out:\n",
    "            continue\n",
    "            \n",
    "        FP_fm = extract_divergence_generalized(\n",
    "            df_analysis_proc,\n",
    "            discretizations,\n",
    "            generalization_dict_all,\n",
    "            continuous_attributes,\n",
    "            min_sup_divergence=min_sup_divergence,\n",
    "            apply_generalization=apply_generalization,\n",
    "            target_name = target,\n",
    "            FPM_type=\"fpgrowth\",\n",
    "            metrics_divergence = [\"d_outcome\"],\n",
    "            type_experiment = type_experiment,\n",
    "            allow_overalp = False if type_experiment!=\"all_attributes\" else True\n",
    "        )\n",
    "\n",
    "\n",
    "        fp_divergence_o = FP_Divergence(FP_fm, metric = \"d_outcome\")\n",
    "        out[pattern_type]  = fp_divergence_o.getDivergence(th_redundancy=0).\\\n",
    "                    sort_values(fp_divergence_o.metric, key = abs, ascending = False).head(1)\n",
    "    all_results[min_support_tree] = out"
   ]
  },
  {
   "cell_type": "code",
   "execution_count": 42,
   "id": "8771b4a6",
   "metadata": {
    "ExecuteTime": {
     "end_time": "2022-06-08T13:22:59.947661Z",
     "start_time": "2022-06-08T13:22:49.769754Z"
    }
   },
   "outputs": [
    {
     "data": {
      "text/html": [
       "<div>\n",
       "<style scoped>\n",
       "    .dataframe tbody tr th:only-of-type {\n",
       "        vertical-align: middle;\n",
       "    }\n",
       "\n",
       "    .dataframe tbody tr th {\n",
       "        vertical-align: top;\n",
       "    }\n",
       "\n",
       "    .dataframe thead th {\n",
       "        text-align: right;\n",
       "    }\n",
       "</style>\n",
       "<table border=\"1\" class=\"dataframe\">\n",
       "  <thead>\n",
       "    <tr style=\"text-align: right;\">\n",
       "      <th></th>\n",
       "      <th>min_sup</th>\n",
       "      <th>type_gen</th>\n",
       "      <th>support</th>\n",
       "      <th>itemsets</th>\n",
       "      <th>length</th>\n",
       "      <th>support_count</th>\n",
       "      <th>outcome</th>\n",
       "      <th>d_outcome</th>\n",
       "      <th>t_value_outcome</th>\n",
       "    </tr>\n",
       "  </thead>\n",
       "  <tbody>\n",
       "    <tr>\n",
       "      <th>0</th>\n",
       "      <td>0.0025</td>\n",
       "      <td>base</td>\n",
       "      <td>0.028790</td>\n",
       "      <td>(SCHL=Professional degree beyond a bachelor's ...</td>\n",
       "      <td>1</td>\n",
       "      <td>5630.0</td>\n",
       "      <td>170441.813499</td>\n",
       "      <td>105256.743074</td>\n",
       "      <td>46.671452</td>\n",
       "    </tr>\n",
       "    <tr>\n",
       "      <th>1</th>\n",
       "      <td>0.0025</td>\n",
       "      <td>generalized</td>\n",
       "      <td>0.025047</td>\n",
       "      <td>(WKHP=&gt;=44.0, OCCP=MGR, AGEP=&gt;=35.0, SEX=Male)</td>\n",
       "      <td>4</td>\n",
       "      <td>4898.0</td>\n",
       "      <td>184525.279706</td>\n",
       "      <td>119340.209281</td>\n",
       "      <td>50.568105</td>\n",
       "    </tr>\n",
       "    <tr>\n",
       "      <th>2</th>\n",
       "      <td>0.0050</td>\n",
       "      <td>base</td>\n",
       "      <td>0.028790</td>\n",
       "      <td>(SCHL=Professional degree beyond a bachelor's ...</td>\n",
       "      <td>1</td>\n",
       "      <td>5630.0</td>\n",
       "      <td>170441.813499</td>\n",
       "      <td>105256.743074</td>\n",
       "      <td>46.671452</td>\n",
       "    </tr>\n",
       "    <tr>\n",
       "      <th>3</th>\n",
       "      <td>0.0050</td>\n",
       "      <td>generalized</td>\n",
       "      <td>0.025047</td>\n",
       "      <td>(WKHP=&gt;=44.0, OCCP=MGR, AGEP=&gt;=35.0, SEX=Male)</td>\n",
       "      <td>4</td>\n",
       "      <td>4898.0</td>\n",
       "      <td>184525.279706</td>\n",
       "      <td>119340.209281</td>\n",
       "      <td>50.568105</td>\n",
       "    </tr>\n",
       "    <tr>\n",
       "      <th>4</th>\n",
       "      <td>0.0100</td>\n",
       "      <td>base</td>\n",
       "      <td>0.028790</td>\n",
       "      <td>(SCHL=Professional degree beyond a bachelor's ...</td>\n",
       "      <td>1</td>\n",
       "      <td>5630.0</td>\n",
       "      <td>170441.813499</td>\n",
       "      <td>105256.743074</td>\n",
       "      <td>46.671452</td>\n",
       "    </tr>\n",
       "    <tr>\n",
       "      <th>5</th>\n",
       "      <td>0.0100</td>\n",
       "      <td>generalized</td>\n",
       "      <td>0.025047</td>\n",
       "      <td>(WKHP=&gt;=44.0, OCCP=MGR, AGEP=&gt;=35.0, SEX=Male)</td>\n",
       "      <td>4</td>\n",
       "      <td>4898.0</td>\n",
       "      <td>184525.279706</td>\n",
       "      <td>119340.209281</td>\n",
       "      <td>50.568105</td>\n",
       "    </tr>\n",
       "    <tr>\n",
       "      <th>6</th>\n",
       "      <td>0.0200</td>\n",
       "      <td>base</td>\n",
       "      <td>0.028790</td>\n",
       "      <td>(SCHL=Professional degree beyond a bachelor's ...</td>\n",
       "      <td>1</td>\n",
       "      <td>5630.0</td>\n",
       "      <td>170441.813499</td>\n",
       "      <td>105256.743074</td>\n",
       "      <td>46.671452</td>\n",
       "    </tr>\n",
       "    <tr>\n",
       "      <th>7</th>\n",
       "      <td>0.0200</td>\n",
       "      <td>generalized</td>\n",
       "      <td>0.025047</td>\n",
       "      <td>(WKHP=&gt;=44.0, OCCP=MGR, AGEP=&gt;=35.0, SEX=Male)</td>\n",
       "      <td>4</td>\n",
       "      <td>4898.0</td>\n",
       "      <td>184525.279706</td>\n",
       "      <td>119340.209281</td>\n",
       "      <td>50.568105</td>\n",
       "    </tr>\n",
       "    <tr>\n",
       "      <th>8</th>\n",
       "      <td>0.0250</td>\n",
       "      <td>base</td>\n",
       "      <td>0.028790</td>\n",
       "      <td>(SCHL=Professional degree beyond a bachelor's ...</td>\n",
       "      <td>1</td>\n",
       "      <td>5630.0</td>\n",
       "      <td>170441.813499</td>\n",
       "      <td>105256.743074</td>\n",
       "      <td>46.671452</td>\n",
       "    </tr>\n",
       "    <tr>\n",
       "      <th>9</th>\n",
       "      <td>0.0250</td>\n",
       "      <td>generalized</td>\n",
       "      <td>0.025047</td>\n",
       "      <td>(WKHP=&gt;=44.0, OCCP=MGR, AGEP=&gt;=35.0, SEX=Male)</td>\n",
       "      <td>4</td>\n",
       "      <td>4898.0</td>\n",
       "      <td>184525.279706</td>\n",
       "      <td>119340.209281</td>\n",
       "      <td>50.568105</td>\n",
       "    </tr>\n",
       "    <tr>\n",
       "      <th>10</th>\n",
       "      <td>0.0350</td>\n",
       "      <td>base</td>\n",
       "      <td>0.028790</td>\n",
       "      <td>(SCHL=Professional degree beyond a bachelor's ...</td>\n",
       "      <td>1</td>\n",
       "      <td>5630.0</td>\n",
       "      <td>170441.813499</td>\n",
       "      <td>105256.743074</td>\n",
       "      <td>46.671452</td>\n",
       "    </tr>\n",
       "    <tr>\n",
       "      <th>11</th>\n",
       "      <td>0.0350</td>\n",
       "      <td>generalized</td>\n",
       "      <td>0.025047</td>\n",
       "      <td>(WKHP=&gt;=44.0, OCCP=MGR, AGEP=&gt;=35.0, SEX=Male)</td>\n",
       "      <td>4</td>\n",
       "      <td>4898.0</td>\n",
       "      <td>184525.279706</td>\n",
       "      <td>119340.209281</td>\n",
       "      <td>50.568105</td>\n",
       "    </tr>\n",
       "    <tr>\n",
       "      <th>12</th>\n",
       "      <td>0.0500</td>\n",
       "      <td>base</td>\n",
       "      <td>0.028790</td>\n",
       "      <td>(SCHL=Professional degree beyond a bachelor's ...</td>\n",
       "      <td>1</td>\n",
       "      <td>5630.0</td>\n",
       "      <td>170441.813499</td>\n",
       "      <td>105256.743074</td>\n",
       "      <td>46.671452</td>\n",
       "    </tr>\n",
       "    <tr>\n",
       "      <th>13</th>\n",
       "      <td>0.0500</td>\n",
       "      <td>generalized</td>\n",
       "      <td>0.025047</td>\n",
       "      <td>(WKHP=&gt;=44.0, OCCP=MGR, AGEP=&gt;=35.0, SEX=Male)</td>\n",
       "      <td>4</td>\n",
       "      <td>4898.0</td>\n",
       "      <td>184525.279706</td>\n",
       "      <td>119340.209281</td>\n",
       "      <td>50.568105</td>\n",
       "    </tr>\n",
       "    <tr>\n",
       "      <th>14</th>\n",
       "      <td>0.0750</td>\n",
       "      <td>base</td>\n",
       "      <td>0.028790</td>\n",
       "      <td>(SCHL=Professional degree beyond a bachelor's ...</td>\n",
       "      <td>1</td>\n",
       "      <td>5630.0</td>\n",
       "      <td>170441.813499</td>\n",
       "      <td>105256.743074</td>\n",
       "      <td>46.671452</td>\n",
       "    </tr>\n",
       "    <tr>\n",
       "      <th>15</th>\n",
       "      <td>0.0750</td>\n",
       "      <td>generalized</td>\n",
       "      <td>0.025047</td>\n",
       "      <td>(WKHP=&gt;=44.0, OCCP=MGR, AGEP=&gt;=35.0, SEX=Male)</td>\n",
       "      <td>4</td>\n",
       "      <td>4898.0</td>\n",
       "      <td>184525.279706</td>\n",
       "      <td>119340.209281</td>\n",
       "      <td>50.568105</td>\n",
       "    </tr>\n",
       "    <tr>\n",
       "      <th>16</th>\n",
       "      <td>0.1000</td>\n",
       "      <td>base</td>\n",
       "      <td>0.028790</td>\n",
       "      <td>(SCHL=Professional degree beyond a bachelor's ...</td>\n",
       "      <td>1</td>\n",
       "      <td>5630.0</td>\n",
       "      <td>170441.813499</td>\n",
       "      <td>105256.743074</td>\n",
       "      <td>46.671452</td>\n",
       "    </tr>\n",
       "    <tr>\n",
       "      <th>17</th>\n",
       "      <td>0.1000</td>\n",
       "      <td>generalized</td>\n",
       "      <td>0.025047</td>\n",
       "      <td>(WKHP=&gt;=44.0, OCCP=MGR, AGEP=&gt;=35.0, SEX=Male)</td>\n",
       "      <td>4</td>\n",
       "      <td>4898.0</td>\n",
       "      <td>184525.279706</td>\n",
       "      <td>119340.209281</td>\n",
       "      <td>50.568105</td>\n",
       "    </tr>\n",
       "    <tr>\n",
       "      <th>18</th>\n",
       "      <td>0.1250</td>\n",
       "      <td>base</td>\n",
       "      <td>0.028790</td>\n",
       "      <td>(SCHL=Professional degree beyond a bachelor's ...</td>\n",
       "      <td>1</td>\n",
       "      <td>5630.0</td>\n",
       "      <td>170441.813499</td>\n",
       "      <td>105256.743074</td>\n",
       "      <td>46.671452</td>\n",
       "    </tr>\n",
       "    <tr>\n",
       "      <th>19</th>\n",
       "      <td>0.1250</td>\n",
       "      <td>generalized</td>\n",
       "      <td>0.025047</td>\n",
       "      <td>(WKHP=&gt;=44.0, OCCP=MGR, AGEP=&gt;=35.0, SEX=Male)</td>\n",
       "      <td>4</td>\n",
       "      <td>4898.0</td>\n",
       "      <td>184525.279706</td>\n",
       "      <td>119340.209281</td>\n",
       "      <td>50.568105</td>\n",
       "    </tr>\n",
       "    <tr>\n",
       "      <th>20</th>\n",
       "      <td>0.1500</td>\n",
       "      <td>base</td>\n",
       "      <td>0.028790</td>\n",
       "      <td>(SCHL=Professional degree beyond a bachelor's ...</td>\n",
       "      <td>1</td>\n",
       "      <td>5630.0</td>\n",
       "      <td>170441.813499</td>\n",
       "      <td>105256.743074</td>\n",
       "      <td>46.671452</td>\n",
       "    </tr>\n",
       "    <tr>\n",
       "      <th>21</th>\n",
       "      <td>0.1500</td>\n",
       "      <td>generalized</td>\n",
       "      <td>0.025047</td>\n",
       "      <td>(WKHP=&gt;=44.0, OCCP=MGR, AGEP=&gt;=35.0, SEX=Male)</td>\n",
       "      <td>4</td>\n",
       "      <td>4898.0</td>\n",
       "      <td>184525.279706</td>\n",
       "      <td>119340.209281</td>\n",
       "      <td>50.568105</td>\n",
       "    </tr>\n",
       "    <tr>\n",
       "      <th>22</th>\n",
       "      <td>0.1750</td>\n",
       "      <td>base</td>\n",
       "      <td>0.028790</td>\n",
       "      <td>(SCHL=Professional degree beyond a bachelor's ...</td>\n",
       "      <td>1</td>\n",
       "      <td>5630.0</td>\n",
       "      <td>170441.813499</td>\n",
       "      <td>105256.743074</td>\n",
       "      <td>46.671452</td>\n",
       "    </tr>\n",
       "    <tr>\n",
       "      <th>23</th>\n",
       "      <td>0.1750</td>\n",
       "      <td>generalized</td>\n",
       "      <td>0.025047</td>\n",
       "      <td>(WKHP=&gt;=44.0, OCCP=MGR, AGEP=&gt;=35.0, SEX=Male)</td>\n",
       "      <td>4</td>\n",
       "      <td>4898.0</td>\n",
       "      <td>184525.279706</td>\n",
       "      <td>119340.209281</td>\n",
       "      <td>50.568105</td>\n",
       "    </tr>\n",
       "    <tr>\n",
       "      <th>24</th>\n",
       "      <td>0.2000</td>\n",
       "      <td>base</td>\n",
       "      <td>0.028790</td>\n",
       "      <td>(SCHL=Professional degree beyond a bachelor's ...</td>\n",
       "      <td>1</td>\n",
       "      <td>5630.0</td>\n",
       "      <td>170441.813499</td>\n",
       "      <td>105256.743074</td>\n",
       "      <td>46.671452</td>\n",
       "    </tr>\n",
       "    <tr>\n",
       "      <th>25</th>\n",
       "      <td>0.2000</td>\n",
       "      <td>generalized</td>\n",
       "      <td>0.025047</td>\n",
       "      <td>(WKHP=&gt;=44.0, OCCP=MGR, AGEP=&gt;=35.0, SEX=Male)</td>\n",
       "      <td>4</td>\n",
       "      <td>4898.0</td>\n",
       "      <td>184525.279706</td>\n",
       "      <td>119340.209281</td>\n",
       "      <td>50.568105</td>\n",
       "    </tr>\n",
       "    <tr>\n",
       "      <th>26</th>\n",
       "      <td>0.2500</td>\n",
       "      <td>base</td>\n",
       "      <td>0.028790</td>\n",
       "      <td>(SCHL=Professional degree beyond a bachelor's ...</td>\n",
       "      <td>1</td>\n",
       "      <td>5630.0</td>\n",
       "      <td>170441.813499</td>\n",
       "      <td>105256.743074</td>\n",
       "      <td>46.671452</td>\n",
       "    </tr>\n",
       "    <tr>\n",
       "      <th>27</th>\n",
       "      <td>0.2500</td>\n",
       "      <td>generalized</td>\n",
       "      <td>0.025445</td>\n",
       "      <td>(MAR=Married, OCCP=MGR, COW=Employee of a priv...</td>\n",
       "      <td>5</td>\n",
       "      <td>4976.0</td>\n",
       "      <td>180937.019695</td>\n",
       "      <td>115751.949270</td>\n",
       "      <td>50.479892</td>\n",
       "    </tr>\n",
       "    <tr>\n",
       "      <th>28</th>\n",
       "      <td>0.3000</td>\n",
       "      <td>base</td>\n",
       "      <td>0.028790</td>\n",
       "      <td>(SCHL=Professional degree beyond a bachelor's ...</td>\n",
       "      <td>1</td>\n",
       "      <td>5630.0</td>\n",
       "      <td>170441.813499</td>\n",
       "      <td>105256.743074</td>\n",
       "      <td>46.671452</td>\n",
       "    </tr>\n",
       "    <tr>\n",
       "      <th>29</th>\n",
       "      <td>0.3000</td>\n",
       "      <td>generalized</td>\n",
       "      <td>0.025445</td>\n",
       "      <td>(MAR=Married, OCCP=MGR, COW=Employee of a priv...</td>\n",
       "      <td>5</td>\n",
       "      <td>4976.0</td>\n",
       "      <td>180937.019695</td>\n",
       "      <td>115751.949270</td>\n",
       "      <td>50.479892</td>\n",
       "    </tr>\n",
       "  </tbody>\n",
       "</table>\n",
       "</div>"
      ],
      "text/plain": [
       "    min_sup     type_gen   support  \\\n",
       "0    0.0025         base  0.028790   \n",
       "1    0.0025  generalized  0.025047   \n",
       "2    0.0050         base  0.028790   \n",
       "3    0.0050  generalized  0.025047   \n",
       "4    0.0100         base  0.028790   \n",
       "5    0.0100  generalized  0.025047   \n",
       "6    0.0200         base  0.028790   \n",
       "7    0.0200  generalized  0.025047   \n",
       "8    0.0250         base  0.028790   \n",
       "9    0.0250  generalized  0.025047   \n",
       "10   0.0350         base  0.028790   \n",
       "11   0.0350  generalized  0.025047   \n",
       "12   0.0500         base  0.028790   \n",
       "13   0.0500  generalized  0.025047   \n",
       "14   0.0750         base  0.028790   \n",
       "15   0.0750  generalized  0.025047   \n",
       "16   0.1000         base  0.028790   \n",
       "17   0.1000  generalized  0.025047   \n",
       "18   0.1250         base  0.028790   \n",
       "19   0.1250  generalized  0.025047   \n",
       "20   0.1500         base  0.028790   \n",
       "21   0.1500  generalized  0.025047   \n",
       "22   0.1750         base  0.028790   \n",
       "23   0.1750  generalized  0.025047   \n",
       "24   0.2000         base  0.028790   \n",
       "25   0.2000  generalized  0.025047   \n",
       "26   0.2500         base  0.028790   \n",
       "27   0.2500  generalized  0.025445   \n",
       "28   0.3000         base  0.028790   \n",
       "29   0.3000  generalized  0.025445   \n",
       "\n",
       "                                             itemsets  length  support_count  \\\n",
       "0   (SCHL=Professional degree beyond a bachelor's ...       1         5630.0   \n",
       "1      (WKHP=>=44.0, OCCP=MGR, AGEP=>=35.0, SEX=Male)       4         4898.0   \n",
       "2   (SCHL=Professional degree beyond a bachelor's ...       1         5630.0   \n",
       "3      (WKHP=>=44.0, OCCP=MGR, AGEP=>=35.0, SEX=Male)       4         4898.0   \n",
       "4   (SCHL=Professional degree beyond a bachelor's ...       1         5630.0   \n",
       "5      (WKHP=>=44.0, OCCP=MGR, AGEP=>=35.0, SEX=Male)       4         4898.0   \n",
       "6   (SCHL=Professional degree beyond a bachelor's ...       1         5630.0   \n",
       "7      (WKHP=>=44.0, OCCP=MGR, AGEP=>=35.0, SEX=Male)       4         4898.0   \n",
       "8   (SCHL=Professional degree beyond a bachelor's ...       1         5630.0   \n",
       "9      (WKHP=>=44.0, OCCP=MGR, AGEP=>=35.0, SEX=Male)       4         4898.0   \n",
       "10  (SCHL=Professional degree beyond a bachelor's ...       1         5630.0   \n",
       "11     (WKHP=>=44.0, OCCP=MGR, AGEP=>=35.0, SEX=Male)       4         4898.0   \n",
       "12  (SCHL=Professional degree beyond a bachelor's ...       1         5630.0   \n",
       "13     (WKHP=>=44.0, OCCP=MGR, AGEP=>=35.0, SEX=Male)       4         4898.0   \n",
       "14  (SCHL=Professional degree beyond a bachelor's ...       1         5630.0   \n",
       "15     (WKHP=>=44.0, OCCP=MGR, AGEP=>=35.0, SEX=Male)       4         4898.0   \n",
       "16  (SCHL=Professional degree beyond a bachelor's ...       1         5630.0   \n",
       "17     (WKHP=>=44.0, OCCP=MGR, AGEP=>=35.0, SEX=Male)       4         4898.0   \n",
       "18  (SCHL=Professional degree beyond a bachelor's ...       1         5630.0   \n",
       "19     (WKHP=>=44.0, OCCP=MGR, AGEP=>=35.0, SEX=Male)       4         4898.0   \n",
       "20  (SCHL=Professional degree beyond a bachelor's ...       1         5630.0   \n",
       "21     (WKHP=>=44.0, OCCP=MGR, AGEP=>=35.0, SEX=Male)       4         4898.0   \n",
       "22  (SCHL=Professional degree beyond a bachelor's ...       1         5630.0   \n",
       "23     (WKHP=>=44.0, OCCP=MGR, AGEP=>=35.0, SEX=Male)       4         4898.0   \n",
       "24  (SCHL=Professional degree beyond a bachelor's ...       1         5630.0   \n",
       "25     (WKHP=>=44.0, OCCP=MGR, AGEP=>=35.0, SEX=Male)       4         4898.0   \n",
       "26  (SCHL=Professional degree beyond a bachelor's ...       1         5630.0   \n",
       "27  (MAR=Married, OCCP=MGR, COW=Employee of a priv...       5         4976.0   \n",
       "28  (SCHL=Professional degree beyond a bachelor's ...       1         5630.0   \n",
       "29  (MAR=Married, OCCP=MGR, COW=Employee of a priv...       5         4976.0   \n",
       "\n",
       "          outcome      d_outcome  t_value_outcome  \n",
       "0   170441.813499  105256.743074        46.671452  \n",
       "1   184525.279706  119340.209281        50.568105  \n",
       "2   170441.813499  105256.743074        46.671452  \n",
       "3   184525.279706  119340.209281        50.568105  \n",
       "4   170441.813499  105256.743074        46.671452  \n",
       "5   184525.279706  119340.209281        50.568105  \n",
       "6   170441.813499  105256.743074        46.671452  \n",
       "7   184525.279706  119340.209281        50.568105  \n",
       "8   170441.813499  105256.743074        46.671452  \n",
       "9   184525.279706  119340.209281        50.568105  \n",
       "10  170441.813499  105256.743074        46.671452  \n",
       "11  184525.279706  119340.209281        50.568105  \n",
       "12  170441.813499  105256.743074        46.671452  \n",
       "13  184525.279706  119340.209281        50.568105  \n",
       "14  170441.813499  105256.743074        46.671452  \n",
       "15  184525.279706  119340.209281        50.568105  \n",
       "16  170441.813499  105256.743074        46.671452  \n",
       "17  184525.279706  119340.209281        50.568105  \n",
       "18  170441.813499  105256.743074        46.671452  \n",
       "19  184525.279706  119340.209281        50.568105  \n",
       "20  170441.813499  105256.743074        46.671452  \n",
       "21  184525.279706  119340.209281        50.568105  \n",
       "22  170441.813499  105256.743074        46.671452  \n",
       "23  184525.279706  119340.209281        50.568105  \n",
       "24  170441.813499  105256.743074        46.671452  \n",
       "25  184525.279706  119340.209281        50.568105  \n",
       "26  170441.813499  105256.743074        46.671452  \n",
       "27  180937.019695  115751.949270        50.479892  \n",
       "28  170441.813499  105256.743074        46.671452  \n",
       "29  180937.019695  115751.949270        50.479892  "
      ]
     },
     "metadata": {},
     "output_type": "display_data"
    }
   ],
   "source": [
    "vs = []\n",
    "for min_support_tree in all_results:\n",
    "    out = all_results[min_support_tree]\n",
    "    for type_gen in out:\n",
    "        vs.append([min_support_tree, type_gen] + list(out[type_gen].iloc[0].values))\n",
    "result = pd.DataFrame(vs, columns = [\"min_sup\", \"type_gen\"] + list(out[type_gen].columns))\n",
    "display(result.sort_values([\"min_sup\", \"type_gen\"]))"
   ]
  },
  {
   "cell_type": "code",
   "execution_count": 43,
   "id": "76b19436",
   "metadata": {},
   "outputs": [
    {
     "data": {
      "image/png": "[encoded data removed]",
      "text/plain": [
       "<Figure size 432x288 with 1 Axes>"
      ]
     },
     "metadata": {
      "needs_background": "light"
     },
     "output_type": "display_data"
    }
   ],
   "source": [
    "from pathlib import Path\n",
    "outfig_dir = \"0_output_figures\"\n",
    "Path(outfig_dir).mkdir(parents=True, exist_ok=True)\n",
    "\n",
    "import matplotlib.pyplot as plt\n",
    "\n",
    "\n",
    "show_sup = [0.005, 0.01, 0.02, 0.025, 0.035, 0.05, 0.075, 0.1, 0.125, 0.15, 0.175, 0.2]\n",
    "\n",
    "\n",
    "\n",
    "\n",
    "metric_name = \"d_outcome\"\n",
    "\n",
    "\n",
    "vs = {}\n",
    "\n",
    "\n",
    "fig, ax = plt.subplots()\n",
    "\n",
    "base = { min_support_tree: all_results[min_support_tree][\"base\"].iloc[0][metric_name] for min_support_tree in all_results if min_support_tree in show_sup}\n",
    "gen =  { min_support_tree: all_results[min_support_tree][\"generalized\"].iloc[0][metric_name] for min_support_tree in all_results  if min_support_tree in show_sup}\n",
    "\n",
    "base = dict(sorted(base.items(), key=lambda item: item[0]))\n",
    "gen = dict(sorted(gen.items(), key=lambda item: item[0]))\n",
    "\n",
    "\n",
    "ax.plot(list(base.keys()), list(base.values()), label = \"base\", marker = \"o\")\n",
    "ax.plot(list(gen.keys()), list(gen.values()), label = \"generalized\", marker = \"o\")\n",
    "\n",
    "ax.set_title(r\"Highest Δ$_{FPR}$\")\n",
    "\n",
    "\n",
    "ax.set_ylabel(r\"max Δ$_{income}$\")\n",
    "ax.set_xlabel(r\"Minimum support $s_{tree}$\")\n",
    "for item in ([ax.title, ax.xaxis.label, ax.yaxis.label] ): #ax.get_xticklabels()\n",
    "        item.set_fontsize(14)\n",
    "\n",
    "for item in ax.get_xticklabels() + ax.get_yticklabels():\n",
    "     item.set_fontsize(12)\n",
    "        \n",
    "plt.legend( fontsize = 13, handletextpad=0.2)\n",
    "\n",
    "\n",
    "\n",
    "plt.tight_layout();\n",
    "plt.savefig(f\"{outfig_dir}/adult_sensitivity_s_{min_sup_divergence}.pdf\");"
   ]
  },
  {
   "cell_type": "code",
   "execution_count": 47,
   "id": "3064cf01",
   "metadata": {},
   "outputs": [
    {
     "data": {
      "text/plain": [
       "119.34"
      ]
     },
     "execution_count": 47,
     "metadata": {},
     "output_type": "execute_result"
    }
   ],
   "source": [
    "round(gen[0.005]/1000, 2)"
   ]
  },
  {
   "cell_type": "code",
   "execution_count": 44,
   "id": "b232dfb3",
   "metadata": {},
   "outputs": [
    {
     "data": {
      "text/plain": [
       "{0.005: 105256.74307427197,\n",
       " 0.01: 105256.74307427197,\n",
       " 0.02: 105256.74307427197,\n",
       " 0.025: 105256.74307427197,\n",
       " 0.035: 105256.74307427197,\n",
       " 0.05: 105256.74307427197,\n",
       " 0.075: 105256.74307427197,\n",
       " 0.1: 105256.74307427197,\n",
       " 0.125: 105256.74307427197,\n",
       " 0.15: 105256.74307427197,\n",
       " 0.175: 105256.74307427197,\n",
       " 0.2: 105256.74307427197}"
      ]
     },
     "execution_count": 44,
     "metadata": {},
     "output_type": "execute_result"
    }
   ],
   "source": [
    "base"
   ]
  },
  {
   "cell_type": "code",
   "execution_count": null,
   "id": "1184f70f",
   "metadata": {},
   "outputs": [],
   "source": []
  }
 ],
 "metadata": {
  "hide_input": false,
  "kernelspec": {
   "display_name": "mainexp",
   "language": "python",
   "name": "mainexp"
  },
  "language_info": {
   "codemirror_mode": {
    "name": "ipython",
    "version": 3
   },
   "file_extension": ".py",
   "mimetype": "text/x-python",
   "name": "python",
   "nbconvert_exporter": "python",
   "pygments_lexer": "ipython3",
   "version": "3.9.12"
  },
  "toc": {
   "base_numbering": 1,
   "nav_menu": {},
   "number_sections": true,
   "sideBar": true,
   "skip_h1_title": false,
   "title_cell": "Table of Contents",
   "title_sidebar": "Contents",
   "toc_cell": false,
   "toc_position": {
    "height": "calc(100% - 180px)",
    "left": "10px",
    "top": "150px",
    "width": "341.96px"
   },
   "toc_section_display": true,
   "toc_window_display": true
  },
  "varInspector": {
   "cols": {
    "lenName": 16,
    "lenType": 16,
    "lenVar": 40
   },
   "kernels_config": {
    "python": {
     "delete_cmd_postfix": "",
     "delete_cmd_prefix": "del ",
     "library": "var_list.py",
     "varRefreshCmd": "print(var_dic_list())"
    },
    "r": {
     "delete_cmd_postfix": ") ",
     "delete_cmd_prefix": "rm(",
     "library": "var_list.r",
     "varRefreshCmd": "cat(var_dic_list()) "
    }
   },
   "types_to_exclude": [
    "module",
    "function",
    "builtin_function_or_method",
    "instance",
    "_Feature"
   ],
   "window_display": false
  }
 },
 "nbformat": 4,
 "nbformat_minor": 5
}
