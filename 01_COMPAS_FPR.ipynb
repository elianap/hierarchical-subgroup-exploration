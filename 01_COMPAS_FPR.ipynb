{
 "cells": [
  {
   "cell_type": "code",
   "execution_count": 1,
   "metadata": {
    "ExecuteTime": {
     "end_time": "2022-01-22T08:43:06.679146Z",
     "start_time": "2022-01-22T08:43:06.660468Z"
    }
   },
   "outputs": [],
   "source": [
    "%load_ext autoreload\n",
    "%autoreload 2"
   ]
  },
  {
   "cell_type": "code",
   "execution_count": 2,
   "metadata": {
    "ExecuteTime": {
     "end_time": "2022-01-22T08:43:07.062536Z",
     "start_time": "2022-01-22T08:43:06.680756Z"
    }
   },
   "outputs": [],
   "source": [
    "import pandas as pd\n",
    "import numpy as np\n",
    "\n",
    "pd.set_option(\"display.max_colwidth\", None)"
   ]
  },
  {
   "cell_type": "code",
   "execution_count": 3,
   "metadata": {
    "ExecuteTime": {
     "end_time": "2022-01-22T08:43:07.077201Z",
     "start_time": "2022-01-22T08:43:07.063916Z"
    }
   },
   "outputs": [],
   "source": [
    "def viz_tree(tree_discr, continuous_attributes, tree_outputdir, suffix, saveFig=False):\n",
    "    import os\n",
    "\n",
    "    tree_discr.printDiscretizationTrees(round_v=3)\n",
    "\n",
    "    if type(tree_discr.trees) is dict:\n",
    "        dot = {}\n",
    "        for attribute in continuous_attributes:\n",
    "            dot[attribute] = tree_discr.trees[attribute].visualizeTreeDiGraph()\n",
    "            if saveFig:\n",
    "                dot[attribute].render(\n",
    "                    os.path.join(tree_outputdir, f\"tree_{attribute}_{suffix}.pdf\")\n",
    "                )\n",
    "        dot_show = dot[attribute]\n",
    "    else:\n",
    "        dot_show = tree_discr.trees.visualizeTreeDiGraph()\n",
    "        if saveFig:\n",
    "\n",
    "            dot_show.render(os.path.join(tree_outputdir, f\"tree_{suffix}.pdf\"))\n",
    "\n",
    "\n",
    "def printable_top_k(FP_fm, metric, COL_info, K=3, abbreviations={}, th_redundancy=0):\n",
    "    from divexplorer_generalized.FP_Divergence import FP_Divergence\n",
    "\n",
    "    fp_divergence_i = FP_Divergence(FP_fm, metric=metric)\n",
    "\n",
    "    FP_sorted_i = (\n",
    "        fp_divergence_i.getDivergence(th_redundancy=th_redundancy)\n",
    "        .sort_values(\n",
    "            [fp_divergence_i.metric, fp_divergence_i.t_value_col], ascending=False\n",
    "        )\n",
    "        .head(K)\n",
    "    )\n",
    "\n",
    "    from utils_printable import printable\n",
    "\n",
    "    COLS = COL_info + [fp_divergence_i.metric, fp_divergence_i.t_value_col]\n",
    "\n",
    "    FP_print_i = printable(FP_sorted_i[COLS], abbreviations=abbreviations)\n",
    "    return FP_print_i"
   ]
  },
  {
   "cell_type": "code",
   "execution_count": 4,
   "metadata": {
    "ExecuteTime": {
     "end_time": "2022-01-22T08:43:07.091756Z",
     "start_time": "2022-01-22T08:43:07.078862Z"
    }
   },
   "outputs": [],
   "source": [
    "out = {}\n",
    "out_support = {}"
   ]
  },
  {
   "cell_type": "code",
   "execution_count": 5,
   "metadata": {
    "ExecuteTime": {
     "end_time": "2022-01-22T08:43:07.106976Z",
     "start_time": "2022-01-22T08:43:07.093921Z"
    }
   },
   "outputs": [],
   "source": [
    "# complete_info=False\n",
    "\n",
    "# if complete_info:\n",
    "#     COL_info = [\"itemsets\", \"support\", \"tn\", \"fp\", \"fn\", \"tp\"]\n",
    "# else:\n",
    "#     COL_info = [\"itemsets\", \"support\"]"
   ]
  },
  {
   "cell_type": "code",
   "execution_count": 6,
   "metadata": {
    "ExecuteTime": {
     "end_time": "2022-01-22T08:43:07.118618Z",
     "start_time": "2022-01-22T08:43:07.109128Z"
    }
   },
   "outputs": [],
   "source": [
    "COL_info_detail = [\"itemsets\", \"support\", \"tn\", \"fp\", \"fn\", \"tp\"]\n",
    "\n",
    "COL_info = [\"itemsets\", \"support\"]"
   ]
  },
  {
   "cell_type": "markdown",
   "metadata": {},
   "source": [
    "# Parameters"
   ]
  },
  {
   "cell_type": "code",
   "execution_count": 7,
   "metadata": {
    "ExecuteTime": {
     "end_time": "2022-01-22T08:43:07.140720Z",
     "start_time": "2022-01-22T08:43:07.120438Z"
    }
   },
   "outputs": [],
   "source": [
    "K=3\n",
    "\n",
    "metric = \"d_fpr\"\n",
    "\n",
    "min_sup_divergence=0.05"
   ]
  },
  {
   "cell_type": "code",
   "execution_count": 8,
   "metadata": {
    "ExecuteTime": {
     "end_time": "2022-01-22T08:43:07.162157Z",
     "start_time": "2022-01-22T08:43:07.143268Z"
    }
   },
   "outputs": [],
   "source": [
    "name_output_dir = \"output_compas\""
   ]
  },
  {
   "cell_type": "code",
   "execution_count": 9,
   "metadata": {
    "ExecuteTime": {
     "end_time": "2022-01-22T08:43:07.183479Z",
     "start_time": "2022-01-22T08:43:07.164963Z"
    }
   },
   "outputs": [],
   "source": [
    "saveFig = False"
   ]
  },
  {
   "cell_type": "markdown",
   "metadata": {},
   "source": [
    "# Dataset"
   ]
  },
  {
   "cell_type": "code",
   "execution_count": 10,
   "metadata": {
    "ExecuteTime": {
     "end_time": "2022-01-22T08:43:07.435967Z",
     "start_time": "2022-01-22T08:43:07.186047Z"
    }
   },
   "outputs": [
    {
     "data": {
      "text/html": [
       "<div>\n",
       "<style scoped>\n",
       "    .dataframe tbody tr th:only-of-type {\n",
       "        vertical-align: middle;\n",
       "    }\n",
       "\n",
       "    .dataframe tbody tr th {\n",
       "        vertical-align: top;\n",
       "    }\n",
       "\n",
       "    .dataframe thead th {\n",
       "        text-align: right;\n",
       "    }\n",
       "</style>\n",
       "<table border=\"1\" class=\"dataframe\">\n",
       "  <thead>\n",
       "    <tr style=\"text-align: right;\">\n",
       "      <th></th>\n",
       "      <th>c_charge_degree</th>\n",
       "      <th>race</th>\n",
       "      <th>sex</th>\n",
       "      <th>age</th>\n",
       "      <th>priors_count</th>\n",
       "      <th>length_of_stay</th>\n",
       "      <th>class</th>\n",
       "      <th>predicted</th>\n",
       "    </tr>\n",
       "  </thead>\n",
       "  <tbody>\n",
       "    <tr>\n",
       "      <th>0</th>\n",
       "      <td>F</td>\n",
       "      <td>Other</td>\n",
       "      <td>Male</td>\n",
       "      <td>69</td>\n",
       "      <td>0</td>\n",
       "      <td>1.0</td>\n",
       "      <td>0</td>\n",
       "      <td>0</td>\n",
       "    </tr>\n",
       "    <tr>\n",
       "      <th>1</th>\n",
       "      <td>F</td>\n",
       "      <td>African-American</td>\n",
       "      <td>Male</td>\n",
       "      <td>34</td>\n",
       "      <td>0</td>\n",
       "      <td>10.0</td>\n",
       "      <td>1</td>\n",
       "      <td>0</td>\n",
       "    </tr>\n",
       "    <tr>\n",
       "      <th>2</th>\n",
       "      <td>F</td>\n",
       "      <td>African-American</td>\n",
       "      <td>Male</td>\n",
       "      <td>24</td>\n",
       "      <td>4</td>\n",
       "      <td>1.0</td>\n",
       "      <td>1</td>\n",
       "      <td>0</td>\n",
       "    </tr>\n",
       "    <tr>\n",
       "      <th>3</th>\n",
       "      <td>M</td>\n",
       "      <td>Other</td>\n",
       "      <td>Male</td>\n",
       "      <td>44</td>\n",
       "      <td>0</td>\n",
       "      <td>1.0</td>\n",
       "      <td>0</td>\n",
       "      <td>0</td>\n",
       "    </tr>\n",
       "    <tr>\n",
       "      <th>4</th>\n",
       "      <td>F</td>\n",
       "      <td>Caucasian</td>\n",
       "      <td>Male</td>\n",
       "      <td>41</td>\n",
       "      <td>14</td>\n",
       "      <td>6.0</td>\n",
       "      <td>1</td>\n",
       "      <td>0</td>\n",
       "    </tr>\n",
       "  </tbody>\n",
       "</table>\n",
       "</div>"
      ],
      "text/plain": [
       "  c_charge_degree              race   sex  age  priors_count  length_of_stay  \\\n",
       "0               F             Other  Male   69             0             1.0   \n",
       "1               F  African-American  Male   34             0            10.0   \n",
       "2               F  African-American  Male   24             4             1.0   \n",
       "3               M             Other  Male   44             0             1.0   \n",
       "4               F         Caucasian  Male   41            14             6.0   \n",
       "\n",
       "   class  predicted  \n",
       "0      0          0  \n",
       "1      1          0  \n",
       "2      1          0  \n",
       "3      0          0  \n",
       "4      1          0  "
      ]
     },
     "execution_count": 10,
     "metadata": {},
     "output_type": "execute_result"
    }
   ],
   "source": [
    "abbreviations = {\n",
    "    \"age_cat\": \"age\",\n",
    "    \"priors_count\": \"#prior\",\n",
    "    \"Greater than 45\": \">45\",\n",
    "    \"25 - 45\": \"25-45\",\n",
    "    \"African-American\": \"Afr-Am\",\n",
    "    \"c_charge_degree\": \"charge\",\n",
    "    \"Less than 25\": \"<25\",\n",
    "    \"=>\": \">\",\n",
    "    \"=<\": \"<\",\n",
    "    \"length_of_stay\": \"stay\",\n",
    "    \"Caucasian\": \"Cauc\",\n",
    "}\n",
    "\n",
    "dataset_name = \"compas\"\n",
    "risk_class_type = True\n",
    "\n",
    "from import_datasets import import_process_compas\n",
    "\n",
    "dfI, class_map = import_process_compas(\n",
    "    risk_class=risk_class_type, continuous_col=True\n",
    ")\n",
    "dfI.reset_index(drop=True, inplace=True)\n",
    "\n",
    "dfI[\"predicted\"] = dfI[\"predicted\"].replace({\"Medium-Low\": 0, \"High\": 1})\n",
    "true_class_name, pred_class_name = \"class\", \"predicted\"\n",
    "class_and_pred_names = [true_class_name, pred_class_name]\n",
    "attributes = list(dfI.columns.drop(class_and_pred_names))\n",
    "\n",
    "dfI = dfI[attributes + class_and_pred_names]\n",
    "dfI.head()"
   ]
  },
  {
   "cell_type": "markdown",
   "metadata": {},
   "source": [
    "# Domain expert discretization"
   ]
  },
  {
   "cell_type": "markdown",
   "metadata": {},
   "source": [
    "As in NIPS article:\n",
    "https://github.com/fair-preprocessing/nips2017/blob/master/compas/code/Generate_Compas_Data.ipynb"
   ]
  },
  {
   "cell_type": "markdown",
   "metadata": {
    "ExecuteTime": {
     "end_time": "2022-01-14T19:26:22.246705Z",
     "start_time": "2022-01-14T19:26:22.223783Z"
    }
   },
   "source": [
    "## Sup divergence 0.05"
   ]
  },
  {
   "cell_type": "code",
   "execution_count": 11,
   "metadata": {
    "ExecuteTime": {
     "end_time": "2022-01-22T08:43:07.468898Z",
     "start_time": "2022-01-22T08:43:07.443131Z"
    }
   },
   "outputs": [],
   "source": [
    "min_sup_divergence_05 = 0.05"
   ]
  },
  {
   "cell_type": "code",
   "execution_count": 12,
   "metadata": {
    "ExecuteTime": {
     "end_time": "2022-01-22T08:43:08.352494Z",
     "start_time": "2022-01-22T08:43:07.472083Z"
    }
   },
   "outputs": [
    {
     "data": {
      "text/html": [
       "<div>\n",
       "<style scoped>\n",
       "    .dataframe tbody tr th:only-of-type {\n",
       "        vertical-align: middle;\n",
       "    }\n",
       "\n",
       "    .dataframe tbody tr th {\n",
       "        vertical-align: top;\n",
       "    }\n",
       "\n",
       "    .dataframe thead th {\n",
       "        text-align: right;\n",
       "    }\n",
       "</style>\n",
       "<table border=\"1\" class=\"dataframe\">\n",
       "  <thead>\n",
       "    <tr style=\"text-align: right;\">\n",
       "      <th></th>\n",
       "      <th>itemsets</th>\n",
       "      <th>sup</th>\n",
       "      <th>tn</th>\n",
       "      <th>fp</th>\n",
       "      <th>fn</th>\n",
       "      <th>tp</th>\n",
       "      <th>Δ_fpr</th>\n",
       "      <th>t_fp</th>\n",
       "    </tr>\n",
       "  </thead>\n",
       "  <tbody>\n",
       "    <tr>\n",
       "      <th>113</th>\n",
       "      <td>age=[25-45], #prior&gt;3, race=Afr-Am, sex=Male</td>\n",
       "      <td>0.13</td>\n",
       "      <td>155</td>\n",
       "      <td>69</td>\n",
       "      <td>268</td>\n",
       "      <td>302</td>\n",
       "      <td>0.220</td>\n",
       "      <td>7.1</td>\n",
       "    </tr>\n",
       "    <tr>\n",
       "      <th>166</th>\n",
       "      <td>age=[25-45], charge=F, #prior&gt;3, race=Afr-Am, sex=Male</td>\n",
       "      <td>0.10</td>\n",
       "      <td>109</td>\n",
       "      <td>48</td>\n",
       "      <td>194</td>\n",
       "      <td>237</td>\n",
       "      <td>0.217</td>\n",
       "      <td>6.0</td>\n",
       "    </tr>\n",
       "    <tr>\n",
       "      <th>255</th>\n",
       "      <td>stay=1w-3M, #prior&gt;3, sex=Male</td>\n",
       "      <td>0.06</td>\n",
       "      <td>73</td>\n",
       "      <td>32</td>\n",
       "      <td>149</td>\n",
       "      <td>135</td>\n",
       "      <td>0.216</td>\n",
       "      <td>4.9</td>\n",
       "    </tr>\n",
       "  </tbody>\n",
       "</table>\n",
       "</div>"
      ],
      "text/plain": [
       "                                                   itemsets   sup   tn  fp  \\\n",
       "113            age=[25-45], #prior>3, race=Afr-Am, sex=Male  0.13  155  69   \n",
       "166  age=[25-45], charge=F, #prior>3, race=Afr-Am, sex=Male  0.10  109  48   \n",
       "255                          stay=1w-3M, #prior>3, sex=Male  0.06   73  32   \n",
       "\n",
       "      fn   tp  Δ_fpr  t_fp  \n",
       "113  268  302  0.220   7.1  \n",
       "166  194  237  0.217   6.0  \n",
       "255  149  135  0.216   4.9  "
      ]
     },
     "metadata": {},
     "output_type": "display_data"
    }
   ],
   "source": [
    "from import_datasets import discretize\n",
    "\n",
    "dfI_discr = discretize(dfI, dataset_name=dataset_name)\n",
    "\n",
    "# ### Extract divergence\n",
    "\n",
    "from divexplorer_generalized.FP_DivergenceExplorer import FP_DivergenceExplorer\n",
    "\n",
    "fp_diver = FP_DivergenceExplorer(\n",
    "    dfI_discr, true_class_name=true_class_name, predicted_class_name=pred_class_name\n",
    ")\n",
    "\n",
    "\n",
    "FP_fm = fp_diver.getFrequentPatternDivergence(\n",
    "    min_support=min_sup_divergence_05, metrics=[\"d_fpr\", \"d_fnr\", \"d_error\"]\n",
    ")\n",
    "\n",
    "display(printable_top_k(\n",
    "    FP_fm, metric, COL_info_detail, K=K, abbreviations=abbreviations))"
   ]
  },
  {
   "cell_type": "code",
   "execution_count": 13,
   "metadata": {
    "ExecuteTime": {
     "end_time": "2022-01-22T08:43:08.401698Z",
     "start_time": "2022-01-22T08:43:08.355085Z"
    }
   },
   "outputs": [],
   "source": [
    "from divexplorer_generalized.FP_Divergence import FP_Divergence\n",
    "\n",
    "\n",
    "out[\"default\"] = printable_top_k(\n",
    "    FP_fm, metric, COL_info, K=K, abbreviations=abbreviations\n",
    ")"
   ]
  },
  {
   "cell_type": "code",
   "execution_count": 14,
   "metadata": {
    "ExecuteTime": {
     "end_time": "2022-01-22T08:43:08.425074Z",
     "start_time": "2022-01-22T08:43:08.404223Z"
    }
   },
   "outputs": [
    {
     "data": {
      "text/html": [
       "<div>\n",
       "<style scoped>\n",
       "    .dataframe tbody tr th:only-of-type {\n",
       "        vertical-align: middle;\n",
       "    }\n",
       "\n",
       "    .dataframe tbody tr th {\n",
       "        vertical-align: top;\n",
       "    }\n",
       "\n",
       "    .dataframe thead th {\n",
       "        text-align: right;\n",
       "    }\n",
       "</style>\n",
       "<table border=\"1\" class=\"dataframe\">\n",
       "  <thead>\n",
       "    <tr style=\"text-align: right;\">\n",
       "      <th></th>\n",
       "      <th>itemsets</th>\n",
       "      <th>sup</th>\n",
       "      <th>Δ_fpr</th>\n",
       "      <th>t_fp</th>\n",
       "    </tr>\n",
       "  </thead>\n",
       "  <tbody>\n",
       "    <tr>\n",
       "      <th>113</th>\n",
       "      <td>age=[25-45], #prior&gt;3, race=Afr-Am, sex=Male</td>\n",
       "      <td>0.13</td>\n",
       "      <td>0.220</td>\n",
       "      <td>7.1</td>\n",
       "    </tr>\n",
       "    <tr>\n",
       "      <th>166</th>\n",
       "      <td>age=[25-45], charge=F, #prior&gt;3, race=Afr-Am, sex=Male</td>\n",
       "      <td>0.10</td>\n",
       "      <td>0.217</td>\n",
       "      <td>6.0</td>\n",
       "    </tr>\n",
       "    <tr>\n",
       "      <th>255</th>\n",
       "      <td>stay=1w-3M, #prior&gt;3, sex=Male</td>\n",
       "      <td>0.06</td>\n",
       "      <td>0.216</td>\n",
       "      <td>4.9</td>\n",
       "    </tr>\n",
       "  </tbody>\n",
       "</table>\n",
       "</div>"
      ],
      "text/plain": [
       "                                                   itemsets   sup  Δ_fpr  t_fp\n",
       "113            age=[25-45], #prior>3, race=Afr-Am, sex=Male  0.13  0.220   7.1\n",
       "166  age=[25-45], charge=F, #prior>3, race=Afr-Am, sex=Male  0.10  0.217   6.0\n",
       "255                          stay=1w-3M, #prior>3, sex=Male  0.06  0.216   4.9"
      ]
     },
     "execution_count": 14,
     "metadata": {},
     "output_type": "execute_result"
    }
   ],
   "source": [
    "out[\"default\"]"
   ]
  },
  {
   "cell_type": "code",
   "execution_count": 15,
   "metadata": {
    "ExecuteTime": {
     "end_time": "2022-01-22T08:43:08.442804Z",
     "start_time": "2022-01-22T08:43:08.427148Z"
    }
   },
   "outputs": [],
   "source": [
    "out_support.setdefault(min_sup_divergence_05, {})[\"default\"] = out[\"default\"].head(1)"
   ]
  },
  {
   "cell_type": "markdown",
   "metadata": {
    "ExecuteTime": {
     "end_time": "2022-01-14T19:26:22.246705Z",
     "start_time": "2022-01-14T19:26:22.223783Z"
    }
   },
   "source": [
    "## Sup divergence 0.025"
   ]
  },
  {
   "cell_type": "code",
   "execution_count": 16,
   "metadata": {
    "ExecuteTime": {
     "end_time": "2022-01-22T08:43:08.458687Z",
     "start_time": "2022-01-22T08:43:08.444814Z"
    }
   },
   "outputs": [],
   "source": [
    "min_sup_divergence_025 = 0.025"
   ]
  },
  {
   "cell_type": "code",
   "execution_count": 17,
   "metadata": {
    "ExecuteTime": {
     "end_time": "2022-01-22T08:43:08.798371Z",
     "start_time": "2022-01-22T08:43:08.460782Z"
    }
   },
   "outputs": [
    {
     "data": {
      "text/html": [
       "<div>\n",
       "<style scoped>\n",
       "    .dataframe tbody tr th:only-of-type {\n",
       "        vertical-align: middle;\n",
       "    }\n",
       "\n",
       "    .dataframe tbody tr th {\n",
       "        vertical-align: top;\n",
       "    }\n",
       "\n",
       "    .dataframe thead th {\n",
       "        text-align: right;\n",
       "    }\n",
       "</style>\n",
       "<table border=\"1\" class=\"dataframe\">\n",
       "  <thead>\n",
       "    <tr style=\"text-align: right;\">\n",
       "      <th></th>\n",
       "      <th>itemsets</th>\n",
       "      <th>sup</th>\n",
       "      <th>tn</th>\n",
       "      <th>fp</th>\n",
       "      <th>fn</th>\n",
       "      <th>tp</th>\n",
       "      <th>Δ_fpr</th>\n",
       "      <th>t_fp</th>\n",
       "    </tr>\n",
       "  </thead>\n",
       "  <tbody>\n",
       "    <tr>\n",
       "      <th>473</th>\n",
       "      <td>age=[25-45], stay=1w-3M, #prior&gt;3, race=Afr-Am, sex=Male</td>\n",
       "      <td>0.03</td>\n",
       "      <td>31</td>\n",
       "      <td>19</td>\n",
       "      <td>69</td>\n",
       "      <td>80</td>\n",
       "      <td>0.292</td>\n",
       "      <td>4.4</td>\n",
       "    </tr>\n",
       "    <tr>\n",
       "      <th>521</th>\n",
       "      <td>age&lt;25, charge=F, stay=1w-3M</td>\n",
       "      <td>0.03</td>\n",
       "      <td>37</td>\n",
       "      <td>22</td>\n",
       "      <td>59</td>\n",
       "      <td>53</td>\n",
       "      <td>0.285</td>\n",
       "      <td>4.7</td>\n",
       "    </tr>\n",
       "    <tr>\n",
       "      <th>433</th>\n",
       "      <td>age=[25-45], stay=1w-3M, #prior&gt;3, race=Afr-Am</td>\n",
       "      <td>0.04</td>\n",
       "      <td>33</td>\n",
       "      <td>19</td>\n",
       "      <td>77</td>\n",
       "      <td>90</td>\n",
       "      <td>0.277</td>\n",
       "      <td>4.3</td>\n",
       "    </tr>\n",
       "  </tbody>\n",
       "</table>\n",
       "</div>"
      ],
      "text/plain": [
       "                                                     itemsets   sup  tn  fp  \\\n",
       "473  age=[25-45], stay=1w-3M, #prior>3, race=Afr-Am, sex=Male  0.03  31  19   \n",
       "521                              age<25, charge=F, stay=1w-3M  0.03  37  22   \n",
       "433            age=[25-45], stay=1w-3M, #prior>3, race=Afr-Am  0.04  33  19   \n",
       "\n",
       "     fn  tp  Δ_fpr  t_fp  \n",
       "473  69  80  0.292   4.4  \n",
       "521  59  53  0.285   4.7  \n",
       "433  77  90  0.277   4.3  "
      ]
     },
     "metadata": {},
     "output_type": "display_data"
    }
   ],
   "source": [
    "from import_datasets import discretize\n",
    "\n",
    "dfI_discr = discretize(dfI, dataset_name=dataset_name)\n",
    "\n",
    "# ### Extract divergence\n",
    "\n",
    "from divexplorer_generalized.FP_DivergenceExplorer import FP_DivergenceExplorer\n",
    "\n",
    "fp_diver = FP_DivergenceExplorer(\n",
    "    dfI_discr, true_class_name=true_class_name, predicted_class_name=pred_class_name\n",
    ")\n",
    "\n",
    "\n",
    "FP_fm = fp_diver.getFrequentPatternDivergence(\n",
    "    min_support=min_sup_divergence_025, metrics=[\"d_fpr\", \"d_fnr\", \"d_error\"]\n",
    ")\n",
    "\n",
    "display(printable_top_k(\n",
    "    FP_fm, metric, COL_info_detail, K=K, abbreviations=abbreviations))"
   ]
  },
  {
   "cell_type": "code",
   "execution_count": 18,
   "metadata": {
    "ExecuteTime": {
     "end_time": "2022-01-22T08:43:08.875412Z",
     "start_time": "2022-01-22T08:43:08.800416Z"
    }
   },
   "outputs": [],
   "source": [
    "from divexplorer_generalized.FP_Divergence import FP_Divergence\n",
    "\n",
    "\n",
    "out[\"default\"] = printable_top_k(\n",
    "    FP_fm, metric, COL_info, K=K, abbreviations=abbreviations\n",
    ")"
   ]
  },
  {
   "cell_type": "code",
   "execution_count": 19,
   "metadata": {
    "ExecuteTime": {
     "end_time": "2022-01-22T08:43:08.897500Z",
     "start_time": "2022-01-22T08:43:08.877187Z"
    }
   },
   "outputs": [
    {
     "data": {
      "text/html": [
       "<div>\n",
       "<style scoped>\n",
       "    .dataframe tbody tr th:only-of-type {\n",
       "        vertical-align: middle;\n",
       "    }\n",
       "\n",
       "    .dataframe tbody tr th {\n",
       "        vertical-align: top;\n",
       "    }\n",
       "\n",
       "    .dataframe thead th {\n",
       "        text-align: right;\n",
       "    }\n",
       "</style>\n",
       "<table border=\"1\" class=\"dataframe\">\n",
       "  <thead>\n",
       "    <tr style=\"text-align: right;\">\n",
       "      <th></th>\n",
       "      <th>itemsets</th>\n",
       "      <th>sup</th>\n",
       "      <th>Δ_fpr</th>\n",
       "      <th>t_fp</th>\n",
       "    </tr>\n",
       "  </thead>\n",
       "  <tbody>\n",
       "    <tr>\n",
       "      <th>473</th>\n",
       "      <td>age=[25-45], stay=1w-3M, #prior&gt;3, race=Afr-Am, sex=Male</td>\n",
       "      <td>0.03</td>\n",
       "      <td>0.292</td>\n",
       "      <td>4.4</td>\n",
       "    </tr>\n",
       "    <tr>\n",
       "      <th>521</th>\n",
       "      <td>age&lt;25, charge=F, stay=1w-3M</td>\n",
       "      <td>0.03</td>\n",
       "      <td>0.285</td>\n",
       "      <td>4.7</td>\n",
       "    </tr>\n",
       "    <tr>\n",
       "      <th>433</th>\n",
       "      <td>age=[25-45], stay=1w-3M, #prior&gt;3, race=Afr-Am</td>\n",
       "      <td>0.04</td>\n",
       "      <td>0.277</td>\n",
       "      <td>4.3</td>\n",
       "    </tr>\n",
       "  </tbody>\n",
       "</table>\n",
       "</div>"
      ],
      "text/plain": [
       "                                                     itemsets   sup  Δ_fpr  \\\n",
       "473  age=[25-45], stay=1w-3M, #prior>3, race=Afr-Am, sex=Male  0.03  0.292   \n",
       "521                              age<25, charge=F, stay=1w-3M  0.03  0.285   \n",
       "433            age=[25-45], stay=1w-3M, #prior>3, race=Afr-Am  0.04  0.277   \n",
       "\n",
       "     t_fp  \n",
       "473   4.4  \n",
       "521   4.7  \n",
       "433   4.3  "
      ]
     },
     "execution_count": 19,
     "metadata": {},
     "output_type": "execute_result"
    }
   ],
   "source": [
    "out[\"default\"]"
   ]
  },
  {
   "cell_type": "code",
   "execution_count": 20,
   "metadata": {
    "ExecuteTime": {
     "end_time": "2022-01-22T08:43:08.912247Z",
     "start_time": "2022-01-22T08:43:08.899269Z"
    }
   },
   "outputs": [],
   "source": [
    "out_support.setdefault(min_sup_divergence_025, {})[\"default\"] = out[\"default\"].head(1)"
   ]
  },
  {
   "cell_type": "markdown",
   "metadata": {
    "ExecuteTime": {
     "end_time": "2022-01-14T19:26:22.246705Z",
     "start_time": "2022-01-14T19:26:22.223783Z"
    }
   },
   "source": [
    "## Sup divergence 0.01"
   ]
  },
  {
   "cell_type": "code",
   "execution_count": 21,
   "metadata": {
    "ExecuteTime": {
     "end_time": "2022-01-22T08:43:08.931464Z",
     "start_time": "2022-01-22T08:43:08.913925Z"
    }
   },
   "outputs": [],
   "source": [
    "min_sup_divergence_01 = 0.01"
   ]
  },
  {
   "cell_type": "code",
   "execution_count": 22,
   "metadata": {
    "ExecuteTime": {
     "end_time": "2022-01-22T08:43:09.269247Z",
     "start_time": "2022-01-22T08:43:08.933391Z"
    }
   },
   "outputs": [
    {
     "data": {
      "text/html": [
       "<div>\n",
       "<style scoped>\n",
       "    .dataframe tbody tr th:only-of-type {\n",
       "        vertical-align: middle;\n",
       "    }\n",
       "\n",
       "    .dataframe tbody tr th {\n",
       "        vertical-align: top;\n",
       "    }\n",
       "\n",
       "    .dataframe thead th {\n",
       "        text-align: right;\n",
       "    }\n",
       "</style>\n",
       "<table border=\"1\" class=\"dataframe\">\n",
       "  <thead>\n",
       "    <tr style=\"text-align: right;\">\n",
       "      <th></th>\n",
       "      <th>itemsets</th>\n",
       "      <th>sup</th>\n",
       "      <th>tn</th>\n",
       "      <th>fp</th>\n",
       "      <th>fn</th>\n",
       "      <th>tp</th>\n",
       "      <th>Δ_fpr</th>\n",
       "      <th>t_fp</th>\n",
       "    </tr>\n",
       "  </thead>\n",
       "  <tbody>\n",
       "    <tr>\n",
       "      <th>710</th>\n",
       "      <td>age&lt;25, charge=F, #prior&gt;3</td>\n",
       "      <td>0.02</td>\n",
       "      <td>5</td>\n",
       "      <td>12</td>\n",
       "      <td>30</td>\n",
       "      <td>59</td>\n",
       "      <td>0.618</td>\n",
       "      <td>5.7</td>\n",
       "    </tr>\n",
       "    <tr>\n",
       "      <th>754</th>\n",
       "      <td>age&lt;25, charge=F, #prior&gt;3, sex=Male</td>\n",
       "      <td>0.02</td>\n",
       "      <td>5</td>\n",
       "      <td>11</td>\n",
       "      <td>28</td>\n",
       "      <td>54</td>\n",
       "      <td>0.599</td>\n",
       "      <td>5.3</td>\n",
       "    </tr>\n",
       "    <tr>\n",
       "      <th>656</th>\n",
       "      <td>age&lt;25, #prior&gt;3, sex=Male</td>\n",
       "      <td>0.02</td>\n",
       "      <td>7</td>\n",
       "      <td>15</td>\n",
       "      <td>35</td>\n",
       "      <td>63</td>\n",
       "      <td>0.594</td>\n",
       "      <td>6.1</td>\n",
       "    </tr>\n",
       "  </tbody>\n",
       "</table>\n",
       "</div>"
      ],
      "text/plain": [
       "                                 itemsets   sup  tn  fp  fn  tp  Δ_fpr  t_fp\n",
       "710            age<25, charge=F, #prior>3  0.02   5  12  30  59  0.618   5.7\n",
       "754  age<25, charge=F, #prior>3, sex=Male  0.02   5  11  28  54  0.599   5.3\n",
       "656            age<25, #prior>3, sex=Male  0.02   7  15  35  63  0.594   6.1"
      ]
     },
     "metadata": {},
     "output_type": "display_data"
    }
   ],
   "source": [
    "from import_datasets import discretize\n",
    "\n",
    "dfI_discr = discretize(dfI, dataset_name=dataset_name)\n",
    "\n",
    "# ### Extract divergence\n",
    "\n",
    "from divexplorer_generalized.FP_DivergenceExplorer import FP_DivergenceExplorer\n",
    "\n",
    "fp_diver = FP_DivergenceExplorer(\n",
    "    dfI_discr, true_class_name=true_class_name, predicted_class_name=pred_class_name\n",
    ")\n",
    "\n",
    "\n",
    "FP_fm = fp_diver.getFrequentPatternDivergence(\n",
    "    min_support=min_sup_divergence_01, metrics=[\"d_fpr\", \"d_fnr\", \"d_error\"]\n",
    ")\n",
    "\n",
    "display(printable_top_k(\n",
    "    FP_fm, metric, COL_info_detail, K=K, abbreviations=abbreviations))"
   ]
  },
  {
   "cell_type": "code",
   "execution_count": 23,
   "metadata": {
    "ExecuteTime": {
     "end_time": "2022-01-22T08:43:09.390817Z",
     "start_time": "2022-01-22T08:43:09.271877Z"
    }
   },
   "outputs": [],
   "source": [
    "from divexplorer_generalized.FP_Divergence import FP_Divergence\n",
    "\n",
    "\n",
    "FP_fm_print = printable_top_k(\n",
    "    FP_fm, metric, COL_info, K=K, abbreviations=abbreviations\n",
    ")"
   ]
  },
  {
   "cell_type": "code",
   "execution_count": 24,
   "metadata": {
    "ExecuteTime": {
     "end_time": "2022-01-22T08:43:09.406293Z",
     "start_time": "2022-01-22T08:43:09.392741Z"
    }
   },
   "outputs": [],
   "source": [
    "out_support.setdefault(min_sup_divergence_01, {})[\"default\"] = FP_fm_print.head(1)"
   ]
  },
  {
   "cell_type": "code",
   "execution_count": 25,
   "metadata": {
    "ExecuteTime": {
     "end_time": "2022-01-22T08:43:09.433443Z",
     "start_time": "2022-01-22T08:43:09.408073Z"
    }
   },
   "outputs": [
    {
     "data": {
      "text/html": [
       "<div>\n",
       "<style scoped>\n",
       "    .dataframe tbody tr th:only-of-type {\n",
       "        vertical-align: middle;\n",
       "    }\n",
       "\n",
       "    .dataframe tbody tr th {\n",
       "        vertical-align: top;\n",
       "    }\n",
       "\n",
       "    .dataframe thead th {\n",
       "        text-align: right;\n",
       "    }\n",
       "</style>\n",
       "<table border=\"1\" class=\"dataframe\">\n",
       "  <thead>\n",
       "    <tr style=\"text-align: right;\">\n",
       "      <th></th>\n",
       "      <th>itemsets</th>\n",
       "      <th>sup</th>\n",
       "      <th>Δ_fpr</th>\n",
       "      <th>t_fp</th>\n",
       "    </tr>\n",
       "  </thead>\n",
       "  <tbody>\n",
       "    <tr>\n",
       "      <th>710</th>\n",
       "      <td>age&lt;25, charge=F, #prior&gt;3</td>\n",
       "      <td>0.02</td>\n",
       "      <td>0.618</td>\n",
       "      <td>5.7</td>\n",
       "    </tr>\n",
       "    <tr>\n",
       "      <th>754</th>\n",
       "      <td>age&lt;25, charge=F, #prior&gt;3, sex=Male</td>\n",
       "      <td>0.02</td>\n",
       "      <td>0.599</td>\n",
       "      <td>5.3</td>\n",
       "    </tr>\n",
       "    <tr>\n",
       "      <th>656</th>\n",
       "      <td>age&lt;25, #prior&gt;3, sex=Male</td>\n",
       "      <td>0.02</td>\n",
       "      <td>0.594</td>\n",
       "      <td>6.1</td>\n",
       "    </tr>\n",
       "  </tbody>\n",
       "</table>\n",
       "</div>"
      ],
      "text/plain": [
       "                                 itemsets   sup  Δ_fpr  t_fp\n",
       "710            age<25, charge=F, #prior>3  0.02  0.618   5.7\n",
       "754  age<25, charge=F, #prior>3, sex=Male  0.02  0.599   5.3\n",
       "656            age<25, #prior>3, sex=Male  0.02  0.594   6.1"
      ]
     },
     "execution_count": 25,
     "metadata": {},
     "output_type": "execute_result"
    }
   ],
   "source": [
    "FP_fm_print"
   ]
  },
  {
   "cell_type": "markdown",
   "metadata": {},
   "source": [
    "# Tree divergence - FPR"
   ]
  },
  {
   "cell_type": "code",
   "execution_count": 26,
   "metadata": {
    "ExecuteTime": {
     "end_time": "2022-01-22T08:43:09.448385Z",
     "start_time": "2022-01-22T08:43:09.435884Z"
    }
   },
   "outputs": [],
   "source": [
    "min_support_tree=0.1"
   ]
  },
  {
   "cell_type": "code",
   "execution_count": 27,
   "metadata": {
    "ExecuteTime": {
     "end_time": "2022-01-22T08:43:09.466928Z",
     "start_time": "2022-01-22T08:43:09.453680Z"
    }
   },
   "outputs": [],
   "source": [
    "show_fig = True"
   ]
  },
  {
   "cell_type": "code",
   "execution_count": 28,
   "metadata": {
    "ExecuteTime": {
     "end_time": "2022-01-22T08:43:09.488526Z",
     "start_time": "2022-01-22T08:43:09.468955Z"
    }
   },
   "outputs": [],
   "source": [
    "import os\n",
    "\n",
    "\n",
    "tree_outputdir = os.path.join(\".\", \"output\", \"figures\", \"compas\", \"tree\")\n",
    "if saveFig:\n",
    "    from pathlib import Path\n",
    "\n",
    "    Path(tree_outputdir).mkdir(parents=True, exist_ok=True)"
   ]
  },
  {
   "cell_type": "code",
   "execution_count": 29,
   "metadata": {
    "ExecuteTime": {
     "end_time": "2022-01-22T08:43:09.508568Z",
     "start_time": "2022-01-22T08:43:09.491159Z"
    }
   },
   "outputs": [],
   "source": [
    "cols_c = [\"class\", \"predicted\"]\n",
    "continuous_attributes = [\"priors_count\", \"length_of_stay\", \"age\"]"
   ]
  },
  {
   "cell_type": "markdown",
   "metadata": {},
   "source": [
    "## Tree divergence - weighted divergence"
   ]
  },
  {
   "cell_type": "code",
   "execution_count": 30,
   "metadata": {
    "ExecuteTime": {
     "end_time": "2022-01-22T08:43:09.529281Z",
     "start_time": "2022-01-22T08:43:09.510751Z"
    }
   },
   "outputs": [],
   "source": [
    "type_criterion=\"weighted_sum_abs_reference_s\"\n",
    "\n",
    "type_experiment = \"one_at_time\""
   ]
  },
  {
   "cell_type": "code",
   "execution_count": 31,
   "metadata": {
    "ExecuteTime": {
     "end_time": "2022-01-22T08:43:09.551507Z",
     "start_time": "2022-01-22T08:43:09.531694Z"
    }
   },
   "outputs": [],
   "source": [
    "df_analyze = dfI.copy()"
   ]
  },
  {
   "cell_type": "code",
   "execution_count": 32,
   "metadata": {
    "ExecuteTime": {
     "end_time": "2022-01-22T08:43:09.694041Z",
     "start_time": "2022-01-22T08:43:09.553786Z"
    }
   },
   "outputs": [],
   "source": [
    "from tree_discretization import TreeDiscretization\n",
    "\n",
    "tree_discr = TreeDiscretization()\n",
    "\n",
    "# ## Extract tree\n",
    "generalization_dict, discretizations = tree_discr.get_tree_discretization(\n",
    "    df_analyze,\n",
    "    type_splitting=type_experiment,\n",
    "    min_support=min_support_tree,\n",
    "    metric=metric,\n",
    "    class_map=class_map,\n",
    "    continuous_attributes=list(continuous_attributes),\n",
    "    class_and_pred_names=cols_c,\n",
    "    storeTree=True,\n",
    "    type_criterion=type_criterion,\n",
    "    # minimal_gain = 0.0015\n",
    ")"
   ]
  },
  {
   "cell_type": "code",
   "execution_count": 33,
   "metadata": {
    "ExecuteTime": {
     "end_time": "2022-01-22T08:43:09.717435Z",
     "start_time": "2022-01-22T08:43:09.696338Z"
    }
   },
   "outputs": [
    {
     "name": "stdout",
     "output_type": "stream",
     "text": [
      "priors_count\n",
      " root s=1.000 --> d_fpr=0.000\n",
      "         priors_count<=3 s=0.707 --> d_fpr=-0.029\n",
      "                 priors_count<=0 s=0.338 --> d_fpr=-0.040\n",
      "                 priors_count>0 s=0.369 --> d_fpr=-0.015\n",
      "                         priors_count<=1 s=0.183 --> d_fpr=-0.018\n",
      "                         priors_count>1 s=0.186 --> d_fpr=-0.012\n",
      "         priors_count>3 s=0.293 --> d_fpr=0.131\n",
      "                 priors_count<=8 s=0.179 --> d_fpr=0.065\n",
      "                 priors_count>8 s=0.115 --> d_fpr=0.295\n",
      "\n",
      "length_of_stay\n",
      " root s=1.000 --> d_fpr=0.000\n",
      "         length_of_stay<=2.0 s=0.663 --> d_fpr=-0.022\n",
      "                 length_of_stay<=0.0 s=0.113 --> d_fpr=-0.040\n",
      "                 length_of_stay>0.0 s=0.550 --> d_fpr=-0.018\n",
      "                         length_of_stay<=1.0 s=0.438 --> d_fpr=-0.021\n",
      "                         length_of_stay>1.0 s=0.113 --> d_fpr=-0.003\n",
      "         length_of_stay>2.0 s=0.337 --> d_fpr=0.061\n",
      "                 length_of_stay<=33.0 s=0.230 --> d_fpr=0.018\n",
      "                         length_of_stay<=7.0 s=0.110 --> d_fpr=0.028\n",
      "                         length_of_stay>7.0 s=0.120 --> d_fpr=0.009\n",
      "                 length_of_stay>33.0 s=0.107 --> d_fpr=0.169\n",
      "\n",
      "age\n",
      " root s=1.000 --> d_fpr=0.000\n",
      "         age<=32 s=0.542 --> d_fpr=0.054\n",
      "                 age<=24 s=0.218 --> d_fpr=0.089\n",
      "                 age>24 s=0.324 --> d_fpr=0.033\n",
      "                         age<=27 s=0.137 --> d_fpr=0.017\n",
      "                         age>27 s=0.187 --> d_fpr=0.043\n",
      "         age>32 s=0.458 --> d_fpr=-0.047\n",
      "                 age<=41 s=0.203 --> d_fpr=-0.028\n",
      "                 age>41 s=0.255 --> d_fpr=-0.060\n",
      "                         age<=50 s=0.126 --> d_fpr=-0.056\n",
      "                         age>50 s=0.129 --> d_fpr=-0.063\n",
      "\n"
     ]
    }
   ],
   "source": [
    "tree_discr.printDiscretizationTrees(round_v=3, show_condition=True)"
   ]
  },
  {
   "cell_type": "code",
   "execution_count": 34,
   "metadata": {
    "ExecuteTime": {
     "end_time": "2022-01-22T08:43:09.792638Z",
     "start_time": "2022-01-22T08:43:09.720714Z"
    }
   },
   "outputs": [
    {
     "data": {
      "image/svg+xml": [
       "<?xml version=\"1.0\" encoding=\"UTF-8\" standalone=\"no\"?>\n",
       "<!DOCTYPE svg PUBLIC \"-//W3C//DTD SVG 1.1//EN\"\n",
       " \"http://www.w3.org/Graphics/SVG/1.1/DTD/svg11.dtd\">\n",
       "<!-- Generated by graphviz version 2.40.1 (20161225.0304)\n",
       " -->\n",
       "<!-- Title: %3 Pages: 1 -->\n",
       "<svg width=\"609pt\" height=\"373pt\"\n",
       " viewBox=\"0.00 0.00 608.50 373.00\" xmlns=\"http://www.w3.org/2000/svg\" xmlns:xlink=\"http://www.w3.org/1999/xlink\">\n",
       "<g id=\"graph0\" class=\"graph\" transform=\"scale(1 1) rotate(0) translate(4 369)\">\n",
       "<title>%3</title>\n",
       "<polygon fill=\"#ffffff\" stroke=\"transparent\" points=\"-4,4 -4,-369 604.5,-369 604.5,4 -4,4\"/>\n",
       "<!-- 0 -->\n",
       "<g id=\"node1\" class=\"node\">\n",
       "<title>0</title>\n",
       "<polygon fill=\"none\" stroke=\"#000000\" points=\"323.5,-365 207.5,-365 207.5,-312 323.5,-312 323.5,-365\"/>\n",
       "<text text-anchor=\"middle\" x=\"265.5\" y=\"-349.8\" font-family=\"Times,serif\" font-size=\"14.00\" fill=\"#000000\">Condition: root</text>\n",
       "<text text-anchor=\"middle\" x=\"265.5\" y=\"-334.8\" font-family=\"Times,serif\" font-size=\"14.00\" fill=\"#000000\">sup=1.00</text>\n",
       "<text text-anchor=\"middle\" x=\"265.5\" y=\"-319.8\" font-family=\"Times,serif\" font-size=\"14.00\" fill=\"#000000\">fpr=0.088 Δ=0.00</text>\n",
       "</g>\n",
       "<!-- 1 -->\n",
       "<g id=\"node2\" class=\"node\">\n",
       "<title>1</title>\n",
       "<polygon fill=\"none\" stroke=\"#000000\" points=\"256,-276 137,-276 137,-208 256,-208 256,-276\"/>\n",
       "<text text-anchor=\"middle\" x=\"196.5\" y=\"-260.8\" font-family=\"Times,serif\" font-size=\"14.00\" fill=\"#000000\">Condition: age≤32</text>\n",
       "<text text-anchor=\"middle\" x=\"196.5\" y=\"-245.8\" font-family=\"Times,serif\" font-size=\"14.00\" fill=\"#000000\">sup=0.54</text>\n",
       "<text text-anchor=\"middle\" x=\"196.5\" y=\"-230.8\" font-family=\"Times,serif\" font-size=\"14.00\" fill=\"#000000\">age&lt;=32</text>\n",
       "<text text-anchor=\"middle\" x=\"196.5\" y=\"-215.8\" font-family=\"Times,serif\" font-size=\"14.00\" fill=\"#000000\">fpr=0.142 Δ=0.05</text>\n",
       "</g>\n",
       "<!-- 0&#45;&gt;1 -->\n",
       "<g id=\"edge1\" class=\"edge\">\n",
       "<title>0&#45;&gt;1</title>\n",
       "<path fill=\"none\" stroke=\"#000000\" d=\"M246.4628,-311.8755C240.4157,-303.4184 233.5696,-293.8437 226.9276,-284.5546\"/>\n",
       "<polygon fill=\"#000000\" stroke=\"#000000\" points=\"229.5775,-282.2431 220.9141,-276.1443 223.8834,-286.3145 229.5775,-282.2431\"/>\n",
       "</g>\n",
       "<!-- 6 -->\n",
       "<g id=\"node7\" class=\"node\">\n",
       "<title>6</title>\n",
       "<polygon fill=\"none\" stroke=\"#000000\" points=\"394.5,-276 274.5,-276 274.5,-208 394.5,-208 394.5,-276\"/>\n",
       "<text text-anchor=\"middle\" x=\"334.5\" y=\"-260.8\" font-family=\"Times,serif\" font-size=\"14.00\" fill=\"#000000\">Condition: age≥33</text>\n",
       "<text text-anchor=\"middle\" x=\"334.5\" y=\"-245.8\" font-family=\"Times,serif\" font-size=\"14.00\" fill=\"#000000\">sup=0.46</text>\n",
       "<text text-anchor=\"middle\" x=\"334.5\" y=\"-230.8\" font-family=\"Times,serif\" font-size=\"14.00\" fill=\"#000000\">age&gt;=33</text>\n",
       "<text text-anchor=\"middle\" x=\"334.5\" y=\"-215.8\" font-family=\"Times,serif\" font-size=\"14.00\" fill=\"#000000\">fpr=0.042 Δ=&#45;0.05</text>\n",
       "</g>\n",
       "<!-- 0&#45;&gt;6 -->\n",
       "<g id=\"edge6\" class=\"edge\">\n",
       "<title>0&#45;&gt;6</title>\n",
       "<path fill=\"none\" stroke=\"#000000\" d=\"M284.5372,-311.8755C290.5843,-303.4184 297.4304,-293.8437 304.0724,-284.5546\"/>\n",
       "<polygon fill=\"#000000\" stroke=\"#000000\" points=\"307.1166,-286.3145 310.0859,-276.1443 301.4225,-282.2431 307.1166,-286.3145\"/>\n",
       "</g>\n",
       "<!-- 2 -->\n",
       "<g id=\"node3\" class=\"node\">\n",
       "<title>2</title>\n",
       "<polygon fill=\"none\" stroke=\"#000000\" stroke-width=\"2\" points=\"119,-172 0,-172 0,-104 119,-104 119,-172\"/>\n",
       "<text text-anchor=\"middle\" x=\"59.5\" y=\"-156.8\" font-family=\"Times,serif\" font-size=\"14.00\" fill=\"#000000\">Condition: age≤24</text>\n",
       "<text text-anchor=\"middle\" x=\"59.5\" y=\"-141.8\" font-family=\"Times,serif\" font-size=\"14.00\" fill=\"#000000\">sup=0.22</text>\n",
       "<text text-anchor=\"middle\" x=\"59.5\" y=\"-126.8\" font-family=\"Times,serif\" font-size=\"14.00\" fill=\"#000000\">age&lt;=24</text>\n",
       "<text text-anchor=\"middle\" x=\"59.5\" y=\"-111.8\" font-family=\"Times,serif\" font-size=\"14.00\" fill=\"#000000\">fpr=0.177 Δ=0.09</text>\n",
       "</g>\n",
       "<!-- 1&#45;&gt;2 -->\n",
       "<g id=\"edge2\" class=\"edge\">\n",
       "<title>1&#45;&gt;2</title>\n",
       "<path fill=\"none\" stroke=\"#000000\" d=\"M151.6411,-207.9465C139.2222,-198.519 125.6217,-188.1946 112.7739,-178.4415\"/>\n",
       "<polygon fill=\"#000000\" stroke=\"#000000\" points=\"114.541,-175.3887 104.4597,-172.13 110.3085,-180.9642 114.541,-175.3887\"/>\n",
       "</g>\n",
       "<!-- 3 -->\n",
       "<g id=\"node4\" class=\"node\">\n",
       "<title>3</title>\n",
       "<polygon fill=\"none\" stroke=\"#000000\" points=\"256,-172 137,-172 137,-104 256,-104 256,-172\"/>\n",
       "<text text-anchor=\"middle\" x=\"196.5\" y=\"-156.8\" font-family=\"Times,serif\" font-size=\"14.00\" fill=\"#000000\">Condition: age≥25</text>\n",
       "<text text-anchor=\"middle\" x=\"196.5\" y=\"-141.8\" font-family=\"Times,serif\" font-size=\"14.00\" fill=\"#000000\">sup=0.32</text>\n",
       "<text text-anchor=\"middle\" x=\"196.5\" y=\"-126.8\" font-family=\"Times,serif\" font-size=\"14.00\" fill=\"#000000\">age=[25&#45;32]</text>\n",
       "<text text-anchor=\"middle\" x=\"196.5\" y=\"-111.8\" font-family=\"Times,serif\" font-size=\"14.00\" fill=\"#000000\">fpr=0.121 Δ=0.03</text>\n",
       "</g>\n",
       "<!-- 1&#45;&gt;3 -->\n",
       "<g id=\"edge3\" class=\"edge\">\n",
       "<title>1&#45;&gt;3</title>\n",
       "<path fill=\"none\" stroke=\"#000000\" d=\"M196.5,-207.9465C196.5,-199.776 196.5,-190.9318 196.5,-182.3697\"/>\n",
       "<polygon fill=\"#000000\" stroke=\"#000000\" points=\"200.0001,-182.13 196.5,-172.13 193.0001,-182.13 200.0001,-182.13\"/>\n",
       "</g>\n",
       "<!-- 4 -->\n",
       "<g id=\"node5\" class=\"node\">\n",
       "<title>4</title>\n",
       "<polygon fill=\"none\" stroke=\"#000000\" stroke-width=\"2\" points=\"187,-68 68,-68 68,0 187,0 187,-68\"/>\n",
       "<text text-anchor=\"middle\" x=\"127.5\" y=\"-52.8\" font-family=\"Times,serif\" font-size=\"14.00\" fill=\"#000000\">Condition: age≤27</text>\n",
       "<text text-anchor=\"middle\" x=\"127.5\" y=\"-37.8\" font-family=\"Times,serif\" font-size=\"14.00\" fill=\"#000000\">sup=0.14</text>\n",
       "<text text-anchor=\"middle\" x=\"127.5\" y=\"-22.8\" font-family=\"Times,serif\" font-size=\"14.00\" fill=\"#000000\">age=[25&#45;27]</text>\n",
       "<text text-anchor=\"middle\" x=\"127.5\" y=\"-7.8\" font-family=\"Times,serif\" font-size=\"14.00\" fill=\"#000000\">fpr=0.105 Δ=0.02</text>\n",
       "</g>\n",
       "<!-- 3&#45;&gt;4 -->\n",
       "<g id=\"edge4\" class=\"edge\">\n",
       "<title>3&#45;&gt;4</title>\n",
       "<path fill=\"none\" stroke=\"#000000\" d=\"M173.9068,-103.9465C168.1286,-95.2373 161.8425,-85.7626 155.8166,-76.6801\"/>\n",
       "<polygon fill=\"#000000\" stroke=\"#000000\" points=\"158.589,-74.5278 150.1439,-68.13 152.756,-78.3978 158.589,-74.5278\"/>\n",
       "</g>\n",
       "<!-- 5 -->\n",
       "<g id=\"node6\" class=\"node\">\n",
       "<title>5</title>\n",
       "<polygon fill=\"none\" stroke=\"#000000\" stroke-width=\"2\" points=\"324,-68 205,-68 205,0 324,0 324,-68\"/>\n",
       "<text text-anchor=\"middle\" x=\"264.5\" y=\"-52.8\" font-family=\"Times,serif\" font-size=\"14.00\" fill=\"#000000\">Condition: age≥28</text>\n",
       "<text text-anchor=\"middle\" x=\"264.5\" y=\"-37.8\" font-family=\"Times,serif\" font-size=\"14.00\" fill=\"#000000\">sup=0.19</text>\n",
       "<text text-anchor=\"middle\" x=\"264.5\" y=\"-22.8\" font-family=\"Times,serif\" font-size=\"14.00\" fill=\"#000000\">age=[28&#45;32]</text>\n",
       "<text text-anchor=\"middle\" x=\"264.5\" y=\"-7.8\" font-family=\"Times,serif\" font-size=\"14.00\" fill=\"#000000\">fpr=0.132 Δ=0.04</text>\n",
       "</g>\n",
       "<!-- 3&#45;&gt;5 -->\n",
       "<g id=\"edge5\" class=\"edge\">\n",
       "<title>3&#45;&gt;5</title>\n",
       "<path fill=\"none\" stroke=\"#000000\" d=\"M218.7657,-103.9465C224.4602,-95.2373 230.6552,-85.7626 236.5938,-76.6801\"/>\n",
       "<polygon fill=\"#000000\" stroke=\"#000000\" points=\"239.6411,-78.4151 242.1842,-68.13 233.7823,-74.5843 239.6411,-78.4151\"/>\n",
       "</g>\n",
       "<!-- 7 -->\n",
       "<g id=\"node8\" class=\"node\">\n",
       "<title>7</title>\n",
       "<polygon fill=\"none\" stroke=\"#000000\" stroke-width=\"2\" points=\"394.5,-172 274.5,-172 274.5,-104 394.5,-104 394.5,-172\"/>\n",
       "<text text-anchor=\"middle\" x=\"334.5\" y=\"-156.8\" font-family=\"Times,serif\" font-size=\"14.00\" fill=\"#000000\">Condition: age≤41</text>\n",
       "<text text-anchor=\"middle\" x=\"334.5\" y=\"-141.8\" font-family=\"Times,serif\" font-size=\"14.00\" fill=\"#000000\">sup=0.20</text>\n",
       "<text text-anchor=\"middle\" x=\"334.5\" y=\"-126.8\" font-family=\"Times,serif\" font-size=\"14.00\" fill=\"#000000\">age=[33&#45;41]</text>\n",
       "<text text-anchor=\"middle\" x=\"334.5\" y=\"-111.8\" font-family=\"Times,serif\" font-size=\"14.00\" fill=\"#000000\">fpr=0.060 Δ=&#45;0.03</text>\n",
       "</g>\n",
       "<!-- 6&#45;&gt;7 -->\n",
       "<g id=\"edge7\" class=\"edge\">\n",
       "<title>6&#45;&gt;7</title>\n",
       "<path fill=\"none\" stroke=\"#000000\" d=\"M334.5,-207.9465C334.5,-199.776 334.5,-190.9318 334.5,-182.3697\"/>\n",
       "<polygon fill=\"#000000\" stroke=\"#000000\" points=\"338.0001,-182.13 334.5,-172.13 331.0001,-182.13 338.0001,-182.13\"/>\n",
       "</g>\n",
       "<!-- 8 -->\n",
       "<g id=\"node9\" class=\"node\">\n",
       "<title>8</title>\n",
       "<polygon fill=\"none\" stroke=\"#000000\" points=\"532.5,-172 412.5,-172 412.5,-104 532.5,-104 532.5,-172\"/>\n",
       "<text text-anchor=\"middle\" x=\"472.5\" y=\"-156.8\" font-family=\"Times,serif\" font-size=\"14.00\" fill=\"#000000\">Condition: age≥42</text>\n",
       "<text text-anchor=\"middle\" x=\"472.5\" y=\"-141.8\" font-family=\"Times,serif\" font-size=\"14.00\" fill=\"#000000\">sup=0.26</text>\n",
       "<text text-anchor=\"middle\" x=\"472.5\" y=\"-126.8\" font-family=\"Times,serif\" font-size=\"14.00\" fill=\"#000000\">age&gt;=42</text>\n",
       "<text text-anchor=\"middle\" x=\"472.5\" y=\"-111.8\" font-family=\"Times,serif\" font-size=\"14.00\" fill=\"#000000\">fpr=0.028 Δ=&#45;0.06</text>\n",
       "</g>\n",
       "<!-- 6&#45;&gt;8 -->\n",
       "<g id=\"edge8\" class=\"edge\">\n",
       "<title>6&#45;&gt;8</title>\n",
       "<path fill=\"none\" stroke=\"#000000\" d=\"M379.6864,-207.9465C392.315,-198.4293 406.1567,-187.9978 419.2068,-178.163\"/>\n",
       "<polygon fill=\"#000000\" stroke=\"#000000\" points=\"421.3325,-180.9437 427.2121,-172.13 417.1195,-175.3534 421.3325,-180.9437\"/>\n",
       "</g>\n",
       "<!-- 9 -->\n",
       "<g id=\"node10\" class=\"node\">\n",
       "<title>9</title>\n",
       "<polygon fill=\"none\" stroke=\"#000000\" stroke-width=\"2\" points=\"462.5,-68 342.5,-68 342.5,0 462.5,0 462.5,-68\"/>\n",
       "<text text-anchor=\"middle\" x=\"402.5\" y=\"-52.8\" font-family=\"Times,serif\" font-size=\"14.00\" fill=\"#000000\">Condition: age≤50</text>\n",
       "<text text-anchor=\"middle\" x=\"402.5\" y=\"-37.8\" font-family=\"Times,serif\" font-size=\"14.00\" fill=\"#000000\">sup=0.13</text>\n",
       "<text text-anchor=\"middle\" x=\"402.5\" y=\"-22.8\" font-family=\"Times,serif\" font-size=\"14.00\" fill=\"#000000\">age=[42&#45;50]</text>\n",
       "<text text-anchor=\"middle\" x=\"402.5\" y=\"-7.8\" font-family=\"Times,serif\" font-size=\"14.00\" fill=\"#000000\">fpr=0.032 Δ=&#45;0.06</text>\n",
       "</g>\n",
       "<!-- 8&#45;&gt;9 -->\n",
       "<g id=\"edge9\" class=\"edge\">\n",
       "<title>8&#45;&gt;9</title>\n",
       "<path fill=\"none\" stroke=\"#000000\" d=\"M449.5794,-103.9465C443.7174,-95.2373 437.3402,-85.7626 431.227,-76.6801\"/>\n",
       "<polygon fill=\"#000000\" stroke=\"#000000\" points=\"433.9595,-74.4716 425.4721,-68.13 428.1524,-78.3802 433.9595,-74.4716\"/>\n",
       "</g>\n",
       "<!-- 10 -->\n",
       "<g id=\"node11\" class=\"node\">\n",
       "<title>10</title>\n",
       "<polygon fill=\"none\" stroke=\"#000000\" stroke-width=\"2\" points=\"600.5,-68 480.5,-68 480.5,0 600.5,0 600.5,-68\"/>\n",
       "<text text-anchor=\"middle\" x=\"540.5\" y=\"-52.8\" font-family=\"Times,serif\" font-size=\"14.00\" fill=\"#000000\">Condition: age≥51</text>\n",
       "<text text-anchor=\"middle\" x=\"540.5\" y=\"-37.8\" font-family=\"Times,serif\" font-size=\"14.00\" fill=\"#000000\">sup=0.13</text>\n",
       "<text text-anchor=\"middle\" x=\"540.5\" y=\"-22.8\" font-family=\"Times,serif\" font-size=\"14.00\" fill=\"#000000\">age&gt;=51</text>\n",
       "<text text-anchor=\"middle\" x=\"540.5\" y=\"-7.8\" font-family=\"Times,serif\" font-size=\"14.00\" fill=\"#000000\">fpr=0.025 Δ=&#45;0.06</text>\n",
       "</g>\n",
       "<!-- 8&#45;&gt;10 -->\n",
       "<g id=\"edge10\" class=\"edge\">\n",
       "<title>8&#45;&gt;10</title>\n",
       "<path fill=\"none\" stroke=\"#000000\" d=\"M494.7657,-103.9465C500.4602,-95.2373 506.6552,-85.7626 512.5938,-76.6801\"/>\n",
       "<polygon fill=\"#000000\" stroke=\"#000000\" points=\"515.6411,-78.4151 518.1842,-68.13 509.7823,-74.5843 515.6411,-78.4151\"/>\n",
       "</g>\n",
       "</g>\n",
       "</svg>\n"
      ],
      "text/plain": [
       "<graphviz.dot.Digraph at 0x7f6b39666eb8>"
      ]
     },
     "execution_count": 34,
     "metadata": {},
     "output_type": "execute_result"
    }
   ],
   "source": [
    "if type(tree_discr.trees) is dict:\n",
    "    dot = {}\n",
    "    for attribute in continuous_attributes:\n",
    "        dot[attribute] = tree_discr.trees[attribute].visualizeTreeDiGraph(all_info = False)\n",
    "dot[attribute]"
   ]
  },
  {
   "cell_type": "code",
   "execution_count": 35,
   "metadata": {
    "ExecuteTime": {
     "end_time": "2022-01-22T08:43:09.892088Z",
     "start_time": "2022-01-22T08:43:09.795252Z"
    }
   },
   "outputs": [
    {
     "name": "stdout",
     "output_type": "stream",
     "text": [
      "./output/figures/compas/tree/tree_priors_count_one_at_time_weighted_sum_abs_reference_s_sd_0.1_d_fpr\n"
     ]
    },
    {
     "data": {
      "image/svg+xml": [
       "<?xml version=\"1.0\" encoding=\"UTF-8\" standalone=\"no\"?>\n",
       "<!DOCTYPE svg PUBLIC \"-//W3C//DTD SVG 1.1//EN\"\n",
       " \"http://www.w3.org/Graphics/SVG/1.1/DTD/svg11.dtd\">\n",
       "<!-- Generated by graphviz version 2.40.1 (20161225.0304)\n",
       " -->\n",
       "<!-- Title: %3 Pages: 1 -->\n",
       "<svg width=\"334pt\" height=\"328pt\"\n",
       " viewBox=\"0.00 0.00 334.00 328.00\" xmlns=\"http://www.w3.org/2000/svg\" xmlns:xlink=\"http://www.w3.org/1999/xlink\">\n",
       "<g id=\"graph0\" class=\"graph\" transform=\"scale(1 1) rotate(0) translate(4 324)\">\n",
       "<title>%3</title>\n",
       "<polygon fill=\"#ffffff\" stroke=\"transparent\" points=\"-4,4 -4,-324 330,-324 330,4 -4,4\"/>\n",
       "<!-- 0 -->\n",
       "<g id=\"node1\" class=\"node\">\n",
       "<title>0</title>\n",
       "<polygon fill=\"none\" stroke=\"#000000\" points=\"197,-320 129,-320 129,-267 197,-267 197,-320\"/>\n",
       "<text text-anchor=\"middle\" x=\"163\" y=\"-304.8\" font-family=\"Times,serif\" font-size=\"14.00\" fill=\"#000000\">root</text>\n",
       "<text text-anchor=\"middle\" x=\"163\" y=\"-289.8\" font-family=\"Times,serif\" font-size=\"14.00\" fill=\"#000000\">sup=1.00</text>\n",
       "<text text-anchor=\"middle\" x=\"163\" y=\"-274.8\" font-family=\"Times,serif\" font-size=\"14.00\" fill=\"#000000\">fpr=0.09</text>\n",
       "</g>\n",
       "<!-- 1 -->\n",
       "<g id=\"node2\" class=\"node\">\n",
       "<title>1</title>\n",
       "<polygon fill=\"none\" stroke=\"#000000\" points=\"154,-231 86,-231 86,-178 154,-178 154,-231\"/>\n",
       "<text text-anchor=\"middle\" x=\"120\" y=\"-215.8\" font-family=\"Times,serif\" font-size=\"14.00\" fill=\"#000000\">#prior≤3</text>\n",
       "<text text-anchor=\"middle\" x=\"120\" y=\"-200.8\" font-family=\"Times,serif\" font-size=\"14.00\" fill=\"#000000\">sup=0.71</text>\n",
       "<text text-anchor=\"middle\" x=\"120\" y=\"-185.8\" font-family=\"Times,serif\" font-size=\"14.00\" fill=\"#000000\">Δ=&#45;0.03</text>\n",
       "</g>\n",
       "<!-- 0&#45;&gt;1 -->\n",
       "<g id=\"edge1\" class=\"edge\">\n",
       "<title>0&#45;&gt;1</title>\n",
       "<path fill=\"none\" stroke=\"#000000\" d=\"M150.0986,-266.7971C146.0593,-258.4367 141.5352,-249.073 137.2464,-240.1961\"/>\n",
       "<polygon fill=\"#000000\" stroke=\"#000000\" points=\"140.3941,-238.6656 132.8923,-231.1841 134.0912,-241.7109 140.3941,-238.6656\"/>\n",
       "</g>\n",
       "<!-- 6 -->\n",
       "<g id=\"node7\" class=\"node\">\n",
       "<title>6</title>\n",
       "<polygon fill=\"none\" stroke=\"#000000\" points=\"240,-231 172,-231 172,-178 240,-178 240,-231\"/>\n",
       "<text text-anchor=\"middle\" x=\"206\" y=\"-215.8\" font-family=\"Times,serif\" font-size=\"14.00\" fill=\"#000000\">#prior&gt;3</text>\n",
       "<text text-anchor=\"middle\" x=\"206\" y=\"-200.8\" font-family=\"Times,serif\" font-size=\"14.00\" fill=\"#000000\">sup=0.29</text>\n",
       "<text text-anchor=\"middle\" x=\"206\" y=\"-185.8\" font-family=\"Times,serif\" font-size=\"14.00\" fill=\"#000000\">Δ=0.13</text>\n",
       "</g>\n",
       "<!-- 0&#45;&gt;6 -->\n",
       "<g id=\"edge6\" class=\"edge\">\n",
       "<title>0&#45;&gt;6</title>\n",
       "<path fill=\"none\" stroke=\"#000000\" d=\"M175.9014,-266.7971C179.9407,-258.4367 184.4648,-249.073 188.7536,-240.1961\"/>\n",
       "<polygon fill=\"#000000\" stroke=\"#000000\" points=\"191.9088,-241.7109 193.1077,-231.1841 185.6059,-238.6656 191.9088,-241.7109\"/>\n",
       "</g>\n",
       "<!-- 2 -->\n",
       "<g id=\"node3\" class=\"node\">\n",
       "<title>2</title>\n",
       "<polygon fill=\"none\" stroke=\"#000000\" stroke-width=\"2\" points=\"68,-142 0,-142 0,-89 68,-89 68,-142\"/>\n",
       "<text text-anchor=\"middle\" x=\"34\" y=\"-126.8\" font-family=\"Times,serif\" font-size=\"14.00\" fill=\"#000000\">#prior≤0</text>\n",
       "<text text-anchor=\"middle\" x=\"34\" y=\"-111.8\" font-family=\"Times,serif\" font-size=\"14.00\" fill=\"#000000\">sup=0.34</text>\n",
       "<text text-anchor=\"middle\" x=\"34\" y=\"-96.8\" font-family=\"Times,serif\" font-size=\"14.00\" fill=\"#000000\">Δ=&#45;0.04</text>\n",
       "</g>\n",
       "<!-- 1&#45;&gt;2 -->\n",
       "<g id=\"edge2\" class=\"edge\">\n",
       "<title>1&#45;&gt;2</title>\n",
       "<path fill=\"none\" stroke=\"#000000\" d=\"M94.1972,-177.7971C85.6084,-168.9087 75.9237,-158.8862 66.8736,-149.5203\"/>\n",
       "<polygon fill=\"#000000\" stroke=\"#000000\" points=\"69.2504,-146.9432 59.7846,-142.1841 64.2165,-151.8074 69.2504,-146.9432\"/>\n",
       "</g>\n",
       "<!-- 3 -->\n",
       "<g id=\"node4\" class=\"node\">\n",
       "<title>3</title>\n",
       "<polygon fill=\"none\" stroke=\"#000000\" points=\"154,-142 86,-142 86,-89 154,-89 154,-142\"/>\n",
       "<text text-anchor=\"middle\" x=\"120\" y=\"-126.8\" font-family=\"Times,serif\" font-size=\"14.00\" fill=\"#000000\">#prior&gt;0</text>\n",
       "<text text-anchor=\"middle\" x=\"120\" y=\"-111.8\" font-family=\"Times,serif\" font-size=\"14.00\" fill=\"#000000\">sup=0.37</text>\n",
       "<text text-anchor=\"middle\" x=\"120\" y=\"-96.8\" font-family=\"Times,serif\" font-size=\"14.00\" fill=\"#000000\">Δ=&#45;0.02</text>\n",
       "</g>\n",
       "<!-- 1&#45;&gt;3 -->\n",
       "<g id=\"edge3\" class=\"edge\">\n",
       "<title>1&#45;&gt;3</title>\n",
       "<path fill=\"none\" stroke=\"#000000\" d=\"M120,-177.7971C120,-169.7887 120,-160.8597 120,-152.3198\"/>\n",
       "<polygon fill=\"#000000\" stroke=\"#000000\" points=\"123.5001,-152.1841 120,-142.1841 116.5001,-152.1841 123.5001,-152.1841\"/>\n",
       "</g>\n",
       "<!-- 4 -->\n",
       "<g id=\"node5\" class=\"node\">\n",
       "<title>4</title>\n",
       "<polygon fill=\"none\" stroke=\"#000000\" stroke-width=\"2\" points=\"111,-53 43,-53 43,0 111,0 111,-53\"/>\n",
       "<text text-anchor=\"middle\" x=\"77\" y=\"-37.8\" font-family=\"Times,serif\" font-size=\"14.00\" fill=\"#000000\">#prior≤1</text>\n",
       "<text text-anchor=\"middle\" x=\"77\" y=\"-22.8\" font-family=\"Times,serif\" font-size=\"14.00\" fill=\"#000000\">sup=0.18</text>\n",
       "<text text-anchor=\"middle\" x=\"77\" y=\"-7.8\" font-family=\"Times,serif\" font-size=\"14.00\" fill=\"#000000\">Δ=&#45;0.02</text>\n",
       "</g>\n",
       "<!-- 3&#45;&gt;4 -->\n",
       "<g id=\"edge4\" class=\"edge\">\n",
       "<title>3&#45;&gt;4</title>\n",
       "<path fill=\"none\" stroke=\"#000000\" d=\"M107.0986,-88.7971C103.0593,-80.4367 98.5352,-71.073 94.2464,-62.1961\"/>\n",
       "<polygon fill=\"#000000\" stroke=\"#000000\" points=\"97.3941,-60.6656 89.8923,-53.1841 91.0912,-63.7109 97.3941,-60.6656\"/>\n",
       "</g>\n",
       "<!-- 5 -->\n",
       "<g id=\"node6\" class=\"node\">\n",
       "<title>5</title>\n",
       "<polygon fill=\"none\" stroke=\"#000000\" stroke-width=\"2\" points=\"197,-53 129,-53 129,0 197,0 197,-53\"/>\n",
       "<text text-anchor=\"middle\" x=\"163\" y=\"-37.8\" font-family=\"Times,serif\" font-size=\"14.00\" fill=\"#000000\">#prior&gt;1</text>\n",
       "<text text-anchor=\"middle\" x=\"163\" y=\"-22.8\" font-family=\"Times,serif\" font-size=\"14.00\" fill=\"#000000\">sup=0.19</text>\n",
       "<text text-anchor=\"middle\" x=\"163\" y=\"-7.8\" font-family=\"Times,serif\" font-size=\"14.00\" fill=\"#000000\">Δ=&#45;0.01</text>\n",
       "</g>\n",
       "<!-- 3&#45;&gt;5 -->\n",
       "<g id=\"edge5\" class=\"edge\">\n",
       "<title>3&#45;&gt;5</title>\n",
       "<path fill=\"none\" stroke=\"#000000\" d=\"M132.9014,-88.7971C136.9407,-80.4367 141.4648,-71.073 145.7536,-62.1961\"/>\n",
       "<polygon fill=\"#000000\" stroke=\"#000000\" points=\"148.9088,-63.7109 150.1077,-53.1841 142.6059,-60.6656 148.9088,-63.7109\"/>\n",
       "</g>\n",
       "<!-- 7 -->\n",
       "<g id=\"node8\" class=\"node\">\n",
       "<title>7</title>\n",
       "<polygon fill=\"none\" stroke=\"#000000\" stroke-width=\"2\" points=\"240,-142 172,-142 172,-89 240,-89 240,-142\"/>\n",
       "<text text-anchor=\"middle\" x=\"206\" y=\"-126.8\" font-family=\"Times,serif\" font-size=\"14.00\" fill=\"#000000\">#prior≤8</text>\n",
       "<text text-anchor=\"middle\" x=\"206\" y=\"-111.8\" font-family=\"Times,serif\" font-size=\"14.00\" fill=\"#000000\">sup=0.18</text>\n",
       "<text text-anchor=\"middle\" x=\"206\" y=\"-96.8\" font-family=\"Times,serif\" font-size=\"14.00\" fill=\"#000000\">Δ=0.07</text>\n",
       "</g>\n",
       "<!-- 6&#45;&gt;7 -->\n",
       "<g id=\"edge7\" class=\"edge\">\n",
       "<title>6&#45;&gt;7</title>\n",
       "<path fill=\"none\" stroke=\"#000000\" d=\"M206,-177.7971C206,-169.7887 206,-160.8597 206,-152.3198\"/>\n",
       "<polygon fill=\"#000000\" stroke=\"#000000\" points=\"209.5001,-152.1841 206,-142.1841 202.5001,-152.1841 209.5001,-152.1841\"/>\n",
       "</g>\n",
       "<!-- 8 -->\n",
       "<g id=\"node9\" class=\"node\">\n",
       "<title>8</title>\n",
       "<polygon fill=\"none\" stroke=\"#000000\" stroke-width=\"2\" points=\"326,-142 258,-142 258,-89 326,-89 326,-142\"/>\n",
       "<text text-anchor=\"middle\" x=\"292\" y=\"-126.8\" font-family=\"Times,serif\" font-size=\"14.00\" fill=\"#000000\">#prior&gt;8</text>\n",
       "<text text-anchor=\"middle\" x=\"292\" y=\"-111.8\" font-family=\"Times,serif\" font-size=\"14.00\" fill=\"#000000\">sup=0.11</text>\n",
       "<text text-anchor=\"middle\" x=\"292\" y=\"-96.8\" font-family=\"Times,serif\" font-size=\"14.00\" fill=\"#000000\">Δ=0.30</text>\n",
       "</g>\n",
       "<!-- 6&#45;&gt;8 -->\n",
       "<g id=\"edge8\" class=\"edge\">\n",
       "<title>6&#45;&gt;8</title>\n",
       "<path fill=\"none\" stroke=\"#000000\" d=\"M231.8028,-177.7971C240.3916,-168.9087 250.0763,-158.8862 259.1264,-149.5203\"/>\n",
       "<polygon fill=\"#000000\" stroke=\"#000000\" points=\"261.7835,-151.8074 266.2154,-142.1841 256.7496,-146.9432 261.7835,-151.8074\"/>\n",
       "</g>\n",
       "</g>\n",
       "</svg>\n"
      ],
      "text/plain": [
       "<graphviz.dot.Digraph at 0x7f6b396aee80>"
      ]
     },
     "execution_count": 35,
     "metadata": {},
     "output_type": "execute_result"
    }
   ],
   "source": [
    "if type(tree_discr.trees) is dict:\n",
    "    dot = {}\n",
    "    for attribute in continuous_attributes:\n",
    "        dot[attribute] = tree_discr.trees[attribute].visualizeTreeDiGraph(abbreviations=abbreviations, all_info = False, show_condition=True)\n",
    "suffix=f\"{type_experiment}_{type_criterion}_sd_{min_support_tree}_{metric}\"\n",
    "saveFig = True\n",
    "attribute = \"priors_count\"\n",
    "if saveFig:\n",
    "    dot[attribute].render(\n",
    "       os.path.join(tree_outputdir, f\"tree_{attribute}_{suffix}\")\n",
    "                )\n",
    "print(os.path.join(tree_outputdir, f\"tree_{attribute}_{suffix}\"))       \n",
    "dot[attribute]"
   ]
  },
  {
   "cell_type": "code",
   "execution_count": 36,
   "metadata": {
    "ExecuteTime": {
     "end_time": "2022-01-22T08:43:09.958258Z",
     "start_time": "2022-01-22T08:43:09.895071Z"
    }
   },
   "outputs": [
    {
     "data": {
      "image/svg+xml": [
       "<?xml version=\"1.0\" encoding=\"UTF-8\" standalone=\"no\"?>\n",
       "<!DOCTYPE svg PUBLIC \"-//W3C//DTD SVG 1.1//EN\"\n",
       " \"http://www.w3.org/Graphics/SVG/1.1/DTD/svg11.dtd\">\n",
       "<!-- Generated by graphviz version 2.40.1 (20161225.0304)\n",
       " -->\n",
       "<!-- Title: %3 Pages: 1 -->\n",
       "<svg width=\"706pt\" height=\"373pt\"\n",
       " viewBox=\"0.00 0.00 706.00 373.00\" xmlns=\"http://www.w3.org/2000/svg\" xmlns:xlink=\"http://www.w3.org/1999/xlink\">\n",
       "<g id=\"graph0\" class=\"graph\" transform=\"scale(1 1) rotate(0) translate(4 369)\">\n",
       "<title>%3</title>\n",
       "<polygon fill=\"#ffffff\" stroke=\"transparent\" points=\"-4,4 -4,-369 702,-369 702,4 -4,4\"/>\n",
       "<!-- 0 -->\n",
       "<g id=\"node1\" class=\"node\">\n",
       "<title>0</title>\n",
       "<polygon fill=\"none\" stroke=\"#000000\" points=\"406.5,-365 290.5,-365 290.5,-312 406.5,-312 406.5,-365\"/>\n",
       "<text text-anchor=\"middle\" x=\"348.5\" y=\"-349.8\" font-family=\"Times,serif\" font-size=\"14.00\" fill=\"#000000\">Condition: root</text>\n",
       "<text text-anchor=\"middle\" x=\"348.5\" y=\"-334.8\" font-family=\"Times,serif\" font-size=\"14.00\" fill=\"#000000\">sup=1.00</text>\n",
       "<text text-anchor=\"middle\" x=\"348.5\" y=\"-319.8\" font-family=\"Times,serif\" font-size=\"14.00\" fill=\"#000000\">fpr=0.088 Δ=0.00</text>\n",
       "</g>\n",
       "<!-- 1 -->\n",
       "<g id=\"node2\" class=\"node\">\n",
       "<title>1</title>\n",
       "<polygon fill=\"none\" stroke=\"#000000\" points=\"340,-276 179,-276 179,-208 340,-208 340,-276\"/>\n",
       "<text text-anchor=\"middle\" x=\"259.5\" y=\"-260.8\" font-family=\"Times,serif\" font-size=\"14.00\" fill=\"#000000\">Condition: priors_count≤3</text>\n",
       "<text text-anchor=\"middle\" x=\"259.5\" y=\"-245.8\" font-family=\"Times,serif\" font-size=\"14.00\" fill=\"#000000\">sup=0.71</text>\n",
       "<text text-anchor=\"middle\" x=\"259.5\" y=\"-230.8\" font-family=\"Times,serif\" font-size=\"14.00\" fill=\"#000000\">priors_count&lt;=3</text>\n",
       "<text text-anchor=\"middle\" x=\"259.5\" y=\"-215.8\" font-family=\"Times,serif\" font-size=\"14.00\" fill=\"#000000\">fpr=0.060 Δ=&#45;0.03</text>\n",
       "</g>\n",
       "<!-- 0&#45;&gt;1 -->\n",
       "<g id=\"edge1\" class=\"edge\">\n",
       "<title>0&#45;&gt;1</title>\n",
       "<path fill=\"none\" stroke=\"#000000\" d=\"M323.9448,-311.8755C315.9062,-303.1595 306.7728,-293.2564 297.9612,-283.7023\"/>\n",
       "<polygon fill=\"#000000\" stroke=\"#000000\" points=\"300.3431,-281.1224 290.9906,-276.1443 295.1974,-285.8682 300.3431,-281.1224\"/>\n",
       "</g>\n",
       "<!-- 6 -->\n",
       "<g id=\"node7\" class=\"node\">\n",
       "<title>6</title>\n",
       "<polygon fill=\"none\" stroke=\"#000000\" points=\"519,-276 358,-276 358,-208 519,-208 519,-276\"/>\n",
       "<text text-anchor=\"middle\" x=\"438.5\" y=\"-260.8\" font-family=\"Times,serif\" font-size=\"14.00\" fill=\"#000000\">Condition: priors_count≥4</text>\n",
       "<text text-anchor=\"middle\" x=\"438.5\" y=\"-245.8\" font-family=\"Times,serif\" font-size=\"14.00\" fill=\"#000000\">sup=0.29</text>\n",
       "<text text-anchor=\"middle\" x=\"438.5\" y=\"-230.8\" font-family=\"Times,serif\" font-size=\"14.00\" fill=\"#000000\">priors_count&gt;=4</text>\n",
       "<text text-anchor=\"middle\" x=\"438.5\" y=\"-215.8\" font-family=\"Times,serif\" font-size=\"14.00\" fill=\"#000000\">fpr=0.219 Δ=0.13</text>\n",
       "</g>\n",
       "<!-- 0&#45;&gt;6 -->\n",
       "<g id=\"edge6\" class=\"edge\">\n",
       "<title>0&#45;&gt;6</title>\n",
       "<path fill=\"none\" stroke=\"#000000\" d=\"M373.3311,-311.8755C381.46,-303.1595 390.6961,-293.2564 399.6066,-283.7023\"/>\n",
       "<polygon fill=\"#000000\" stroke=\"#000000\" points=\"402.3947,-285.8446 406.6556,-276.1443 397.2755,-281.0702 402.3947,-285.8446\"/>\n",
       "</g>\n",
       "<!-- 2 -->\n",
       "<g id=\"node3\" class=\"node\">\n",
       "<title>2</title>\n",
       "<polygon fill=\"none\" stroke=\"#000000\" stroke-width=\"2\" points=\"161,-172 0,-172 0,-104 161,-104 161,-172\"/>\n",
       "<text text-anchor=\"middle\" x=\"80.5\" y=\"-156.8\" font-family=\"Times,serif\" font-size=\"14.00\" fill=\"#000000\">Condition: priors_count≤0</text>\n",
       "<text text-anchor=\"middle\" x=\"80.5\" y=\"-141.8\" font-family=\"Times,serif\" font-size=\"14.00\" fill=\"#000000\">sup=0.34</text>\n",
       "<text text-anchor=\"middle\" x=\"80.5\" y=\"-126.8\" font-family=\"Times,serif\" font-size=\"14.00\" fill=\"#000000\">priors_count&lt;=0</text>\n",
       "<text text-anchor=\"middle\" x=\"80.5\" y=\"-111.8\" font-family=\"Times,serif\" font-size=\"14.00\" fill=\"#000000\">fpr=0.048 Δ=&#45;0.04</text>\n",
       "</g>\n",
       "<!-- 1&#45;&gt;2 -->\n",
       "<g id=\"edge2\" class=\"edge\">\n",
       "<title>1&#45;&gt;2</title>\n",
       "<path fill=\"none\" stroke=\"#000000\" d=\"M200.8887,-207.9465C184.0445,-198.1599 165.5364,-187.4066 148.192,-177.3294\"/>\n",
       "<polygon fill=\"#000000\" stroke=\"#000000\" points=\"149.6478,-174.1274 139.243,-172.13 146.1312,-180.18 149.6478,-174.1274\"/>\n",
       "</g>\n",
       "<!-- 3 -->\n",
       "<g id=\"node4\" class=\"node\">\n",
       "<title>3</title>\n",
       "<polygon fill=\"none\" stroke=\"#000000\" points=\"340,-172 179,-172 179,-104 340,-104 340,-172\"/>\n",
       "<text text-anchor=\"middle\" x=\"259.5\" y=\"-156.8\" font-family=\"Times,serif\" font-size=\"14.00\" fill=\"#000000\">Condition: priors_count≥1</text>\n",
       "<text text-anchor=\"middle\" x=\"259.5\" y=\"-141.8\" font-family=\"Times,serif\" font-size=\"14.00\" fill=\"#000000\">sup=0.37</text>\n",
       "<text text-anchor=\"middle\" x=\"259.5\" y=\"-126.8\" font-family=\"Times,serif\" font-size=\"14.00\" fill=\"#000000\">priors_count=[1&#45;3]</text>\n",
       "<text text-anchor=\"middle\" x=\"259.5\" y=\"-111.8\" font-family=\"Times,serif\" font-size=\"14.00\" fill=\"#000000\">fpr=0.073 Δ=&#45;0.02</text>\n",
       "</g>\n",
       "<!-- 1&#45;&gt;3 -->\n",
       "<g id=\"edge3\" class=\"edge\">\n",
       "<title>1&#45;&gt;3</title>\n",
       "<path fill=\"none\" stroke=\"#000000\" d=\"M259.5,-207.9465C259.5,-199.776 259.5,-190.9318 259.5,-182.3697\"/>\n",
       "<polygon fill=\"#000000\" stroke=\"#000000\" points=\"263.0001,-182.13 259.5,-172.13 256.0001,-182.13 263.0001,-182.13\"/>\n",
       "</g>\n",
       "<!-- 4 -->\n",
       "<g id=\"node5\" class=\"node\">\n",
       "<title>4</title>\n",
       "<polygon fill=\"none\" stroke=\"#000000\" stroke-width=\"2\" points=\"250,-68 89,-68 89,0 250,0 250,-68\"/>\n",
       "<text text-anchor=\"middle\" x=\"169.5\" y=\"-52.8\" font-family=\"Times,serif\" font-size=\"14.00\" fill=\"#000000\">Condition: priors_count≤1</text>\n",
       "<text text-anchor=\"middle\" x=\"169.5\" y=\"-37.8\" font-family=\"Times,serif\" font-size=\"14.00\" fill=\"#000000\">sup=0.18</text>\n",
       "<text text-anchor=\"middle\" x=\"169.5\" y=\"-22.8\" font-family=\"Times,serif\" font-size=\"14.00\" fill=\"#000000\">priors_count=1</text>\n",
       "<text text-anchor=\"middle\" x=\"169.5\" y=\"-7.8\" font-family=\"Times,serif\" font-size=\"14.00\" fill=\"#000000\">fpr=0.070 Δ=&#45;0.02</text>\n",
       "</g>\n",
       "<!-- 3&#45;&gt;4 -->\n",
       "<g id=\"edge4\" class=\"edge\">\n",
       "<title>3&#45;&gt;4</title>\n",
       "<path fill=\"none\" stroke=\"#000000\" d=\"M230.0306,-103.9465C222.2607,-94.968 213.7868,-85.1758 205.7064,-75.8385\"/>\n",
       "<polygon fill=\"#000000\" stroke=\"#000000\" points=\"208.226,-73.4014 199.0356,-68.13 202.9328,-77.982 208.226,-73.4014\"/>\n",
       "</g>\n",
       "<!-- 5 -->\n",
       "<g id=\"node6\" class=\"node\">\n",
       "<title>5</title>\n",
       "<polygon fill=\"none\" stroke=\"#000000\" stroke-width=\"2\" points=\"429,-68 268,-68 268,0 429,0 429,-68\"/>\n",
       "<text text-anchor=\"middle\" x=\"348.5\" y=\"-52.8\" font-family=\"Times,serif\" font-size=\"14.00\" fill=\"#000000\">Condition: priors_count≥2</text>\n",
       "<text text-anchor=\"middle\" x=\"348.5\" y=\"-37.8\" font-family=\"Times,serif\" font-size=\"14.00\" fill=\"#000000\">sup=0.19</text>\n",
       "<text text-anchor=\"middle\" x=\"348.5\" y=\"-22.8\" font-family=\"Times,serif\" font-size=\"14.00\" fill=\"#000000\">priors_count=[2&#45;3]</text>\n",
       "<text text-anchor=\"middle\" x=\"348.5\" y=\"-7.8\" font-family=\"Times,serif\" font-size=\"14.00\" fill=\"#000000\">fpr=0.076 Δ=&#45;0.01</text>\n",
       "</g>\n",
       "<!-- 3&#45;&gt;5 -->\n",
       "<g id=\"edge5\" class=\"edge\">\n",
       "<title>3&#45;&gt;5</title>\n",
       "<path fill=\"none\" stroke=\"#000000\" d=\"M288.6419,-103.9465C296.3255,-94.968 304.7053,-85.1758 312.6959,-75.8385\"/>\n",
       "<polygon fill=\"#000000\" stroke=\"#000000\" points=\"315.4499,-78.0034 319.2926,-68.13 310.1315,-73.4521 315.4499,-78.0034\"/>\n",
       "</g>\n",
       "<!-- 7 -->\n",
       "<g id=\"node8\" class=\"node\">\n",
       "<title>7</title>\n",
       "<polygon fill=\"none\" stroke=\"#000000\" stroke-width=\"2\" points=\"519,-172 358,-172 358,-104 519,-104 519,-172\"/>\n",
       "<text text-anchor=\"middle\" x=\"438.5\" y=\"-156.8\" font-family=\"Times,serif\" font-size=\"14.00\" fill=\"#000000\">Condition: priors_count≤8</text>\n",
       "<text text-anchor=\"middle\" x=\"438.5\" y=\"-141.8\" font-family=\"Times,serif\" font-size=\"14.00\" fill=\"#000000\">sup=0.18</text>\n",
       "<text text-anchor=\"middle\" x=\"438.5\" y=\"-126.8\" font-family=\"Times,serif\" font-size=\"14.00\" fill=\"#000000\">priors_count=[4&#45;8]</text>\n",
       "<text text-anchor=\"middle\" x=\"438.5\" y=\"-111.8\" font-family=\"Times,serif\" font-size=\"14.00\" fill=\"#000000\">fpr=0.153 Δ=0.07</text>\n",
       "</g>\n",
       "<!-- 6&#45;&gt;7 -->\n",
       "<g id=\"edge7\" class=\"edge\">\n",
       "<title>6&#45;&gt;7</title>\n",
       "<path fill=\"none\" stroke=\"#000000\" d=\"M438.5,-207.9465C438.5,-199.776 438.5,-190.9318 438.5,-182.3697\"/>\n",
       "<polygon fill=\"#000000\" stroke=\"#000000\" points=\"442.0001,-182.13 438.5,-172.13 435.0001,-182.13 442.0001,-182.13\"/>\n",
       "</g>\n",
       "<!-- 8 -->\n",
       "<g id=\"node9\" class=\"node\">\n",
       "<title>8</title>\n",
       "<polygon fill=\"none\" stroke=\"#000000\" stroke-width=\"2\" points=\"698,-172 537,-172 537,-104 698,-104 698,-172\"/>\n",
       "<text text-anchor=\"middle\" x=\"617.5\" y=\"-156.8\" font-family=\"Times,serif\" font-size=\"14.00\" fill=\"#000000\">Condition: priors_count≥9</text>\n",
       "<text text-anchor=\"middle\" x=\"617.5\" y=\"-141.8\" font-family=\"Times,serif\" font-size=\"14.00\" fill=\"#000000\">sup=0.11</text>\n",
       "<text text-anchor=\"middle\" x=\"617.5\" y=\"-126.8\" font-family=\"Times,serif\" font-size=\"14.00\" fill=\"#000000\">priors_count&gt;=9</text>\n",
       "<text text-anchor=\"middle\" x=\"617.5\" y=\"-111.8\" font-family=\"Times,serif\" font-size=\"14.00\" fill=\"#000000\">fpr=0.384 Δ=0.30</text>\n",
       "</g>\n",
       "<!-- 6&#45;&gt;8 -->\n",
       "<g id=\"edge8\" class=\"edge\">\n",
       "<title>6&#45;&gt;8</title>\n",
       "<path fill=\"none\" stroke=\"#000000\" d=\"M497.1113,-207.9465C513.9555,-198.1599 532.4636,-187.4066 549.808,-177.3294\"/>\n",
       "<polygon fill=\"#000000\" stroke=\"#000000\" points=\"551.8688,-180.18 558.757,-172.13 548.3522,-174.1274 551.8688,-180.18\"/>\n",
       "</g>\n",
       "</g>\n",
       "</svg>\n"
      ],
      "text/plain": [
       "<graphviz.dot.Digraph at 0x7f6b396dbac8>"
      ]
     },
     "execution_count": 36,
     "metadata": {},
     "output_type": "execute_result"
    }
   ],
   "source": [
    "if type(tree_discr.trees) is dict:\n",
    "    dot = {}\n",
    "    for attribute in tree_discr.trees:\n",
    "        dot[attribute] = tree_discr.trees[attribute].visualizeTreeDiGraph(all_info = False)\n",
    "else:\n",
    "    dot_show = tree_discr.trees.visualizeTreeDiGraph()\n",
    "dot[\"priors_count\"]"
   ]
  },
  {
   "cell_type": "code",
   "execution_count": 37,
   "metadata": {
    "ExecuteTime": {
     "end_time": "2022-01-22T08:43:10.185086Z",
     "start_time": "2022-01-22T08:43:09.960946Z"
    }
   },
   "outputs": [
    {
     "name": "stdout",
     "output_type": "stream",
     "text": [
      "priors_count\n",
      " root s=1.000 --> d_fpr=0.000\n",
      "         priors_count<=3 s=0.707 --> d_fpr=-0.029\n",
      "                 priors_count<=0 s=0.338 --> d_fpr=-0.040\n",
      "                 priors_count>=1 s=0.369 --> d_fpr=-0.015\n",
      "                         priors_count<=1 s=0.183 --> d_fpr=-0.018\n",
      "                         priors_count>=2 s=0.186 --> d_fpr=-0.012\n",
      "         priors_count>=4 s=0.293 --> d_fpr=0.131\n",
      "                 priors_count<=8 s=0.179 --> d_fpr=0.065\n",
      "                 priors_count>=9 s=0.115 --> d_fpr=0.295\n",
      "\n",
      "length_of_stay\n",
      " root s=1.000 --> d_fpr=0.000\n",
      "         length_of_stay<=2.0 s=0.663 --> d_fpr=-0.022\n",
      "                 length_of_stay<=0.0 s=0.113 --> d_fpr=-0.040\n",
      "                 length_of_stay>=1.0 s=0.550 --> d_fpr=-0.018\n",
      "                         length_of_stay<=1.0 s=0.438 --> d_fpr=-0.021\n",
      "                         length_of_stay>=2.0 s=0.113 --> d_fpr=-0.003\n",
      "         length_of_stay>=3.0 s=0.337 --> d_fpr=0.061\n",
      "                 length_of_stay<=33.0 s=0.230 --> d_fpr=0.018\n",
      "                         length_of_stay<=7.0 s=0.110 --> d_fpr=0.028\n",
      "                         length_of_stay>=8.0 s=0.120 --> d_fpr=0.009\n",
      "                 length_of_stay>=34.0 s=0.107 --> d_fpr=0.169\n",
      "\n",
      "age\n",
      " root s=1.000 --> d_fpr=0.000\n",
      "         age<=32 s=0.542 --> d_fpr=0.054\n",
      "                 age<=24 s=0.218 --> d_fpr=0.089\n",
      "                 age>=25 s=0.324 --> d_fpr=0.033\n",
      "                         age<=27 s=0.137 --> d_fpr=0.017\n",
      "                         age>=28 s=0.187 --> d_fpr=0.043\n",
      "         age>=33 s=0.458 --> d_fpr=-0.047\n",
      "                 age<=41 s=0.203 --> d_fpr=-0.028\n",
      "                 age>=42 s=0.255 --> d_fpr=-0.060\n",
      "                         age<=50 s=0.126 --> d_fpr=-0.056\n",
      "                         age>=51 s=0.129 --> d_fpr=-0.063\n",
      "\n"
     ]
    }
   ],
   "source": [
    "if show_fig:\n",
    "    viz_tree(\n",
    "        tree_discr,\n",
    "        continuous_attributes,\n",
    "        tree_outputdir,\n",
    "        suffix=f\"{type_experiment}_{type_criterion}_sd_{min_support_tree}_{metric}\",\n",
    "        saveFig=saveFig,\n",
    "    )"
   ]
  },
  {
   "cell_type": "code",
   "execution_count": 38,
   "metadata": {
    "ExecuteTime": {
     "end_time": "2022-01-22T08:43:10.299874Z",
     "start_time": "2022-01-22T08:43:10.224924Z"
    }
   },
   "outputs": [],
   "source": [
    "considerOnlyContinuos = True\n",
    "if considerOnlyContinuos:\n",
    "    for k in list(generalization_dict.keys()):\n",
    "        if k not in continuous_attributes:\n",
    "            generalization_dict.pop(k, None)"
   ]
  },
  {
   "cell_type": "markdown",
   "metadata": {
    "ExecuteTime": {
     "end_time": "2022-01-14T19:14:57.835890Z",
     "start_time": "2022-01-14T19:14:57.814637Z"
    }
   },
   "source": [
    "### Sup divergence = 0.05"
   ]
  },
  {
   "cell_type": "code",
   "execution_count": 39,
   "metadata": {
    "ExecuteTime": {
     "end_time": "2022-01-22T08:43:10.323523Z",
     "start_time": "2022-01-22T08:43:10.304486Z"
    }
   },
   "outputs": [],
   "source": [
    "min_sup_divergence_05 = 0.05"
   ]
  },
  {
   "cell_type": "code",
   "execution_count": 40,
   "metadata": {
    "ExecuteTime": {
     "end_time": "2022-01-22T08:43:10.341235Z",
     "start_time": "2022-01-22T08:43:10.325226Z"
    }
   },
   "outputs": [],
   "source": [
    "complete_info=False\n",
    "\n",
    "if complete_info:\n",
    "    COL_info = [\"itemsets\", \"support\", \"tn\", \"fp\", \"fn\", \"tp\"]\n",
    "else:\n",
    "    COL_info = [\"itemsets\", \"support\"]"
   ]
  },
  {
   "cell_type": "markdown",
   "metadata": {},
   "source": [
    "#### Extract divergence "
   ]
  },
  {
   "cell_type": "markdown",
   "metadata": {
    "ExecuteTime": {
     "end_time": "2022-01-04T15:36:06.722985Z",
     "start_time": "2022-01-04T15:36:06.718877Z"
    }
   },
   "source": [
    "##### Without gen"
   ]
  },
  {
   "cell_type": "code",
   "execution_count": 41,
   "metadata": {
    "ExecuteTime": {
     "end_time": "2022-01-22T08:43:10.928539Z",
     "start_time": "2022-01-22T08:43:10.343168Z"
    }
   },
   "outputs": [
    {
     "data": {
      "text/html": [
       "<div>\n",
       "<style scoped>\n",
       "    .dataframe tbody tr th:only-of-type {\n",
       "        vertical-align: middle;\n",
       "    }\n",
       "\n",
       "    .dataframe tbody tr th {\n",
       "        vertical-align: top;\n",
       "    }\n",
       "\n",
       "    .dataframe thead th {\n",
       "        text-align: right;\n",
       "    }\n",
       "</style>\n",
       "<table border=\"1\" class=\"dataframe\">\n",
       "  <thead>\n",
       "    <tr style=\"text-align: right;\">\n",
       "      <th></th>\n",
       "      <th>itemsets</th>\n",
       "      <th>sup</th>\n",
       "      <th>tn</th>\n",
       "      <th>fp</th>\n",
       "      <th>fn</th>\n",
       "      <th>tp</th>\n",
       "      <th>Δ_fpr</th>\n",
       "      <th>t_fp</th>\n",
       "    </tr>\n",
       "  </thead>\n",
       "  <tbody>\n",
       "    <tr>\n",
       "      <th>106</th>\n",
       "      <td>#prior&gt;=9, race=Afr-Am</td>\n",
       "      <td>0.09</td>\n",
       "      <td>68</td>\n",
       "      <td>56</td>\n",
       "      <td>149</td>\n",
       "      <td>260</td>\n",
       "      <td>0.363</td>\n",
       "      <td>8.2</td>\n",
       "    </tr>\n",
       "    <tr>\n",
       "      <th>118</th>\n",
       "      <td>#prior&gt;=9, race=Afr-Am, sex=Male</td>\n",
       "      <td>0.08</td>\n",
       "      <td>63</td>\n",
       "      <td>49</td>\n",
       "      <td>142</td>\n",
       "      <td>237</td>\n",
       "      <td>0.349</td>\n",
       "      <td>7.5</td>\n",
       "    </tr>\n",
       "    <tr>\n",
       "      <th>151</th>\n",
       "      <td>charge=F, #prior&gt;=9, race=Afr-Am</td>\n",
       "      <td>0.07</td>\n",
       "      <td>54</td>\n",
       "      <td>41</td>\n",
       "      <td>110</td>\n",
       "      <td>208</td>\n",
       "      <td>0.343</td>\n",
       "      <td>6.8</td>\n",
       "    </tr>\n",
       "  </tbody>\n",
       "</table>\n",
       "</div>"
      ],
      "text/plain": [
       "                             itemsets   sup  tn  fp   fn   tp  Δ_fpr  t_fp\n",
       "106            #prior>=9, race=Afr-Am  0.09  68  56  149  260  0.363   8.2\n",
       "118  #prior>=9, race=Afr-Am, sex=Male  0.08  63  49  142  237  0.349   7.5\n",
       "151  charge=F, #prior>=9, race=Afr-Am  0.07  54  41  110  208  0.343   6.8"
      ]
     },
     "metadata": {},
     "output_type": "display_data"
    }
   ],
   "source": [
    "from utils_extract_divergence_generalized import (\n",
    "    extract_divergence_generalized,\n",
    ")\n",
    "\n",
    "FP_fm = extract_divergence_generalized(\n",
    "    df_analyze,\n",
    "    discretizations,\n",
    "    generalization_dict,\n",
    "    continuous_attributes,\n",
    "    min_sup_divergence=min_sup_divergence_05,\n",
    "    apply_generalization=False,\n",
    "    true_class_name=true_class_name,\n",
    "    predicted_class_name=pred_class_name,\n",
    "    class_map=class_map,\n",
    "    FPM_type=\"fpgrowth\",\n",
    ")\n",
    "\n",
    "if type_experiment not in out:\n",
    "    out[type_experiment] = {}\n",
    "    \n",
    "    \n",
    "display(printable_top_k(\n",
    "    FP_fm, metric, COL_info_detail, K=K, abbreviations=abbreviations))\n",
    "\n",
    "out[type_experiment][\"without_gen\"] = printable_top_k(\n",
    "    FP_fm, metric, COL_info, K=K, abbreviations=abbreviations\n",
    ")"
   ]
  },
  {
   "cell_type": "code",
   "execution_count": 42,
   "metadata": {
    "ExecuteTime": {
     "end_time": "2022-01-22T08:43:10.961708Z",
     "start_time": "2022-01-22T08:43:10.930606Z"
    }
   },
   "outputs": [
    {
     "data": {
      "text/html": [
       "<div>\n",
       "<style scoped>\n",
       "    .dataframe tbody tr th:only-of-type {\n",
       "        vertical-align: middle;\n",
       "    }\n",
       "\n",
       "    .dataframe tbody tr th {\n",
       "        vertical-align: top;\n",
       "    }\n",
       "\n",
       "    .dataframe thead th {\n",
       "        text-align: right;\n",
       "    }\n",
       "</style>\n",
       "<table border=\"1\" class=\"dataframe\">\n",
       "  <thead>\n",
       "    <tr style=\"text-align: right;\">\n",
       "      <th></th>\n",
       "      <th>itemsets</th>\n",
       "      <th>sup</th>\n",
       "      <th>Δ_fpr</th>\n",
       "      <th>t_fp</th>\n",
       "    </tr>\n",
       "  </thead>\n",
       "  <tbody>\n",
       "    <tr>\n",
       "      <th>106</th>\n",
       "      <td>#prior&gt;=9, race=Afr-Am</td>\n",
       "      <td>0.09</td>\n",
       "      <td>0.363</td>\n",
       "      <td>8.2</td>\n",
       "    </tr>\n",
       "    <tr>\n",
       "      <th>118</th>\n",
       "      <td>#prior&gt;=9, race=Afr-Am, sex=Male</td>\n",
       "      <td>0.08</td>\n",
       "      <td>0.349</td>\n",
       "      <td>7.5</td>\n",
       "    </tr>\n",
       "    <tr>\n",
       "      <th>151</th>\n",
       "      <td>charge=F, #prior&gt;=9, race=Afr-Am</td>\n",
       "      <td>0.07</td>\n",
       "      <td>0.343</td>\n",
       "      <td>6.8</td>\n",
       "    </tr>\n",
       "  </tbody>\n",
       "</table>\n",
       "</div>"
      ],
      "text/plain": [
       "                             itemsets   sup  Δ_fpr  t_fp\n",
       "106            #prior>=9, race=Afr-Am  0.09  0.363   8.2\n",
       "118  #prior>=9, race=Afr-Am, sex=Male  0.08  0.349   7.5\n",
       "151  charge=F, #prior>=9, race=Afr-Am  0.07  0.343   6.8"
      ]
     },
     "execution_count": 42,
     "metadata": {},
     "output_type": "execute_result"
    }
   ],
   "source": [
    "out[type_experiment][\"without_gen\"]"
   ]
  },
  {
   "cell_type": "code",
   "execution_count": 43,
   "metadata": {
    "ExecuteTime": {
     "end_time": "2022-01-22T08:43:11.013147Z",
     "start_time": "2022-01-22T08:43:10.964612Z"
    }
   },
   "outputs": [
    {
     "name": "stdout",
     "output_type": "stream",
     "text": [
      "\\begin{tabular}{lrrr}\n",
      "\\toprule\n",
      "                         itemsets &   sup &  Δ\\_fpr &  t\\_fp \\\\\n",
      "\\midrule\n",
      "           \\#prior>=9, race=Afr-Am &  0.09 &  0.363 &   8.2 \\\\\n",
      " \\#prior>=9, race=Afr-Am, sex=Male &  0.08 &  0.349 &   7.5 \\\\\n",
      " charge=F, \\#prior>=9, race=Afr-Am &  0.07 &  0.343 &   6.8 \\\\\n",
      "\\bottomrule\n",
      "\\end{tabular}\n",
      "\n"
     ]
    }
   ],
   "source": [
    "print(out[type_experiment][\"without_gen\"].to_latex(index=False))"
   ]
  },
  {
   "cell_type": "code",
   "execution_count": 44,
   "metadata": {
    "ExecuteTime": {
     "end_time": "2022-01-22T08:43:11.060844Z",
     "start_time": "2022-01-22T08:43:11.017984Z"
    }
   },
   "outputs": [],
   "source": [
    "out_support.setdefault(min_sup_divergence_05, {}).setdefault(type_experiment, {})[\"without_gen\"] = out[type_experiment][\"without_gen\"].head(1)"
   ]
  },
  {
   "cell_type": "markdown",
   "metadata": {},
   "source": [
    "#### Extract divergence "
   ]
  },
  {
   "cell_type": "markdown",
   "metadata": {},
   "source": [
    "##### With gen"
   ]
  },
  {
   "cell_type": "code",
   "execution_count": 45,
   "metadata": {
    "ExecuteTime": {
     "end_time": "2022-01-22T08:43:12.250526Z",
     "start_time": "2022-01-22T08:43:11.073214Z"
    }
   },
   "outputs": [
    {
     "data": {
      "text/html": [
       "<div>\n",
       "<style scoped>\n",
       "    .dataframe tbody tr th:only-of-type {\n",
       "        vertical-align: middle;\n",
       "    }\n",
       "\n",
       "    .dataframe tbody tr th {\n",
       "        vertical-align: top;\n",
       "    }\n",
       "\n",
       "    .dataframe thead th {\n",
       "        text-align: right;\n",
       "    }\n",
       "</style>\n",
       "<table border=\"1\" class=\"dataframe\">\n",
       "  <thead>\n",
       "    <tr style=\"text-align: right;\">\n",
       "      <th></th>\n",
       "      <th>itemsets</th>\n",
       "      <th>sup</th>\n",
       "      <th>tn</th>\n",
       "      <th>fp</th>\n",
       "      <th>fn</th>\n",
       "      <th>tp</th>\n",
       "      <th>Δ_fpr</th>\n",
       "      <th>t_fp</th>\n",
       "    </tr>\n",
       "  </thead>\n",
       "  <tbody>\n",
       "    <tr>\n",
       "      <th>1052</th>\n",
       "      <td>age&lt;=32, stay&gt;=3.0, #prior&gt;=4, sex=Male</td>\n",
       "      <td>0.06</td>\n",
       "      <td>40</td>\n",
       "      <td>35</td>\n",
       "      <td>123</td>\n",
       "      <td>174</td>\n",
       "      <td>0.378</td>\n",
       "      <td>6.7</td>\n",
       "    </tr>\n",
       "    <tr>\n",
       "      <th>595</th>\n",
       "      <td>#prior&gt;=9, race=Afr-Am</td>\n",
       "      <td>0.09</td>\n",
       "      <td>68</td>\n",
       "      <td>56</td>\n",
       "      <td>149</td>\n",
       "      <td>260</td>\n",
       "      <td>0.363</td>\n",
       "      <td>8.2</td>\n",
       "    </tr>\n",
       "    <tr>\n",
       "      <th>682</th>\n",
       "      <td>#prior&gt;=9, race=Afr-Am, sex=Male</td>\n",
       "      <td>0.08</td>\n",
       "      <td>63</td>\n",
       "      <td>49</td>\n",
       "      <td>142</td>\n",
       "      <td>237</td>\n",
       "      <td>0.349</td>\n",
       "      <td>7.5</td>\n",
       "    </tr>\n",
       "  </tbody>\n",
       "</table>\n",
       "</div>"
      ],
      "text/plain": [
       "                                     itemsets   sup  tn  fp   fn   tp  Δ_fpr  \\\n",
       "1052  age<=32, stay>=3.0, #prior>=4, sex=Male  0.06  40  35  123  174  0.378   \n",
       "595                    #prior>=9, race=Afr-Am  0.09  68  56  149  260  0.363   \n",
       "682          #prior>=9, race=Afr-Am, sex=Male  0.08  63  49  142  237  0.349   \n",
       "\n",
       "      t_fp  \n",
       "1052   6.7  \n",
       "595    8.2  \n",
       "682    7.5  "
      ]
     },
     "metadata": {},
     "output_type": "display_data"
    }
   ],
   "source": [
    "from utils_extract_divergence_generalized import (\n",
    "    extract_divergence_generalized,\n",
    ")\n",
    "\n",
    "FP_fm = extract_divergence_generalized(\n",
    "    df_analyze,\n",
    "    discretizations,\n",
    "    generalization_dict,\n",
    "    continuous_attributes,\n",
    "    min_sup_divergence=min_sup_divergence_05,\n",
    "    apply_generalization=True,\n",
    "    true_class_name=true_class_name,\n",
    "    predicted_class_name=pred_class_name,\n",
    "    class_map=class_map,\n",
    "    FPM_type=\"fpgrowth\",\n",
    ")\n",
    "    \n",
    "    \n",
    "    \n",
    "display(printable_top_k(\n",
    "    FP_fm, metric, COL_info_detail, K=K, abbreviations=abbreviations))\n",
    "\n",
    "out[type_experiment][\"with_gen\"] = printable_top_k(\n",
    "    FP_fm, metric, COL_info, K=K, abbreviations=abbreviations\n",
    ")"
   ]
  },
  {
   "cell_type": "code",
   "execution_count": 46,
   "metadata": {
    "ExecuteTime": {
     "end_time": "2022-01-22T08:43:12.269455Z",
     "start_time": "2022-01-22T08:43:12.251958Z"
    },
    "scrolled": true
   },
   "outputs": [
    {
     "data": {
      "text/html": [
       "<div>\n",
       "<style scoped>\n",
       "    .dataframe tbody tr th:only-of-type {\n",
       "        vertical-align: middle;\n",
       "    }\n",
       "\n",
       "    .dataframe tbody tr th {\n",
       "        vertical-align: top;\n",
       "    }\n",
       "\n",
       "    .dataframe thead th {\n",
       "        text-align: right;\n",
       "    }\n",
       "</style>\n",
       "<table border=\"1\" class=\"dataframe\">\n",
       "  <thead>\n",
       "    <tr style=\"text-align: right;\">\n",
       "      <th></th>\n",
       "      <th>itemsets</th>\n",
       "      <th>sup</th>\n",
       "      <th>Δ_fpr</th>\n",
       "      <th>t_fp</th>\n",
       "    </tr>\n",
       "  </thead>\n",
       "  <tbody>\n",
       "    <tr>\n",
       "      <th>1052</th>\n",
       "      <td>age&lt;=32, stay&gt;=3.0, #prior&gt;=4, sex=Male</td>\n",
       "      <td>0.06</td>\n",
       "      <td>0.378</td>\n",
       "      <td>6.7</td>\n",
       "    </tr>\n",
       "    <tr>\n",
       "      <th>595</th>\n",
       "      <td>#prior&gt;=9, race=Afr-Am</td>\n",
       "      <td>0.09</td>\n",
       "      <td>0.363</td>\n",
       "      <td>8.2</td>\n",
       "    </tr>\n",
       "    <tr>\n",
       "      <th>682</th>\n",
       "      <td>#prior&gt;=9, race=Afr-Am, sex=Male</td>\n",
       "      <td>0.08</td>\n",
       "      <td>0.349</td>\n",
       "      <td>7.5</td>\n",
       "    </tr>\n",
       "  </tbody>\n",
       "</table>\n",
       "</div>"
      ],
      "text/plain": [
       "                                     itemsets   sup  Δ_fpr  t_fp\n",
       "1052  age<=32, stay>=3.0, #prior>=4, sex=Male  0.06  0.378   6.7\n",
       "595                    #prior>=9, race=Afr-Am  0.09  0.363   8.2\n",
       "682          #prior>=9, race=Afr-Am, sex=Male  0.08  0.349   7.5"
      ]
     },
     "execution_count": 46,
     "metadata": {},
     "output_type": "execute_result"
    }
   ],
   "source": [
    "out[type_experiment][\"with_gen\"]"
   ]
  },
  {
   "cell_type": "code",
   "execution_count": 47,
   "metadata": {
    "ExecuteTime": {
     "end_time": "2022-01-22T08:43:12.286944Z",
     "start_time": "2022-01-22T08:43:12.271095Z"
    }
   },
   "outputs": [
    {
     "name": "stdout",
     "output_type": "stream",
     "text": [
      "\\begin{tabular}{lrrr}\n",
      "\\toprule\n",
      "                                itemsets &   sup &  Δ\\_fpr &  t\\_fp \\\\\n",
      "\\midrule\n",
      " age<=32, stay>=3.0, \\#prior>=4, sex=Male &  0.06 &  0.378 &   6.7 \\\\\n",
      "                  \\#prior>=9, race=Afr-Am &  0.09 &  0.363 &   8.2 \\\\\n",
      "        \\#prior>=9, race=Afr-Am, sex=Male &  0.08 &  0.349 &   7.5 \\\\\n",
      "\\bottomrule\n",
      "\\end{tabular}\n",
      "\n"
     ]
    }
   ],
   "source": [
    "print(out[type_experiment][\"with_gen\"].to_latex(index=False))"
   ]
  },
  {
   "cell_type": "code",
   "execution_count": 48,
   "metadata": {
    "ExecuteTime": {
     "end_time": "2022-01-22T08:43:12.301100Z",
     "start_time": "2022-01-22T08:43:12.288713Z"
    }
   },
   "outputs": [],
   "source": [
    "out_support.setdefault(min_sup_divergence_05, {}).setdefault(type_experiment, {})[\"with_gen\"] = out[type_experiment][\"with_gen\"].head(1)"
   ]
  },
  {
   "cell_type": "markdown",
   "metadata": {
    "ExecuteTime": {
     "end_time": "2022-01-14T19:14:57.835890Z",
     "start_time": "2022-01-14T19:14:57.814637Z"
    }
   },
   "source": [
    "### Sup divergence = 0.025"
   ]
  },
  {
   "cell_type": "code",
   "execution_count": 49,
   "metadata": {
    "ExecuteTime": {
     "end_time": "2022-01-22T08:43:12.320142Z",
     "start_time": "2022-01-22T08:43:12.305760Z"
    }
   },
   "outputs": [],
   "source": [
    "min_sup_divergence_025 = 0.025"
   ]
  },
  {
   "cell_type": "markdown",
   "metadata": {},
   "source": [
    "#### Extract divergence "
   ]
  },
  {
   "cell_type": "markdown",
   "metadata": {
    "ExecuteTime": {
     "end_time": "2022-01-04T15:36:06.722985Z",
     "start_time": "2022-01-04T15:36:06.718877Z"
    }
   },
   "source": [
    "##### Without gen"
   ]
  },
  {
   "cell_type": "code",
   "execution_count": 50,
   "metadata": {
    "ExecuteTime": {
     "end_time": "2022-01-22T08:43:12.690629Z",
     "start_time": "2022-01-22T08:43:12.321791Z"
    }
   },
   "outputs": [
    {
     "data": {
      "text/html": [
       "<div>\n",
       "<style scoped>\n",
       "    .dataframe tbody tr th:only-of-type {\n",
       "        vertical-align: middle;\n",
       "    }\n",
       "\n",
       "    .dataframe tbody tr th {\n",
       "        vertical-align: top;\n",
       "    }\n",
       "\n",
       "    .dataframe thead th {\n",
       "        text-align: right;\n",
       "    }\n",
       "</style>\n",
       "<table border=\"1\" class=\"dataframe\">\n",
       "  <thead>\n",
       "    <tr style=\"text-align: right;\">\n",
       "      <th></th>\n",
       "      <th>itemsets</th>\n",
       "      <th>sup</th>\n",
       "      <th>tn</th>\n",
       "      <th>fp</th>\n",
       "      <th>fn</th>\n",
       "      <th>tp</th>\n",
       "      <th>Δ_fpr</th>\n",
       "      <th>t_fp</th>\n",
       "    </tr>\n",
       "  </thead>\n",
       "  <tbody>\n",
       "    <tr>\n",
       "      <th>453</th>\n",
       "      <td>age=[28-32], #prior&gt;=9, sex=Male</td>\n",
       "      <td>0.03</td>\n",
       "      <td>9</td>\n",
       "      <td>19</td>\n",
       "      <td>51</td>\n",
       "      <td>83</td>\n",
       "      <td>0.590</td>\n",
       "      <td>6.8</td>\n",
       "    </tr>\n",
       "    <tr>\n",
       "      <th>388</th>\n",
       "      <td>age=[28-32], #prior&gt;=9</td>\n",
       "      <td>0.03</td>\n",
       "      <td>11</td>\n",
       "      <td>23</td>\n",
       "      <td>57</td>\n",
       "      <td>95</td>\n",
       "      <td>0.588</td>\n",
       "      <td>7.4</td>\n",
       "    </tr>\n",
       "    <tr>\n",
       "      <th>413</th>\n",
       "      <td>stay&gt;=34.0, #prior&gt;=9</td>\n",
       "      <td>0.03</td>\n",
       "      <td>22</td>\n",
       "      <td>19</td>\n",
       "      <td>47</td>\n",
       "      <td>86</td>\n",
       "      <td>0.375</td>\n",
       "      <td>5.0</td>\n",
       "    </tr>\n",
       "  </tbody>\n",
       "</table>\n",
       "</div>"
      ],
      "text/plain": [
       "                             itemsets   sup  tn  fp  fn  tp  Δ_fpr  t_fp\n",
       "453  age=[28-32], #prior>=9, sex=Male  0.03   9  19  51  83  0.590   6.8\n",
       "388            age=[28-32], #prior>=9  0.03  11  23  57  95  0.588   7.4\n",
       "413             stay>=34.0, #prior>=9  0.03  22  19  47  86  0.375   5.0"
      ]
     },
     "metadata": {},
     "output_type": "display_data"
    }
   ],
   "source": [
    "from utils_extract_divergence_generalized import (\n",
    "    extract_divergence_generalized,\n",
    ")\n",
    "\n",
    "FP_fm = extract_divergence_generalized(\n",
    "    df_analyze,\n",
    "    discretizations,\n",
    "    generalization_dict,\n",
    "    continuous_attributes,\n",
    "    min_sup_divergence=min_sup_divergence_025,\n",
    "    apply_generalization=False,\n",
    "    true_class_name=true_class_name,\n",
    "    predicted_class_name=pred_class_name,\n",
    "    class_map=class_map,\n",
    "    FPM_type=\"fpgrowth\",\n",
    ")\n",
    "\n",
    "display(printable_top_k(\n",
    "    FP_fm, metric, COL_info_detail, K=K, abbreviations=abbreviations))\n",
    "\n",
    "FP_fm_pr = printable_top_k(\n",
    "    FP_fm, metric, COL_info, K=K, abbreviations=abbreviations\n",
    ")"
   ]
  },
  {
   "cell_type": "code",
   "execution_count": 51,
   "metadata": {
    "ExecuteTime": {
     "end_time": "2022-01-22T08:43:12.709461Z",
     "start_time": "2022-01-22T08:43:12.691864Z"
    }
   },
   "outputs": [
    {
     "data": {
      "text/html": [
       "<div>\n",
       "<style scoped>\n",
       "    .dataframe tbody tr th:only-of-type {\n",
       "        vertical-align: middle;\n",
       "    }\n",
       "\n",
       "    .dataframe tbody tr th {\n",
       "        vertical-align: top;\n",
       "    }\n",
       "\n",
       "    .dataframe thead th {\n",
       "        text-align: right;\n",
       "    }\n",
       "</style>\n",
       "<table border=\"1\" class=\"dataframe\">\n",
       "  <thead>\n",
       "    <tr style=\"text-align: right;\">\n",
       "      <th></th>\n",
       "      <th>itemsets</th>\n",
       "      <th>sup</th>\n",
       "      <th>Δ_fpr</th>\n",
       "      <th>t_fp</th>\n",
       "    </tr>\n",
       "  </thead>\n",
       "  <tbody>\n",
       "    <tr>\n",
       "      <th>453</th>\n",
       "      <td>age=[28-32], #prior&gt;=9, sex=Male</td>\n",
       "      <td>0.03</td>\n",
       "      <td>0.590</td>\n",
       "      <td>6.8</td>\n",
       "    </tr>\n",
       "    <tr>\n",
       "      <th>388</th>\n",
       "      <td>age=[28-32], #prior&gt;=9</td>\n",
       "      <td>0.03</td>\n",
       "      <td>0.588</td>\n",
       "      <td>7.4</td>\n",
       "    </tr>\n",
       "    <tr>\n",
       "      <th>413</th>\n",
       "      <td>stay&gt;=34.0, #prior&gt;=9</td>\n",
       "      <td>0.03</td>\n",
       "      <td>0.375</td>\n",
       "      <td>5.0</td>\n",
       "    </tr>\n",
       "  </tbody>\n",
       "</table>\n",
       "</div>"
      ],
      "text/plain": [
       "                             itemsets   sup  Δ_fpr  t_fp\n",
       "453  age=[28-32], #prior>=9, sex=Male  0.03  0.590   6.8\n",
       "388            age=[28-32], #prior>=9  0.03  0.588   7.4\n",
       "413             stay>=34.0, #prior>=9  0.03  0.375   5.0"
      ]
     },
     "execution_count": 51,
     "metadata": {},
     "output_type": "execute_result"
    }
   ],
   "source": [
    "FP_fm_pr"
   ]
  },
  {
   "cell_type": "code",
   "execution_count": 52,
   "metadata": {
    "ExecuteTime": {
     "end_time": "2022-01-22T08:43:12.732950Z",
     "start_time": "2022-01-22T08:43:12.712017Z"
    }
   },
   "outputs": [],
   "source": [
    "out_support.setdefault(min_sup_divergence_025, {}).setdefault(type_experiment, {})[\"without_gen\"] = FP_fm_pr.head(1)"
   ]
  },
  {
   "cell_type": "markdown",
   "metadata": {},
   "source": [
    "#### Extract divergence "
   ]
  },
  {
   "cell_type": "markdown",
   "metadata": {},
   "source": [
    "##### With gen"
   ]
  },
  {
   "cell_type": "code",
   "execution_count": 53,
   "metadata": {
    "ExecuteTime": {
     "end_time": "2022-01-22T08:43:14.115459Z",
     "start_time": "2022-01-22T08:43:12.734873Z"
    }
   },
   "outputs": [
    {
     "data": {
      "text/html": [
       "<div>\n",
       "<style scoped>\n",
       "    .dataframe tbody tr th:only-of-type {\n",
       "        vertical-align: middle;\n",
       "    }\n",
       "\n",
       "    .dataframe tbody tr th {\n",
       "        vertical-align: top;\n",
       "    }\n",
       "\n",
       "    .dataframe thead th {\n",
       "        text-align: right;\n",
       "    }\n",
       "</style>\n",
       "<table border=\"1\" class=\"dataframe\">\n",
       "  <thead>\n",
       "    <tr style=\"text-align: right;\">\n",
       "      <th></th>\n",
       "      <th>itemsets</th>\n",
       "      <th>sup</th>\n",
       "      <th>tn</th>\n",
       "      <th>fp</th>\n",
       "      <th>fn</th>\n",
       "      <th>tp</th>\n",
       "      <th>Δ_fpr</th>\n",
       "      <th>t_fp</th>\n",
       "    </tr>\n",
       "  </thead>\n",
       "  <tbody>\n",
       "    <tr>\n",
       "      <th>2416</th>\n",
       "      <td>age=[25-32], charge=F, #prior&gt;=9, sex=Male</td>\n",
       "      <td>0.03</td>\n",
       "      <td>9</td>\n",
       "      <td>22</td>\n",
       "      <td>55</td>\n",
       "      <td>116</td>\n",
       "      <td>0.621</td>\n",
       "      <td>7.7</td>\n",
       "    </tr>\n",
       "    <tr>\n",
       "      <th>2267</th>\n",
       "      <td>age&lt;=32, #prior&gt;=9, race=Afr-Am, sex=Male</td>\n",
       "      <td>0.03</td>\n",
       "      <td>9</td>\n",
       "      <td>20</td>\n",
       "      <td>53</td>\n",
       "      <td>130</td>\n",
       "      <td>0.601</td>\n",
       "      <td>7.1</td>\n",
       "    </tr>\n",
       "    <tr>\n",
       "      <th>2229</th>\n",
       "      <td>age&lt;=32, charge=F, #prior&gt;=9, sex=Male</td>\n",
       "      <td>0.03</td>\n",
       "      <td>10</td>\n",
       "      <td>22</td>\n",
       "      <td>55</td>\n",
       "      <td>128</td>\n",
       "      <td>0.599</td>\n",
       "      <td>7.4</td>\n",
       "    </tr>\n",
       "  </tbody>\n",
       "</table>\n",
       "</div>"
      ],
      "text/plain": [
       "                                        itemsets   sup  tn  fp  fn   tp  \\\n",
       "2416  age=[25-32], charge=F, #prior>=9, sex=Male  0.03   9  22  55  116   \n",
       "2267   age<=32, #prior>=9, race=Afr-Am, sex=Male  0.03   9  20  53  130   \n",
       "2229      age<=32, charge=F, #prior>=9, sex=Male  0.03  10  22  55  128   \n",
       "\n",
       "      Δ_fpr  t_fp  \n",
       "2416  0.621   7.7  \n",
       "2267  0.601   7.1  \n",
       "2229  0.599   7.4  "
      ]
     },
     "metadata": {},
     "output_type": "display_data"
    }
   ],
   "source": [
    "from utils_extract_divergence_generalized import (\n",
    "    extract_divergence_generalized,\n",
    ")\n",
    "\n",
    "FP_fm = extract_divergence_generalized(\n",
    "    df_analyze,\n",
    "    discretizations,\n",
    "    generalization_dict,\n",
    "    continuous_attributes,\n",
    "    min_sup_divergence=min_sup_divergence_025,\n",
    "    apply_generalization=True,\n",
    "    true_class_name=true_class_name,\n",
    "    predicted_class_name=pred_class_name,\n",
    "    class_map=class_map,\n",
    "    FPM_type=\"fpgrowth\",\n",
    ")\n",
    "\n",
    "    \n",
    "display(printable_top_k(\n",
    "    FP_fm, metric, COL_info_detail, K=K, abbreviations=abbreviations))\n",
    "\n",
    "FP_fm_pr = printable_top_k(\n",
    "    FP_fm, metric, COL_info, K=K, abbreviations=abbreviations\n",
    ")"
   ]
  },
  {
   "cell_type": "code",
   "execution_count": 54,
   "metadata": {
    "ExecuteTime": {
     "end_time": "2022-01-22T08:43:14.139691Z",
     "start_time": "2022-01-22T08:43:14.117162Z"
    },
    "scrolled": false
   },
   "outputs": [
    {
     "data": {
      "text/html": [
       "<div>\n",
       "<style scoped>\n",
       "    .dataframe tbody tr th:only-of-type {\n",
       "        vertical-align: middle;\n",
       "    }\n",
       "\n",
       "    .dataframe tbody tr th {\n",
       "        vertical-align: top;\n",
       "    }\n",
       "\n",
       "    .dataframe thead th {\n",
       "        text-align: right;\n",
       "    }\n",
       "</style>\n",
       "<table border=\"1\" class=\"dataframe\">\n",
       "  <thead>\n",
       "    <tr style=\"text-align: right;\">\n",
       "      <th></th>\n",
       "      <th>itemsets</th>\n",
       "      <th>sup</th>\n",
       "      <th>Δ_fpr</th>\n",
       "      <th>t_fp</th>\n",
       "    </tr>\n",
       "  </thead>\n",
       "  <tbody>\n",
       "    <tr>\n",
       "      <th>2416</th>\n",
       "      <td>age=[25-32], charge=F, #prior&gt;=9, sex=Male</td>\n",
       "      <td>0.03</td>\n",
       "      <td>0.621</td>\n",
       "      <td>7.7</td>\n",
       "    </tr>\n",
       "    <tr>\n",
       "      <th>2267</th>\n",
       "      <td>age&lt;=32, #prior&gt;=9, race=Afr-Am, sex=Male</td>\n",
       "      <td>0.03</td>\n",
       "      <td>0.601</td>\n",
       "      <td>7.1</td>\n",
       "    </tr>\n",
       "    <tr>\n",
       "      <th>2229</th>\n",
       "      <td>age&lt;=32, charge=F, #prior&gt;=9, sex=Male</td>\n",
       "      <td>0.03</td>\n",
       "      <td>0.599</td>\n",
       "      <td>7.4</td>\n",
       "    </tr>\n",
       "  </tbody>\n",
       "</table>\n",
       "</div>"
      ],
      "text/plain": [
       "                                        itemsets   sup  Δ_fpr  t_fp\n",
       "2416  age=[25-32], charge=F, #prior>=9, sex=Male  0.03  0.621   7.7\n",
       "2267   age<=32, #prior>=9, race=Afr-Am, sex=Male  0.03  0.601   7.1\n",
       "2229      age<=32, charge=F, #prior>=9, sex=Male  0.03  0.599   7.4"
      ]
     },
     "execution_count": 54,
     "metadata": {},
     "output_type": "execute_result"
    }
   ],
   "source": [
    "FP_fm_pr"
   ]
  },
  {
   "cell_type": "code",
   "execution_count": 55,
   "metadata": {
    "ExecuteTime": {
     "end_time": "2022-01-22T08:43:14.162814Z",
     "start_time": "2022-01-22T08:43:14.141341Z"
    }
   },
   "outputs": [],
   "source": [
    "out_support.setdefault(min_sup_divergence_025, {}).setdefault(type_experiment, {})[\"with_gen\"] = FP_fm_pr.head(1)"
   ]
  },
  {
   "cell_type": "markdown",
   "metadata": {
    "ExecuteTime": {
     "end_time": "2022-01-14T19:14:57.835890Z",
     "start_time": "2022-01-14T19:14:57.814637Z"
    }
   },
   "source": [
    "### Sup divergence = 0.01"
   ]
  },
  {
   "cell_type": "code",
   "execution_count": 56,
   "metadata": {
    "ExecuteTime": {
     "end_time": "2022-01-22T08:43:14.177428Z",
     "start_time": "2022-01-22T08:43:14.164998Z"
    }
   },
   "outputs": [],
   "source": [
    "min_sup_divergence_01 = 0.01"
   ]
  },
  {
   "cell_type": "markdown",
   "metadata": {},
   "source": [
    "#### Extract divergence "
   ]
  },
  {
   "cell_type": "markdown",
   "metadata": {
    "ExecuteTime": {
     "end_time": "2022-01-04T15:36:06.722985Z",
     "start_time": "2022-01-04T15:36:06.718877Z"
    }
   },
   "source": [
    "##### Without gen"
   ]
  },
  {
   "cell_type": "code",
   "execution_count": 57,
   "metadata": {
    "ExecuteTime": {
     "end_time": "2022-01-22T08:43:14.697549Z",
     "start_time": "2022-01-22T08:43:14.179186Z"
    }
   },
   "outputs": [
    {
     "data": {
      "text/html": [
       "<div>\n",
       "<style scoped>\n",
       "    .dataframe tbody tr th:only-of-type {\n",
       "        vertical-align: middle;\n",
       "    }\n",
       "\n",
       "    .dataframe tbody tr th {\n",
       "        vertical-align: top;\n",
       "    }\n",
       "\n",
       "    .dataframe thead th {\n",
       "        text-align: right;\n",
       "    }\n",
       "</style>\n",
       "<table border=\"1\" class=\"dataframe\">\n",
       "  <thead>\n",
       "    <tr style=\"text-align: right;\">\n",
       "      <th></th>\n",
       "      <th>itemsets</th>\n",
       "      <th>sup</th>\n",
       "      <th>tn</th>\n",
       "      <th>fp</th>\n",
       "      <th>fn</th>\n",
       "      <th>tp</th>\n",
       "      <th>Δ_fpr</th>\n",
       "      <th>t_fp</th>\n",
       "    </tr>\n",
       "  </thead>\n",
       "  <tbody>\n",
       "    <tr>\n",
       "      <th>848</th>\n",
       "      <td>age&lt;=24, charge=F, #prior=[4-8]</td>\n",
       "      <td>0.02</td>\n",
       "      <td>4</td>\n",
       "      <td>12</td>\n",
       "      <td>30</td>\n",
       "      <td>47</td>\n",
       "      <td>0.662</td>\n",
       "      <td>6.2</td>\n",
       "    </tr>\n",
       "    <tr>\n",
       "      <th>571</th>\n",
       "      <td>age=[28-32], charge=F, #prior&gt;=9, sex=Male</td>\n",
       "      <td>0.02</td>\n",
       "      <td>6</td>\n",
       "      <td>17</td>\n",
       "      <td>40</td>\n",
       "      <td>71</td>\n",
       "      <td>0.651</td>\n",
       "      <td>7.2</td>\n",
       "    </tr>\n",
       "    <tr>\n",
       "      <th>921</th>\n",
       "      <td>age&lt;=24, charge=F, #prior=[4-8], sex=Male</td>\n",
       "      <td>0.01</td>\n",
       "      <td>4</td>\n",
       "      <td>11</td>\n",
       "      <td>28</td>\n",
       "      <td>42</td>\n",
       "      <td>0.645</td>\n",
       "      <td>5.7</td>\n",
       "    </tr>\n",
       "  </tbody>\n",
       "</table>\n",
       "</div>"
      ],
      "text/plain": [
       "                                       itemsets   sup  tn  fp  fn  tp  Δ_fpr  \\\n",
       "848             age<=24, charge=F, #prior=[4-8]  0.02   4  12  30  47  0.662   \n",
       "571  age=[28-32], charge=F, #prior>=9, sex=Male  0.02   6  17  40  71  0.651   \n",
       "921   age<=24, charge=F, #prior=[4-8], sex=Male  0.01   4  11  28  42  0.645   \n",
       "\n",
       "     t_fp  \n",
       "848   6.2  \n",
       "571   7.2  \n",
       "921   5.7  "
      ]
     },
     "metadata": {},
     "output_type": "display_data"
    }
   ],
   "source": [
    "from utils_extract_divergence_generalized import (\n",
    "    extract_divergence_generalized,\n",
    ")\n",
    "\n",
    "FP_fm = extract_divergence_generalized(\n",
    "    df_analyze,\n",
    "    discretizations,\n",
    "    generalization_dict,\n",
    "    continuous_attributes,\n",
    "    min_sup_divergence=min_sup_divergence_01,\n",
    "    apply_generalization=False,\n",
    "    true_class_name=true_class_name,\n",
    "    predicted_class_name=pred_class_name,\n",
    "    class_map=class_map,\n",
    "    FPM_type=\"fpgrowth\",\n",
    ")\n",
    "\n",
    "display(printable_top_k(\n",
    "    FP_fm, metric, COL_info_detail, K=K, abbreviations=abbreviations))\n",
    "\n",
    "FP_fm_pr = printable_top_k(\n",
    "    FP_fm, metric, COL_info, K=K, abbreviations=abbreviations\n",
    ")"
   ]
  },
  {
   "cell_type": "code",
   "execution_count": 58,
   "metadata": {
    "ExecuteTime": {
     "end_time": "2022-01-22T08:43:14.718298Z",
     "start_time": "2022-01-22T08:43:14.699046Z"
    }
   },
   "outputs": [
    {
     "data": {
      "text/html": [
       "<div>\n",
       "<style scoped>\n",
       "    .dataframe tbody tr th:only-of-type {\n",
       "        vertical-align: middle;\n",
       "    }\n",
       "\n",
       "    .dataframe tbody tr th {\n",
       "        vertical-align: top;\n",
       "    }\n",
       "\n",
       "    .dataframe thead th {\n",
       "        text-align: right;\n",
       "    }\n",
       "</style>\n",
       "<table border=\"1\" class=\"dataframe\">\n",
       "  <thead>\n",
       "    <tr style=\"text-align: right;\">\n",
       "      <th></th>\n",
       "      <th>itemsets</th>\n",
       "      <th>sup</th>\n",
       "      <th>Δ_fpr</th>\n",
       "      <th>t_fp</th>\n",
       "    </tr>\n",
       "  </thead>\n",
       "  <tbody>\n",
       "    <tr>\n",
       "      <th>848</th>\n",
       "      <td>age&lt;=24, charge=F, #prior=[4-8]</td>\n",
       "      <td>0.02</td>\n",
       "      <td>0.662</td>\n",
       "      <td>6.2</td>\n",
       "    </tr>\n",
       "    <tr>\n",
       "      <th>571</th>\n",
       "      <td>age=[28-32], charge=F, #prior&gt;=9, sex=Male</td>\n",
       "      <td>0.02</td>\n",
       "      <td>0.651</td>\n",
       "      <td>7.2</td>\n",
       "    </tr>\n",
       "    <tr>\n",
       "      <th>921</th>\n",
       "      <td>age&lt;=24, charge=F, #prior=[4-8], sex=Male</td>\n",
       "      <td>0.01</td>\n",
       "      <td>0.645</td>\n",
       "      <td>5.7</td>\n",
       "    </tr>\n",
       "  </tbody>\n",
       "</table>\n",
       "</div>"
      ],
      "text/plain": [
       "                                       itemsets   sup  Δ_fpr  t_fp\n",
       "848             age<=24, charge=F, #prior=[4-8]  0.02  0.662   6.2\n",
       "571  age=[28-32], charge=F, #prior>=9, sex=Male  0.02  0.651   7.2\n",
       "921   age<=24, charge=F, #prior=[4-8], sex=Male  0.01  0.645   5.7"
      ]
     },
     "execution_count": 58,
     "metadata": {},
     "output_type": "execute_result"
    }
   ],
   "source": [
    "FP_fm_pr"
   ]
  },
  {
   "cell_type": "code",
   "execution_count": 59,
   "metadata": {
    "ExecuteTime": {
     "end_time": "2022-01-22T08:43:14.741962Z",
     "start_time": "2022-01-22T08:43:14.722352Z"
    }
   },
   "outputs": [],
   "source": [
    "out_support.setdefault(min_sup_divergence_01, {}).setdefault(type_experiment, {})[\"without_gen\"] = FP_fm_pr.head(1)"
   ]
  },
  {
   "cell_type": "markdown",
   "metadata": {},
   "source": [
    "#### Extract divergence "
   ]
  },
  {
   "cell_type": "markdown",
   "metadata": {},
   "source": [
    "##### With gen"
   ]
  },
  {
   "cell_type": "code",
   "execution_count": 60,
   "metadata": {
    "ExecuteTime": {
     "end_time": "2022-01-22T08:43:17.676176Z",
     "start_time": "2022-01-22T08:43:14.743743Z"
    }
   },
   "outputs": [
    {
     "data": {
      "text/html": [
       "<div>\n",
       "<style scoped>\n",
       "    .dataframe tbody tr th:only-of-type {\n",
       "        vertical-align: middle;\n",
       "    }\n",
       "\n",
       "    .dataframe tbody tr th {\n",
       "        vertical-align: top;\n",
       "    }\n",
       "\n",
       "    .dataframe thead th {\n",
       "        text-align: right;\n",
       "    }\n",
       "</style>\n",
       "<table border=\"1\" class=\"dataframe\">\n",
       "  <thead>\n",
       "    <tr style=\"text-align: right;\">\n",
       "      <th></th>\n",
       "      <th>itemsets</th>\n",
       "      <th>sup</th>\n",
       "      <th>tn</th>\n",
       "      <th>fp</th>\n",
       "      <th>fn</th>\n",
       "      <th>tp</th>\n",
       "      <th>Δ_fpr</th>\n",
       "      <th>t_fp</th>\n",
       "    </tr>\n",
       "  </thead>\n",
       "  <tbody>\n",
       "    <tr>\n",
       "      <th>3697</th>\n",
       "      <td>age=[25-32], stay&gt;=3.0, #prior&gt;=9</td>\n",
       "      <td>0.02</td>\n",
       "      <td>3</td>\n",
       "      <td>15</td>\n",
       "      <td>37</td>\n",
       "      <td>83</td>\n",
       "      <td>0.745</td>\n",
       "      <td>8.1</td>\n",
       "    </tr>\n",
       "    <tr>\n",
       "      <th>5374</th>\n",
       "      <td>age=[28-32], stay&gt;=3.0, #prior&gt;=9</td>\n",
       "      <td>0.02</td>\n",
       "      <td>2</td>\n",
       "      <td>10</td>\n",
       "      <td>30</td>\n",
       "      <td>53</td>\n",
       "      <td>0.745</td>\n",
       "      <td>6.6</td>\n",
       "    </tr>\n",
       "    <tr>\n",
       "      <th>4486</th>\n",
       "      <td>age=[25-32], charge=F, stay&gt;=3.0, #prior&gt;=9</td>\n",
       "      <td>0.02</td>\n",
       "      <td>3</td>\n",
       "      <td>14</td>\n",
       "      <td>30</td>\n",
       "      <td>68</td>\n",
       "      <td>0.735</td>\n",
       "      <td>7.7</td>\n",
       "    </tr>\n",
       "  </tbody>\n",
       "</table>\n",
       "</div>"
      ],
      "text/plain": [
       "                                         itemsets   sup  tn  fp  fn  tp  \\\n",
       "3697            age=[25-32], stay>=3.0, #prior>=9  0.02   3  15  37  83   \n",
       "5374            age=[28-32], stay>=3.0, #prior>=9  0.02   2  10  30  53   \n",
       "4486  age=[25-32], charge=F, stay>=3.0, #prior>=9  0.02   3  14  30  68   \n",
       "\n",
       "      Δ_fpr  t_fp  \n",
       "3697  0.745   8.1  \n",
       "5374  0.745   6.6  \n",
       "4486  0.735   7.7  "
      ]
     },
     "metadata": {},
     "output_type": "display_data"
    }
   ],
   "source": [
    "from utils_extract_divergence_generalized import (\n",
    "    extract_divergence_generalized,\n",
    ")\n",
    "\n",
    "FP_fm = extract_divergence_generalized(\n",
    "    df_analyze,\n",
    "    discretizations,\n",
    "    generalization_dict,\n",
    "    continuous_attributes,\n",
    "    min_sup_divergence=min_sup_divergence_01,\n",
    "    apply_generalization=True,\n",
    "    true_class_name=true_class_name,\n",
    "    predicted_class_name=pred_class_name,\n",
    "    class_map=class_map,\n",
    "    FPM_type=\"fpgrowth\",\n",
    ")\n",
    "\n",
    "    \n",
    "display(printable_top_k(\n",
    "    FP_fm, metric, COL_info_detail, K=K, abbreviations=abbreviations))\n",
    "\n",
    "FP_fm_pr = printable_top_k(\n",
    "    FP_fm, metric, COL_info, K=K, abbreviations=abbreviations\n",
    ")"
   ]
  },
  {
   "cell_type": "code",
   "execution_count": 61,
   "metadata": {
    "ExecuteTime": {
     "end_time": "2022-01-22T08:43:17.700673Z",
     "start_time": "2022-01-22T08:43:17.679191Z"
    },
    "scrolled": false
   },
   "outputs": [
    {
     "data": {
      "text/html": [
       "<div>\n",
       "<style scoped>\n",
       "    .dataframe tbody tr th:only-of-type {\n",
       "        vertical-align: middle;\n",
       "    }\n",
       "\n",
       "    .dataframe tbody tr th {\n",
       "        vertical-align: top;\n",
       "    }\n",
       "\n",
       "    .dataframe thead th {\n",
       "        text-align: right;\n",
       "    }\n",
       "</style>\n",
       "<table border=\"1\" class=\"dataframe\">\n",
       "  <thead>\n",
       "    <tr style=\"text-align: right;\">\n",
       "      <th></th>\n",
       "      <th>itemsets</th>\n",
       "      <th>sup</th>\n",
       "      <th>Δ_fpr</th>\n",
       "      <th>t_fp</th>\n",
       "    </tr>\n",
       "  </thead>\n",
       "  <tbody>\n",
       "    <tr>\n",
       "      <th>3697</th>\n",
       "      <td>age=[25-32], stay&gt;=3.0, #prior&gt;=9</td>\n",
       "      <td>0.02</td>\n",
       "      <td>0.745</td>\n",
       "      <td>8.1</td>\n",
       "    </tr>\n",
       "    <tr>\n",
       "      <th>5374</th>\n",
       "      <td>age=[28-32], stay&gt;=3.0, #prior&gt;=9</td>\n",
       "      <td>0.02</td>\n",
       "      <td>0.745</td>\n",
       "      <td>6.6</td>\n",
       "    </tr>\n",
       "    <tr>\n",
       "      <th>4486</th>\n",
       "      <td>age=[25-32], charge=F, stay&gt;=3.0, #prior&gt;=9</td>\n",
       "      <td>0.02</td>\n",
       "      <td>0.735</td>\n",
       "      <td>7.7</td>\n",
       "    </tr>\n",
       "  </tbody>\n",
       "</table>\n",
       "</div>"
      ],
      "text/plain": [
       "                                         itemsets   sup  Δ_fpr  t_fp\n",
       "3697            age=[25-32], stay>=3.0, #prior>=9  0.02  0.745   8.1\n",
       "5374            age=[28-32], stay>=3.0, #prior>=9  0.02  0.745   6.6\n",
       "4486  age=[25-32], charge=F, stay>=3.0, #prior>=9  0.02  0.735   7.7"
      ]
     },
     "execution_count": 61,
     "metadata": {},
     "output_type": "execute_result"
    }
   ],
   "source": [
    "FP_fm_pr"
   ]
  },
  {
   "cell_type": "code",
   "execution_count": 62,
   "metadata": {
    "ExecuteTime": {
     "end_time": "2022-01-22T08:43:18.278036Z",
     "start_time": "2022-01-22T08:43:17.704995Z"
    }
   },
   "outputs": [
    {
     "data": {
      "text/plain": [
       "{3697: {'itemsets': 'age=[25-32], stay>=3.0, #prior>=9',\n",
       "  'sup': 0.02,\n",
       "  'tn': 3,\n",
       "  'fp': 15,\n",
       "  'fn': 37,\n",
       "  'tp': 83,\n",
       "  'Δ_fpr': 0.745,\n",
       "  't_fp': 8.1}}"
      ]
     },
     "execution_count": 62,
     "metadata": {},
     "output_type": "execute_result"
    }
   ],
   "source": [
    "printable_top_k(\n",
    "    FP_fm, metric, COL_info_detail, K=K, abbreviations=abbreviations).head(1).T.to_dict()"
   ]
  },
  {
   "cell_type": "code",
   "execution_count": 63,
   "metadata": {
    "ExecuteTime": {
     "end_time": "2022-01-22T08:43:18.292055Z",
     "start_time": "2022-01-22T08:43:18.279741Z"
    }
   },
   "outputs": [],
   "source": [
    "out_support.setdefault(min_sup_divergence_01, {}).setdefault(type_experiment, {})[\"with_gen\"] = FP_fm_pr.head(1)"
   ]
  },
  {
   "cell_type": "markdown",
   "metadata": {},
   "source": [
    "# Quantile "
   ]
  },
  {
   "cell_type": "code",
   "execution_count": 64,
   "metadata": {
    "ExecuteTime": {
     "end_time": "2022-01-22T08:43:18.312395Z",
     "start_time": "2022-01-22T08:43:18.293892Z"
    }
   },
   "outputs": [],
   "source": [
    "import warnings\n",
    "warnings.filterwarnings(\"ignore\")"
   ]
  },
  {
   "cell_type": "code",
   "execution_count": 65,
   "metadata": {
    "ExecuteTime": {
     "end_time": "2022-01-22T08:43:18.340773Z",
     "start_time": "2022-01-22T08:43:18.314394Z"
    }
   },
   "outputs": [],
   "source": [
    "\n",
    "def check_ranges_validity(dfI_discr_quantile, bins, continuous_attributes):\n",
    "    for cont_attr in continuous_attributes:\n",
    "        print(\n",
    "            cont_attr,\n",
    "            len(dfI_discr_quantile[cont_attr].value_counts()),\n",
    "            dict(dfI_discr_quantile[cont_attr].value_counts()),\n",
    "            sum(dfI_discr_quantile[cont_attr].value_counts().values),\n",
    "        )\n",
    "        if len(dfI_discr_quantile[cont_attr].value_counts()) != bins:\n",
    "            print(dict(dfI_discr_quantile[cont_attr].value_counts()))\n",
    "            raise ValueError\n"
   ]
  },
  {
   "cell_type": "code",
   "execution_count": 66,
   "metadata": {
    "ExecuteTime": {
     "end_time": "2022-01-22T08:43:18.361115Z",
     "start_time": "2022-01-22T08:43:18.344618Z"
    }
   },
   "outputs": [],
   "source": [
    "bins = 5"
   ]
  },
  {
   "cell_type": "code",
   "execution_count": 67,
   "metadata": {
    "ExecuteTime": {
     "end_time": "2022-01-22T08:43:18.453481Z",
     "start_time": "2022-01-22T08:43:18.362558Z"
    }
   },
   "outputs": [
    {
     "name": "stdout",
     "output_type": "stream",
     "text": [
      "priors_count 5 {'<=1': 3214, '>7': 853, '(2-4]': 783, '(1-2]': 681, '(4-7]': 641} 6172\n",
      "length_of_stay 5 {'<=1': 3397, '>24': 870, '(4-24]': 833, '(1-2]': 696, '(2-4]': 376} 6172\n",
      "age 5 {'<=24': 1347, '(24-29]': 1334, '>45': 1201, '(29-35]': 1168, '(35-45]': 1122} 6172\n"
     ]
    }
   ],
   "source": [
    "from import_datasets import discretize\n",
    "\n",
    "dfI_discr_quantile = discretize(\n",
    "    dfI, bins=bins, strategy=\"quantile\", adaptive=True\n",
    ")\n",
    "\n",
    "# TODO\n",
    "dfI_discr_quantile[true_class_name] = dfI_discr_quantile[\n",
    "    true_class_name\n",
    "].astype(int)\n",
    "dfI_discr_quantile[pred_class_name] = dfI_discr_quantile[\n",
    "    pred_class_name\n",
    "].astype(int)\n",
    "\n",
    "check_ranges_validity(dfI_discr_quantile, bins, continuous_attributes)"
   ]
  },
  {
   "cell_type": "code",
   "execution_count": 68,
   "metadata": {
    "ExecuteTime": {
     "end_time": "2022-01-22T08:43:18.874482Z",
     "start_time": "2022-01-22T08:43:18.454935Z"
    }
   },
   "outputs": [
    {
     "data": {
      "text/html": [
       "<div>\n",
       "<style scoped>\n",
       "    .dataframe tbody tr th:only-of-type {\n",
       "        vertical-align: middle;\n",
       "    }\n",
       "\n",
       "    .dataframe tbody tr th {\n",
       "        vertical-align: top;\n",
       "    }\n",
       "\n",
       "    .dataframe thead th {\n",
       "        text-align: right;\n",
       "    }\n",
       "</style>\n",
       "<table border=\"1\" class=\"dataframe\">\n",
       "  <thead>\n",
       "    <tr style=\"text-align: right;\">\n",
       "      <th></th>\n",
       "      <th>itemsets</th>\n",
       "      <th>sup</th>\n",
       "      <th>tn</th>\n",
       "      <th>fp</th>\n",
       "      <th>fn</th>\n",
       "      <th>tp</th>\n",
       "      <th>Δ_fpr</th>\n",
       "      <th>t_fp</th>\n",
       "    </tr>\n",
       "  </thead>\n",
       "  <tbody>\n",
       "    <tr>\n",
       "      <th>567</th>\n",
       "      <td>age=(24-29], #prior&gt;7, race=Afr-Am, sex=Male</td>\n",
       "      <td>0.02</td>\n",
       "      <td>7</td>\n",
       "      <td>10</td>\n",
       "      <td>40</td>\n",
       "      <td>85</td>\n",
       "      <td>0.500</td>\n",
       "      <td>4.4</td>\n",
       "    </tr>\n",
       "    <tr>\n",
       "      <th>529</th>\n",
       "      <td>age=(24-29], #prior&gt;7, race=Afr-Am</td>\n",
       "      <td>0.02</td>\n",
       "      <td>8</td>\n",
       "      <td>11</td>\n",
       "      <td>42</td>\n",
       "      <td>90</td>\n",
       "      <td>0.491</td>\n",
       "      <td>4.6</td>\n",
       "    </tr>\n",
       "    <tr>\n",
       "      <th>560</th>\n",
       "      <td>age=(29-35], charge=F, #prior&gt;7, race=Afr-Am</td>\n",
       "      <td>0.02</td>\n",
       "      <td>14</td>\n",
       "      <td>19</td>\n",
       "      <td>33</td>\n",
       "      <td>78</td>\n",
       "      <td>0.487</td>\n",
       "      <td>5.8</td>\n",
       "    </tr>\n",
       "  </tbody>\n",
       "</table>\n",
       "</div>"
      ],
      "text/plain": [
       "                                         itemsets   sup  tn  fp  fn  tp  \\\n",
       "567  age=(24-29], #prior>7, race=Afr-Am, sex=Male  0.02   7  10  40  85   \n",
       "529            age=(24-29], #prior>7, race=Afr-Am  0.02   8  11  42  90   \n",
       "560  age=(29-35], charge=F, #prior>7, race=Afr-Am  0.02  14  19  33  78   \n",
       "\n",
       "     Δ_fpr  t_fp  \n",
       "567  0.500   4.4  \n",
       "529  0.491   4.6  \n",
       "560  0.487   5.8  "
      ]
     },
     "metadata": {},
     "output_type": "display_data"
    },
    {
     "data": {
      "text/html": [
       "<div>\n",
       "<style scoped>\n",
       "    .dataframe tbody tr th:only-of-type {\n",
       "        vertical-align: middle;\n",
       "    }\n",
       "\n",
       "    .dataframe tbody tr th {\n",
       "        vertical-align: top;\n",
       "    }\n",
       "\n",
       "    .dataframe thead th {\n",
       "        text-align: right;\n",
       "    }\n",
       "</style>\n",
       "<table border=\"1\" class=\"dataframe\">\n",
       "  <thead>\n",
       "    <tr style=\"text-align: right;\">\n",
       "      <th></th>\n",
       "      <th>support</th>\n",
       "      <th>itemsets</th>\n",
       "      <th>tn</th>\n",
       "      <th>fp</th>\n",
       "      <th>fn</th>\n",
       "      <th>tp</th>\n",
       "      <th>length</th>\n",
       "      <th>support_count</th>\n",
       "      <th>fpr</th>\n",
       "      <th>fnr</th>\n",
       "      <th>accuracy</th>\n",
       "      <th>error</th>\n",
       "      <th>d_fnr</th>\n",
       "      <th>d_fpr</th>\n",
       "      <th>d_accuracy</th>\n",
       "      <th>d_error</th>\n",
       "      <th>t_value_fp</th>\n",
       "      <th>t_value_fn</th>\n",
       "      <th>t_value_tp_tn</th>\n",
       "      <th>t_value_fp_fn</th>\n",
       "    </tr>\n",
       "  </thead>\n",
       "  <tbody>\n",
       "    <tr>\n",
       "      <th>567</th>\n",
       "      <td>0.023007</td>\n",
       "      <td>(sex=Male, priors_count=&gt;7, race=African-American, age=(24-29])</td>\n",
       "      <td>7</td>\n",
       "      <td>10</td>\n",
       "      <td>40</td>\n",
       "      <td>85</td>\n",
       "      <td>4</td>\n",
       "      <td>142.0</td>\n",
       "      <td>0.588235</td>\n",
       "      <td>0.320000</td>\n",
       "      <td>0.647887</td>\n",
       "      <td>0.352113</td>\n",
       "      <td>-0.378469</td>\n",
       "      <td>0.499921</td>\n",
       "      <td>0.013895</td>\n",
       "      <td>-0.013895</td>\n",
       "      <td>4.437526</td>\n",
       "      <td>8.892988</td>\n",
       "      <td>0.295726</td>\n",
       "      <td>0.295726</td>\n",
       "    </tr>\n",
       "    <tr>\n",
       "      <th>529</th>\n",
       "      <td>0.024465</td>\n",
       "      <td>(priors_count=&gt;7, race=African-American, age=(24-29])</td>\n",
       "      <td>8</td>\n",
       "      <td>11</td>\n",
       "      <td>42</td>\n",
       "      <td>90</td>\n",
       "      <td>3</td>\n",
       "      <td>151.0</td>\n",
       "      <td>0.578947</td>\n",
       "      <td>0.318182</td>\n",
       "      <td>0.649007</td>\n",
       "      <td>0.350993</td>\n",
       "      <td>-0.380287</td>\n",
       "      <td>0.490633</td>\n",
       "      <td>0.015014</td>\n",
       "      <td>-0.015014</td>\n",
       "      <td>4.571741</td>\n",
       "      <td>9.183433</td>\n",
       "      <td>0.336206</td>\n",
       "      <td>0.336206</td>\n",
       "    </tr>\n",
       "    <tr>\n",
       "      <th>560</th>\n",
       "      <td>0.023331</td>\n",
       "      <td>(priors_count=&gt;7, age=(29-35], race=African-American, c_charge_degree=F)</td>\n",
       "      <td>14</td>\n",
       "      <td>19</td>\n",
       "      <td>33</td>\n",
       "      <td>78</td>\n",
       "      <td>4</td>\n",
       "      <td>144.0</td>\n",
       "      <td>0.575758</td>\n",
       "      <td>0.297297</td>\n",
       "      <td>0.638889</td>\n",
       "      <td>0.361111</td>\n",
       "      <td>-0.401172</td>\n",
       "      <td>0.487444</td>\n",
       "      <td>0.004897</td>\n",
       "      <td>-0.004897</td>\n",
       "      <td>5.844195</td>\n",
       "      <td>9.070071</td>\n",
       "      <td>0.075687</td>\n",
       "      <td>0.075687</td>\n",
       "    </tr>\n",
       "    <tr>\n",
       "      <th>992</th>\n",
       "      <td>0.012638</td>\n",
       "      <td>(race=African-American, priors_count=(2-4], age=&lt;=24, c_charge_degree=F)</td>\n",
       "      <td>7</td>\n",
       "      <td>9</td>\n",
       "      <td>29</td>\n",
       "      <td>33</td>\n",
       "      <td>4</td>\n",
       "      <td>78.0</td>\n",
       "      <td>0.562500</td>\n",
       "      <td>0.467742</td>\n",
       "      <td>0.512821</td>\n",
       "      <td>0.487179</td>\n",
       "      <td>-0.230727</td>\n",
       "      <td>0.474186</td>\n",
       "      <td>-0.121172</td>\n",
       "      <td>0.121172</td>\n",
       "      <td>4.092776</td>\n",
       "      <td>3.673344</td>\n",
       "      <td>2.173561</td>\n",
       "      <td>2.173561</td>\n",
       "    </tr>\n",
       "    <tr>\n",
       "      <th>431</th>\n",
       "      <td>0.029974</td>\n",
       "      <td>(priors_count=&gt;7, age=(29-35], c_charge_degree=F)</td>\n",
       "      <td>19</td>\n",
       "      <td>24</td>\n",
       "      <td>47</td>\n",
       "      <td>95</td>\n",
       "      <td>3</td>\n",
       "      <td>185.0</td>\n",
       "      <td>0.558140</td>\n",
       "      <td>0.330986</td>\n",
       "      <td>0.616216</td>\n",
       "      <td>0.383784</td>\n",
       "      <td>-0.367483</td>\n",
       "      <td>0.469826</td>\n",
       "      <td>-0.017776</td>\n",
       "      <td>0.017776</td>\n",
       "      <td>6.359932</td>\n",
       "      <td>9.103601</td>\n",
       "      <td>0.526884</td>\n",
       "      <td>0.526884</td>\n",
       "    </tr>\n",
       "  </tbody>\n",
       "</table>\n",
       "</div>"
      ],
      "text/plain": [
       "      support  \\\n",
       "567  0.023007   \n",
       "529  0.024465   \n",
       "560  0.023331   \n",
       "992  0.012638   \n",
       "431  0.029974   \n",
       "\n",
       "                                                                     itemsets  \\\n",
       "567           (sex=Male, priors_count=>7, race=African-American, age=(24-29])   \n",
       "529                     (priors_count=>7, race=African-American, age=(24-29])   \n",
       "560  (priors_count=>7, age=(29-35], race=African-American, c_charge_degree=F)   \n",
       "992  (race=African-American, priors_count=(2-4], age=<=24, c_charge_degree=F)   \n",
       "431                         (priors_count=>7, age=(29-35], c_charge_degree=F)   \n",
       "\n",
       "     tn  fp  fn  tp  length  support_count       fpr       fnr  accuracy  \\\n",
       "567   7  10  40  85       4          142.0  0.588235  0.320000  0.647887   \n",
       "529   8  11  42  90       3          151.0  0.578947  0.318182  0.649007   \n",
       "560  14  19  33  78       4          144.0  0.575758  0.297297  0.638889   \n",
       "992   7   9  29  33       4           78.0  0.562500  0.467742  0.512821   \n",
       "431  19  24  47  95       3          185.0  0.558140  0.330986  0.616216   \n",
       "\n",
       "        error     d_fnr     d_fpr  d_accuracy   d_error  t_value_fp  \\\n",
       "567  0.352113 -0.378469  0.499921    0.013895 -0.013895    4.437526   \n",
       "529  0.350993 -0.380287  0.490633    0.015014 -0.015014    4.571741   \n",
       "560  0.361111 -0.401172  0.487444    0.004897 -0.004897    5.844195   \n",
       "992  0.487179 -0.230727  0.474186   -0.121172  0.121172    4.092776   \n",
       "431  0.383784 -0.367483  0.469826   -0.017776  0.017776    6.359932   \n",
       "\n",
       "     t_value_fn  t_value_tp_tn  t_value_fp_fn  \n",
       "567    8.892988       0.295726       0.295726  \n",
       "529    9.183433       0.336206       0.336206  \n",
       "560    9.070071       0.075687       0.075687  \n",
       "992    3.673344       2.173561       2.173561  \n",
       "431    9.103601       0.526884       0.526884  "
      ]
     },
     "execution_count": 68,
     "metadata": {},
     "output_type": "execute_result"
    }
   ],
   "source": [
    "# ### Extract divergence\n",
    "\n",
    "from divexplorer_generalized.FP_DivergenceExplorer import FP_DivergenceExplorer\n",
    "\n",
    "fp_diver = FP_DivergenceExplorer(\n",
    "    dfI_discr_quantile,\n",
    "    true_class_name=true_class_name,\n",
    "    predicted_class_name=pred_class_name,\n",
    ")\n",
    "\n",
    "FP_fm = fp_diver.getFrequentPatternDivergence(\n",
    "                min_support=0.01,\n",
    "                metrics=[\"d_fpr\", \"d_fnr\", \"d_accuracy\", \"d_error\"],\n",
    "            )\n",
    "\n",
    "display(printable_top_k(\n",
    "    FP_fm, metric, COL_info_detail, K=K, abbreviations=abbreviations))\n",
    "\n",
    "FP_fm.sort_values(\"d_fpr\", ascending = False).head()"
   ]
  },
  {
   "cell_type": "markdown",
   "metadata": {},
   "source": [
    "# Uniform "
   ]
  },
  {
   "cell_type": "code",
   "execution_count": 69,
   "metadata": {
    "ExecuteTime": {
     "end_time": "2022-01-22T08:43:18.892820Z",
     "start_time": "2022-01-22T08:43:18.876128Z"
    }
   },
   "outputs": [],
   "source": [
    "\n",
    "def check_ranges_validity(dfI_discr_quantile, bins, continuous_attributes):\n",
    "    for cont_attr in continuous_attributes:\n",
    "        print(\n",
    "            cont_attr,\n",
    "            len(dfI_discr_quantile[cont_attr].value_counts()),\n",
    "            dict(dfI_discr_quantile[cont_attr].value_counts()),\n",
    "            sum(dfI_discr_quantile[cont_attr].value_counts().values),\n",
    "        )\n",
    "        if len(dfI_discr_quantile[cont_attr].value_counts()) != bins:\n",
    "            print(dict(dfI_discr_quantile[cont_attr].value_counts()))\n",
    "            raise ValueError\n"
   ]
  },
  {
   "cell_type": "code",
   "execution_count": 70,
   "metadata": {
    "ExecuteTime": {
     "end_time": "2022-01-22T08:43:18.909662Z",
     "start_time": "2022-01-22T08:43:18.894975Z"
    }
   },
   "outputs": [],
   "source": [
    "bins = 5"
   ]
  },
  {
   "cell_type": "code",
   "execution_count": 71,
   "metadata": {
    "ExecuteTime": {
     "end_time": "2022-01-22T08:43:19.035455Z",
     "start_time": "2022-01-22T08:43:18.912116Z"
    }
   },
   "outputs": [
    {
     "name": "stdout",
     "output_type": "stream",
     "text": [
      "priors_count 5 {'<=8': 5463, '(8-15]': 497, '(15-23]': 169, '(23-30]': 36, '>30': 7} 6172\n",
      "length_of_stay 5 {'<=160': 6029, '(160-320]': 115, '(320-480]': 20, '(480-640]': 6, '>640': 2} 6172\n",
      "age 5 {'<=34': 3698, '(34-49]': 1601, '(49-65]': 793, '(65-80]': 78, '>80': 2} 6172\n"
     ]
    }
   ],
   "source": [
    "from import_datasets import discretize\n",
    "\n",
    "dfI_discr_uniform = discretize(\n",
    "            dfI, bins=bins, strategy=\"uniform\", adaptive=True\n",
    "        )\n",
    "\n",
    "# TODO\n",
    "dfI_discr_uniform[true_class_name] = dfI_discr_uniform[true_class_name].astype(\n",
    "    int\n",
    ")\n",
    "dfI_discr_uniform[pred_class_name] = dfI_discr_uniform[pred_class_name].astype(\n",
    "    int\n",
    ")\n",
    "\n",
    "check_ranges_validity(dfI_discr_uniform, bins, continuous_attributes)"
   ]
  },
  {
   "cell_type": "code",
   "execution_count": 72,
   "metadata": {
    "ExecuteTime": {
     "end_time": "2022-01-22T08:43:19.470840Z",
     "start_time": "2022-01-22T08:43:19.038338Z"
    }
   },
   "outputs": [
    {
     "data": {
      "text/html": [
       "<div>\n",
       "<style scoped>\n",
       "    .dataframe tbody tr th:only-of-type {\n",
       "        vertical-align: middle;\n",
       "    }\n",
       "\n",
       "    .dataframe tbody tr th {\n",
       "        vertical-align: top;\n",
       "    }\n",
       "\n",
       "    .dataframe thead th {\n",
       "        text-align: right;\n",
       "    }\n",
       "</style>\n",
       "<table border=\"1\" class=\"dataframe\">\n",
       "  <thead>\n",
       "    <tr style=\"text-align: right;\">\n",
       "      <th></th>\n",
       "      <th>itemsets</th>\n",
       "      <th>sup</th>\n",
       "      <th>tn</th>\n",
       "      <th>fp</th>\n",
       "      <th>fn</th>\n",
       "      <th>tp</th>\n",
       "      <th>Δ_fpr</th>\n",
       "      <th>t_fp</th>\n",
       "    </tr>\n",
       "  </thead>\n",
       "  <tbody>\n",
       "    <tr>\n",
       "      <th>631</th>\n",
       "      <td>age&lt;=34, #prior=(15-23]</td>\n",
       "      <td>0.01</td>\n",
       "      <td>0</td>\n",
       "      <td>6</td>\n",
       "      <td>11</td>\n",
       "      <td>48</td>\n",
       "      <td>0.912</td>\n",
       "      <td>7.1</td>\n",
       "    </tr>\n",
       "    <tr>\n",
       "      <th>360</th>\n",
       "      <td>age&lt;=34, #prior=(8-15], race=Afr-Am</td>\n",
       "      <td>0.03</td>\n",
       "      <td>14</td>\n",
       "      <td>21</td>\n",
       "      <td>59</td>\n",
       "      <td>117</td>\n",
       "      <td>0.512</td>\n",
       "      <td>6.3</td>\n",
       "    </tr>\n",
       "    <tr>\n",
       "      <th>408</th>\n",
       "      <td>age&lt;=34, charge=F, #prior=(8-15], race=Afr-Am</td>\n",
       "      <td>0.03</td>\n",
       "      <td>13</td>\n",
       "      <td>19</td>\n",
       "      <td>47</td>\n",
       "      <td>90</td>\n",
       "      <td>0.505</td>\n",
       "      <td>6.0</td>\n",
       "    </tr>\n",
       "  </tbody>\n",
       "</table>\n",
       "</div>"
      ],
      "text/plain": [
       "                                          itemsets   sup  tn  fp  fn   tp  \\\n",
       "631                        age<=34, #prior=(15-23]  0.01   0   6  11   48   \n",
       "360            age<=34, #prior=(8-15], race=Afr-Am  0.03  14  21  59  117   \n",
       "408  age<=34, charge=F, #prior=(8-15], race=Afr-Am  0.03  13  19  47   90   \n",
       "\n",
       "     Δ_fpr  t_fp  \n",
       "631  0.912   7.1  \n",
       "360  0.512   6.3  \n",
       "408  0.505   6.0  "
      ]
     },
     "metadata": {},
     "output_type": "display_data"
    },
    {
     "data": {
      "text/html": [
       "<div>\n",
       "<style scoped>\n",
       "    .dataframe tbody tr th:only-of-type {\n",
       "        vertical-align: middle;\n",
       "    }\n",
       "\n",
       "    .dataframe tbody tr th {\n",
       "        vertical-align: top;\n",
       "    }\n",
       "\n",
       "    .dataframe thead th {\n",
       "        text-align: right;\n",
       "    }\n",
       "</style>\n",
       "<table border=\"1\" class=\"dataframe\">\n",
       "  <thead>\n",
       "    <tr style=\"text-align: right;\">\n",
       "      <th></th>\n",
       "      <th>support</th>\n",
       "      <th>itemsets</th>\n",
       "      <th>tn</th>\n",
       "      <th>fp</th>\n",
       "      <th>fn</th>\n",
       "      <th>tp</th>\n",
       "      <th>length</th>\n",
       "      <th>support_count</th>\n",
       "      <th>fpr</th>\n",
       "      <th>fnr</th>\n",
       "      <th>accuracy</th>\n",
       "      <th>error</th>\n",
       "      <th>d_fnr</th>\n",
       "      <th>d_fpr</th>\n",
       "      <th>d_accuracy</th>\n",
       "      <th>d_error</th>\n",
       "      <th>t_value_fp</th>\n",
       "      <th>t_value_fn</th>\n",
       "      <th>t_value_tp_tn</th>\n",
       "      <th>t_value_fp_fn</th>\n",
       "    </tr>\n",
       "  </thead>\n",
       "  <tbody>\n",
       "    <tr>\n",
       "      <th>632</th>\n",
       "      <td>0.010369</td>\n",
       "      <td>(sex=Male, age=&lt;=34, priors_count=(15-23])</td>\n",
       "      <td>0</td>\n",
       "      <td>6</td>\n",
       "      <td>11</td>\n",
       "      <td>47</td>\n",
       "      <td>3</td>\n",
       "      <td>64.0</td>\n",
       "      <td>1.00000</td>\n",
       "      <td>0.189655</td>\n",
       "      <td>0.734375</td>\n",
       "      <td>0.265625</td>\n",
       "      <td>-0.508814</td>\n",
       "      <td>0.911686</td>\n",
       "      <td>0.100383</td>\n",
       "      <td>-0.100383</td>\n",
       "      <td>7.126897</td>\n",
       "      <td>9.594116</td>\n",
       "      <td>1.704426</td>\n",
       "      <td>1.704426</td>\n",
       "    </tr>\n",
       "    <tr>\n",
       "      <th>631</th>\n",
       "      <td>0.010531</td>\n",
       "      <td>(age=&lt;=34, priors_count=(15-23])</td>\n",
       "      <td>0</td>\n",
       "      <td>6</td>\n",
       "      <td>11</td>\n",
       "      <td>48</td>\n",
       "      <td>2</td>\n",
       "      <td>65.0</td>\n",
       "      <td>1.00000</td>\n",
       "      <td>0.186441</td>\n",
       "      <td>0.738462</td>\n",
       "      <td>0.261538</td>\n",
       "      <td>-0.512029</td>\n",
       "      <td>0.911686</td>\n",
       "      <td>0.104469</td>\n",
       "      <td>-0.104469</td>\n",
       "      <td>7.126897</td>\n",
       "      <td>9.792861</td>\n",
       "      <td>1.800210</td>\n",
       "      <td>1.800210</td>\n",
       "    </tr>\n",
       "    <tr>\n",
       "      <th>360</th>\n",
       "      <td>0.034187</td>\n",
       "      <td>(race=African-American, age=&lt;=34, priors_count=(8-15])</td>\n",
       "      <td>14</td>\n",
       "      <td>21</td>\n",
       "      <td>59</td>\n",
       "      <td>117</td>\n",
       "      <td>3</td>\n",
       "      <td>211.0</td>\n",
       "      <td>0.60000</td>\n",
       "      <td>0.335227</td>\n",
       "      <td>0.620853</td>\n",
       "      <td>0.379147</td>\n",
       "      <td>-0.363242</td>\n",
       "      <td>0.511686</td>\n",
       "      <td>-0.013139</td>\n",
       "      <td>0.013139</td>\n",
       "      <td>6.341596</td>\n",
       "      <td>9.930738</td>\n",
       "      <td>0.421688</td>\n",
       "      <td>0.421688</td>\n",
       "    </tr>\n",
       "    <tr>\n",
       "      <th>365</th>\n",
       "      <td>0.032566</td>\n",
       "      <td>(length_of_stay=&lt;=160, race=African-American, age=&lt;=34, priors_count=(8-15])</td>\n",
       "      <td>14</td>\n",
       "      <td>21</td>\n",
       "      <td>57</td>\n",
       "      <td>109</td>\n",
       "      <td>4</td>\n",
       "      <td>201.0</td>\n",
       "      <td>0.60000</td>\n",
       "      <td>0.343373</td>\n",
       "      <td>0.611940</td>\n",
       "      <td>0.388060</td>\n",
       "      <td>-0.355096</td>\n",
       "      <td>0.511686</td>\n",
       "      <td>-0.022052</td>\n",
       "      <td>0.022052</td>\n",
       "      <td>6.341596</td>\n",
       "      <td>9.394932</td>\n",
       "      <td>0.666377</td>\n",
       "      <td>0.666377</td>\n",
       "    </tr>\n",
       "    <tr>\n",
       "      <th>408</th>\n",
       "      <td>0.027382</td>\n",
       "      <td>(race=African-American, age=&lt;=34, priors_count=(8-15], c_charge_degree=F)</td>\n",
       "      <td>13</td>\n",
       "      <td>19</td>\n",
       "      <td>47</td>\n",
       "      <td>90</td>\n",
       "      <td>4</td>\n",
       "      <td>169.0</td>\n",
       "      <td>0.59375</td>\n",
       "      <td>0.343066</td>\n",
       "      <td>0.609467</td>\n",
       "      <td>0.390533</td>\n",
       "      <td>-0.355404</td>\n",
       "      <td>0.505436</td>\n",
       "      <td>-0.024525</td>\n",
       "      <td>0.024525</td>\n",
       "      <td>5.996141</td>\n",
       "      <td>8.587564</td>\n",
       "      <td>0.682918</td>\n",
       "      <td>0.682918</td>\n",
       "    </tr>\n",
       "  </tbody>\n",
       "</table>\n",
       "</div>"
      ],
      "text/plain": [
       "      support  \\\n",
       "632  0.010369   \n",
       "631  0.010531   \n",
       "360  0.034187   \n",
       "365  0.032566   \n",
       "408  0.027382   \n",
       "\n",
       "                                                                         itemsets  \\\n",
       "632                                    (sex=Male, age=<=34, priors_count=(15-23])   \n",
       "631                                              (age=<=34, priors_count=(15-23])   \n",
       "360                        (race=African-American, age=<=34, priors_count=(8-15])   \n",
       "365  (length_of_stay=<=160, race=African-American, age=<=34, priors_count=(8-15])   \n",
       "408     (race=African-American, age=<=34, priors_count=(8-15], c_charge_degree=F)   \n",
       "\n",
       "     tn  fp  fn   tp  length  support_count      fpr       fnr  accuracy  \\\n",
       "632   0   6  11   47       3           64.0  1.00000  0.189655  0.734375   \n",
       "631   0   6  11   48       2           65.0  1.00000  0.186441  0.738462   \n",
       "360  14  21  59  117       3          211.0  0.60000  0.335227  0.620853   \n",
       "365  14  21  57  109       4          201.0  0.60000  0.343373  0.611940   \n",
       "408  13  19  47   90       4          169.0  0.59375  0.343066  0.609467   \n",
       "\n",
       "        error     d_fnr     d_fpr  d_accuracy   d_error  t_value_fp  \\\n",
       "632  0.265625 -0.508814  0.911686    0.100383 -0.100383    7.126897   \n",
       "631  0.261538 -0.512029  0.911686    0.104469 -0.104469    7.126897   \n",
       "360  0.379147 -0.363242  0.511686   -0.013139  0.013139    6.341596   \n",
       "365  0.388060 -0.355096  0.511686   -0.022052  0.022052    6.341596   \n",
       "408  0.390533 -0.355404  0.505436   -0.024525  0.024525    5.996141   \n",
       "\n",
       "     t_value_fn  t_value_tp_tn  t_value_fp_fn  \n",
       "632    9.594116       1.704426       1.704426  \n",
       "631    9.792861       1.800210       1.800210  \n",
       "360    9.930738       0.421688       0.421688  \n",
       "365    9.394932       0.666377       0.666377  \n",
       "408    8.587564       0.682918       0.682918  "
      ]
     },
     "execution_count": 72,
     "metadata": {},
     "output_type": "execute_result"
    }
   ],
   "source": [
    "# ### Extract divergence\n",
    "\n",
    "from divexplorer_generalized.FP_DivergenceExplorer import FP_DivergenceExplorer\n",
    "\n",
    "fp_diver = FP_DivergenceExplorer(\n",
    "    dfI_discr_uniform,\n",
    "    true_class_name=true_class_name,\n",
    "    predicted_class_name=pred_class_name,\n",
    ")\n",
    "\n",
    "\n",
    "FP_fm = fp_diver.getFrequentPatternDivergence(\n",
    "                min_support=0.01,\n",
    "                metrics=[\"d_fpr\", \"d_fnr\", \"d_accuracy\", \"d_error\"],\n",
    "            )\n",
    "\n",
    "display(printable_top_k(\n",
    "    FP_fm, metric, COL_info_detail, K=K, abbreviations=abbreviations))\n",
    "\n",
    "FP_fm.sort_values(\"d_fpr\", ascending = False).head()"
   ]
  },
  {
   "cell_type": "code",
   "execution_count": 73,
   "metadata": {
    "ExecuteTime": {
     "end_time": "2022-01-22T08:43:19.577638Z",
     "start_time": "2022-01-22T08:43:19.472556Z"
    }
   },
   "outputs": [
    {
     "data": {
      "text/plain": [
       "{631: {'itemsets': 'age<=34, #prior=(15-23]',\n",
       "  'sup': 0.01,\n",
       "  'tn': 0,\n",
       "  'fp': 6,\n",
       "  'fn': 11,\n",
       "  'tp': 48,\n",
       "  'Δ_fpr': 0.912,\n",
       "  't_fp': 7.1}}"
      ]
     },
     "execution_count": 73,
     "metadata": {},
     "output_type": "execute_result"
    }
   ],
   "source": [
    "printable_top_k(\n",
    "    FP_fm, metric, COL_info_detail, K=K, abbreviations=abbreviations).head(1).T.to_dict()"
   ]
  },
  {
   "cell_type": "markdown",
   "metadata": {},
   "source": [
    "# All attributes"
   ]
  },
  {
   "cell_type": "markdown",
   "metadata": {},
   "source": [
    "## Tree divergence - weighted divergence"
   ]
  },
  {
   "cell_type": "code",
   "execution_count": 74,
   "metadata": {
    "ExecuteTime": {
     "end_time": "2022-01-22T08:43:19.594992Z",
     "start_time": "2022-01-22T08:43:19.579686Z"
    }
   },
   "outputs": [],
   "source": [
    "type_criterion=\"weighted_sum_abs_reference_s\"\n",
    "\n",
    "type_experiment = \"all_attributes\""
   ]
  },
  {
   "cell_type": "code",
   "execution_count": 75,
   "metadata": {
    "ExecuteTime": {
     "end_time": "2022-01-22T08:43:19.616666Z",
     "start_time": "2022-01-22T08:43:19.597129Z"
    }
   },
   "outputs": [],
   "source": [
    "df_analyze = dfI.copy()"
   ]
  },
  {
   "cell_type": "code",
   "execution_count": 76,
   "metadata": {
    "ExecuteTime": {
     "end_time": "2022-01-22T08:43:19.760096Z",
     "start_time": "2022-01-22T08:43:19.619698Z"
    }
   },
   "outputs": [
    {
     "name": "stdout",
     "output_type": "stream",
     "text": [
      "False\n"
     ]
    }
   ],
   "source": [
    "from tree_discretization import TreeDiscretization\n",
    "\n",
    "tree_discr = TreeDiscretization()\n",
    "\n",
    "# ## Extract tree\n",
    "generalization_dict, discretizations = tree_discr.get_tree_discretization(\n",
    "    df_analyze,\n",
    "    type_splitting=type_experiment,\n",
    "    min_support=0.1,\n",
    "    metric=metric,\n",
    "    class_map=class_map,\n",
    "    continuous_attributes=list(continuous_attributes),\n",
    "    class_and_pred_names=cols_c,\n",
    "    storeTree=True,\n",
    "    type_criterion=type_criterion,\n",
    "    # minimal_gain = 0.0015\n",
    ")"
   ]
  },
  {
   "cell_type": "code",
   "execution_count": 77,
   "metadata": {
    "ExecuteTime": {
     "end_time": "2022-01-22T08:43:19.776539Z",
     "start_time": "2022-01-22T08:43:19.761996Z"
    }
   },
   "outputs": [
    {
     "name": "stdout",
     "output_type": "stream",
     "text": [
      "Type splitting: None\n",
      " root s=1.000 --> d_fpr=0.000\n",
      "         age<=32 s=0.542 --> d_fpr=0.054\n",
      "                 priors_count<=3 s=0.399 --> d_fpr=0.016\n",
      "                         age<=24 s=0.196 --> d_fpr=0.069\n",
      "                         age>24 s=0.203 --> d_fpr=-0.023\n",
      "                 priors_count>3 s=0.143 --> d_fpr=0.291\n",
      "         age>32 s=0.458 --> d_fpr=-0.047\n",
      "                 priors_count<=3 s=0.308 --> d_fpr=-0.071\n",
      "                         race=African-American s=0.101 --> d_fpr=-0.048\n",
      "                         race!=African-American s=0.207 --> d_fpr=-0.081\n",
      "                                 priors_count<=0 s=0.106 --> d_fpr=-0.088\n",
      "                                 priors_count>0 s=0.101 --> d_fpr=-0.072\n",
      "                 priors_count>3 s=0.150 --> d_fpr=0.041\n"
     ]
    }
   ],
   "source": [
    "tree_discr.printDiscretizationTrees(round_v=3, show_condition=True)"
   ]
  },
  {
   "cell_type": "code",
   "execution_count": 78,
   "metadata": {
    "ExecuteTime": {
     "end_time": "2022-01-22T08:43:19.796899Z",
     "start_time": "2022-01-22T08:43:19.778598Z"
    }
   },
   "outputs": [
    {
     "name": "stdout",
     "output_type": "stream",
     "text": [
      "Type splitting: None\n",
      " root s=1.000 --> d_fpr=0.000\n",
      "         age<=32 s=0.542 --> d_fpr=0.054\n",
      "                 priors_count<=3 s=0.399 --> d_fpr=0.016\n",
      "                         age<=24 s=0.196 --> d_fpr=0.069\n",
      "                         age>=25 s=0.203 --> d_fpr=-0.023\n",
      "                 priors_count>=4 s=0.143 --> d_fpr=0.291\n",
      "         age>=33 s=0.458 --> d_fpr=-0.047\n",
      "                 priors_count<=3 s=0.308 --> d_fpr=-0.071\n",
      "                         race=African-American s=0.101 --> d_fpr=-0.048\n",
      "                         race!=African-American s=0.207 --> d_fpr=-0.081\n",
      "                                 priors_count<=0 s=0.106 --> d_fpr=-0.088\n",
      "                                 priors_count>=1 s=0.101 --> d_fpr=-0.072\n",
      "                 priors_count>=4 s=0.150 --> d_fpr=0.041\n"
     ]
    }
   ],
   "source": [
    "tree_discr.printDiscretizationTrees(round_v=3)"
   ]
  },
  {
   "cell_type": "code",
   "execution_count": 79,
   "metadata": {
    "ExecuteTime": {
     "end_time": "2022-01-22T08:43:20.309741Z",
     "start_time": "2022-01-22T08:43:19.800170Z"
    }
   },
   "outputs": [
    {
     "name": "stdout",
     "output_type": "stream",
     "text": [
      "E allow_overalp True\n"
     ]
    },
    {
     "data": {
      "text/html": [
       "<div>\n",
       "<style scoped>\n",
       "    .dataframe tbody tr th:only-of-type {\n",
       "        vertical-align: middle;\n",
       "    }\n",
       "\n",
       "    .dataframe tbody tr th {\n",
       "        vertical-align: top;\n",
       "    }\n",
       "\n",
       "    .dataframe thead th {\n",
       "        text-align: right;\n",
       "    }\n",
       "</style>\n",
       "<table border=\"1\" class=\"dataframe\">\n",
       "  <thead>\n",
       "    <tr style=\"text-align: right;\">\n",
       "      <th></th>\n",
       "      <th>itemsets</th>\n",
       "      <th>sup</th>\n",
       "      <th>tn</th>\n",
       "      <th>fp</th>\n",
       "      <th>fn</th>\n",
       "      <th>tp</th>\n",
       "      <th>Δ_fpr</th>\n",
       "      <th>t_fp</th>\n",
       "    </tr>\n",
       "  </thead>\n",
       "  <tbody>\n",
       "    <tr>\n",
       "      <th>982</th>\n",
       "      <td>age&lt;=24, charge=F, #prior&gt;=4</td>\n",
       "      <td>0.02</td>\n",
       "      <td>5</td>\n",
       "      <td>12</td>\n",
       "      <td>30</td>\n",
       "      <td>59</td>\n",
       "      <td>0.618</td>\n",
       "      <td>5.7</td>\n",
       "    </tr>\n",
       "    <tr>\n",
       "      <th>1025</th>\n",
       "      <td>age&lt;=24, charge=F, #prior&gt;=4, sex=Male</td>\n",
       "      <td>0.02</td>\n",
       "      <td>5</td>\n",
       "      <td>11</td>\n",
       "      <td>28</td>\n",
       "      <td>54</td>\n",
       "      <td>0.599</td>\n",
       "      <td>5.3</td>\n",
       "    </tr>\n",
       "    <tr>\n",
       "      <th>923</th>\n",
       "      <td>age&lt;=24, #prior&gt;=4, sex=Male</td>\n",
       "      <td>0.02</td>\n",
       "      <td>7</td>\n",
       "      <td>15</td>\n",
       "      <td>35</td>\n",
       "      <td>63</td>\n",
       "      <td>0.594</td>\n",
       "      <td>6.1</td>\n",
       "    </tr>\n",
       "  </tbody>\n",
       "</table>\n",
       "</div>"
      ],
      "text/plain": [
       "                                    itemsets   sup  tn  fp  fn  tp  Δ_fpr  \\\n",
       "982             age<=24, charge=F, #prior>=4  0.02   5  12  30  59  0.618   \n",
       "1025  age<=24, charge=F, #prior>=4, sex=Male  0.02   5  11  28  54  0.599   \n",
       "923             age<=24, #prior>=4, sex=Male  0.02   7  15  35  63  0.594   \n",
       "\n",
       "      t_fp  \n",
       "982    5.7  \n",
       "1025   5.3  \n",
       "923    6.1  "
      ]
     },
     "metadata": {},
     "output_type": "display_data"
    }
   ],
   "source": [
    "from utils_extract_divergence_generalized import (\n",
    "    extract_divergence_generalized,\n",
    ")\n",
    "\n",
    "FP_fm = extract_divergence_generalized(\n",
    "    df_analyze,\n",
    "    discretizations,\n",
    "    generalization_dict,\n",
    "    continuous_attributes,\n",
    "    min_sup_divergence=0.01,\n",
    "    apply_generalization=True,\n",
    "    true_class_name=true_class_name,\n",
    "    predicted_class_name=pred_class_name,\n",
    "    class_map=class_map,\n",
    "    FPM_type=\"fpgrowth\",\n",
    "    allow_overalp= True,\n",
    "    type_experiment=type_experiment\n",
    ")\n",
    "\n",
    "if type_experiment not in out:\n",
    "    out[type_experiment] = {}\n",
    "    \n",
    "    \n",
    "display(printable_top_k(\n",
    "    FP_fm, metric, COL_info_detail, K=K, abbreviations=abbreviations))\n",
    "\n",
    "out[type_experiment][\"with_gen\"] = printable_top_k(\n",
    "    FP_fm, metric, COL_info, K=K, abbreviations=abbreviations\n",
    ")"
   ]
  },
  {
   "cell_type": "code",
   "execution_count": 80,
   "metadata": {
    "ExecuteTime": {
     "end_time": "2022-01-22T08:43:20.415861Z",
     "start_time": "2022-01-22T08:43:20.313048Z"
    }
   },
   "outputs": [
    {
     "name": "stdout",
     "output_type": "stream",
     "text": [
      "./output/figures/compas/tree/tree_all_attributes_weighted_sum_abs_reference_s_sd_0.1_st0.05_d_fpr\n"
     ]
    },
    {
     "data": {
      "image/svg+xml": [
       "<?xml version=\"1.0\" encoding=\"UTF-8\" standalone=\"no\"?>\n",
       "<!DOCTYPE svg PUBLIC \"-//W3C//DTD SVG 1.1//EN\"\n",
       " \"http://www.w3.org/Graphics/SVG/1.1/DTD/svg11.dtd\">\n",
       "<!-- Generated by graphviz version 2.40.1 (20161225.0304)\n",
       " -->\n",
       "<!-- Title: %3 Pages: 1 -->\n",
       "<svg width=\"452pt\" height=\"417pt\"\n",
       " viewBox=\"0.00 0.00 452.00 417.00\" xmlns=\"http://www.w3.org/2000/svg\" xmlns:xlink=\"http://www.w3.org/1999/xlink\">\n",
       "<g id=\"graph0\" class=\"graph\" transform=\"scale(1 1) rotate(0) translate(4 413)\">\n",
       "<title>%3</title>\n",
       "<polygon fill=\"#ffffff\" stroke=\"transparent\" points=\"-4,4 -4,-413 448,-413 448,4 -4,4\"/>\n",
       "<!-- 0 -->\n",
       "<g id=\"node1\" class=\"node\">\n",
       "<title>0</title>\n",
       "<polygon fill=\"none\" stroke=\"#000000\" points=\"264,-409 196,-409 196,-356 264,-356 264,-409\"/>\n",
       "<text text-anchor=\"middle\" x=\"230\" y=\"-393.8\" font-family=\"Times,serif\" font-size=\"14.00\" fill=\"#000000\">root</text>\n",
       "<text text-anchor=\"middle\" x=\"230\" y=\"-378.8\" font-family=\"Times,serif\" font-size=\"14.00\" fill=\"#000000\">sup=1.00</text>\n",
       "<text text-anchor=\"middle\" x=\"230\" y=\"-363.8\" font-family=\"Times,serif\" font-size=\"14.00\" fill=\"#000000\">fpr=0.09</text>\n",
       "</g>\n",
       "<!-- 1 -->\n",
       "<g id=\"node2\" class=\"node\">\n",
       "<title>1</title>\n",
       "<polygon fill=\"none\" stroke=\"#000000\" points=\"221,-320 153,-320 153,-267 221,-267 221,-320\"/>\n",
       "<text text-anchor=\"middle\" x=\"187\" y=\"-304.8\" font-family=\"Times,serif\" font-size=\"14.00\" fill=\"#000000\">age≤32</text>\n",
       "<text text-anchor=\"middle\" x=\"187\" y=\"-289.8\" font-family=\"Times,serif\" font-size=\"14.00\" fill=\"#000000\">sup=0.54</text>\n",
       "<text text-anchor=\"middle\" x=\"187\" y=\"-274.8\" font-family=\"Times,serif\" font-size=\"14.00\" fill=\"#000000\">Δ=0.05</text>\n",
       "</g>\n",
       "<!-- 0&#45;&gt;1 -->\n",
       "<g id=\"edge1\" class=\"edge\">\n",
       "<title>0&#45;&gt;1</title>\n",
       "<path fill=\"none\" stroke=\"#000000\" d=\"M217.0986,-355.7971C213.0593,-347.4367 208.5352,-338.073 204.2464,-329.1961\"/>\n",
       "<polygon fill=\"#000000\" stroke=\"#000000\" points=\"207.3941,-327.6656 199.8923,-320.1841 201.0912,-330.7109 207.3941,-327.6656\"/>\n",
       "</g>\n",
       "<!-- 6 -->\n",
       "<g id=\"node7\" class=\"node\">\n",
       "<title>6</title>\n",
       "<polygon fill=\"none\" stroke=\"#000000\" points=\"307,-320 239,-320 239,-267 307,-267 307,-320\"/>\n",
       "<text text-anchor=\"middle\" x=\"273\" y=\"-304.8\" font-family=\"Times,serif\" font-size=\"14.00\" fill=\"#000000\">age&gt;32</text>\n",
       "<text text-anchor=\"middle\" x=\"273\" y=\"-289.8\" font-family=\"Times,serif\" font-size=\"14.00\" fill=\"#000000\">sup=0.46</text>\n",
       "<text text-anchor=\"middle\" x=\"273\" y=\"-274.8\" font-family=\"Times,serif\" font-size=\"14.00\" fill=\"#000000\">Δ=&#45;0.05</text>\n",
       "</g>\n",
       "<!-- 0&#45;&gt;6 -->\n",
       "<g id=\"edge6\" class=\"edge\">\n",
       "<title>0&#45;&gt;6</title>\n",
       "<path fill=\"none\" stroke=\"#000000\" d=\"M242.9014,-355.7971C246.9407,-347.4367 251.4648,-338.073 255.7536,-329.1961\"/>\n",
       "<polygon fill=\"#000000\" stroke=\"#000000\" points=\"258.9088,-330.7109 260.1077,-320.1841 252.6059,-327.6656 258.9088,-330.7109\"/>\n",
       "</g>\n",
       "<!-- 2 -->\n",
       "<g id=\"node3\" class=\"node\">\n",
       "<title>2</title>\n",
       "<polygon fill=\"none\" stroke=\"#000000\" points=\"135,-231 67,-231 67,-178 135,-178 135,-231\"/>\n",
       "<text text-anchor=\"middle\" x=\"101\" y=\"-215.8\" font-family=\"Times,serif\" font-size=\"14.00\" fill=\"#000000\">#prior≤3</text>\n",
       "<text text-anchor=\"middle\" x=\"101\" y=\"-200.8\" font-family=\"Times,serif\" font-size=\"14.00\" fill=\"#000000\">sup=0.40</text>\n",
       "<text text-anchor=\"middle\" x=\"101\" y=\"-185.8\" font-family=\"Times,serif\" font-size=\"14.00\" fill=\"#000000\">Δ=0.02</text>\n",
       "</g>\n",
       "<!-- 1&#45;&gt;2 -->\n",
       "<g id=\"edge2\" class=\"edge\">\n",
       "<title>1&#45;&gt;2</title>\n",
       "<path fill=\"none\" stroke=\"#000000\" d=\"M161.1972,-266.7971C152.6084,-257.9087 142.9237,-247.8862 133.8736,-238.5203\"/>\n",
       "<polygon fill=\"#000000\" stroke=\"#000000\" points=\"136.2504,-235.9432 126.7846,-231.1841 131.2165,-240.8074 136.2504,-235.9432\"/>\n",
       "</g>\n",
       "<!-- 5 -->\n",
       "<g id=\"node6\" class=\"node\">\n",
       "<title>5</title>\n",
       "<polygon fill=\"none\" stroke=\"#000000\" stroke-width=\"2\" points=\"221,-231 153,-231 153,-178 221,-178 221,-231\"/>\n",
       "<text text-anchor=\"middle\" x=\"187\" y=\"-215.8\" font-family=\"Times,serif\" font-size=\"14.00\" fill=\"#000000\">#prior&gt;3</text>\n",
       "<text text-anchor=\"middle\" x=\"187\" y=\"-200.8\" font-family=\"Times,serif\" font-size=\"14.00\" fill=\"#000000\">sup=0.14</text>\n",
       "<text text-anchor=\"middle\" x=\"187\" y=\"-185.8\" font-family=\"Times,serif\" font-size=\"14.00\" fill=\"#000000\">Δ=0.29</text>\n",
       "</g>\n",
       "<!-- 1&#45;&gt;5 -->\n",
       "<g id=\"edge5\" class=\"edge\">\n",
       "<title>1&#45;&gt;5</title>\n",
       "<path fill=\"none\" stroke=\"#000000\" d=\"M187,-266.7971C187,-258.7887 187,-249.8597 187,-241.3198\"/>\n",
       "<polygon fill=\"#000000\" stroke=\"#000000\" points=\"190.5001,-241.1841 187,-231.1841 183.5001,-241.1841 190.5001,-241.1841\"/>\n",
       "</g>\n",
       "<!-- 3 -->\n",
       "<g id=\"node4\" class=\"node\">\n",
       "<title>3</title>\n",
       "<polygon fill=\"none\" stroke=\"#000000\" stroke-width=\"2\" points=\"68,-142 0,-142 0,-89 68,-89 68,-142\"/>\n",
       "<text text-anchor=\"middle\" x=\"34\" y=\"-126.8\" font-family=\"Times,serif\" font-size=\"14.00\" fill=\"#000000\">age≤24</text>\n",
       "<text text-anchor=\"middle\" x=\"34\" y=\"-111.8\" font-family=\"Times,serif\" font-size=\"14.00\" fill=\"#000000\">sup=0.20</text>\n",
       "<text text-anchor=\"middle\" x=\"34\" y=\"-96.8\" font-family=\"Times,serif\" font-size=\"14.00\" fill=\"#000000\">Δ=0.07</text>\n",
       "</g>\n",
       "<!-- 2&#45;&gt;3 -->\n",
       "<g id=\"edge3\" class=\"edge\">\n",
       "<title>2&#45;&gt;3</title>\n",
       "<path fill=\"none\" stroke=\"#000000\" d=\"M80.8978,-177.7971C74.4053,-169.1727 67.109,-159.4806 60.2404,-150.3566\"/>\n",
       "<polygon fill=\"#000000\" stroke=\"#000000\" points=\"62.8986,-148.0683 54.088,-142.1841 57.3062,-152.2784 62.8986,-148.0683\"/>\n",
       "</g>\n",
       "<!-- 4 -->\n",
       "<g id=\"node5\" class=\"node\">\n",
       "<title>4</title>\n",
       "<polygon fill=\"none\" stroke=\"#000000\" stroke-width=\"2\" points=\"154,-142 86,-142 86,-89 154,-89 154,-142\"/>\n",
       "<text text-anchor=\"middle\" x=\"120\" y=\"-126.8\" font-family=\"Times,serif\" font-size=\"14.00\" fill=\"#000000\">age&gt;24</text>\n",
       "<text text-anchor=\"middle\" x=\"120\" y=\"-111.8\" font-family=\"Times,serif\" font-size=\"14.00\" fill=\"#000000\">sup=0.20</text>\n",
       "<text text-anchor=\"middle\" x=\"120\" y=\"-96.8\" font-family=\"Times,serif\" font-size=\"14.00\" fill=\"#000000\">Δ=&#45;0.02</text>\n",
       "</g>\n",
       "<!-- 2&#45;&gt;4 -->\n",
       "<g id=\"edge4\" class=\"edge\">\n",
       "<title>2&#45;&gt;4</title>\n",
       "<path fill=\"none\" stroke=\"#000000\" d=\"M106.7006,-177.7971C108.4291,-169.7007 110.3584,-160.6633 112.1997,-152.0384\"/>\n",
       "<polygon fill=\"#000000\" stroke=\"#000000\" points=\"115.6384,-152.6945 114.3034,-142.1841 108.7927,-151.233 115.6384,-152.6945\"/>\n",
       "</g>\n",
       "<!-- 7 -->\n",
       "<g id=\"node8\" class=\"node\">\n",
       "<title>7</title>\n",
       "<polygon fill=\"none\" stroke=\"#000000\" points=\"307,-231 239,-231 239,-178 307,-178 307,-231\"/>\n",
       "<text text-anchor=\"middle\" x=\"273\" y=\"-215.8\" font-family=\"Times,serif\" font-size=\"14.00\" fill=\"#000000\">#prior≤3</text>\n",
       "<text text-anchor=\"middle\" x=\"273\" y=\"-200.8\" font-family=\"Times,serif\" font-size=\"14.00\" fill=\"#000000\">sup=0.31</text>\n",
       "<text text-anchor=\"middle\" x=\"273\" y=\"-185.8\" font-family=\"Times,serif\" font-size=\"14.00\" fill=\"#000000\">Δ=&#45;0.07</text>\n",
       "</g>\n",
       "<!-- 6&#45;&gt;7 -->\n",
       "<g id=\"edge7\" class=\"edge\">\n",
       "<title>6&#45;&gt;7</title>\n",
       "<path fill=\"none\" stroke=\"#000000\" d=\"M273,-266.7971C273,-258.7887 273,-249.8597 273,-241.3198\"/>\n",
       "<polygon fill=\"#000000\" stroke=\"#000000\" points=\"276.5001,-241.1841 273,-231.1841 269.5001,-241.1841 276.5001,-241.1841\"/>\n",
       "</g>\n",
       "<!-- 12 -->\n",
       "<g id=\"node13\" class=\"node\">\n",
       "<title>12</title>\n",
       "<polygon fill=\"none\" stroke=\"#000000\" stroke-width=\"2\" points=\"393,-231 325,-231 325,-178 393,-178 393,-231\"/>\n",
       "<text text-anchor=\"middle\" x=\"359\" y=\"-215.8\" font-family=\"Times,serif\" font-size=\"14.00\" fill=\"#000000\">#prior&gt;3</text>\n",
       "<text text-anchor=\"middle\" x=\"359\" y=\"-200.8\" font-family=\"Times,serif\" font-size=\"14.00\" fill=\"#000000\">sup=0.15</text>\n",
       "<text text-anchor=\"middle\" x=\"359\" y=\"-185.8\" font-family=\"Times,serif\" font-size=\"14.00\" fill=\"#000000\">Δ=0.04</text>\n",
       "</g>\n",
       "<!-- 6&#45;&gt;12 -->\n",
       "<g id=\"edge12\" class=\"edge\">\n",
       "<title>6&#45;&gt;12</title>\n",
       "<path fill=\"none\" stroke=\"#000000\" d=\"M298.8028,-266.7971C307.3916,-257.9087 317.0763,-247.8862 326.1264,-238.5203\"/>\n",
       "<polygon fill=\"#000000\" stroke=\"#000000\" points=\"328.7835,-240.8074 333.2154,-231.1841 323.7496,-235.9432 328.7835,-240.8074\"/>\n",
       "</g>\n",
       "<!-- 8 -->\n",
       "<g id=\"node9\" class=\"node\">\n",
       "<title>8</title>\n",
       "<polygon fill=\"none\" stroke=\"#000000\" stroke-width=\"2\" points=\"301,-142 209,-142 209,-89 301,-89 301,-142\"/>\n",
       "<text text-anchor=\"middle\" x=\"255\" y=\"-126.8\" font-family=\"Times,serif\" font-size=\"14.00\" fill=\"#000000\">race=Afr&#45;Am</text>\n",
       "<text text-anchor=\"middle\" x=\"255\" y=\"-111.8\" font-family=\"Times,serif\" font-size=\"14.00\" fill=\"#000000\">sup=0.10</text>\n",
       "<text text-anchor=\"middle\" x=\"255\" y=\"-96.8\" font-family=\"Times,serif\" font-size=\"14.00\" fill=\"#000000\">Δ=&#45;0.05</text>\n",
       "</g>\n",
       "<!-- 7&#45;&gt;8 -->\n",
       "<g id=\"edge8\" class=\"edge\">\n",
       "<title>7&#45;&gt;8</title>\n",
       "<path fill=\"none\" stroke=\"#000000\" d=\"M267.5994,-177.7971C265.9619,-169.7007 264.1342,-160.6633 262.3898,-152.0384\"/>\n",
       "<polygon fill=\"#000000\" stroke=\"#000000\" points=\"265.8097,-151.2918 260.3968,-142.1841 258.9487,-152.6795 265.8097,-151.2918\"/>\n",
       "</g>\n",
       "<!-- 9 -->\n",
       "<g id=\"node10\" class=\"node\">\n",
       "<title>9</title>\n",
       "<polygon fill=\"none\" stroke=\"#000000\" points=\"415,-142 319,-142 319,-89 415,-89 415,-142\"/>\n",
       "<text text-anchor=\"middle\" x=\"367\" y=\"-126.8\" font-family=\"Times,serif\" font-size=\"14.00\" fill=\"#000000\">race!=Afr&#45;Am</text>\n",
       "<text text-anchor=\"middle\" x=\"367\" y=\"-111.8\" font-family=\"Times,serif\" font-size=\"14.00\" fill=\"#000000\">sup=0.21</text>\n",
       "<text text-anchor=\"middle\" x=\"367\" y=\"-96.8\" font-family=\"Times,serif\" font-size=\"14.00\" fill=\"#000000\">Δ=&#45;0.08</text>\n",
       "</g>\n",
       "<!-- 7&#45;&gt;9 -->\n",
       "<g id=\"edge9\" class=\"edge\">\n",
       "<title>7&#45;&gt;9</title>\n",
       "<path fill=\"none\" stroke=\"#000000\" d=\"M301.2031,-177.7971C310.6838,-168.8207 321.3861,-158.6876 331.362,-149.2423\"/>\n",
       "<polygon fill=\"#000000\" stroke=\"#000000\" points=\"333.9616,-151.601 338.8168,-142.1841 329.1489,-146.5179 333.9616,-151.601\"/>\n",
       "</g>\n",
       "<!-- 10 -->\n",
       "<g id=\"node11\" class=\"node\">\n",
       "<title>10</title>\n",
       "<polygon fill=\"none\" stroke=\"#000000\" stroke-width=\"2\" points=\"358,-53 290,-53 290,0 358,0 358,-53\"/>\n",
       "<text text-anchor=\"middle\" x=\"324\" y=\"-37.8\" font-family=\"Times,serif\" font-size=\"14.00\" fill=\"#000000\">#prior≤0</text>\n",
       "<text text-anchor=\"middle\" x=\"324\" y=\"-22.8\" font-family=\"Times,serif\" font-size=\"14.00\" fill=\"#000000\">sup=0.11</text>\n",
       "<text text-anchor=\"middle\" x=\"324\" y=\"-7.8\" font-family=\"Times,serif\" font-size=\"14.00\" fill=\"#000000\">Δ=&#45;0.09</text>\n",
       "</g>\n",
       "<!-- 9&#45;&gt;10 -->\n",
       "<g id=\"edge10\" class=\"edge\">\n",
       "<title>9&#45;&gt;10</title>\n",
       "<path fill=\"none\" stroke=\"#000000\" d=\"M354.0986,-88.7971C350.0593,-80.4367 345.5352,-71.073 341.2464,-62.1961\"/>\n",
       "<polygon fill=\"#000000\" stroke=\"#000000\" points=\"344.3941,-60.6656 336.8923,-53.1841 338.0912,-63.7109 344.3941,-60.6656\"/>\n",
       "</g>\n",
       "<!-- 11 -->\n",
       "<g id=\"node12\" class=\"node\">\n",
       "<title>11</title>\n",
       "<polygon fill=\"none\" stroke=\"#000000\" stroke-width=\"2\" points=\"444,-53 376,-53 376,0 444,0 444,-53\"/>\n",
       "<text text-anchor=\"middle\" x=\"410\" y=\"-37.8\" font-family=\"Times,serif\" font-size=\"14.00\" fill=\"#000000\">#prior&gt;0</text>\n",
       "<text text-anchor=\"middle\" x=\"410\" y=\"-22.8\" font-family=\"Times,serif\" font-size=\"14.00\" fill=\"#000000\">sup=0.10</text>\n",
       "<text text-anchor=\"middle\" x=\"410\" y=\"-7.8\" font-family=\"Times,serif\" font-size=\"14.00\" fill=\"#000000\">Δ=&#45;0.07</text>\n",
       "</g>\n",
       "<!-- 9&#45;&gt;11 -->\n",
       "<g id=\"edge11\" class=\"edge\">\n",
       "<title>9&#45;&gt;11</title>\n",
       "<path fill=\"none\" stroke=\"#000000\" d=\"M379.9014,-88.7971C383.9407,-80.4367 388.4648,-71.073 392.7536,-62.1961\"/>\n",
       "<polygon fill=\"#000000\" stroke=\"#000000\" points=\"395.9088,-63.7109 397.1077,-53.1841 389.6059,-60.6656 395.9088,-63.7109\"/>\n",
       "</g>\n",
       "</g>\n",
       "</svg>\n"
      ],
      "text/plain": [
       "<graphviz.dot.Digraph at 0x7f6b48ea4f98>"
      ]
     },
     "execution_count": 80,
     "metadata": {},
     "output_type": "execute_result"
    }
   ],
   "source": [
    "dot = tree_discr.trees.visualizeTreeDiGraph(abbreviations=abbreviations, all_info = False, show_condition=True)\n",
    "\n",
    "suffix=f\"{type_experiment}_{type_criterion}_sd_{min_support_tree}_st{min_sup_divergence}_{metric}\"\n",
    "saveFig = True\n",
    "\n",
    "if saveFig:\n",
    "    dot.render(\n",
    "       os.path.join(tree_outputdir, f\"tree_{suffix}\")\n",
    "                )\n",
    "print(os.path.join(tree_outputdir, f\"tree_{suffix}\"))       \n",
    "dot"
   ]
  },
  {
   "cell_type": "markdown",
   "metadata": {},
   "source": [
    "## Tree divergence - entropy - all attributes"
   ]
  },
  {
   "cell_type": "code",
   "execution_count": 81,
   "metadata": {
    "ExecuteTime": {
     "end_time": "2022-01-22T08:43:20.437042Z",
     "start_time": "2022-01-22T08:43:20.418960Z"
    }
   },
   "outputs": [],
   "source": [
    "type_criterion=\"entropy\"\n",
    "\n",
    "type_experiment = \"all_attributes\""
   ]
  },
  {
   "cell_type": "code",
   "execution_count": 82,
   "metadata": {
    "ExecuteTime": {
     "end_time": "2022-01-22T08:43:20.461253Z",
     "start_time": "2022-01-22T08:43:20.443256Z"
    }
   },
   "outputs": [],
   "source": [
    "df_analyze = dfI.copy()"
   ]
  },
  {
   "cell_type": "code",
   "execution_count": 83,
   "metadata": {
    "ExecuteTime": {
     "end_time": "2022-01-22T08:43:20.646130Z",
     "start_time": "2022-01-22T08:43:20.464470Z"
    }
   },
   "outputs": [
    {
     "name": "stdout",
     "output_type": "stream",
     "text": [
      "False\n"
     ]
    }
   ],
   "source": [
    "from tree_discretization import TreeDiscretization\n",
    "\n",
    "tree_discr = TreeDiscretization()\n",
    "\n",
    "# ## Extract tree\n",
    "generalization_dict, discretizations = tree_discr.get_tree_discretization(\n",
    "    df_analyze,\n",
    "    type_splitting=type_experiment,\n",
    "    min_support=min_support_tree,\n",
    "    metric=metric,\n",
    "    class_map=class_map,\n",
    "    continuous_attributes=list(continuous_attributes),\n",
    "    class_and_pred_names=cols_c,\n",
    "    storeTree=True,\n",
    "    type_criterion=type_criterion,\n",
    "    # minimal_gain = 0.0015\n",
    ")"
   ]
  },
  {
   "cell_type": "code",
   "execution_count": 84,
   "metadata": {
    "ExecuteTime": {
     "end_time": "2022-01-22T08:43:20.658961Z",
     "start_time": "2022-01-22T08:43:20.647503Z"
    }
   },
   "outputs": [
    {
     "name": "stdout",
     "output_type": "stream",
     "text": [
      "Type splitting: None\n",
      " root s=1.000 --> d_fpr=0.000\n",
      "         priors_count<=3 s=0.707 --> d_fpr=-0.029\n",
      "                 age<=25 s=0.228 --> d_fpr=0.058\n",
      "                         priors_count<=0 s=0.113 --> d_fpr=0.021\n",
      "                         priors_count>=1 s=0.115 --> d_fpr=0.114\n",
      "                 age>=26 s=0.478 --> d_fpr=-0.057\n",
      "                         age<=37 s=0.253 --> d_fpr=-0.035\n",
      "                                 race=African-American s=0.118 --> d_fpr=-0.005\n",
      "                                 race!=African-American s=0.135 --> d_fpr=-0.061\n",
      "                         age>=38 s=0.225 --> d_fpr=-0.078\n",
      "                                 priors_count<=0 s=0.113 --> d_fpr=-0.087\n",
      "                                 priors_count>=1 s=0.113 --> d_fpr=-0.068\n",
      "         priors_count>=4 s=0.293 --> d_fpr=0.131\n",
      "                 age<=32 s=0.143 --> d_fpr=0.291\n",
      "                 age>=33 s=0.150 --> d_fpr=0.041\n"
     ]
    }
   ],
   "source": [
    "tree_discr.printDiscretizationTrees(round_v=3)"
   ]
  },
  {
   "cell_type": "code",
   "execution_count": 92,
   "metadata": {
    "ExecuteTime": {
     "end_time": "2022-01-22T08:46:03.813047Z",
     "start_time": "2022-01-22T08:46:03.274727Z"
    }
   },
   "outputs": [
    {
     "data": {
      "text/html": [
       "<div>\n",
       "<style scoped>\n",
       "    .dataframe tbody tr th:only-of-type {\n",
       "        vertical-align: middle;\n",
       "    }\n",
       "\n",
       "    .dataframe tbody tr th {\n",
       "        vertical-align: top;\n",
       "    }\n",
       "\n",
       "    .dataframe thead th {\n",
       "        text-align: right;\n",
       "    }\n",
       "</style>\n",
       "<table border=\"1\" class=\"dataframe\">\n",
       "  <thead>\n",
       "    <tr style=\"text-align: right;\">\n",
       "      <th></th>\n",
       "      <th>itemsets</th>\n",
       "      <th>support</th>\n",
       "      <th>d_fpr</th>\n",
       "      <th>t_value_fp</th>\n",
       "    </tr>\n",
       "  </thead>\n",
       "  <tbody>\n",
       "    <tr>\n",
       "      <th>446</th>\n",
       "      <td>(age=&lt;=32, priors_count=&gt;=4, race=African-American)</td>\n",
       "      <td>0.102074</td>\n",
       "      <td>0.320137</td>\n",
       "      <td>7.807960</td>\n",
       "    </tr>\n",
       "    <tr>\n",
       "      <th>303</th>\n",
       "      <td>(sex=Male, age=&lt;=32, priors_count=&gt;=4)</td>\n",
       "      <td>0.127025</td>\n",
       "      <td>0.310593</td>\n",
       "      <td>8.590700</td>\n",
       "    </tr>\n",
       "    <tr>\n",
       "      <th>401</th>\n",
       "      <td>(age=&lt;=32, priors_count=&gt;=4, c_charge_degree=F)</td>\n",
       "      <td>0.109365</td>\n",
       "      <td>0.302712</td>\n",
       "      <td>7.784544</td>\n",
       "    </tr>\n",
       "  </tbody>\n",
       "</table>\n",
       "</div>"
      ],
      "text/plain": [
       "                                                itemsets   support     d_fpr  \\\n",
       "446  (age=<=32, priors_count=>=4, race=African-American)  0.102074  0.320137   \n",
       "303               (sex=Male, age=<=32, priors_count=>=4)  0.127025  0.310593   \n",
       "401      (age=<=32, priors_count=>=4, c_charge_degree=F)  0.109365  0.302712   \n",
       "\n",
       "     t_value_fp  \n",
       "446    7.807960  \n",
       "303    8.590700  \n",
       "401    7.784544  "
      ]
     },
     "metadata": {},
     "output_type": "display_data"
    },
    {
     "data": {
      "text/html": [
       "<div>\n",
       "<style scoped>\n",
       "    .dataframe tbody tr th:only-of-type {\n",
       "        vertical-align: middle;\n",
       "    }\n",
       "\n",
       "    .dataframe tbody tr th {\n",
       "        vertical-align: top;\n",
       "    }\n",
       "\n",
       "    .dataframe thead th {\n",
       "        text-align: right;\n",
       "    }\n",
       "</style>\n",
       "<table border=\"1\" class=\"dataframe\">\n",
       "  <thead>\n",
       "    <tr style=\"text-align: right;\">\n",
       "      <th></th>\n",
       "      <th>itemsets</th>\n",
       "      <th>support</th>\n",
       "      <th>d_fpr</th>\n",
       "      <th>t_value_fp</th>\n",
       "    </tr>\n",
       "  </thead>\n",
       "  <tbody>\n",
       "    <tr>\n",
       "      <th>446</th>\n",
       "      <td>(age=&lt;=32, priors_count=&gt;=4, race=African-American)</td>\n",
       "      <td>0.102074</td>\n",
       "      <td>0.320137</td>\n",
       "      <td>7.807960</td>\n",
       "    </tr>\n",
       "    <tr>\n",
       "      <th>303</th>\n",
       "      <td>(sex=Male, age=&lt;=32, priors_count=&gt;=4)</td>\n",
       "      <td>0.127025</td>\n",
       "      <td>0.310593</td>\n",
       "      <td>8.590700</td>\n",
       "    </tr>\n",
       "    <tr>\n",
       "      <th>401</th>\n",
       "      <td>(age=&lt;=32, priors_count=&gt;=4, c_charge_degree=F)</td>\n",
       "      <td>0.109365</td>\n",
       "      <td>0.302712</td>\n",
       "      <td>7.784544</td>\n",
       "    </tr>\n",
       "    <tr>\n",
       "      <th>244</th>\n",
       "      <td>(age=&lt;=32, priors_count=&gt;=4)</td>\n",
       "      <td>0.143065</td>\n",
       "      <td>0.291316</td>\n",
       "      <td>8.807091</td>\n",
       "    </tr>\n",
       "    <tr>\n",
       "      <th>418</th>\n",
       "      <td>(age=&lt;=32, priors_count=&gt;=4, age=[26-37])</td>\n",
       "      <td>0.106773</td>\n",
       "      <td>0.264979</td>\n",
       "      <td>7.196813</td>\n",
       "    </tr>\n",
       "    <tr>\n",
       "      <th>419</th>\n",
       "      <td>(age=&lt;=32, age=&gt;=26, priors_count=&gt;=4)</td>\n",
       "      <td>0.106773</td>\n",
       "      <td>0.264979</td>\n",
       "      <td>7.196813</td>\n",
       "    </tr>\n",
       "    <tr>\n",
       "      <th>420</th>\n",
       "      <td>(age=&lt;=32, age=&gt;=26, priors_count=&gt;=4, age=[26-37])</td>\n",
       "      <td>0.106773</td>\n",
       "      <td>0.264979</td>\n",
       "      <td>7.196813</td>\n",
       "    </tr>\n",
       "    <tr>\n",
       "      <th>459</th>\n",
       "      <td>(race=African-American, priors_count=&gt;=4, sex=Male, age=&gt;=26, age=[26-37])</td>\n",
       "      <td>0.100940</td>\n",
       "      <td>0.249109</td>\n",
       "      <td>6.765467</td>\n",
       "    </tr>\n",
       "    <tr>\n",
       "      <th>461</th>\n",
       "      <td>(sex=Male, race=African-American, priors_count=&gt;=4, age=[26-37])</td>\n",
       "      <td>0.100940</td>\n",
       "      <td>0.249109</td>\n",
       "      <td>6.765467</td>\n",
       "    </tr>\n",
       "    <tr>\n",
       "      <th>353</th>\n",
       "      <td>(race=African-American, priors_count=&gt;=4, age=[26-37])</td>\n",
       "      <td>0.113577</td>\n",
       "      <td>0.243292</td>\n",
       "      <td>7.193759</td>\n",
       "    </tr>\n",
       "    <tr>\n",
       "      <th>354</th>\n",
       "      <td>(race=African-American, age=&gt;=26, priors_count=&gt;=4, age=[26-37])</td>\n",
       "      <td>0.113577</td>\n",
       "      <td>0.243292</td>\n",
       "      <td>7.193759</td>\n",
       "    </tr>\n",
       "    <tr>\n",
       "      <th>447</th>\n",
       "      <td>(priors_count=&gt;=4, sex=Male, age=&gt;=26, c_charge_degree=F, age=[26-37])</td>\n",
       "      <td>0.101750</td>\n",
       "      <td>0.196534</td>\n",
       "      <td>5.640385</td>\n",
       "    </tr>\n",
       "    <tr>\n",
       "      <th>448</th>\n",
       "      <td>(sex=Male, priors_count=&gt;=4, c_charge_degree=F, age=[26-37])</td>\n",
       "      <td>0.101750</td>\n",
       "      <td>0.196534</td>\n",
       "      <td>5.640385</td>\n",
       "    </tr>\n",
       "    <tr>\n",
       "      <th>331</th>\n",
       "      <td>(age=&gt;=26, priors_count=&gt;=4, c_charge_degree=F, age=[26-37])</td>\n",
       "      <td>0.118114</td>\n",
       "      <td>0.195268</td>\n",
       "      <td>6.159970</td>\n",
       "    </tr>\n",
       "    <tr>\n",
       "      <th>332</th>\n",
       "      <td>(priors_count=&gt;=4, c_charge_degree=F, age=[26-37])</td>\n",
       "      <td>0.118114</td>\n",
       "      <td>0.195268</td>\n",
       "      <td>6.159970</td>\n",
       "    </tr>\n",
       "    <tr>\n",
       "      <th>261</th>\n",
       "      <td>(sex=Male, age=&gt;=26, priors_count=&gt;=4, age=[26-37])</td>\n",
       "      <td>0.136585</td>\n",
       "      <td>0.185948</td>\n",
       "      <td>6.408539</td>\n",
       "    </tr>\n",
       "    <tr>\n",
       "      <th>262</th>\n",
       "      <td>(sex=Male, priors_count=&gt;=4, age=[26-37])</td>\n",
       "      <td>0.136585</td>\n",
       "      <td>0.185948</td>\n",
       "      <td>6.408539</td>\n",
       "    </tr>\n",
       "    <tr>\n",
       "      <th>201</th>\n",
       "      <td>(age=&gt;=26, priors_count=&gt;=4, age=[26-37])</td>\n",
       "      <td>0.156027</td>\n",
       "      <td>0.185067</td>\n",
       "      <td>6.884022</td>\n",
       "    </tr>\n",
       "    <tr>\n",
       "      <th>205</th>\n",
       "      <td>(priors_count=&gt;=4, age=[26-37])</td>\n",
       "      <td>0.156027</td>\n",
       "      <td>0.185067</td>\n",
       "      <td>6.884022</td>\n",
       "    </tr>\n",
       "    <tr>\n",
       "      <th>283</th>\n",
       "      <td>(sex=Male, race=African-American, priors_count=&gt;=4, c_charge_degree=F)</td>\n",
       "      <td>0.130752</td>\n",
       "      <td>0.180408</td>\n",
       "      <td>6.132988</td>\n",
       "    </tr>\n",
       "  </tbody>\n",
       "</table>\n",
       "</div>"
      ],
      "text/plain": [
       "                                                                       itemsets  \\\n",
       "446                         (age=<=32, priors_count=>=4, race=African-American)   \n",
       "303                                      (sex=Male, age=<=32, priors_count=>=4)   \n",
       "401                             (age=<=32, priors_count=>=4, c_charge_degree=F)   \n",
       "244                                                (age=<=32, priors_count=>=4)   \n",
       "418                                   (age=<=32, priors_count=>=4, age=[26-37])   \n",
       "419                                      (age=<=32, age=>=26, priors_count=>=4)   \n",
       "420                         (age=<=32, age=>=26, priors_count=>=4, age=[26-37])   \n",
       "459  (race=African-American, priors_count=>=4, sex=Male, age=>=26, age=[26-37])   \n",
       "461            (sex=Male, race=African-American, priors_count=>=4, age=[26-37])   \n",
       "353                      (race=African-American, priors_count=>=4, age=[26-37])   \n",
       "354            (race=African-American, age=>=26, priors_count=>=4, age=[26-37])   \n",
       "447      (priors_count=>=4, sex=Male, age=>=26, c_charge_degree=F, age=[26-37])   \n",
       "448                (sex=Male, priors_count=>=4, c_charge_degree=F, age=[26-37])   \n",
       "331                (age=>=26, priors_count=>=4, c_charge_degree=F, age=[26-37])   \n",
       "332                          (priors_count=>=4, c_charge_degree=F, age=[26-37])   \n",
       "261                         (sex=Male, age=>=26, priors_count=>=4, age=[26-37])   \n",
       "262                                   (sex=Male, priors_count=>=4, age=[26-37])   \n",
       "201                                   (age=>=26, priors_count=>=4, age=[26-37])   \n",
       "205                                             (priors_count=>=4, age=[26-37])   \n",
       "283      (sex=Male, race=African-American, priors_count=>=4, c_charge_degree=F)   \n",
       "\n",
       "      support     d_fpr  t_value_fp  \n",
       "446  0.102074  0.320137    7.807960  \n",
       "303  0.127025  0.310593    8.590700  \n",
       "401  0.109365  0.302712    7.784544  \n",
       "244  0.143065  0.291316    8.807091  \n",
       "418  0.106773  0.264979    7.196813  \n",
       "419  0.106773  0.264979    7.196813  \n",
       "420  0.106773  0.264979    7.196813  \n",
       "459  0.100940  0.249109    6.765467  \n",
       "461  0.100940  0.249109    6.765467  \n",
       "353  0.113577  0.243292    7.193759  \n",
       "354  0.113577  0.243292    7.193759  \n",
       "447  0.101750  0.196534    5.640385  \n",
       "448  0.101750  0.196534    5.640385  \n",
       "331  0.118114  0.195268    6.159970  \n",
       "332  0.118114  0.195268    6.159970  \n",
       "261  0.136585  0.185948    6.408539  \n",
       "262  0.136585  0.185948    6.408539  \n",
       "201  0.156027  0.185067    6.884022  \n",
       "205  0.156027  0.185067    6.884022  \n",
       "283  0.130752  0.180408    6.132988  "
      ]
     },
     "metadata": {},
     "output_type": "display_data"
    },
    {
     "data": {
      "text/html": [
       "<div>\n",
       "<style scoped>\n",
       "    .dataframe tbody tr th:only-of-type {\n",
       "        vertical-align: middle;\n",
       "    }\n",
       "\n",
       "    .dataframe tbody tr th {\n",
       "        vertical-align: top;\n",
       "    }\n",
       "\n",
       "    .dataframe thead th {\n",
       "        text-align: right;\n",
       "    }\n",
       "</style>\n",
       "<table border=\"1\" class=\"dataframe\">\n",
       "  <thead>\n",
       "    <tr style=\"text-align: right;\">\n",
       "      <th></th>\n",
       "      <th>itemsets</th>\n",
       "      <th>sup</th>\n",
       "      <th>tn</th>\n",
       "      <th>fp</th>\n",
       "      <th>fn</th>\n",
       "      <th>tp</th>\n",
       "      <th>Δ_fpr</th>\n",
       "      <th>t_fp</th>\n",
       "    </tr>\n",
       "  </thead>\n",
       "  <tbody>\n",
       "    <tr>\n",
       "      <th>446</th>\n",
       "      <td>age&lt;=32, #prior&gt;=4, race=Afr-Am</td>\n",
       "      <td>0.10</td>\n",
       "      <td>84</td>\n",
       "      <td>58</td>\n",
       "      <td>207</td>\n",
       "      <td>281</td>\n",
       "      <td>0.320</td>\n",
       "      <td>7.8</td>\n",
       "    </tr>\n",
       "    <tr>\n",
       "      <th>303</th>\n",
       "      <td>age&lt;=32, #prior&gt;=4, sex=Male</td>\n",
       "      <td>0.13</td>\n",
       "      <td>110</td>\n",
       "      <td>73</td>\n",
       "      <td>275</td>\n",
       "      <td>326</td>\n",
       "      <td>0.311</td>\n",
       "      <td>8.6</td>\n",
       "    </tr>\n",
       "    <tr>\n",
       "      <th>401</th>\n",
       "      <td>age&lt;=32, charge=F, #prior&gt;=4</td>\n",
       "      <td>0.11</td>\n",
       "      <td>95</td>\n",
       "      <td>61</td>\n",
       "      <td>231</td>\n",
       "      <td>288</td>\n",
       "      <td>0.303</td>\n",
       "      <td>7.8</td>\n",
       "    </tr>\n",
       "  </tbody>\n",
       "</table>\n",
       "</div>"
      ],
      "text/plain": [
       "                            itemsets   sup   tn  fp   fn   tp  Δ_fpr  t_fp\n",
       "446  age<=32, #prior>=4, race=Afr-Am  0.10   84  58  207  281  0.320   7.8\n",
       "303     age<=32, #prior>=4, sex=Male  0.13  110  73  275  326  0.311   8.6\n",
       "401     age<=32, charge=F, #prior>=4  0.11   95  61  231  288  0.303   7.8"
      ]
     },
     "metadata": {},
     "output_type": "display_data"
    }
   ],
   "source": [
    "from utils_extract_divergence_generalized import (\n",
    "    extract_divergence_generalized,\n",
    ")\n",
    "\n",
    "FP_fm = extract_divergence_generalized(\n",
    "    df_analyze,\n",
    "    discretizations,\n",
    "    generalization_dict,\n",
    "    continuous_attributes,\n",
    "    min_sup_divergence=0.1,\n",
    "    apply_generalization=True,\n",
    "    true_class_name=true_class_name,\n",
    "    predicted_class_name=pred_class_name,\n",
    "    class_map=class_map,\n",
    "    FPM_type=\"fpgrowth\",\n",
    "    allow_overalp= True,\n",
    "    type_experiment=type_experiment\n",
    ")\n",
    "\n",
    "if type_experiment not in out:\n",
    "    out[type_experiment] = {}\n",
    "    \n",
    "cols = ['itemsets', \"support\", \"d_fpr\", \"t_value_fp\"]\n",
    "display(FP_fm.sort_values(metric, ascending = False)[cols].head(3))\n",
    "display(FP_fm.sort_values([ metric, \"support\"], ascending = [  False, True])[cols].head(20))\n",
    "\n",
    "display(printable_top_k(\n",
    "    FP_fm, metric, COL_info_detail, K=K, abbreviations=abbreviations))\n",
    "\n",
    "out[type_experiment][\"with_gen\"] = printable_top_k(\n",
    "    FP_fm, metric, COL_info, K=K, abbreviations=abbreviations\n",
    ")"
   ]
  },
  {
   "cell_type": "code",
   "execution_count": 93,
   "metadata": {
    "ExecuteTime": {
     "end_time": "2022-01-22T08:46:07.048683Z",
     "start_time": "2022-01-22T08:46:06.962433Z"
    }
   },
   "outputs": [
    {
     "name": "stdout",
     "output_type": "stream",
     "text": [
      "./output/figures/compas/tree/tree_all_attributes_entropy_sd_0.1_d_fpr\n"
     ]
    },
    {
     "data": {
      "image/svg+xml": [
       "<?xml version=\"1.0\" encoding=\"UTF-8\" standalone=\"no\"?>\n",
       "<!DOCTYPE svg PUBLIC \"-//W3C//DTD SVG 1.1//EN\"\n",
       " \"http://www.w3.org/Graphics/SVG/1.1/DTD/svg11.dtd\">\n",
       "<!-- Generated by graphviz version 2.40.1 (20161225.0304)\n",
       " -->\n",
       "<!-- Title: %3 Pages: 1 -->\n",
       "<svg width=\"434pt\" height=\"417pt\"\n",
       " viewBox=\"0.00 0.00 434.00 417.00\" xmlns=\"http://www.w3.org/2000/svg\" xmlns:xlink=\"http://www.w3.org/1999/xlink\">\n",
       "<g id=\"graph0\" class=\"graph\" transform=\"scale(1 1) rotate(0) translate(4 413)\">\n",
       "<title>%3</title>\n",
       "<polygon fill=\"#ffffff\" stroke=\"transparent\" points=\"-4,4 -4,-413 430,-413 430,4 -4,4\"/>\n",
       "<!-- 0 -->\n",
       "<g id=\"node1\" class=\"node\">\n",
       "<title>0</title>\n",
       "<polygon fill=\"none\" stroke=\"#000000\" points=\"283,-409 215,-409 215,-356 283,-356 283,-409\"/>\n",
       "<text text-anchor=\"middle\" x=\"249\" y=\"-393.8\" font-family=\"Times,serif\" font-size=\"14.00\" fill=\"#000000\">root</text>\n",
       "<text text-anchor=\"middle\" x=\"249\" y=\"-378.8\" font-family=\"Times,serif\" font-size=\"14.00\" fill=\"#000000\">sup=1.00</text>\n",
       "<text text-anchor=\"middle\" x=\"249\" y=\"-363.8\" font-family=\"Times,serif\" font-size=\"14.00\" fill=\"#000000\">fpr=0.09</text>\n",
       "</g>\n",
       "<!-- 1 -->\n",
       "<g id=\"node2\" class=\"node\">\n",
       "<title>1</title>\n",
       "<polygon fill=\"none\" stroke=\"#000000\" points=\"240,-320 172,-320 172,-267 240,-267 240,-320\"/>\n",
       "<text text-anchor=\"middle\" x=\"206\" y=\"-304.8\" font-family=\"Times,serif\" font-size=\"14.00\" fill=\"#000000\">#prior≤3</text>\n",
       "<text text-anchor=\"middle\" x=\"206\" y=\"-289.8\" font-family=\"Times,serif\" font-size=\"14.00\" fill=\"#000000\">sup=0.71</text>\n",
       "<text text-anchor=\"middle\" x=\"206\" y=\"-274.8\" font-family=\"Times,serif\" font-size=\"14.00\" fill=\"#000000\">Δ=&#45;0.03</text>\n",
       "</g>\n",
       "<!-- 0&#45;&gt;1 -->\n",
       "<g id=\"edge1\" class=\"edge\">\n",
       "<title>0&#45;&gt;1</title>\n",
       "<path fill=\"none\" stroke=\"#000000\" d=\"M236.0986,-355.7971C232.0593,-347.4367 227.5352,-338.073 223.2464,-329.1961\"/>\n",
       "<polygon fill=\"#000000\" stroke=\"#000000\" points=\"226.3941,-327.6656 218.8923,-320.1841 220.0912,-330.7109 226.3941,-327.6656\"/>\n",
       "</g>\n",
       "<!-- 12 -->\n",
       "<g id=\"node13\" class=\"node\">\n",
       "<title>12</title>\n",
       "<polygon fill=\"none\" stroke=\"#000000\" points=\"326,-320 258,-320 258,-267 326,-267 326,-320\"/>\n",
       "<text text-anchor=\"middle\" x=\"292\" y=\"-304.8\" font-family=\"Times,serif\" font-size=\"14.00\" fill=\"#000000\">#prior&gt;3</text>\n",
       "<text text-anchor=\"middle\" x=\"292\" y=\"-289.8\" font-family=\"Times,serif\" font-size=\"14.00\" fill=\"#000000\">sup=0.29</text>\n",
       "<text text-anchor=\"middle\" x=\"292\" y=\"-274.8\" font-family=\"Times,serif\" font-size=\"14.00\" fill=\"#000000\">Δ=0.13</text>\n",
       "</g>\n",
       "<!-- 0&#45;&gt;12 -->\n",
       "<g id=\"edge12\" class=\"edge\">\n",
       "<title>0&#45;&gt;12</title>\n",
       "<path fill=\"none\" stroke=\"#000000\" d=\"M261.9014,-355.7971C265.9407,-347.4367 270.4648,-338.073 274.7536,-329.1961\"/>\n",
       "<polygon fill=\"#000000\" stroke=\"#000000\" points=\"277.9088,-330.7109 279.1077,-320.1841 271.6059,-327.6656 277.9088,-330.7109\"/>\n",
       "</g>\n",
       "<!-- 2 -->\n",
       "<g id=\"node3\" class=\"node\">\n",
       "<title>2</title>\n",
       "<polygon fill=\"none\" stroke=\"#000000\" points=\"154,-231 86,-231 86,-178 154,-178 154,-231\"/>\n",
       "<text text-anchor=\"middle\" x=\"120\" y=\"-215.8\" font-family=\"Times,serif\" font-size=\"14.00\" fill=\"#000000\">age≤25</text>\n",
       "<text text-anchor=\"middle\" x=\"120\" y=\"-200.8\" font-family=\"Times,serif\" font-size=\"14.00\" fill=\"#000000\">sup=0.23</text>\n",
       "<text text-anchor=\"middle\" x=\"120\" y=\"-185.8\" font-family=\"Times,serif\" font-size=\"14.00\" fill=\"#000000\">Δ=0.06</text>\n",
       "</g>\n",
       "<!-- 1&#45;&gt;2 -->\n",
       "<g id=\"edge2\" class=\"edge\">\n",
       "<title>1&#45;&gt;2</title>\n",
       "<path fill=\"none\" stroke=\"#000000\" d=\"M180.1972,-266.7971C171.6084,-257.9087 161.9237,-247.8862 152.8736,-238.5203\"/>\n",
       "<polygon fill=\"#000000\" stroke=\"#000000\" points=\"155.2504,-235.9432 145.7846,-231.1841 150.2165,-240.8074 155.2504,-235.9432\"/>\n",
       "</g>\n",
       "<!-- 5 -->\n",
       "<g id=\"node6\" class=\"node\">\n",
       "<title>5</title>\n",
       "<polygon fill=\"none\" stroke=\"#000000\" points=\"240,-231 172,-231 172,-178 240,-178 240,-231\"/>\n",
       "<text text-anchor=\"middle\" x=\"206\" y=\"-215.8\" font-family=\"Times,serif\" font-size=\"14.00\" fill=\"#000000\">age&gt;25</text>\n",
       "<text text-anchor=\"middle\" x=\"206\" y=\"-200.8\" font-family=\"Times,serif\" font-size=\"14.00\" fill=\"#000000\">sup=0.48</text>\n",
       "<text text-anchor=\"middle\" x=\"206\" y=\"-185.8\" font-family=\"Times,serif\" font-size=\"14.00\" fill=\"#000000\">Δ=&#45;0.06</text>\n",
       "</g>\n",
       "<!-- 1&#45;&gt;5 -->\n",
       "<g id=\"edge5\" class=\"edge\">\n",
       "<title>1&#45;&gt;5</title>\n",
       "<path fill=\"none\" stroke=\"#000000\" d=\"M206,-266.7971C206,-258.7887 206,-249.8597 206,-241.3198\"/>\n",
       "<polygon fill=\"#000000\" stroke=\"#000000\" points=\"209.5001,-241.1841 206,-231.1841 202.5001,-241.1841 209.5001,-241.1841\"/>\n",
       "</g>\n",
       "<!-- 3 -->\n",
       "<g id=\"node4\" class=\"node\">\n",
       "<title>3</title>\n",
       "<polygon fill=\"none\" stroke=\"#000000\" stroke-width=\"2\" points=\"68,-142 0,-142 0,-89 68,-89 68,-142\"/>\n",
       "<text text-anchor=\"middle\" x=\"34\" y=\"-126.8\" font-family=\"Times,serif\" font-size=\"14.00\" fill=\"#000000\">#prior≤0</text>\n",
       "<text text-anchor=\"middle\" x=\"34\" y=\"-111.8\" font-family=\"Times,serif\" font-size=\"14.00\" fill=\"#000000\">sup=0.11</text>\n",
       "<text text-anchor=\"middle\" x=\"34\" y=\"-96.8\" font-family=\"Times,serif\" font-size=\"14.00\" fill=\"#000000\">Δ=0.02</text>\n",
       "</g>\n",
       "<!-- 2&#45;&gt;3 -->\n",
       "<g id=\"edge3\" class=\"edge\">\n",
       "<title>2&#45;&gt;3</title>\n",
       "<path fill=\"none\" stroke=\"#000000\" d=\"M94.1972,-177.7971C85.6084,-168.9087 75.9237,-158.8862 66.8736,-149.5203\"/>\n",
       "<polygon fill=\"#000000\" stroke=\"#000000\" points=\"69.2504,-146.9432 59.7846,-142.1841 64.2165,-151.8074 69.2504,-146.9432\"/>\n",
       "</g>\n",
       "<!-- 4 -->\n",
       "<g id=\"node5\" class=\"node\">\n",
       "<title>4</title>\n",
       "<polygon fill=\"none\" stroke=\"#000000\" stroke-width=\"2\" points=\"154,-142 86,-142 86,-89 154,-89 154,-142\"/>\n",
       "<text text-anchor=\"middle\" x=\"120\" y=\"-126.8\" font-family=\"Times,serif\" font-size=\"14.00\" fill=\"#000000\">#prior&gt;0</text>\n",
       "<text text-anchor=\"middle\" x=\"120\" y=\"-111.8\" font-family=\"Times,serif\" font-size=\"14.00\" fill=\"#000000\">sup=0.11</text>\n",
       "<text text-anchor=\"middle\" x=\"120\" y=\"-96.8\" font-family=\"Times,serif\" font-size=\"14.00\" fill=\"#000000\">Δ=0.11</text>\n",
       "</g>\n",
       "<!-- 2&#45;&gt;4 -->\n",
       "<g id=\"edge4\" class=\"edge\">\n",
       "<title>2&#45;&gt;4</title>\n",
       "<path fill=\"none\" stroke=\"#000000\" d=\"M120,-177.7971C120,-169.7887 120,-160.8597 120,-152.3198\"/>\n",
       "<polygon fill=\"#000000\" stroke=\"#000000\" points=\"123.5001,-152.1841 120,-142.1841 116.5001,-152.1841 123.5001,-152.1841\"/>\n",
       "</g>\n",
       "<!-- 6 -->\n",
       "<g id=\"node7\" class=\"node\">\n",
       "<title>6</title>\n",
       "<polygon fill=\"none\" stroke=\"#000000\" points=\"240,-142 172,-142 172,-89 240,-89 240,-142\"/>\n",
       "<text text-anchor=\"middle\" x=\"206\" y=\"-126.8\" font-family=\"Times,serif\" font-size=\"14.00\" fill=\"#000000\">age≤37</text>\n",
       "<text text-anchor=\"middle\" x=\"206\" y=\"-111.8\" font-family=\"Times,serif\" font-size=\"14.00\" fill=\"#000000\">sup=0.25</text>\n",
       "<text text-anchor=\"middle\" x=\"206\" y=\"-96.8\" font-family=\"Times,serif\" font-size=\"14.00\" fill=\"#000000\">Δ=&#45;0.04</text>\n",
       "</g>\n",
       "<!-- 5&#45;&gt;6 -->\n",
       "<g id=\"edge6\" class=\"edge\">\n",
       "<title>5&#45;&gt;6</title>\n",
       "<path fill=\"none\" stroke=\"#000000\" d=\"M206,-177.7971C206,-169.7887 206,-160.8597 206,-152.3198\"/>\n",
       "<polygon fill=\"#000000\" stroke=\"#000000\" points=\"209.5001,-152.1841 206,-142.1841 202.5001,-152.1841 209.5001,-152.1841\"/>\n",
       "</g>\n",
       "<!-- 9 -->\n",
       "<g id=\"node10\" class=\"node\">\n",
       "<title>9</title>\n",
       "<polygon fill=\"none\" stroke=\"#000000\" points=\"340,-142 272,-142 272,-89 340,-89 340,-142\"/>\n",
       "<text text-anchor=\"middle\" x=\"306\" y=\"-126.8\" font-family=\"Times,serif\" font-size=\"14.00\" fill=\"#000000\">age&gt;37</text>\n",
       "<text text-anchor=\"middle\" x=\"306\" y=\"-111.8\" font-family=\"Times,serif\" font-size=\"14.00\" fill=\"#000000\">sup=0.23</text>\n",
       "<text text-anchor=\"middle\" x=\"306\" y=\"-96.8\" font-family=\"Times,serif\" font-size=\"14.00\" fill=\"#000000\">Δ=&#45;0.08</text>\n",
       "</g>\n",
       "<!-- 5&#45;&gt;9 -->\n",
       "<g id=\"edge9\" class=\"edge\">\n",
       "<title>5&#45;&gt;9</title>\n",
       "<path fill=\"none\" stroke=\"#000000\" d=\"M236.0033,-177.7971C246.188,-168.7327 257.698,-158.4888 268.3992,-148.9647\"/>\n",
       "<polygon fill=\"#000000\" stroke=\"#000000\" points=\"270.8748,-151.4469 276.0179,-142.1841 266.221,-146.2179 270.8748,-151.4469\"/>\n",
       "</g>\n",
       "<!-- 7 -->\n",
       "<g id=\"node8\" class=\"node\">\n",
       "<title>7</title>\n",
       "<polygon fill=\"none\" stroke=\"#000000\" stroke-width=\"2\" points=\"140,-53 48,-53 48,0 140,0 140,-53\"/>\n",
       "<text text-anchor=\"middle\" x=\"94\" y=\"-37.8\" font-family=\"Times,serif\" font-size=\"14.00\" fill=\"#000000\">race=Afr&#45;Am</text>\n",
       "<text text-anchor=\"middle\" x=\"94\" y=\"-22.8\" font-family=\"Times,serif\" font-size=\"14.00\" fill=\"#000000\">sup=0.12</text>\n",
       "<text text-anchor=\"middle\" x=\"94\" y=\"-7.8\" font-family=\"Times,serif\" font-size=\"14.00\" fill=\"#000000\">Δ=&#45;0.00</text>\n",
       "</g>\n",
       "<!-- 6&#45;&gt;7 -->\n",
       "<g id=\"edge7\" class=\"edge\">\n",
       "<title>6&#45;&gt;7</title>\n",
       "<path fill=\"none\" stroke=\"#000000\" d=\"M172.3963,-88.7971C160.768,-79.5567 147.5971,-69.0905 135.4158,-59.4107\"/>\n",
       "<polygon fill=\"#000000\" stroke=\"#000000\" points=\"137.5866,-56.6653 127.58,-53.1841 133.2316,-62.1457 137.5866,-56.6653\"/>\n",
       "</g>\n",
       "<!-- 8 -->\n",
       "<g id=\"node9\" class=\"node\">\n",
       "<title>8</title>\n",
       "<polygon fill=\"none\" stroke=\"#000000\" stroke-width=\"2\" points=\"254,-53 158,-53 158,0 254,0 254,-53\"/>\n",
       "<text text-anchor=\"middle\" x=\"206\" y=\"-37.8\" font-family=\"Times,serif\" font-size=\"14.00\" fill=\"#000000\">race!=Afr&#45;Am</text>\n",
       "<text text-anchor=\"middle\" x=\"206\" y=\"-22.8\" font-family=\"Times,serif\" font-size=\"14.00\" fill=\"#000000\">sup=0.14</text>\n",
       "<text text-anchor=\"middle\" x=\"206\" y=\"-7.8\" font-family=\"Times,serif\" font-size=\"14.00\" fill=\"#000000\">Δ=&#45;0.06</text>\n",
       "</g>\n",
       "<!-- 6&#45;&gt;8 -->\n",
       "<g id=\"edge8\" class=\"edge\">\n",
       "<title>6&#45;&gt;8</title>\n",
       "<path fill=\"none\" stroke=\"#000000\" d=\"M206,-88.7971C206,-80.7887 206,-71.8597 206,-63.3198\"/>\n",
       "<polygon fill=\"#000000\" stroke=\"#000000\" points=\"209.5001,-63.1841 206,-53.1841 202.5001,-63.1841 209.5001,-63.1841\"/>\n",
       "</g>\n",
       "<!-- 10 -->\n",
       "<g id=\"node11\" class=\"node\">\n",
       "<title>10</title>\n",
       "<polygon fill=\"none\" stroke=\"#000000\" stroke-width=\"2\" points=\"340,-53 272,-53 272,0 340,0 340,-53\"/>\n",
       "<text text-anchor=\"middle\" x=\"306\" y=\"-37.8\" font-family=\"Times,serif\" font-size=\"14.00\" fill=\"#000000\">#prior≤0</text>\n",
       "<text text-anchor=\"middle\" x=\"306\" y=\"-22.8\" font-family=\"Times,serif\" font-size=\"14.00\" fill=\"#000000\">sup=0.11</text>\n",
       "<text text-anchor=\"middle\" x=\"306\" y=\"-7.8\" font-family=\"Times,serif\" font-size=\"14.00\" fill=\"#000000\">Δ=&#45;0.09</text>\n",
       "</g>\n",
       "<!-- 9&#45;&gt;10 -->\n",
       "<g id=\"edge10\" class=\"edge\">\n",
       "<title>9&#45;&gt;10</title>\n",
       "<path fill=\"none\" stroke=\"#000000\" d=\"M306,-88.7971C306,-80.7887 306,-71.8597 306,-63.3198\"/>\n",
       "<polygon fill=\"#000000\" stroke=\"#000000\" points=\"309.5001,-63.1841 306,-53.1841 302.5001,-63.1841 309.5001,-63.1841\"/>\n",
       "</g>\n",
       "<!-- 11 -->\n",
       "<g id=\"node12\" class=\"node\">\n",
       "<title>11</title>\n",
       "<polygon fill=\"none\" stroke=\"#000000\" stroke-width=\"2\" points=\"426,-53 358,-53 358,0 426,0 426,-53\"/>\n",
       "<text text-anchor=\"middle\" x=\"392\" y=\"-37.8\" font-family=\"Times,serif\" font-size=\"14.00\" fill=\"#000000\">#prior&gt;0</text>\n",
       "<text text-anchor=\"middle\" x=\"392\" y=\"-22.8\" font-family=\"Times,serif\" font-size=\"14.00\" fill=\"#000000\">sup=0.11</text>\n",
       "<text text-anchor=\"middle\" x=\"392\" y=\"-7.8\" font-family=\"Times,serif\" font-size=\"14.00\" fill=\"#000000\">Δ=&#45;0.07</text>\n",
       "</g>\n",
       "<!-- 9&#45;&gt;11 -->\n",
       "<g id=\"edge11\" class=\"edge\">\n",
       "<title>9&#45;&gt;11</title>\n",
       "<path fill=\"none\" stroke=\"#000000\" d=\"M331.8028,-88.7971C340.3916,-79.9087 350.0763,-69.8862 359.1264,-60.5203\"/>\n",
       "<polygon fill=\"#000000\" stroke=\"#000000\" points=\"361.7835,-62.8074 366.2154,-53.1841 356.7496,-57.9432 361.7835,-62.8074\"/>\n",
       "</g>\n",
       "<!-- 13 -->\n",
       "<g id=\"node14\" class=\"node\">\n",
       "<title>13</title>\n",
       "<polygon fill=\"none\" stroke=\"#000000\" stroke-width=\"2\" points=\"326,-231 258,-231 258,-178 326,-178 326,-231\"/>\n",
       "<text text-anchor=\"middle\" x=\"292\" y=\"-215.8\" font-family=\"Times,serif\" font-size=\"14.00\" fill=\"#000000\">age≤32</text>\n",
       "<text text-anchor=\"middle\" x=\"292\" y=\"-200.8\" font-family=\"Times,serif\" font-size=\"14.00\" fill=\"#000000\">sup=0.14</text>\n",
       "<text text-anchor=\"middle\" x=\"292\" y=\"-185.8\" font-family=\"Times,serif\" font-size=\"14.00\" fill=\"#000000\">Δ=0.29</text>\n",
       "</g>\n",
       "<!-- 12&#45;&gt;13 -->\n",
       "<g id=\"edge13\" class=\"edge\">\n",
       "<title>12&#45;&gt;13</title>\n",
       "<path fill=\"none\" stroke=\"#000000\" d=\"M292,-266.7971C292,-258.7887 292,-249.8597 292,-241.3198\"/>\n",
       "<polygon fill=\"#000000\" stroke=\"#000000\" points=\"295.5001,-241.1841 292,-231.1841 288.5001,-241.1841 295.5001,-241.1841\"/>\n",
       "</g>\n",
       "<!-- 14 -->\n",
       "<g id=\"node15\" class=\"node\">\n",
       "<title>14</title>\n",
       "<polygon fill=\"none\" stroke=\"#000000\" stroke-width=\"2\" points=\"412,-231 344,-231 344,-178 412,-178 412,-231\"/>\n",
       "<text text-anchor=\"middle\" x=\"378\" y=\"-215.8\" font-family=\"Times,serif\" font-size=\"14.00\" fill=\"#000000\">age&gt;32</text>\n",
       "<text text-anchor=\"middle\" x=\"378\" y=\"-200.8\" font-family=\"Times,serif\" font-size=\"14.00\" fill=\"#000000\">sup=0.15</text>\n",
       "<text text-anchor=\"middle\" x=\"378\" y=\"-185.8\" font-family=\"Times,serif\" font-size=\"14.00\" fill=\"#000000\">Δ=0.04</text>\n",
       "</g>\n",
       "<!-- 12&#45;&gt;14 -->\n",
       "<g id=\"edge14\" class=\"edge\">\n",
       "<title>12&#45;&gt;14</title>\n",
       "<path fill=\"none\" stroke=\"#000000\" d=\"M317.8028,-266.7971C326.3916,-257.9087 336.0763,-247.8862 345.1264,-238.5203\"/>\n",
       "<polygon fill=\"#000000\" stroke=\"#000000\" points=\"347.7835,-240.8074 352.2154,-231.1841 342.7496,-235.9432 347.7835,-240.8074\"/>\n",
       "</g>\n",
       "</g>\n",
       "</svg>\n"
      ],
      "text/plain": [
       "<graphviz.dot.Digraph at 0x7f6b48ea40b8>"
      ]
     },
     "execution_count": 93,
     "metadata": {},
     "output_type": "execute_result"
    }
   ],
   "source": [
    "dot = tree_discr.trees.visualizeTreeDiGraph(abbreviations=abbreviations, all_info = False, show_condition=True)\n",
    "\n",
    "suffix=f\"{type_experiment}_{type_criterion}_sd_{min_support_tree}_{metric}\"\n",
    "saveFig = True\n",
    "\n",
    "if saveFig:\n",
    "    dot.render(\n",
    "       os.path.join(tree_outputdir, f\"tree_{suffix}\")\n",
    "                )\n",
    "print(os.path.join(tree_outputdir, f\"tree_{suffix}\"))       \n",
    "dot"
   ]
  },
  {
   "cell_type": "code",
   "execution_count": null,
   "metadata": {},
   "outputs": [],
   "source": []
  }
 ],
 "metadata": {
  "hide_input": false,
  "kernelspec": {
   "display_name": "Python 3",
   "language": "python",
   "name": "python3"
  },
  "language_info": {
   "codemirror_mode": {
    "name": "ipython",
    "version": 3
   },
   "file_extension": ".py",
   "mimetype": "text/x-python",
   "name": "python",
   "nbconvert_exporter": "python",
   "pygments_lexer": "ipython3",
   "version": "3.6.5"
  },
  "toc": {
   "base_numbering": 1,
   "nav_menu": {},
   "number_sections": true,
   "sideBar": true,
   "skip_h1_title": false,
   "title_cell": "Table of Contents",
   "title_sidebar": "Contents",
   "toc_cell": false,
   "toc_position": {
    "height": "calc(100% - 180px)",
    "left": "10px",
    "top": "150px",
    "width": "370px"
   },
   "toc_section_display": true,
   "toc_window_display": true
  },
  "varInspector": {
   "cols": {
    "lenName": 16,
    "lenType": 16,
    "lenVar": 40
   },
   "kernels_config": {
    "python": {
     "delete_cmd_postfix": "",
     "delete_cmd_prefix": "del ",
     "library": "var_list.py",
     "varRefreshCmd": "print(var_dic_list())"
    },
    "r": {
     "delete_cmd_postfix": ") ",
     "delete_cmd_prefix": "rm(",
     "library": "var_list.r",
     "varRefreshCmd": "cat(var_dic_list()) "
    }
   },
   "types_to_exclude": [
    "module",
    "function",
    "builtin_function_or_method",
    "instance",
    "_Feature"
   ],
   "window_display": false
  }
 },
 "nbformat": 4,
 "nbformat_minor": 5
}
