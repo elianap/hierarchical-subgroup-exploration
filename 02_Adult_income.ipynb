{
 "cells": [
  {
   "cell_type": "code",
   "execution_count": 6,
   "metadata": {
    "ExecuteTime": {
     "end_time": "2022-01-22T08:57:31.473761Z",
     "start_time": "2022-01-22T08:57:31.369622Z"
    }
   },
   "outputs": [],
   "source": [
    "%load_ext autoreload\n",
    "%autoreload 2"
   ]
  },
  {
   "cell_type": "code",
   "execution_count": 5,
   "metadata": {
    "ExecuteTime": {
     "end_time": "2022-01-22T08:57:31.199104Z",
     "start_time": "2022-01-22T08:56:52.043221Z"
    }
   },
   "outputs": [
    {
     "name": "stdout",
     "output_type": "stream",
     "text": [
      "Downloading data for 2018 1-Year person survey for CA...\n"
     ]
    }
   ],
   "source": [
    "from folktables import ACSDataSource, ACSIncome\n",
    "\n",
    "data_source = ACSDataSource(survey_year='2018', horizon='1-Year', survey='person')\n",
    "acs_data = data_source.get_data(states=[\"CA\"], download=True)\n",
    "features, label, group = ACSIncome.df_to_numpy(acs_data)"
   ]
  },
  {
   "cell_type": "code",
   "execution_count": 7,
   "metadata": {
    "ExecuteTime": {
     "end_time": "2022-01-22T08:58:00.006433Z",
     "start_time": "2022-01-22T08:57:59.987784Z"
    }
   },
   "outputs": [],
   "source": [
    "from folktables.acs import adult_filter\n",
    "from folktables import BasicProblem\n",
    "import numpy as np\n",
    "\n",
    "feature_names = [\n",
    "        'AGEP',\n",
    "        'COW',\n",
    "        'SCHL',\n",
    "        'MAR',\n",
    "        'OCCP',\n",
    "        'POBP',\n",
    "        'RELP',\n",
    "        'WKHP',\n",
    "        'SEX',\n",
    "        'RAC1P',\n",
    "    ]\n",
    "\n",
    "target='PINCP'\n",
    "\n",
    "ACSIncome_outcome = BasicProblem(\n",
    "    features=feature_names,\n",
    "    target=target,\n",
    "    #target_transform=lambda x: x > 50000,    \n",
    "    group='RAC1P',\n",
    "    preprocess=adult_filter,\n",
    "    #postprocess=lambda x: np.nan_to_num(x, -1),\n",
    ")"
   ]
  },
  {
   "cell_type": "code",
   "execution_count": 8,
   "metadata": {
    "ExecuteTime": {
     "end_time": "2022-01-22T08:58:01.153744Z",
     "start_time": "2022-01-22T08:58:00.011025Z"
    }
   },
   "outputs": [],
   "source": [
    "features, label, group = ACSIncome_outcome.df_to_numpy(acs_data)"
   ]
  },
  {
   "cell_type": "code",
   "execution_count": 9,
   "metadata": {
    "ExecuteTime": {
     "end_time": "2022-01-22T08:58:01.167686Z",
     "start_time": "2022-01-22T08:58:01.155257Z"
    }
   },
   "outputs": [],
   "source": [
    "continuous_attributes = ['AGEP', 'WKHP']"
   ]
  },
  {
   "cell_type": "code",
   "execution_count": 10,
   "metadata": {
    "ExecuteTime": {
     "end_time": "2022-01-22T08:58:01.180475Z",
     "start_time": "2022-01-22T08:58:01.169644Z"
    }
   },
   "outputs": [],
   "source": [
    "feature_names = [\n",
    "        'AGEP',\n",
    "        'COW',\n",
    "        'SCHL',\n",
    "        'MAR',\n",
    "        'OCCP',\n",
    "        'POBP',\n",
    "        'RELP',\n",
    "        'WKHP',\n",
    "        'SEX',\n",
    "        'RAC1P',\n",
    "    ]\n",
    "\n",
    "categorical_attributes = list(set(feature_names)-set(continuous_attributes))"
   ]
  },
  {
   "cell_type": "code",
   "execution_count": 11,
   "metadata": {
    "ExecuteTime": {
     "end_time": "2022-01-22T08:58:01.207515Z",
     "start_time": "2022-01-22T08:58:01.181653Z"
    }
   },
   "outputs": [
    {
     "data": {
      "text/html": [
       "<div>\n",
       "<style scoped>\n",
       "    .dataframe tbody tr th:only-of-type {\n",
       "        vertical-align: middle;\n",
       "    }\n",
       "\n",
       "    .dataframe tbody tr th {\n",
       "        vertical-align: top;\n",
       "    }\n",
       "\n",
       "    .dataframe thead th {\n",
       "        text-align: right;\n",
       "    }\n",
       "</style>\n",
       "<table border=\"1\" class=\"dataframe\">\n",
       "  <thead>\n",
       "    <tr style=\"text-align: right;\">\n",
       "      <th></th>\n",
       "      <th>AGEP</th>\n",
       "      <th>COW</th>\n",
       "      <th>SCHL</th>\n",
       "      <th>MAR</th>\n",
       "      <th>OCCP</th>\n",
       "      <th>POBP</th>\n",
       "      <th>RELP</th>\n",
       "      <th>WKHP</th>\n",
       "      <th>SEX</th>\n",
       "      <th>RAC1P</th>\n",
       "      <th>income</th>\n",
       "    </tr>\n",
       "  </thead>\n",
       "  <tbody>\n",
       "    <tr>\n",
       "      <th>0</th>\n",
       "      <td>30.0</td>\n",
       "      <td>6.0</td>\n",
       "      <td>14.0</td>\n",
       "      <td>1.0</td>\n",
       "      <td>9610.0</td>\n",
       "      <td>6.0</td>\n",
       "      <td>16.0</td>\n",
       "      <td>40.0</td>\n",
       "      <td>1.0</td>\n",
       "      <td>8.0</td>\n",
       "      <td>48500.0</td>\n",
       "    </tr>\n",
       "    <tr>\n",
       "      <th>1</th>\n",
       "      <td>21.0</td>\n",
       "      <td>4.0</td>\n",
       "      <td>16.0</td>\n",
       "      <td>5.0</td>\n",
       "      <td>1970.0</td>\n",
       "      <td>6.0</td>\n",
       "      <td>17.0</td>\n",
       "      <td>20.0</td>\n",
       "      <td>1.0</td>\n",
       "      <td>1.0</td>\n",
       "      <td>7700.0</td>\n",
       "    </tr>\n",
       "    <tr>\n",
       "      <th>2</th>\n",
       "      <td>65.0</td>\n",
       "      <td>2.0</td>\n",
       "      <td>22.0</td>\n",
       "      <td>5.0</td>\n",
       "      <td>2040.0</td>\n",
       "      <td>6.0</td>\n",
       "      <td>17.0</td>\n",
       "      <td>8.0</td>\n",
       "      <td>1.0</td>\n",
       "      <td>1.0</td>\n",
       "      <td>17200.0</td>\n",
       "    </tr>\n",
       "    <tr>\n",
       "      <th>3</th>\n",
       "      <td>33.0</td>\n",
       "      <td>1.0</td>\n",
       "      <td>14.0</td>\n",
       "      <td>3.0</td>\n",
       "      <td>9610.0</td>\n",
       "      <td>36.0</td>\n",
       "      <td>16.0</td>\n",
       "      <td>40.0</td>\n",
       "      <td>1.0</td>\n",
       "      <td>1.0</td>\n",
       "      <td>12000.0</td>\n",
       "    </tr>\n",
       "    <tr>\n",
       "      <th>4</th>\n",
       "      <td>18.0</td>\n",
       "      <td>2.0</td>\n",
       "      <td>19.0</td>\n",
       "      <td>5.0</td>\n",
       "      <td>1021.0</td>\n",
       "      <td>6.0</td>\n",
       "      <td>17.0</td>\n",
       "      <td>18.0</td>\n",
       "      <td>2.0</td>\n",
       "      <td>1.0</td>\n",
       "      <td>300.0</td>\n",
       "    </tr>\n",
       "  </tbody>\n",
       "</table>\n",
       "</div>"
      ],
      "text/plain": [
       "   AGEP  COW  SCHL  MAR    OCCP  POBP  RELP  WKHP  SEX  RAC1P   income\n",
       "0  30.0  6.0  14.0  1.0  9610.0   6.0  16.0  40.0  1.0    8.0  48500.0\n",
       "1  21.0  4.0  16.0  5.0  1970.0   6.0  17.0  20.0  1.0    1.0   7700.0\n",
       "2  65.0  2.0  22.0  5.0  2040.0   6.0  17.0   8.0  1.0    1.0  17200.0\n",
       "3  33.0  1.0  14.0  3.0  9610.0  36.0  16.0  40.0  1.0    1.0  12000.0\n",
       "4  18.0  2.0  19.0  5.0  1021.0   6.0  17.0  18.0  2.0    1.0    300.0"
      ]
     },
     "execution_count": 11,
     "metadata": {},
     "output_type": "execute_result"
    }
   ],
   "source": [
    "import pandas as pd\n",
    "\n",
    "\n",
    "df = pd.DataFrame(features, columns=feature_names)\n",
    "df[\"income\"] = label\n",
    "df.head()"
   ]
  },
  {
   "cell_type": "markdown",
   "metadata": {},
   "source": [
    "# Remap columns"
   ]
  },
  {
   "cell_type": "code",
   "execution_count": 12,
   "metadata": {
    "ExecuteTime": {
     "end_time": "2022-01-22T08:58:01.217863Z",
     "start_time": "2022-01-22T08:58:01.208767Z"
    }
   },
   "outputs": [],
   "source": [
    "import pandas as pd\n",
    "import os\n",
    "filename = os.path.join(os.path.curdir, \"datasets\", \"ACSPUMS\", \"PUMS_Data_Dictionary_2018.csv\")"
   ]
  },
  {
   "cell_type": "code",
   "execution_count": 13,
   "metadata": {
    "ExecuteTime": {
     "end_time": "2022-01-22T08:58:01.236750Z",
     "start_time": "2022-01-22T08:58:01.218983Z"
    }
   },
   "outputs": [],
   "source": [
    "df_mappings = pd.read_csv(filename)"
   ]
  },
  {
   "cell_type": "code",
   "execution_count": 14,
   "metadata": {
    "ExecuteTime": {
     "end_time": "2022-01-22T08:58:01.246283Z",
     "start_time": "2022-01-22T08:58:01.237863Z"
    }
   },
   "outputs": [],
   "source": [
    "remapping_cols = {}"
   ]
  },
  {
   "cell_type": "code",
   "execution_count": 15,
   "metadata": {
    "ExecuteTime": {
     "end_time": "2022-01-22T08:58:01.325031Z",
     "start_time": "2022-01-22T08:58:01.248196Z"
    }
   },
   "outputs": [],
   "source": [
    "orig_col = \"1\"\n",
    "new_col = \"Record Type\"\n",
    "cols_i = [orig_col, new_col]\n",
    "\n",
    "#col_name = \"OCCP\"\n",
    "for col_name in categorical_attributes:\n",
    "    dict_i = df_mappings.loc[\"VAL\"].loc[col_name][cols_i].set_index(orig_col).to_dict()[new_col]\n",
    "    dict_i = {float(k) if (k not in [\"b\", \"bb\", 'bbbb']) else -1 :v for k,v in dict_i.items()}\n",
    "    remapping_cols[col_name] = dict_i"
   ]
  },
  {
   "cell_type": "code",
   "execution_count": 16,
   "metadata": {
    "ExecuteTime": {
     "end_time": "2022-01-22T08:58:02.756842Z",
     "start_time": "2022-01-22T08:58:01.328982Z"
    }
   },
   "outputs": [],
   "source": [
    "from copy import deepcopy\n",
    "\n",
    "df_renamed = deepcopy(df)\n",
    "\n",
    "for column_name in remapping_cols:\n",
    "    df_renamed[column_name] = df[column_name].replace(remapping_cols[column_name])"
   ]
  },
  {
   "cell_type": "code",
   "execution_count": 17,
   "metadata": {
    "ExecuteTime": {
     "end_time": "2022-01-22T08:58:02.788722Z",
     "start_time": "2022-01-22T08:58:02.758670Z"
    }
   },
   "outputs": [
    {
     "data": {
      "text/html": [
       "<div>\n",
       "<style scoped>\n",
       "    .dataframe tbody tr th:only-of-type {\n",
       "        vertical-align: middle;\n",
       "    }\n",
       "\n",
       "    .dataframe tbody tr th {\n",
       "        vertical-align: top;\n",
       "    }\n",
       "\n",
       "    .dataframe thead th {\n",
       "        text-align: right;\n",
       "    }\n",
       "</style>\n",
       "<table border=\"1\" class=\"dataframe\">\n",
       "  <thead>\n",
       "    <tr style=\"text-align: right;\">\n",
       "      <th></th>\n",
       "      <th>AGEP</th>\n",
       "      <th>COW</th>\n",
       "      <th>SCHL</th>\n",
       "      <th>MAR</th>\n",
       "      <th>OCCP</th>\n",
       "      <th>POBP</th>\n",
       "      <th>RELP</th>\n",
       "      <th>WKHP</th>\n",
       "      <th>SEX</th>\n",
       "      <th>RAC1P</th>\n",
       "      <th>income</th>\n",
       "    </tr>\n",
       "  </thead>\n",
       "  <tbody>\n",
       "    <tr>\n",
       "      <th>0</th>\n",
       "      <td>30.0</td>\n",
       "      <td>Self-employed in own not incorporated business...</td>\n",
       "      <td>Grade 11</td>\n",
       "      <td>Married</td>\n",
       "      <td>TRN-Cleaners Of Vehicles And Equipment</td>\n",
       "      <td>California/CA</td>\n",
       "      <td>Institutionalized group quarters population</td>\n",
       "      <td>40.0</td>\n",
       "      <td>Male</td>\n",
       "      <td>Some Other Race alone</td>\n",
       "      <td>48500.0</td>\n",
       "    </tr>\n",
       "    <tr>\n",
       "      <th>1</th>\n",
       "      <td>21.0</td>\n",
       "      <td>State government employee</td>\n",
       "      <td>Regular high school diploma</td>\n",
       "      <td>Never married or under 15 years old</td>\n",
       "      <td>SCI-Other Life, Physical, And Social Science T...</td>\n",
       "      <td>California/CA</td>\n",
       "      <td>Noninstitutionalized group quarters population</td>\n",
       "      <td>20.0</td>\n",
       "      <td>Male</td>\n",
       "      <td>White alone</td>\n",
       "      <td>7700.0</td>\n",
       "    </tr>\n",
       "    <tr>\n",
       "      <th>2</th>\n",
       "      <td>65.0</td>\n",
       "      <td>Employee of a private not-for-profit, tax-exem...</td>\n",
       "      <td>Master's degree</td>\n",
       "      <td>Never married or under 15 years old</td>\n",
       "      <td>CMS-Clergy</td>\n",
       "      <td>California/CA</td>\n",
       "      <td>Noninstitutionalized group quarters population</td>\n",
       "      <td>8.0</td>\n",
       "      <td>Male</td>\n",
       "      <td>White alone</td>\n",
       "      <td>17200.0</td>\n",
       "    </tr>\n",
       "    <tr>\n",
       "      <th>3</th>\n",
       "      <td>33.0</td>\n",
       "      <td>Employee of a private for-profit company or bu...</td>\n",
       "      <td>Grade 11</td>\n",
       "      <td>Divorced</td>\n",
       "      <td>TRN-Cleaners Of Vehicles And Equipment</td>\n",
       "      <td>New York/NY</td>\n",
       "      <td>Institutionalized group quarters population</td>\n",
       "      <td>40.0</td>\n",
       "      <td>Male</td>\n",
       "      <td>White alone</td>\n",
       "      <td>12000.0</td>\n",
       "    </tr>\n",
       "    <tr>\n",
       "      <th>4</th>\n",
       "      <td>18.0</td>\n",
       "      <td>Employee of a private not-for-profit, tax-exem...</td>\n",
       "      <td>1 or more years of college credit, no degree</td>\n",
       "      <td>Never married or under 15 years old</td>\n",
       "      <td>CMM-Software Developers</td>\n",
       "      <td>California/CA</td>\n",
       "      <td>Noninstitutionalized group quarters population</td>\n",
       "      <td>18.0</td>\n",
       "      <td>Female</td>\n",
       "      <td>White alone</td>\n",
       "      <td>300.0</td>\n",
       "    </tr>\n",
       "  </tbody>\n",
       "</table>\n",
       "</div>"
      ],
      "text/plain": [
       "   AGEP                                                COW  \\\n",
       "0  30.0  Self-employed in own not incorporated business...   \n",
       "1  21.0                          State government employee   \n",
       "2  65.0  Employee of a private not-for-profit, tax-exem...   \n",
       "3  33.0  Employee of a private for-profit company or bu...   \n",
       "4  18.0  Employee of a private not-for-profit, tax-exem...   \n",
       "\n",
       "                                           SCHL  \\\n",
       "0                                      Grade 11   \n",
       "1                   Regular high school diploma   \n",
       "2                               Master's degree   \n",
       "3                                      Grade 11   \n",
       "4  1 or more years of college credit, no degree   \n",
       "\n",
       "                                   MAR  \\\n",
       "0                              Married   \n",
       "1  Never married or under 15 years old   \n",
       "2  Never married or under 15 years old   \n",
       "3                             Divorced   \n",
       "4  Never married or under 15 years old   \n",
       "\n",
       "                                                OCCP           POBP  \\\n",
       "0             TRN-Cleaners Of Vehicles And Equipment  California/CA   \n",
       "1  SCI-Other Life, Physical, And Social Science T...  California/CA   \n",
       "2                                         CMS-Clergy  California/CA   \n",
       "3             TRN-Cleaners Of Vehicles And Equipment    New York/NY   \n",
       "4                            CMM-Software Developers  California/CA   \n",
       "\n",
       "                                             RELP  WKHP     SEX  \\\n",
       "0     Institutionalized group quarters population  40.0    Male   \n",
       "1  Noninstitutionalized group quarters population  20.0    Male   \n",
       "2  Noninstitutionalized group quarters population   8.0    Male   \n",
       "3     Institutionalized group quarters population  40.0    Male   \n",
       "4  Noninstitutionalized group quarters population  18.0  Female   \n",
       "\n",
       "                   RAC1P   income  \n",
       "0  Some Other Race alone  48500.0  \n",
       "1            White alone   7700.0  \n",
       "2            White alone  17200.0  \n",
       "3            White alone  12000.0  \n",
       "4            White alone    300.0  "
      ]
     },
     "execution_count": 17,
     "metadata": {},
     "output_type": "execute_result"
    }
   ],
   "source": [
    "df_renamed.head()"
   ]
  },
  {
   "cell_type": "code",
   "execution_count": 18,
   "metadata": {
    "ExecuteTime": {
     "end_time": "2022-01-22T08:58:02.810085Z",
     "start_time": "2022-01-22T08:58:02.791440Z"
    }
   },
   "outputs": [],
   "source": [
    "import pickle\n",
    "\n",
    "with open(\n",
    "    os.path.join(os.path.curdir, \"datasets\", \"ACSPUMS\", \"census_column_mapping.pickle\"),\n",
    "    \"wb\",\n",
    ") as fp:\n",
    "    pickle.dump(remapping_cols, fp)"
   ]
  },
  {
   "cell_type": "code",
   "execution_count": 19,
   "metadata": {
    "ExecuteTime": {
     "end_time": "2022-01-22T08:58:02.841670Z",
     "start_time": "2022-01-22T08:58:02.814399Z"
    }
   },
   "outputs": [],
   "source": [
    "from copy import deepcopy\n",
    "\n",
    "df_analysis = deepcopy(df_renamed)"
   ]
  },
  {
   "cell_type": "code",
   "execution_count": 20,
   "metadata": {
    "ExecuteTime": {
     "end_time": "2022-01-22T08:58:04.152998Z",
     "start_time": "2022-01-22T08:58:02.852371Z"
    }
   },
   "outputs": [],
   "source": [
    "df_analysis.to_csv(os.path.join(os.path.curdir, \"datasets\", \"ACSPUMS\", \"adult_dataset_income.csv\"), index=False)"
   ]
  },
  {
   "cell_type": "code",
   "execution_count": 22,
   "metadata": {
    "ExecuteTime": {
     "end_time": "2022-01-22T08:58:04.186755Z",
     "start_time": "2022-01-22T08:58:04.169893Z"
    }
   },
   "outputs": [],
   "source": [
    "continuous_attributes = ['AGEP', 'WKHP']"
   ]
  },
  {
   "cell_type": "code",
   "execution_count": 23,
   "metadata": {
    "ExecuteTime": {
     "end_time": "2022-01-22T08:58:04.206724Z",
     "start_time": "2022-01-22T08:58:04.189198Z"
    }
   },
   "outputs": [
    {
     "data": {
      "text/plain": [
       "(195665, 11)"
      ]
     },
     "execution_count": 23,
     "metadata": {},
     "output_type": "execute_result"
    }
   ],
   "source": [
    "df_analysis.shape"
   ]
  },
  {
   "cell_type": "markdown",
   "metadata": {},
   "source": [
    "# Tree divergence - income - individual"
   ]
  },
  {
   "cell_type": "markdown",
   "metadata": {
    "ExecuteTime": {
     "end_time": "2022-01-14T16:09:38.440308Z",
     "start_time": "2022-01-14T16:09:38.415153Z"
    }
   },
   "source": [
    "## Tree"
   ]
  },
  {
   "cell_type": "code",
   "execution_count": 24,
   "metadata": {
    "ExecuteTime": {
     "end_time": "2022-01-22T08:58:04.231257Z",
     "start_time": "2022-01-22T08:58:04.207873Z"
    }
   },
   "outputs": [
    {
     "data": {
      "text/html": [
       "<div>\n",
       "<style scoped>\n",
       "    .dataframe tbody tr th:only-of-type {\n",
       "        vertical-align: middle;\n",
       "    }\n",
       "\n",
       "    .dataframe tbody tr th {\n",
       "        vertical-align: top;\n",
       "    }\n",
       "\n",
       "    .dataframe thead th {\n",
       "        text-align: right;\n",
       "    }\n",
       "</style>\n",
       "<table border=\"1\" class=\"dataframe\">\n",
       "  <thead>\n",
       "    <tr style=\"text-align: right;\">\n",
       "      <th></th>\n",
       "      <th>AGEP</th>\n",
       "      <th>COW</th>\n",
       "      <th>SCHL</th>\n",
       "      <th>MAR</th>\n",
       "      <th>OCCP</th>\n",
       "      <th>POBP</th>\n",
       "      <th>RELP</th>\n",
       "      <th>WKHP</th>\n",
       "      <th>SEX</th>\n",
       "      <th>RAC1P</th>\n",
       "      <th>income</th>\n",
       "    </tr>\n",
       "  </thead>\n",
       "  <tbody>\n",
       "    <tr>\n",
       "      <th>0</th>\n",
       "      <td>30.0</td>\n",
       "      <td>Self-employed in own not incorporated business...</td>\n",
       "      <td>Grade 11</td>\n",
       "      <td>Married</td>\n",
       "      <td>TRN-Cleaners Of Vehicles And Equipment</td>\n",
       "      <td>California/CA</td>\n",
       "      <td>Institutionalized group quarters population</td>\n",
       "      <td>40.0</td>\n",
       "      <td>Male</td>\n",
       "      <td>Some Other Race alone</td>\n",
       "      <td>48500.0</td>\n",
       "    </tr>\n",
       "    <tr>\n",
       "      <th>1</th>\n",
       "      <td>21.0</td>\n",
       "      <td>State government employee</td>\n",
       "      <td>Regular high school diploma</td>\n",
       "      <td>Never married or under 15 years old</td>\n",
       "      <td>SCI-Other Life, Physical, And Social Science T...</td>\n",
       "      <td>California/CA</td>\n",
       "      <td>Noninstitutionalized group quarters population</td>\n",
       "      <td>20.0</td>\n",
       "      <td>Male</td>\n",
       "      <td>White alone</td>\n",
       "      <td>7700.0</td>\n",
       "    </tr>\n",
       "    <tr>\n",
       "      <th>2</th>\n",
       "      <td>65.0</td>\n",
       "      <td>Employee of a private not-for-profit, tax-exem...</td>\n",
       "      <td>Master's degree</td>\n",
       "      <td>Never married or under 15 years old</td>\n",
       "      <td>CMS-Clergy</td>\n",
       "      <td>California/CA</td>\n",
       "      <td>Noninstitutionalized group quarters population</td>\n",
       "      <td>8.0</td>\n",
       "      <td>Male</td>\n",
       "      <td>White alone</td>\n",
       "      <td>17200.0</td>\n",
       "    </tr>\n",
       "    <tr>\n",
       "      <th>3</th>\n",
       "      <td>33.0</td>\n",
       "      <td>Employee of a private for-profit company or bu...</td>\n",
       "      <td>Grade 11</td>\n",
       "      <td>Divorced</td>\n",
       "      <td>TRN-Cleaners Of Vehicles And Equipment</td>\n",
       "      <td>New York/NY</td>\n",
       "      <td>Institutionalized group quarters population</td>\n",
       "      <td>40.0</td>\n",
       "      <td>Male</td>\n",
       "      <td>White alone</td>\n",
       "      <td>12000.0</td>\n",
       "    </tr>\n",
       "    <tr>\n",
       "      <th>4</th>\n",
       "      <td>18.0</td>\n",
       "      <td>Employee of a private not-for-profit, tax-exem...</td>\n",
       "      <td>1 or more years of college credit, no degree</td>\n",
       "      <td>Never married or under 15 years old</td>\n",
       "      <td>CMM-Software Developers</td>\n",
       "      <td>California/CA</td>\n",
       "      <td>Noninstitutionalized group quarters population</td>\n",
       "      <td>18.0</td>\n",
       "      <td>Female</td>\n",
       "      <td>White alone</td>\n",
       "      <td>300.0</td>\n",
       "    </tr>\n",
       "  </tbody>\n",
       "</table>\n",
       "</div>"
      ],
      "text/plain": [
       "   AGEP                                                COW  \\\n",
       "0  30.0  Self-employed in own not incorporated business...   \n",
       "1  21.0                          State government employee   \n",
       "2  65.0  Employee of a private not-for-profit, tax-exem...   \n",
       "3  33.0  Employee of a private for-profit company or bu...   \n",
       "4  18.0  Employee of a private not-for-profit, tax-exem...   \n",
       "\n",
       "                                           SCHL  \\\n",
       "0                                      Grade 11   \n",
       "1                   Regular high school diploma   \n",
       "2                               Master's degree   \n",
       "3                                      Grade 11   \n",
       "4  1 or more years of college credit, no degree   \n",
       "\n",
       "                                   MAR  \\\n",
       "0                              Married   \n",
       "1  Never married or under 15 years old   \n",
       "2  Never married or under 15 years old   \n",
       "3                             Divorced   \n",
       "4  Never married or under 15 years old   \n",
       "\n",
       "                                                OCCP           POBP  \\\n",
       "0             TRN-Cleaners Of Vehicles And Equipment  California/CA   \n",
       "1  SCI-Other Life, Physical, And Social Science T...  California/CA   \n",
       "2                                         CMS-Clergy  California/CA   \n",
       "3             TRN-Cleaners Of Vehicles And Equipment    New York/NY   \n",
       "4                            CMM-Software Developers  California/CA   \n",
       "\n",
       "                                             RELP  WKHP     SEX  \\\n",
       "0     Institutionalized group quarters population  40.0    Male   \n",
       "1  Noninstitutionalized group quarters population  20.0    Male   \n",
       "2  Noninstitutionalized group quarters population   8.0    Male   \n",
       "3     Institutionalized group quarters population  40.0    Male   \n",
       "4  Noninstitutionalized group quarters population  18.0  Female   \n",
       "\n",
       "                   RAC1P   income  \n",
       "0  Some Other Race alone  48500.0  \n",
       "1            White alone   7700.0  \n",
       "2            White alone  17200.0  \n",
       "3            White alone  12000.0  \n",
       "4            White alone    300.0  "
      ]
     },
     "execution_count": 24,
     "metadata": {},
     "output_type": "execute_result"
    }
   ],
   "source": [
    "df_analysis.head()"
   ]
  },
  {
   "cell_type": "code",
   "execution_count": 25,
   "metadata": {
    "ExecuteTime": {
     "end_time": "2022-01-22T08:58:04.241204Z",
     "start_time": "2022-01-22T08:58:04.232997Z"
    }
   },
   "outputs": [],
   "source": [
    "min_support = 0.1"
   ]
  },
  {
   "cell_type": "code",
   "execution_count": 26,
   "metadata": {
    "ExecuteTime": {
     "end_time": "2022-01-22T08:58:04.255092Z",
     "start_time": "2022-01-22T08:58:04.242939Z"
    }
   },
   "outputs": [],
   "source": [
    "metric = \"d_outcome\"\n",
    "\n",
    "\n",
    "target = \"income\""
   ]
  },
  {
   "cell_type": "code",
   "execution_count": 29,
   "metadata": {
    "ExecuteTime": {
     "end_time": "2022-01-22T08:58:43.309579Z",
     "start_time": "2022-01-22T08:58:42.636697Z"
    },
    "scrolled": true
   },
   "outputs": [
    {
     "name": "stdout",
     "output_type": "stream",
     "text": [
      "AGEP\n",
      " root s=1.00000 --> d_outcome=0.00000\n",
      "         AGEP<=34.0 s=0.34457 --> d_outcome=-27955.56992\n",
      "                 AGEP<=26.0 s=0.17018 --> d_outcome=-43910.89461\n",
      "                 AGEP>=27.0 s=0.17439 --> d_outcome=-12385.07707\n",
      "         AGEP>=35.0 s=0.65543 --> d_outcome=14696.92523\n",
      "                 AGEP<=45.0 s=0.21916 --> d_outcome=10078.50061\n",
      "                         AGEP<=39.0 s=0.10386 --> d_outcome=7210.72910\n",
      "                         AGEP>=40.0 s=0.11530 --> d_outcome=12661.65597\n",
      "                 AGEP>=46.0 s=0.43627 --> d_outcome=17016.93116\n",
      "                         AGEP<=62.0 s=0.33538 --> d_outcome=15335.39768\n",
      "                                 AGEP<=56.0 s=0.22501 --> d_outcome=15754.23832\n",
      "                                         AGEP<=51.0 s=0.12260 --> d_outcome=15066.80999\n",
      "                                         AGEP>=52.0 s=0.10241 --> d_outcome=16577.21059\n",
      "                                 AGEP>=57.0 s=0.11037 --> d_outcome=14481.48255\n",
      "                         AGEP>=63.0 s=0.10089 --> d_outcome=22606.59684\n",
      "\n",
      "WKHP\n",
      " root s=1.00000 --> d_outcome=0.00000\n",
      "         WKHP<=39.0 s=0.30499 --> d_outcome=-33031.20637\n",
      "                 WKHP<=29.0 s=0.18460 --> d_outcome=-40395.33396\n",
      "                 WKHP>=30.0 s=0.12039 --> d_outcome=-21740.08592\n",
      "         WKHP>=40.0 s=0.69501 --> d_outcome=14495.07145\n",
      "                 WKHP<=43.0 s=0.47721 --> d_outcome=590.71838\n",
      "                 WKHP>=44.0 s=0.21780 --> d_outcome=44960.98870\n",
      "\n"
     ]
    }
   ],
   "source": [
    "from tree_discretization_ranking import TreeDiscretization_ranking\n",
    "\n",
    "tree_discr = TreeDiscretization_ranking()\n",
    "\n",
    "\n",
    "type_experiment = \"one_at_time\"\n",
    "\n",
    "type_criterion = \"weighted_sum_abs_reference_s\"\n",
    "\n",
    "\n",
    "generalization_dict, discretizations = tree_discr.get_tree_discretization(\n",
    "    df_analysis,\n",
    "    type_splitting=type_experiment,\n",
    "    min_support=0.1,\n",
    "    metric=metric,\n",
    "    continuous_attributes= list(continuous_attributes),\n",
    "    storeTree=True,\n",
    "    type_criterion = type_criterion,\n",
    "    minimal_gain = 0.0,\n",
    "    target_col = target\n",
    ")\n",
    "tree_discr.printDiscretizationTrees()\n",
    "\n",
    "dot = {}\n",
    "for attribute in continuous_attributes:\n",
    "    if attribute in tree_discr.trees:\n",
    "        dot[attribute] = tree_discr.trees[attribute].visualizeTreeDiGraph()"
   ]
  },
  {
   "cell_type": "code",
   "execution_count": 30,
   "metadata": {
    "ExecuteTime": {
     "end_time": "2022-01-22T08:58:43.799858Z",
     "start_time": "2022-01-22T08:58:43.311450Z"
    },
    "scrolled": true
   },
   "outputs": [
    {
     "name": "stdout",
     "output_type": "stream",
     "text": [
      "AGEP\n",
      " root s=1.00000 --> d_outcome=0.00000\n",
      "         AGEP<=34.0 s=0.34457 --> d_outcome=-27955.56992\n",
      "                 AGEP<=26.0 s=0.17018 --> d_outcome=-43910.89461\n",
      "                 AGEP>=27.0 s=0.17439 --> d_outcome=-12385.07707\n",
      "         AGEP>=35.0 s=0.65543 --> d_outcome=14696.92523\n",
      "                 AGEP<=45.0 s=0.21916 --> d_outcome=10078.50061\n",
      "                         AGEP<=39.0 s=0.10386 --> d_outcome=7210.72910\n",
      "                         AGEP>=40.0 s=0.11530 --> d_outcome=12661.65597\n",
      "                 AGEP>=46.0 s=0.43627 --> d_outcome=17016.93116\n",
      "                         AGEP<=62.0 s=0.33538 --> d_outcome=15335.39768\n",
      "                                 AGEP<=56.0 s=0.22501 --> d_outcome=15754.23832\n",
      "                                         AGEP<=51.0 s=0.12260 --> d_outcome=15066.80999\n",
      "                                         AGEP>=52.0 s=0.10241 --> d_outcome=16577.21059\n",
      "                                 AGEP>=57.0 s=0.11037 --> d_outcome=14481.48255\n",
      "                         AGEP>=63.0 s=0.10089 --> d_outcome=22606.59684\n",
      "\n",
      "WKHP\n",
      " root s=1.00000 --> d_outcome=0.00000\n",
      "         WKHP<=39.0 s=0.30499 --> d_outcome=-33031.20637\n",
      "                 WKHP<=29.0 s=0.18460 --> d_outcome=-40395.33396\n",
      "                 WKHP>=30.0 s=0.12039 --> d_outcome=-21740.08592\n",
      "         WKHP>=40.0 s=0.69501 --> d_outcome=14495.07145\n",
      "                 WKHP<=43.0 s=0.47721 --> d_outcome=590.71838\n",
      "                 WKHP>=44.0 s=0.21780 --> d_outcome=44960.98870\n",
      "\n"
     ]
    }
   ],
   "source": [
    "from tree_discretization_ranking import TreeDiscretization_ranking\n",
    "\n",
    "tree_discr = TreeDiscretization_ranking()\n",
    "\n",
    "\n",
    "type_experiment = \"one_at_time\"\n",
    "\n",
    "type_criterion = \"weighted_sum_abs_reference_s\"\n",
    "\n",
    "\n",
    "generalization_dict, discretizations = tree_discr.get_tree_discretization(\n",
    "    df_analysis,\n",
    "    type_splitting=type_experiment,\n",
    "    min_support=0.1,\n",
    "    metric=metric,\n",
    "    continuous_attributes= list(continuous_attributes),\n",
    "    storeTree=True,\n",
    "    type_criterion = type_criterion,\n",
    "    minimal_gain = None,\n",
    "    target_col = target\n",
    ")\n",
    "tree_discr.printDiscretizationTrees()\n",
    "\n",
    "dot = {}\n",
    "for attribute in continuous_attributes:\n",
    "    if attribute in tree_discr.trees:\n",
    "        dot[attribute] = tree_discr.trees[attribute].visualizeTreeDiGraph()"
   ]
  },
  {
   "cell_type": "code",
   "execution_count": 31,
   "metadata": {
    "ExecuteTime": {
     "end_time": "2022-01-22T08:58:43.813508Z",
     "start_time": "2022-01-22T08:58:43.801555Z"
    }
   },
   "outputs": [
    {
     "data": {
      "text/plain": [
       "{'AGEP': {'<=26.0': '<=34.0',\n",
       "  '[27.0-34.0]': '<=34.0',\n",
       "  '[35.0-45.0]': '>=35.0',\n",
       "  '[35.0-39.0]': '[35.0-45.0]',\n",
       "  '[40.0-45.0]': '[35.0-45.0]',\n",
       "  '>=46.0': '>=35.0',\n",
       "  '[46.0-62.0]': '>=46.0',\n",
       "  '[46.0-56.0]': '[46.0-62.0]',\n",
       "  '[46.0-51.0]': '[46.0-56.0]',\n",
       "  '[52.0-56.0]': '[46.0-56.0]',\n",
       "  '[57.0-62.0]': '[46.0-62.0]',\n",
       "  '>=63.0': '>=46.0'},\n",
       " 'WKHP': {'<=29.0': '<=39.0',\n",
       "  '[30.0-39.0]': '<=39.0',\n",
       "  '[40.0-43.0]': '>=40.0',\n",
       "  '>=44.0': '>=40.0'}}"
      ]
     },
     "execution_count": 31,
     "metadata": {},
     "output_type": "execute_result"
    }
   ],
   "source": [
    "generalization_dict"
   ]
  },
  {
   "cell_type": "code",
   "execution_count": 32,
   "metadata": {
    "ExecuteTime": {
     "end_time": "2022-01-22T08:58:43.840298Z",
     "start_time": "2022-01-22T08:58:43.816670Z"
    }
   },
   "outputs": [
    {
     "data": {
      "text/plain": [
       "{'AGEP': {'<=26.0': {'rels': ['<='], 'vals': [26.0]},\n",
       "  '[27.0-34.0]': {'rels': ['>=', '<='], 'vals': [27.0, 34.0]},\n",
       "  '[35.0-39.0]': {'rels': ['>=', '<='], 'vals': [35.0, 39.0]},\n",
       "  '[40.0-45.0]': {'rels': ['>=', '<='], 'vals': [40.0, 45.0]},\n",
       "  '[46.0-51.0]': {'rels': ['>=', '<='], 'vals': [46.0, 51.0]},\n",
       "  '[52.0-56.0]': {'rels': ['>=', '<='], 'vals': [52.0, 56.0]},\n",
       "  '[57.0-62.0]': {'rels': ['>=', '<='], 'vals': [57.0, 62.0]},\n",
       "  '>=63.0': {'rels': ['>='], 'vals': [63.0]}},\n",
       " 'WKHP': {'<=29.0': {'rels': ['<='], 'vals': [29.0]},\n",
       "  '[30.0-39.0]': {'rels': ['>=', '<='], 'vals': [30.0, 39.0]},\n",
       "  '[40.0-43.0]': {'rels': ['>=', '<='], 'vals': [40.0, 43.0]},\n",
       "  '>=44.0': {'rels': ['>='], 'vals': [44.0]}}}"
      ]
     },
     "execution_count": 32,
     "metadata": {},
     "output_type": "execute_result"
    }
   ],
   "source": [
    "discretizations"
   ]
  },
  {
   "cell_type": "markdown",
   "metadata": {},
   "source": [
    "## min_sup_divergence  = 0.1"
   ]
  },
  {
   "cell_type": "markdown",
   "metadata": {},
   "source": [
    "### Without Generalization "
   ]
  },
  {
   "cell_type": "code",
   "execution_count": 33,
   "metadata": {
    "ExecuteTime": {
     "end_time": "2022-01-22T08:58:43.860296Z",
     "start_time": "2022-01-22T08:58:43.843421Z"
    }
   },
   "outputs": [],
   "source": [
    "import pandas as pd\n",
    "pd.set_option('max_colwidth', None)"
   ]
  },
  {
   "cell_type": "code",
   "execution_count": 34,
   "metadata": {
    "ExecuteTime": {
     "end_time": "2022-01-22T08:58:43.881386Z",
     "start_time": "2022-01-22T08:58:43.861996Z"
    }
   },
   "outputs": [],
   "source": [
    "INFO = ['support', 'itemsets', 'tn', 'fp', 'fn', 'tp', 'd_fpr', 't_value_fp', 'error']"
   ]
  },
  {
   "cell_type": "code",
   "execution_count": 35,
   "metadata": {
    "ExecuteTime": {
     "end_time": "2022-01-22T08:58:52.415998Z",
     "start_time": "2022-01-22T08:58:43.883864Z"
    }
   },
   "outputs": [],
   "source": [
    "from utils_extract_divergence_generalized_ranking import (\n",
    "    extract_divergence_generalized,\n",
    ")\n",
    "\n",
    "FP_fm = extract_divergence_generalized(\n",
    "    df_analysis,\n",
    "    discretizations,\n",
    "    generalization_dict,\n",
    "    continuous_attributes,\n",
    "    min_sup_divergence=0.1,\n",
    "    apply_generalization=False,\n",
    "    #true_class_name=pred_name,\n",
    "    #predicted_class_name=class_name,\n",
    "    target_name = target,\n",
    "    #class_map=class_map,\n",
    "    FPM_type=\"fpgrowth\",\n",
    "    metrics_divergence = [\"d_outcome\"],\n",
    "    type_experiment = type_experiment,\n",
    "    allow_overalp = False if type_experiment!=\"all_attributes\" else True\n",
    ")"
   ]
  },
  {
   "cell_type": "code",
   "execution_count": 36,
   "metadata": {
    "ExecuteTime": {
     "end_time": "2022-01-22T08:58:52.443546Z",
     "start_time": "2022-01-22T08:58:52.417335Z"
    },
    "scrolled": true
   },
   "outputs": [
    {
     "data": {
      "text/html": [
       "<div>\n",
       "<style scoped>\n",
       "    .dataframe tbody tr th:only-of-type {\n",
       "        vertical-align: middle;\n",
       "    }\n",
       "\n",
       "    .dataframe tbody tr th {\n",
       "        vertical-align: top;\n",
       "    }\n",
       "\n",
       "    .dataframe thead th {\n",
       "        text-align: right;\n",
       "    }\n",
       "</style>\n",
       "<table border=\"1\" class=\"dataframe\">\n",
       "  <thead>\n",
       "    <tr style=\"text-align: right;\">\n",
       "      <th></th>\n",
       "      <th>support</th>\n",
       "      <th>itemsets</th>\n",
       "      <th>length</th>\n",
       "      <th>support_count</th>\n",
       "      <th>outcome</th>\n",
       "      <th>d_outcome</th>\n",
       "      <th>t_value_outcome</th>\n",
       "    </tr>\n",
       "  </thead>\n",
       "  <tbody>\n",
       "    <tr>\n",
       "      <th>99</th>\n",
       "      <td>0.133723</td>\n",
       "      <td>(WKHP=&gt;=44.0, MAR=Married)</td>\n",
       "      <td>2</td>\n",
       "      <td>26165.0</td>\n",
       "      <td>127980.685419</td>\n",
       "      <td>62788.636601</td>\n",
       "      <td>73.243438</td>\n",
       "    </tr>\n",
       "    <tr>\n",
       "      <th>166</th>\n",
       "      <td>0.100856</td>\n",
       "      <td>(WKHP=&gt;=44.0, SEX=Male, RAC1P=White alone)</td>\n",
       "      <td>3</td>\n",
       "      <td>19734.0</td>\n",
       "      <td>126960.907267</td>\n",
       "      <td>61768.858449</td>\n",
       "      <td>62.426454</td>\n",
       "    </tr>\n",
       "    <tr>\n",
       "      <th>111</th>\n",
       "      <td>0.120783</td>\n",
       "      <td>(WKHP=&gt;=44.0, RELP=Reference person)</td>\n",
       "      <td>2</td>\n",
       "      <td>23633.0</td>\n",
       "      <td>122340.421191</td>\n",
       "      <td>57148.372373</td>\n",
       "      <td>66.907892</td>\n",
       "    </tr>\n",
       "    <tr>\n",
       "      <th>77</th>\n",
       "      <td>0.149828</td>\n",
       "      <td>(WKHP=&gt;=44.0, RAC1P=White alone)</td>\n",
       "      <td>2</td>\n",
       "      <td>29316.0</td>\n",
       "      <td>118337.261018</td>\n",
       "      <td>53145.212200</td>\n",
       "      <td>69.055758</td>\n",
       "    </tr>\n",
       "    <tr>\n",
       "      <th>86</th>\n",
       "      <td>0.144129</td>\n",
       "      <td>(WKHP=&gt;=44.0, SEX=Male)</td>\n",
       "      <td>2</td>\n",
       "      <td>28201.0</td>\n",
       "      <td>118197.353782</td>\n",
       "      <td>53005.304964</td>\n",
       "      <td>65.825654</td>\n",
       "    </tr>\n",
       "  </tbody>\n",
       "</table>\n",
       "</div>"
      ],
      "text/plain": [
       "      support                                    itemsets  length  \\\n",
       "99   0.133723                  (WKHP=>=44.0, MAR=Married)       2   \n",
       "166  0.100856  (WKHP=>=44.0, SEX=Male, RAC1P=White alone)       3   \n",
       "111  0.120783        (WKHP=>=44.0, RELP=Reference person)       2   \n",
       "77   0.149828            (WKHP=>=44.0, RAC1P=White alone)       2   \n",
       "86   0.144129                     (WKHP=>=44.0, SEX=Male)       2   \n",
       "\n",
       "     support_count        outcome     d_outcome  t_value_outcome  \n",
       "99         26165.0  127980.685419  62788.636601        73.243438  \n",
       "166        19734.0  126960.907267  61768.858449        62.426454  \n",
       "111        23633.0  122340.421191  57148.372373        66.907892  \n",
       "77         29316.0  118337.261018  53145.212200        69.055758  \n",
       "86         28201.0  118197.353782  53005.304964        65.825654  "
      ]
     },
     "execution_count": 36,
     "metadata": {},
     "output_type": "execute_result"
    }
   ],
   "source": [
    "FP_fm.sort_values(metric, ascending = False).head()"
   ]
  },
  {
   "cell_type": "code",
   "execution_count": 37,
   "metadata": {
    "ExecuteTime": {
     "end_time": "2022-01-22T08:58:52.995950Z",
     "start_time": "2022-01-22T08:58:52.444820Z"
    }
   },
   "outputs": [
    {
     "data": {
      "text/html": [
       "<div>\n",
       "<style scoped>\n",
       "    .dataframe tbody tr th:only-of-type {\n",
       "        vertical-align: middle;\n",
       "    }\n",
       "\n",
       "    .dataframe tbody tr th {\n",
       "        vertical-align: top;\n",
       "    }\n",
       "\n",
       "    .dataframe thead th {\n",
       "        text-align: right;\n",
       "    }\n",
       "</style>\n",
       "<table border=\"1\" class=\"dataframe\">\n",
       "  <thead>\n",
       "    <tr style=\"text-align: right;\">\n",
       "      <th></th>\n",
       "      <th>COW</th>\n",
       "      <th>SCHL</th>\n",
       "      <th>MAR</th>\n",
       "      <th>OCCP</th>\n",
       "      <th>POBP</th>\n",
       "      <th>RELP</th>\n",
       "      <th>SEX</th>\n",
       "      <th>RAC1P</th>\n",
       "      <th>income</th>\n",
       "      <th>AGEP</th>\n",
       "      <th>WKHP</th>\n",
       "    </tr>\n",
       "  </thead>\n",
       "  <tbody>\n",
       "    <tr>\n",
       "      <th>0</th>\n",
       "      <td>Self-employed in own not incorporated business, professional practice, or farm</td>\n",
       "      <td>Grade 11</td>\n",
       "      <td>Married</td>\n",
       "      <td>TRN-Cleaners Of Vehicles And Equipment</td>\n",
       "      <td>California/CA</td>\n",
       "      <td>Institutionalized group quarters population</td>\n",
       "      <td>Male</td>\n",
       "      <td>Some Other Race alone</td>\n",
       "      <td>48500.0</td>\n",
       "      <td>[27.0-34.0]</td>\n",
       "      <td>[40.0-43.0]</td>\n",
       "    </tr>\n",
       "    <tr>\n",
       "      <th>1</th>\n",
       "      <td>State government employee</td>\n",
       "      <td>Regular high school diploma</td>\n",
       "      <td>Never married or under 15 years old</td>\n",
       "      <td>SCI-Other Life, Physical, And Social Science Technicians</td>\n",
       "      <td>California/CA</td>\n",
       "      <td>Noninstitutionalized group quarters population</td>\n",
       "      <td>Male</td>\n",
       "      <td>White alone</td>\n",
       "      <td>7700.0</td>\n",
       "      <td>&lt;=26.0</td>\n",
       "      <td>&lt;=29.0</td>\n",
       "    </tr>\n",
       "    <tr>\n",
       "      <th>2</th>\n",
       "      <td>Employee of a private not-for-profit, tax-exempt, or charitable organization</td>\n",
       "      <td>Master's degree</td>\n",
       "      <td>Never married or under 15 years old</td>\n",
       "      <td>CMS-Clergy</td>\n",
       "      <td>California/CA</td>\n",
       "      <td>Noninstitutionalized group quarters population</td>\n",
       "      <td>Male</td>\n",
       "      <td>White alone</td>\n",
       "      <td>17200.0</td>\n",
       "      <td>&gt;=63.0</td>\n",
       "      <td>&lt;=29.0</td>\n",
       "    </tr>\n",
       "    <tr>\n",
       "      <th>3</th>\n",
       "      <td>Employee of a private for-profit company or business, or of an individual, for wages, salary, or commissions</td>\n",
       "      <td>Grade 11</td>\n",
       "      <td>Divorced</td>\n",
       "      <td>TRN-Cleaners Of Vehicles And Equipment</td>\n",
       "      <td>New York/NY</td>\n",
       "      <td>Institutionalized group quarters population</td>\n",
       "      <td>Male</td>\n",
       "      <td>White alone</td>\n",
       "      <td>12000.0</td>\n",
       "      <td>[27.0-34.0]</td>\n",
       "      <td>[40.0-43.0]</td>\n",
       "    </tr>\n",
       "    <tr>\n",
       "      <th>4</th>\n",
       "      <td>Employee of a private not-for-profit, tax-exempt, or charitable organization</td>\n",
       "      <td>1 or more years of college credit, no degree</td>\n",
       "      <td>Never married or under 15 years old</td>\n",
       "      <td>CMM-Software Developers</td>\n",
       "      <td>California/CA</td>\n",
       "      <td>Noninstitutionalized group quarters population</td>\n",
       "      <td>Female</td>\n",
       "      <td>White alone</td>\n",
       "      <td>300.0</td>\n",
       "      <td>&lt;=26.0</td>\n",
       "      <td>&lt;=29.0</td>\n",
       "    </tr>\n",
       "  </tbody>\n",
       "</table>\n",
       "</div>"
      ],
      "text/plain": [
       "                                                                                                            COW  \\\n",
       "0                                Self-employed in own not incorporated business, professional practice, or farm   \n",
       "1                                                                                     State government employee   \n",
       "2                                  Employee of a private not-for-profit, tax-exempt, or charitable organization   \n",
       "3  Employee of a private for-profit company or business, or of an individual, for wages, salary, or commissions   \n",
       "4                                  Employee of a private not-for-profit, tax-exempt, or charitable organization   \n",
       "\n",
       "                                           SCHL  \\\n",
       "0                                      Grade 11   \n",
       "1                   Regular high school diploma   \n",
       "2                               Master's degree   \n",
       "3                                      Grade 11   \n",
       "4  1 or more years of college credit, no degree   \n",
       "\n",
       "                                   MAR  \\\n",
       "0                              Married   \n",
       "1  Never married or under 15 years old   \n",
       "2  Never married or under 15 years old   \n",
       "3                             Divorced   \n",
       "4  Never married or under 15 years old   \n",
       "\n",
       "                                                       OCCP           POBP  \\\n",
       "0                    TRN-Cleaners Of Vehicles And Equipment  California/CA   \n",
       "1  SCI-Other Life, Physical, And Social Science Technicians  California/CA   \n",
       "2                                                CMS-Clergy  California/CA   \n",
       "3                    TRN-Cleaners Of Vehicles And Equipment    New York/NY   \n",
       "4                                   CMM-Software Developers  California/CA   \n",
       "\n",
       "                                             RELP     SEX  \\\n",
       "0     Institutionalized group quarters population    Male   \n",
       "1  Noninstitutionalized group quarters population    Male   \n",
       "2  Noninstitutionalized group quarters population    Male   \n",
       "3     Institutionalized group quarters population    Male   \n",
       "4  Noninstitutionalized group quarters population  Female   \n",
       "\n",
       "                   RAC1P   income         AGEP         WKHP  \n",
       "0  Some Other Race alone  48500.0  [27.0-34.0]  [40.0-43.0]  \n",
       "1            White alone   7700.0       <=26.0       <=29.0  \n",
       "2            White alone  17200.0       >=63.0       <=29.0  \n",
       "3            White alone  12000.0  [27.0-34.0]  [40.0-43.0]  \n",
       "4            White alone    300.0       <=26.0       <=29.0  "
      ]
     },
     "execution_count": 37,
     "metadata": {},
     "output_type": "execute_result"
    }
   ],
   "source": [
    "from utils_discretization import discretizeDataset_from_relations\n",
    "allow_overalp = False if type_experiment!=\"all_attributes\" else True\n",
    "df_s_discretized, discretized_attr = discretizeDataset_from_relations(\n",
    "    df_analysis, discretizations, ret_original_attrs=False, allow_overalp=allow_overalp\n",
    ")\n",
    "df_s_discretized.head()"
   ]
  },
  {
   "cell_type": "code",
   "execution_count": 38,
   "metadata": {
    "ExecuteTime": {
     "end_time": "2022-01-22T08:58:53.015878Z",
     "start_time": "2022-01-22T08:58:52.999139Z"
    }
   },
   "outputs": [
    {
     "data": {
      "text/plain": [
       "172"
      ]
     },
     "execution_count": 38,
     "metadata": {},
     "output_type": "execute_result"
    }
   ],
   "source": [
    "len(FP_fm)"
   ]
  },
  {
   "cell_type": "code",
   "execution_count": 39,
   "metadata": {
    "ExecuteTime": {
     "end_time": "2022-01-22T08:58:53.035616Z",
     "start_time": "2022-01-22T08:58:53.017381Z"
    }
   },
   "outputs": [
    {
     "data": {
      "text/plain": [
       "(8, 12)"
      ]
     },
     "execution_count": 39,
     "metadata": {},
     "output_type": "execute_result"
    }
   ],
   "source": [
    "tree_discr.get_number_nodes()"
   ]
  },
  {
   "cell_type": "code",
   "execution_count": 40,
   "metadata": {
    "ExecuteTime": {
     "end_time": "2022-01-22T08:58:53.058718Z",
     "start_time": "2022-01-22T08:58:53.037778Z"
    },
    "scrolled": true
   },
   "outputs": [
    {
     "data": {
      "text/html": [
       "<div>\n",
       "<style scoped>\n",
       "    .dataframe tbody tr th:only-of-type {\n",
       "        vertical-align: middle;\n",
       "    }\n",
       "\n",
       "    .dataframe tbody tr th {\n",
       "        vertical-align: top;\n",
       "    }\n",
       "\n",
       "    .dataframe thead th {\n",
       "        text-align: right;\n",
       "    }\n",
       "</style>\n",
       "<table border=\"1\" class=\"dataframe\">\n",
       "  <thead>\n",
       "    <tr style=\"text-align: right;\">\n",
       "      <th></th>\n",
       "      <th>support</th>\n",
       "      <th>itemsets</th>\n",
       "      <th>length</th>\n",
       "      <th>support_count</th>\n",
       "      <th>outcome</th>\n",
       "      <th>d_outcome</th>\n",
       "      <th>t_value_outcome</th>\n",
       "    </tr>\n",
       "  </thead>\n",
       "  <tbody>\n",
       "    <tr>\n",
       "      <th>99</th>\n",
       "      <td>0.133723</td>\n",
       "      <td>(WKHP=&gt;=44.0, MAR=Married)</td>\n",
       "      <td>2</td>\n",
       "      <td>26165.0</td>\n",
       "      <td>127980.685419</td>\n",
       "      <td>62788.636601</td>\n",
       "      <td>73.243438</td>\n",
       "    </tr>\n",
       "    <tr>\n",
       "      <th>166</th>\n",
       "      <td>0.100856</td>\n",
       "      <td>(WKHP=&gt;=44.0, SEX=Male, RAC1P=White alone)</td>\n",
       "      <td>3</td>\n",
       "      <td>19734.0</td>\n",
       "      <td>126960.907267</td>\n",
       "      <td>61768.858449</td>\n",
       "      <td>62.426454</td>\n",
       "    </tr>\n",
       "    <tr>\n",
       "      <th>111</th>\n",
       "      <td>0.120783</td>\n",
       "      <td>(WKHP=&gt;=44.0, RELP=Reference person)</td>\n",
       "      <td>2</td>\n",
       "      <td>23633.0</td>\n",
       "      <td>122340.421191</td>\n",
       "      <td>57148.372373</td>\n",
       "      <td>66.907892</td>\n",
       "    </tr>\n",
       "    <tr>\n",
       "      <th>77</th>\n",
       "      <td>0.149828</td>\n",
       "      <td>(WKHP=&gt;=44.0, RAC1P=White alone)</td>\n",
       "      <td>2</td>\n",
       "      <td>29316.0</td>\n",
       "      <td>118337.261018</td>\n",
       "      <td>53145.212200</td>\n",
       "      <td>69.055758</td>\n",
       "    </tr>\n",
       "    <tr>\n",
       "      <th>86</th>\n",
       "      <td>0.144129</td>\n",
       "      <td>(WKHP=&gt;=44.0, SEX=Male)</td>\n",
       "      <td>2</td>\n",
       "      <td>28201.0</td>\n",
       "      <td>118197.353782</td>\n",
       "      <td>53005.304964</td>\n",
       "      <td>65.825654</td>\n",
       "    </tr>\n",
       "  </tbody>\n",
       "</table>\n",
       "</div>"
      ],
      "text/plain": [
       "      support                                    itemsets  length  \\\n",
       "99   0.133723                  (WKHP=>=44.0, MAR=Married)       2   \n",
       "166  0.100856  (WKHP=>=44.0, SEX=Male, RAC1P=White alone)       3   \n",
       "111  0.120783        (WKHP=>=44.0, RELP=Reference person)       2   \n",
       "77   0.149828            (WKHP=>=44.0, RAC1P=White alone)       2   \n",
       "86   0.144129                     (WKHP=>=44.0, SEX=Male)       2   \n",
       "\n",
       "     support_count        outcome     d_outcome  t_value_outcome  \n",
       "99         26165.0  127980.685419  62788.636601        73.243438  \n",
       "166        19734.0  126960.907267  61768.858449        62.426454  \n",
       "111        23633.0  122340.421191  57148.372373        66.907892  \n",
       "77         29316.0  118337.261018  53145.212200        69.055758  \n",
       "86         28201.0  118197.353782  53005.304964        65.825654  "
      ]
     },
     "execution_count": 40,
     "metadata": {},
     "output_type": "execute_result"
    }
   ],
   "source": [
    "FP_fm.sort_values(metric, ascending = False).head()"
   ]
  },
  {
   "cell_type": "code",
   "execution_count": 41,
   "metadata": {
    "ExecuteTime": {
     "end_time": "2022-01-22T08:58:53.082969Z",
     "start_time": "2022-01-22T08:58:53.061020Z"
    }
   },
   "outputs": [
    {
     "data": {
      "text/html": [
       "<div>\n",
       "<style scoped>\n",
       "    .dataframe tbody tr th:only-of-type {\n",
       "        vertical-align: middle;\n",
       "    }\n",
       "\n",
       "    .dataframe tbody tr th {\n",
       "        vertical-align: top;\n",
       "    }\n",
       "\n",
       "    .dataframe thead th {\n",
       "        text-align: right;\n",
       "    }\n",
       "</style>\n",
       "<table border=\"1\" class=\"dataframe\">\n",
       "  <thead>\n",
       "    <tr style=\"text-align: right;\">\n",
       "      <th></th>\n",
       "      <th>support</th>\n",
       "      <th>itemsets</th>\n",
       "      <th>length</th>\n",
       "      <th>support_count</th>\n",
       "      <th>outcome</th>\n",
       "      <th>d_outcome</th>\n",
       "      <th>t_value_outcome</th>\n",
       "    </tr>\n",
       "  </thead>\n",
       "  <tbody>\n",
       "    <tr>\n",
       "      <th>1</th>\n",
       "      <td>0.653234</td>\n",
       "      <td>(COW=Employee of a private for-profit company or business, or of an individual, for wages, salary, or commissions)</td>\n",
       "      <td>1</td>\n",
       "      <td>127815.0</td>\n",
       "      <td>62750.279185</td>\n",
       "      <td>-2441.769633</td>\n",
       "      <td>7.961690</td>\n",
       "    </tr>\n",
       "    <tr>\n",
       "      <th>2</th>\n",
       "      <td>0.618435</td>\n",
       "      <td>(RAC1P=White alone)</td>\n",
       "      <td>1</td>\n",
       "      <td>121006.0</td>\n",
       "      <td>70750.551394</td>\n",
       "      <td>5558.502576</td>\n",
       "      <td>16.840013</td>\n",
       "    </tr>\n",
       "    <tr>\n",
       "      <th>3</th>\n",
       "      <td>0.527999</td>\n",
       "      <td>(SEX=Male)</td>\n",
       "      <td>1</td>\n",
       "      <td>103311.0</td>\n",
       "      <td>76401.610071</td>\n",
       "      <td>11209.561252</td>\n",
       "      <td>30.832910</td>\n",
       "    </tr>\n",
       "    <tr>\n",
       "      <th>4</th>\n",
       "      <td>0.523558</td>\n",
       "      <td>(MAR=Married)</td>\n",
       "      <td>1</td>\n",
       "      <td>102442.0</td>\n",
       "      <td>82394.162590</td>\n",
       "      <td>17202.113771</td>\n",
       "      <td>46.843295</td>\n",
       "    </tr>\n",
       "    <tr>\n",
       "      <th>5</th>\n",
       "      <td>0.482713</td>\n",
       "      <td>(POBP=California/CA)</td>\n",
       "      <td>1</td>\n",
       "      <td>94450.0</td>\n",
       "      <td>57412.700286</td>\n",
       "      <td>-7779.348532</td>\n",
       "      <td>24.974586</td>\n",
       "    </tr>\n",
       "  </tbody>\n",
       "</table>\n",
       "</div>"
      ],
      "text/plain": [
       "    support  \\\n",
       "1  0.653234   \n",
       "2  0.618435   \n",
       "3  0.527999   \n",
       "4  0.523558   \n",
       "5  0.482713   \n",
       "\n",
       "                                                                                                             itemsets  \\\n",
       "1  (COW=Employee of a private for-profit company or business, or of an individual, for wages, salary, or commissions)   \n",
       "2                                                                                                 (RAC1P=White alone)   \n",
       "3                                                                                                          (SEX=Male)   \n",
       "4                                                                                                       (MAR=Married)   \n",
       "5                                                                                                (POBP=California/CA)   \n",
       "\n",
       "   length  support_count       outcome     d_outcome  t_value_outcome  \n",
       "1       1       127815.0  62750.279185  -2441.769633         7.961690  \n",
       "2       1       121006.0  70750.551394   5558.502576        16.840013  \n",
       "3       1       103311.0  76401.610071  11209.561252        30.832910  \n",
       "4       1       102442.0  82394.162590  17202.113771        46.843295  \n",
       "5       1        94450.0  57412.700286  -7779.348532        24.974586  "
      ]
     },
     "execution_count": 41,
     "metadata": {},
     "output_type": "execute_result"
    }
   ],
   "source": [
    "FP_fm.loc[FP_fm[\"length\"]==1].head()"
   ]
  },
  {
   "cell_type": "code",
   "execution_count": 42,
   "metadata": {
    "ExecuteTime": {
     "end_time": "2022-01-22T08:58:53.102528Z",
     "start_time": "2022-01-22T08:58:53.085228Z"
    }
   },
   "outputs": [
    {
     "data": {
      "text/html": [
       "<div>\n",
       "<style scoped>\n",
       "    .dataframe tbody tr th:only-of-type {\n",
       "        vertical-align: middle;\n",
       "    }\n",
       "\n",
       "    .dataframe tbody tr th {\n",
       "        vertical-align: top;\n",
       "    }\n",
       "\n",
       "    .dataframe thead th {\n",
       "        text-align: right;\n",
       "    }\n",
       "</style>\n",
       "<table border=\"1\" class=\"dataframe\">\n",
       "  <thead>\n",
       "    <tr style=\"text-align: right;\">\n",
       "      <th></th>\n",
       "      <th>support</th>\n",
       "      <th>itemsets</th>\n",
       "      <th>length</th>\n",
       "      <th>support_count</th>\n",
       "      <th>outcome</th>\n",
       "      <th>d_outcome</th>\n",
       "      <th>t_value_outcome</th>\n",
       "    </tr>\n",
       "  </thead>\n",
       "  <tbody>\n",
       "    <tr>\n",
       "      <th>0</th>\n",
       "      <td>1.0</td>\n",
       "      <td>()</td>\n",
       "      <td>0</td>\n",
       "      <td>195665.0</td>\n",
       "      <td>65192.048818</td>\n",
       "      <td>0.0</td>\n",
       "      <td>0.0</td>\n",
       "    </tr>\n",
       "  </tbody>\n",
       "</table>\n",
       "</div>"
      ],
      "text/plain": [
       "   support itemsets  length  support_count       outcome  d_outcome  \\\n",
       "0      1.0       ()       0       195665.0  65192.048818        0.0   \n",
       "\n",
       "   t_value_outcome  \n",
       "0              0.0  "
      ]
     },
     "execution_count": 42,
     "metadata": {},
     "output_type": "execute_result"
    }
   ],
   "source": [
    "FP_fm.sort_values(\"length\", ascending = True).head(1)"
   ]
  },
  {
   "cell_type": "code",
   "execution_count": 43,
   "metadata": {
    "ExecuteTime": {
     "end_time": "2022-01-22T08:58:53.128109Z",
     "start_time": "2022-01-22T08:58:53.104046Z"
    }
   },
   "outputs": [
    {
     "data": {
      "text/plain": [
       "65192.04881813304"
      ]
     },
     "execution_count": 43,
     "metadata": {},
     "output_type": "execute_result"
    }
   ],
   "source": [
    "df_analysis[\"income\"].describe()[\"mean\"]"
   ]
  },
  {
   "cell_type": "markdown",
   "metadata": {},
   "source": [
    "### With Generalization "
   ]
  },
  {
   "cell_type": "code",
   "execution_count": 44,
   "metadata": {
    "ExecuteTime": {
     "end_time": "2022-01-22T08:59:06.829675Z",
     "start_time": "2022-01-22T08:58:53.130906Z"
    }
   },
   "outputs": [],
   "source": [
    "from utils_extract_divergence_generalized_ranking import (\n",
    "    extract_divergence_generalized,\n",
    ")\n",
    "\n",
    "FP_fm = extract_divergence_generalized(\n",
    "    df_analysis,\n",
    "    discretizations,\n",
    "    generalization_dict,\n",
    "    continuous_attributes,\n",
    "    min_sup_divergence=0.1,\n",
    "    apply_generalization=True,\n",
    "    #true_class_name=pred_name,\n",
    "    #predicted_class_name=class_name,\n",
    "    target_name = target,\n",
    "    #class_map=class_map,\n",
    "    FPM_type=\"fpgrowth\",\n",
    "    metrics_divergence = [\"d_outcome\"],\n",
    "    type_experiment = type_experiment,\n",
    "    allow_overalp = False if type_experiment!=\"all_attributes\" else True\n",
    ")"
   ]
  },
  {
   "cell_type": "code",
   "execution_count": 45,
   "metadata": {
    "ExecuteTime": {
     "end_time": "2022-01-22T08:59:06.852805Z",
     "start_time": "2022-01-22T08:59:06.831394Z"
    }
   },
   "outputs": [
    {
     "data": {
      "text/plain": [
       "536"
      ]
     },
     "execution_count": 45,
     "metadata": {},
     "output_type": "execute_result"
    }
   ],
   "source": [
    "len(FP_fm)"
   ]
  },
  {
   "cell_type": "code",
   "execution_count": 46,
   "metadata": {
    "ExecuteTime": {
     "end_time": "2022-01-22T08:59:06.879550Z",
     "start_time": "2022-01-22T08:59:06.854124Z"
    },
    "scrolled": false
   },
   "outputs": [
    {
     "data": {
      "text/html": [
       "<div>\n",
       "<style scoped>\n",
       "    .dataframe tbody tr th:only-of-type {\n",
       "        vertical-align: middle;\n",
       "    }\n",
       "\n",
       "    .dataframe tbody tr th {\n",
       "        vertical-align: top;\n",
       "    }\n",
       "\n",
       "    .dataframe thead th {\n",
       "        text-align: right;\n",
       "    }\n",
       "</style>\n",
       "<table border=\"1\" class=\"dataframe\">\n",
       "  <thead>\n",
       "    <tr style=\"text-align: right;\">\n",
       "      <th></th>\n",
       "      <th>support</th>\n",
       "      <th>itemsets</th>\n",
       "      <th>length</th>\n",
       "      <th>support_count</th>\n",
       "      <th>outcome</th>\n",
       "      <th>d_outcome</th>\n",
       "      <th>t_value_outcome</th>\n",
       "    </tr>\n",
       "  </thead>\n",
       "  <tbody>\n",
       "    <tr>\n",
       "      <th>410</th>\n",
       "      <td>0.112917</td>\n",
       "      <td>(WKHP=&gt;=44.0, MAR=Married, AGEP=&gt;=35.0)</td>\n",
       "      <td>3</td>\n",
       "      <td>22094.0</td>\n",
       "      <td>136027.741649</td>\n",
       "      <td>70835.692831</td>\n",
       "      <td>73.301853</td>\n",
       "    </tr>\n",
       "    <tr>\n",
       "      <th>470</th>\n",
       "      <td>0.106355</td>\n",
       "      <td>(SEX=Male, WKHP=&gt;=44.0, AGEP=&gt;=35.0)</td>\n",
       "      <td>3</td>\n",
       "      <td>20810.0</td>\n",
       "      <td>135897.798847</td>\n",
       "      <td>70705.750029</td>\n",
       "      <td>70.461299</td>\n",
       "    </tr>\n",
       "    <tr>\n",
       "      <th>413</th>\n",
       "      <td>0.112452</td>\n",
       "      <td>(WKHP=&gt;=44.0, AGEP=&gt;=35.0, RAC1P=White alone)</td>\n",
       "      <td>3</td>\n",
       "      <td>22003.0</td>\n",
       "      <td>134322.412126</td>\n",
       "      <td>69130.363307</td>\n",
       "      <td>73.065519</td>\n",
       "    </tr>\n",
       "    <tr>\n",
       "      <th>474</th>\n",
       "      <td>0.104965</td>\n",
       "      <td>(AGEP=&gt;=46.0, WKHP=&gt;=44.0)</td>\n",
       "      <td>2</td>\n",
       "      <td>20538.0</td>\n",
       "      <td>129593.183562</td>\n",
       "      <td>64401.134744</td>\n",
       "      <td>65.807872</td>\n",
       "    </tr>\n",
       "    <tr>\n",
       "      <th>286</th>\n",
       "      <td>0.133723</td>\n",
       "      <td>(WKHP=&gt;=44.0, MAR=Married)</td>\n",
       "      <td>2</td>\n",
       "      <td>26165.0</td>\n",
       "      <td>127980.685419</td>\n",
       "      <td>62788.636601</td>\n",
       "      <td>73.243438</td>\n",
       "    </tr>\n",
       "  </tbody>\n",
       "</table>\n",
       "</div>"
      ],
      "text/plain": [
       "      support                                       itemsets  length  \\\n",
       "410  0.112917        (WKHP=>=44.0, MAR=Married, AGEP=>=35.0)       3   \n",
       "470  0.106355           (SEX=Male, WKHP=>=44.0, AGEP=>=35.0)       3   \n",
       "413  0.112452  (WKHP=>=44.0, AGEP=>=35.0, RAC1P=White alone)       3   \n",
       "474  0.104965                     (AGEP=>=46.0, WKHP=>=44.0)       2   \n",
       "286  0.133723                     (WKHP=>=44.0, MAR=Married)       2   \n",
       "\n",
       "     support_count        outcome     d_outcome  t_value_outcome  \n",
       "410        22094.0  136027.741649  70835.692831        73.301853  \n",
       "470        20810.0  135897.798847  70705.750029        70.461299  \n",
       "413        22003.0  134322.412126  69130.363307        73.065519  \n",
       "474        20538.0  129593.183562  64401.134744        65.807872  \n",
       "286        26165.0  127980.685419  62788.636601        73.243438  "
      ]
     },
     "execution_count": 46,
     "metadata": {},
     "output_type": "execute_result"
    }
   ],
   "source": [
    "FP_fm.sort_values(metric, ascending = False).head()"
   ]
  },
  {
   "cell_type": "code",
   "execution_count": 47,
   "metadata": {
    "ExecuteTime": {
     "end_time": "2022-01-22T08:59:06.898368Z",
     "start_time": "2022-01-22T08:59:06.881054Z"
    },
    "scrolled": false
   },
   "outputs": [
    {
     "data": {
      "text/html": [
       "<div>\n",
       "<style scoped>\n",
       "    .dataframe tbody tr th:only-of-type {\n",
       "        vertical-align: middle;\n",
       "    }\n",
       "\n",
       "    .dataframe tbody tr th {\n",
       "        vertical-align: top;\n",
       "    }\n",
       "\n",
       "    .dataframe thead th {\n",
       "        text-align: right;\n",
       "    }\n",
       "</style>\n",
       "<table border=\"1\" class=\"dataframe\">\n",
       "  <thead>\n",
       "    <tr style=\"text-align: right;\">\n",
       "      <th></th>\n",
       "      <th>support</th>\n",
       "      <th>itemsets</th>\n",
       "      <th>length</th>\n",
       "      <th>support_count</th>\n",
       "      <th>outcome</th>\n",
       "      <th>d_outcome</th>\n",
       "      <th>t_value_outcome</th>\n",
       "    </tr>\n",
       "  </thead>\n",
       "  <tbody>\n",
       "    <tr>\n",
       "      <th>410</th>\n",
       "      <td>0.112917</td>\n",
       "      <td>(WKHP=&gt;=44.0, MAR=Married, AGEP=&gt;=35.0)</td>\n",
       "      <td>3</td>\n",
       "      <td>22094.0</td>\n",
       "      <td>136027.741649</td>\n",
       "      <td>70835.692831</td>\n",
       "      <td>73.301853</td>\n",
       "    </tr>\n",
       "    <tr>\n",
       "      <th>470</th>\n",
       "      <td>0.106355</td>\n",
       "      <td>(SEX=Male, WKHP=&gt;=44.0, AGEP=&gt;=35.0)</td>\n",
       "      <td>3</td>\n",
       "      <td>20810.0</td>\n",
       "      <td>135897.798847</td>\n",
       "      <td>70705.750029</td>\n",
       "      <td>70.461299</td>\n",
       "    </tr>\n",
       "    <tr>\n",
       "      <th>413</th>\n",
       "      <td>0.112452</td>\n",
       "      <td>(WKHP=&gt;=44.0, AGEP=&gt;=35.0, RAC1P=White alone)</td>\n",
       "      <td>3</td>\n",
       "      <td>22003.0</td>\n",
       "      <td>134322.412126</td>\n",
       "      <td>69130.363307</td>\n",
       "      <td>73.065519</td>\n",
       "    </tr>\n",
       "    <tr>\n",
       "      <th>474</th>\n",
       "      <td>0.104965</td>\n",
       "      <td>(AGEP=&gt;=46.0, WKHP=&gt;=44.0)</td>\n",
       "      <td>2</td>\n",
       "      <td>20538.0</td>\n",
       "      <td>129593.183562</td>\n",
       "      <td>64401.134744</td>\n",
       "      <td>65.807872</td>\n",
       "    </tr>\n",
       "    <tr>\n",
       "      <th>286</th>\n",
       "      <td>0.133723</td>\n",
       "      <td>(WKHP=&gt;=44.0, MAR=Married)</td>\n",
       "      <td>2</td>\n",
       "      <td>26165.0</td>\n",
       "      <td>127980.685419</td>\n",
       "      <td>62788.636601</td>\n",
       "      <td>73.243438</td>\n",
       "    </tr>\n",
       "  </tbody>\n",
       "</table>\n",
       "</div>"
      ],
      "text/plain": [
       "      support                                       itemsets  length  \\\n",
       "410  0.112917        (WKHP=>=44.0, MAR=Married, AGEP=>=35.0)       3   \n",
       "470  0.106355           (SEX=Male, WKHP=>=44.0, AGEP=>=35.0)       3   \n",
       "413  0.112452  (WKHP=>=44.0, AGEP=>=35.0, RAC1P=White alone)       3   \n",
       "474  0.104965                     (AGEP=>=46.0, WKHP=>=44.0)       2   \n",
       "286  0.133723                     (WKHP=>=44.0, MAR=Married)       2   \n",
       "\n",
       "     support_count        outcome     d_outcome  t_value_outcome  \n",
       "410        22094.0  136027.741649  70835.692831        73.301853  \n",
       "470        20810.0  135897.798847  70705.750029        70.461299  \n",
       "413        22003.0  134322.412126  69130.363307        73.065519  \n",
       "474        20538.0  129593.183562  64401.134744        65.807872  \n",
       "286        26165.0  127980.685419  62788.636601        73.243438  "
      ]
     },
     "execution_count": 47,
     "metadata": {},
     "output_type": "execute_result"
    }
   ],
   "source": [
    "FP_fm.sort_values(metric, ascending = False).head()"
   ]
  },
  {
   "cell_type": "code",
   "execution_count": 48,
   "metadata": {
    "ExecuteTime": {
     "end_time": "2022-01-22T08:59:06.917365Z",
     "start_time": "2022-01-22T08:59:06.905858Z"
    }
   },
   "outputs": [
    {
     "data": {
      "text/plain": [
       "536"
      ]
     },
     "execution_count": 48,
     "metadata": {},
     "output_type": "execute_result"
    }
   ],
   "source": [
    "len(FP_fm)"
   ]
  },
  {
   "cell_type": "markdown",
   "metadata": {},
   "source": [
    "# Tree divergence - income - combined"
   ]
  },
  {
   "cell_type": "markdown",
   "metadata": {
    "ExecuteTime": {
     "end_time": "2022-01-14T16:09:38.440308Z",
     "start_time": "2022-01-14T16:09:38.415153Z"
    }
   },
   "source": [
    "## Tree"
   ]
  },
  {
   "cell_type": "code",
   "execution_count": 49,
   "metadata": {
    "ExecuteTime": {
     "end_time": "2022-01-22T08:59:06.935225Z",
     "start_time": "2022-01-22T08:59:06.918673Z"
    }
   },
   "outputs": [
    {
     "data": {
      "text/html": [
       "<div>\n",
       "<style scoped>\n",
       "    .dataframe tbody tr th:only-of-type {\n",
       "        vertical-align: middle;\n",
       "    }\n",
       "\n",
       "    .dataframe tbody tr th {\n",
       "        vertical-align: top;\n",
       "    }\n",
       "\n",
       "    .dataframe thead th {\n",
       "        text-align: right;\n",
       "    }\n",
       "</style>\n",
       "<table border=\"1\" class=\"dataframe\">\n",
       "  <thead>\n",
       "    <tr style=\"text-align: right;\">\n",
       "      <th></th>\n",
       "      <th>AGEP</th>\n",
       "      <th>COW</th>\n",
       "      <th>SCHL</th>\n",
       "      <th>MAR</th>\n",
       "      <th>OCCP</th>\n",
       "      <th>POBP</th>\n",
       "      <th>RELP</th>\n",
       "      <th>WKHP</th>\n",
       "      <th>SEX</th>\n",
       "      <th>RAC1P</th>\n",
       "      <th>income</th>\n",
       "    </tr>\n",
       "  </thead>\n",
       "  <tbody>\n",
       "    <tr>\n",
       "      <th>0</th>\n",
       "      <td>30.0</td>\n",
       "      <td>Self-employed in own not incorporated business, professional practice, or farm</td>\n",
       "      <td>Grade 11</td>\n",
       "      <td>Married</td>\n",
       "      <td>TRN-Cleaners Of Vehicles And Equipment</td>\n",
       "      <td>California/CA</td>\n",
       "      <td>Institutionalized group quarters population</td>\n",
       "      <td>40.0</td>\n",
       "      <td>Male</td>\n",
       "      <td>Some Other Race alone</td>\n",
       "      <td>48500.0</td>\n",
       "    </tr>\n",
       "    <tr>\n",
       "      <th>1</th>\n",
       "      <td>21.0</td>\n",
       "      <td>State government employee</td>\n",
       "      <td>Regular high school diploma</td>\n",
       "      <td>Never married or under 15 years old</td>\n",
       "      <td>SCI-Other Life, Physical, And Social Science Technicians</td>\n",
       "      <td>California/CA</td>\n",
       "      <td>Noninstitutionalized group quarters population</td>\n",
       "      <td>20.0</td>\n",
       "      <td>Male</td>\n",
       "      <td>White alone</td>\n",
       "      <td>7700.0</td>\n",
       "    </tr>\n",
       "    <tr>\n",
       "      <th>2</th>\n",
       "      <td>65.0</td>\n",
       "      <td>Employee of a private not-for-profit, tax-exempt, or charitable organization</td>\n",
       "      <td>Master's degree</td>\n",
       "      <td>Never married or under 15 years old</td>\n",
       "      <td>CMS-Clergy</td>\n",
       "      <td>California/CA</td>\n",
       "      <td>Noninstitutionalized group quarters population</td>\n",
       "      <td>8.0</td>\n",
       "      <td>Male</td>\n",
       "      <td>White alone</td>\n",
       "      <td>17200.0</td>\n",
       "    </tr>\n",
       "    <tr>\n",
       "      <th>3</th>\n",
       "      <td>33.0</td>\n",
       "      <td>Employee of a private for-profit company or business, or of an individual, for wages, salary, or commissions</td>\n",
       "      <td>Grade 11</td>\n",
       "      <td>Divorced</td>\n",
       "      <td>TRN-Cleaners Of Vehicles And Equipment</td>\n",
       "      <td>New York/NY</td>\n",
       "      <td>Institutionalized group quarters population</td>\n",
       "      <td>40.0</td>\n",
       "      <td>Male</td>\n",
       "      <td>White alone</td>\n",
       "      <td>12000.0</td>\n",
       "    </tr>\n",
       "    <tr>\n",
       "      <th>4</th>\n",
       "      <td>18.0</td>\n",
       "      <td>Employee of a private not-for-profit, tax-exempt, or charitable organization</td>\n",
       "      <td>1 or more years of college credit, no degree</td>\n",
       "      <td>Never married or under 15 years old</td>\n",
       "      <td>CMM-Software Developers</td>\n",
       "      <td>California/CA</td>\n",
       "      <td>Noninstitutionalized group quarters population</td>\n",
       "      <td>18.0</td>\n",
       "      <td>Female</td>\n",
       "      <td>White alone</td>\n",
       "      <td>300.0</td>\n",
       "    </tr>\n",
       "  </tbody>\n",
       "</table>\n",
       "</div>"
      ],
      "text/plain": [
       "   AGEP  \\\n",
       "0  30.0   \n",
       "1  21.0   \n",
       "2  65.0   \n",
       "3  33.0   \n",
       "4  18.0   \n",
       "\n",
       "                                                                                                            COW  \\\n",
       "0                                Self-employed in own not incorporated business, professional practice, or farm   \n",
       "1                                                                                     State government employee   \n",
       "2                                  Employee of a private not-for-profit, tax-exempt, or charitable organization   \n",
       "3  Employee of a private for-profit company or business, or of an individual, for wages, salary, or commissions   \n",
       "4                                  Employee of a private not-for-profit, tax-exempt, or charitable organization   \n",
       "\n",
       "                                           SCHL  \\\n",
       "0                                      Grade 11   \n",
       "1                   Regular high school diploma   \n",
       "2                               Master's degree   \n",
       "3                                      Grade 11   \n",
       "4  1 or more years of college credit, no degree   \n",
       "\n",
       "                                   MAR  \\\n",
       "0                              Married   \n",
       "1  Never married or under 15 years old   \n",
       "2  Never married or under 15 years old   \n",
       "3                             Divorced   \n",
       "4  Never married or under 15 years old   \n",
       "\n",
       "                                                       OCCP           POBP  \\\n",
       "0                    TRN-Cleaners Of Vehicles And Equipment  California/CA   \n",
       "1  SCI-Other Life, Physical, And Social Science Technicians  California/CA   \n",
       "2                                                CMS-Clergy  California/CA   \n",
       "3                    TRN-Cleaners Of Vehicles And Equipment    New York/NY   \n",
       "4                                   CMM-Software Developers  California/CA   \n",
       "\n",
       "                                             RELP  WKHP     SEX  \\\n",
       "0     Institutionalized group quarters population  40.0    Male   \n",
       "1  Noninstitutionalized group quarters population  20.0    Male   \n",
       "2  Noninstitutionalized group quarters population   8.0    Male   \n",
       "3     Institutionalized group quarters population  40.0    Male   \n",
       "4  Noninstitutionalized group quarters population  18.0  Female   \n",
       "\n",
       "                   RAC1P   income  \n",
       "0  Some Other Race alone  48500.0  \n",
       "1            White alone   7700.0  \n",
       "2            White alone  17200.0  \n",
       "3            White alone  12000.0  \n",
       "4            White alone    300.0  "
      ]
     },
     "execution_count": 49,
     "metadata": {},
     "output_type": "execute_result"
    }
   ],
   "source": [
    "df_analysis.head()"
   ]
  },
  {
   "cell_type": "code",
   "execution_count": 50,
   "metadata": {
    "ExecuteTime": {
     "end_time": "2022-01-22T08:59:06.949459Z",
     "start_time": "2022-01-22T08:59:06.936666Z"
    }
   },
   "outputs": [],
   "source": [
    "continuous_attributes = ['AGEP', 'WKHP']"
   ]
  },
  {
   "cell_type": "code",
   "execution_count": 51,
   "metadata": {
    "ExecuteTime": {
     "end_time": "2022-01-22T08:59:06.965308Z",
     "start_time": "2022-01-22T08:59:06.950727Z"
    }
   },
   "outputs": [],
   "source": [
    "min_support = 0.1"
   ]
  },
  {
   "cell_type": "code",
   "execution_count": 52,
   "metadata": {
    "ExecuteTime": {
     "end_time": "2022-01-22T08:59:06.984076Z",
     "start_time": "2022-01-22T08:59:06.967311Z"
    }
   },
   "outputs": [],
   "source": [
    "metric = \"d_outcome\"\n",
    "\n",
    "target = \"income\""
   ]
  },
  {
   "cell_type": "code",
   "execution_count": 53,
   "metadata": {
    "ExecuteTime": {
     "end_time": "2022-01-22T08:59:07.000420Z",
     "start_time": "2022-01-22T08:59:06.986566Z"
    }
   },
   "outputs": [],
   "source": [
    "minimal_gain = 0"
   ]
  },
  {
   "cell_type": "code",
   "execution_count": 54,
   "metadata": {
    "ExecuteTime": {
     "end_time": "2022-01-22T09:00:40.156962Z",
     "start_time": "2022-01-22T08:59:07.003554Z"
    },
    "scrolled": true
   },
   "outputs": [
    {
     "name": "stdout",
     "output_type": "stream",
     "text": [
      "Splits\n",
      "False\n",
      "Type splitting: None\n",
      " root s=1.00000 --> d_outcome=0.00000\n",
      "         WKHP<=39.0 s=0.30499 --> d_outcome=-33031.20637\n",
      "                 AGEP<=34.0 s=0.13592 --> d_outcome=-49881.86178\n",
      "                 AGEP>=35.0 s=0.16907 --> d_outcome=-19485.28018\n",
      "         WKHP>=40.0 s=0.69501 --> d_outcome=14495.07145\n",
      "                 WKHP<=43.0 s=0.47721 --> d_outcome=590.71838\n",
      "                         AGEP<=35.0 s=0.16371 --> d_outcome=-18263.15271\n",
      "                         AGEP>=36.0 s=0.31351 --> d_outcome=10435.96631\n",
      "                                 RELP=Reference person s=0.17567 --> d_outcome=18040.85765\n",
      "                                 RELP!=Reference person s=0.13783 --> d_outcome=743.24763\n",
      "                 WKHP>=44.0 s=0.21780 --> d_outcome=44960.98870\n",
      "                         AGEP<=43.0 s=0.10322 --> d_outcome=23985.31551\n",
      "                         AGEP>=44.0 s=0.11458 --> d_outcome=63856.77780\n"
     ]
    },
    {
     "data": {
      "image/svg+xml": [
       "<?xml version=\"1.0\" encoding=\"UTF-8\" standalone=\"no\"?>\n",
       "<!DOCTYPE svg PUBLIC \"-//W3C//DTD SVG 1.1//EN\"\n",
       " \"http://www.w3.org/Graphics/SVG/1.1/DTD/svg11.dtd\">\n",
       "<!-- Generated by graphviz version 2.40.1 (20161225.0304)\n",
       " -->\n",
       "<!-- Title: %3 Pages: 1 -->\n",
       "<svg width=\"1312pt\" height=\"822pt\"\n",
       " viewBox=\"0.00 0.00 1311.50 822.00\" xmlns=\"http://www.w3.org/2000/svg\" xmlns:xlink=\"http://www.w3.org/1999/xlink\">\n",
       "<g id=\"graph0\" class=\"graph\" transform=\"scale(1 1) rotate(0) translate(4 818)\">\n",
       "<title>%3</title>\n",
       "<polygon fill=\"#ffffff\" stroke=\"transparent\" points=\"-4,4 -4,-818 1307.5,-818 1307.5,4 -4,4\"/>\n",
       "<!-- 0 -->\n",
       "<g id=\"node1\" class=\"node\">\n",
       "<title>0</title>\n",
       "<polygon fill=\"none\" stroke=\"#000000\" points=\"643,-814 358,-814 358,-686 643,-686 643,-814\"/>\n",
       "<text text-anchor=\"middle\" x=\"500.5\" y=\"-798.8\" font-family=\"Times,serif\" font-size=\"14.00\" fill=\"#000000\">Condition: root</text>\n",
       "<text text-anchor=\"middle\" x=\"500.5\" y=\"-783.8\" font-family=\"Times,serif\" font-size=\"14.00\" fill=\"#000000\">weighted_sum_abs_reference_s split:20148.4197</text>\n",
       "<text text-anchor=\"middle\" x=\"500.5\" y=\"-768.8\" font-family=\"Times,serif\" font-size=\"14.00\" fill=\"#000000\">Criterion: 0.000</text>\n",
       "<text text-anchor=\"middle\" x=\"500.5\" y=\"-753.8\" font-family=\"Times,serif\" font-size=\"14.00\" fill=\"#000000\">outcome: 65192.049</text>\n",
       "<text text-anchor=\"middle\" x=\"500.5\" y=\"-738.8\" font-family=\"Times,serif\" font-size=\"14.00\" fill=\"#000000\">sup_ratio: 1.000</text>\n",
       "<text text-anchor=\"middle\" x=\"500.5\" y=\"-723.8\" font-family=\"Times,serif\" font-size=\"14.00\" fill=\"#000000\">gain: 20148.4197099216</text>\n",
       "<text text-anchor=\"middle\" x=\"500.5\" y=\"-708.8\" font-family=\"Times,serif\" font-size=\"14.00\" fill=\"#000000\">sup=1.00000 Δ=0.00000</text>\n",
       "<text text-anchor=\"middle\" x=\"500.5\" y=\"-693.8\" font-family=\"Times,serif\" font-size=\"14.00\" fill=\"#000000\">{&#39;SUM&#39;: 12755802232.0, &#39;LEN&#39;: 195665}</text>\n",
       "</g>\n",
       "<!-- 1 -->\n",
       "<g id=\"node2\" class=\"node\">\n",
       "<title>1</title>\n",
       "<polygon fill=\"none\" stroke=\"#000000\" points=\"492,-650 207,-650 207,-507 492,-507 492,-650\"/>\n",
       "<text text-anchor=\"middle\" x=\"349.5\" y=\"-634.8\" font-family=\"Times,serif\" font-size=\"14.00\" fill=\"#000000\">Condition: WKHP≤39.0</text>\n",
       "<text text-anchor=\"middle\" x=\"349.5\" y=\"-619.8\" font-family=\"Times,serif\" font-size=\"14.00\" fill=\"#000000\">WKHP&lt;=39.0</text>\n",
       "<text text-anchor=\"middle\" x=\"349.5\" y=\"-604.8\" font-family=\"Times,serif\" font-size=\"14.00\" fill=\"#000000\">weighted_sum_abs_reference_s split:15018.6450</text>\n",
       "<text text-anchor=\"middle\" x=\"349.5\" y=\"-589.8\" font-family=\"Times,serif\" font-size=\"14.00\" fill=\"#000000\">Criterion: 33031.206</text>\n",
       "<text text-anchor=\"middle\" x=\"349.5\" y=\"-574.8\" font-family=\"Times,serif\" font-size=\"14.00\" fill=\"#000000\">outcome: 32160.842</text>\n",
       "<text text-anchor=\"middle\" x=\"349.5\" y=\"-559.8\" font-family=\"Times,serif\" font-size=\"14.00\" fill=\"#000000\">sup_ratio: 0.305</text>\n",
       "<text text-anchor=\"middle\" x=\"349.5\" y=\"-544.8\" font-family=\"Times,serif\" font-size=\"14.00\" fill=\"#000000\">gain: 4580.5466495767</text>\n",
       "<text text-anchor=\"middle\" x=\"349.5\" y=\"-529.8\" font-family=\"Times,serif\" font-size=\"14.00\" fill=\"#000000\">sup=0.30499 Δ=&#45;33031.20637</text>\n",
       "<text text-anchor=\"middle\" x=\"349.5\" y=\"-514.8\" font-family=\"Times,serif\" font-size=\"14.00\" fill=\"#000000\">{&#39;SUM&#39;: 1919230434.0, &#39;LEN&#39;: 59676}</text>\n",
       "</g>\n",
       "<!-- 0&#45;&gt;1 -->\n",
       "<g id=\"edge1\" class=\"edge\">\n",
       "<title>0&#45;&gt;1</title>\n",
       "<path fill=\"none\" stroke=\"#000000\" d=\"M443.8436,-685.6518C435.8673,-676.5927 427.5913,-667.1931 419.4036,-657.8938\"/>\n",
       "<polygon fill=\"#000000\" stroke=\"#000000\" points=\"421.7903,-655.3081 412.5551,-650.1156 416.5365,-659.9339 421.7903,-655.3081\"/>\n",
       "</g>\n",
       "<!-- 4 -->\n",
       "<g id=\"node5\" class=\"node\">\n",
       "<title>4</title>\n",
       "<polygon fill=\"none\" stroke=\"#000000\" points=\"795,-650 510,-650 510,-507 795,-507 795,-650\"/>\n",
       "<text text-anchor=\"middle\" x=\"652.5\" y=\"-634.8\" font-family=\"Times,serif\" font-size=\"14.00\" fill=\"#000000\">Condition: WKHP≥40.0</text>\n",
       "<text text-anchor=\"middle\" x=\"652.5\" y=\"-619.8\" font-family=\"Times,serif\" font-size=\"14.00\" fill=\"#000000\">WKHP&gt;=40.0</text>\n",
       "<text text-anchor=\"middle\" x=\"652.5\" y=\"-604.8\" font-family=\"Times,serif\" font-size=\"14.00\" fill=\"#000000\">weighted_sum_abs_reference_s split:19094.2659</text>\n",
       "<text text-anchor=\"middle\" x=\"652.5\" y=\"-589.8\" font-family=\"Times,serif\" font-size=\"14.00\" fill=\"#000000\">Criterion: 14495.071</text>\n",
       "<text text-anchor=\"middle\" x=\"652.5\" y=\"-574.8\" font-family=\"Times,serif\" font-size=\"14.00\" fill=\"#000000\">outcome: 79687.120</text>\n",
       "<text text-anchor=\"middle\" x=\"652.5\" y=\"-559.8\" font-family=\"Times,serif\" font-size=\"14.00\" fill=\"#000000\">sup_ratio: 0.695</text>\n",
       "<text text-anchor=\"middle\" x=\"652.5\" y=\"-544.8\" font-family=\"Times,serif\" font-size=\"14.00\" fill=\"#000000\">gain: 13270.6929069416</text>\n",
       "<text text-anchor=\"middle\" x=\"652.5\" y=\"-529.8\" font-family=\"Times,serif\" font-size=\"14.00\" fill=\"#000000\">sup=0.69501 Δ=14495.07145</text>\n",
       "<text text-anchor=\"middle\" x=\"652.5\" y=\"-514.8\" font-family=\"Times,serif\" font-size=\"14.00\" fill=\"#000000\">{&#39;SUM&#39;: 10836571798.0, &#39;LEN&#39;: 135989}</text>\n",
       "</g>\n",
       "<!-- 0&#45;&gt;4 -->\n",
       "<g id=\"edge4\" class=\"edge\">\n",
       "<title>0&#45;&gt;4</title>\n",
       "<path fill=\"none\" stroke=\"#000000\" d=\"M557.5316,-685.6518C565.641,-676.5021 574.0582,-667.0051 582.3807,-657.6148\"/>\n",
       "<polygon fill=\"#000000\" stroke=\"#000000\" points=\"585.0138,-659.9208 589.0273,-650.1156 579.7752,-655.2778 585.0138,-659.9208\"/>\n",
       "</g>\n",
       "<!-- 2 -->\n",
       "<g id=\"node3\" class=\"node\">\n",
       "<title>2</title>\n",
       "<polygon fill=\"none\" stroke=\"#000000\" stroke-width=\"2\" points=\"223,-456 0,-456 0,-343 223,-343 223,-456\"/>\n",
       "<text text-anchor=\"middle\" x=\"111.5\" y=\"-440.8\" font-family=\"Times,serif\" font-size=\"14.00\" fill=\"#000000\">Condition: AGEP≤34.0</text>\n",
       "<text text-anchor=\"middle\" x=\"111.5\" y=\"-425.8\" font-family=\"Times,serif\" font-size=\"14.00\" fill=\"#000000\">AGEP&lt;=34.0</text>\n",
       "<text text-anchor=\"middle\" x=\"111.5\" y=\"-410.8\" font-family=\"Times,serif\" font-size=\"14.00\" fill=\"#000000\">Criterion: 16850.655</text>\n",
       "<text text-anchor=\"middle\" x=\"111.5\" y=\"-395.8\" font-family=\"Times,serif\" font-size=\"14.00\" fill=\"#000000\">outcome: 15310.187</text>\n",
       "<text text-anchor=\"middle\" x=\"111.5\" y=\"-380.8\" font-family=\"Times,serif\" font-size=\"14.00\" fill=\"#000000\">sup_ratio: 0.446</text>\n",
       "<text text-anchor=\"middle\" x=\"111.5\" y=\"-365.8\" font-family=\"Times,serif\" font-size=\"14.00\" fill=\"#000000\">sup=0.13592 Δ=&#45;49881.86178</text>\n",
       "<text text-anchor=\"middle\" x=\"111.5\" y=\"-350.8\" font-family=\"Times,serif\" font-size=\"14.00\" fill=\"#000000\">{&#39;SUM&#39;: 407159114.0, &#39;LEN&#39;: 26594}</text>\n",
       "</g>\n",
       "<!-- 1&#45;&gt;2 -->\n",
       "<g id=\"edge2\" class=\"edge\">\n",
       "<title>1&#45;&gt;2</title>\n",
       "<path fill=\"none\" stroke=\"#000000\" d=\"M254.41,-506.9828C234.6971,-492.1567 214.0712,-476.6439 194.8184,-462.1638\"/>\n",
       "<polygon fill=\"#000000\" stroke=\"#000000\" points=\"196.7536,-459.2399 186.6579,-456.0263 192.5461,-464.8343 196.7536,-459.2399\"/>\n",
       "</g>\n",
       "<!-- 3 -->\n",
       "<g id=\"node4\" class=\"node\">\n",
       "<title>3</title>\n",
       "<polygon fill=\"none\" stroke=\"#000000\" stroke-width=\"2\" points=\"471.5,-456 241.5,-456 241.5,-343 471.5,-343 471.5,-456\"/>\n",
       "<text text-anchor=\"middle\" x=\"356.5\" y=\"-440.8\" font-family=\"Times,serif\" font-size=\"14.00\" fill=\"#000000\">Condition: AGEP≥35.0</text>\n",
       "<text text-anchor=\"middle\" x=\"356.5\" y=\"-425.8\" font-family=\"Times,serif\" font-size=\"14.00\" fill=\"#000000\">AGEP&gt;=35.0</text>\n",
       "<text text-anchor=\"middle\" x=\"356.5\" y=\"-410.8\" font-family=\"Times,serif\" font-size=\"14.00\" fill=\"#000000\">Criterion: 13545.926</text>\n",
       "<text text-anchor=\"middle\" x=\"356.5\" y=\"-395.8\" font-family=\"Times,serif\" font-size=\"14.00\" fill=\"#000000\">outcome: 45706.769</text>\n",
       "<text text-anchor=\"middle\" x=\"356.5\" y=\"-380.8\" font-family=\"Times,serif\" font-size=\"14.00\" fill=\"#000000\">sup_ratio: 0.554</text>\n",
       "<text text-anchor=\"middle\" x=\"356.5\" y=\"-365.8\" font-family=\"Times,serif\" font-size=\"14.00\" fill=\"#000000\">sup=0.16907 Δ=&#45;19485.28018</text>\n",
       "<text text-anchor=\"middle\" x=\"356.5\" y=\"-350.8\" font-family=\"Times,serif\" font-size=\"14.00\" fill=\"#000000\">{&#39;SUM&#39;: 1512071320.0, &#39;LEN&#39;: 33082}</text>\n",
       "</g>\n",
       "<!-- 1&#45;&gt;3 -->\n",
       "<g id=\"edge3\" class=\"edge\">\n",
       "<title>1&#45;&gt;3</title>\n",
       "<path fill=\"none\" stroke=\"#000000\" d=\"M352.2968,-506.9828C352.8248,-493.4804 353.3751,-479.4086 353.8969,-466.0659\"/>\n",
       "<polygon fill=\"#000000\" stroke=\"#000000\" points=\"357.3959,-466.1555 354.2895,-456.0263 350.4013,-465.8819 357.3959,-466.1555\"/>\n",
       "</g>\n",
       "<!-- 5 -->\n",
       "<g id=\"node6\" class=\"node\">\n",
       "<title>5</title>\n",
       "<polygon fill=\"none\" stroke=\"#000000\" points=\"788,-471 503,-471 503,-328 788,-328 788,-471\"/>\n",
       "<text text-anchor=\"middle\" x=\"645.5\" y=\"-455.8\" font-family=\"Times,serif\" font-size=\"14.00\" fill=\"#000000\">Condition: WKHP≤43.0</text>\n",
       "<text text-anchor=\"middle\" x=\"645.5\" y=\"-440.8\" font-family=\"Times,serif\" font-size=\"14.00\" fill=\"#000000\">WKHP=[40.0&#45;43.0]</text>\n",
       "<text text-anchor=\"middle\" x=\"645.5\" y=\"-425.8\" font-family=\"Times,serif\" font-size=\"14.00\" fill=\"#000000\">weighted_sum_abs_reference_s split:12935.6609</text>\n",
       "<text text-anchor=\"middle\" x=\"645.5\" y=\"-410.8\" font-family=\"Times,serif\" font-size=\"14.00\" fill=\"#000000\">Criterion: 13904.353</text>\n",
       "<text text-anchor=\"middle\" x=\"645.5\" y=\"-395.8\" font-family=\"Times,serif\" font-size=\"14.00\" fill=\"#000000\">outcome: 65782.767</text>\n",
       "<text text-anchor=\"middle\" x=\"645.5\" y=\"-380.8\" font-family=\"Times,serif\" font-size=\"14.00\" fill=\"#000000\">sup_ratio: 0.687</text>\n",
       "<text text-anchor=\"middle\" x=\"645.5\" y=\"-365.8\" font-family=\"Times,serif\" font-size=\"14.00\" fill=\"#000000\">gain: 6173.0733525937</text>\n",
       "<text text-anchor=\"middle\" x=\"645.5\" y=\"-350.8\" font-family=\"Times,serif\" font-size=\"14.00\" fill=\"#000000\">sup=0.47721 Δ=590.71838</text>\n",
       "<text text-anchor=\"middle\" x=\"645.5\" y=\"-335.8\" font-family=\"Times,serif\" font-size=\"14.00\" fill=\"#000000\">{&#39;SUM&#39;: 6142400104.0, &#39;LEN&#39;: 93374}</text>\n",
       "</g>\n",
       "<!-- 4&#45;&gt;5 -->\n",
       "<g id=\"edge5\" class=\"edge\">\n",
       "<title>4&#45;&gt;5</title>\n",
       "<path fill=\"none\" stroke=\"#000000\" d=\"M649.7032,-506.9828C649.372,-498.5138 649.0321,-489.8207 648.6959,-481.224\"/>\n",
       "<polygon fill=\"#000000\" stroke=\"#000000\" points=\"652.1919,-481.0513 648.3037,-471.1958 645.1973,-481.3249 652.1919,-481.0513\"/>\n",
       "</g>\n",
       "<!-- 10 -->\n",
       "<g id=\"node11\" class=\"node\">\n",
       "<title>10</title>\n",
       "<polygon fill=\"none\" stroke=\"#000000\" points=\"1091,-471 806,-471 806,-328 1091,-328 1091,-471\"/>\n",
       "<text text-anchor=\"middle\" x=\"948.5\" y=\"-455.8\" font-family=\"Times,serif\" font-size=\"14.00\" fill=\"#000000\">Condition: WKHP≥44.0</text>\n",
       "<text text-anchor=\"middle\" x=\"948.5\" y=\"-440.8\" font-family=\"Times,serif\" font-size=\"14.00\" fill=\"#000000\">WKHP&gt;=44.0</text>\n",
       "<text text-anchor=\"middle\" x=\"948.5\" y=\"-425.8\" font-family=\"Times,serif\" font-size=\"14.00\" fill=\"#000000\">weighted_sum_abs_reference_s split:19881.4828</text>\n",
       "<text text-anchor=\"middle\" x=\"948.5\" y=\"-410.8\" font-family=\"Times,serif\" font-size=\"14.00\" fill=\"#000000\">Criterion: 30465.917</text>\n",
       "<text text-anchor=\"middle\" x=\"948.5\" y=\"-395.8\" font-family=\"Times,serif\" font-size=\"14.00\" fill=\"#000000\">outcome: 110153.038</text>\n",
       "<text text-anchor=\"middle\" x=\"948.5\" y=\"-380.8\" font-family=\"Times,serif\" font-size=\"14.00\" fill=\"#000000\">sup_ratio: 0.313</text>\n",
       "<text text-anchor=\"middle\" x=\"948.5\" y=\"-365.8\" font-family=\"Times,serif\" font-size=\"14.00\" fill=\"#000000\">gain: 4330.1019169938</text>\n",
       "<text text-anchor=\"middle\" x=\"948.5\" y=\"-350.8\" font-family=\"Times,serif\" font-size=\"14.00\" fill=\"#000000\">sup=0.21780 Δ=44960.98870</text>\n",
       "<text text-anchor=\"middle\" x=\"948.5\" y=\"-335.8\" font-family=\"Times,serif\" font-size=\"14.00\" fill=\"#000000\">{&#39;SUM&#39;: 4694171694.0, &#39;LEN&#39;: 42615}</text>\n",
       "</g>\n",
       "<!-- 4&#45;&gt;10 -->\n",
       "<g id=\"edge10\" class=\"edge\">\n",
       "<title>4&#45;&gt;10</title>\n",
       "<path fill=\"none\" stroke=\"#000000\" d=\"M770.7632,-506.9828C787.3556,-496.9488 804.4681,-486.6004 821.2194,-476.4704\"/>\n",
       "<polygon fill=\"#000000\" stroke=\"#000000\" points=\"823.1957,-479.3655 829.9416,-471.1958 819.5734,-473.3755 823.1957,-479.3655\"/>\n",
       "</g>\n",
       "<!-- 6 -->\n",
       "<g id=\"node7\" class=\"node\">\n",
       "<title>6</title>\n",
       "<polygon fill=\"none\" stroke=\"#000000\" stroke-width=\"2\" points=\"496.5,-277 266.5,-277 266.5,-164 496.5,-164 496.5,-277\"/>\n",
       "<text text-anchor=\"middle\" x=\"381.5\" y=\"-261.8\" font-family=\"Times,serif\" font-size=\"14.00\" fill=\"#000000\">Condition: AGEP≤35.0</text>\n",
       "<text text-anchor=\"middle\" x=\"381.5\" y=\"-246.8\" font-family=\"Times,serif\" font-size=\"14.00\" fill=\"#000000\">AGEP&lt;=35.0</text>\n",
       "<text text-anchor=\"middle\" x=\"381.5\" y=\"-231.8\" font-family=\"Times,serif\" font-size=\"14.00\" fill=\"#000000\">Criterion: 18853.871</text>\n",
       "<text text-anchor=\"middle\" x=\"381.5\" y=\"-216.8\" font-family=\"Times,serif\" font-size=\"14.00\" fill=\"#000000\">outcome: 46928.896</text>\n",
       "<text text-anchor=\"middle\" x=\"381.5\" y=\"-201.8\" font-family=\"Times,serif\" font-size=\"14.00\" fill=\"#000000\">sup_ratio: 0.343</text>\n",
       "<text text-anchor=\"middle\" x=\"381.5\" y=\"-186.8\" font-family=\"Times,serif\" font-size=\"14.00\" fill=\"#000000\">sup=0.16371 Δ=&#45;18263.15271</text>\n",
       "<text text-anchor=\"middle\" x=\"381.5\" y=\"-171.8\" font-family=\"Times,serif\" font-size=\"14.00\" fill=\"#000000\">{&#39;SUM&#39;: 1503226400.0, &#39;LEN&#39;: 32032}</text>\n",
       "</g>\n",
       "<!-- 5&#45;&gt;6 -->\n",
       "<g id=\"edge6\" class=\"edge\">\n",
       "<title>5&#45;&gt;6</title>\n",
       "<path fill=\"none\" stroke=\"#000000\" d=\"M540.0221,-327.9828C517.9604,-313.0243 494.8678,-297.3668 473.3487,-282.7762\"/>\n",
       "<polygon fill=\"#000000\" stroke=\"#000000\" points=\"475.1095,-279.7414 464.8684,-277.0263 471.1811,-285.5352 475.1095,-279.7414\"/>\n",
       "</g>\n",
       "<!-- 7 -->\n",
       "<g id=\"node8\" class=\"node\">\n",
       "<title>7</title>\n",
       "<polygon fill=\"none\" stroke=\"#000000\" points=\"792.5,-292 514.5,-292 514.5,-149 792.5,-149 792.5,-292\"/>\n",
       "<text text-anchor=\"middle\" x=\"653.5\" y=\"-276.8\" font-family=\"Times,serif\" font-size=\"14.00\" fill=\"#000000\">Condition: AGEP≥36.0</text>\n",
       "<text text-anchor=\"middle\" x=\"653.5\" y=\"-261.8\" font-family=\"Times,serif\" font-size=\"14.00\" fill=\"#000000\">AGEP&gt;=36.0</text>\n",
       "<text text-anchor=\"middle\" x=\"653.5\" y=\"-246.8\" font-family=\"Times,serif\" font-size=\"14.00\" fill=\"#000000\">weighted_sum_abs_reference_s split:8522.8043</text>\n",
       "<text text-anchor=\"middle\" x=\"653.5\" y=\"-231.8\" font-family=\"Times,serif\" font-size=\"14.00\" fill=\"#000000\">Criterion: 9845.248</text>\n",
       "<text text-anchor=\"middle\" x=\"653.5\" y=\"-216.8\" font-family=\"Times,serif\" font-size=\"14.00\" fill=\"#000000\">outcome: 75628.015</text>\n",
       "<text text-anchor=\"middle\" x=\"653.5\" y=\"-201.8\" font-family=\"Times,serif\" font-size=\"14.00\" fill=\"#000000\">sup_ratio: 0.657</text>\n",
       "<text text-anchor=\"middle\" x=\"653.5\" y=\"-186.8\" font-family=\"Times,serif\" font-size=\"14.00\" fill=\"#000000\">gain: 2671.9436791970</text>\n",
       "<text text-anchor=\"middle\" x=\"653.5\" y=\"-171.8\" font-family=\"Times,serif\" font-size=\"14.00\" fill=\"#000000\">sup=0.31351 Δ=10435.96631</text>\n",
       "<text text-anchor=\"middle\" x=\"653.5\" y=\"-156.8\" font-family=\"Times,serif\" font-size=\"14.00\" fill=\"#000000\">{&#39;SUM&#39;: 4639173704.0, &#39;LEN&#39;: 61342}</text>\n",
       "</g>\n",
       "<!-- 5&#45;&gt;7 -->\n",
       "<g id=\"edge7\" class=\"edge\">\n",
       "<title>5&#45;&gt;7</title>\n",
       "<path fill=\"none\" stroke=\"#000000\" d=\"M648.6963,-327.9828C649.0748,-319.5138 649.4633,-310.8207 649.8475,-302.224\"/>\n",
       "<polygon fill=\"#000000\" stroke=\"#000000\" points=\"653.3457,-302.3421 650.2957,-292.1958 646.3526,-302.0295 653.3457,-302.3421\"/>\n",
       "</g>\n",
       "<!-- 8 -->\n",
       "<g id=\"node9\" class=\"node\">\n",
       "<title>8</title>\n",
       "<polygon fill=\"none\" stroke=\"#000000\" stroke-width=\"2\" points=\"644.5,-113 414.5,-113 414.5,0 644.5,0 644.5,-113\"/>\n",
       "<text text-anchor=\"middle\" x=\"529.5\" y=\"-97.8\" font-family=\"Times,serif\" font-size=\"14.00\" fill=\"#000000\">Condition: RELP=Reference person</text>\n",
       "<text text-anchor=\"middle\" x=\"529.5\" y=\"-82.8\" font-family=\"Times,serif\" font-size=\"14.00\" fill=\"#000000\">RELP=Reference person</text>\n",
       "<text text-anchor=\"middle\" x=\"529.5\" y=\"-67.8\" font-family=\"Times,serif\" font-size=\"14.00\" fill=\"#000000\">Criterion: 7604.891</text>\n",
       "<text text-anchor=\"middle\" x=\"529.5\" y=\"-52.8\" font-family=\"Times,serif\" font-size=\"14.00\" fill=\"#000000\">outcome: 83232.906</text>\n",
       "<text text-anchor=\"middle\" x=\"529.5\" y=\"-37.8\" font-family=\"Times,serif\" font-size=\"14.00\" fill=\"#000000\">sup_ratio: 0.560</text>\n",
       "<text text-anchor=\"middle\" x=\"529.5\" y=\"-22.8\" font-family=\"Times,serif\" font-size=\"14.00\" fill=\"#000000\">sup=0.17567 Δ=18040.85765</text>\n",
       "<text text-anchor=\"middle\" x=\"529.5\" y=\"-7.8\" font-family=\"Times,serif\" font-size=\"14.00\" fill=\"#000000\">{&#39;SUM&#39;: 2860964694.0, &#39;LEN&#39;: 34373}</text>\n",
       "</g>\n",
       "<!-- 7&#45;&gt;8 -->\n",
       "<g id=\"edge8\" class=\"edge\">\n",
       "<title>7&#45;&gt;8</title>\n",
       "<path fill=\"none\" stroke=\"#000000\" d=\"M599.1118,-148.5672C592.2365,-139.474 585.2343,-130.2131 578.4505,-121.241\"/>\n",
       "<polygon fill=\"#000000\" stroke=\"#000000\" points=\"581.1147,-118.9613 572.2918,-113.0956 575.5311,-123.1831 581.1147,-118.9613\"/>\n",
       "</g>\n",
       "<!-- 9 -->\n",
       "<g id=\"node10\" class=\"node\">\n",
       "<title>9</title>\n",
       "<polygon fill=\"none\" stroke=\"#000000\" stroke-width=\"2\" points=\"892.5,-113 662.5,-113 662.5,0 892.5,0 892.5,-113\"/>\n",
       "<text text-anchor=\"middle\" x=\"777.5\" y=\"-97.8\" font-family=\"Times,serif\" font-size=\"14.00\" fill=\"#000000\">Condition: RELP!=Reference person</text>\n",
       "<text text-anchor=\"middle\" x=\"777.5\" y=\"-82.8\" font-family=\"Times,serif\" font-size=\"14.00\" fill=\"#000000\">RELP=!=Reference person</text>\n",
       "<text text-anchor=\"middle\" x=\"777.5\" y=\"-67.8\" font-family=\"Times,serif\" font-size=\"14.00\" fill=\"#000000\">Criterion: 9692.719</text>\n",
       "<text text-anchor=\"middle\" x=\"777.5\" y=\"-52.8\" font-family=\"Times,serif\" font-size=\"14.00\" fill=\"#000000\">outcome: 65935.296</text>\n",
       "<text text-anchor=\"middle\" x=\"777.5\" y=\"-37.8\" font-family=\"Times,serif\" font-size=\"14.00\" fill=\"#000000\">sup_ratio: 0.440</text>\n",
       "<text text-anchor=\"middle\" x=\"777.5\" y=\"-22.8\" font-family=\"Times,serif\" font-size=\"14.00\" fill=\"#000000\">sup=0.13783 Δ=743.24763</text>\n",
       "<text text-anchor=\"middle\" x=\"777.5\" y=\"-7.8\" font-family=\"Times,serif\" font-size=\"14.00\" fill=\"#000000\">{&#39;SUM&#39;: 1778209010.0, &#39;LEN&#39;: 26969}</text>\n",
       "</g>\n",
       "<!-- 7&#45;&gt;9 -->\n",
       "<g id=\"edge9\" class=\"edge\">\n",
       "<title>7&#45;&gt;9</title>\n",
       "<path fill=\"none\" stroke=\"#000000\" d=\"M707.8882,-148.5672C714.7635,-139.474 721.7657,-130.2131 728.5495,-121.241\"/>\n",
       "<polygon fill=\"#000000\" stroke=\"#000000\" points=\"731.4689,-123.1831 734.7082,-113.0956 725.8853,-118.9613 731.4689,-123.1831\"/>\n",
       "</g>\n",
       "<!-- 11 -->\n",
       "<g id=\"node12\" class=\"node\">\n",
       "<title>11</title>\n",
       "<polygon fill=\"none\" stroke=\"#000000\" stroke-width=\"2\" points=\"1055.5,-277 825.5,-277 825.5,-164 1055.5,-164 1055.5,-277\"/>\n",
       "<text text-anchor=\"middle\" x=\"940.5\" y=\"-261.8\" font-family=\"Times,serif\" font-size=\"14.00\" fill=\"#000000\">Condition: AGEP≤43.0</text>\n",
       "<text text-anchor=\"middle\" x=\"940.5\" y=\"-246.8\" font-family=\"Times,serif\" font-size=\"14.00\" fill=\"#000000\">AGEP&lt;=43.0</text>\n",
       "<text text-anchor=\"middle\" x=\"940.5\" y=\"-231.8\" font-family=\"Times,serif\" font-size=\"14.00\" fill=\"#000000\">Criterion: 20975.673</text>\n",
       "<text text-anchor=\"middle\" x=\"940.5\" y=\"-216.8\" font-family=\"Times,serif\" font-size=\"14.00\" fill=\"#000000\">outcome: 89177.364</text>\n",
       "<text text-anchor=\"middle\" x=\"940.5\" y=\"-201.8\" font-family=\"Times,serif\" font-size=\"14.00\" fill=\"#000000\">sup_ratio: 0.474</text>\n",
       "<text text-anchor=\"middle\" x=\"940.5\" y=\"-186.8\" font-family=\"Times,serif\" font-size=\"14.00\" fill=\"#000000\">sup=0.10322 Δ=23985.31551</text>\n",
       "<text text-anchor=\"middle\" x=\"940.5\" y=\"-171.8\" font-family=\"Times,serif\" font-size=\"14.00\" fill=\"#000000\">{&#39;SUM&#39;: 1801026050.0, &#39;LEN&#39;: 20196}</text>\n",
       "</g>\n",
       "<!-- 10&#45;&gt;11 -->\n",
       "<g id=\"edge11\" class=\"edge\">\n",
       "<title>10&#45;&gt;11</title>\n",
       "<path fill=\"none\" stroke=\"#000000\" d=\"M945.3037,-327.9828C944.7002,-314.4804 944.0713,-300.4086 943.475,-287.0659\"/>\n",
       "<polygon fill=\"#000000\" stroke=\"#000000\" points=\"946.9694,-286.86 943.0263,-277.0263 939.9764,-287.1726 946.9694,-286.86\"/>\n",
       "</g>\n",
       "<!-- 12 -->\n",
       "<g id=\"node13\" class=\"node\">\n",
       "<title>12</title>\n",
       "<polygon fill=\"none\" stroke=\"#000000\" stroke-width=\"2\" points=\"1303.5,-277 1073.5,-277 1073.5,-164 1303.5,-164 1303.5,-277\"/>\n",
       "<text text-anchor=\"middle\" x=\"1188.5\" y=\"-261.8\" font-family=\"Times,serif\" font-size=\"14.00\" fill=\"#000000\">Condition: AGEP≥44.0</text>\n",
       "<text text-anchor=\"middle\" x=\"1188.5\" y=\"-246.8\" font-family=\"Times,serif\" font-size=\"14.00\" fill=\"#000000\">AGEP&gt;=44.0</text>\n",
       "<text text-anchor=\"middle\" x=\"1188.5\" y=\"-231.8\" font-family=\"Times,serif\" font-size=\"14.00\" fill=\"#000000\">Criterion: 18895.789</text>\n",
       "<text text-anchor=\"middle\" x=\"1188.5\" y=\"-216.8\" font-family=\"Times,serif\" font-size=\"14.00\" fill=\"#000000\">outcome: 129048.827</text>\n",
       "<text text-anchor=\"middle\" x=\"1188.5\" y=\"-201.8\" font-family=\"Times,serif\" font-size=\"14.00\" fill=\"#000000\">sup_ratio: 0.526</text>\n",
       "<text text-anchor=\"middle\" x=\"1188.5\" y=\"-186.8\" font-family=\"Times,serif\" font-size=\"14.00\" fill=\"#000000\">sup=0.11458 Δ=63856.77780</text>\n",
       "<text text-anchor=\"middle\" x=\"1188.5\" y=\"-171.8\" font-family=\"Times,serif\" font-size=\"14.00\" fill=\"#000000\">{&#39;SUM&#39;: 2893145644.0, &#39;LEN&#39;: 22419}</text>\n",
       "</g>\n",
       "<!-- 10&#45;&gt;12 -->\n",
       "<g id=\"edge12\" class=\"edge\">\n",
       "<title>10&#45;&gt;12</title>\n",
       "<path fill=\"none\" stroke=\"#000000\" d=\"M1044.389,-327.9828C1064.2676,-313.1567 1085.0668,-297.6439 1104.4815,-283.1638\"/>\n",
       "<polygon fill=\"#000000\" stroke=\"#000000\" points=\"1106.787,-285.8106 1112.7105,-277.0263 1102.602,-280.1994 1106.787,-285.8106\"/>\n",
       "</g>\n",
       "</g>\n",
       "</svg>\n"
      ],
      "text/plain": [
       "<graphviz.dot.Digraph at 0x7fb2b142f100>"
      ]
     },
     "execution_count": 54,
     "metadata": {},
     "output_type": "execute_result"
    }
   ],
   "source": [
    "from tree_discretization_ranking import TreeDiscretization_ranking\n",
    "\n",
    "tree_discr = TreeDiscretization_ranking()\n",
    "\n",
    "\n",
    "type_experiment = \"all_attributes\"\n",
    "\n",
    "type_criterion = \"weighted_sum_abs_reference_s\"\n",
    "\n",
    "\n",
    "generalization_dict, discretizations = tree_discr.get_tree_discretization(\n",
    "    df_analysis,\n",
    "    type_splitting=type_experiment,\n",
    "    min_support=0.1,\n",
    "    metric=metric,\n",
    "    #class_map=class_map,\n",
    "    continuous_attributes= list(continuous_attributes),\n",
    "    #class_and_pred_names=cols_c,\n",
    "    storeTree=True,\n",
    "    type_criterion = type_criterion,\n",
    "    minimal_gain = minimal_gain,\n",
    "    target_col = target\n",
    ")\n",
    "tree_discr.printDiscretizationTrees()\n",
    "\n",
    "tree_discr.trees.visualizeTreeDiGraph()"
   ]
  },
  {
   "cell_type": "code",
   "execution_count": 55,
   "metadata": {
    "ExecuteTime": {
     "end_time": "2022-01-22T09:00:40.243374Z",
     "start_time": "2022-01-22T09:00:40.158544Z"
    }
   },
   "outputs": [
    {
     "data": {
      "image/svg+xml": [
       "<?xml version=\"1.0\" encoding=\"UTF-8\" standalone=\"no\"?>\n",
       "<!DOCTYPE svg PUBLIC \"-//W3C//DTD SVG 1.1//EN\"\n",
       " \"http://www.w3.org/Graphics/SVG/1.1/DTD/svg11.dtd\">\n",
       "<!-- Generated by graphviz version 2.40.1 (20161225.0304)\n",
       " -->\n",
       "<!-- Title: %3 Pages: 1 -->\n",
       "<svg width=\"1099pt\" height=\"477pt\"\n",
       " viewBox=\"0.00 0.00 1099.00 477.00\" xmlns=\"http://www.w3.org/2000/svg\" xmlns:xlink=\"http://www.w3.org/1999/xlink\">\n",
       "<g id=\"graph0\" class=\"graph\" transform=\"scale(1 1) rotate(0) translate(4 473)\">\n",
       "<title>%3</title>\n",
       "<polygon fill=\"#ffffff\" stroke=\"transparent\" points=\"-4,4 -4,-473 1095,-473 1095,4 -4,4\"/>\n",
       "<!-- 0 -->\n",
       "<g id=\"node1\" class=\"node\">\n",
       "<title>0</title>\n",
       "<polygon fill=\"none\" stroke=\"#000000\" points=\"523,-469 349,-469 349,-416 523,-416 523,-469\"/>\n",
       "<text text-anchor=\"middle\" x=\"436\" y=\"-453.8\" font-family=\"Times,serif\" font-size=\"14.00\" fill=\"#000000\">Condition: root</text>\n",
       "<text text-anchor=\"middle\" x=\"436\" y=\"-438.8\" font-family=\"Times,serif\" font-size=\"14.00\" fill=\"#000000\">sup=1.00</text>\n",
       "<text text-anchor=\"middle\" x=\"436\" y=\"-423.8\" font-family=\"Times,serif\" font-size=\"14.00\" fill=\"#000000\">outcome=65192.049 Δ=0.00</text>\n",
       "</g>\n",
       "<!-- 1 -->\n",
       "<g id=\"node2\" class=\"node\">\n",
       "<title>1</title>\n",
       "<polygon fill=\"none\" stroke=\"#000000\" points=\"428,-380 222,-380 222,-312 428,-312 428,-380\"/>\n",
       "<text text-anchor=\"middle\" x=\"325\" y=\"-364.8\" font-family=\"Times,serif\" font-size=\"14.00\" fill=\"#000000\">Condition: WKHP≤39.0</text>\n",
       "<text text-anchor=\"middle\" x=\"325\" y=\"-349.8\" font-family=\"Times,serif\" font-size=\"14.00\" fill=\"#000000\">sup=0.30</text>\n",
       "<text text-anchor=\"middle\" x=\"325\" y=\"-334.8\" font-family=\"Times,serif\" font-size=\"14.00\" fill=\"#000000\">WKHP&lt;=39.0</text>\n",
       "<text text-anchor=\"middle\" x=\"325\" y=\"-319.8\" font-family=\"Times,serif\" font-size=\"14.00\" fill=\"#000000\">outcome=32160.842 Δ=&#45;33031.21</text>\n",
       "</g>\n",
       "<!-- 0&#45;&gt;1 -->\n",
       "<g id=\"edge1\" class=\"edge\">\n",
       "<title>0&#45;&gt;1</title>\n",
       "<path fill=\"none\" stroke=\"#000000\" d=\"M405.3749,-415.8755C395.0515,-406.9006 383.2803,-396.6671 371.9903,-386.8519\"/>\n",
       "<polygon fill=\"#000000\" stroke=\"#000000\" points=\"374.1179,-384.0639 364.2748,-380.1443 369.5253,-389.3467 374.1179,-384.0639\"/>\n",
       "</g>\n",
       "<!-- 4 -->\n",
       "<g id=\"node5\" class=\"node\">\n",
       "<title>4</title>\n",
       "<polygon fill=\"none\" stroke=\"#000000\" points=\"647.5,-380 446.5,-380 446.5,-312 647.5,-312 647.5,-380\"/>\n",
       "<text text-anchor=\"middle\" x=\"547\" y=\"-364.8\" font-family=\"Times,serif\" font-size=\"14.00\" fill=\"#000000\">Condition: WKHP≥40.0</text>\n",
       "<text text-anchor=\"middle\" x=\"547\" y=\"-349.8\" font-family=\"Times,serif\" font-size=\"14.00\" fill=\"#000000\">sup=0.70</text>\n",
       "<text text-anchor=\"middle\" x=\"547\" y=\"-334.8\" font-family=\"Times,serif\" font-size=\"14.00\" fill=\"#000000\">WKHP&gt;=40.0</text>\n",
       "<text text-anchor=\"middle\" x=\"547\" y=\"-319.8\" font-family=\"Times,serif\" font-size=\"14.00\" fill=\"#000000\">outcome=79687.120 Δ=14495.07</text>\n",
       "</g>\n",
       "<!-- 0&#45;&gt;4 -->\n",
       "<g id=\"edge4\" class=\"edge\">\n",
       "<title>0&#45;&gt;4</title>\n",
       "<path fill=\"none\" stroke=\"#000000\" d=\"M466.6251,-415.8755C476.9485,-406.9006 488.7197,-396.6671 500.0097,-386.8519\"/>\n",
       "<polygon fill=\"#000000\" stroke=\"#000000\" points=\"502.4747,-389.3467 507.7252,-380.1443 497.8821,-384.0639 502.4747,-389.3467\"/>\n",
       "</g>\n",
       "<!-- 2 -->\n",
       "<g id=\"node3\" class=\"node\">\n",
       "<title>2</title>\n",
       "<polygon fill=\"none\" stroke=\"#000000\" stroke-width=\"2\" points=\"206,-276 0,-276 0,-208 206,-208 206,-276\"/>\n",
       "<text text-anchor=\"middle\" x=\"103\" y=\"-260.8\" font-family=\"Times,serif\" font-size=\"14.00\" fill=\"#000000\">Condition: AGEP≤34.0</text>\n",
       "<text text-anchor=\"middle\" x=\"103\" y=\"-245.8\" font-family=\"Times,serif\" font-size=\"14.00\" fill=\"#000000\">sup=0.14</text>\n",
       "<text text-anchor=\"middle\" x=\"103\" y=\"-230.8\" font-family=\"Times,serif\" font-size=\"14.00\" fill=\"#000000\">AGEP&lt;=34.0</text>\n",
       "<text text-anchor=\"middle\" x=\"103\" y=\"-215.8\" font-family=\"Times,serif\" font-size=\"14.00\" fill=\"#000000\">outcome=15310.187 Δ=&#45;49881.86</text>\n",
       "</g>\n",
       "<!-- 1&#45;&gt;2 -->\n",
       "<g id=\"edge2\" class=\"edge\">\n",
       "<title>1&#45;&gt;2</title>\n",
       "<path fill=\"none\" stroke=\"#000000\" d=\"M252.3089,-311.9465C230.8433,-301.8906 207.1991,-290.814 185.1804,-280.4989\"/>\n",
       "<polygon fill=\"#000000\" stroke=\"#000000\" points=\"186.3948,-277.2028 175.8544,-276.13 183.4252,-283.5418 186.3948,-277.2028\"/>\n",
       "</g>\n",
       "<!-- 3 -->\n",
       "<g id=\"node4\" class=\"node\">\n",
       "<title>3</title>\n",
       "<polygon fill=\"none\" stroke=\"#000000\" stroke-width=\"2\" points=\"430,-276 224,-276 224,-208 430,-208 430,-276\"/>\n",
       "<text text-anchor=\"middle\" x=\"327\" y=\"-260.8\" font-family=\"Times,serif\" font-size=\"14.00\" fill=\"#000000\">Condition: AGEP≥35.0</text>\n",
       "<text text-anchor=\"middle\" x=\"327\" y=\"-245.8\" font-family=\"Times,serif\" font-size=\"14.00\" fill=\"#000000\">sup=0.17</text>\n",
       "<text text-anchor=\"middle\" x=\"327\" y=\"-230.8\" font-family=\"Times,serif\" font-size=\"14.00\" fill=\"#000000\">AGEP&gt;=35.0</text>\n",
       "<text text-anchor=\"middle\" x=\"327\" y=\"-215.8\" font-family=\"Times,serif\" font-size=\"14.00\" fill=\"#000000\">outcome=45706.769 Δ=&#45;19485.28</text>\n",
       "</g>\n",
       "<!-- 1&#45;&gt;3 -->\n",
       "<g id=\"edge3\" class=\"edge\">\n",
       "<title>1&#45;&gt;3</title>\n",
       "<path fill=\"none\" stroke=\"#000000\" d=\"M325.6549,-311.9465C325.812,-303.776 325.9821,-294.9318 326.1467,-286.3697\"/>\n",
       "<polygon fill=\"#000000\" stroke=\"#000000\" points=\"329.6506,-286.1955 326.3437,-276.13 322.6519,-286.0608 329.6506,-286.1955\"/>\n",
       "</g>\n",
       "<!-- 5 -->\n",
       "<g id=\"node6\" class=\"node\">\n",
       "<title>5</title>\n",
       "<polygon fill=\"none\" stroke=\"#000000\" points=\"639,-276 451,-276 451,-208 639,-208 639,-276\"/>\n",
       "<text text-anchor=\"middle\" x=\"545\" y=\"-260.8\" font-family=\"Times,serif\" font-size=\"14.00\" fill=\"#000000\">Condition: WKHP≤43.0</text>\n",
       "<text text-anchor=\"middle\" x=\"545\" y=\"-245.8\" font-family=\"Times,serif\" font-size=\"14.00\" fill=\"#000000\">sup=0.48</text>\n",
       "<text text-anchor=\"middle\" x=\"545\" y=\"-230.8\" font-family=\"Times,serif\" font-size=\"14.00\" fill=\"#000000\">WKHP=[40.0&#45;43.0]</text>\n",
       "<text text-anchor=\"middle\" x=\"545\" y=\"-215.8\" font-family=\"Times,serif\" font-size=\"14.00\" fill=\"#000000\">outcome=65782.767 Δ=590.72</text>\n",
       "</g>\n",
       "<!-- 4&#45;&gt;5 -->\n",
       "<g id=\"edge5\" class=\"edge\">\n",
       "<title>4&#45;&gt;5</title>\n",
       "<path fill=\"none\" stroke=\"#000000\" d=\"M546.3451,-311.9465C546.188,-303.776 546.0179,-294.9318 545.8533,-286.3697\"/>\n",
       "<polygon fill=\"#000000\" stroke=\"#000000\" points=\"549.3481,-286.0608 545.6563,-276.13 542.3494,-286.1955 549.3481,-286.0608\"/>\n",
       "</g>\n",
       "<!-- 10 -->\n",
       "<g id=\"node11\" class=\"node\">\n",
       "<title>10</title>\n",
       "<polygon fill=\"none\" stroke=\"#000000\" points=\"868,-276 660,-276 660,-208 868,-208 868,-276\"/>\n",
       "<text text-anchor=\"middle\" x=\"764\" y=\"-260.8\" font-family=\"Times,serif\" font-size=\"14.00\" fill=\"#000000\">Condition: WKHP≥44.0</text>\n",
       "<text text-anchor=\"middle\" x=\"764\" y=\"-245.8\" font-family=\"Times,serif\" font-size=\"14.00\" fill=\"#000000\">sup=0.22</text>\n",
       "<text text-anchor=\"middle\" x=\"764\" y=\"-230.8\" font-family=\"Times,serif\" font-size=\"14.00\" fill=\"#000000\">WKHP&gt;=44.0</text>\n",
       "<text text-anchor=\"middle\" x=\"764\" y=\"-215.8\" font-family=\"Times,serif\" font-size=\"14.00\" fill=\"#000000\">outcome=110153.038 Δ=44960.99</text>\n",
       "</g>\n",
       "<!-- 4&#45;&gt;10 -->\n",
       "<g id=\"edge10\" class=\"edge\">\n",
       "<title>4&#45;&gt;10</title>\n",
       "<path fill=\"none\" stroke=\"#000000\" d=\"M618.0539,-311.9465C639.0361,-301.8906 662.1477,-290.814 683.6705,-280.4989\"/>\n",
       "<polygon fill=\"#000000\" stroke=\"#000000\" points=\"685.2813,-283.6082 692.7865,-276.13 682.2559,-277.2957 685.2813,-283.6082\"/>\n",
       "</g>\n",
       "<!-- 6 -->\n",
       "<g id=\"node7\" class=\"node\">\n",
       "<title>6</title>\n",
       "<polygon fill=\"none\" stroke=\"#000000\" stroke-width=\"2\" points=\"426,-172 220,-172 220,-104 426,-104 426,-172\"/>\n",
       "<text text-anchor=\"middle\" x=\"323\" y=\"-156.8\" font-family=\"Times,serif\" font-size=\"14.00\" fill=\"#000000\">Condition: AGEP≤35.0</text>\n",
       "<text text-anchor=\"middle\" x=\"323\" y=\"-141.8\" font-family=\"Times,serif\" font-size=\"14.00\" fill=\"#000000\">sup=0.16</text>\n",
       "<text text-anchor=\"middle\" x=\"323\" y=\"-126.8\" font-family=\"Times,serif\" font-size=\"14.00\" fill=\"#000000\">AGEP&lt;=35.0</text>\n",
       "<text text-anchor=\"middle\" x=\"323\" y=\"-111.8\" font-family=\"Times,serif\" font-size=\"14.00\" fill=\"#000000\">outcome=46928.896 Δ=&#45;18263.15</text>\n",
       "</g>\n",
       "<!-- 5&#45;&gt;6 -->\n",
       "<g id=\"edge6\" class=\"edge\">\n",
       "<title>5&#45;&gt;6</title>\n",
       "<path fill=\"none\" stroke=\"#000000\" d=\"M472.3089,-207.9465C450.8433,-197.8906 427.1991,-186.814 405.1804,-176.4989\"/>\n",
       "<polygon fill=\"#000000\" stroke=\"#000000\" points=\"406.3948,-173.2028 395.8544,-172.13 403.4252,-179.5418 406.3948,-173.2028\"/>\n",
       "</g>\n",
       "<!-- 7 -->\n",
       "<g id=\"node8\" class=\"node\">\n",
       "<title>7</title>\n",
       "<polygon fill=\"none\" stroke=\"#000000\" points=\"645.5,-172 444.5,-172 444.5,-104 645.5,-104 645.5,-172\"/>\n",
       "<text text-anchor=\"middle\" x=\"545\" y=\"-156.8\" font-family=\"Times,serif\" font-size=\"14.00\" fill=\"#000000\">Condition: AGEP≥36.0</text>\n",
       "<text text-anchor=\"middle\" x=\"545\" y=\"-141.8\" font-family=\"Times,serif\" font-size=\"14.00\" fill=\"#000000\">sup=0.31</text>\n",
       "<text text-anchor=\"middle\" x=\"545\" y=\"-126.8\" font-family=\"Times,serif\" font-size=\"14.00\" fill=\"#000000\">AGEP&gt;=36.0</text>\n",
       "<text text-anchor=\"middle\" x=\"545\" y=\"-111.8\" font-family=\"Times,serif\" font-size=\"14.00\" fill=\"#000000\">outcome=75628.015 Δ=10435.97</text>\n",
       "</g>\n",
       "<!-- 5&#45;&gt;7 -->\n",
       "<g id=\"edge7\" class=\"edge\">\n",
       "<title>5&#45;&gt;7</title>\n",
       "<path fill=\"none\" stroke=\"#000000\" d=\"M545,-207.9465C545,-199.776 545,-190.9318 545,-182.3697\"/>\n",
       "<polygon fill=\"#000000\" stroke=\"#000000\" points=\"548.5001,-182.13 545,-172.13 541.5001,-182.13 548.5001,-182.13\"/>\n",
       "</g>\n",
       "<!-- 8 -->\n",
       "<g id=\"node9\" class=\"node\">\n",
       "<title>8</title>\n",
       "<polygon fill=\"none\" stroke=\"#000000\" stroke-width=\"2\" points=\"535,-68 321,-68 321,0 535,0 535,-68\"/>\n",
       "<text text-anchor=\"middle\" x=\"428\" y=\"-52.8\" font-family=\"Times,serif\" font-size=\"14.00\" fill=\"#000000\">Condition: RELP=Reference person</text>\n",
       "<text text-anchor=\"middle\" x=\"428\" y=\"-37.8\" font-family=\"Times,serif\" font-size=\"14.00\" fill=\"#000000\">sup=0.18</text>\n",
       "<text text-anchor=\"middle\" x=\"428\" y=\"-22.8\" font-family=\"Times,serif\" font-size=\"14.00\" fill=\"#000000\">RELP=Reference person</text>\n",
       "<text text-anchor=\"middle\" x=\"428\" y=\"-7.8\" font-family=\"Times,serif\" font-size=\"14.00\" fill=\"#000000\">outcome=83232.906 Δ=18040.86</text>\n",
       "</g>\n",
       "<!-- 7&#45;&gt;8 -->\n",
       "<g id=\"edge8\" class=\"edge\">\n",
       "<title>7&#45;&gt;8</title>\n",
       "<path fill=\"none\" stroke=\"#000000\" d=\"M506.6898,-103.9465C496.2859,-94.6986 484.911,-84.5876 474.1243,-74.9994\"/>\n",
       "<polygon fill=\"#000000\" stroke=\"#000000\" points=\"476.1956,-72.1577 466.3962,-68.13 471.5451,-77.3896 476.1956,-72.1577\"/>\n",
       "</g>\n",
       "<!-- 9 -->\n",
       "<g id=\"node10\" class=\"node\">\n",
       "<title>9</title>\n",
       "<polygon fill=\"none\" stroke=\"#000000\" stroke-width=\"2\" points=\"771,-68 553,-68 553,0 771,0 771,-68\"/>\n",
       "<text text-anchor=\"middle\" x=\"662\" y=\"-52.8\" font-family=\"Times,serif\" font-size=\"14.00\" fill=\"#000000\">Condition: RELP!=Reference person</text>\n",
       "<text text-anchor=\"middle\" x=\"662\" y=\"-37.8\" font-family=\"Times,serif\" font-size=\"14.00\" fill=\"#000000\">sup=0.14</text>\n",
       "<text text-anchor=\"middle\" x=\"662\" y=\"-22.8\" font-family=\"Times,serif\" font-size=\"14.00\" fill=\"#000000\">RELP=!=Reference person</text>\n",
       "<text text-anchor=\"middle\" x=\"662\" y=\"-7.8\" font-family=\"Times,serif\" font-size=\"14.00\" fill=\"#000000\">outcome=65935.296 Δ=743.25</text>\n",
       "</g>\n",
       "<!-- 7&#45;&gt;9 -->\n",
       "<g id=\"edge9\" class=\"edge\">\n",
       "<title>7&#45;&gt;9</title>\n",
       "<path fill=\"none\" stroke=\"#000000\" d=\"M583.3102,-103.9465C593.7141,-94.6986 605.089,-84.5876 615.8757,-74.9994\"/>\n",
       "<polygon fill=\"#000000\" stroke=\"#000000\" points=\"618.4549,-77.3896 623.6038,-68.13 613.8044,-72.1577 618.4549,-77.3896\"/>\n",
       "</g>\n",
       "<!-- 11 -->\n",
       "<g id=\"node12\" class=\"node\">\n",
       "<title>11</title>\n",
       "<polygon fill=\"none\" stroke=\"#000000\" stroke-width=\"2\" points=\"864.5,-172 663.5,-172 663.5,-104 864.5,-104 864.5,-172\"/>\n",
       "<text text-anchor=\"middle\" x=\"764\" y=\"-156.8\" font-family=\"Times,serif\" font-size=\"14.00\" fill=\"#000000\">Condition: AGEP≤43.0</text>\n",
       "<text text-anchor=\"middle\" x=\"764\" y=\"-141.8\" font-family=\"Times,serif\" font-size=\"14.00\" fill=\"#000000\">sup=0.10</text>\n",
       "<text text-anchor=\"middle\" x=\"764\" y=\"-126.8\" font-family=\"Times,serif\" font-size=\"14.00\" fill=\"#000000\">AGEP&lt;=43.0</text>\n",
       "<text text-anchor=\"middle\" x=\"764\" y=\"-111.8\" font-family=\"Times,serif\" font-size=\"14.00\" fill=\"#000000\">outcome=89177.364 Δ=23985.32</text>\n",
       "</g>\n",
       "<!-- 10&#45;&gt;11 -->\n",
       "<g id=\"edge11\" class=\"edge\">\n",
       "<title>10&#45;&gt;11</title>\n",
       "<path fill=\"none\" stroke=\"#000000\" d=\"M764,-207.9465C764,-199.776 764,-190.9318 764,-182.3697\"/>\n",
       "<polygon fill=\"#000000\" stroke=\"#000000\" points=\"767.5001,-182.13 764,-172.13 760.5001,-182.13 767.5001,-182.13\"/>\n",
       "</g>\n",
       "<!-- 12 -->\n",
       "<g id=\"node13\" class=\"node\">\n",
       "<title>12</title>\n",
       "<polygon fill=\"none\" stroke=\"#000000\" stroke-width=\"2\" points=\"1091,-172 883,-172 883,-104 1091,-104 1091,-172\"/>\n",
       "<text text-anchor=\"middle\" x=\"987\" y=\"-156.8\" font-family=\"Times,serif\" font-size=\"14.00\" fill=\"#000000\">Condition: AGEP≥44.0</text>\n",
       "<text text-anchor=\"middle\" x=\"987\" y=\"-141.8\" font-family=\"Times,serif\" font-size=\"14.00\" fill=\"#000000\">sup=0.11</text>\n",
       "<text text-anchor=\"middle\" x=\"987\" y=\"-126.8\" font-family=\"Times,serif\" font-size=\"14.00\" fill=\"#000000\">AGEP&gt;=44.0</text>\n",
       "<text text-anchor=\"middle\" x=\"987\" y=\"-111.8\" font-family=\"Times,serif\" font-size=\"14.00\" fill=\"#000000\">outcome=129048.827 Δ=63856.78</text>\n",
       "</g>\n",
       "<!-- 10&#45;&gt;12 -->\n",
       "<g id=\"edge12\" class=\"edge\">\n",
       "<title>10&#45;&gt;12</title>\n",
       "<path fill=\"none\" stroke=\"#000000\" d=\"M837.0185,-207.9465C858.6771,-197.8457 882.5437,-186.7151 904.7456,-176.3608\"/>\n",
       "<polygon fill=\"#000000\" stroke=\"#000000\" points=\"906.2339,-179.5287 913.8174,-172.13 903.2752,-173.1847 906.2339,-179.5287\"/>\n",
       "</g>\n",
       "</g>\n",
       "</svg>\n"
      ],
      "text/plain": [
       "<graphviz.dot.Digraph at 0x7fb2affebf40>"
      ]
     },
     "execution_count": 55,
     "metadata": {},
     "output_type": "execute_result"
    }
   ],
   "source": [
    "tree_discr.trees.visualizeTreeDiGraph(all_info = False)"
   ]
  },
  {
   "cell_type": "code",
   "execution_count": 59,
   "metadata": {
    "ExecuteTime": {
     "end_time": "2022-01-22T09:00:40.307571Z",
     "start_time": "2022-01-22T09:00:40.296463Z"
    }
   },
   "outputs": [
    {
     "data": {
      "text/plain": [
       "(5, 7)"
      ]
     },
     "execution_count": 59,
     "metadata": {},
     "output_type": "execute_result"
    }
   ],
   "source": [
    "tree_discr.get_number_nodes()"
   ]
  },
  {
   "cell_type": "markdown",
   "metadata": {},
   "source": [
    "## min_sup_divergence  = 0.1"
   ]
  },
  {
   "cell_type": "code",
   "execution_count": 60,
   "metadata": {
    "ExecuteTime": {
     "end_time": "2022-01-22T09:00:40.337247Z",
     "start_time": "2022-01-22T09:00:40.309062Z"
    }
   },
   "outputs": [
    {
     "data": {
      "text/plain": [
       "65192.04881813304"
      ]
     },
     "execution_count": 60,
     "metadata": {},
     "output_type": "execute_result"
    }
   ],
   "source": [
    "df_analysis[\"income\"].describe()[\"mean\"]"
   ]
  },
  {
   "cell_type": "code",
   "execution_count": 61,
   "metadata": {
    "ExecuteTime": {
     "end_time": "2022-01-22T09:00:40.351018Z",
     "start_time": "2022-01-22T09:00:40.338949Z"
    }
   },
   "outputs": [
    {
     "data": {
      "text/plain": [
       "True"
      ]
     },
     "execution_count": 61,
     "metadata": {},
     "output_type": "execute_result"
    }
   ],
   "source": [
    "allow_overalp = (\n",
    "    True if type_experiment == \"all_attributes\" else False\n",
    ")\n",
    "allow_overalp"
   ]
  },
  {
   "cell_type": "markdown",
   "metadata": {},
   "source": [
    "### With Generalization "
   ]
  },
  {
   "cell_type": "code",
   "execution_count": 74,
   "metadata": {
    "ExecuteTime": {
     "end_time": "2022-01-22T10:58:38.658007Z",
     "start_time": "2022-01-22T10:57:33.028563Z"
    }
   },
   "outputs": [],
   "source": [
    "from utils_extract_divergence_generalized_ranking import (\n",
    "    extract_divergence_generalized,\n",
    ")\n",
    "\n",
    "FP_fm_True = extract_divergence_generalized(\n",
    "    df_analysis,\n",
    "    discretizations,\n",
    "    generalization_dict,\n",
    "    continuous_attributes,\n",
    "    min_sup_divergence=0.1,\n",
    "    apply_generalization=True,\n",
    "    #true_class_name=pred_name,\n",
    "    #predicted_class_name=class_name,\n",
    "    target_name = target,\n",
    "    #class_map=class_map,\n",
    "    FPM_type=\"fpgrowth\",\n",
    "    metrics_divergence = [\"d_outcome\"],\n",
    "    type_experiment = type_experiment,\n",
    "    allow_overalp = False if type_experiment!=\"all_attributes\" else True\n",
    ")"
   ]
  },
  {
   "cell_type": "code",
   "execution_count": 63,
   "metadata": {
    "ExecuteTime": {
     "end_time": "2022-01-22T09:00:51.465484Z",
     "start_time": "2022-01-22T09:00:51.449395Z"
    }
   },
   "outputs": [
    {
     "data": {
      "text/plain": [
       "1347"
      ]
     },
     "execution_count": 63,
     "metadata": {},
     "output_type": "execute_result"
    }
   ],
   "source": [
    "len(FP_fm_True)"
   ]
  },
  {
   "cell_type": "code",
   "execution_count": 64,
   "metadata": {
    "ExecuteTime": {
     "end_time": "2022-01-22T09:00:51.483930Z",
     "start_time": "2022-01-22T09:00:51.466898Z"
    },
    "scrolled": true
   },
   "outputs": [
    {
     "data": {
      "text/html": [
       "<div>\n",
       "<style scoped>\n",
       "    .dataframe tbody tr th:only-of-type {\n",
       "        vertical-align: middle;\n",
       "    }\n",
       "\n",
       "    .dataframe tbody tr th {\n",
       "        vertical-align: top;\n",
       "    }\n",
       "\n",
       "    .dataframe thead th {\n",
       "        text-align: right;\n",
       "    }\n",
       "</style>\n",
       "<table border=\"1\" class=\"dataframe\">\n",
       "  <thead>\n",
       "    <tr style=\"text-align: right;\">\n",
       "      <th></th>\n",
       "      <th>support</th>\n",
       "      <th>itemsets</th>\n",
       "      <th>length</th>\n",
       "      <th>support_count</th>\n",
       "      <th>outcome</th>\n",
       "      <th>d_outcome</th>\n",
       "      <th>t_value_outcome</th>\n",
       "    </tr>\n",
       "  </thead>\n",
       "  <tbody>\n",
       "    <tr>\n",
       "      <th>1267</th>\n",
       "      <td>0.102870</td>\n",
       "      <td>(WKHP=&gt;=44.0, SEX=Male, AGEP=&gt;=36.0)</td>\n",
       "      <td>3</td>\n",
       "      <td>20128.0</td>\n",
       "      <td>136866.079293</td>\n",
       "      <td>71674.030474</td>\n",
       "      <td>69.923427</td>\n",
       "    </tr>\n",
       "    <tr>\n",
       "      <th>1265</th>\n",
       "      <td>0.102870</td>\n",
       "      <td>(WKHP=&gt;=44.0, SEX=Male, AGEP=&gt;=36.0, WKHP=&gt;=40.0)</td>\n",
       "      <td>4</td>\n",
       "      <td>20128.0</td>\n",
       "      <td>136866.079293</td>\n",
       "      <td>71674.030474</td>\n",
       "      <td>69.923427</td>\n",
       "    </tr>\n",
       "    <tr>\n",
       "      <th>1264</th>\n",
       "      <td>0.102870</td>\n",
       "      <td>(AGEP=&gt;=35.0, WKHP=&gt;=40.0, WKHP=&gt;=44.0, AGEP=&gt;=36.0, SEX=Male)</td>\n",
       "      <td>5</td>\n",
       "      <td>20128.0</td>\n",
       "      <td>136866.079293</td>\n",
       "      <td>71674.030474</td>\n",
       "      <td>69.923427</td>\n",
       "    </tr>\n",
       "    <tr>\n",
       "      <th>1266</th>\n",
       "      <td>0.102870</td>\n",
       "      <td>(SEX=Male, WKHP=&gt;=44.0, AGEP=&gt;=35.0, AGEP=&gt;=36.0)</td>\n",
       "      <td>4</td>\n",
       "      <td>20128.0</td>\n",
       "      <td>136866.079293</td>\n",
       "      <td>71674.030474</td>\n",
       "      <td>69.923427</td>\n",
       "    </tr>\n",
       "    <tr>\n",
       "      <th>1097</th>\n",
       "      <td>0.109672</td>\n",
       "      <td>(AGEP=&gt;=35.0, WKHP=&gt;=40.0, WKHP=&gt;=44.0, MAR=Married, AGEP=&gt;=36.0)</td>\n",
       "      <td>5</td>\n",
       "      <td>21459.0</td>\n",
       "      <td>136644.643926</td>\n",
       "      <td>71452.595107</td>\n",
       "      <td>72.611023</td>\n",
       "    </tr>\n",
       "  </tbody>\n",
       "</table>\n",
       "</div>"
      ],
      "text/plain": [
       "       support  \\\n",
       "1267  0.102870   \n",
       "1265  0.102870   \n",
       "1264  0.102870   \n",
       "1266  0.102870   \n",
       "1097  0.109672   \n",
       "\n",
       "                                                               itemsets  \\\n",
       "1267                               (WKHP=>=44.0, SEX=Male, AGEP=>=36.0)   \n",
       "1265                  (WKHP=>=44.0, SEX=Male, AGEP=>=36.0, WKHP=>=40.0)   \n",
       "1264     (AGEP=>=35.0, WKHP=>=40.0, WKHP=>=44.0, AGEP=>=36.0, SEX=Male)   \n",
       "1266                  (SEX=Male, WKHP=>=44.0, AGEP=>=35.0, AGEP=>=36.0)   \n",
       "1097  (AGEP=>=35.0, WKHP=>=40.0, WKHP=>=44.0, MAR=Married, AGEP=>=36.0)   \n",
       "\n",
       "      length  support_count        outcome     d_outcome  t_value_outcome  \n",
       "1267       3        20128.0  136866.079293  71674.030474        69.923427  \n",
       "1265       4        20128.0  136866.079293  71674.030474        69.923427  \n",
       "1264       5        20128.0  136866.079293  71674.030474        69.923427  \n",
       "1266       4        20128.0  136866.079293  71674.030474        69.923427  \n",
       "1097       5        21459.0  136644.643926  71452.595107        72.611023  "
      ]
     },
     "execution_count": 64,
     "metadata": {},
     "output_type": "execute_result"
    }
   ],
   "source": [
    "FP_fm_True.sort_values(metric, ascending = False).head()"
   ]
  },
  {
   "cell_type": "code",
   "execution_count": 65,
   "metadata": {
    "ExecuteTime": {
     "end_time": "2022-01-22T09:00:51.494848Z",
     "start_time": "2022-01-22T09:00:51.485540Z"
    }
   },
   "outputs": [
    {
     "data": {
      "text/plain": [
       "1347"
      ]
     },
     "execution_count": 65,
     "metadata": {},
     "output_type": "execute_result"
    }
   ],
   "source": [
    "len(FP_fm_True)"
   ]
  },
  {
   "cell_type": "markdown",
   "metadata": {},
   "source": [
    "## min_sup_divergence  = 0.05"
   ]
  },
  {
   "cell_type": "code",
   "execution_count": 66,
   "metadata": {
    "ExecuteTime": {
     "end_time": "2022-01-22T09:00:51.523428Z",
     "start_time": "2022-01-22T09:00:51.496036Z"
    }
   },
   "outputs": [
    {
     "data": {
      "text/plain": [
       "65192.04881813304"
      ]
     },
     "execution_count": 66,
     "metadata": {},
     "output_type": "execute_result"
    }
   ],
   "source": [
    "df_analysis[\"income\"].describe()[\"mean\"]"
   ]
  },
  {
   "cell_type": "code",
   "execution_count": 67,
   "metadata": {
    "ExecuteTime": {
     "end_time": "2022-01-22T09:00:51.539134Z",
     "start_time": "2022-01-22T09:00:51.525062Z"
    }
   },
   "outputs": [
    {
     "data": {
      "text/plain": [
       "True"
      ]
     },
     "execution_count": 67,
     "metadata": {},
     "output_type": "execute_result"
    }
   ],
   "source": [
    "allow_overalp = (\n",
    "    True if type_experiment == \"all_attributes\" else False\n",
    ")\n",
    "allow_overalp"
   ]
  },
  {
   "cell_type": "markdown",
   "metadata": {},
   "source": [
    "### With Generalization "
   ]
  },
  {
   "cell_type": "code",
   "execution_count": 75,
   "metadata": {
    "ExecuteTime": {
     "end_time": "2022-01-22T11:01:29.850485Z",
     "start_time": "2022-01-22T11:01:00.196943Z"
    }
   },
   "outputs": [],
   "source": [
    "from utils_extract_divergence_generalized_ranking import (\n",
    "    extract_divergence_generalized,\n",
    ")\n",
    "\n",
    "FP_fm_True = extract_divergence_generalized(\n",
    "    df_analysis,\n",
    "    discretizations,\n",
    "    generalization_dict,\n",
    "    continuous_attributes,\n",
    "    min_sup_divergence=0.05,\n",
    "    apply_generalization=True,\n",
    "    target_name = target,\n",
    "    FPM_type=\"fpgrowth\",\n",
    "    metrics_divergence = [\"d_outcome\"],\n",
    "    type_experiment = type_experiment,\n",
    "    allow_overalp = False if type_experiment!=\"all_attributes\" else True\n",
    ")"
   ]
  },
  {
   "cell_type": "code",
   "execution_count": 70,
   "metadata": {
    "ExecuteTime": {
     "end_time": "2022-01-22T09:06:16.288880Z",
     "start_time": "2022-01-22T09:06:16.257053Z"
    },
    "scrolled": true
   },
   "outputs": [
    {
     "data": {
      "text/html": [
       "<div>\n",
       "<style scoped>\n",
       "    .dataframe tbody tr th:only-of-type {\n",
       "        vertical-align: middle;\n",
       "    }\n",
       "\n",
       "    .dataframe tbody tr th {\n",
       "        vertical-align: top;\n",
       "    }\n",
       "\n",
       "    .dataframe thead th {\n",
       "        text-align: right;\n",
       "    }\n",
       "</style>\n",
       "<table border=\"1\" class=\"dataframe\">\n",
       "  <thead>\n",
       "    <tr style=\"text-align: right;\">\n",
       "      <th></th>\n",
       "      <th>support</th>\n",
       "      <th>itemsets</th>\n",
       "      <th>length</th>\n",
       "      <th>support_count</th>\n",
       "      <th>outcome</th>\n",
       "      <th>d_outcome</th>\n",
       "      <th>t_value_outcome</th>\n",
       "    </tr>\n",
       "  </thead>\n",
       "  <tbody>\n",
       "    <tr>\n",
       "      <th>3756</th>\n",
       "      <td>0.055774</td>\n",
       "      <td>(RAC1P=White alone, WKHP=&gt;=44.0, MAR=Married, AGEP=&gt;=36.0, SEX=Male)</td>\n",
       "      <td>5</td>\n",
       "      <td>10913.0</td>\n",
       "      <td>156034.659947</td>\n",
       "      <td>90842.611129</td>\n",
       "      <td>61.541257</td>\n",
       "    </tr>\n",
       "    <tr>\n",
       "      <th>3757</th>\n",
       "      <td>0.055774</td>\n",
       "      <td>(AGEP=&gt;=35.0, RAC1P=White alone, WKHP=&gt;=44.0, MAR=Married, AGEP=&gt;=36.0, SEX=Male)</td>\n",
       "      <td>6</td>\n",
       "      <td>10913.0</td>\n",
       "      <td>156034.659947</td>\n",
       "      <td>90842.611129</td>\n",
       "      <td>61.541257</td>\n",
       "    </tr>\n",
       "    <tr>\n",
       "      <th>3755</th>\n",
       "      <td>0.055774</td>\n",
       "      <td>(RAC1P=White alone, WKHP=&gt;=40.0, WKHP=&gt;=44.0, MAR=Married, AGEP=&gt;=36.0, SEX=Male)</td>\n",
       "      <td>6</td>\n",
       "      <td>10913.0</td>\n",
       "      <td>156034.659947</td>\n",
       "      <td>90842.611129</td>\n",
       "      <td>61.541257</td>\n",
       "    </tr>\n",
       "    <tr>\n",
       "      <th>3754</th>\n",
       "      <td>0.055774</td>\n",
       "      <td>(AGEP=&gt;=35.0, WKHP=&gt;=40.0, RAC1P=White alone, WKHP=&gt;=44.0, MAR=Married, AGEP=&gt;=36.0, SEX=Male)</td>\n",
       "      <td>7</td>\n",
       "      <td>10913.0</td>\n",
       "      <td>156034.659947</td>\n",
       "      <td>90842.611129</td>\n",
       "      <td>61.541257</td>\n",
       "    </tr>\n",
       "    <tr>\n",
       "      <th>3581</th>\n",
       "      <td>0.057287</td>\n",
       "      <td>(AGEP=&gt;=35.0, RAC1P=White alone, WKHP=&gt;=44.0, MAR=Married, SEX=Male)</td>\n",
       "      <td>5</td>\n",
       "      <td>11209.0</td>\n",
       "      <td>155382.353823</td>\n",
       "      <td>90190.305005</td>\n",
       "      <td>62.047340</td>\n",
       "    </tr>\n",
       "  </tbody>\n",
       "</table>\n",
       "</div>"
      ],
      "text/plain": [
       "       support  \\\n",
       "3756  0.055774   \n",
       "3757  0.055774   \n",
       "3755  0.055774   \n",
       "3754  0.055774   \n",
       "3581  0.057287   \n",
       "\n",
       "                                                                                            itemsets  \\\n",
       "3756                            (RAC1P=White alone, WKHP=>=44.0, MAR=Married, AGEP=>=36.0, SEX=Male)   \n",
       "3757               (AGEP=>=35.0, RAC1P=White alone, WKHP=>=44.0, MAR=Married, AGEP=>=36.0, SEX=Male)   \n",
       "3755               (RAC1P=White alone, WKHP=>=40.0, WKHP=>=44.0, MAR=Married, AGEP=>=36.0, SEX=Male)   \n",
       "3754  (AGEP=>=35.0, WKHP=>=40.0, RAC1P=White alone, WKHP=>=44.0, MAR=Married, AGEP=>=36.0, SEX=Male)   \n",
       "3581                            (AGEP=>=35.0, RAC1P=White alone, WKHP=>=44.0, MAR=Married, SEX=Male)   \n",
       "\n",
       "      length  support_count        outcome     d_outcome  t_value_outcome  \n",
       "3756       5        10913.0  156034.659947  90842.611129        61.541257  \n",
       "3757       6        10913.0  156034.659947  90842.611129        61.541257  \n",
       "3755       6        10913.0  156034.659947  90842.611129        61.541257  \n",
       "3754       7        10913.0  156034.659947  90842.611129        61.541257  \n",
       "3581       5        11209.0  155382.353823  90190.305005        62.047340  "
      ]
     },
     "execution_count": 70,
     "metadata": {},
     "output_type": "execute_result"
    }
   ],
   "source": [
    "FP_fm_True.sort_values(metric, ascending = False).head()"
   ]
  },
  {
   "cell_type": "code",
   "execution_count": 71,
   "metadata": {
    "ExecuteTime": {
     "end_time": "2022-01-22T09:06:17.171367Z",
     "start_time": "2022-01-22T09:06:17.143596Z"
    }
   },
   "outputs": [
    {
     "data": {
      "text/plain": [
       "4467"
      ]
     },
     "execution_count": 71,
     "metadata": {},
     "output_type": "execute_result"
    }
   ],
   "source": [
    "len(FP_fm_True)"
   ]
  }
 ],
 "metadata": {
  "hide_input": false,
  "kernelspec": {
   "display_name": "divexplrank",
   "language": "python",
   "name": "divexplrank"
  },
  "language_info": {
   "codemirror_mode": {
    "name": "ipython",
    "version": 3
   },
   "file_extension": ".py",
   "mimetype": "text/x-python",
   "name": "python",
   "nbconvert_exporter": "python",
   "pygments_lexer": "ipython3",
   "version": "3.9.5"
  },
  "toc": {
   "base_numbering": 1,
   "nav_menu": {},
   "number_sections": true,
   "sideBar": true,
   "skip_h1_title": false,
   "title_cell": "Table of Contents",
   "title_sidebar": "Contents",
   "toc_cell": false,
   "toc_position": {
    "height": "calc(100% - 180px)",
    "left": "10px",
    "top": "150px",
    "width": "342px"
   },
   "toc_section_display": true,
   "toc_window_display": true
  },
  "varInspector": {
   "cols": {
    "lenName": 16,
    "lenType": 16,
    "lenVar": 40
   },
   "kernels_config": {
    "python": {
     "delete_cmd_postfix": "",
     "delete_cmd_prefix": "del ",
     "library": "var_list.py",
     "varRefreshCmd": "print(var_dic_list())"
    },
    "r": {
     "delete_cmd_postfix": ") ",
     "delete_cmd_prefix": "rm(",
     "library": "var_list.r",
     "varRefreshCmd": "cat(var_dic_list()) "
    }
   },
   "types_to_exclude": [
    "module",
    "function",
    "builtin_function_or_method",
    "instance",
    "_Feature"
   ],
   "window_display": false
  }
 },
 "nbformat": 4,
 "nbformat_minor": 5
}
