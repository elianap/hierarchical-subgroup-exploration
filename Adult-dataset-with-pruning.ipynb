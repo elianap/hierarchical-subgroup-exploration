{
 "cells": [
  {
   "cell_type": "code",
   "execution_count": 86,
   "id": "67c0fa62",
   "metadata": {
    "ExecuteTime": {
     "end_time": "2022-12-21T09:18:31.088572Z",
     "start_time": "2022-12-21T09:18:31.064717Z"
    }
   },
   "outputs": [
    {
     "name": "stdout",
     "output_type": "stream",
     "text": [
      "The autoreload extension is already loaded. To reload it, use:\n",
      "  %reload_ext autoreload\n"
     ]
    }
   ],
   "source": [
    "%load_ext autoreload\n",
    "%autoreload 2"
   ]
  },
  {
   "cell_type": "code",
   "execution_count": 87,
   "id": "ff4af8df",
   "metadata": {
    "ExecuteTime": {
     "end_time": "2022-12-21T09:18:31.206171Z",
     "start_time": "2022-12-21T09:18:31.090829Z"
    }
   },
   "outputs": [],
   "source": [
    "import warnings\n",
    "warnings.filterwarnings(\"ignore\")"
   ]
  },
  {
   "cell_type": "code",
   "execution_count": 88,
   "id": "8b4c5533",
   "metadata": {
    "ExecuteTime": {
     "end_time": "2022-12-21T09:18:31.700348Z",
     "start_time": "2022-12-21T09:18:31.209967Z"
    }
   },
   "outputs": [],
   "source": [
    "import os\n",
    "import numpy as np\n",
    "import pandas as pd\n",
    "from divexplorer_generalized.FP_Divergence import FP_Divergence"
   ]
  },
  {
   "cell_type": "markdown",
   "id": "27d0b123",
   "metadata": {},
   "source": [
    "# Import data"
   ]
  },
  {
   "cell_type": "code",
   "execution_count": 89,
   "id": "808ce3d9",
   "metadata": {
    "ExecuteTime": {
     "end_time": "2022-12-21T09:18:31.719296Z",
     "start_time": "2022-12-21T09:18:31.703535Z"
    }
   },
   "outputs": [],
   "source": [
    "dataset_name = \"adult\""
   ]
  },
  {
   "cell_type": "code",
   "execution_count": 90,
   "id": "670f380e",
   "metadata": {
    "ExecuteTime": {
     "end_time": "2022-12-21T09:18:31.904214Z",
     "start_time": "2022-12-21T09:18:31.720818Z"
    }
   },
   "outputs": [],
   "source": [
    "DATASET_DIR = os.path.join(os.path.curdir, \"datasets\")\n",
    "\n",
    "def import_process_adult(discretize=False, bins=3, inputDir=DATASET_DIR):\n",
    "    education_map = {\n",
    "        \"10th\": \"Dropout\",\n",
    "        \"11th\": \"Dropout\",\n",
    "        \"12th\": \"Dropout\",\n",
    "        \"1st-4th\": \"Dropout\",\n",
    "        \"5th-6th\": \"Dropout\",\n",
    "        \"7th-8th\": \"Dropout\",\n",
    "        \"9th\": \"Dropout\",\n",
    "        \"Preschool\": \"Dropout\",\n",
    "        \"HS-grad\": \"High School grad\",\n",
    "        \"Some-college\": \"High School grad\",\n",
    "        \"Masters\": \"Masters\",\n",
    "        \"Prof-school\": \"Prof-School\",\n",
    "        \"Assoc-acdm\": \"Associates\",\n",
    "        \"Assoc-voc\": \"Associates\",\n",
    "    }\n",
    "    occupation_map = {\n",
    "        \"Adm-clerical\": \"Admin\",\n",
    "        \"Armed-Forces\": \"Military\",\n",
    "        \"Craft-repair\": \"Blue-Collar\",\n",
    "        \"Exec-managerial\": \"White-Collar\",\n",
    "        \"Farming-fishing\": \"Blue-Collar\",\n",
    "        \"Handlers-cleaners\": \"Blue-Collar\",\n",
    "        \"Machine-op-inspct\": \"Blue-Collar\",\n",
    "        \"Other-service\": \"Service\",\n",
    "        \"Priv-house-serv\": \"Service\",\n",
    "        \"Prof-specialty\": \"Professional\",\n",
    "        \"Protective-serv\": \"Other\",\n",
    "        \"Sales\": \"Sales\",\n",
    "        \"Tech-support\": \"Other\",\n",
    "        \"Transport-moving\": \"Blue-Collar\",\n",
    "    }\n",
    "    married_map = {\n",
    "        \"Never-married\": \"Never-Married\",\n",
    "        \"Married-AF-spouse\": \"Married\",\n",
    "        \"Married-civ-spouse\": \"Married\",\n",
    "        \"Married-spouse-absent\": \"Separated\",\n",
    "        \"Separated\": \"Separated\",\n",
    "        \"Divorced\": \"Separated\",\n",
    "        \"Widowed\": \"Widowed\",\n",
    "    }\n",
    "\n",
    "    country_map = {\n",
    "        \"Cambodia\": \"SE-Asia\",\n",
    "        \"Canada\": \"British-Commonwealth\",\n",
    "        \"China\": \"China\",\n",
    "        \"Columbia\": \"South-America\",\n",
    "        \"Cuba\": \"Other\",\n",
    "        \"Dominican-Republic\": \"Latin-America\",\n",
    "        \"Ecuador\": \"South-America\",\n",
    "        \"El-Salvador\": \"South-America\",\n",
    "        \"England\": \"British-Commonwealth\",\n",
    "        \"France\": \"Euro_1\",\n",
    "        \"Germany\": \"Euro_1\",\n",
    "        \"Greece\": \"Euro_2\",\n",
    "        \"Guatemala\": \"Latin-America\",\n",
    "        \"Haiti\": \"Latin-America\",\n",
    "        \"Holand-Netherlands\": \"Euro_1\",\n",
    "        \"Honduras\": \"Latin-America\",\n",
    "        \"Hong\": \"China\",\n",
    "        \"Hungary\": \"Euro_2\",\n",
    "        \"India\": \"British-Commonwealth\",\n",
    "        \"Iran\": \"Other\",\n",
    "        \"Ireland\": \"British-Commonwealth\",\n",
    "        \"Italy\": \"Euro_1\",\n",
    "        \"Jamaica\": \"Latin-America\",\n",
    "        \"Japan\": \"Other\",\n",
    "        \"Laos\": \"SE-Asia\",\n",
    "        \"Mexico\": \"Latin-America\",\n",
    "        \"Nicaragua\": \"Latin-America\",\n",
    "        \"Outlying-US(Guam-USVI-etc)\": \"Latin-America\",\n",
    "        \"Peru\": \"South-America\",\n",
    "        \"Philippines\": \"SE-Asia\",\n",
    "        \"Poland\": \"Euro_2\",\n",
    "        \"Portugal\": \"Euro_2\",\n",
    "        \"Puerto-Rico\": \"Latin-America\",\n",
    "        \"Scotland\": \"British-Commonwealth\",\n",
    "        \"South\": \"Euro_2\",\n",
    "        \"Taiwan\": \"China\",\n",
    "        \"Thailand\": \"SE-Asia\",\n",
    "        \"Trinadad&Tobago\": \"Latin-America\",\n",
    "        \"United-States\": \"United-States\",\n",
    "        \"Vietnam\": \"SE-Asia\",\n",
    "    }\n",
    "    # as given by adult.names\n",
    "    column_names = [\n",
    "        \"age\",\n",
    "        \"workclass\",\n",
    "        \"fnlwgt\",\n",
    "        \"education\",\n",
    "        \"education-num\",\n",
    "        \"marital-status\",\n",
    "        \"occupation\",\n",
    "        \"relationship\",\n",
    "        \"race\",\n",
    "        \"sex\",\n",
    "        \"capital-gain\",\n",
    "        \"capital-loss\",\n",
    "        \"hours-per-week\",\n",
    "        \"native-country\",\n",
    "        \"income-per-year\",\n",
    "    ]\n",
    "\n",
    "    #check_dataset_availability(\"credit-g.csv\", inputDir=inputDir)\n",
    "    train = pd.read_csv(\n",
    "        os.path.join(inputDir, \"adult.data\"),\n",
    "        header=None,\n",
    "        names=column_names,\n",
    "        skipinitialspace=True,\n",
    "        na_values=\"?\",\n",
    "    )\n",
    "\n",
    "    #check_dataset_availability(\"adult.test\", inputDir=inputDir)\n",
    "\n",
    "    test = pd.read_csv(\n",
    "        os.path.join(inputDir, \"adult.test\"),\n",
    "        header=0,\n",
    "        names=column_names,\n",
    "        skipinitialspace=True,\n",
    "        na_values=\"?\",\n",
    "    )\n",
    "    dt = pd.concat([test, train], ignore_index=True)\n",
    "    dt[\"education\"] = dt[\"education\"].replace(education_map)\n",
    "    dt.drop(columns=[\"education-num\", \"fnlwgt\"], inplace=True)\n",
    "    dt[\"occupation\"] = dt[\"occupation\"].replace(occupation_map)\n",
    "    dt[\"marital-status\"] = dt[\"marital-status\"].replace(married_map)\n",
    "    dt[\"native-country\"] = dt[\"native-country\"].replace(country_map)\n",
    "\n",
    "    dt.rename(columns={\"income-per-year\": \"class\"}, inplace=True)\n",
    "    dt[\"class\"] = (\n",
    "        dt[\"class\"].astype(\"str\").replace({\">50K.\": \">50K\", \"<=50K.\": \"<=50K\"})\n",
    "    )\n",
    "    dt.dropna(inplace=True)\n",
    "    dt.reset_index(drop=True, inplace=True)\n",
    "    if discretize:\n",
    "        dt = KBinsDiscretizer_continuos(dt, bins=bins)\n",
    "    dt.drop(columns=[\"native-country\"], inplace=True)\n",
    "    return dt, {\"N\": \"<=50K\", \"P\": \">50K\"}\n"
   ]
  },
  {
   "cell_type": "code",
   "execution_count": 91,
   "id": "4a118017",
   "metadata": {
    "ExecuteTime": {
     "end_time": "2022-12-21T09:18:32.344032Z",
     "start_time": "2022-12-21T09:18:31.905834Z"
    }
   },
   "outputs": [],
   "source": [
    "df, class_map = import_process_adult()"
   ]
  },
  {
   "cell_type": "code",
   "execution_count": 92,
   "id": "f772224c",
   "metadata": {
    "ExecuteTime": {
     "end_time": "2022-12-21T09:18:32.435681Z",
     "start_time": "2022-12-21T09:18:32.346297Z"
    }
   },
   "outputs": [
    {
     "data": {
      "text/html": [
       "<div>\n",
       "<style scoped>\n",
       "    .dataframe tbody tr th:only-of-type {\n",
       "        vertical-align: middle;\n",
       "    }\n",
       "\n",
       "    .dataframe tbody tr th {\n",
       "        vertical-align: top;\n",
       "    }\n",
       "\n",
       "    .dataframe thead th {\n",
       "        text-align: right;\n",
       "    }\n",
       "</style>\n",
       "<table border=\"1\" class=\"dataframe\">\n",
       "  <thead>\n",
       "    <tr style=\"text-align: right;\">\n",
       "      <th></th>\n",
       "      <th>age</th>\n",
       "      <th>capital-gain</th>\n",
       "      <th>capital-loss</th>\n",
       "      <th>hours-per-week</th>\n",
       "    </tr>\n",
       "  </thead>\n",
       "  <tbody>\n",
       "    <tr>\n",
       "      <th>count</th>\n",
       "      <td>45222.000000</td>\n",
       "      <td>45222.000000</td>\n",
       "      <td>45222.000000</td>\n",
       "      <td>45222.000000</td>\n",
       "    </tr>\n",
       "    <tr>\n",
       "      <th>mean</th>\n",
       "      <td>38.547941</td>\n",
       "      <td>1101.430344</td>\n",
       "      <td>88.595418</td>\n",
       "      <td>40.938017</td>\n",
       "    </tr>\n",
       "    <tr>\n",
       "      <th>std</th>\n",
       "      <td>13.217870</td>\n",
       "      <td>7506.430084</td>\n",
       "      <td>404.956092</td>\n",
       "      <td>12.007508</td>\n",
       "    </tr>\n",
       "    <tr>\n",
       "      <th>min</th>\n",
       "      <td>17.000000</td>\n",
       "      <td>0.000000</td>\n",
       "      <td>0.000000</td>\n",
       "      <td>1.000000</td>\n",
       "    </tr>\n",
       "    <tr>\n",
       "      <th>25%</th>\n",
       "      <td>28.000000</td>\n",
       "      <td>0.000000</td>\n",
       "      <td>0.000000</td>\n",
       "      <td>40.000000</td>\n",
       "    </tr>\n",
       "    <tr>\n",
       "      <th>50%</th>\n",
       "      <td>37.000000</td>\n",
       "      <td>0.000000</td>\n",
       "      <td>0.000000</td>\n",
       "      <td>40.000000</td>\n",
       "    </tr>\n",
       "    <tr>\n",
       "      <th>75%</th>\n",
       "      <td>47.000000</td>\n",
       "      <td>0.000000</td>\n",
       "      <td>0.000000</td>\n",
       "      <td>45.000000</td>\n",
       "    </tr>\n",
       "    <tr>\n",
       "      <th>max</th>\n",
       "      <td>90.000000</td>\n",
       "      <td>99999.000000</td>\n",
       "      <td>4356.000000</td>\n",
       "      <td>99.000000</td>\n",
       "    </tr>\n",
       "  </tbody>\n",
       "</table>\n",
       "</div>"
      ],
      "text/plain": [
       "                age  capital-gain  capital-loss  hours-per-week\n",
       "count  45222.000000  45222.000000  45222.000000    45222.000000\n",
       "mean      38.547941   1101.430344     88.595418       40.938017\n",
       "std       13.217870   7506.430084    404.956092       12.007508\n",
       "min       17.000000      0.000000      0.000000        1.000000\n",
       "25%       28.000000      0.000000      0.000000       40.000000\n",
       "50%       37.000000      0.000000      0.000000       40.000000\n",
       "75%       47.000000      0.000000      0.000000       45.000000\n",
       "max       90.000000  99999.000000   4356.000000       99.000000"
      ]
     },
     "execution_count": 92,
     "metadata": {},
     "output_type": "execute_result"
    }
   ],
   "source": [
    "df.describe()"
   ]
  },
  {
   "cell_type": "code",
   "execution_count": 93,
   "id": "5c502c87",
   "metadata": {
    "ExecuteTime": {
     "end_time": "2022-12-21T09:18:32.828133Z",
     "start_time": "2022-12-21T09:18:32.437949Z"
    }
   },
   "outputs": [
    {
     "name": "stdout",
     "output_type": "stream",
     "text": [
      "workclass\n",
      "education\n",
      "marital-status\n",
      "occupation\n",
      "relationship\n",
      "race\n",
      "sex\n"
     ]
    }
   ],
   "source": [
    "from sklearn.preprocessing import LabelEncoder\n",
    "\n",
    "\n",
    "attributes = df.columns.drop(\"class\")\n",
    "X = df[attributes].copy()\n",
    "y = df[\"class\"].copy()\n",
    "\n",
    "encoders = {}\n",
    "for column in attributes:\n",
    "    if df.dtypes[column] == np.object:\n",
    "        print(column)\n",
    "        le = LabelEncoder()\n",
    "        X[column] = le.fit_transform(df[column])\n",
    "        encoders[column] = le"
   ]
  },
  {
   "cell_type": "markdown",
   "id": "eaccf41e",
   "metadata": {},
   "source": [
    "# Train and predict with RF classifier"
   ]
  },
  {
   "cell_type": "code",
   "execution_count": 94,
   "id": "ef51d117",
   "metadata": {
    "ExecuteTime": {
     "end_time": "2022-12-21T09:18:58.038510Z",
     "start_time": "2022-12-21T09:18:32.830330Z"
    }
   },
   "outputs": [],
   "source": [
    "from sklearn.model_selection import StratifiedKFold\n",
    "from sklearn.model_selection import cross_val_predict\n",
    "from sklearn.ensemble import RandomForestClassifier\n",
    "\n",
    "\n",
    "\n",
    "\n",
    "clf = RandomForestClassifier(random_state=42)\n",
    "\n",
    "\n",
    "k_cv = 10\n",
    "\n",
    "\n",
    "cv = StratifiedKFold(n_splits=k_cv, random_state=42, shuffle=True\n",
    "            )  # Added to fix the random state  #Added shuffle=True for new version sklearn, Value Error\n",
    "       \n",
    "y_predicted = cross_val_predict(clf, X, y.values, cv=cv)"
   ]
  },
  {
   "cell_type": "code",
   "execution_count": 95,
   "id": "2c5b7fe8",
   "metadata": {
    "ExecuteTime": {
     "end_time": "2022-12-21T09:18:58.071428Z",
     "start_time": "2022-12-21T09:18:58.043319Z"
    }
   },
   "outputs": [],
   "source": [
    "df[\"predicted\"] = y_predicted"
   ]
  },
  {
   "cell_type": "code",
   "execution_count": 96,
   "id": "23ccfbc1",
   "metadata": {
    "ExecuteTime": {
     "end_time": "2022-12-21T09:18:58.234087Z",
     "start_time": "2022-12-21T09:18:58.073020Z"
    }
   },
   "outputs": [
    {
     "data": {
      "text/plain": [
       "((45222, 13), ['age', 'capital-gain', 'capital-loss', 'hours-per-week'])"
      ]
     },
     "execution_count": 96,
     "metadata": {},
     "output_type": "execute_result"
    }
   ],
   "source": [
    "df.shape,  list(df.describe().columns)"
   ]
  },
  {
   "cell_type": "code",
   "execution_count": 97,
   "id": "e8b1af0c",
   "metadata": {
    "ExecuteTime": {
     "end_time": "2022-12-21T09:24:05.888529Z",
     "start_time": "2022-12-21T09:24:05.861387Z"
    }
   },
   "outputs": [
    {
     "data": {
      "text/plain": [
       "(45222, 13)"
      ]
     },
     "execution_count": 97,
     "metadata": {},
     "output_type": "execute_result"
    }
   ],
   "source": [
    "df.shape"
   ]
  },
  {
   "cell_type": "markdown",
   "id": "97f5ae76",
   "metadata": {},
   "source": [
    "# Tree divergence"
   ]
  },
  {
   "cell_type": "code",
   "execution_count": 98,
   "id": "6fd28cc7",
   "metadata": {
    "ExecuteTime": {
     "end_time": "2022-12-21T09:18:58.277010Z",
     "start_time": "2022-12-21T09:18:58.235568Z"
    }
   },
   "outputs": [],
   "source": [
    "true_class_name = \"class\"\n",
    "pred_class_name = \"predicted\"\n",
    "cols_c = [true_class_name, pred_class_name]"
   ]
  },
  {
   "cell_type": "code",
   "execution_count": 99,
   "id": "b4d35d8b",
   "metadata": {
    "ExecuteTime": {
     "end_time": "2022-12-21T09:18:58.325188Z",
     "start_time": "2022-12-21T09:18:58.280167Z"
    }
   },
   "outputs": [],
   "source": [
    "continuous_attributes = list(df.describe().columns)"
   ]
  },
  {
   "cell_type": "code",
   "execution_count": 100,
   "id": "8a6aef74",
   "metadata": {
    "ExecuteTime": {
     "end_time": "2022-12-21T09:18:58.346913Z",
     "start_time": "2022-12-21T09:18:58.327053Z"
    }
   },
   "outputs": [],
   "source": [
    "df_analyze = df.copy()"
   ]
  },
  {
   "cell_type": "code",
   "execution_count": 101,
   "id": "8ca85c12",
   "metadata": {
    "ExecuteTime": {
     "end_time": "2022-12-21T09:18:58.406860Z",
     "start_time": "2022-12-21T09:18:58.348566Z"
    }
   },
   "outputs": [],
   "source": [
    "min_support_tree = 0.1"
   ]
  },
  {
   "cell_type": "code",
   "execution_count": 102,
   "id": "57d5d3fc",
   "metadata": {
    "ExecuteTime": {
     "end_time": "2022-12-21T09:18:58.439706Z",
     "start_time": "2022-12-21T09:18:58.409141Z"
    }
   },
   "outputs": [],
   "source": [
    "metric = \"d_fpr\""
   ]
  },
  {
   "cell_type": "code",
   "execution_count": 103,
   "id": "6157c495",
   "metadata": {
    "ExecuteTime": {
     "end_time": "2022-12-21T09:18:58.508337Z",
     "start_time": "2022-12-21T09:18:58.441880Z"
    }
   },
   "outputs": [],
   "source": [
    "type_criterion=\"divergence_criterion\"\n",
    "\n",
    "type_experiment = \"one_at_time\""
   ]
  },
  {
   "cell_type": "code",
   "execution_count": 311,
   "id": "41e06596",
   "metadata": {
    "ExecuteTime": {
     "end_time": "2022-12-21T09:18:59.026631Z",
     "start_time": "2022-12-21T09:18:58.511928Z"
    }
   },
   "outputs": [],
   "source": [
    "from tree_discretization import TreeDiscretization\n",
    "\n",
    "tree_discr = TreeDiscretization()\n",
    "\n",
    "# ## Extract tree\n",
    "generalization_dict, discretizations = tree_discr.get_tree_discretization(\n",
    "    df_analyze,\n",
    "    type_splitting=type_experiment,\n",
    "    min_support=min_support_tree,\n",
    "    metric=metric,\n",
    "    class_map=class_map,\n",
    "    continuous_attributes=list(continuous_attributes),\n",
    "    class_and_pred_names=cols_c,\n",
    "    storeTree=True,\n",
    "    type_criterion='entropy', #type_criterion,\n",
    "    #minimal_gain = 0.0015\n",
    ")"
   ]
  },
  {
   "cell_type": "code",
   "execution_count": 312,
   "id": "71ca493e",
   "metadata": {
    "ExecuteTime": {
     "end_time": "2022-12-21T09:18:59.049909Z",
     "start_time": "2022-12-21T09:18:59.028678Z"
    }
   },
   "outputs": [
    {
     "name": "stdout",
     "output_type": "stream",
     "text": [
      "age\n",
      " root s=1.00 --> d_fpr=0.00\n",
      "         age<=27 s=0.24 --> d_fpr=-0.07\n",
      "                 age<=22 s=0.11 --> d_fpr=-0.08\n",
      "                 age>22 s=0.13 --> d_fpr=-0.07\n",
      "         age>27 s=0.76 --> d_fpr=0.03\n",
      "                 age<=35 s=0.22 --> d_fpr=-0.01\n",
      "                         age<=31 s=0.11 --> d_fpr=-0.02\n",
      "                         age>31 s=0.11 --> d_fpr=0.01\n",
      "                 age>35 s=0.55 --> d_fpr=0.05\n",
      "                         age<=56 s=0.44 --> d_fpr=0.06\n",
      "                                 age<=46 s=0.28 --> d_fpr=0.05\n",
      "                                         age<=39 s=0.11 --> d_fpr=0.04\n",
      "                                         age>39 s=0.17 --> d_fpr=0.05\n",
      "                                 age>46 s=0.16 --> d_fpr=0.08\n",
      "                         age>56 s=0.11 --> d_fpr=0.02\n",
      "\n",
      "hours-per-week\n",
      " root s=1.00 --> d_fpr=0.00\n",
      "         hours-per-week<=40 s=0.70 --> d_fpr=-0.03\n",
      "                 hours-per-week<=36 s=0.20 --> d_fpr=-0.06\n",
      "                 hours-per-week>36 s=0.49 --> d_fpr=-0.01\n",
      "         hours-per-week>40 s=0.30 --> d_fpr=0.08\n",
      "                 hours-per-week<=53 s=0.20 --> d_fpr=0.07\n",
      "                 hours-per-week>53 s=0.11 --> d_fpr=0.10\n",
      "\n"
     ]
    }
   ],
   "source": [
    "tree_discr.printDiscretizationTrees(round_v =2, show_condition = True)"
   ]
  },
  {
   "cell_type": "code",
   "execution_count": 313,
   "id": "69e681f6",
   "metadata": {},
   "outputs": [
    {
     "data": {
      "image/svg+xml": [
       "<?xml version=\"1.0\" encoding=\"UTF-8\" standalone=\"no\"?>\n",
       "<!DOCTYPE svg PUBLIC \"-//W3C//DTD SVG 1.1//EN\"\n",
       " \"http://www.w3.org/Graphics/SVG/1.1/DTD/svg11.dtd\">\n",
       "<!-- Generated by graphviz version 2.50.0 (0)\n",
       " -->\n",
       "<!-- Pages: 1 -->\n",
       "<svg width=\"798pt\" height=\"269pt\"\n",
       " viewBox=\"0.00 0.00 798.00 269.00\" xmlns=\"http://www.w3.org/2000/svg\" xmlns:xlink=\"http://www.w3.org/1999/xlink\">\n",
       "<g id=\"graph0\" class=\"graph\" transform=\"scale(1 1) rotate(0) translate(4 265)\">\n",
       "<polygon fill=\"white\" stroke=\"transparent\" points=\"-4,4 -4,-265 794,-265 794,4 -4,4\"/>\n",
       "<!-- 0 -->\n",
       "<g id=\"node1\" class=\"node\">\n",
       "<title>0</title>\n",
       "<polygon fill=\"none\" stroke=\"black\" points=\"453,-261 337,-261 337,-208 453,-208 453,-261\"/>\n",
       "<text text-anchor=\"middle\" x=\"395\" y=\"-245.8\" font-family=\"Times,serif\" font-size=\"14.00\">Condition: root</text>\n",
       "<text text-anchor=\"middle\" x=\"395\" y=\"-230.8\" font-family=\"Times,serif\" font-size=\"14.00\">sup=1.00</text>\n",
       "<text text-anchor=\"middle\" x=\"395\" y=\"-215.8\" font-family=\"Times,serif\" font-size=\"14.00\">fpr=0.078 Δ=0.00</text>\n",
       "</g>\n",
       "<!-- 1 -->\n",
       "<g id=\"node2\" class=\"node\">\n",
       "<title>1</title>\n",
       "<polygon fill=\"none\" stroke=\"black\" points=\"386,-172 202,-172 202,-104 386,-104 386,-172\"/>\n",
       "<text text-anchor=\"middle\" x=\"294\" y=\"-156.8\" font-family=\"Times,serif\" font-size=\"14.00\">Condition: hours&#45;per&#45;week≤40</text>\n",
       "<text text-anchor=\"middle\" x=\"294\" y=\"-141.8\" font-family=\"Times,serif\" font-size=\"14.00\">sup=0.70</text>\n",
       "<text text-anchor=\"middle\" x=\"294\" y=\"-126.8\" font-family=\"Times,serif\" font-size=\"14.00\">hours&#45;per&#45;week&lt;=40</text>\n",
       "<text text-anchor=\"middle\" x=\"294\" y=\"-111.8\" font-family=\"Times,serif\" font-size=\"14.00\">fpr=0.053 Δ=&#45;0.03</text>\n",
       "</g>\n",
       "<!-- 0&#45;&gt;1 -->\n",
       "<g id=\"edge1\" class=\"edge\">\n",
       "<title>0&#45;&gt;1</title>\n",
       "<path fill=\"none\" stroke=\"black\" d=\"M367.67,-207.93C358.17,-199.04 347.28,-188.85 336.84,-179.08\"/>\n",
       "<polygon fill=\"black\" stroke=\"black\" points=\"339.03,-176.34 329.34,-172.06 334.25,-181.45 339.03,-176.34\"/>\n",
       "</g>\n",
       "<!-- 4 -->\n",
       "<g id=\"node5\" class=\"node\">\n",
       "<title>4</title>\n",
       "<polygon fill=\"none\" stroke=\"black\" points=\"588,-172 404,-172 404,-104 588,-104 588,-172\"/>\n",
       "<text text-anchor=\"middle\" x=\"496\" y=\"-156.8\" font-family=\"Times,serif\" font-size=\"14.00\">Condition: hours&#45;per&#45;week≥41</text>\n",
       "<text text-anchor=\"middle\" x=\"496\" y=\"-141.8\" font-family=\"Times,serif\" font-size=\"14.00\">sup=0.30</text>\n",
       "<text text-anchor=\"middle\" x=\"496\" y=\"-126.8\" font-family=\"Times,serif\" font-size=\"14.00\">hours&#45;per&#45;week&gt;=41</text>\n",
       "<text text-anchor=\"middle\" x=\"496\" y=\"-111.8\" font-family=\"Times,serif\" font-size=\"14.00\">fpr=0.159 Δ=0.08</text>\n",
       "</g>\n",
       "<!-- 0&#45;&gt;4 -->\n",
       "<g id=\"edge4\" class=\"edge\">\n",
       "<title>0&#45;&gt;4</title>\n",
       "<path fill=\"none\" stroke=\"black\" d=\"M422.33,-207.93C431.83,-199.04 442.72,-188.85 453.16,-179.08\"/>\n",
       "<polygon fill=\"black\" stroke=\"black\" points=\"455.75,-181.45 460.66,-172.06 450.97,-176.34 455.75,-181.45\"/>\n",
       "</g>\n",
       "<!-- 2 -->\n",
       "<g id=\"node3\" class=\"node\">\n",
       "<title>2</title>\n",
       "<polygon fill=\"none\" stroke=\"black\" stroke-width=\"2\" points=\"184,-68 0,-68 0,0 184,0 184,-68\"/>\n",
       "<text text-anchor=\"middle\" x=\"92\" y=\"-52.8\" font-family=\"Times,serif\" font-size=\"14.00\">Condition: hours&#45;per&#45;week≤36</text>\n",
       "<text text-anchor=\"middle\" x=\"92\" y=\"-37.8\" font-family=\"Times,serif\" font-size=\"14.00\">sup=0.20</text>\n",
       "<text text-anchor=\"middle\" x=\"92\" y=\"-22.8\" font-family=\"Times,serif\" font-size=\"14.00\">hours&#45;per&#45;week&lt;=36</text>\n",
       "<text text-anchor=\"middle\" x=\"92\" y=\"-7.8\" font-family=\"Times,serif\" font-size=\"14.00\">fpr=0.021 Δ=&#45;0.06</text>\n",
       "</g>\n",
       "<!-- 1&#45;&gt;2 -->\n",
       "<g id=\"edge2\" class=\"edge\">\n",
       "<title>1&#45;&gt;2</title>\n",
       "<path fill=\"none\" stroke=\"black\" d=\"M228.42,-103.88C208.74,-93.95 187,-82.97 166.77,-72.76\"/>\n",
       "<polygon fill=\"black\" stroke=\"black\" points=\"168.1,-69.51 157.6,-68.12 164.95,-75.76 168.1,-69.51\"/>\n",
       "</g>\n",
       "<!-- 3 -->\n",
       "<g id=\"node4\" class=\"node\">\n",
       "<title>3</title>\n",
       "<polygon fill=\"none\" stroke=\"black\" stroke-width=\"2\" points=\"386,-68 202,-68 202,0 386,0 386,-68\"/>\n",
       "<text text-anchor=\"middle\" x=\"294\" y=\"-52.8\" font-family=\"Times,serif\" font-size=\"14.00\">Condition: hours&#45;per&#45;week≥37</text>\n",
       "<text text-anchor=\"middle\" x=\"294\" y=\"-37.8\" font-family=\"Times,serif\" font-size=\"14.00\">sup=0.49</text>\n",
       "<text text-anchor=\"middle\" x=\"294\" y=\"-22.8\" font-family=\"Times,serif\" font-size=\"14.00\">hours&#45;per&#45;week=[37&#45;40]</text>\n",
       "<text text-anchor=\"middle\" x=\"294\" y=\"-7.8\" font-family=\"Times,serif\" font-size=\"14.00\">fpr=0.067 Δ=&#45;0.01</text>\n",
       "</g>\n",
       "<!-- 1&#45;&gt;3 -->\n",
       "<g id=\"edge3\" class=\"edge\">\n",
       "<title>1&#45;&gt;3</title>\n",
       "<path fill=\"none\" stroke=\"black\" d=\"M294,-103.88C294,-95.78 294,-86.98 294,-78.47\"/>\n",
       "<polygon fill=\"black\" stroke=\"black\" points=\"297.5,-78.3 294,-68.3 290.5,-78.3 297.5,-78.3\"/>\n",
       "</g>\n",
       "<!-- 5 -->\n",
       "<g id=\"node6\" class=\"node\">\n",
       "<title>5</title>\n",
       "<polygon fill=\"none\" stroke=\"black\" stroke-width=\"2\" points=\"588,-68 404,-68 404,0 588,0 588,-68\"/>\n",
       "<text text-anchor=\"middle\" x=\"496\" y=\"-52.8\" font-family=\"Times,serif\" font-size=\"14.00\">Condition: hours&#45;per&#45;week≤53</text>\n",
       "<text text-anchor=\"middle\" x=\"496\" y=\"-37.8\" font-family=\"Times,serif\" font-size=\"14.00\">sup=0.20</text>\n",
       "<text text-anchor=\"middle\" x=\"496\" y=\"-22.8\" font-family=\"Times,serif\" font-size=\"14.00\">hours&#45;per&#45;week=[41&#45;53]</text>\n",
       "<text text-anchor=\"middle\" x=\"496\" y=\"-7.8\" font-family=\"Times,serif\" font-size=\"14.00\">fpr=0.151 Δ=0.07</text>\n",
       "</g>\n",
       "<!-- 4&#45;&gt;5 -->\n",
       "<g id=\"edge5\" class=\"edge\">\n",
       "<title>4&#45;&gt;5</title>\n",
       "<path fill=\"none\" stroke=\"black\" d=\"M496,-103.88C496,-95.78 496,-86.98 496,-78.47\"/>\n",
       "<polygon fill=\"black\" stroke=\"black\" points=\"499.5,-78.3 496,-68.3 492.5,-78.3 499.5,-78.3\"/>\n",
       "</g>\n",
       "<!-- 6 -->\n",
       "<g id=\"node7\" class=\"node\">\n",
       "<title>6</title>\n",
       "<polygon fill=\"none\" stroke=\"black\" stroke-width=\"2\" points=\"790,-68 606,-68 606,0 790,0 790,-68\"/>\n",
       "<text text-anchor=\"middle\" x=\"698\" y=\"-52.8\" font-family=\"Times,serif\" font-size=\"14.00\">Condition: hours&#45;per&#45;week≥54</text>\n",
       "<text text-anchor=\"middle\" x=\"698\" y=\"-37.8\" font-family=\"Times,serif\" font-size=\"14.00\">sup=0.11</text>\n",
       "<text text-anchor=\"middle\" x=\"698\" y=\"-22.8\" font-family=\"Times,serif\" font-size=\"14.00\">hours&#45;per&#45;week&gt;=54</text>\n",
       "<text text-anchor=\"middle\" x=\"698\" y=\"-7.8\" font-family=\"Times,serif\" font-size=\"14.00\">fpr=0.173 Δ=0.10</text>\n",
       "</g>\n",
       "<!-- 4&#45;&gt;6 -->\n",
       "<g id=\"edge6\" class=\"edge\">\n",
       "<title>4&#45;&gt;6</title>\n",
       "<path fill=\"none\" stroke=\"black\" d=\"M561.58,-103.88C581.26,-93.95 603,-82.97 623.23,-72.76\"/>\n",
       "<polygon fill=\"black\" stroke=\"black\" points=\"625.05,-75.76 632.4,-68.12 621.9,-69.51 625.05,-75.76\"/>\n",
       "</g>\n",
       "</g>\n",
       "</svg>\n"
      ],
      "text/plain": [
       "<graphviz.graphs.Digraph at 0x7fb66474c3d0>"
      ]
     },
     "execution_count": 313,
     "metadata": {},
     "output_type": "execute_result"
    }
   ],
   "source": [
    "attribute = 'hours-per-week'\n",
    "dot[attribute] = tree_discr.trees[attribute].visualizeTreeDiGraph(all_info = False)\n",
    "dot[attribute]"
   ]
  },
  {
   "cell_type": "code",
   "execution_count": 458,
   "id": "78166e23",
   "metadata": {},
   "outputs": [
    {
     "data": {
      "text/plain": [
       "{'age': {'<=22': {'rels': ['<='], 'vals': [22]},\n",
       "  '[23-27]': {'rels': ['>=', '<='], 'vals': [23, 27]},\n",
       "  '[28-31]': {'rels': ['>=', '<='], 'vals': [28, 31]},\n",
       "  '[32-35]': {'rels': ['>=', '<='], 'vals': [32, 35]},\n",
       "  '[36-39]': {'rels': ['>=', '<='], 'vals': [36, 39]},\n",
       "  '[40-46]': {'rels': ['>=', '<='], 'vals': [40, 46]},\n",
       "  '[47-56]': {'rels': ['>=', '<='], 'vals': [47, 56]},\n",
       "  '>=57': {'rels': ['>='], 'vals': [57]}},\n",
       " 'hours-per-week': {'<=36': {'rels': ['<='], 'vals': [36]},\n",
       "  '[37-40]': {'rels': ['>=', '<='], 'vals': [37, 40]},\n",
       "  '[41-53]': {'rels': ['>=', '<='], 'vals': [41, 53]},\n",
       "  '>=54': {'rels': ['>='], 'vals': [54]}}}"
      ]
     },
     "execution_count": 458,
     "metadata": {},
     "output_type": "execute_result"
    }
   ],
   "source": [
    "discretizations"
   ]
  },
  {
   "cell_type": "code",
   "execution_count": 457,
   "id": "bd995243",
   "metadata": {},
   "outputs": [
    {
     "data": {
      "text/plain": [
       "{'age': ['>=28',\n",
       "  '[32-35]',\n",
       "  '>=36',\n",
       "  '[36-56]',\n",
       "  '[36-46]',\n",
       "  '[36-39]',\n",
       "  '[40-46]',\n",
       "  '[47-56]',\n",
       "  '>=57'],\n",
       " 'hours-per-week': ['>=41', '[41-53]', '>=54']}"
      ]
     },
     "execution_count": 457,
     "metadata": {},
     "output_type": "execute_result"
    }
   ],
   "source": [
    "keep_items = tree_discr.get_keep_items_associated_with_divergence()\n",
    "keep_items"
   ]
  },
  {
   "cell_type": "markdown",
   "id": "3e1fd702",
   "metadata": {},
   "source": [
    "# Extract patterns"
   ]
  },
  {
   "cell_type": "code",
   "execution_count": 568,
   "id": "e2364e1e",
   "metadata": {
    "ExecuteTime": {
     "end_time": "2022-12-21T09:18:59.191025Z",
     "start_time": "2022-12-21T09:18:59.051535Z"
    }
   },
   "outputs": [],
   "source": [
    "min_sup_divergences = [0.01, 0.02, 0.03, 0.04, 0.05, 0.1, 0.15, 0.2]"
   ]
  },
  {
   "cell_type": "code",
   "execution_count": 569,
   "id": "5f201254",
   "metadata": {
    "ExecuteTime": {
     "end_time": "2022-12-21T09:18:59.256896Z",
     "start_time": "2022-12-21T09:18:59.194611Z"
    }
   },
   "outputs": [],
   "source": [
    "import time"
   ]
  },
  {
   "cell_type": "code",
   "execution_count": 570,
   "id": "97e88d65",
   "metadata": {
    "ExecuteTime": {
     "end_time": "2022-12-21T09:18:59.291376Z",
     "start_time": "2022-12-21T09:18:59.259123Z"
    }
   },
   "outputs": [],
   "source": [
    "out_support = {}\n",
    "out_time = {}"
   ]
  },
  {
   "cell_type": "markdown",
   "id": "d137f8ad",
   "metadata": {},
   "source": [
    "## Base"
   ]
  },
  {
   "cell_type": "code",
   "execution_count": 571,
   "id": "4b7705af",
   "metadata": {},
   "outputs": [],
   "source": [
    "from utils_extract_divergence_generalized import (\n",
    "    extract_divergence_generalized,\n",
    ")\n",
    "import time\n",
    "\n",
    "\n",
    "for keep in [True, False]:\n",
    "    if keep:\n",
    "        keep_items = tree_discr.get_keep_items_associated_with_divergence()\n",
    "        keep_str = \"_pruned\"\n",
    "    else:\n",
    "        keep_items = None\n",
    "        keep_str = \"\"\n",
    "\n",
    "    for min_sup_divergence in min_sup_divergences:\n",
    "        s_time = time.time()\n",
    "        FP_fm = extract_divergence_generalized(\n",
    "            df_analyze,\n",
    "            discretizations,\n",
    "            generalization_dict,\n",
    "            continuous_attributes,\n",
    "            min_sup_divergence=min_sup_divergence,\n",
    "            apply_generalization=False,\n",
    "            true_class_name=true_class_name,\n",
    "            predicted_class_name=pred_class_name,\n",
    "            class_map=class_map,\n",
    "            metrics_divergence = [\"d_fpr\"],\n",
    "            FPM_type=\"fpgrowth\",\n",
    "            save_in_progress = False, \n",
    "            keep_only_positive_divergent_items=keep_items\n",
    "        )\n",
    "\n",
    "        key = \"base\" + keep_str\n",
    "        \n",
    "        out_time.setdefault(min_sup_divergence, {})[key] = time.time()-s_time\n",
    "\n",
    "        fp_divergence_i = FP_Divergence(FP_fm, metric=metric)\n",
    "\n",
    "        most_divergent = (\n",
    "            fp_divergence_i.getDivergence(th_redundancy=0)\n",
    "            .sort_values(\n",
    "                [fp_divergence_i.metric, fp_divergence_i.t_value_col], ascending=False\n",
    "            )\n",
    "            .head(1)\n",
    "        )\n",
    "        out_support.setdefault(min_sup_divergence, {})[key] = most_divergent"
   ]
  },
  {
   "cell_type": "markdown",
   "id": "47c4d244",
   "metadata": {},
   "source": [
    "## Generalized"
   ]
  },
  {
   "cell_type": "code",
   "execution_count": 572,
   "id": "8cf4a3ac",
   "metadata": {
    "ExecuteTime": {
     "end_time": "2022-12-21T09:20:34.945897Z",
     "start_time": "2022-12-21T09:20:05.970345Z"
    }
   },
   "outputs": [
    {
     "name": "stdout",
     "output_type": "stream",
     "text": [
      "1 10000\n",
      "1 10000\n",
      "2 20000\n",
      "1 10000\n"
     ]
    }
   ],
   "source": [
    "from utils_extract_divergence_generalized import (\n",
    "    extract_divergence_generalized,\n",
    ")\n",
    "import time\n",
    "\n",
    "\n",
    "for keep in [True, False]:\n",
    "    if keep:\n",
    "        keep_items = tree_discr.get_keep_items_associated_with_divergence()\n",
    "        keep_str = \"_pruned\"\n",
    "    else:\n",
    "        keep_items = None\n",
    "        keep_str = \"\"\n",
    "\n",
    "    for min_sup_divergence in min_sup_divergences:\n",
    "        s_time = time.time()\n",
    "        FP_fm = extract_divergence_generalized(\n",
    "            df_analyze,\n",
    "            discretizations,\n",
    "            generalization_dict,\n",
    "            continuous_attributes,\n",
    "            min_sup_divergence=min_sup_divergence,\n",
    "            apply_generalization=True,\n",
    "            true_class_name=true_class_name,\n",
    "            predicted_class_name=pred_class_name,\n",
    "            class_map=class_map,\n",
    "            metrics_divergence = [\"d_fpr\"],\n",
    "            FPM_type=\"fpgrowth\",\n",
    "            save_in_progress = False, \n",
    "            keep_only_positive_divergent_items=keep_items\n",
    "        )\n",
    "\n",
    "        key = \"generalized\" + keep_str\n",
    "        \n",
    "        out_time.setdefault(min_sup_divergence, {})[key] = time.time()-s_time\n",
    "\n",
    "        fp_divergence_i = FP_Divergence(FP_fm, metric=metric)\n",
    "\n",
    "        most_divergent = (\n",
    "            fp_divergence_i.getDivergence(th_redundancy=0)\n",
    "            .sort_values(\n",
    "                [fp_divergence_i.metric, fp_divergence_i.t_value_col], ascending=False\n",
    "            )\n",
    "            .head(1)\n",
    "        )\n",
    "        out_support.setdefault(min_sup_divergence, {})[key] = most_divergent"
   ]
  },
  {
   "cell_type": "markdown",
   "id": "10f49a0d",
   "metadata": {},
   "source": [
    "# Results"
   ]
  },
  {
   "cell_type": "code",
   "execution_count": 573,
   "id": "aba3ae41",
   "metadata": {
    "ExecuteTime": {
     "end_time": "2022-12-21T09:20:35.110973Z",
     "start_time": "2022-12-21T09:20:34.971981Z"
    }
   },
   "outputs": [
    {
     "data": {
      "text/plain": [
       "{0.01: {'base_pruned': 1.9383940696716309,\n",
       "  'base': 3.183812141418457,\n",
       "  'generalized_pruned': 5.574107885360718,\n",
       "  'generalized': 7.318775177001953},\n",
       " 0.02: {'base_pruned': 2.3544809818267822,\n",
       "  'base': 2.7760868072509766,\n",
       "  'generalized_pruned': 3.6795310974121094,\n",
       "  'generalized': 5.209488153457642},\n",
       " 0.03: {'base_pruned': 1.6139719486236572,\n",
       "  'base': 1.7946717739105225,\n",
       "  'generalized_pruned': 2.4999449253082275,\n",
       "  'generalized': 3.503459930419922},\n",
       " 0.04: {'base_pruned': 1.5158860683441162,\n",
       "  'base': 2.37138295173645,\n",
       "  'generalized_pruned': 2.598667860031128,\n",
       "  'generalized': 3.6505661010742188},\n",
       " 0.05: {'base_pruned': 1.5199120044708252,\n",
       "  'base': 1.6459317207336426,\n",
       "  'generalized_pruned': 1.8970491886138916,\n",
       "  'generalized': 2.566486120223999},\n",
       " 0.1: {'base_pruned': 1.2195348739624023,\n",
       "  'base': 1.3275489807128906,\n",
       "  'generalized_pruned': 1.6124978065490723,\n",
       "  'generalized': 2.6327438354492188},\n",
       " 0.15: {'base_pruned': 1.0033340454101562,\n",
       "  'base': 1.2258949279785156,\n",
       "  'generalized_pruned': 1.3354599475860596,\n",
       "  'generalized': 1.4943292140960693},\n",
       " 0.2: {'base_pruned': 0.8682098388671875,\n",
       "  'base': 1.0528271198272705,\n",
       "  'generalized_pruned': 1.1497280597686768,\n",
       "  'generalized': 1.3397572040557861}}"
      ]
     },
     "execution_count": 573,
     "metadata": {},
     "output_type": "execute_result"
    }
   ],
   "source": [
    "out_time"
   ]
  },
  {
   "cell_type": "code",
   "execution_count": 574,
   "id": "a8ef1621",
   "metadata": {
    "ExecuteTime": {
     "end_time": "2022-12-21T09:20:35.300898Z",
     "start_time": "2022-12-21T09:20:35.114512Z"
    }
   },
   "outputs": [
    {
     "name": "stdout",
     "output_type": "stream",
     "text": [
      "0.01\n",
      "base_pruned\n"
     ]
    },
    {
     "data": {
      "text/html": [
       "<div>\n",
       "<style scoped>\n",
       "    .dataframe tbody tr th:only-of-type {\n",
       "        vertical-align: middle;\n",
       "    }\n",
       "\n",
       "    .dataframe tbody tr th {\n",
       "        vertical-align: top;\n",
       "    }\n",
       "\n",
       "    .dataframe thead th {\n",
       "        text-align: right;\n",
       "    }\n",
       "</style>\n",
       "<table border=\"1\" class=\"dataframe\">\n",
       "  <thead>\n",
       "    <tr style=\"text-align: right;\">\n",
       "      <th></th>\n",
       "      <th>support</th>\n",
       "      <th>itemsets</th>\n",
       "      <th>tn</th>\n",
       "      <th>fp</th>\n",
       "      <th>fn</th>\n",
       "      <th>tp</th>\n",
       "      <th>length</th>\n",
       "      <th>support_count</th>\n",
       "      <th>fpr</th>\n",
       "      <th>d_fpr</th>\n",
       "      <th>t_value_fp</th>\n",
       "    </tr>\n",
       "  </thead>\n",
       "  <tbody>\n",
       "    <tr>\n",
       "      <th>3959</th>\n",
       "      <td>0.010946</td>\n",
       "      <td>(workclass=Private, marital-status=Married, oc...</td>\n",
       "      <td>18</td>\n",
       "      <td>72</td>\n",
       "      <td>50</td>\n",
       "      <td>355</td>\n",
       "      <td>4</td>\n",
       "      <td>495.0</td>\n",
       "      <td>0.8</td>\n",
       "      <td>0.721885</td>\n",
       "      <td>17.031069</td>\n",
       "    </tr>\n",
       "  </tbody>\n",
       "</table>\n",
       "</div>"
      ],
      "text/plain": [
       "       support                                           itemsets  tn  fp  fn  \\\n",
       "3959  0.010946  (workclass=Private, marital-status=Married, oc...  18  72  50   \n",
       "\n",
       "       tp  length  support_count  fpr     d_fpr  t_value_fp  \n",
       "3959  355       4          495.0  0.8  0.721885   17.031069  "
      ]
     },
     "metadata": {},
     "output_type": "display_data"
    },
    {
     "name": "stdout",
     "output_type": "stream",
     "text": [
      "base\n"
     ]
    },
    {
     "data": {
      "text/html": [
       "<div>\n",
       "<style scoped>\n",
       "    .dataframe tbody tr th:only-of-type {\n",
       "        vertical-align: middle;\n",
       "    }\n",
       "\n",
       "    .dataframe tbody tr th {\n",
       "        vertical-align: top;\n",
       "    }\n",
       "\n",
       "    .dataframe thead th {\n",
       "        text-align: right;\n",
       "    }\n",
       "</style>\n",
       "<table border=\"1\" class=\"dataframe\">\n",
       "  <thead>\n",
       "    <tr style=\"text-align: right;\">\n",
       "      <th></th>\n",
       "      <th>support</th>\n",
       "      <th>itemsets</th>\n",
       "      <th>tn</th>\n",
       "      <th>fp</th>\n",
       "      <th>fn</th>\n",
       "      <th>tp</th>\n",
       "      <th>length</th>\n",
       "      <th>support_count</th>\n",
       "      <th>fpr</th>\n",
       "      <th>d_fpr</th>\n",
       "      <th>t_value_fp</th>\n",
       "    </tr>\n",
       "  </thead>\n",
       "  <tbody>\n",
       "    <tr>\n",
       "      <th>7144</th>\n",
       "      <td>0.010946</td>\n",
       "      <td>(workclass=Private, marital-status=Married, oc...</td>\n",
       "      <td>18</td>\n",
       "      <td>72</td>\n",
       "      <td>50</td>\n",
       "      <td>355</td>\n",
       "      <td>4</td>\n",
       "      <td>495.0</td>\n",
       "      <td>0.8</td>\n",
       "      <td>0.721885</td>\n",
       "      <td>17.031069</td>\n",
       "    </tr>\n",
       "  </tbody>\n",
       "</table>\n",
       "</div>"
      ],
      "text/plain": [
       "       support                                           itemsets  tn  fp  fn  \\\n",
       "7144  0.010946  (workclass=Private, marital-status=Married, oc...  18  72  50   \n",
       "\n",
       "       tp  length  support_count  fpr     d_fpr  t_value_fp  \n",
       "7144  355       4          495.0  0.8  0.721885   17.031069  "
      ]
     },
     "metadata": {},
     "output_type": "display_data"
    },
    {
     "name": "stdout",
     "output_type": "stream",
     "text": [
      "generalized_pruned\n"
     ]
    },
    {
     "data": {
      "text/html": [
       "<div>\n",
       "<style scoped>\n",
       "    .dataframe tbody tr th:only-of-type {\n",
       "        vertical-align: middle;\n",
       "    }\n",
       "\n",
       "    .dataframe tbody tr th {\n",
       "        vertical-align: top;\n",
       "    }\n",
       "\n",
       "    .dataframe thead th {\n",
       "        text-align: right;\n",
       "    }\n",
       "</style>\n",
       "<table border=\"1\" class=\"dataframe\">\n",
       "  <thead>\n",
       "    <tr style=\"text-align: right;\">\n",
       "      <th></th>\n",
       "      <th>support</th>\n",
       "      <th>itemsets</th>\n",
       "      <th>tn</th>\n",
       "      <th>fp</th>\n",
       "      <th>fn</th>\n",
       "      <th>tp</th>\n",
       "      <th>length</th>\n",
       "      <th>support_count</th>\n",
       "      <th>fpr</th>\n",
       "      <th>d_fpr</th>\n",
       "      <th>t_value_fp</th>\n",
       "    </tr>\n",
       "  </thead>\n",
       "  <tbody>\n",
       "    <tr>\n",
       "      <th>12189</th>\n",
       "      <td>0.010614</td>\n",
       "      <td>(race=White, education=Bachelors, marital-stat...</td>\n",
       "      <td>20</td>\n",
       "      <td>80</td>\n",
       "      <td>42</td>\n",
       "      <td>338</td>\n",
       "      <td>5</td>\n",
       "      <td>480.0</td>\n",
       "      <td>0.8</td>\n",
       "      <td>0.721885</td>\n",
       "      <td>17.958778</td>\n",
       "    </tr>\n",
       "  </tbody>\n",
       "</table>\n",
       "</div>"
      ],
      "text/plain": [
       "        support                                           itemsets  tn  fp  \\\n",
       "12189  0.010614  (race=White, education=Bachelors, marital-stat...  20  80   \n",
       "\n",
       "       fn   tp  length  support_count  fpr     d_fpr  t_value_fp  \n",
       "12189  42  338       5          480.0  0.8  0.721885   17.958778  "
      ]
     },
     "metadata": {},
     "output_type": "display_data"
    },
    {
     "name": "stdout",
     "output_type": "stream",
     "text": [
      "generalized\n"
     ]
    },
    {
     "data": {
      "text/html": [
       "<div>\n",
       "<style scoped>\n",
       "    .dataframe tbody tr th:only-of-type {\n",
       "        vertical-align: middle;\n",
       "    }\n",
       "\n",
       "    .dataframe tbody tr th {\n",
       "        vertical-align: top;\n",
       "    }\n",
       "\n",
       "    .dataframe thead th {\n",
       "        text-align: right;\n",
       "    }\n",
       "</style>\n",
       "<table border=\"1\" class=\"dataframe\">\n",
       "  <thead>\n",
       "    <tr style=\"text-align: right;\">\n",
       "      <th></th>\n",
       "      <th>support</th>\n",
       "      <th>itemsets</th>\n",
       "      <th>tn</th>\n",
       "      <th>fp</th>\n",
       "      <th>fn</th>\n",
       "      <th>tp</th>\n",
       "      <th>length</th>\n",
       "      <th>support_count</th>\n",
       "      <th>fpr</th>\n",
       "      <th>d_fpr</th>\n",
       "      <th>t_value_fp</th>\n",
       "    </tr>\n",
       "  </thead>\n",
       "  <tbody>\n",
       "    <tr>\n",
       "      <th>26105</th>\n",
       "      <td>0.010614</td>\n",
       "      <td>(race=White, education=Bachelors, marital-stat...</td>\n",
       "      <td>20</td>\n",
       "      <td>80</td>\n",
       "      <td>42</td>\n",
       "      <td>338</td>\n",
       "      <td>5</td>\n",
       "      <td>480.0</td>\n",
       "      <td>0.8</td>\n",
       "      <td>0.721885</td>\n",
       "      <td>17.958778</td>\n",
       "    </tr>\n",
       "  </tbody>\n",
       "</table>\n",
       "</div>"
      ],
      "text/plain": [
       "        support                                           itemsets  tn  fp  \\\n",
       "26105  0.010614  (race=White, education=Bachelors, marital-stat...  20  80   \n",
       "\n",
       "       fn   tp  length  support_count  fpr     d_fpr  t_value_fp  \n",
       "26105  42  338       5          480.0  0.8  0.721885   17.958778  "
      ]
     },
     "metadata": {},
     "output_type": "display_data"
    },
    {
     "name": "stdout",
     "output_type": "stream",
     "text": [
      "0.02\n",
      "base_pruned\n"
     ]
    },
    {
     "data": {
      "text/html": [
       "<div>\n",
       "<style scoped>\n",
       "    .dataframe tbody tr th:only-of-type {\n",
       "        vertical-align: middle;\n",
       "    }\n",
       "\n",
       "    .dataframe tbody tr th {\n",
       "        vertical-align: top;\n",
       "    }\n",
       "\n",
       "    .dataframe thead th {\n",
       "        text-align: right;\n",
       "    }\n",
       "</style>\n",
       "<table border=\"1\" class=\"dataframe\">\n",
       "  <thead>\n",
       "    <tr style=\"text-align: right;\">\n",
       "      <th></th>\n",
       "      <th>support</th>\n",
       "      <th>itemsets</th>\n",
       "      <th>tn</th>\n",
       "      <th>fp</th>\n",
       "      <th>fn</th>\n",
       "      <th>tp</th>\n",
       "      <th>length</th>\n",
       "      <th>support_count</th>\n",
       "      <th>fpr</th>\n",
       "      <th>d_fpr</th>\n",
       "      <th>t_value_fp</th>\n",
       "    </tr>\n",
       "  </thead>\n",
       "  <tbody>\n",
       "    <tr>\n",
       "      <th>1939</th>\n",
       "      <td>0.021317</td>\n",
       "      <td>(marital-status=Married, education=Bachelors, ...</td>\n",
       "      <td>85</td>\n",
       "      <td>167</td>\n",
       "      <td>96</td>\n",
       "      <td>616</td>\n",
       "      <td>3</td>\n",
       "      <td>964.0</td>\n",
       "      <td>0.662698</td>\n",
       "      <td>0.584584</td>\n",
       "      <td>19.658587</td>\n",
       "    </tr>\n",
       "  </tbody>\n",
       "</table>\n",
       "</div>"
      ],
      "text/plain": [
       "       support                                           itemsets  tn   fp  \\\n",
       "1939  0.021317  (marital-status=Married, education=Bachelors, ...  85  167   \n",
       "\n",
       "      fn   tp  length  support_count       fpr     d_fpr  t_value_fp  \n",
       "1939  96  616       3          964.0  0.662698  0.584584   19.658587  "
      ]
     },
     "metadata": {},
     "output_type": "display_data"
    },
    {
     "name": "stdout",
     "output_type": "stream",
     "text": [
      "base\n"
     ]
    },
    {
     "data": {
      "text/html": [
       "<div>\n",
       "<style scoped>\n",
       "    .dataframe tbody tr th:only-of-type {\n",
       "        vertical-align: middle;\n",
       "    }\n",
       "\n",
       "    .dataframe tbody tr th {\n",
       "        vertical-align: top;\n",
       "    }\n",
       "\n",
       "    .dataframe thead th {\n",
       "        text-align: right;\n",
       "    }\n",
       "</style>\n",
       "<table border=\"1\" class=\"dataframe\">\n",
       "  <thead>\n",
       "    <tr style=\"text-align: right;\">\n",
       "      <th></th>\n",
       "      <th>support</th>\n",
       "      <th>itemsets</th>\n",
       "      <th>tn</th>\n",
       "      <th>fp</th>\n",
       "      <th>fn</th>\n",
       "      <th>tp</th>\n",
       "      <th>length</th>\n",
       "      <th>support_count</th>\n",
       "      <th>fpr</th>\n",
       "      <th>d_fpr</th>\n",
       "      <th>t_value_fp</th>\n",
       "    </tr>\n",
       "  </thead>\n",
       "  <tbody>\n",
       "    <tr>\n",
       "      <th>3185</th>\n",
       "      <td>0.021317</td>\n",
       "      <td>(marital-status=Married, education=Bachelors, ...</td>\n",
       "      <td>85</td>\n",
       "      <td>167</td>\n",
       "      <td>96</td>\n",
       "      <td>616</td>\n",
       "      <td>3</td>\n",
       "      <td>964.0</td>\n",
       "      <td>0.662698</td>\n",
       "      <td>0.584584</td>\n",
       "      <td>19.658587</td>\n",
       "    </tr>\n",
       "  </tbody>\n",
       "</table>\n",
       "</div>"
      ],
      "text/plain": [
       "       support                                           itemsets  tn   fp  \\\n",
       "3185  0.021317  (marital-status=Married, education=Bachelors, ...  85  167   \n",
       "\n",
       "      fn   tp  length  support_count       fpr     d_fpr  t_value_fp  \n",
       "3185  96  616       3          964.0  0.662698  0.584584   19.658587  "
      ]
     },
     "metadata": {},
     "output_type": "display_data"
    },
    {
     "name": "stdout",
     "output_type": "stream",
     "text": [
      "generalized_pruned\n"
     ]
    },
    {
     "data": {
      "text/html": [
       "<div>\n",
       "<style scoped>\n",
       "    .dataframe tbody tr th:only-of-type {\n",
       "        vertical-align: middle;\n",
       "    }\n",
       "\n",
       "    .dataframe tbody tr th {\n",
       "        vertical-align: top;\n",
       "    }\n",
       "\n",
       "    .dataframe thead th {\n",
       "        text-align: right;\n",
       "    }\n",
       "</style>\n",
       "<table border=\"1\" class=\"dataframe\">\n",
       "  <thead>\n",
       "    <tr style=\"text-align: right;\">\n",
       "      <th></th>\n",
       "      <th>support</th>\n",
       "      <th>itemsets</th>\n",
       "      <th>tn</th>\n",
       "      <th>fp</th>\n",
       "      <th>fn</th>\n",
       "      <th>tp</th>\n",
       "      <th>length</th>\n",
       "      <th>support_count</th>\n",
       "      <th>fpr</th>\n",
       "      <th>d_fpr</th>\n",
       "      <th>t_value_fp</th>\n",
       "    </tr>\n",
       "  </thead>\n",
       "  <tbody>\n",
       "    <tr>\n",
       "      <th>6022</th>\n",
       "      <td>0.020167</td>\n",
       "      <td>(race=White, occupation=Professional, sex=Male...</td>\n",
       "      <td>57</td>\n",
       "      <td>137</td>\n",
       "      <td>82</td>\n",
       "      <td>636</td>\n",
       "      <td>6</td>\n",
       "      <td>912.0</td>\n",
       "      <td>0.706186</td>\n",
       "      <td>0.628071</td>\n",
       "      <td>19.228055</td>\n",
       "    </tr>\n",
       "  </tbody>\n",
       "</table>\n",
       "</div>"
      ],
      "text/plain": [
       "       support                                           itemsets  tn   fp  \\\n",
       "6022  0.020167  (race=White, occupation=Professional, sex=Male...  57  137   \n",
       "\n",
       "      fn   tp  length  support_count       fpr     d_fpr  t_value_fp  \n",
       "6022  82  636       6          912.0  0.706186  0.628071   19.228055  "
      ]
     },
     "metadata": {},
     "output_type": "display_data"
    },
    {
     "name": "stdout",
     "output_type": "stream",
     "text": [
      "generalized\n"
     ]
    },
    {
     "data": {
      "text/html": [
       "<div>\n",
       "<style scoped>\n",
       "    .dataframe tbody tr th:only-of-type {\n",
       "        vertical-align: middle;\n",
       "    }\n",
       "\n",
       "    .dataframe tbody tr th {\n",
       "        vertical-align: top;\n",
       "    }\n",
       "\n",
       "    .dataframe thead th {\n",
       "        text-align: right;\n",
       "    }\n",
       "</style>\n",
       "<table border=\"1\" class=\"dataframe\">\n",
       "  <thead>\n",
       "    <tr style=\"text-align: right;\">\n",
       "      <th></th>\n",
       "      <th>support</th>\n",
       "      <th>itemsets</th>\n",
       "      <th>tn</th>\n",
       "      <th>fp</th>\n",
       "      <th>fn</th>\n",
       "      <th>tp</th>\n",
       "      <th>length</th>\n",
       "      <th>support_count</th>\n",
       "      <th>fpr</th>\n",
       "      <th>d_fpr</th>\n",
       "      <th>t_value_fp</th>\n",
       "    </tr>\n",
       "  </thead>\n",
       "  <tbody>\n",
       "    <tr>\n",
       "      <th>12194</th>\n",
       "      <td>0.020145</td>\n",
       "      <td>(occupation=Professional, marital-status=Marri...</td>\n",
       "      <td>58</td>\n",
       "      <td>161</td>\n",
       "      <td>100</td>\n",
       "      <td>592</td>\n",
       "      <td>4</td>\n",
       "      <td>911.0</td>\n",
       "      <td>0.73516</td>\n",
       "      <td>0.657045</td>\n",
       "      <td>22.030985</td>\n",
       "    </tr>\n",
       "  </tbody>\n",
       "</table>\n",
       "</div>"
      ],
      "text/plain": [
       "        support                                           itemsets  tn   fp  \\\n",
       "12194  0.020145  (occupation=Professional, marital-status=Marri...  58  161   \n",
       "\n",
       "        fn   tp  length  support_count      fpr     d_fpr  t_value_fp  \n",
       "12194  100  592       4          911.0  0.73516  0.657045   22.030985  "
      ]
     },
     "metadata": {},
     "output_type": "display_data"
    },
    {
     "name": "stdout",
     "output_type": "stream",
     "text": [
      "0.03\n",
      "base_pruned\n"
     ]
    },
    {
     "data": {
      "text/html": [
       "<div>\n",
       "<style scoped>\n",
       "    .dataframe tbody tr th:only-of-type {\n",
       "        vertical-align: middle;\n",
       "    }\n",
       "\n",
       "    .dataframe tbody tr th {\n",
       "        vertical-align: top;\n",
       "    }\n",
       "\n",
       "    .dataframe thead th {\n",
       "        text-align: right;\n",
       "    }\n",
       "</style>\n",
       "<table border=\"1\" class=\"dataframe\">\n",
       "  <thead>\n",
       "    <tr style=\"text-align: right;\">\n",
       "      <th></th>\n",
       "      <th>support</th>\n",
       "      <th>itemsets</th>\n",
       "      <th>tn</th>\n",
       "      <th>fp</th>\n",
       "      <th>fn</th>\n",
       "      <th>tp</th>\n",
       "      <th>length</th>\n",
       "      <th>support_count</th>\n",
       "      <th>fpr</th>\n",
       "      <th>d_fpr</th>\n",
       "      <th>t_value_fp</th>\n",
       "    </tr>\n",
       "  </thead>\n",
       "  <tbody>\n",
       "    <tr>\n",
       "      <th>1138</th>\n",
       "      <td>0.031799</td>\n",
       "      <td>(marital-status=Married, education=Masters)</td>\n",
       "      <td>132</td>\n",
       "      <td>194</td>\n",
       "      <td>126</td>\n",
       "      <td>986</td>\n",
       "      <td>2</td>\n",
       "      <td>1438.0</td>\n",
       "      <td>0.595092</td>\n",
       "      <td>0.516977</td>\n",
       "      <td>19.04869</td>\n",
       "    </tr>\n",
       "  </tbody>\n",
       "</table>\n",
       "</div>"
      ],
      "text/plain": [
       "       support                                     itemsets   tn   fp   fn  \\\n",
       "1138  0.031799  (marital-status=Married, education=Masters)  132  194  126   \n",
       "\n",
       "       tp  length  support_count       fpr     d_fpr  t_value_fp  \n",
       "1138  986       2         1438.0  0.595092  0.516977    19.04869  "
      ]
     },
     "metadata": {},
     "output_type": "display_data"
    },
    {
     "name": "stdout",
     "output_type": "stream",
     "text": [
      "base\n"
     ]
    },
    {
     "data": {
      "text/html": [
       "<div>\n",
       "<style scoped>\n",
       "    .dataframe tbody tr th:only-of-type {\n",
       "        vertical-align: middle;\n",
       "    }\n",
       "\n",
       "    .dataframe tbody tr th {\n",
       "        vertical-align: top;\n",
       "    }\n",
       "\n",
       "    .dataframe thead th {\n",
       "        text-align: right;\n",
       "    }\n",
       "</style>\n",
       "<table border=\"1\" class=\"dataframe\">\n",
       "  <thead>\n",
       "    <tr style=\"text-align: right;\">\n",
       "      <th></th>\n",
       "      <th>support</th>\n",
       "      <th>itemsets</th>\n",
       "      <th>tn</th>\n",
       "      <th>fp</th>\n",
       "      <th>fn</th>\n",
       "      <th>tp</th>\n",
       "      <th>length</th>\n",
       "      <th>support_count</th>\n",
       "      <th>fpr</th>\n",
       "      <th>d_fpr</th>\n",
       "      <th>t_value_fp</th>\n",
       "    </tr>\n",
       "  </thead>\n",
       "  <tbody>\n",
       "    <tr>\n",
       "      <th>1786</th>\n",
       "      <td>0.031799</td>\n",
       "      <td>(marital-status=Married, education=Masters)</td>\n",
       "      <td>132</td>\n",
       "      <td>194</td>\n",
       "      <td>126</td>\n",
       "      <td>986</td>\n",
       "      <td>2</td>\n",
       "      <td>1438.0</td>\n",
       "      <td>0.595092</td>\n",
       "      <td>0.516977</td>\n",
       "      <td>19.04869</td>\n",
       "    </tr>\n",
       "  </tbody>\n",
       "</table>\n",
       "</div>"
      ],
      "text/plain": [
       "       support                                     itemsets   tn   fp   fn  \\\n",
       "1786  0.031799  (marital-status=Married, education=Masters)  132  194  126   \n",
       "\n",
       "       tp  length  support_count       fpr     d_fpr  t_value_fp  \n",
       "1786  986       2         1438.0  0.595092  0.516977    19.04869  "
      ]
     },
     "metadata": {},
     "output_type": "display_data"
    },
    {
     "name": "stdout",
     "output_type": "stream",
     "text": [
      "generalized_pruned\n"
     ]
    },
    {
     "data": {
      "text/html": [
       "<div>\n",
       "<style scoped>\n",
       "    .dataframe tbody tr th:only-of-type {\n",
       "        vertical-align: middle;\n",
       "    }\n",
       "\n",
       "    .dataframe tbody tr th {\n",
       "        vertical-align: top;\n",
       "    }\n",
       "\n",
       "    .dataframe thead th {\n",
       "        text-align: right;\n",
       "    }\n",
       "</style>\n",
       "<table border=\"1\" class=\"dataframe\">\n",
       "  <thead>\n",
       "    <tr style=\"text-align: right;\">\n",
       "      <th></th>\n",
       "      <th>support</th>\n",
       "      <th>itemsets</th>\n",
       "      <th>tn</th>\n",
       "      <th>fp</th>\n",
       "      <th>fn</th>\n",
       "      <th>tp</th>\n",
       "      <th>length</th>\n",
       "      <th>support_count</th>\n",
       "      <th>fpr</th>\n",
       "      <th>d_fpr</th>\n",
       "      <th>t_value_fp</th>\n",
       "    </tr>\n",
       "  </thead>\n",
       "  <tbody>\n",
       "    <tr>\n",
       "      <th>3205</th>\n",
       "      <td>0.032727</td>\n",
       "      <td>(race=White, occupation=Professional, sex=Male...</td>\n",
       "      <td>107</td>\n",
       "      <td>232</td>\n",
       "      <td>152</td>\n",
       "      <td>989</td>\n",
       "      <td>5</td>\n",
       "      <td>1480.0</td>\n",
       "      <td>0.684366</td>\n",
       "      <td>0.606251</td>\n",
       "      <td>24.016593</td>\n",
       "    </tr>\n",
       "  </tbody>\n",
       "</table>\n",
       "</div>"
      ],
      "text/plain": [
       "       support                                           itemsets   tn   fp  \\\n",
       "3205  0.032727  (race=White, occupation=Professional, sex=Male...  107  232   \n",
       "\n",
       "       fn   tp  length  support_count       fpr     d_fpr  t_value_fp  \n",
       "3205  152  989       5         1480.0  0.684366  0.606251   24.016593  "
      ]
     },
     "metadata": {},
     "output_type": "display_data"
    },
    {
     "name": "stdout",
     "output_type": "stream",
     "text": [
      "generalized\n"
     ]
    },
    {
     "data": {
      "text/html": [
       "<div>\n",
       "<style scoped>\n",
       "    .dataframe tbody tr th:only-of-type {\n",
       "        vertical-align: middle;\n",
       "    }\n",
       "\n",
       "    .dataframe tbody tr th {\n",
       "        vertical-align: top;\n",
       "    }\n",
       "\n",
       "    .dataframe thead th {\n",
       "        text-align: right;\n",
       "    }\n",
       "</style>\n",
       "<table border=\"1\" class=\"dataframe\">\n",
       "  <thead>\n",
       "    <tr style=\"text-align: right;\">\n",
       "      <th></th>\n",
       "      <th>support</th>\n",
       "      <th>itemsets</th>\n",
       "      <th>tn</th>\n",
       "      <th>fp</th>\n",
       "      <th>fn</th>\n",
       "      <th>tp</th>\n",
       "      <th>length</th>\n",
       "      <th>support_count</th>\n",
       "      <th>fpr</th>\n",
       "      <th>d_fpr</th>\n",
       "      <th>t_value_fp</th>\n",
       "    </tr>\n",
       "  </thead>\n",
       "  <tbody>\n",
       "    <tr>\n",
       "      <th>6321</th>\n",
       "      <td>0.032727</td>\n",
       "      <td>(race=White, occupation=Professional, sex=Male...</td>\n",
       "      <td>107</td>\n",
       "      <td>232</td>\n",
       "      <td>152</td>\n",
       "      <td>989</td>\n",
       "      <td>5</td>\n",
       "      <td>1480.0</td>\n",
       "      <td>0.684366</td>\n",
       "      <td>0.606251</td>\n",
       "      <td>24.016593</td>\n",
       "    </tr>\n",
       "  </tbody>\n",
       "</table>\n",
       "</div>"
      ],
      "text/plain": [
       "       support                                           itemsets   tn   fp  \\\n",
       "6321  0.032727  (race=White, occupation=Professional, sex=Male...  107  232   \n",
       "\n",
       "       fn   tp  length  support_count       fpr     d_fpr  t_value_fp  \n",
       "6321  152  989       5         1480.0  0.684366  0.606251   24.016593  "
      ]
     },
     "metadata": {},
     "output_type": "display_data"
    },
    {
     "name": "stdout",
     "output_type": "stream",
     "text": [
      "0.04\n",
      "base_pruned\n"
     ]
    },
    {
     "data": {
      "text/html": [
       "<div>\n",
       "<style scoped>\n",
       "    .dataframe tbody tr th:only-of-type {\n",
       "        vertical-align: middle;\n",
       "    }\n",
       "\n",
       "    .dataframe tbody tr th {\n",
       "        vertical-align: top;\n",
       "    }\n",
       "\n",
       "    .dataframe thead th {\n",
       "        text-align: right;\n",
       "    }\n",
       "</style>\n",
       "<table border=\"1\" class=\"dataframe\">\n",
       "  <thead>\n",
       "    <tr style=\"text-align: right;\">\n",
       "      <th></th>\n",
       "      <th>support</th>\n",
       "      <th>itemsets</th>\n",
       "      <th>tn</th>\n",
       "      <th>fp</th>\n",
       "      <th>fn</th>\n",
       "      <th>tp</th>\n",
       "      <th>length</th>\n",
       "      <th>support_count</th>\n",
       "      <th>fpr</th>\n",
       "      <th>d_fpr</th>\n",
       "      <th>t_value_fp</th>\n",
       "    </tr>\n",
       "  </thead>\n",
       "  <tbody>\n",
       "    <tr>\n",
       "      <th>448</th>\n",
       "      <td>0.061674</td>\n",
       "      <td>(race=White, occupation=Professional, marital-...</td>\n",
       "      <td>357</td>\n",
       "      <td>435</td>\n",
       "      <td>317</td>\n",
       "      <td>1680</td>\n",
       "      <td>3</td>\n",
       "      <td>2789.0</td>\n",
       "      <td>0.549242</td>\n",
       "      <td>0.471128</td>\n",
       "      <td>26.598005</td>\n",
       "    </tr>\n",
       "  </tbody>\n",
       "</table>\n",
       "</div>"
      ],
      "text/plain": [
       "      support                                           itemsets   tn   fp  \\\n",
       "448  0.061674  (race=White, occupation=Professional, marital-...  357  435   \n",
       "\n",
       "      fn    tp  length  support_count       fpr     d_fpr  t_value_fp  \n",
       "448  317  1680       3         2789.0  0.549242  0.471128   26.598005  "
      ]
     },
     "metadata": {},
     "output_type": "display_data"
    },
    {
     "name": "stdout",
     "output_type": "stream",
     "text": [
      "base\n"
     ]
    },
    {
     "data": {
      "text/html": [
       "<div>\n",
       "<style scoped>\n",
       "    .dataframe tbody tr th:only-of-type {\n",
       "        vertical-align: middle;\n",
       "    }\n",
       "\n",
       "    .dataframe tbody tr th {\n",
       "        vertical-align: top;\n",
       "    }\n",
       "\n",
       "    .dataframe thead th {\n",
       "        text-align: right;\n",
       "    }\n",
       "</style>\n",
       "<table border=\"1\" class=\"dataframe\">\n",
       "  <thead>\n",
       "    <tr style=\"text-align: right;\">\n",
       "      <th></th>\n",
       "      <th>support</th>\n",
       "      <th>itemsets</th>\n",
       "      <th>tn</th>\n",
       "      <th>fp</th>\n",
       "      <th>fn</th>\n",
       "      <th>tp</th>\n",
       "      <th>length</th>\n",
       "      <th>support_count</th>\n",
       "      <th>fpr</th>\n",
       "      <th>d_fpr</th>\n",
       "      <th>t_value_fp</th>\n",
       "    </tr>\n",
       "  </thead>\n",
       "  <tbody>\n",
       "    <tr>\n",
       "      <th>659</th>\n",
       "      <td>0.061674</td>\n",
       "      <td>(race=White, occupation=Professional, marital-...</td>\n",
       "      <td>357</td>\n",
       "      <td>435</td>\n",
       "      <td>317</td>\n",
       "      <td>1680</td>\n",
       "      <td>3</td>\n",
       "      <td>2789.0</td>\n",
       "      <td>0.549242</td>\n",
       "      <td>0.471128</td>\n",
       "      <td>26.598005</td>\n",
       "    </tr>\n",
       "  </tbody>\n",
       "</table>\n",
       "</div>"
      ],
      "text/plain": [
       "      support                                           itemsets   tn   fp  \\\n",
       "659  0.061674  (race=White, occupation=Professional, marital-...  357  435   \n",
       "\n",
       "      fn    tp  length  support_count       fpr     d_fpr  t_value_fp  \n",
       "659  317  1680       3         2789.0  0.549242  0.471128   26.598005  "
      ]
     },
     "metadata": {},
     "output_type": "display_data"
    },
    {
     "name": "stdout",
     "output_type": "stream",
     "text": [
      "generalized_pruned\n"
     ]
    },
    {
     "data": {
      "text/html": [
       "<div>\n",
       "<style scoped>\n",
       "    .dataframe tbody tr th:only-of-type {\n",
       "        vertical-align: middle;\n",
       "    }\n",
       "\n",
       "    .dataframe tbody tr th {\n",
       "        vertical-align: top;\n",
       "    }\n",
       "\n",
       "    .dataframe thead th {\n",
       "        text-align: right;\n",
       "    }\n",
       "</style>\n",
       "<table border=\"1\" class=\"dataframe\">\n",
       "  <thead>\n",
       "    <tr style=\"text-align: right;\">\n",
       "      <th></th>\n",
       "      <th>support</th>\n",
       "      <th>itemsets</th>\n",
       "      <th>tn</th>\n",
       "      <th>fp</th>\n",
       "      <th>fn</th>\n",
       "      <th>tp</th>\n",
       "      <th>length</th>\n",
       "      <th>support_count</th>\n",
       "      <th>fpr</th>\n",
       "      <th>d_fpr</th>\n",
       "      <th>t_value_fp</th>\n",
       "    </tr>\n",
       "  </thead>\n",
       "  <tbody>\n",
       "    <tr>\n",
       "      <th>2250</th>\n",
       "      <td>0.042391</td>\n",
       "      <td>(occupation=Professional, marital-status=Marri...</td>\n",
       "      <td>149</td>\n",
       "      <td>298</td>\n",
       "      <td>192</td>\n",
       "      <td>1278</td>\n",
       "      <td>3</td>\n",
       "      <td>1917.0</td>\n",
       "      <td>0.666667</td>\n",
       "      <td>0.588552</td>\n",
       "      <td>26.379188</td>\n",
       "    </tr>\n",
       "  </tbody>\n",
       "</table>\n",
       "</div>"
      ],
      "text/plain": [
       "       support                                           itemsets   tn   fp  \\\n",
       "2250  0.042391  (occupation=Professional, marital-status=Marri...  149  298   \n",
       "\n",
       "       fn    tp  length  support_count       fpr     d_fpr  t_value_fp  \n",
       "2250  192  1278       3         1917.0  0.666667  0.588552   26.379188  "
      ]
     },
     "metadata": {},
     "output_type": "display_data"
    },
    {
     "name": "stdout",
     "output_type": "stream",
     "text": [
      "generalized\n"
     ]
    },
    {
     "data": {
      "text/html": [
       "<div>\n",
       "<style scoped>\n",
       "    .dataframe tbody tr th:only-of-type {\n",
       "        vertical-align: middle;\n",
       "    }\n",
       "\n",
       "    .dataframe tbody tr th {\n",
       "        vertical-align: top;\n",
       "    }\n",
       "\n",
       "    .dataframe thead th {\n",
       "        text-align: right;\n",
       "    }\n",
       "</style>\n",
       "<table border=\"1\" class=\"dataframe\">\n",
       "  <thead>\n",
       "    <tr style=\"text-align: right;\">\n",
       "      <th></th>\n",
       "      <th>support</th>\n",
       "      <th>itemsets</th>\n",
       "      <th>tn</th>\n",
       "      <th>fp</th>\n",
       "      <th>fn</th>\n",
       "      <th>tp</th>\n",
       "      <th>length</th>\n",
       "      <th>support_count</th>\n",
       "      <th>fpr</th>\n",
       "      <th>d_fpr</th>\n",
       "      <th>t_value_fp</th>\n",
       "    </tr>\n",
       "  </thead>\n",
       "  <tbody>\n",
       "    <tr>\n",
       "      <th>4400</th>\n",
       "      <td>0.042391</td>\n",
       "      <td>(occupation=Professional, marital-status=Marri...</td>\n",
       "      <td>149</td>\n",
       "      <td>298</td>\n",
       "      <td>192</td>\n",
       "      <td>1278</td>\n",
       "      <td>3</td>\n",
       "      <td>1917.0</td>\n",
       "      <td>0.666667</td>\n",
       "      <td>0.588552</td>\n",
       "      <td>26.379188</td>\n",
       "    </tr>\n",
       "  </tbody>\n",
       "</table>\n",
       "</div>"
      ],
      "text/plain": [
       "       support                                           itemsets   tn   fp  \\\n",
       "4400  0.042391  (occupation=Professional, marital-status=Marri...  149  298   \n",
       "\n",
       "       fn    tp  length  support_count       fpr     d_fpr  t_value_fp  \n",
       "4400  192  1278       3         1917.0  0.666667  0.588552   26.379188  "
      ]
     },
     "metadata": {},
     "output_type": "display_data"
    },
    {
     "name": "stdout",
     "output_type": "stream",
     "text": [
      "0.05\n",
      "base_pruned\n"
     ]
    },
    {
     "data": {
      "text/html": [
       "<div>\n",
       "<style scoped>\n",
       "    .dataframe tbody tr th:only-of-type {\n",
       "        vertical-align: middle;\n",
       "    }\n",
       "\n",
       "    .dataframe tbody tr th {\n",
       "        vertical-align: top;\n",
       "    }\n",
       "\n",
       "    .dataframe thead th {\n",
       "        text-align: right;\n",
       "    }\n",
       "</style>\n",
       "<table border=\"1\" class=\"dataframe\">\n",
       "  <thead>\n",
       "    <tr style=\"text-align: right;\">\n",
       "      <th></th>\n",
       "      <th>support</th>\n",
       "      <th>itemsets</th>\n",
       "      <th>tn</th>\n",
       "      <th>fp</th>\n",
       "      <th>fn</th>\n",
       "      <th>tp</th>\n",
       "      <th>length</th>\n",
       "      <th>support_count</th>\n",
       "      <th>fpr</th>\n",
       "      <th>d_fpr</th>\n",
       "      <th>t_value_fp</th>\n",
       "    </tr>\n",
       "  </thead>\n",
       "  <tbody>\n",
       "    <tr>\n",
       "      <th>448</th>\n",
       "      <td>0.061674</td>\n",
       "      <td>(race=White, occupation=Professional, marital-...</td>\n",
       "      <td>357</td>\n",
       "      <td>435</td>\n",
       "      <td>317</td>\n",
       "      <td>1680</td>\n",
       "      <td>3</td>\n",
       "      <td>2789.0</td>\n",
       "      <td>0.549242</td>\n",
       "      <td>0.471128</td>\n",
       "      <td>26.598005</td>\n",
       "    </tr>\n",
       "  </tbody>\n",
       "</table>\n",
       "</div>"
      ],
      "text/plain": [
       "      support                                           itemsets   tn   fp  \\\n",
       "448  0.061674  (race=White, occupation=Professional, marital-...  357  435   \n",
       "\n",
       "      fn    tp  length  support_count       fpr     d_fpr  t_value_fp  \n",
       "448  317  1680       3         2789.0  0.549242  0.471128   26.598005  "
      ]
     },
     "metadata": {},
     "output_type": "display_data"
    },
    {
     "name": "stdout",
     "output_type": "stream",
     "text": [
      "base\n"
     ]
    },
    {
     "data": {
      "text/html": [
       "<div>\n",
       "<style scoped>\n",
       "    .dataframe tbody tr th:only-of-type {\n",
       "        vertical-align: middle;\n",
       "    }\n",
       "\n",
       "    .dataframe tbody tr th {\n",
       "        vertical-align: top;\n",
       "    }\n",
       "\n",
       "    .dataframe thead th {\n",
       "        text-align: right;\n",
       "    }\n",
       "</style>\n",
       "<table border=\"1\" class=\"dataframe\">\n",
       "  <thead>\n",
       "    <tr style=\"text-align: right;\">\n",
       "      <th></th>\n",
       "      <th>support</th>\n",
       "      <th>itemsets</th>\n",
       "      <th>tn</th>\n",
       "      <th>fp</th>\n",
       "      <th>fn</th>\n",
       "      <th>tp</th>\n",
       "      <th>length</th>\n",
       "      <th>support_count</th>\n",
       "      <th>fpr</th>\n",
       "      <th>d_fpr</th>\n",
       "      <th>t_value_fp</th>\n",
       "    </tr>\n",
       "  </thead>\n",
       "  <tbody>\n",
       "    <tr>\n",
       "      <th>659</th>\n",
       "      <td>0.061674</td>\n",
       "      <td>(race=White, occupation=Professional, marital-...</td>\n",
       "      <td>357</td>\n",
       "      <td>435</td>\n",
       "      <td>317</td>\n",
       "      <td>1680</td>\n",
       "      <td>3</td>\n",
       "      <td>2789.0</td>\n",
       "      <td>0.549242</td>\n",
       "      <td>0.471128</td>\n",
       "      <td>26.598005</td>\n",
       "    </tr>\n",
       "  </tbody>\n",
       "</table>\n",
       "</div>"
      ],
      "text/plain": [
       "      support                                           itemsets   tn   fp  \\\n",
       "659  0.061674  (race=White, occupation=Professional, marital-...  357  435   \n",
       "\n",
       "      fn    tp  length  support_count       fpr     d_fpr  t_value_fp  \n",
       "659  317  1680       3         2789.0  0.549242  0.471128   26.598005  "
      ]
     },
     "metadata": {},
     "output_type": "display_data"
    },
    {
     "name": "stdout",
     "output_type": "stream",
     "text": [
      "generalized_pruned\n"
     ]
    },
    {
     "data": {
      "text/html": [
       "<div>\n",
       "<style scoped>\n",
       "    .dataframe tbody tr th:only-of-type {\n",
       "        vertical-align: middle;\n",
       "    }\n",
       "\n",
       "    .dataframe tbody tr th {\n",
       "        vertical-align: top;\n",
       "    }\n",
       "\n",
       "    .dataframe thead th {\n",
       "        text-align: right;\n",
       "    }\n",
       "</style>\n",
       "<table border=\"1\" class=\"dataframe\">\n",
       "  <thead>\n",
       "    <tr style=\"text-align: right;\">\n",
       "      <th></th>\n",
       "      <th>support</th>\n",
       "      <th>itemsets</th>\n",
       "      <th>tn</th>\n",
       "      <th>fp</th>\n",
       "      <th>fn</th>\n",
       "      <th>tp</th>\n",
       "      <th>length</th>\n",
       "      <th>support_count</th>\n",
       "      <th>fpr</th>\n",
       "      <th>d_fpr</th>\n",
       "      <th>t_value_fp</th>\n",
       "    </tr>\n",
       "  </thead>\n",
       "  <tbody>\n",
       "    <tr>\n",
       "      <th>1722</th>\n",
       "      <td>0.051059</td>\n",
       "      <td>(marital-status=Married, age=[36-56], educatio...</td>\n",
       "      <td>229</td>\n",
       "      <td>391</td>\n",
       "      <td>243</td>\n",
       "      <td>1446</td>\n",
       "      <td>3</td>\n",
       "      <td>2309.0</td>\n",
       "      <td>0.630645</td>\n",
       "      <td>0.55253</td>\n",
       "      <td>28.464784</td>\n",
       "    </tr>\n",
       "  </tbody>\n",
       "</table>\n",
       "</div>"
      ],
      "text/plain": [
       "       support                                           itemsets   tn   fp  \\\n",
       "1722  0.051059  (marital-status=Married, age=[36-56], educatio...  229  391   \n",
       "\n",
       "       fn    tp  length  support_count       fpr    d_fpr  t_value_fp  \n",
       "1722  243  1446       3         2309.0  0.630645  0.55253   28.464784  "
      ]
     },
     "metadata": {},
     "output_type": "display_data"
    },
    {
     "name": "stdout",
     "output_type": "stream",
     "text": [
      "generalized\n"
     ]
    },
    {
     "data": {
      "text/html": [
       "<div>\n",
       "<style scoped>\n",
       "    .dataframe tbody tr th:only-of-type {\n",
       "        vertical-align: middle;\n",
       "    }\n",
       "\n",
       "    .dataframe tbody tr th {\n",
       "        vertical-align: top;\n",
       "    }\n",
       "\n",
       "    .dataframe thead th {\n",
       "        text-align: right;\n",
       "    }\n",
       "</style>\n",
       "<table border=\"1\" class=\"dataframe\">\n",
       "  <thead>\n",
       "    <tr style=\"text-align: right;\">\n",
       "      <th></th>\n",
       "      <th>support</th>\n",
       "      <th>itemsets</th>\n",
       "      <th>tn</th>\n",
       "      <th>fp</th>\n",
       "      <th>fn</th>\n",
       "      <th>tp</th>\n",
       "      <th>length</th>\n",
       "      <th>support_count</th>\n",
       "      <th>fpr</th>\n",
       "      <th>d_fpr</th>\n",
       "      <th>t_value_fp</th>\n",
       "    </tr>\n",
       "  </thead>\n",
       "  <tbody>\n",
       "    <tr>\n",
       "      <th>3361</th>\n",
       "      <td>0.051059</td>\n",
       "      <td>(marital-status=Married, age=[36-56], educatio...</td>\n",
       "      <td>229</td>\n",
       "      <td>391</td>\n",
       "      <td>243</td>\n",
       "      <td>1446</td>\n",
       "      <td>3</td>\n",
       "      <td>2309.0</td>\n",
       "      <td>0.630645</td>\n",
       "      <td>0.55253</td>\n",
       "      <td>28.464784</td>\n",
       "    </tr>\n",
       "  </tbody>\n",
       "</table>\n",
       "</div>"
      ],
      "text/plain": [
       "       support                                           itemsets   tn   fp  \\\n",
       "3361  0.051059  (marital-status=Married, age=[36-56], educatio...  229  391   \n",
       "\n",
       "       fn    tp  length  support_count       fpr    d_fpr  t_value_fp  \n",
       "3361  243  1446       3         2309.0  0.630645  0.55253   28.464784  "
      ]
     },
     "metadata": {},
     "output_type": "display_data"
    },
    {
     "name": "stdout",
     "output_type": "stream",
     "text": [
      "0.1\n",
      "base_pruned\n"
     ]
    },
    {
     "data": {
      "text/html": [
       "<div>\n",
       "<style scoped>\n",
       "    .dataframe tbody tr th:only-of-type {\n",
       "        vertical-align: middle;\n",
       "    }\n",
       "\n",
       "    .dataframe tbody tr th {\n",
       "        vertical-align: top;\n",
       "    }\n",
       "\n",
       "    .dataframe thead th {\n",
       "        text-align: right;\n",
       "    }\n",
       "</style>\n",
       "<table border=\"1\" class=\"dataframe\">\n",
       "  <thead>\n",
       "    <tr style=\"text-align: right;\">\n",
       "      <th></th>\n",
       "      <th>support</th>\n",
       "      <th>itemsets</th>\n",
       "      <th>tn</th>\n",
       "      <th>fp</th>\n",
       "      <th>fn</th>\n",
       "      <th>tp</th>\n",
       "      <th>length</th>\n",
       "      <th>support_count</th>\n",
       "      <th>fpr</th>\n",
       "      <th>d_fpr</th>\n",
       "      <th>t_value_fp</th>\n",
       "    </tr>\n",
       "  </thead>\n",
       "  <tbody>\n",
       "    <tr>\n",
       "      <th>215</th>\n",
       "      <td>0.10245</td>\n",
       "      <td>(race=White, hours-per-week=[41-53], relations...</td>\n",
       "      <td>1396</td>\n",
       "      <td>633</td>\n",
       "      <td>697</td>\n",
       "      <td>1907</td>\n",
       "      <td>3</td>\n",
       "      <td>4633.0</td>\n",
       "      <td>0.311976</td>\n",
       "      <td>0.233861</td>\n",
       "      <td>22.54118</td>\n",
       "    </tr>\n",
       "  </tbody>\n",
       "</table>\n",
       "</div>"
      ],
      "text/plain": [
       "     support                                           itemsets    tn   fp  \\\n",
       "215  0.10245  (race=White, hours-per-week=[41-53], relations...  1396  633   \n",
       "\n",
       "      fn    tp  length  support_count       fpr     d_fpr  t_value_fp  \n",
       "215  697  1907       3         4633.0  0.311976  0.233861    22.54118  "
      ]
     },
     "metadata": {},
     "output_type": "display_data"
    },
    {
     "name": "stdout",
     "output_type": "stream",
     "text": [
      "base\n"
     ]
    },
    {
     "data": {
      "text/html": [
       "<div>\n",
       "<style scoped>\n",
       "    .dataframe tbody tr th:only-of-type {\n",
       "        vertical-align: middle;\n",
       "    }\n",
       "\n",
       "    .dataframe tbody tr th {\n",
       "        vertical-align: top;\n",
       "    }\n",
       "\n",
       "    .dataframe thead th {\n",
       "        text-align: right;\n",
       "    }\n",
       "</style>\n",
       "<table border=\"1\" class=\"dataframe\">\n",
       "  <thead>\n",
       "    <tr style=\"text-align: right;\">\n",
       "      <th></th>\n",
       "      <th>support</th>\n",
       "      <th>itemsets</th>\n",
       "      <th>tn</th>\n",
       "      <th>fp</th>\n",
       "      <th>fn</th>\n",
       "      <th>tp</th>\n",
       "      <th>length</th>\n",
       "      <th>support_count</th>\n",
       "      <th>fpr</th>\n",
       "      <th>d_fpr</th>\n",
       "      <th>t_value_fp</th>\n",
       "    </tr>\n",
       "  </thead>\n",
       "  <tbody>\n",
       "    <tr>\n",
       "      <th>297</th>\n",
       "      <td>0.10245</td>\n",
       "      <td>(race=White, hours-per-week=[41-53], relations...</td>\n",
       "      <td>1396</td>\n",
       "      <td>633</td>\n",
       "      <td>697</td>\n",
       "      <td>1907</td>\n",
       "      <td>3</td>\n",
       "      <td>4633.0</td>\n",
       "      <td>0.311976</td>\n",
       "      <td>0.233861</td>\n",
       "      <td>22.54118</td>\n",
       "    </tr>\n",
       "  </tbody>\n",
       "</table>\n",
       "</div>"
      ],
      "text/plain": [
       "     support                                           itemsets    tn   fp  \\\n",
       "297  0.10245  (race=White, hours-per-week=[41-53], relations...  1396  633   \n",
       "\n",
       "      fn    tp  length  support_count       fpr     d_fpr  t_value_fp  \n",
       "297  697  1907       3         4633.0  0.311976  0.233861    22.54118  "
      ]
     },
     "metadata": {},
     "output_type": "display_data"
    },
    {
     "name": "stdout",
     "output_type": "stream",
     "text": [
      "generalized_pruned\n"
     ]
    },
    {
     "data": {
      "text/html": [
       "<div>\n",
       "<style scoped>\n",
       "    .dataframe tbody tr th:only-of-type {\n",
       "        vertical-align: middle;\n",
       "    }\n",
       "\n",
       "    .dataframe tbody tr th {\n",
       "        vertical-align: top;\n",
       "    }\n",
       "\n",
       "    .dataframe thead th {\n",
       "        text-align: right;\n",
       "    }\n",
       "</style>\n",
       "<table border=\"1\" class=\"dataframe\">\n",
       "  <thead>\n",
       "    <tr style=\"text-align: right;\">\n",
       "      <th></th>\n",
       "      <th>support</th>\n",
       "      <th>itemsets</th>\n",
       "      <th>tn</th>\n",
       "      <th>fp</th>\n",
       "      <th>fn</th>\n",
       "      <th>tp</th>\n",
       "      <th>length</th>\n",
       "      <th>support_count</th>\n",
       "      <th>fpr</th>\n",
       "      <th>d_fpr</th>\n",
       "      <th>t_value_fp</th>\n",
       "    </tr>\n",
       "  </thead>\n",
       "  <tbody>\n",
       "    <tr>\n",
       "      <th>622</th>\n",
       "      <td>0.102096</td>\n",
       "      <td>(race=White, age=[36-56], hours-per-week=&gt;=41,...</td>\n",
       "      <td>1060</td>\n",
       "      <td>700</td>\n",
       "      <td>677</td>\n",
       "      <td>2180</td>\n",
       "      <td>4</td>\n",
       "      <td>4617.0</td>\n",
       "      <td>0.397727</td>\n",
       "      <td>0.319612</td>\n",
       "      <td>27.214797</td>\n",
       "    </tr>\n",
       "  </tbody>\n",
       "</table>\n",
       "</div>"
      ],
      "text/plain": [
       "      support                                           itemsets    tn   fp  \\\n",
       "622  0.102096  (race=White, age=[36-56], hours-per-week=>=41,...  1060  700   \n",
       "\n",
       "      fn    tp  length  support_count       fpr     d_fpr  t_value_fp  \n",
       "622  677  2180       4         4617.0  0.397727  0.319612   27.214797  "
      ]
     },
     "metadata": {},
     "output_type": "display_data"
    },
    {
     "name": "stdout",
     "output_type": "stream",
     "text": [
      "generalized\n"
     ]
    },
    {
     "data": {
      "text/html": [
       "<div>\n",
       "<style scoped>\n",
       "    .dataframe tbody tr th:only-of-type {\n",
       "        vertical-align: middle;\n",
       "    }\n",
       "\n",
       "    .dataframe tbody tr th {\n",
       "        vertical-align: top;\n",
       "    }\n",
       "\n",
       "    .dataframe thead th {\n",
       "        text-align: right;\n",
       "    }\n",
       "</style>\n",
       "<table border=\"1\" class=\"dataframe\">\n",
       "  <thead>\n",
       "    <tr style=\"text-align: right;\">\n",
       "      <th></th>\n",
       "      <th>support</th>\n",
       "      <th>itemsets</th>\n",
       "      <th>tn</th>\n",
       "      <th>fp</th>\n",
       "      <th>fn</th>\n",
       "      <th>tp</th>\n",
       "      <th>length</th>\n",
       "      <th>support_count</th>\n",
       "      <th>fpr</th>\n",
       "      <th>d_fpr</th>\n",
       "      <th>t_value_fp</th>\n",
       "    </tr>\n",
       "  </thead>\n",
       "  <tbody>\n",
       "    <tr>\n",
       "      <th>1081</th>\n",
       "      <td>0.102096</td>\n",
       "      <td>(race=White, age=[36-56], hours-per-week=&gt;=41,...</td>\n",
       "      <td>1060</td>\n",
       "      <td>700</td>\n",
       "      <td>677</td>\n",
       "      <td>2180</td>\n",
       "      <td>4</td>\n",
       "      <td>4617.0</td>\n",
       "      <td>0.397727</td>\n",
       "      <td>0.319612</td>\n",
       "      <td>27.214797</td>\n",
       "    </tr>\n",
       "  </tbody>\n",
       "</table>\n",
       "</div>"
      ],
      "text/plain": [
       "       support                                           itemsets    tn   fp  \\\n",
       "1081  0.102096  (race=White, age=[36-56], hours-per-week=>=41,...  1060  700   \n",
       "\n",
       "       fn    tp  length  support_count       fpr     d_fpr  t_value_fp  \n",
       "1081  677  2180       4         4617.0  0.397727  0.319612   27.214797  "
      ]
     },
     "metadata": {},
     "output_type": "display_data"
    },
    {
     "name": "stdout",
     "output_type": "stream",
     "text": [
      "0.15\n",
      "base_pruned\n"
     ]
    },
    {
     "data": {
      "text/html": [
       "<div>\n",
       "<style scoped>\n",
       "    .dataframe tbody tr th:only-of-type {\n",
       "        vertical-align: middle;\n",
       "    }\n",
       "\n",
       "    .dataframe tbody tr th {\n",
       "        vertical-align: top;\n",
       "    }\n",
       "\n",
       "    .dataframe thead th {\n",
       "        text-align: right;\n",
       "    }\n",
       "</style>\n",
       "<table border=\"1\" class=\"dataframe\">\n",
       "  <thead>\n",
       "    <tr style=\"text-align: right;\">\n",
       "      <th></th>\n",
       "      <th>support</th>\n",
       "      <th>itemsets</th>\n",
       "      <th>tn</th>\n",
       "      <th>fp</th>\n",
       "      <th>fn</th>\n",
       "      <th>tp</th>\n",
       "      <th>length</th>\n",
       "      <th>support_count</th>\n",
       "      <th>fpr</th>\n",
       "      <th>d_fpr</th>\n",
       "      <th>t_value_fp</th>\n",
       "    </tr>\n",
       "  </thead>\n",
       "  <tbody>\n",
       "    <tr>\n",
       "      <th>11</th>\n",
       "      <td>0.419707</td>\n",
       "      <td>(race=White, marital-status=Married)</td>\n",
       "      <td>8047</td>\n",
       "      <td>2172</td>\n",
       "      <td>2925</td>\n",
       "      <td>5836</td>\n",
       "      <td>2</td>\n",
       "      <td>18980.0</td>\n",
       "      <td>0.212545</td>\n",
       "      <td>0.13443</td>\n",
       "      <td>31.266608</td>\n",
       "    </tr>\n",
       "  </tbody>\n",
       "</table>\n",
       "</div>"
      ],
      "text/plain": [
       "     support                              itemsets    tn    fp    fn    tp  \\\n",
       "11  0.419707  (race=White, marital-status=Married)  8047  2172  2925  5836   \n",
       "\n",
       "    length  support_count       fpr    d_fpr  t_value_fp  \n",
       "11       2        18980.0  0.212545  0.13443   31.266608  "
      ]
     },
     "metadata": {},
     "output_type": "display_data"
    },
    {
     "name": "stdout",
     "output_type": "stream",
     "text": [
      "base\n"
     ]
    },
    {
     "data": {
      "text/html": [
       "<div>\n",
       "<style scoped>\n",
       "    .dataframe tbody tr th:only-of-type {\n",
       "        vertical-align: middle;\n",
       "    }\n",
       "\n",
       "    .dataframe tbody tr th {\n",
       "        vertical-align: top;\n",
       "    }\n",
       "\n",
       "    .dataframe thead th {\n",
       "        text-align: right;\n",
       "    }\n",
       "</style>\n",
       "<table border=\"1\" class=\"dataframe\">\n",
       "  <thead>\n",
       "    <tr style=\"text-align: right;\">\n",
       "      <th></th>\n",
       "      <th>support</th>\n",
       "      <th>itemsets</th>\n",
       "      <th>tn</th>\n",
       "      <th>fp</th>\n",
       "      <th>fn</th>\n",
       "      <th>tp</th>\n",
       "      <th>length</th>\n",
       "      <th>support_count</th>\n",
       "      <th>fpr</th>\n",
       "      <th>d_fpr</th>\n",
       "      <th>t_value_fp</th>\n",
       "    </tr>\n",
       "  </thead>\n",
       "  <tbody>\n",
       "    <tr>\n",
       "      <th>12</th>\n",
       "      <td>0.419707</td>\n",
       "      <td>(race=White, marital-status=Married)</td>\n",
       "      <td>8047</td>\n",
       "      <td>2172</td>\n",
       "      <td>2925</td>\n",
       "      <td>5836</td>\n",
       "      <td>2</td>\n",
       "      <td>18980.0</td>\n",
       "      <td>0.212545</td>\n",
       "      <td>0.13443</td>\n",
       "      <td>31.266608</td>\n",
       "    </tr>\n",
       "  </tbody>\n",
       "</table>\n",
       "</div>"
      ],
      "text/plain": [
       "     support                              itemsets    tn    fp    fn    tp  \\\n",
       "12  0.419707  (race=White, marital-status=Married)  8047  2172  2925  5836   \n",
       "\n",
       "    length  support_count       fpr    d_fpr  t_value_fp  \n",
       "12       2        18980.0  0.212545  0.13443   31.266608  "
      ]
     },
     "metadata": {},
     "output_type": "display_data"
    },
    {
     "name": "stdout",
     "output_type": "stream",
     "text": [
      "generalized_pruned\n"
     ]
    },
    {
     "data": {
      "text/html": [
       "<div>\n",
       "<style scoped>\n",
       "    .dataframe tbody tr th:only-of-type {\n",
       "        vertical-align: middle;\n",
       "    }\n",
       "\n",
       "    .dataframe tbody tr th {\n",
       "        vertical-align: top;\n",
       "    }\n",
       "\n",
       "    .dataframe thead th {\n",
       "        text-align: right;\n",
       "    }\n",
       "</style>\n",
       "<table border=\"1\" class=\"dataframe\">\n",
       "  <thead>\n",
       "    <tr style=\"text-align: right;\">\n",
       "      <th></th>\n",
       "      <th>support</th>\n",
       "      <th>itemsets</th>\n",
       "      <th>tn</th>\n",
       "      <th>fp</th>\n",
       "      <th>fn</th>\n",
       "      <th>tp</th>\n",
       "      <th>length</th>\n",
       "      <th>support_count</th>\n",
       "      <th>fpr</th>\n",
       "      <th>d_fpr</th>\n",
       "      <th>t_value_fp</th>\n",
       "    </tr>\n",
       "  </thead>\n",
       "  <tbody>\n",
       "    <tr>\n",
       "      <th>286</th>\n",
       "      <td>0.15634</td>\n",
       "      <td>(race=White, age=&gt;=28, hours-per-week=&gt;=41, re...</td>\n",
       "      <td>1983</td>\n",
       "      <td>1018</td>\n",
       "      <td>1068</td>\n",
       "      <td>3001</td>\n",
       "      <td>4</td>\n",
       "      <td>7070.0</td>\n",
       "      <td>0.33922</td>\n",
       "      <td>0.261105</td>\n",
       "      <td>29.814274</td>\n",
       "    </tr>\n",
       "  </tbody>\n",
       "</table>\n",
       "</div>"
      ],
      "text/plain": [
       "     support                                           itemsets    tn    fp  \\\n",
       "286  0.15634  (race=White, age=>=28, hours-per-week=>=41, re...  1983  1018   \n",
       "\n",
       "       fn    tp  length  support_count      fpr     d_fpr  t_value_fp  \n",
       "286  1068  3001       4         7070.0  0.33922  0.261105   29.814274  "
      ]
     },
     "metadata": {},
     "output_type": "display_data"
    },
    {
     "name": "stdout",
     "output_type": "stream",
     "text": [
      "generalized\n"
     ]
    },
    {
     "data": {
      "text/html": [
       "<div>\n",
       "<style scoped>\n",
       "    .dataframe tbody tr th:only-of-type {\n",
       "        vertical-align: middle;\n",
       "    }\n",
       "\n",
       "    .dataframe tbody tr th {\n",
       "        vertical-align: top;\n",
       "    }\n",
       "\n",
       "    .dataframe thead th {\n",
       "        text-align: right;\n",
       "    }\n",
       "</style>\n",
       "<table border=\"1\" class=\"dataframe\">\n",
       "  <thead>\n",
       "    <tr style=\"text-align: right;\">\n",
       "      <th></th>\n",
       "      <th>support</th>\n",
       "      <th>itemsets</th>\n",
       "      <th>tn</th>\n",
       "      <th>fp</th>\n",
       "      <th>fn</th>\n",
       "      <th>tp</th>\n",
       "      <th>length</th>\n",
       "      <th>support_count</th>\n",
       "      <th>fpr</th>\n",
       "      <th>d_fpr</th>\n",
       "      <th>t_value_fp</th>\n",
       "    </tr>\n",
       "  </thead>\n",
       "  <tbody>\n",
       "    <tr>\n",
       "      <th>465</th>\n",
       "      <td>0.15634</td>\n",
       "      <td>(race=White, age=&gt;=28, hours-per-week=&gt;=41, re...</td>\n",
       "      <td>1983</td>\n",
       "      <td>1018</td>\n",
       "      <td>1068</td>\n",
       "      <td>3001</td>\n",
       "      <td>4</td>\n",
       "      <td>7070.0</td>\n",
       "      <td>0.33922</td>\n",
       "      <td>0.261105</td>\n",
       "      <td>29.814274</td>\n",
       "    </tr>\n",
       "  </tbody>\n",
       "</table>\n",
       "</div>"
      ],
      "text/plain": [
       "     support                                           itemsets    tn    fp  \\\n",
       "465  0.15634  (race=White, age=>=28, hours-per-week=>=41, re...  1983  1018   \n",
       "\n",
       "       fn    tp  length  support_count      fpr     d_fpr  t_value_fp  \n",
       "465  1068  3001       4         7070.0  0.33922  0.261105   29.814274  "
      ]
     },
     "metadata": {},
     "output_type": "display_data"
    },
    {
     "name": "stdout",
     "output_type": "stream",
     "text": [
      "0.2\n",
      "base_pruned\n"
     ]
    },
    {
     "data": {
      "text/html": [
       "<div>\n",
       "<style scoped>\n",
       "    .dataframe tbody tr th:only-of-type {\n",
       "        vertical-align: middle;\n",
       "    }\n",
       "\n",
       "    .dataframe tbody tr th {\n",
       "        vertical-align: top;\n",
       "    }\n",
       "\n",
       "    .dataframe thead th {\n",
       "        text-align: right;\n",
       "    }\n",
       "</style>\n",
       "<table border=\"1\" class=\"dataframe\">\n",
       "  <thead>\n",
       "    <tr style=\"text-align: right;\">\n",
       "      <th></th>\n",
       "      <th>support</th>\n",
       "      <th>itemsets</th>\n",
       "      <th>tn</th>\n",
       "      <th>fp</th>\n",
       "      <th>fn</th>\n",
       "      <th>tp</th>\n",
       "      <th>length</th>\n",
       "      <th>support_count</th>\n",
       "      <th>fpr</th>\n",
       "      <th>d_fpr</th>\n",
       "      <th>t_value_fp</th>\n",
       "    </tr>\n",
       "  </thead>\n",
       "  <tbody>\n",
       "    <tr>\n",
       "      <th>11</th>\n",
       "      <td>0.419707</td>\n",
       "      <td>(race=White, marital-status=Married)</td>\n",
       "      <td>8047</td>\n",
       "      <td>2172</td>\n",
       "      <td>2925</td>\n",
       "      <td>5836</td>\n",
       "      <td>2</td>\n",
       "      <td>18980.0</td>\n",
       "      <td>0.212545</td>\n",
       "      <td>0.13443</td>\n",
       "      <td>31.266608</td>\n",
       "    </tr>\n",
       "  </tbody>\n",
       "</table>\n",
       "</div>"
      ],
      "text/plain": [
       "     support                              itemsets    tn    fp    fn    tp  \\\n",
       "11  0.419707  (race=White, marital-status=Married)  8047  2172  2925  5836   \n",
       "\n",
       "    length  support_count       fpr    d_fpr  t_value_fp  \n",
       "11       2        18980.0  0.212545  0.13443   31.266608  "
      ]
     },
     "metadata": {},
     "output_type": "display_data"
    },
    {
     "name": "stdout",
     "output_type": "stream",
     "text": [
      "base\n"
     ]
    },
    {
     "data": {
      "text/html": [
       "<div>\n",
       "<style scoped>\n",
       "    .dataframe tbody tr th:only-of-type {\n",
       "        vertical-align: middle;\n",
       "    }\n",
       "\n",
       "    .dataframe tbody tr th {\n",
       "        vertical-align: top;\n",
       "    }\n",
       "\n",
       "    .dataframe thead th {\n",
       "        text-align: right;\n",
       "    }\n",
       "</style>\n",
       "<table border=\"1\" class=\"dataframe\">\n",
       "  <thead>\n",
       "    <tr style=\"text-align: right;\">\n",
       "      <th></th>\n",
       "      <th>support</th>\n",
       "      <th>itemsets</th>\n",
       "      <th>tn</th>\n",
       "      <th>fp</th>\n",
       "      <th>fn</th>\n",
       "      <th>tp</th>\n",
       "      <th>length</th>\n",
       "      <th>support_count</th>\n",
       "      <th>fpr</th>\n",
       "      <th>d_fpr</th>\n",
       "      <th>t_value_fp</th>\n",
       "    </tr>\n",
       "  </thead>\n",
       "  <tbody>\n",
       "    <tr>\n",
       "      <th>12</th>\n",
       "      <td>0.419707</td>\n",
       "      <td>(race=White, marital-status=Married)</td>\n",
       "      <td>8047</td>\n",
       "      <td>2172</td>\n",
       "      <td>2925</td>\n",
       "      <td>5836</td>\n",
       "      <td>2</td>\n",
       "      <td>18980.0</td>\n",
       "      <td>0.212545</td>\n",
       "      <td>0.13443</td>\n",
       "      <td>31.266608</td>\n",
       "    </tr>\n",
       "  </tbody>\n",
       "</table>\n",
       "</div>"
      ],
      "text/plain": [
       "     support                              itemsets    tn    fp    fn    tp  \\\n",
       "12  0.419707  (race=White, marital-status=Married)  8047  2172  2925  5836   \n",
       "\n",
       "    length  support_count       fpr    d_fpr  t_value_fp  \n",
       "12       2        18980.0  0.212545  0.13443   31.266608  "
      ]
     },
     "metadata": {},
     "output_type": "display_data"
    },
    {
     "name": "stdout",
     "output_type": "stream",
     "text": [
      "generalized_pruned\n"
     ]
    },
    {
     "data": {
      "text/html": [
       "<div>\n",
       "<style scoped>\n",
       "    .dataframe tbody tr th:only-of-type {\n",
       "        vertical-align: middle;\n",
       "    }\n",
       "\n",
       "    .dataframe tbody tr th {\n",
       "        vertical-align: top;\n",
       "    }\n",
       "\n",
       "    .dataframe thead th {\n",
       "        text-align: right;\n",
       "    }\n",
       "</style>\n",
       "<table border=\"1\" class=\"dataframe\">\n",
       "  <thead>\n",
       "    <tr style=\"text-align: right;\">\n",
       "      <th></th>\n",
       "      <th>support</th>\n",
       "      <th>itemsets</th>\n",
       "      <th>tn</th>\n",
       "      <th>fp</th>\n",
       "      <th>fn</th>\n",
       "      <th>tp</th>\n",
       "      <th>length</th>\n",
       "      <th>support_count</th>\n",
       "      <th>fpr</th>\n",
       "      <th>d_fpr</th>\n",
       "      <th>t_value_fp</th>\n",
       "    </tr>\n",
       "  </thead>\n",
       "  <tbody>\n",
       "    <tr>\n",
       "      <th>122</th>\n",
       "      <td>0.236411</td>\n",
       "      <td>(race=White, marital-status=Married, age=[36-56])</td>\n",
       "      <td>3482</td>\n",
       "      <td>1398</td>\n",
       "      <td>1706</td>\n",
       "      <td>4105</td>\n",
       "      <td>3</td>\n",
       "      <td>10691.0</td>\n",
       "      <td>0.286475</td>\n",
       "      <td>0.208361</td>\n",
       "      <td>31.425895</td>\n",
       "    </tr>\n",
       "  </tbody>\n",
       "</table>\n",
       "</div>"
      ],
      "text/plain": [
       "      support                                           itemsets    tn    fp  \\\n",
       "122  0.236411  (race=White, marital-status=Married, age=[36-56])  3482  1398   \n",
       "\n",
       "       fn    tp  length  support_count       fpr     d_fpr  t_value_fp  \n",
       "122  1706  4105       3        10691.0  0.286475  0.208361   31.425895  "
      ]
     },
     "metadata": {},
     "output_type": "display_data"
    },
    {
     "name": "stdout",
     "output_type": "stream",
     "text": [
      "generalized\n"
     ]
    },
    {
     "data": {
      "text/html": [
       "<div>\n",
       "<style scoped>\n",
       "    .dataframe tbody tr th:only-of-type {\n",
       "        vertical-align: middle;\n",
       "    }\n",
       "\n",
       "    .dataframe tbody tr th {\n",
       "        vertical-align: top;\n",
       "    }\n",
       "\n",
       "    .dataframe thead th {\n",
       "        text-align: right;\n",
       "    }\n",
       "</style>\n",
       "<table border=\"1\" class=\"dataframe\">\n",
       "  <thead>\n",
       "    <tr style=\"text-align: right;\">\n",
       "      <th></th>\n",
       "      <th>support</th>\n",
       "      <th>itemsets</th>\n",
       "      <th>tn</th>\n",
       "      <th>fp</th>\n",
       "      <th>fn</th>\n",
       "      <th>tp</th>\n",
       "      <th>length</th>\n",
       "      <th>support_count</th>\n",
       "      <th>fpr</th>\n",
       "      <th>d_fpr</th>\n",
       "      <th>t_value_fp</th>\n",
       "    </tr>\n",
       "  </thead>\n",
       "  <tbody>\n",
       "    <tr>\n",
       "      <th>169</th>\n",
       "      <td>0.236411</td>\n",
       "      <td>(race=White, marital-status=Married, age=[36-56])</td>\n",
       "      <td>3482</td>\n",
       "      <td>1398</td>\n",
       "      <td>1706</td>\n",
       "      <td>4105</td>\n",
       "      <td>3</td>\n",
       "      <td>10691.0</td>\n",
       "      <td>0.286475</td>\n",
       "      <td>0.208361</td>\n",
       "      <td>31.425895</td>\n",
       "    </tr>\n",
       "  </tbody>\n",
       "</table>\n",
       "</div>"
      ],
      "text/plain": [
       "      support                                           itemsets    tn    fp  \\\n",
       "169  0.236411  (race=White, marital-status=Married, age=[36-56])  3482  1398   \n",
       "\n",
       "       fn    tp  length  support_count       fpr     d_fpr  t_value_fp  \n",
       "169  1706  4105       3        10691.0  0.286475  0.208361   31.425895  "
      ]
     },
     "metadata": {},
     "output_type": "display_data"
    }
   ],
   "source": [
    "for k in out_support:\n",
    "    print(k)\n",
    "    for t_gen in out_support[k]:\n",
    "        print(t_gen)\n",
    "        display(out_support[k][t_gen])"
   ]
  },
  {
   "cell_type": "markdown",
   "id": "d3683a8e",
   "metadata": {},
   "source": [
    "# Plot results"
   ]
  },
  {
   "cell_type": "code",
   "execution_count": 575,
   "id": "e354de46",
   "metadata": {
    "ExecuteTime": {
     "end_time": "2022-12-21T09:20:35.328929Z",
     "start_time": "2022-12-21T09:20:35.302204Z"
    }
   },
   "outputs": [],
   "source": [
    "import os\n",
    "\n",
    "output_fig_dir = os.path.join(os.path.curdir, \"output_figures\", \"figures\", \"output_performance\")\n",
    "from pathlib import Path\n",
    "\n",
    "Path(output_fig_dir).mkdir(parents=True, exist_ok=True)"
   ]
  },
  {
   "cell_type": "code",
   "execution_count": 576,
   "id": "9217fe31",
   "metadata": {
    "ExecuteTime": {
     "end_time": "2022-12-21T09:20:35.484402Z",
     "start_time": "2022-12-21T09:20:35.330587Z"
    }
   },
   "outputs": [],
   "source": [
    "abbreviations = {\"one_at_time\":\"indiv t.\", \\\n",
    "                  \"divergence_criterion\":\"g$\\\\Delta$\", \"entropy\":\"entr\"}"
   ]
  },
  {
   "cell_type": "code",
   "execution_count": 577,
   "id": "30aa3f10",
   "metadata": {
    "ExecuteTime": {
     "end_time": "2022-12-21T09:20:35.515326Z",
     "start_time": "2022-12-21T09:20:35.488200Z"
    }
   },
   "outputs": [],
   "source": [
    "def abbreviateValue(value, abbreviations={}):\n",
    "    for k, v in abbreviations.items():\n",
    "        if k in value:\n",
    "            \n",
    "            value = value.replace(k, v)\n",
    "    #TODO\n",
    "    if value[0:2] not in [\"q_\", \"u_\"]:\n",
    "        value = value.replace(\"_\", \" \")\n",
    "    return value\n",
    "    \n",
    "def abbreviate_dict_value(input_dict, abbreviations):\n",
    "    \n",
    "    conv ={}\n",
    "    for k1, dict_i in input_dict.items():\n",
    "        conv[k1] = { abbreviateValue(k, abbreviations): d for k, d in dict_i.items()}\n",
    "    return conv"
   ]
  },
  {
   "cell_type": "code",
   "execution_count": 578,
   "id": "aed5fad6",
   "metadata": {
    "ExecuteTime": {
     "end_time": "2022-12-21T09:20:35.551522Z",
     "start_time": "2022-12-21T09:20:35.517098Z"
    }
   },
   "outputs": [
    {
     "name": "stdout",
     "output_type": "stream",
     "text": [
      "{'entr base': '#7fcc7f', 'g$\\\\Delta$ base': '#009900', 'entr generalized': 'mediumblue', 'g$\\\\Delta$ generalized': 'orangered', 'entr base pruned': 'yellow', 'g$\\\\Delta$ base pruned': 'darkred', 'entr generalized pruned': 'gray', 'g$\\\\Delta$ generalized pruned': 'black'}\n"
     ]
    }
   ],
   "source": [
    "color_labels = {}\n",
    "    \n",
    "color_labels[abbreviateValue(f'entropy_base', abbreviations)]=\"#7fcc7f\"\n",
    "color_labels[abbreviateValue(f'divergence_criterion_base', abbreviations)]=\"#009900\"\n",
    "\n",
    "color_labels[abbreviateValue(f'entropy_generalized', abbreviations)]=\"mediumblue\"\n",
    "color_labels[abbreviateValue(f'divergence_criterion_generalized', abbreviations)]=\"orangered\"\n",
    "\n",
    "\n",
    "color_labels[abbreviateValue(f'entropy_base_pruned', abbreviations)]=\"yellow\"\n",
    "color_labels[abbreviateValue(f'divergence_criterion_base_pruned', abbreviations)]=\"darkred\"\n",
    "\n",
    "color_labels[abbreviateValue(f'entropy_generalized_pruned', abbreviations)]=\"gray\"\n",
    "color_labels[abbreviateValue(f'divergence_criterion_generalized_pruned', abbreviations)]=\"black\"\n",
    "\n",
    "\n",
    "\n",
    "lines_style = {k:\"-\" for k in color_labels}\n",
    "print(color_labels)\n",
    "lines_style.update({k:\"--\" for k in color_labels if( \"base\" in k and abbreviations[\"entropy\"] in k)})\n",
    "lines_style.update({k:\"-.\" for k in color_labels if( 'base' in k and abbreviations[\"divergence_criterion\"] in k)})"
   ]
  },
  {
   "cell_type": "markdown",
   "id": "9af85590",
   "metadata": {},
   "source": [
    "## Plot time"
   ]
  },
  {
   "cell_type": "code",
   "execution_count": 588,
   "id": "ab2aa191",
   "metadata": {
    "ExecuteTime": {
     "end_time": "2022-12-21T09:26:11.528570Z",
     "start_time": "2022-12-21T09:26:11.173393Z"
    }
   },
   "outputs": [
    {
     "data": {
      "image/png": "[encoded data removed]",
      "text/plain": [
       "<Figure size 550x300 with 1 Axes>"
      ]
     },
     "metadata": {
      "needs_background": "light"
     },
     "output_type": "display_data"
    }
   ],
   "source": [
    "from utils_plot import plotDicts\n",
    "\n",
    "\n",
    "\n",
    "info_plot = {}\n",
    "for sup in out_time:\n",
    "    for type_gen in out_time[sup]:\n",
    "        type_gen_str = abbreviateValue(f\"{type_criterion}_{type_gen}\", abbreviations)\n",
    "        if type_gen_str not in info_plot:\n",
    "            info_plot[type_gen_str] = {}\n",
    "        info_plot[type_gen_str][sup] = out_time[sup][type_gen]\n",
    "        \n",
    "        \n",
    "size_fig = (5.5,3)\n",
    "\n",
    "\n",
    "info_i = \"time\"\n",
    "\n",
    "figure_name = os.path.join(output_fig_dir, f\"{dataset_name}_stree_{min_support_tree}_{metric}_{info_i}.pdf\")\n",
    "\n",
    "\n",
    "\n",
    "\n",
    "plotDicts(info_plot, marker=True, \\\n",
    "          title = 'Execution time', sizeFig=size_fig,\\\n",
    "                   linestyle=lines_style, color_labels=color_labels, \\\n",
    "          xlabel=\"Minimum support s\",  ylabel=\"Execution time $(seconds)$\", labelSize=10.2,\\\n",
    "         outside=True,  saveFig=True, nameFig = figure_name, legendSize=10.2)"
   ]
  },
  {
   "cell_type": "markdown",
   "id": "8f5e44bb",
   "metadata": {
    "ExecuteTime": {
     "end_time": "2022-12-19T15:18:23.428621Z",
     "start_time": "2022-12-19T15:18:23.396826Z"
    }
   },
   "source": [
    "## Plot max"
   ]
  },
  {
   "cell_type": "code",
   "execution_count": 589,
   "id": "ff1c62b4",
   "metadata": {
    "ExecuteTime": {
     "end_time": "2022-12-21T09:26:28.606346Z",
     "start_time": "2022-12-21T09:26:28.252703Z"
    },
    "scrolled": true
   },
   "outputs": [
    {
     "data": {
      "image/png": "[encoded data removed]",
      "text/plain": [
       "<Figure size 300x300 with 1 Axes>"
      ]
     },
     "metadata": {
      "needs_background": "light"
     },
     "output_type": "display_data"
    }
   ],
   "source": [
    "from utils_plot import plotDicts\n",
    "\n",
    "\n",
    "\n",
    "info_plot = {}\n",
    "for sup in out_support:\n",
    "\n",
    "    for type_gen in out_support[sup]:\n",
    "        type_gen_str = abbreviateValue(f\"{type_criterion}_{type_gen}\", abbreviations)\n",
    "        if type_gen_str not in info_plot:\n",
    "            info_plot[type_gen_str] = {}\n",
    "        info_plot[type_gen_str][sup] = out_support[sup][type_gen][metric].iloc[0]\n",
    "        \n",
    "        \n",
    "size_fig = (3,3)\n",
    "\n",
    "\n",
    "info_i = f\"max_{metric}\"\n",
    "\n",
    "figure_name = os.path.join(output_fig_dir, f\"{dataset_name}_stree_{min_support_tree}_{metric}_{info_i}.pdf\")\n",
    "\n",
    "\n",
    "\n",
    "\n",
    "plotDicts(info_plot, marker=True, \\\n",
    "          title=\"Highest $\\\\Delta_{FPR}$\" , sizeFig=size_fig,\n",
    "       #            linestyle=lines_style, color_labels=color_labels, \\\n",
    "          xlabel=\"Minimum support s\",  ylabel=\"Max $\\\\Delta_{FPR}$\", labelSize=10.2,\\\n",
    "         outside=True,  saveFig=True, nameFig = figure_name, legendSize=10.2)"
   ]
  },
  {
   "cell_type": "markdown",
   "id": "50ec13a5",
   "metadata": {},
   "source": [
    "# Save results"
   ]
  },
  {
   "cell_type": "code",
   "execution_count": 344,
   "id": "35f7042f",
   "metadata": {
    "ExecuteTime": {
     "end_time": "2022-12-21T09:20:37.267854Z",
     "start_time": "2022-12-21T09:20:37.246416Z"
    }
   },
   "outputs": [],
   "source": [
    "save = True"
   ]
  },
  {
   "cell_type": "code",
   "execution_count": 36,
   "id": "3e2bf525",
   "metadata": {
    "ExecuteTime": {
     "end_time": "2022-12-21T09:20:37.407369Z",
     "start_time": "2022-12-21T09:20:37.269881Z"
    }
   },
   "outputs": [],
   "source": [
    "import os\n",
    "\n",
    "output_results = os.path.join(os.path.curdir, \"output_results\", 'performance')\n",
    "from pathlib import Path\n",
    "\n",
    "Path(output_results).mkdir(parents=True, exist_ok=True)"
   ]
  },
  {
   "cell_type": "code",
   "execution_count": 37,
   "id": "1d8fa2a0",
   "metadata": {
    "ExecuteTime": {
     "end_time": "2022-12-21T09:20:37.443670Z",
     "start_time": "2022-12-21T09:20:37.411029Z"
    }
   },
   "outputs": [],
   "source": [
    "if save:\n",
    "\n",
    "    import json\n",
    "    with open(os.path.join(output_results, f'{dataset_name}_{metric}_time.json'), 'w') as output_file:\n",
    "         output_file.write(json.dumps(out_time))\n",
    "\n",
    "\n",
    "    out_support_max = {}\n",
    "\n",
    "\n",
    "    for sup in sorted(out_support.keys()):\n",
    "        out_support_max[sup] = {}\n",
    "        for type_gen in out_support[sup]:\n",
    "            out_support_max[sup][type_gen] = out_support[sup][type_gen][metric].iloc[0]\n",
    "\n",
    "    with open(os.path.join(output_results, f'{dataset_name}_{metric}_div.json'), 'w') as output_file:\n",
    "         output_file.write(json.dumps(out_support_max))"
   ]
  }
 ],
 "metadata": {
  "kernelspec": {
   "display_name": "mainexp",
   "language": "python",
   "name": "mainexp"
  },
  "language_info": {
   "codemirror_mode": {
    "name": "ipython",
    "version": 3
   },
   "file_extension": ".py",
   "mimetype": "text/x-python",
   "name": "python",
   "nbconvert_exporter": "python",
   "pygments_lexer": "ipython3",
   "version": "3.10.6"
  },
  "toc": {
   "base_numbering": 1,
   "nav_menu": {},
   "number_sections": true,
   "sideBar": true,
   "skip_h1_title": false,
   "title_cell": "Table of Contents",
   "title_sidebar": "Contents",
   "toc_cell": false,
   "toc_position": {},
   "toc_section_display": true,
   "toc_window_display": true
  }
 },
 "nbformat": 4,
 "nbformat_minor": 5
}
