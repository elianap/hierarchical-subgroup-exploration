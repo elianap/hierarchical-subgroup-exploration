{
 "cells": [
  {
   "cell_type": "code",
   "execution_count": 1,
   "id": "67c0fa62",
   "metadata": {},
   "outputs": [],
   "source": [
    "%load_ext autoreload\n",
    "%autoreload 2"
   ]
  },
  {
   "cell_type": "code",
   "execution_count": 2,
   "id": "ff4af8df",
   "metadata": {},
   "outputs": [],
   "source": [
    "import warnings\n",
    "warnings.filterwarnings(\"ignore\")"
   ]
  },
  {
   "cell_type": "code",
   "execution_count": 16,
   "id": "8b4c5533",
   "metadata": {},
   "outputs": [],
   "source": [
    "import os\n",
    "import numpy as np\n",
    "import pandas as pd\n",
    "from divexplorer_generalized.FP_Divergence import FP_Divergence"
   ]
  },
  {
   "cell_type": "markdown",
   "id": "27d0b123",
   "metadata": {},
   "source": [
    "# Import data"
   ]
  },
  {
   "cell_type": "code",
   "execution_count": 8,
   "id": "670f380e",
   "metadata": {},
   "outputs": [],
   "source": [
    "DATASET_DIR = os.path.join(os.path.curdir, \"datasets\")\n",
    "\n",
    "def import_process_adult(discretize=False, bins=3, inputDir=DATASET_DIR):\n",
    "    education_map = {\n",
    "        \"10th\": \"Dropout\",\n",
    "        \"11th\": \"Dropout\",\n",
    "        \"12th\": \"Dropout\",\n",
    "        \"1st-4th\": \"Dropout\",\n",
    "        \"5th-6th\": \"Dropout\",\n",
    "        \"7th-8th\": \"Dropout\",\n",
    "        \"9th\": \"Dropout\",\n",
    "        \"Preschool\": \"Dropout\",\n",
    "        \"HS-grad\": \"High School grad\",\n",
    "        \"Some-college\": \"High School grad\",\n",
    "        \"Masters\": \"Masters\",\n",
    "        \"Prof-school\": \"Prof-School\",\n",
    "        \"Assoc-acdm\": \"Associates\",\n",
    "        \"Assoc-voc\": \"Associates\",\n",
    "    }\n",
    "    occupation_map = {\n",
    "        \"Adm-clerical\": \"Admin\",\n",
    "        \"Armed-Forces\": \"Military\",\n",
    "        \"Craft-repair\": \"Blue-Collar\",\n",
    "        \"Exec-managerial\": \"White-Collar\",\n",
    "        \"Farming-fishing\": \"Blue-Collar\",\n",
    "        \"Handlers-cleaners\": \"Blue-Collar\",\n",
    "        \"Machine-op-inspct\": \"Blue-Collar\",\n",
    "        \"Other-service\": \"Service\",\n",
    "        \"Priv-house-serv\": \"Service\",\n",
    "        \"Prof-specialty\": \"Professional\",\n",
    "        \"Protective-serv\": \"Other\",\n",
    "        \"Sales\": \"Sales\",\n",
    "        \"Tech-support\": \"Other\",\n",
    "        \"Transport-moving\": \"Blue-Collar\",\n",
    "    }\n",
    "    married_map = {\n",
    "        \"Never-married\": \"Never-Married\",\n",
    "        \"Married-AF-spouse\": \"Married\",\n",
    "        \"Married-civ-spouse\": \"Married\",\n",
    "        \"Married-spouse-absent\": \"Separated\",\n",
    "        \"Separated\": \"Separated\",\n",
    "        \"Divorced\": \"Separated\",\n",
    "        \"Widowed\": \"Widowed\",\n",
    "    }\n",
    "\n",
    "    country_map = {\n",
    "        \"Cambodia\": \"SE-Asia\",\n",
    "        \"Canada\": \"British-Commonwealth\",\n",
    "        \"China\": \"China\",\n",
    "        \"Columbia\": \"South-America\",\n",
    "        \"Cuba\": \"Other\",\n",
    "        \"Dominican-Republic\": \"Latin-America\",\n",
    "        \"Ecuador\": \"South-America\",\n",
    "        \"El-Salvador\": \"South-America\",\n",
    "        \"England\": \"British-Commonwealth\",\n",
    "        \"France\": \"Euro_1\",\n",
    "        \"Germany\": \"Euro_1\",\n",
    "        \"Greece\": \"Euro_2\",\n",
    "        \"Guatemala\": \"Latin-America\",\n",
    "        \"Haiti\": \"Latin-America\",\n",
    "        \"Holand-Netherlands\": \"Euro_1\",\n",
    "        \"Honduras\": \"Latin-America\",\n",
    "        \"Hong\": \"China\",\n",
    "        \"Hungary\": \"Euro_2\",\n",
    "        \"India\": \"British-Commonwealth\",\n",
    "        \"Iran\": \"Other\",\n",
    "        \"Ireland\": \"British-Commonwealth\",\n",
    "        \"Italy\": \"Euro_1\",\n",
    "        \"Jamaica\": \"Latin-America\",\n",
    "        \"Japan\": \"Other\",\n",
    "        \"Laos\": \"SE-Asia\",\n",
    "        \"Mexico\": \"Latin-America\",\n",
    "        \"Nicaragua\": \"Latin-America\",\n",
    "        \"Outlying-US(Guam-USVI-etc)\": \"Latin-America\",\n",
    "        \"Peru\": \"South-America\",\n",
    "        \"Philippines\": \"SE-Asia\",\n",
    "        \"Poland\": \"Euro_2\",\n",
    "        \"Portugal\": \"Euro_2\",\n",
    "        \"Puerto-Rico\": \"Latin-America\",\n",
    "        \"Scotland\": \"British-Commonwealth\",\n",
    "        \"South\": \"Euro_2\",\n",
    "        \"Taiwan\": \"China\",\n",
    "        \"Thailand\": \"SE-Asia\",\n",
    "        \"Trinadad&Tobago\": \"Latin-America\",\n",
    "        \"United-States\": \"United-States\",\n",
    "        \"Vietnam\": \"SE-Asia\",\n",
    "    }\n",
    "    # as given by adult.names\n",
    "    column_names = [\n",
    "        \"age\",\n",
    "        \"workclass\",\n",
    "        \"fnlwgt\",\n",
    "        \"education\",\n",
    "        \"education-num\",\n",
    "        \"marital-status\",\n",
    "        \"occupation\",\n",
    "        \"relationship\",\n",
    "        \"race\",\n",
    "        \"sex\",\n",
    "        \"capital-gain\",\n",
    "        \"capital-loss\",\n",
    "        \"hours-per-week\",\n",
    "        \"native-country\",\n",
    "        \"income-per-year\",\n",
    "    ]\n",
    "\n",
    "    #check_dataset_availability(\"credit-g.csv\", inputDir=inputDir)\n",
    "    train = pd.read_csv(\n",
    "        os.path.join(inputDir, \"adult.data\"),\n",
    "        header=None,\n",
    "        names=column_names,\n",
    "        skipinitialspace=True,\n",
    "        na_values=\"?\",\n",
    "    )\n",
    "\n",
    "    #check_dataset_availability(\"adult.test\", inputDir=inputDir)\n",
    "\n",
    "    test = pd.read_csv(\n",
    "        os.path.join(inputDir, \"adult.test\"),\n",
    "        header=0,\n",
    "        names=column_names,\n",
    "        skipinitialspace=True,\n",
    "        na_values=\"?\",\n",
    "    )\n",
    "    dt = pd.concat([test, train], ignore_index=True)\n",
    "    dt[\"education\"] = dt[\"education\"].replace(education_map)\n",
    "    dt.drop(columns=[\"education-num\", \"fnlwgt\"], inplace=True)\n",
    "    dt[\"occupation\"] = dt[\"occupation\"].replace(occupation_map)\n",
    "    dt[\"marital-status\"] = dt[\"marital-status\"].replace(married_map)\n",
    "    dt[\"native-country\"] = dt[\"native-country\"].replace(country_map)\n",
    "\n",
    "    dt.rename(columns={\"income-per-year\": \"class\"}, inplace=True)\n",
    "    dt[\"class\"] = (\n",
    "        dt[\"class\"].astype(\"str\").replace({\">50K.\": \">50K\", \"<=50K.\": \"<=50K\"})\n",
    "    )\n",
    "    dt.dropna(inplace=True)\n",
    "    dt.reset_index(drop=True, inplace=True)\n",
    "    if discretize:\n",
    "        dt = KBinsDiscretizer_continuos(dt, bins=bins)\n",
    "    dt.drop(columns=[\"native-country\"], inplace=True)\n",
    "    return dt, {\"N\": \"<=50K\", \"P\": \">50K\"}\n"
   ]
  },
  {
   "cell_type": "code",
   "execution_count": 10,
   "id": "4a118017",
   "metadata": {},
   "outputs": [],
   "source": [
    "df, class_map = import_process_adult()"
   ]
  },
  {
   "cell_type": "code",
   "execution_count": 12,
   "id": "f772224c",
   "metadata": {},
   "outputs": [
    {
     "data": {
      "text/html": [
       "<div>\n",
       "<style scoped>\n",
       "    .dataframe tbody tr th:only-of-type {\n",
       "        vertical-align: middle;\n",
       "    }\n",
       "\n",
       "    .dataframe tbody tr th {\n",
       "        vertical-align: top;\n",
       "    }\n",
       "\n",
       "    .dataframe thead th {\n",
       "        text-align: right;\n",
       "    }\n",
       "</style>\n",
       "<table border=\"1\" class=\"dataframe\">\n",
       "  <thead>\n",
       "    <tr style=\"text-align: right;\">\n",
       "      <th></th>\n",
       "      <th>age</th>\n",
       "      <th>capital-gain</th>\n",
       "      <th>capital-loss</th>\n",
       "      <th>hours-per-week</th>\n",
       "    </tr>\n",
       "  </thead>\n",
       "  <tbody>\n",
       "    <tr>\n",
       "      <th>count</th>\n",
       "      <td>45222.000000</td>\n",
       "      <td>45222.000000</td>\n",
       "      <td>45222.000000</td>\n",
       "      <td>45222.000000</td>\n",
       "    </tr>\n",
       "    <tr>\n",
       "      <th>mean</th>\n",
       "      <td>38.547941</td>\n",
       "      <td>1101.430344</td>\n",
       "      <td>88.595418</td>\n",
       "      <td>40.938017</td>\n",
       "    </tr>\n",
       "    <tr>\n",
       "      <th>std</th>\n",
       "      <td>13.217870</td>\n",
       "      <td>7506.430084</td>\n",
       "      <td>404.956092</td>\n",
       "      <td>12.007508</td>\n",
       "    </tr>\n",
       "    <tr>\n",
       "      <th>min</th>\n",
       "      <td>17.000000</td>\n",
       "      <td>0.000000</td>\n",
       "      <td>0.000000</td>\n",
       "      <td>1.000000</td>\n",
       "    </tr>\n",
       "    <tr>\n",
       "      <th>25%</th>\n",
       "      <td>28.000000</td>\n",
       "      <td>0.000000</td>\n",
       "      <td>0.000000</td>\n",
       "      <td>40.000000</td>\n",
       "    </tr>\n",
       "    <tr>\n",
       "      <th>50%</th>\n",
       "      <td>37.000000</td>\n",
       "      <td>0.000000</td>\n",
       "      <td>0.000000</td>\n",
       "      <td>40.000000</td>\n",
       "    </tr>\n",
       "    <tr>\n",
       "      <th>75%</th>\n",
       "      <td>47.000000</td>\n",
       "      <td>0.000000</td>\n",
       "      <td>0.000000</td>\n",
       "      <td>45.000000</td>\n",
       "    </tr>\n",
       "    <tr>\n",
       "      <th>max</th>\n",
       "      <td>90.000000</td>\n",
       "      <td>99999.000000</td>\n",
       "      <td>4356.000000</td>\n",
       "      <td>99.000000</td>\n",
       "    </tr>\n",
       "  </tbody>\n",
       "</table>\n",
       "</div>"
      ],
      "text/plain": [
       "                age  capital-gain  capital-loss  hours-per-week\n",
       "count  45222.000000  45222.000000  45222.000000    45222.000000\n",
       "mean      38.547941   1101.430344     88.595418       40.938017\n",
       "std       13.217870   7506.430084    404.956092       12.007508\n",
       "min       17.000000      0.000000      0.000000        1.000000\n",
       "25%       28.000000      0.000000      0.000000       40.000000\n",
       "50%       37.000000      0.000000      0.000000       40.000000\n",
       "75%       47.000000      0.000000      0.000000       45.000000\n",
       "max       90.000000  99999.000000   4356.000000       99.000000"
      ]
     },
     "execution_count": 12,
     "metadata": {},
     "output_type": "execute_result"
    }
   ],
   "source": [
    "df.describe()"
   ]
  },
  {
   "cell_type": "code",
   "execution_count": 22,
   "id": "5c502c87",
   "metadata": {},
   "outputs": [
    {
     "name": "stdout",
     "output_type": "stream",
     "text": [
      "workclass\n",
      "education\n",
      "marital-status\n",
      "occupation\n",
      "relationship\n",
      "race\n",
      "sex\n"
     ]
    }
   ],
   "source": [
    "from sklearn.preprocessing import LabelEncoder\n",
    "\n",
    "\n",
    "attributes = df.columns.drop(\"class\")\n",
    "X = df[attributes].copy()\n",
    "y = df[\"class\"].copy()\n",
    "\n",
    "encoders = {}\n",
    "for column in attributes:\n",
    "    if df.dtypes[column] == np.object:\n",
    "        print(column)\n",
    "        le = LabelEncoder()\n",
    "        X[column] = le.fit_transform(df[column])\n",
    "        encoders[column] = le"
   ]
  },
  {
   "cell_type": "markdown",
   "id": "eaccf41e",
   "metadata": {},
   "source": [
    "# Train and predict with RF classifier"
   ]
  },
  {
   "cell_type": "code",
   "execution_count": 23,
   "id": "ef51d117",
   "metadata": {},
   "outputs": [],
   "source": [
    "from sklearn.model_selection import StratifiedKFold\n",
    "from sklearn.model_selection import cross_val_predict\n",
    "from sklearn.ensemble import RandomForestClassifier\n",
    "\n",
    "\n",
    "\n",
    "\n",
    "clf = RandomForestClassifier(random_state=42)\n",
    "\n",
    "\n",
    "k_cv = 10\n",
    "\n",
    "\n",
    "cv = StratifiedKFold(n_splits=k_cv, random_state=42, shuffle=True\n",
    "            )  # Added to fix the random state  #Added shuffle=True for new version sklearn, Value Error\n",
    "       \n",
    "y_predicted = cross_val_predict(clf, X, y.values, cv=cv)"
   ]
  },
  {
   "cell_type": "code",
   "execution_count": 24,
   "id": "2c5b7fe8",
   "metadata": {},
   "outputs": [],
   "source": [
    "df[\"predicted\"] = y_predicted"
   ]
  },
  {
   "cell_type": "code",
   "execution_count": 33,
   "id": "23ccfbc1",
   "metadata": {},
   "outputs": [
    {
     "data": {
      "text/plain": [
       "1356.6599999999999"
      ]
     },
     "execution_count": 33,
     "metadata": {},
     "output_type": "execute_result"
    }
   ],
   "source": [
    "df.shape[0]*0.03"
   ]
  },
  {
   "cell_type": "markdown",
   "id": "97f5ae76",
   "metadata": {},
   "source": [
    "# Tree divergence"
   ]
  },
  {
   "cell_type": "code",
   "execution_count": 34,
   "id": "6fd28cc7",
   "metadata": {},
   "outputs": [],
   "source": [
    "true_class_name = \"class\"\n",
    "pred_class_name = \"predicted\"\n",
    "cols_c = [true_class_name, pred_class_name]"
   ]
  },
  {
   "cell_type": "code",
   "execution_count": 35,
   "id": "b4d35d8b",
   "metadata": {},
   "outputs": [],
   "source": [
    "continuous_attributes = list(df.describe().columns)"
   ]
  },
  {
   "cell_type": "code",
   "execution_count": 36,
   "id": "8a6aef74",
   "metadata": {},
   "outputs": [],
   "source": [
    "df_analyze = df.copy()"
   ]
  },
  {
   "cell_type": "code",
   "execution_count": 37,
   "id": "8ca85c12",
   "metadata": {},
   "outputs": [],
   "source": [
    "min_support_tree = 0.1"
   ]
  },
  {
   "cell_type": "code",
   "execution_count": 38,
   "id": "57d5d3fc",
   "metadata": {},
   "outputs": [],
   "source": [
    "metric = \"d_fpr\""
   ]
  },
  {
   "cell_type": "code",
   "execution_count": 39,
   "id": "6157c495",
   "metadata": {},
   "outputs": [],
   "source": [
    "type_criterion=\"divergence_criterion\"\n",
    "\n",
    "type_experiment = \"one_at_time\""
   ]
  },
  {
   "cell_type": "code",
   "execution_count": 40,
   "id": "41e06596",
   "metadata": {},
   "outputs": [],
   "source": [
    "from tree_discretization import TreeDiscretization\n",
    "\n",
    "tree_discr = TreeDiscretization()\n",
    "\n",
    "# ## Extract tree\n",
    "generalization_dict, discretizations = tree_discr.get_tree_discretization(\n",
    "    df_analyze,\n",
    "    type_splitting=type_experiment,\n",
    "    min_support=min_support_tree,\n",
    "    metric=metric,\n",
    "    class_map=class_map,\n",
    "    continuous_attributes=list(continuous_attributes),\n",
    "    class_and_pred_names=cols_c,\n",
    "    storeTree=True,\n",
    "    type_criterion='entropy', #type_criterion,\n",
    "    #minimal_gain = 0.0015\n",
    ")"
   ]
  },
  {
   "cell_type": "code",
   "execution_count": 41,
   "id": "71ca493e",
   "metadata": {},
   "outputs": [
    {
     "name": "stdout",
     "output_type": "stream",
     "text": [
      "age\n",
      " root s=1.00 --> d_fpr=0.00\n",
      "         age<=27 s=0.24 --> d_fpr=-0.07\n",
      "                 age<=22 s=0.11 --> d_fpr=-0.08\n",
      "                 age>22 s=0.13 --> d_fpr=-0.07\n",
      "         age>27 s=0.76 --> d_fpr=0.03\n",
      "                 age<=35 s=0.22 --> d_fpr=-0.01\n",
      "                         age<=31 s=0.11 --> d_fpr=-0.02\n",
      "                         age>31 s=0.11 --> d_fpr=0.01\n",
      "                 age>35 s=0.55 --> d_fpr=0.05\n",
      "                         age<=56 s=0.44 --> d_fpr=0.06\n",
      "                                 age<=46 s=0.28 --> d_fpr=0.05\n",
      "                                         age<=39 s=0.11 --> d_fpr=0.04\n",
      "                                         age>39 s=0.17 --> d_fpr=0.05\n",
      "                                 age>46 s=0.16 --> d_fpr=0.08\n",
      "                         age>56 s=0.11 --> d_fpr=0.02\n",
      "\n",
      "hours-per-week\n",
      " root s=1.00 --> d_fpr=0.00\n",
      "         hours-per-week<=40 s=0.70 --> d_fpr=-0.03\n",
      "                 hours-per-week<=36 s=0.20 --> d_fpr=-0.06\n",
      "                 hours-per-week>36 s=0.49 --> d_fpr=-0.01\n",
      "         hours-per-week>40 s=0.30 --> d_fpr=0.08\n",
      "                 hours-per-week<=53 s=0.20 --> d_fpr=0.07\n",
      "                 hours-per-week>53 s=0.11 --> d_fpr=0.10\n",
      "\n"
     ]
    }
   ],
   "source": [
    "tree_discr.printDiscretizationTrees(round_v =2, show_condition = True)"
   ]
  },
  {
   "cell_type": "markdown",
   "id": "3e1fd702",
   "metadata": {},
   "source": [
    "# Extract patterns"
   ]
  },
  {
   "cell_type": "code",
   "execution_count": 72,
   "id": "e2364e1e",
   "metadata": {},
   "outputs": [],
   "source": [
    "min_sup_divergences = [0.01, 0.025, 0.03, 0.05, 0.1]"
   ]
  },
  {
   "cell_type": "code",
   "execution_count": 73,
   "id": "5f201254",
   "metadata": {},
   "outputs": [],
   "source": [
    "import time"
   ]
  },
  {
   "cell_type": "code",
   "execution_count": 74,
   "id": "97e88d65",
   "metadata": {},
   "outputs": [],
   "source": [
    "out_support = {}\n",
    "out_time = {}"
   ]
  },
  {
   "cell_type": "markdown",
   "id": "d137f8ad",
   "metadata": {},
   "source": [
    "## Base"
   ]
  },
  {
   "cell_type": "code",
   "execution_count": 75,
   "id": "02d47470",
   "metadata": {},
   "outputs": [],
   "source": [
    "from utils_extract_divergence_generalized import (\n",
    "    extract_divergence_generalized,\n",
    ")\n",
    "\n",
    "for min_sup_divergence in min_sup_divergences:\n",
    "    s_time = time.time()\n",
    "    FP_fm = extract_divergence_generalized(\n",
    "        df_analyze,\n",
    "        discretizations,\n",
    "        generalization_dict,\n",
    "        continuous_attributes,\n",
    "        min_sup_divergence=min_sup_divergence,\n",
    "        apply_generalization=False,\n",
    "        true_class_name=true_class_name,\n",
    "        predicted_class_name=pred_class_name,\n",
    "        class_map=class_map,\n",
    "        metrics_divergence = [\"d_fpr\"],\n",
    "        FPM_type=\"fpgrowth\",\n",
    "    )\n",
    "    \n",
    "    out_time.setdefault(min_sup_divergence, {})[\"base\"] = time.time()-s_time\n",
    "    \n",
    "    \n",
    "    fp_divergence_i = FP_Divergence(FP_fm, metric=metric)\n",
    "\n",
    "    most_divergent = (\n",
    "        fp_divergence_i.getDivergence(th_redundancy=0)\n",
    "        .sort_values(\n",
    "            [fp_divergence_i.metric, fp_divergence_i.t_value_col], ascending=False\n",
    "        )\n",
    "        .head(1)\n",
    "    )\n",
    "    out_support.setdefault(min_sup_divergence, {})[\"base\"] = most_divergent\n",
    "    \n",
    "    "
   ]
  },
  {
   "cell_type": "markdown",
   "id": "47c4d244",
   "metadata": {},
   "source": [
    "## Generalized"
   ]
  },
  {
   "cell_type": "code",
   "execution_count": 81,
   "id": "8cf4a3ac",
   "metadata": {},
   "outputs": [
    {
     "name": "stdout",
     "output_type": "stream",
     "text": [
      "1 10000\n",
      "2 20000\n"
     ]
    }
   ],
   "source": [
    "from utils_extract_divergence_generalized import (\n",
    "    extract_divergence_generalized,\n",
    ")\n",
    "import time\n",
    "\n",
    "\n",
    "\n",
    "for min_sup_divergence in min_sup_divergences:\n",
    "    s = time.time()\n",
    "    FP_fm = extract_divergence_generalized(\n",
    "        df_analyze,\n",
    "        discretizations,\n",
    "        generalization_dict,\n",
    "        continuous_attributes,\n",
    "        min_sup_divergence=min_sup_divergence,\n",
    "        apply_generalization=True,\n",
    "        true_class_name=true_class_name,\n",
    "        predicted_class_name=pred_class_name,\n",
    "        class_map=class_map,\n",
    "        metrics_divergence = [\"d_fpr\"],\n",
    "        FPM_type=\"fpgrowth\",\n",
    "        save_in_progress = False\n",
    "    )\n",
    "    \n",
    "    e = time.time()\n",
    "    out_time.setdefault(min_sup_divergence, {})[\"generalized\"] = time.time()-s_time\n",
    "    \n",
    "    rt = e-s\n",
    "    fp_divergence_i = FP_Divergence(FP_fm, metric=metric)\n",
    "\n",
    "    most_divergent = (\n",
    "        fp_divergence_i.getDivergence(th_redundancy=0)\n",
    "        .sort_values(\n",
    "            [fp_divergence_i.metric, fp_divergence_i.t_value_col], ascending=False\n",
    "        )\n",
    "        .head(1)\n",
    "    )\n",
    "    out_support.setdefault(min_sup_divergence, {})[\"generalized\"] = most_divergent"
   ]
  },
  {
   "cell_type": "code",
   "execution_count": 82,
   "id": "9d8da685",
   "metadata": {},
   "outputs": [
    {
     "data": {
      "text/plain": [
       "{0.01: {'base': 4.17091178894043, 'generalized': 68.76981902122498},\n",
       " 0.025: {'base': 2.2312047481536865, 'generalized': 74.73068594932556},\n",
       " 0.03: {'base': 2.1193981170654297, 'generalized': 78.23400402069092},\n",
       " 0.05: {'base': 2.37870717048645, 'generalized': 81.05516481399536},\n",
       " 0.1: {'base': 1.9696078300476074, 'generalized': 83.20603585243225}}"
      ]
     },
     "execution_count": 82,
     "metadata": {},
     "output_type": "execute_result"
    }
   ],
   "source": [
    "out_time"
   ]
  },
  {
   "cell_type": "code",
   "execution_count": 83,
   "id": "aba3ae41",
   "metadata": {},
   "outputs": [
    {
     "data": {
      "text/plain": [
       "{0.01: {'base': 4.17091178894043, 'generalized': 68.76981902122498},\n",
       " 0.025: {'base': 2.2312047481536865, 'generalized': 74.73068594932556},\n",
       " 0.03: {'base': 2.1193981170654297, 'generalized': 78.23400402069092},\n",
       " 0.05: {'base': 2.37870717048645, 'generalized': 81.05516481399536},\n",
       " 0.1: {'base': 1.9696078300476074, 'generalized': 83.20603585243225}}"
      ]
     },
     "execution_count": 83,
     "metadata": {},
     "output_type": "execute_result"
    }
   ],
   "source": [
    "out_time"
   ]
  },
  {
   "cell_type": "code",
   "execution_count": 85,
   "id": "a8ef1621",
   "metadata": {},
   "outputs": [
    {
     "name": "stdout",
     "output_type": "stream",
     "text": [
      "0.01\n",
      "base\n"
     ]
    },
    {
     "data": {
      "text/html": [
       "<div>\n",
       "<style scoped>\n",
       "    .dataframe tbody tr th:only-of-type {\n",
       "        vertical-align: middle;\n",
       "    }\n",
       "\n",
       "    .dataframe tbody tr th {\n",
       "        vertical-align: top;\n",
       "    }\n",
       "\n",
       "    .dataframe thead th {\n",
       "        text-align: right;\n",
       "    }\n",
       "</style>\n",
       "<table border=\"1\" class=\"dataframe\">\n",
       "  <thead>\n",
       "    <tr style=\"text-align: right;\">\n",
       "      <th></th>\n",
       "      <th>support</th>\n",
       "      <th>itemsets</th>\n",
       "      <th>tn</th>\n",
       "      <th>fp</th>\n",
       "      <th>fn</th>\n",
       "      <th>tp</th>\n",
       "      <th>length</th>\n",
       "      <th>support_count</th>\n",
       "      <th>fpr</th>\n",
       "      <th>d_fpr</th>\n",
       "      <th>t_value_fp</th>\n",
       "    </tr>\n",
       "  </thead>\n",
       "  <tbody>\n",
       "    <tr>\n",
       "      <th>7144</th>\n",
       "      <td>0.010946</td>\n",
       "      <td>(workclass=Private, marital-status=Married, oc...</td>\n",
       "      <td>18</td>\n",
       "      <td>72</td>\n",
       "      <td>50</td>\n",
       "      <td>355</td>\n",
       "      <td>4</td>\n",
       "      <td>495.0</td>\n",
       "      <td>0.8</td>\n",
       "      <td>0.721885</td>\n",
       "      <td>17.031069</td>\n",
       "    </tr>\n",
       "  </tbody>\n",
       "</table>\n",
       "</div>"
      ],
      "text/plain": [
       "       support                                           itemsets  tn  fp  fn  \\\n",
       "7144  0.010946  (workclass=Private, marital-status=Married, oc...  18  72  50   \n",
       "\n",
       "       tp  length  support_count  fpr     d_fpr  t_value_fp  \n",
       "7144  355       4          495.0  0.8  0.721885   17.031069  "
      ]
     },
     "metadata": {},
     "output_type": "display_data"
    },
    {
     "name": "stdout",
     "output_type": "stream",
     "text": [
      "generalized\n"
     ]
    },
    {
     "data": {
      "text/html": [
       "<div>\n",
       "<style scoped>\n",
       "    .dataframe tbody tr th:only-of-type {\n",
       "        vertical-align: middle;\n",
       "    }\n",
       "\n",
       "    .dataframe tbody tr th {\n",
       "        vertical-align: top;\n",
       "    }\n",
       "\n",
       "    .dataframe thead th {\n",
       "        text-align: right;\n",
       "    }\n",
       "</style>\n",
       "<table border=\"1\" class=\"dataframe\">\n",
       "  <thead>\n",
       "    <tr style=\"text-align: right;\">\n",
       "      <th></th>\n",
       "      <th>support</th>\n",
       "      <th>itemsets</th>\n",
       "      <th>tn</th>\n",
       "      <th>fp</th>\n",
       "      <th>fn</th>\n",
       "      <th>tp</th>\n",
       "      <th>length</th>\n",
       "      <th>support_count</th>\n",
       "      <th>fpr</th>\n",
       "      <th>d_fpr</th>\n",
       "      <th>t_value_fp</th>\n",
       "    </tr>\n",
       "  </thead>\n",
       "  <tbody>\n",
       "    <tr>\n",
       "      <th>26105</th>\n",
       "      <td>0.010614</td>\n",
       "      <td>(race=White, education=Bachelors, marital-stat...</td>\n",
       "      <td>20</td>\n",
       "      <td>80</td>\n",
       "      <td>42</td>\n",
       "      <td>338</td>\n",
       "      <td>5</td>\n",
       "      <td>480.0</td>\n",
       "      <td>0.8</td>\n",
       "      <td>0.721885</td>\n",
       "      <td>17.958778</td>\n",
       "    </tr>\n",
       "  </tbody>\n",
       "</table>\n",
       "</div>"
      ],
      "text/plain": [
       "        support                                           itemsets  tn  fp  \\\n",
       "26105  0.010614  (race=White, education=Bachelors, marital-stat...  20  80   \n",
       "\n",
       "       fn   tp  length  support_count  fpr     d_fpr  t_value_fp  \n",
       "26105  42  338       5          480.0  0.8  0.721885   17.958778  "
      ]
     },
     "metadata": {},
     "output_type": "display_data"
    },
    {
     "name": "stdout",
     "output_type": "stream",
     "text": [
      "0.025\n",
      "base\n"
     ]
    },
    {
     "data": {
      "text/html": [
       "<div>\n",
       "<style scoped>\n",
       "    .dataframe tbody tr th:only-of-type {\n",
       "        vertical-align: middle;\n",
       "    }\n",
       "\n",
       "    .dataframe tbody tr th {\n",
       "        vertical-align: top;\n",
       "    }\n",
       "\n",
       "    .dataframe thead th {\n",
       "        text-align: right;\n",
       "    }\n",
       "</style>\n",
       "<table border=\"1\" class=\"dataframe\">\n",
       "  <thead>\n",
       "    <tr style=\"text-align: right;\">\n",
       "      <th></th>\n",
       "      <th>support</th>\n",
       "      <th>itemsets</th>\n",
       "      <th>tn</th>\n",
       "      <th>fp</th>\n",
       "      <th>fn</th>\n",
       "      <th>tp</th>\n",
       "      <th>length</th>\n",
       "      <th>support_count</th>\n",
       "      <th>fpr</th>\n",
       "      <th>d_fpr</th>\n",
       "      <th>t_value_fp</th>\n",
       "    </tr>\n",
       "  </thead>\n",
       "  <tbody>\n",
       "    <tr>\n",
       "      <th>2246</th>\n",
       "      <td>0.027155</td>\n",
       "      <td>(marital-status=Married, hours-per-week=[41-53...</td>\n",
       "      <td>102</td>\n",
       "      <td>195</td>\n",
       "      <td>122</td>\n",
       "      <td>809</td>\n",
       "      <td>3</td>\n",
       "      <td>1228.0</td>\n",
       "      <td>0.656566</td>\n",
       "      <td>0.578451</td>\n",
       "      <td>21.015314</td>\n",
       "    </tr>\n",
       "  </tbody>\n",
       "</table>\n",
       "</div>"
      ],
      "text/plain": [
       "       support                                           itemsets   tn   fp  \\\n",
       "2246  0.027155  (marital-status=Married, hours-per-week=[41-53...  102  195   \n",
       "\n",
       "       fn   tp  length  support_count       fpr     d_fpr  t_value_fp  \n",
       "2246  122  809       3         1228.0  0.656566  0.578451   21.015314  "
      ]
     },
     "metadata": {},
     "output_type": "display_data"
    },
    {
     "name": "stdout",
     "output_type": "stream",
     "text": [
      "generalized\n"
     ]
    },
    {
     "data": {
      "text/html": [
       "<div>\n",
       "<style scoped>\n",
       "    .dataframe tbody tr th:only-of-type {\n",
       "        vertical-align: middle;\n",
       "    }\n",
       "\n",
       "    .dataframe tbody tr th {\n",
       "        vertical-align: top;\n",
       "    }\n",
       "\n",
       "    .dataframe thead th {\n",
       "        text-align: right;\n",
       "    }\n",
       "</style>\n",
       "<table border=\"1\" class=\"dataframe\">\n",
       "  <thead>\n",
       "    <tr style=\"text-align: right;\">\n",
       "      <th></th>\n",
       "      <th>support</th>\n",
       "      <th>itemsets</th>\n",
       "      <th>tn</th>\n",
       "      <th>fp</th>\n",
       "      <th>fn</th>\n",
       "      <th>tp</th>\n",
       "      <th>length</th>\n",
       "      <th>support_count</th>\n",
       "      <th>fpr</th>\n",
       "      <th>d_fpr</th>\n",
       "      <th>t_value_fp</th>\n",
       "    </tr>\n",
       "  </thead>\n",
       "  <tbody>\n",
       "    <tr>\n",
       "      <th>8730</th>\n",
       "      <td>0.02585</td>\n",
       "      <td>(race=White, education=Bachelors, age=&gt;=36, ho...</td>\n",
       "      <td>79</td>\n",
       "      <td>188</td>\n",
       "      <td>115</td>\n",
       "      <td>787</td>\n",
       "      <td>5</td>\n",
       "      <td>1169.0</td>\n",
       "      <td>0.70412</td>\n",
       "      <td>0.626005</td>\n",
       "      <td>22.41668</td>\n",
       "    </tr>\n",
       "  </tbody>\n",
       "</table>\n",
       "</div>"
      ],
      "text/plain": [
       "      support                                           itemsets  tn   fp  \\\n",
       "8730  0.02585  (race=White, education=Bachelors, age=>=36, ho...  79  188   \n",
       "\n",
       "       fn   tp  length  support_count      fpr     d_fpr  t_value_fp  \n",
       "8730  115  787       5         1169.0  0.70412  0.626005    22.41668  "
      ]
     },
     "metadata": {},
     "output_type": "display_data"
    },
    {
     "name": "stdout",
     "output_type": "stream",
     "text": [
      "0.03\n",
      "base\n"
     ]
    },
    {
     "data": {
      "text/html": [
       "<div>\n",
       "<style scoped>\n",
       "    .dataframe tbody tr th:only-of-type {\n",
       "        vertical-align: middle;\n",
       "    }\n",
       "\n",
       "    .dataframe tbody tr th {\n",
       "        vertical-align: top;\n",
       "    }\n",
       "\n",
       "    .dataframe thead th {\n",
       "        text-align: right;\n",
       "    }\n",
       "</style>\n",
       "<table border=\"1\" class=\"dataframe\">\n",
       "  <thead>\n",
       "    <tr style=\"text-align: right;\">\n",
       "      <th></th>\n",
       "      <th>support</th>\n",
       "      <th>itemsets</th>\n",
       "      <th>tn</th>\n",
       "      <th>fp</th>\n",
       "      <th>fn</th>\n",
       "      <th>tp</th>\n",
       "      <th>length</th>\n",
       "      <th>support_count</th>\n",
       "      <th>fpr</th>\n",
       "      <th>d_fpr</th>\n",
       "      <th>t_value_fp</th>\n",
       "    </tr>\n",
       "  </thead>\n",
       "  <tbody>\n",
       "    <tr>\n",
       "      <th>1786</th>\n",
       "      <td>0.031799</td>\n",
       "      <td>(marital-status=Married, education=Masters)</td>\n",
       "      <td>132</td>\n",
       "      <td>194</td>\n",
       "      <td>126</td>\n",
       "      <td>986</td>\n",
       "      <td>2</td>\n",
       "      <td>1438.0</td>\n",
       "      <td>0.595092</td>\n",
       "      <td>0.516977</td>\n",
       "      <td>19.04869</td>\n",
       "    </tr>\n",
       "  </tbody>\n",
       "</table>\n",
       "</div>"
      ],
      "text/plain": [
       "       support                                     itemsets   tn   fp   fn  \\\n",
       "1786  0.031799  (marital-status=Married, education=Masters)  132  194  126   \n",
       "\n",
       "       tp  length  support_count       fpr     d_fpr  t_value_fp  \n",
       "1786  986       2         1438.0  0.595092  0.516977    19.04869  "
      ]
     },
     "metadata": {},
     "output_type": "display_data"
    },
    {
     "name": "stdout",
     "output_type": "stream",
     "text": [
      "generalized\n"
     ]
    },
    {
     "data": {
      "text/html": [
       "<div>\n",
       "<style scoped>\n",
       "    .dataframe tbody tr th:only-of-type {\n",
       "        vertical-align: middle;\n",
       "    }\n",
       "\n",
       "    .dataframe tbody tr th {\n",
       "        vertical-align: top;\n",
       "    }\n",
       "\n",
       "    .dataframe thead th {\n",
       "        text-align: right;\n",
       "    }\n",
       "</style>\n",
       "<table border=\"1\" class=\"dataframe\">\n",
       "  <thead>\n",
       "    <tr style=\"text-align: right;\">\n",
       "      <th></th>\n",
       "      <th>support</th>\n",
       "      <th>itemsets</th>\n",
       "      <th>tn</th>\n",
       "      <th>fp</th>\n",
       "      <th>fn</th>\n",
       "      <th>tp</th>\n",
       "      <th>length</th>\n",
       "      <th>support_count</th>\n",
       "      <th>fpr</th>\n",
       "      <th>d_fpr</th>\n",
       "      <th>t_value_fp</th>\n",
       "    </tr>\n",
       "  </thead>\n",
       "  <tbody>\n",
       "    <tr>\n",
       "      <th>6321</th>\n",
       "      <td>0.032727</td>\n",
       "      <td>(race=White, occupation=Professional, sex=Male...</td>\n",
       "      <td>107</td>\n",
       "      <td>232</td>\n",
       "      <td>152</td>\n",
       "      <td>989</td>\n",
       "      <td>5</td>\n",
       "      <td>1480.0</td>\n",
       "      <td>0.684366</td>\n",
       "      <td>0.606251</td>\n",
       "      <td>24.016593</td>\n",
       "    </tr>\n",
       "  </tbody>\n",
       "</table>\n",
       "</div>"
      ],
      "text/plain": [
       "       support                                           itemsets   tn   fp  \\\n",
       "6321  0.032727  (race=White, occupation=Professional, sex=Male...  107  232   \n",
       "\n",
       "       fn   tp  length  support_count       fpr     d_fpr  t_value_fp  \n",
       "6321  152  989       5         1480.0  0.684366  0.606251   24.016593  "
      ]
     },
     "metadata": {},
     "output_type": "display_data"
    },
    {
     "name": "stdout",
     "output_type": "stream",
     "text": [
      "0.05\n",
      "base\n"
     ]
    },
    {
     "data": {
      "text/html": [
       "<div>\n",
       "<style scoped>\n",
       "    .dataframe tbody tr th:only-of-type {\n",
       "        vertical-align: middle;\n",
       "    }\n",
       "\n",
       "    .dataframe tbody tr th {\n",
       "        vertical-align: top;\n",
       "    }\n",
       "\n",
       "    .dataframe thead th {\n",
       "        text-align: right;\n",
       "    }\n",
       "</style>\n",
       "<table border=\"1\" class=\"dataframe\">\n",
       "  <thead>\n",
       "    <tr style=\"text-align: right;\">\n",
       "      <th></th>\n",
       "      <th>support</th>\n",
       "      <th>itemsets</th>\n",
       "      <th>tn</th>\n",
       "      <th>fp</th>\n",
       "      <th>fn</th>\n",
       "      <th>tp</th>\n",
       "      <th>length</th>\n",
       "      <th>support_count</th>\n",
       "      <th>fpr</th>\n",
       "      <th>d_fpr</th>\n",
       "      <th>t_value_fp</th>\n",
       "    </tr>\n",
       "  </thead>\n",
       "  <tbody>\n",
       "    <tr>\n",
       "      <th>659</th>\n",
       "      <td>0.061674</td>\n",
       "      <td>(race=White, occupation=Professional, marital-...</td>\n",
       "      <td>357</td>\n",
       "      <td>435</td>\n",
       "      <td>317</td>\n",
       "      <td>1680</td>\n",
       "      <td>3</td>\n",
       "      <td>2789.0</td>\n",
       "      <td>0.549242</td>\n",
       "      <td>0.471128</td>\n",
       "      <td>26.598005</td>\n",
       "    </tr>\n",
       "  </tbody>\n",
       "</table>\n",
       "</div>"
      ],
      "text/plain": [
       "      support                                           itemsets   tn   fp  \\\n",
       "659  0.061674  (race=White, occupation=Professional, marital-...  357  435   \n",
       "\n",
       "      fn    tp  length  support_count       fpr     d_fpr  t_value_fp  \n",
       "659  317  1680       3         2789.0  0.549242  0.471128   26.598005  "
      ]
     },
     "metadata": {},
     "output_type": "display_data"
    },
    {
     "name": "stdout",
     "output_type": "stream",
     "text": [
      "generalized\n"
     ]
    },
    {
     "data": {
      "text/html": [
       "<div>\n",
       "<style scoped>\n",
       "    .dataframe tbody tr th:only-of-type {\n",
       "        vertical-align: middle;\n",
       "    }\n",
       "\n",
       "    .dataframe tbody tr th {\n",
       "        vertical-align: top;\n",
       "    }\n",
       "\n",
       "    .dataframe thead th {\n",
       "        text-align: right;\n",
       "    }\n",
       "</style>\n",
       "<table border=\"1\" class=\"dataframe\">\n",
       "  <thead>\n",
       "    <tr style=\"text-align: right;\">\n",
       "      <th></th>\n",
       "      <th>support</th>\n",
       "      <th>itemsets</th>\n",
       "      <th>tn</th>\n",
       "      <th>fp</th>\n",
       "      <th>fn</th>\n",
       "      <th>tp</th>\n",
       "      <th>length</th>\n",
       "      <th>support_count</th>\n",
       "      <th>fpr</th>\n",
       "      <th>d_fpr</th>\n",
       "      <th>t_value_fp</th>\n",
       "    </tr>\n",
       "  </thead>\n",
       "  <tbody>\n",
       "    <tr>\n",
       "      <th>3361</th>\n",
       "      <td>0.051059</td>\n",
       "      <td>(marital-status=Married, age=[36-56], educatio...</td>\n",
       "      <td>229</td>\n",
       "      <td>391</td>\n",
       "      <td>243</td>\n",
       "      <td>1446</td>\n",
       "      <td>3</td>\n",
       "      <td>2309.0</td>\n",
       "      <td>0.630645</td>\n",
       "      <td>0.55253</td>\n",
       "      <td>28.464784</td>\n",
       "    </tr>\n",
       "  </tbody>\n",
       "</table>\n",
       "</div>"
      ],
      "text/plain": [
       "       support                                           itemsets   tn   fp  \\\n",
       "3361  0.051059  (marital-status=Married, age=[36-56], educatio...  229  391   \n",
       "\n",
       "       fn    tp  length  support_count       fpr    d_fpr  t_value_fp  \n",
       "3361  243  1446       3         2309.0  0.630645  0.55253   28.464784  "
      ]
     },
     "metadata": {},
     "output_type": "display_data"
    },
    {
     "name": "stdout",
     "output_type": "stream",
     "text": [
      "0.1\n",
      "base\n"
     ]
    },
    {
     "data": {
      "text/html": [
       "<div>\n",
       "<style scoped>\n",
       "    .dataframe tbody tr th:only-of-type {\n",
       "        vertical-align: middle;\n",
       "    }\n",
       "\n",
       "    .dataframe tbody tr th {\n",
       "        vertical-align: top;\n",
       "    }\n",
       "\n",
       "    .dataframe thead th {\n",
       "        text-align: right;\n",
       "    }\n",
       "</style>\n",
       "<table border=\"1\" class=\"dataframe\">\n",
       "  <thead>\n",
       "    <tr style=\"text-align: right;\">\n",
       "      <th></th>\n",
       "      <th>support</th>\n",
       "      <th>itemsets</th>\n",
       "      <th>tn</th>\n",
       "      <th>fp</th>\n",
       "      <th>fn</th>\n",
       "      <th>tp</th>\n",
       "      <th>length</th>\n",
       "      <th>support_count</th>\n",
       "      <th>fpr</th>\n",
       "      <th>d_fpr</th>\n",
       "      <th>t_value_fp</th>\n",
       "    </tr>\n",
       "  </thead>\n",
       "  <tbody>\n",
       "    <tr>\n",
       "      <th>297</th>\n",
       "      <td>0.10245</td>\n",
       "      <td>(race=White, hours-per-week=[41-53], relations...</td>\n",
       "      <td>1396</td>\n",
       "      <td>633</td>\n",
       "      <td>697</td>\n",
       "      <td>1907</td>\n",
       "      <td>3</td>\n",
       "      <td>4633.0</td>\n",
       "      <td>0.311976</td>\n",
       "      <td>0.233861</td>\n",
       "      <td>22.54118</td>\n",
       "    </tr>\n",
       "  </tbody>\n",
       "</table>\n",
       "</div>"
      ],
      "text/plain": [
       "     support                                           itemsets    tn   fp  \\\n",
       "297  0.10245  (race=White, hours-per-week=[41-53], relations...  1396  633   \n",
       "\n",
       "      fn    tp  length  support_count       fpr     d_fpr  t_value_fp  \n",
       "297  697  1907       3         4633.0  0.311976  0.233861    22.54118  "
      ]
     },
     "metadata": {},
     "output_type": "display_data"
    },
    {
     "name": "stdout",
     "output_type": "stream",
     "text": [
      "generalized\n"
     ]
    },
    {
     "data": {
      "text/html": [
       "<div>\n",
       "<style scoped>\n",
       "    .dataframe tbody tr th:only-of-type {\n",
       "        vertical-align: middle;\n",
       "    }\n",
       "\n",
       "    .dataframe tbody tr th {\n",
       "        vertical-align: top;\n",
       "    }\n",
       "\n",
       "    .dataframe thead th {\n",
       "        text-align: right;\n",
       "    }\n",
       "</style>\n",
       "<table border=\"1\" class=\"dataframe\">\n",
       "  <thead>\n",
       "    <tr style=\"text-align: right;\">\n",
       "      <th></th>\n",
       "      <th>support</th>\n",
       "      <th>itemsets</th>\n",
       "      <th>tn</th>\n",
       "      <th>fp</th>\n",
       "      <th>fn</th>\n",
       "      <th>tp</th>\n",
       "      <th>length</th>\n",
       "      <th>support_count</th>\n",
       "      <th>fpr</th>\n",
       "      <th>d_fpr</th>\n",
       "      <th>t_value_fp</th>\n",
       "    </tr>\n",
       "  </thead>\n",
       "  <tbody>\n",
       "    <tr>\n",
       "      <th>1081</th>\n",
       "      <td>0.102096</td>\n",
       "      <td>(race=White, age=[36-56], hours-per-week=&gt;=41,...</td>\n",
       "      <td>1060</td>\n",
       "      <td>700</td>\n",
       "      <td>677</td>\n",
       "      <td>2180</td>\n",
       "      <td>4</td>\n",
       "      <td>4617.0</td>\n",
       "      <td>0.397727</td>\n",
       "      <td>0.319612</td>\n",
       "      <td>27.214797</td>\n",
       "    </tr>\n",
       "  </tbody>\n",
       "</table>\n",
       "</div>"
      ],
      "text/plain": [
       "       support                                           itemsets    tn   fp  \\\n",
       "1081  0.102096  (race=White, age=[36-56], hours-per-week=>=41,...  1060  700   \n",
       "\n",
       "       fn    tp  length  support_count       fpr     d_fpr  t_value_fp  \n",
       "1081  677  2180       4         4617.0  0.397727  0.319612   27.214797  "
      ]
     },
     "metadata": {},
     "output_type": "display_data"
    }
   ],
   "source": [
    "for k in out_support:\n",
    "    print(k)\n",
    "    for t_gen in out_support[k]:\n",
    "        print(t_gen)\n",
    "        display(out_support[k][t_gen])"
   ]
  },
  {
   "cell_type": "code",
   "execution_count": null,
   "id": "e354de46",
   "metadata": {},
   "outputs": [],
   "source": []
  },
  {
   "cell_type": "code",
   "execution_count": null,
   "id": "9217fe31",
   "metadata": {},
   "outputs": [],
   "source": []
  },
  {
   "cell_type": "code",
   "execution_count": null,
   "id": "30aa3f10",
   "metadata": {},
   "outputs": [],
   "source": []
  }
 ],
 "metadata": {
  "kernelspec": {
   "display_name": "mainexp",
   "language": "python",
   "name": "mainexp"
  },
  "language_info": {
   "codemirror_mode": {
    "name": "ipython",
    "version": 3
   },
   "file_extension": ".py",
   "mimetype": "text/x-python",
   "name": "python",
   "nbconvert_exporter": "python",
   "pygments_lexer": "ipython3",
   "version": "3.10.6"
  },
  "toc": {
   "base_numbering": 1,
   "nav_menu": {},
   "number_sections": true,
   "sideBar": true,
   "skip_h1_title": false,
   "title_cell": "Table of Contents",
   "title_sidebar": "Contents",
   "toc_cell": false,
   "toc_position": {},
   "toc_section_display": true,
   "toc_window_display": false
  }
 },
 "nbformat": 4,
 "nbformat_minor": 5
}
