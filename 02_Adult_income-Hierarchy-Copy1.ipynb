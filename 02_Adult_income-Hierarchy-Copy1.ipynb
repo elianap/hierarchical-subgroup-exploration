{
 "cells": [
  {
   "cell_type": "code",
   "execution_count": 1,
   "id": "23ebfde9",
   "metadata": {
    "ExecuteTime": {
     "end_time": "2022-06-08T13:22:23.566119Z",
     "start_time": "2022-06-08T13:22:23.536059Z"
    }
   },
   "outputs": [],
   "source": [
    "%load_ext autoreload\n",
    "%autoreload 2"
   ]
  },
  {
   "cell_type": "code",
   "execution_count": 2,
   "id": "7f0419cc",
   "metadata": {},
   "outputs": [],
   "source": [
    "\n",
    "import pandas as pd\n",
    "import os"
   ]
  },
  {
   "cell_type": "code",
   "execution_count": 3,
   "id": "sunrise-seating",
   "metadata": {
    "ExecuteTime": {
     "end_time": "2022-06-08T13:22:23.587021Z",
     "start_time": "2022-06-08T13:22:23.567959Z"
    }
   },
   "outputs": [],
   "source": [
    "from utils_printable import printable\n",
    "\n",
    "\n",
    "\n",
    "abbreviations = {\"RAC1P\": \"RAC\", \"White alone\": \"White\", \"Reference person\": \"Ref person\", \\\n",
    "\"Employee of a private for-profit company or business, or of an individual, for wages, salary, or commissions\": \"Empl. for-profit-c\",\\\n",
    "\"Employee of a private not-for-profit, tax-exempt, or charitable organization\": \"Empl. no-profit-c\",\n",
    "\"Self-employed in own not incorporated business, professional practice, or farm\": \"Self-Empl. not incorp\" ,     \n",
    "\"Self-employed in own incorporated business, professional practice or farm\": \"Self-Empl. incorp\" ,\n",
    "\"Local government employee (city, county, etc.)\" : \"Local gov. Empl. \",\n",
    "\"Federal government employee\": \"Federal gov.  Empl.\",\n",
    "\"California/CA\":\"CA\", \"Never married or under 15 years old\": \"Never married/<15yrs\", \n",
    "\"Biological son or daughter\": \"Son/daughter\", \"Regular high school diploma\":\"HS\", \\\n",
    "\"Asian alone\":\"Asian\", \"1 or more years of college credit\":\"1+ collage cr\",\n",
    "\"Some Other Race alone\": \"Other\", \"Bachelor's degree\": \"Bachelor\", \"Master's degree\": \"Master\", \n",
    "                \"Some college, but less than 1 year\": \"<1y collage\",\n",
    "                \"Associate's degree\":\"Associate\",\n",
    "\"Noninstitutionalized group quarters population\": \"Noninstit. GQs\", \n",
    "\"OCCP=CMM-Software Developers\": \"OCCP=CMM-SW Dev\", \n",
    "                 \"Professional degree beyond a bachelor's degree\": \"Prof beyond bachelor\"}"
   ]
  },
  {
   "cell_type": "code",
   "execution_count": 4,
   "id": "saving-generator",
   "metadata": {
    "ExecuteTime": {
     "end_time": "2022-06-08T13:22:23.603813Z",
     "start_time": "2022-06-08T13:22:23.589373Z"
    }
   },
   "outputs": [],
   "source": [
    "def printable_with_ratio(df_pr, abbreviations = {}, show_weighted_ratio = False):\n",
    "    out_cols = [\"itemsets\", \"sup\", \"Δ_outcome\", \"t_outcome\", \"ratio\"]\n",
    "    df_pr[\"ratio\"] = df_pr[\"outcome\"]/mean_outcome\n",
    "    if show_weighted_ratio:\n",
    "        out_cols = out_cols + [\"wlogr\"]\n",
    "    df_pr = printable(df_pr, abbreviations=abbreviations)\n",
    "    return df_pr[out_cols]\n",
    "\n"
   ]
  },
  {
   "cell_type": "markdown",
   "id": "2c61951a",
   "metadata": {},
   "source": [
    "# Load data"
   ]
  },
  {
   "cell_type": "code",
   "execution_count": 5,
   "id": "1e8527f4",
   "metadata": {
    "ExecuteTime": {
     "end_time": "2022-06-08T13:22:32.514993Z",
     "start_time": "2022-06-08T13:22:23.605431Z"
    }
   },
   "outputs": [],
   "source": [
    "from folktables import ACSDataSource, ACSIncome\n",
    "\n",
    "data_source = ACSDataSource(survey_year='2018', horizon='1-Year', survey='person')\n",
    "acs_data = data_source.get_data(states=[\"CA\"], download=True)\n",
    "features, label, group = ACSIncome.df_to_numpy(acs_data)"
   ]
  },
  {
   "cell_type": "code",
   "execution_count": 6,
   "id": "49915da4",
   "metadata": {
    "ExecuteTime": {
     "end_time": "2022-06-08T13:22:32.532579Z",
     "start_time": "2022-06-08T13:22:32.516650Z"
    }
   },
   "outputs": [],
   "source": [
    "from folktables.acs import adult_filter\n",
    "from folktables import BasicProblem\n",
    "import numpy as np\n",
    "\n",
    "feature_names = [ 'AGEP', 'COW', 'SCHL', 'MAR', 'OCCP', 'POBP',  'RELP', 'WKHP', 'SEX', 'RAC1P' ]\n",
    "\n",
    "target='PINCP'\n",
    "\n",
    "ACSIncome_outcome = BasicProblem(\n",
    "    features=feature_names,\n",
    "    target=target,\n",
    "    group='RAC1P',\n",
    "    preprocess=adult_filter,\n",
    ")"
   ]
  },
  {
   "cell_type": "code",
   "execution_count": 7,
   "id": "fd2ef146",
   "metadata": {
    "ExecuteTime": {
     "end_time": "2022-06-08T13:22:33.506902Z",
     "start_time": "2022-06-08T13:22:32.533974Z"
    }
   },
   "outputs": [],
   "source": [
    "features, label, group = ACSIncome_outcome.df_to_numpy(acs_data)"
   ]
  },
  {
   "cell_type": "code",
   "execution_count": 8,
   "id": "bbb6df0e",
   "metadata": {
    "ExecuteTime": {
     "end_time": "2022-06-08T13:22:33.522619Z",
     "start_time": "2022-06-08T13:22:33.508827Z"
    }
   },
   "outputs": [],
   "source": [
    "continuous_attributes = ['AGEP', 'WKHP']"
   ]
  },
  {
   "cell_type": "code",
   "execution_count": 9,
   "id": "076d453a",
   "metadata": {
    "ExecuteTime": {
     "end_time": "2022-06-08T13:22:33.550247Z",
     "start_time": "2022-06-08T13:22:33.524064Z"
    }
   },
   "outputs": [],
   "source": [
    "categorical_attributes = list(set(feature_names)-set(continuous_attributes))"
   ]
  },
  {
   "cell_type": "code",
   "execution_count": 10,
   "id": "d57cc259",
   "metadata": {
    "ExecuteTime": {
     "end_time": "2022-06-08T13:22:33.580876Z",
     "start_time": "2022-06-08T13:22:33.553991Z"
    }
   },
   "outputs": [
    {
     "data": {
      "text/html": [
       "<div>\n",
       "<style scoped>\n",
       "    .dataframe tbody tr th:only-of-type {\n",
       "        vertical-align: middle;\n",
       "    }\n",
       "\n",
       "    .dataframe tbody tr th {\n",
       "        vertical-align: top;\n",
       "    }\n",
       "\n",
       "    .dataframe thead th {\n",
       "        text-align: right;\n",
       "    }\n",
       "</style>\n",
       "<table border=\"1\" class=\"dataframe\">\n",
       "  <thead>\n",
       "    <tr style=\"text-align: right;\">\n",
       "      <th></th>\n",
       "      <th>AGEP</th>\n",
       "      <th>COW</th>\n",
       "      <th>SCHL</th>\n",
       "      <th>MAR</th>\n",
       "      <th>OCCP</th>\n",
       "      <th>POBP</th>\n",
       "      <th>RELP</th>\n",
       "      <th>WKHP</th>\n",
       "      <th>SEX</th>\n",
       "      <th>RAC1P</th>\n",
       "      <th>income</th>\n",
       "    </tr>\n",
       "  </thead>\n",
       "  <tbody>\n",
       "    <tr>\n",
       "      <th>0</th>\n",
       "      <td>30.0</td>\n",
       "      <td>6.0</td>\n",
       "      <td>14.0</td>\n",
       "      <td>1.0</td>\n",
       "      <td>9610.0</td>\n",
       "      <td>6.0</td>\n",
       "      <td>16.0</td>\n",
       "      <td>40.0</td>\n",
       "      <td>1.0</td>\n",
       "      <td>8.0</td>\n",
       "      <td>48500.0</td>\n",
       "    </tr>\n",
       "    <tr>\n",
       "      <th>1</th>\n",
       "      <td>21.0</td>\n",
       "      <td>4.0</td>\n",
       "      <td>16.0</td>\n",
       "      <td>5.0</td>\n",
       "      <td>1970.0</td>\n",
       "      <td>6.0</td>\n",
       "      <td>17.0</td>\n",
       "      <td>20.0</td>\n",
       "      <td>1.0</td>\n",
       "      <td>1.0</td>\n",
       "      <td>7700.0</td>\n",
       "    </tr>\n",
       "    <tr>\n",
       "      <th>2</th>\n",
       "      <td>65.0</td>\n",
       "      <td>2.0</td>\n",
       "      <td>22.0</td>\n",
       "      <td>5.0</td>\n",
       "      <td>2040.0</td>\n",
       "      <td>6.0</td>\n",
       "      <td>17.0</td>\n",
       "      <td>8.0</td>\n",
       "      <td>1.0</td>\n",
       "      <td>1.0</td>\n",
       "      <td>17200.0</td>\n",
       "    </tr>\n",
       "    <tr>\n",
       "      <th>3</th>\n",
       "      <td>33.0</td>\n",
       "      <td>1.0</td>\n",
       "      <td>14.0</td>\n",
       "      <td>3.0</td>\n",
       "      <td>9610.0</td>\n",
       "      <td>36.0</td>\n",
       "      <td>16.0</td>\n",
       "      <td>40.0</td>\n",
       "      <td>1.0</td>\n",
       "      <td>1.0</td>\n",
       "      <td>12000.0</td>\n",
       "    </tr>\n",
       "    <tr>\n",
       "      <th>4</th>\n",
       "      <td>18.0</td>\n",
       "      <td>2.0</td>\n",
       "      <td>19.0</td>\n",
       "      <td>5.0</td>\n",
       "      <td>1021.0</td>\n",
       "      <td>6.0</td>\n",
       "      <td>17.0</td>\n",
       "      <td>18.0</td>\n",
       "      <td>2.0</td>\n",
       "      <td>1.0</td>\n",
       "      <td>300.0</td>\n",
       "    </tr>\n",
       "  </tbody>\n",
       "</table>\n",
       "</div>"
      ],
      "text/plain": [
       "   AGEP  COW  SCHL  MAR    OCCP  POBP  RELP  WKHP  SEX  RAC1P   income\n",
       "0  30.0  6.0  14.0  1.0  9610.0   6.0  16.0  40.0  1.0    8.0  48500.0\n",
       "1  21.0  4.0  16.0  5.0  1970.0   6.0  17.0  20.0  1.0    1.0   7700.0\n",
       "2  65.0  2.0  22.0  5.0  2040.0   6.0  17.0   8.0  1.0    1.0  17200.0\n",
       "3  33.0  1.0  14.0  3.0  9610.0  36.0  16.0  40.0  1.0    1.0  12000.0\n",
       "4  18.0  2.0  19.0  5.0  1021.0   6.0  17.0  18.0  2.0    1.0    300.0"
      ]
     },
     "execution_count": 10,
     "metadata": {},
     "output_type": "execute_result"
    }
   ],
   "source": [
    "import pandas as pd\n",
    "\n",
    "\n",
    "df = pd.DataFrame(features, columns=feature_names)\n",
    "df[\"income\"] = label\n",
    "df.head()"
   ]
  },
  {
   "cell_type": "markdown",
   "id": "65895cac",
   "metadata": {},
   "source": [
    "# Remap columns"
   ]
  },
  {
   "cell_type": "markdown",
   "id": "dependent-positive",
   "metadata": {},
   "source": [
    "From label encoding to interpretable notation: e.g., 0, 1 to \"male\", \"female\""
   ]
  },
  {
   "cell_type": "code",
   "execution_count": 11,
   "id": "abstract-prospect",
   "metadata": {
    "ExecuteTime": {
     "end_time": "2022-06-08T13:22:33.595785Z",
     "start_time": "2022-06-08T13:22:33.582512Z"
    }
   },
   "outputs": [],
   "source": [
    "filename = os.path.join(os.path.curdir, \"datasets\", \"ACSPUMS\", \"PUMS_Data_Dictionary_2018.csv\")\n",
    "df_mappings = pd.read_csv(filename)"
   ]
  },
  {
   "cell_type": "code",
   "execution_count": 12,
   "id": "e17ec43e",
   "metadata": {
    "ExecuteTime": {
     "end_time": "2022-06-08T13:22:33.806407Z",
     "start_time": "2022-06-08T13:22:33.756004Z"
    }
   },
   "outputs": [],
   "source": [
    "remapping_cols = {}\n",
    "\n",
    "orig_col = \"1\"\n",
    "new_col = \"Record Type\"\n",
    "cols_i = [orig_col, new_col]\n",
    "\n",
    "#col_name = \"OCCP\"\n",
    "for col_name in categorical_attributes:\n",
    "    dict_i = df_mappings.loc[\"VAL\"].loc[col_name][cols_i].set_index(orig_col).to_dict()[new_col]\n",
    "    dict_i = {float(k) if (k not in [\"b\", \"bb\", 'bbb', 'bbbb']) else -1 :v for k,v in dict_i.items()}\n",
    "    remapping_cols[col_name] = dict_i"
   ]
  },
  {
   "cell_type": "code",
   "execution_count": 13,
   "id": "f6b86971",
   "metadata": {
    "ExecuteTime": {
     "end_time": "2022-06-08T13:22:35.841095Z",
     "start_time": "2022-06-08T13:22:33.807934Z"
    }
   },
   "outputs": [],
   "source": [
    "from copy import deepcopy\n",
    "\n",
    "df_analysis = deepcopy(df)\n",
    "\n",
    "for column_name in remapping_cols:\n",
    "    df_analysis[column_name] = df[column_name].replace(remapping_cols[column_name])"
   ]
  },
  {
   "cell_type": "markdown",
   "id": "portable-personal",
   "metadata": {},
   "source": [
    "We substituite nan with string \"NaN\""
   ]
  },
  {
   "cell_type": "code",
   "execution_count": 14,
   "id": "029194e4",
   "metadata": {
    "ExecuteTime": {
     "end_time": "2022-06-08T13:22:35.912798Z",
     "start_time": "2022-06-08T13:22:35.842887Z"
    }
   },
   "outputs": [],
   "source": [
    "for c in df_analysis:\n",
    "    if df_analysis[c].isna().any():\n",
    "        print(c)\n",
    "        df_analysis[c].fillna('NaN', inplace=True)"
   ]
  },
  {
   "cell_type": "code",
   "execution_count": 15,
   "id": "bf01cb9e",
   "metadata": {
    "ExecuteTime": {
     "end_time": "2022-06-08T13:22:35.939287Z",
     "start_time": "2022-06-08T13:22:35.914266Z"
    },
    "scrolled": true
   },
   "outputs": [
    {
     "data": {
      "text/html": [
       "<div>\n",
       "<style scoped>\n",
       "    .dataframe tbody tr th:only-of-type {\n",
       "        vertical-align: middle;\n",
       "    }\n",
       "\n",
       "    .dataframe tbody tr th {\n",
       "        vertical-align: top;\n",
       "    }\n",
       "\n",
       "    .dataframe thead th {\n",
       "        text-align: right;\n",
       "    }\n",
       "</style>\n",
       "<table border=\"1\" class=\"dataframe\">\n",
       "  <thead>\n",
       "    <tr style=\"text-align: right;\">\n",
       "      <th></th>\n",
       "      <th>AGEP</th>\n",
       "      <th>COW</th>\n",
       "      <th>SCHL</th>\n",
       "      <th>MAR</th>\n",
       "      <th>OCCP</th>\n",
       "      <th>POBP</th>\n",
       "      <th>RELP</th>\n",
       "      <th>WKHP</th>\n",
       "      <th>SEX</th>\n",
       "      <th>RAC1P</th>\n",
       "      <th>income</th>\n",
       "    </tr>\n",
       "  </thead>\n",
       "  <tbody>\n",
       "    <tr>\n",
       "      <th>0</th>\n",
       "      <td>30.0</td>\n",
       "      <td>Self-employed in own not incorporated business...</td>\n",
       "      <td>Grade 11</td>\n",
       "      <td>Married</td>\n",
       "      <td>TRN-Cleaners Of Vehicles And Equipment</td>\n",
       "      <td>California/CA</td>\n",
       "      <td>Institutionalized group quarters population</td>\n",
       "      <td>40.0</td>\n",
       "      <td>Male</td>\n",
       "      <td>Some Other Race alone</td>\n",
       "      <td>48500.0</td>\n",
       "    </tr>\n",
       "    <tr>\n",
       "      <th>1</th>\n",
       "      <td>21.0</td>\n",
       "      <td>State government employee</td>\n",
       "      <td>Regular high school diploma</td>\n",
       "      <td>Never married or under 15 years old</td>\n",
       "      <td>SCI-Other Life, Physical, And Social Science T...</td>\n",
       "      <td>California/CA</td>\n",
       "      <td>Noninstitutionalized group quarters population</td>\n",
       "      <td>20.0</td>\n",
       "      <td>Male</td>\n",
       "      <td>White alone</td>\n",
       "      <td>7700.0</td>\n",
       "    </tr>\n",
       "    <tr>\n",
       "      <th>2</th>\n",
       "      <td>65.0</td>\n",
       "      <td>Employee of a private not-for-profit, tax-exem...</td>\n",
       "      <td>Master's degree</td>\n",
       "      <td>Never married or under 15 years old</td>\n",
       "      <td>CMS-Clergy</td>\n",
       "      <td>California/CA</td>\n",
       "      <td>Noninstitutionalized group quarters population</td>\n",
       "      <td>8.0</td>\n",
       "      <td>Male</td>\n",
       "      <td>White alone</td>\n",
       "      <td>17200.0</td>\n",
       "    </tr>\n",
       "  </tbody>\n",
       "</table>\n",
       "</div>"
      ],
      "text/plain": [
       "   AGEP                                                COW  \\\n",
       "0  30.0  Self-employed in own not incorporated business...   \n",
       "1  21.0                          State government employee   \n",
       "2  65.0  Employee of a private not-for-profit, tax-exem...   \n",
       "\n",
       "                          SCHL                                  MAR  \\\n",
       "0                     Grade 11                              Married   \n",
       "1  Regular high school diploma  Never married or under 15 years old   \n",
       "2              Master's degree  Never married or under 15 years old   \n",
       "\n",
       "                                                OCCP           POBP  \\\n",
       "0             TRN-Cleaners Of Vehicles And Equipment  California/CA   \n",
       "1  SCI-Other Life, Physical, And Social Science T...  California/CA   \n",
       "2                                         CMS-Clergy  California/CA   \n",
       "\n",
       "                                             RELP  WKHP   SEX  \\\n",
       "0     Institutionalized group quarters population  40.0  Male   \n",
       "1  Noninstitutionalized group quarters population  20.0  Male   \n",
       "2  Noninstitutionalized group quarters population   8.0  Male   \n",
       "\n",
       "                   RAC1P   income  \n",
       "0  Some Other Race alone  48500.0  \n",
       "1            White alone   7700.0  \n",
       "2            White alone  17200.0  "
      ]
     },
     "execution_count": 15,
     "metadata": {},
     "output_type": "execute_result"
    }
   ],
   "source": [
    "df_analysis.head(3)"
   ]
  },
  {
   "cell_type": "code",
   "execution_count": 16,
   "id": "9fb7efc0",
   "metadata": {
    "ExecuteTime": {
     "end_time": "2022-06-08T13:22:36.041509Z",
     "start_time": "2022-06-08T13:22:35.971504Z"
    }
   },
   "outputs": [],
   "source": [
    "import pickle\n",
    "\n",
    "with open(\n",
    "    os.path.join(os.path.curdir, \"datasets\", \"ACSPUMS\", \"census_column_mapping.pickle\"),\n",
    "    \"wb\",\n",
    ") as fp:\n",
    "    pickle.dump(remapping_cols, fp)"
   ]
  },
  {
   "cell_type": "code",
   "execution_count": 17,
   "id": "5e353603",
   "metadata": {
    "ExecuteTime": {
     "end_time": "2022-06-08T13:22:37.467885Z",
     "start_time": "2022-06-08T13:22:36.066184Z"
    }
   },
   "outputs": [],
   "source": [
    "df_analysis.to_csv(os.path.join(os.path.curdir, \"datasets\", \"ACSPUMS\", \"adult_dataset_income.csv\"), index=False)"
   ]
  },
  {
   "cell_type": "code",
   "execution_count": 18,
   "id": "ff583e16",
   "metadata": {
    "ExecuteTime": {
     "end_time": "2022-06-08T13:22:37.484075Z",
     "start_time": "2022-06-08T13:22:37.469515Z"
    }
   },
   "outputs": [],
   "source": [
    "continuous_attributes = ['AGEP', 'WKHP']"
   ]
  },
  {
   "cell_type": "code",
   "execution_count": 19,
   "id": "9ec8ef79",
   "metadata": {
    "ExecuteTime": {
     "end_time": "2022-06-08T13:22:37.527758Z",
     "start_time": "2022-06-08T13:22:37.485452Z"
    }
   },
   "outputs": [
    {
     "data": {
      "text/plain": [
       "(195665, 11)"
      ]
     },
     "execution_count": 19,
     "metadata": {},
     "output_type": "execute_result"
    }
   ],
   "source": [
    "df_analysis.shape"
   ]
  },
  {
   "cell_type": "markdown",
   "id": "3cd56012",
   "metadata": {},
   "source": [
    "# Taxonomy"
   ]
  },
  {
   "cell_type": "code",
   "execution_count": 20,
   "id": "0f9f22bf",
   "metadata": {
    "ExecuteTime": {
     "end_time": "2022-06-08T13:22:37.556681Z",
     "start_time": "2022-06-08T13:22:37.530892Z"
    }
   },
   "outputs": [],
   "source": [
    "df_analysis_proc = deepcopy(df_analysis)"
   ]
  },
  {
   "cell_type": "markdown",
   "id": "romance-devil",
   "metadata": {},
   "source": [
    "### Occupation"
   ]
  },
  {
   "cell_type": "code",
   "execution_count": 21,
   "id": "4ee6945c",
   "metadata": {
    "ExecuteTime": {
     "end_time": "2022-06-08T13:22:37.647640Z",
     "start_time": "2022-06-08T13:22:37.558321Z"
    }
   },
   "outputs": [],
   "source": [
    "attr = \"OCCP\"\n",
    "\n",
    "generalization_dict_tax = {}\n",
    "generalization_dict_tax[attr] = {x: x.split(\"-\")[0] for x in df_analysis_proc[attr].values if \"-\" in x}"
   ]
  },
  {
   "cell_type": "markdown",
   "id": "varied-mainland",
   "metadata": {},
   "source": [
    "### Country"
   ]
  },
  {
   "cell_type": "markdown",
   "id": "distributed-nepal",
   "metadata": {},
   "source": [
    "We rename some of the columns for vizualization and mapping reasons."
   ]
  },
  {
   "cell_type": "code",
   "execution_count": 22,
   "id": "committed-hayes",
   "metadata": {
    "ExecuteTime": {
     "end_time": "2022-06-08T13:22:37.956257Z",
     "start_time": "2022-06-08T13:22:37.854235Z"
    }
   },
   "outputs": [],
   "source": [
    "if \"POBP\" in df_analysis_proc.columns:\n",
    "    df_analysis_proc[\"POBP\"] = df_analysis_proc[\"POBP\"]\\\n",
    "    .replace({\"England\":\"United Kingdom\", 'Scotland': \"United Kingdom\", \\\n",
    "              \"United Kingdom, Not Specified\": \"United Kingdom\",  'Northern Ireland': \"United Kingdom\",\\\n",
    "               \"USSR\": \"Russia\", \"Hong Kong\": \"Hong Kong SAR\",\n",
    "             \"Democratic Republic of Congo (Zaire)\": 'Democratic Republic of the Congo',\n",
    "             \"Trinidad & Tobago\": \"Trinidad and Tobago\", 'Macedonia':'North Macedonia',\n",
    "             'Antigua & Barbuda': 'Antigua and Barbuda', \\\n",
    "              'Commonwealth of the Northern Mariana Islands':'Northern Mariana Islands',\n",
    "             'St. Vincent & the Grenadines': 'St. Vincent and the Grenadines', \\\n",
    "              #simplification\n",
    "             \"Azores Islands\": \"Portugal\"})"
   ]
  },
  {
   "cell_type": "code",
   "execution_count": 23,
   "id": "grave-greeting",
   "metadata": {
    "ExecuteTime": {
     "end_time": "2022-06-08T13:22:38.038318Z",
     "start_time": "2022-06-08T13:22:37.957882Z"
    }
   },
   "outputs": [],
   "source": [
    "# https://statisticstimes.com/geography/countries-by-continents.php\n",
    "df_taxonomy_country = pd.read_csv(\"country_hierarchies.csv\", header=None, index_col=0)\n",
    "\n",
    "df_taxonomy_country.columns=[\"Country or Area\",\"ISO-alpha3 Code\", \"M49 Code\", \"Region 1\", \"Region 2\", \"Continent\"]\n",
    "\n",
    "df_taxonomy_country[\"Country or Area\"] = df_taxonomy_country[\"Country or Area\"].replace({\n",
    "    \"Viet Nam\":\"Vietnam\", \"Bolivia (Plurinational State of)\": \"Bolivia\" ,\\\n",
    "      \"Russian Federation\": \"Russia\",'Iran (Islamic Republic of)': 'Iran', \\\n",
    "    \"Lao People's Democratic Republic\": \"Laos\", 'Syrian Arab Republic': \"Syria\", \n",
    "    'Venezuela (Bolivarian Republic of)': \"Venezuela\",\n",
    "    \"Republic of Moldova\": \"Moldova\", \"Czechia\": \"Czech Republic\",\n",
    "        'United Republic of Tanzania': \"Tanzania\", 'Côte d’Ivoire': \"Ivory Coast\",\n",
    "        'United States Virgin Islands': 'US Virgin Islands', 'Saint Lucia': 'St. Lucia', \n",
    "    'Saint Kitts and Nevis': 'St. Kitts-Nevis',\n",
    "    'Saint Vincent and the Grenadines': 'St. Vincent and the Grenadines',\n",
    "    \"United Kingdom of Great Britain and Northern Ireland\" : \"United Kingdom\",\\\n",
    "    \"China, Hong Kong Special Administrative Region\" : \"Hong Kong SAR\"\n",
    "})\n",
    "\n",
    "\n",
    "g_hierarchy = {}\n",
    "target_cols = [\"Country or Area\", \"Region 1\", \"Continent\"]\n",
    "for i, row in df_taxonomy_country.iterrows():\n",
    "    levels = [col for col in target_cols if pd.notnull(row[col])]\n",
    "    \n",
    "    for l in range(len(levels)-1):\n",
    "        tax_c, tax_p = row[levels[l]], row[levels[l+1]]\n",
    "        # If already exist but the value is different\n",
    "        if \"Korea\" in tax_c:\n",
    "            tax_c = \"Korea\"\n",
    "        \n",
    "        if tax_c in g_hierarchy and tax_p!=g_hierarchy[tax_c]:\n",
    "            print(row)\n",
    "            raise ValueError()\n",
    "        if tax_c == tax_p:\n",
    "            continue\n",
    "        g_hierarchy[tax_c] = tax_p\n",
    "attr = 'POBP'\n",
    "#g_hierarchy = {}\n",
    "g_hierarchy.update({\"North America\": \"America\", \n",
    " \"South America\": \"America\", \n",
    " \"Americas, Not Specified\" : \"America\", \n",
    "\"Other Europe, Not Specified\": \"Europe\",\n",
    "\"Eastern Africa, Not Specified\": \"Africa\",\n",
    "\"Other Asia, Not Specified\": \"Asia\",\n",
    "\"South Central Asia, Not Specified\": \"Asia\",\n",
    "\"Caribbean, Not Specified\": \"North America\",\n",
    "\"Other US Island Areas, Oceania, Not Specified, or at Sea\": \"Oceania\",\n",
    "\"Other Africa, Not Specified\": \"Africa\",\n",
    "\"Western Africa, Not Specified\": \"Africa\",\n",
    "                   \"Taiwan\" : 'Eastern Asia',\n",
    "                   'Czechoslovakia':'Eastern Europe', 'Yugoslavia':'Southern Europe'})\n"
   ]
  },
  {
   "cell_type": "code",
   "execution_count": 24,
   "id": "original-diary",
   "metadata": {
    "ExecuteTime": {
     "end_time": "2022-06-08T13:22:38.249067Z",
     "start_time": "2022-06-08T13:22:38.039860Z"
    },
    "scrolled": false
   },
   "outputs": [
    {
     "name": "stdout",
     "output_type": "stream",
     "text": [
      "Asia 54\n",
      "Europe 23\n",
      "Africa 18\n",
      "West Indies 2\n",
      "North America 0\n",
      "South America 4\n",
      "Micronesia 8\n",
      "109 0.00056\n"
     ]
    }
   ],
   "source": [
    "generalization_dict_tax_u = deepcopy(g_hierarchy)\n",
    "delete_values = []\n",
    "for c, v in df_analysis_proc[\"POBP\"].value_counts().items():\n",
    "    if c not in g_hierarchy.keys():\n",
    "        if \"/\" in c:\n",
    "            g_hierarchy[c] = \"United States of America\"\n",
    "        else:\n",
    "            delete_values.append(c)\n",
    "\n",
    "delete_values.append(\"North America\")\n",
    "delete_values.append(\"South America\")\n",
    "delete_values.append(\"Micronesia\")\n",
    "\n",
    "tot_deleted = 0\n",
    "for c in delete_values:\n",
    "    print(c, len(df_analysis_proc.loc[df_analysis_proc[\"POBP\"]==c]))\n",
    "    tot_deleted +=len(df_analysis_proc.loc[df_analysis_proc[\"POBP\"]==c])\n",
    "print(tot_deleted, round(tot_deleted/len(df_analysis_proc),5))"
   ]
  },
  {
   "cell_type": "markdown",
   "id": "approved-peninsula",
   "metadata": {
    "ExecuteTime": {
     "end_time": "2022-05-22T14:48:17.840751Z",
     "start_time": "2022-05-22T14:48:17.832450Z"
    }
   },
   "source": [
    "Delete rows for which the detailed information is not available"
   ]
  },
  {
   "cell_type": "code",
   "execution_count": 25,
   "id": "804d2083",
   "metadata": {
    "ExecuteTime": {
     "end_time": "2022-06-08T13:22:38.281291Z",
     "start_time": "2022-06-08T13:22:38.250548Z"
    }
   },
   "outputs": [],
   "source": [
    "df_analysis_proc = df_analysis_proc.loc[df_analysis_proc[\"POBP\"].isin(delete_values)==False]"
   ]
  },
  {
   "cell_type": "code",
   "execution_count": 26,
   "id": "b6e0891a",
   "metadata": {
    "ExecuteTime": {
     "end_time": "2022-06-08T13:22:38.322532Z",
     "start_time": "2022-06-08T13:22:38.307743Z"
    }
   },
   "outputs": [],
   "source": [
    "generalization_dict_tax[attr] = generalization_dict_tax_u"
   ]
  },
  {
   "cell_type": "code",
   "execution_count": 27,
   "id": "mathematical-healthcare",
   "metadata": {
    "ExecuteTime": {
     "end_time": "2022-06-08T13:22:39.774896Z",
     "start_time": "2022-06-08T13:22:38.324011Z"
    }
   },
   "outputs": [],
   "source": [
    "df_analysis_proc.to_csv(os.path.join(os.path.curdir, \"datasets\", \"ACSPUMS\", \"adult_dataset_income_tax.csv\"), index=False)"
   ]
  },
  {
   "cell_type": "code",
   "execution_count": 28,
   "id": "altered-preview",
   "metadata": {
    "ExecuteTime": {
     "end_time": "2022-06-08T13:22:39.846363Z",
     "start_time": "2022-06-08T13:22:39.776509Z"
    }
   },
   "outputs": [],
   "source": [
    "import json\n",
    "\n",
    "with open(os.path.join(os.path.curdir, \"datasets\", \"ACSPUMS\", \"adult_taxonomies.json\"), \"w\") as fp:\n",
    "    json.dump(generalization_dict_tax, fp)"
   ]
  },
  {
   "cell_type": "markdown",
   "id": "fdc16218",
   "metadata": {},
   "source": [
    "# Tree divergence - income - individual"
   ]
  },
  {
   "cell_type": "markdown",
   "id": "bef91cf1",
   "metadata": {
    "ExecuteTime": {
     "end_time": "2022-01-14T16:09:38.440308Z",
     "start_time": "2022-01-14T16:09:38.415153Z"
    }
   },
   "source": [
    "## Tree"
   ]
  },
  {
   "cell_type": "code",
   "execution_count": 29,
   "id": "fe65877f",
   "metadata": {
    "ExecuteTime": {
     "end_time": "2022-06-08T13:22:43.266871Z",
     "start_time": "2022-06-08T13:22:43.245162Z"
    }
   },
   "outputs": [],
   "source": [
    "min_support = 0.1"
   ]
  },
  {
   "cell_type": "code",
   "execution_count": 30,
   "id": "d3004959",
   "metadata": {
    "ExecuteTime": {
     "end_time": "2022-06-08T13:22:43.771108Z",
     "start_time": "2022-06-08T13:22:43.750747Z"
    }
   },
   "outputs": [],
   "source": [
    "metric = \"d_outcome\"\n",
    "target = \"income\""
   ]
  },
  {
   "cell_type": "code",
   "execution_count": 31,
   "id": "32db5661",
   "metadata": {
    "ExecuteTime": {
     "end_time": "2022-06-08T13:22:44.712665Z",
     "start_time": "2022-06-08T13:22:44.102915Z"
    },
    "scrolled": true
   },
   "outputs": [],
   "source": [
    "from tree_discretization_ranking import TreeDiscretization_ranking\n",
    "\n",
    "tree_discr = TreeDiscretization_ranking()\n",
    "\n",
    "\n",
    "type_experiment = \"one_at_time\"\n",
    "\n",
    "type_criterion = \"divergence_criterion\"\n",
    "\n",
    "\n",
    "generalization_dict, discretizations = tree_discr.get_tree_discretization(\n",
    "    df_analysis_proc,\n",
    "    type_splitting=type_experiment,\n",
    "    min_support=min_support,\n",
    "    metric=metric,\n",
    "    continuous_attributes= list(continuous_attributes),\n",
    "    storeTree=True,\n",
    "    type_criterion = type_criterion,\n",
    "    minimal_gain = 0.0,\n",
    "    target_col = target\n",
    ")"
   ]
  },
  {
   "cell_type": "code",
   "execution_count": 32,
   "id": "increased-rocket",
   "metadata": {
    "ExecuteTime": {
     "end_time": "2022-06-08T13:22:46.241009Z",
     "start_time": "2022-06-08T13:22:46.201212Z"
    }
   },
   "outputs": [],
   "source": [
    "FP_results = {\"base\": {}, \"generalized\": {}}"
   ]
  },
  {
   "cell_type": "markdown",
   "id": "cbde1772",
   "metadata": {},
   "source": [
    "## min_sup_divergence  = 0.05"
   ]
  },
  {
   "cell_type": "code",
   "execution_count": 33,
   "id": "b7395c52",
   "metadata": {
    "ExecuteTime": {
     "end_time": "2022-06-08T13:22:47.083847Z",
     "start_time": "2022-06-08T13:22:47.061616Z"
    }
   },
   "outputs": [],
   "source": [
    "generalization_dict_all = deepcopy(generalization_dict)\n",
    "generalization_dict_all.update(generalization_dict_tax)"
   ]
  },
  {
   "cell_type": "code",
   "execution_count": 34,
   "id": "patient-single",
   "metadata": {
    "ExecuteTime": {
     "end_time": "2022-06-08T13:22:47.675913Z",
     "start_time": "2022-06-08T13:22:47.652700Z"
    }
   },
   "outputs": [
    {
     "name": "stdout",
     "output_type": "stream",
     "text": [
      "dict_keys(['AGEP', 'WKHP', 'OCCP', 'POBP'])\n"
     ]
    }
   ],
   "source": [
    "print(generalization_dict_all.keys())"
   ]
  },
  {
   "cell_type": "code",
   "execution_count": 35,
   "id": "f500c39c",
   "metadata": {
    "ExecuteTime": {
     "end_time": "2022-06-08T13:22:48.335133Z",
     "start_time": "2022-06-08T13:22:48.312953Z"
    }
   },
   "outputs": [],
   "source": [
    "min_sup_divergence = 0.05"
   ]
  },
  {
   "cell_type": "code",
   "execution_count": 36,
   "id": "247cc2f5",
   "metadata": {
    "ExecuteTime": {
     "end_time": "2022-06-08T13:22:49.376862Z",
     "start_time": "2022-06-08T13:22:49.356747Z"
    }
   },
   "outputs": [],
   "source": [
    "import pandas as pd\n",
    "pd.set_option('max_colwidth', None)"
   ]
  },
  {
   "cell_type": "code",
   "execution_count": 37,
   "id": "e372ac96",
   "metadata": {
    "ExecuteTime": {
     "end_time": "2022-06-08T13:22:49.573294Z",
     "start_time": "2022-06-08T13:22:49.552524Z"
    }
   },
   "outputs": [],
   "source": [
    "INFO = ['support', 'itemsets', 'tn', 'fp', 'fn', 'tp']"
   ]
  },
  {
   "cell_type": "code",
   "execution_count": 99,
   "id": "b99f370d",
   "metadata": {},
   "outputs": [],
   "source": [
    "min_sup_divergences = [0.01]"
   ]
  },
  {
   "cell_type": "code",
   "execution_count": 100,
   "id": "7ed5e67d",
   "metadata": {},
   "outputs": [],
   "source": [
    "out_support = {}\n",
    "out_support_wlogr = {}"
   ]
  },
  {
   "cell_type": "markdown",
   "id": "aa731811",
   "metadata": {},
   "source": [
    "### Without Generalization "
   ]
  },
  {
   "cell_type": "code",
   "execution_count": 101,
   "id": "8771b4a6",
   "metadata": {
    "ExecuteTime": {
     "end_time": "2022-06-08T13:22:59.947661Z",
     "start_time": "2022-06-08T13:22:49.769754Z"
    }
   },
   "outputs": [
    {
     "name": "stdout",
     "output_type": "stream",
     "text": [
      "0.01\n",
      "Time: 8.66\n"
     ]
    }
   ],
   "source": [
    "from utils_extract_divergence_generalized_ranking import (\n",
    "    extract_divergence_generalized,\n",
    ")\n",
    "\n",
    "apply_generalization = False\n",
    "\n",
    "pattern_type = \"generalized\" if apply_generalization else \"base\"\n",
    "\n",
    "import time\n",
    "for min_sup_divergence in min_sup_divergences:\n",
    "    print(min_sup_divergence)\n",
    "    st = time.time()\n",
    "    FP_fm = extract_divergence_generalized(\n",
    "        df_analysis_proc,\n",
    "        discretizations,\n",
    "        generalization_dict_all,\n",
    "        continuous_attributes,\n",
    "        min_sup_divergence=min_sup_divergence,\n",
    "        apply_generalization=apply_generalization,\n",
    "        target_name = target,\n",
    "        FPM_type=\"fpgrowth\",\n",
    "        metrics_divergence = [\"d_outcome\"],\n",
    "        type_experiment = type_experiment,\n",
    "        allow_overalp = False if type_experiment!=\"all_attributes\" else True\n",
    "    )\n",
    "    print(f\"Time: {round(time.time()-st, 2)}\")\n",
    "\n",
    "\n",
    "    from divexplorer_generalized_ranking.FP_Divergence import FP_Divergence\n",
    "    fp_divergence_o=FP_Divergence(FP_fm, \"d_outcome\")\n",
    "    fp_div = fp_divergence_o.getDivergence(th_redundancy=0)\n",
    "    most_divergent = fp_div.sort_values(fp_divergence_o.metric, ascending = False).head(1)\n",
    "    \n",
    "    if min_sup_divergence == 0.01 :\n",
    "        import math\n",
    "        mean_outcome = fp_div.loc[0][\"outcome\"]\n",
    "        fp_div[\"wlogr\"] = fp_div[\"support\"] * (fp_div[\"outcome\"]/mean_outcome).apply(lambda x: math.log(x))\n",
    "        most_divergent_wlogr = fp_div.sort_values(\"wlogr\", ascending = True).head(3)\n",
    "\n",
    "        out_support_wlogr.setdefault(min_sup_divergence, {})[\"base\"] = most_divergent_wlogr\n",
    "    \n",
    "    \n",
    "    out_support.setdefault(min_sup_divergence, {})[\"base\"] = most_divergent\n",
    "    "
   ]
  },
  {
   "cell_type": "code",
   "execution_count": 102,
   "id": "1f5bace2",
   "metadata": {},
   "outputs": [],
   "source": [
    "from copy import deepcopy\n",
    "\n",
    "base = deepcopy(FP_fm)"
   ]
  },
  {
   "cell_type": "markdown",
   "id": "3a627b9d",
   "metadata": {},
   "source": [
    "### With Generalization "
   ]
  },
  {
   "cell_type": "code",
   "execution_count": 103,
   "id": "665727e9",
   "metadata": {
    "ExecuteTime": {
     "end_time": "2022-06-08T13:23:21.136581Z",
     "start_time": "2022-06-08T13:23:01.979359Z"
    }
   },
   "outputs": [
    {
     "name": "stdout",
     "output_type": "stream",
     "text": [
      "0.01\n",
      "1 10000\n",
      "2 20000\n",
      "Time: 21.99\n"
     ]
    }
   ],
   "source": [
    "from utils_extract_divergence_generalized_ranking import (\n",
    "    extract_divergence_generalized,\n",
    ")\n",
    "\n",
    "apply_generalization = True\n",
    "pattern_type = \"generalized\" if apply_generalization else \"base\"\n",
    "\n",
    "import time \n",
    "\n",
    "\n",
    "\n",
    "for min_sup_divergence in min_sup_divergences:\n",
    "    print(min_sup_divergence)\n",
    "    st = time.time()\n",
    "    FP_fm = extract_divergence_generalized(\n",
    "        df_analysis_proc,\n",
    "        discretizations,\n",
    "        generalization_dict_all,\n",
    "        continuous_attributes,\n",
    "        min_sup_divergence=min_sup_divergence,\n",
    "        apply_generalization=apply_generalization,\n",
    "        target_name = target,\n",
    "        FPM_type=\"fpgrowth\",\n",
    "        metrics_divergence = [\"d_outcome\"],\n",
    "        type_experiment = type_experiment,\n",
    "        considerOnlyContinuos = False,\n",
    "        allow_overalp = False if type_experiment!=\"all_attributes\" else True\n",
    "    )\n",
    "\n",
    "    print(f\"Time: {round(time.time()-st, 2)}\")\n",
    "\n",
    "    from divexplorer_generalized_ranking.FP_Divergence import FP_Divergence\n",
    "    fp_divergence_o=FP_Divergence(FP_fm, \"d_outcome\")\n",
    "    fp_div = fp_divergence_o.getDivergence(th_redundancy=0)\n",
    "    most_divergent = fp_div.sort_values(fp_divergence_o.metric, ascending = False).head(1)\n",
    "    out_support.setdefault(min_sup_divergence, {})[\"generalized\"] = most_divergent\n",
    "         \n",
    "    \n",
    "    if min_sup_divergence == 0.01 :\n",
    "        import math\n",
    "        mean_outcome = fp_div.loc[0][\"outcome\"]\n",
    "        fp_div[\"wlogr\"] = fp_div[\"support\"] * (fp_div[\"outcome\"]/mean_outcome).apply(lambda x: math.log(x))\n",
    "        most_divergent_wlogr = fp_div.sort_values(\"wlogr\", ascending = True).head(3)\n",
    "\n",
    "        out_support_wlogr.setdefault(min_sup_divergence, {})[\"generalized\"] = most_divergent_wlogr"
   ]
  },
  {
   "cell_type": "code",
   "execution_count": 104,
   "id": "9961a710",
   "metadata": {},
   "outputs": [],
   "source": [
    "from copy import deepcopy\n",
    "\n",
    "generalized = deepcopy(FP_fm)"
   ]
  },
  {
   "cell_type": "code",
   "execution_count": 105,
   "id": "86b2c25a",
   "metadata": {},
   "outputs": [
    {
     "data": {
      "text/html": [
       "<div>\n",
       "<style scoped>\n",
       "    .dataframe tbody tr th:only-of-type {\n",
       "        vertical-align: middle;\n",
       "    }\n",
       "\n",
       "    .dataframe tbody tr th {\n",
       "        vertical-align: top;\n",
       "    }\n",
       "\n",
       "    .dataframe thead th {\n",
       "        text-align: right;\n",
       "    }\n",
       "</style>\n",
       "<table border=\"1\" class=\"dataframe\">\n",
       "  <thead>\n",
       "    <tr style=\"text-align: right;\">\n",
       "      <th></th>\n",
       "      <th>support</th>\n",
       "      <th>itemsets</th>\n",
       "      <th>length</th>\n",
       "      <th>support_count</th>\n",
       "      <th>outcome</th>\n",
       "      <th>d_outcome</th>\n",
       "      <th>t_value_outcome</th>\n",
       "    </tr>\n",
       "  </thead>\n",
       "  <tbody>\n",
       "    <tr>\n",
       "      <th>4388</th>\n",
       "      <td>0.011654</td>\n",
       "      <td>(WKHP=&gt;=44.0, SCHL=Professional degree beyond a bachelor's degree)</td>\n",
       "      <td>2</td>\n",
       "      <td>2279.0</td>\n",
       "      <td>228664.931988</td>\n",
       "      <td>163479.861563</td>\n",
       "      <td>40.290922</td>\n",
       "    </tr>\n",
       "    <tr>\n",
       "      <th>4366</th>\n",
       "      <td>0.011695</td>\n",
       "      <td>(MAR=Married, SCHL=Professional degree beyond a bachelor's degree, SEX=Male)</td>\n",
       "      <td>3</td>\n",
       "      <td>2287.0</td>\n",
       "      <td>221697.415829</td>\n",
       "      <td>156512.345404</td>\n",
       "      <td>39.083566</td>\n",
       "    </tr>\n",
       "    <tr>\n",
       "      <th>5235</th>\n",
       "      <td>0.010151</td>\n",
       "      <td>(RELP=Reference person, SCHL=Professional degree beyond a bachelor's degree, SEX=Male)</td>\n",
       "      <td>3</td>\n",
       "      <td>1985.0</td>\n",
       "      <td>212307.662469</td>\n",
       "      <td>147122.592044</td>\n",
       "      <td>34.782031</td>\n",
       "    </tr>\n",
       "    <tr>\n",
       "      <th>4651</th>\n",
       "      <td>0.011127</td>\n",
       "      <td>(COW=Employee of a private for-profit company or business, or of an individual, for wages, salary, or commissions, WKHP=&gt;=44.0, SCHL=Master's degree, SEX=Male)</td>\n",
       "      <td>4</td>\n",
       "      <td>2176.0</td>\n",
       "      <td>209515.284926</td>\n",
       "      <td>144330.214502</td>\n",
       "      <td>39.830737</td>\n",
       "    </tr>\n",
       "    <tr>\n",
       "      <th>4472</th>\n",
       "      <td>0.011460</td>\n",
       "      <td>(RAC1P=White alone, SCHL=Professional degree beyond a bachelor's degree, SEX=Male)</td>\n",
       "      <td>3</td>\n",
       "      <td>2241.0</td>\n",
       "      <td>208800.406069</td>\n",
       "      <td>143615.335644</td>\n",
       "      <td>36.158773</td>\n",
       "    </tr>\n",
       "  </tbody>\n",
       "</table>\n",
       "</div>"
      ],
      "text/plain": [
       "       support  \\\n",
       "4388  0.011654   \n",
       "4366  0.011695   \n",
       "5235  0.010151   \n",
       "4651  0.011127   \n",
       "4472  0.011460   \n",
       "\n",
       "                                                                                                                                                             itemsets  \\\n",
       "4388                                                                                               (WKHP=>=44.0, SCHL=Professional degree beyond a bachelor's degree)   \n",
       "4366                                                                                     (MAR=Married, SCHL=Professional degree beyond a bachelor's degree, SEX=Male)   \n",
       "5235                                                                           (RELP=Reference person, SCHL=Professional degree beyond a bachelor's degree, SEX=Male)   \n",
       "4651  (COW=Employee of a private for-profit company or business, or of an individual, for wages, salary, or commissions, WKHP=>=44.0, SCHL=Master's degree, SEX=Male)   \n",
       "4472                                                                               (RAC1P=White alone, SCHL=Professional degree beyond a bachelor's degree, SEX=Male)   \n",
       "\n",
       "      length  support_count        outcome      d_outcome  t_value_outcome  \n",
       "4388       2         2279.0  228664.931988  163479.861563        40.290922  \n",
       "4366       3         2287.0  221697.415829  156512.345404        39.083566  \n",
       "5235       3         1985.0  212307.662469  147122.592044        34.782031  \n",
       "4651       4         2176.0  209515.284926  144330.214502        39.830737  \n",
       "4472       3         2241.0  208800.406069  143615.335644        36.158773  "
      ]
     },
     "execution_count": 105,
     "metadata": {},
     "output_type": "execute_result"
    }
   ],
   "source": [
    "base.sort_values(metric, ascending = False).head()"
   ]
  },
  {
   "cell_type": "code",
   "execution_count": 106,
   "id": "48bb244a",
   "metadata": {},
   "outputs": [
    {
     "name": "stdout",
     "output_type": "stream",
     "text": [
      "1333\n",
      "1891\n",
      "1928\n",
      "1936\n",
      "2126\n",
      "2147\n",
      "2235\n",
      "2252\n",
      "2334\n",
      "2354\n",
      "2395\n",
      "2532\n",
      "2553\n",
      "2589\n",
      "2707\n",
      "2820\n",
      "2837\n",
      "2861\n",
      "2867\n",
      "2875\n",
      "2958\n",
      "3067\n",
      "3164\n",
      "3212\n",
      "3224\n",
      "3283\n",
      "3353\n",
      "3356\n",
      "3400\n",
      "3496\n",
      "3539\n",
      "3573\n",
      "3639\n",
      "3649\n",
      "3650\n",
      "3651\n",
      "3653\n",
      "3662\n",
      "3678\n",
      "3750\n",
      "3774\n",
      "3781\n",
      "3790\n",
      "3812\n",
      "3831\n",
      "3887\n",
      "3897\n",
      "3909\n",
      "3918\n",
      "3928\n",
      "4026\n",
      "4033\n",
      "4044\n",
      "4163\n",
      "4168\n",
      "4219\n",
      "4243\n",
      "4245\n",
      "4256\n",
      "4274\n",
      "4302\n",
      "4314\n",
      "4341\n",
      "4356\n",
      "4387\n",
      "4409\n",
      "4431\n",
      "4434\n",
      "4463\n",
      "4481\n",
      "4492\n",
      "4528\n",
      "4569\n",
      "4580\n",
      "4592\n",
      "4625\n",
      "4681\n",
      "4697\n",
      "4698\n",
      "4706\n",
      "4715\n",
      "4728\n",
      "4786\n",
      "4805\n",
      "4855\n",
      "4861\n",
      "4868\n",
      "4926\n",
      "4941\n",
      "4974\n",
      "4982\n",
      "5011\n",
      "5027\n",
      "5045\n",
      "5056\n",
      "5069\n",
      "5089\n",
      "5096\n",
      "5136\n",
      "5185\n",
      "5200\n",
      "5214\n",
      "5230\n",
      "5232\n",
      "5254\n",
      "5287\n",
      "5299\n"
     ]
    }
   ],
   "source": [
    "for e, itemset in enumerate(base.itemsets):\n",
    "    for item in itemset:\n",
    "        if 'OCCP' in item:\n",
    "            print(e)\n",
    "            break"
   ]
  },
  {
   "cell_type": "code",
   "execution_count": 114,
   "id": "669cd79d",
   "metadata": {},
   "outputs": [
    {
     "data": {
      "text/plain": [
       "{'MGR-Other Managers': 0.02817570848133289,\n",
       " 'SAL-Retail Salespersons': 0.021920118570004855,\n",
       " 'EDU-Elementary And Middle School Teachers': 0.021506145708225795,\n",
       " 'SAL-Cashiers': 0.021470370275726368,\n",
       " 'TRN-Driver/Sales Workers And Truck Drivers': 0.020177343929675722,\n",
       " 'OFF-Customer Service Representatives': 0.01853167403470217,\n",
       " 'MED-Registered Nurses': 0.017780389952214242,\n",
       " 'SAL-First-Line Supervisors Of Retail Sales Workers': 0.01653847136687706,\n",
       " 'HLS-Personal Care Aides': 0.015828073492959907,\n",
       " 'CMM-Software Developers': 0.014744588965834462,\n",
       " 'OFF-Secretaries And Administrative Assistants, Except Legal, Medial, And Executive': 0.014540157922980605,\n",
       " 'CLN-Janitors And Building Cleaners': 0.014310172999770015,\n",
       " 'FIN-Accountants And Auditors': 0.014279508343341936,\n",
       " 'EAT-Waiters And Waitresses': 0.013380011754784964,\n",
       " 'CON-Construction Laborers': 0.013374900978713617,\n",
       " 'TRN-Laborers And Freight, Stock, And Material Movers, Hand': 0.013323793218000153,\n",
       " 'EAT-Cooks': 0.012981371221219942,\n",
       " 'OFF-Office Clerks, General': 0.011964326783022002,\n",
       " 'FFF-Other Agricultural Workers': 0.011545243145171594,\n",
       " 'CLN-Maids And Housekeeping Cleaners': 0.010625303452329236,\n",
       " 'MGR-Chief Executives And Legislators': 0.010308435335905758,\n",
       " 'TRN-Stockers And Order Fillers': 0.010073339636623822,\n",
       " 'EDU-Postsecondary Teachers': 0.009822911609127846,\n",
       " 'PRS-Childcare Workers': 0.00923006158485166,\n",
       " 'LGL-Lawyers, And Judges, Magistrates, And Other Judicial Workers': 0.009076738302711267,\n",
       " 'EDU-Teaching Assistants': 0.008739427082002402,\n",
       " 'OFF-Bookkeeping, Accounting, And Auditing Clerks': 0.00869854087343163,\n",
       " 'SAL-Sales Representatives, Wholesale And Manufacturing': 0.00862699000843278,\n",
       " 'OFF-First-Line Supervisors Of Office And Administrative Support Workers': 0.008402115861293538,\n",
       " 'CLN-Landscaping And Groundskeeping Workers': 0.008264124907367184,\n",
       " 'SAL-First-Line Supervisors Of Non-Retail Sales Workers': 0.007921702910586973,\n",
       " 'SAL-Real Estate Brokers And Sales Agents': 0.007819487389160044,\n",
       " 'OFF-Receptionists And Information Clerks': 0.007155086499885007,\n",
       " 'EAT-Food Preparation Workers': 0.007149975723813661,\n",
       " 'MGR-Financial Managers': 0.007124421843456929,\n",
       " 'PRT-Security Guards And Gaming Surveillance Officers': 0.007063092530600772,\n",
       " 'BUS-Management Analysts': 0.0065980119081082466,\n",
       " 'MGR-Education And Childcare Administrators': 0.006460020954181893,\n",
       " 'BUS-Human Resources Workers': 0.006403802417397081,\n",
       " 'MGR-General And Operations Managers': 0.006393580865254389,\n",
       " 'PRD-Miscellaneous Production Workers, Including Equipment Operators And Tenders': 0.006030715764188792,\n",
       " 'CON-Carpenters': 0.005795620064906856,\n",
       " 'MED-Physicians': 0.005744512304193392,\n",
       " 'ENG-Other Engineers': 0.005683182991337235,\n",
       " 'MGR-Property, Real Estate, And Community Association Managers': 0.005678072215265888,\n",
       " 'EDU-Other Teachers and Instructors': 0.005310096338128945,\n",
       " 'TRN-Packers And Packagers, Hand': 0.005192548488487977,\n",
       " 'PRD-Inspectors, Testers, Sorters, Samplers, And Weighers': 0.005151662279917205,\n",
       " 'BUS-Project Management Specialists': 0.005110776071346434,\n",
       " 'HLS-Nursing Assistants': 0.005075000638847009,\n",
       " 'MGR-Food Service Managers': 0.005075000638847009,\n",
       " 'PRS-Hairdressers, Hairstylists, And Cosmetologists': 0.005075000638847009,\n",
       " 'EDU-Secondary School Teachers': 0.004962563565277387,\n",
       " 'MGR-Marketing Managers': 0.00482968338742238,\n",
       " 'RPR-Automotive Service Technicians And Mechanics': 0.00475813252242353,\n",
       " 'MGR-Construction Managers': 0.004625252344568523,\n",
       " 'PRD-Other Assemblers And Fabricators': 0.004609920016354484,\n",
       " 'CMM-Computer Occupations, All Other': 0.004548590703498326,\n",
       " 'MED-Licensed Practical And Licensed Vocational Nurses': 0.004533258375284287,\n",
       " 'PRT-Police Officers': 0.004436153629928705,\n",
       " 'SAL-Sales Representatives Of Services, Except Advertising, Insurance, Financial Services, And Travel': 0.0044105997495719725,\n",
       " 'CON-Electricians': 0.00438504586921524,\n",
       " 'CON-First-Line Supervisors Of Construction Trades And Extraction Workers': 0.004374824317072547,\n",
       " 'MGR-Medical And Health Services Managers': 0.004226611811003501,\n",
       " 'CMS-Social Workers, All Other': 0.004078399304934454,\n",
       " 'MGR-Computer And Information Systems Managers': 0.004032402320292336,\n",
       " 'ENT-Other Designers': 0.004006848439935604,\n",
       " 'PRD-First-Line Supervisors Of Production And Operating Workers': 0.003991516111721565,\n",
       " 'OFF-Shipping, Receiving, And Inventory Clerks': 0.003965962231364833,\n",
       " 'TRN-Taxi Drivers': 0.0038228605013671327,\n",
       " 'CMM-Computer Support Specialists': 0.003756420412439629,\n",
       " 'TRN-Industrial Truck And Tractor Operators': 0.0035979863542278897,\n",
       " 'HLS-Medical Assistants': 0.0035775432499425036,\n",
       " 'OFF-Other Office And Administrative Support Workers': 0.003567321697799811,\n",
       " 'CON-Painters and Paperhangers': 0.003557100145657118,\n",
       " 'CMM-Computer Systems Analysts': 0.0034804385045869215,\n",
       " 'EAT-First-Line Supervisors Of Food Preparation And Serving Workers': 0.003357779878874607,\n",
       " 'EDU-Preschool And Kindergarten Teachers': 0.0033424475506605676,\n",
       " 'SAL-Insurance Sales Agents': 0.0031993458206628677,\n",
       " 'MGR-Human Resources Managers': 0.00315334883602075,\n",
       " 'ENG-Civil Engineers': 0.003112462627449978,\n",
       " 'EAT-Chefs And Head Cooks': 0.003086908747093246,\n",
       " 'EAT-Fast Food And Counter Workers': 0.003071576418879207,\n",
       " 'BUS-Market Research Analysts And Marketing Specialists': 0.0030358009863797816,\n",
       " 'ENT-Writers And Authors': 0.002989804001737664,\n",
       " 'ENT-Graphic Designers': 0.0029029208085247743,\n",
       " 'MGR-Sales Managers': 0.002887588480310735,\n",
       " 'CMM-Computer Programmers': 0.0028824777042393886,\n",
       " 'EDU-Tutors': 0.002877366928168042,\n",
       " 'RPR-Maintenance And Repair Workers, General': 0.0028569238238826565,\n",
       " 'SCI-Physical Scientists, All Other': 0.0028313699435259243,\n",
       " 'CON-Plumbers, Pipefitters, And Steamfitters': 0.0028313699435259243,\n",
       " 'OFF-Billing And Posting Clerks': 0.002744486750313035,\n",
       " 'MGR-Social And Community Service Managers': 0.002652492781028799,\n",
       " 'LGL-Paralegals And Legal Assistants': 0.0026473820049574526,\n",
       " 'ENT-Producers And Directors': 0.0025962742442439883,\n",
       " 'ENT-Artists And Related Workers': 0.002580941916029949,\n",
       " 'OFF-Word Processors And Typists': 0.002545166483530524,\n",
       " 'OFF-Production, Planning, And Expediting Clerks': 0.0025349449313878314,\n",
       " 'Other Engineering Technologists And Technicians, Except Drafters': 0.0024940587228170596,\n",
       " 'FIN-Personal Financial Advisors': 0.0024633940663889814,\n",
       " 'MGR-Farmers, Ranchers, And Other Agricultural Managers': 0.002448061738174942,\n",
       " 'BUS-Business Operations Specialists, All Other': 0.0024225078578182097,\n",
       " 'PRS-Manicurists And Pedicurists': 0.002320292336391281,\n",
       " 'CMS-Clergy': 0.002294738456034549,\n",
       " 'CMS-Educational, Guidance, And Career Counselors And Advisors': 0.002294738456034549,\n",
       " 'PRD-Welding, Soldering, And Brazing Workers': 0.00226407379960647,\n",
       " 'TRN-Cleaners Of Vehicles And Equipment': 0.0022589630235351236,\n",
       " 'OFF-Data Entry Keyers': 0.0022282983671070454,\n",
       " 'EAT-Dining Room And Cafeteria Attendants And Bartender Helpers': 0.002223187591035699,\n",
       " 'HLS-Dental Assistants': 0.00219252293460762,\n",
       " 'ENG-Electrical And Electronics Engineers': 0.002177190606393581,\n",
       " 'PRS-Exercise Trainers And Group Fitness Instructors': 0.0021720798303222345,\n",
       " 'EAT-Dishwashers': 0.0020443104285385737,\n",
       " 'PRS-Other Entertainment Attendants And Related Workers': 0.002028978100324534,\n",
       " 'EAT-Bartenders': 0.002023867324253188,\n",
       " 'SAL-Sales And Related Workers, All Other': 0.001998313443896456,\n",
       " 'OFF-Couriers And Messengers': 0.00197787033961107,\n",
       " 'FIN-Credit Counselors And Loan Officers': 0.0019727595635397237,\n",
       " 'MGR-Architectural And Engineering Managers': 0.0019420949071116448,\n",
       " 'PRS-Animal Caretakers': 0.0019369841310402985,\n",
       " 'EAT-Hosts And Hostesses, Restaurant, Lounge, And Coffee Shop': 0.001896097922469527,\n",
       " 'ENT-Coaches and Scouts': 0.0018654332660414483,\n",
       " 'BUS-Purchasing Agents, Except Wholesale, Retail, And Farm Products': 0.001860322489970102,\n",
       " 'OFF-Postal Service Mail Carriers': 0.0018501009378274092,\n",
       " 'MED-Pharmacy Technicians': 0.0018194362813993305,\n",
       " 'PRD-Sewing Machine Operators': 0.001814325505327984,\n",
       " 'ENT-Editors': 0.0018041039531852912,\n",
       " 'BUS-Compliance Officers': 0.0017836608488999055,\n",
       " 'OFF-File Clerks': 0.0017734392967572127,\n",
       " 'RPR-Other Installation, Maintenance, And Repair Workers': 0.0017683285206858662,\n",
       " 'MIL-Military Enlisted Tactical Operations And Air/Weapons Specialists And Crew Members': 0.0017683285206858662,\n",
       " 'OFF-Executive Secretaries And Executive Administrative Assistants': 0.0017581069685431733,\n",
       " 'PRD-Machinists': 0.001742774640329134,\n",
       " 'PRT-Firefighters': 0.0017325530881864412,\n",
       " 'PRD-Other Metal Workers And Plastic Workers': 0.0017223315360437481,\n",
       " 'CMS-Social And Human Service Assistants': 0.0017172207599724018,\n",
       " 'MED-Pharmacists': 0.0016865561035443232,\n",
       " 'PRS-Recreation Workers': 0.0016712237753302838,\n",
       " 'MIL-Military, Rank Not Specified': 0.0016507806710448982,\n",
       " 'ENT-Photographers': 0.0016456698949735516,\n",
       " 'TRN-Bus Drivers, Transit And Intercity': 0.0016456698949735516,\n",
       " 'TRN-Supervisors Of Transportation And Material Moving Workers': 0.0016456698949735516,\n",
       " 'MED-Other Therapists': 0.0016303375667595125,\n",
       " 'SCI-Other Life, Physical, And Social Science Technicians': 0.0016098944624741267,\n",
       " 'ENG-Industrial Engineers, Including Health And Safety': 0.001589451358188741,\n",
       " 'MED-Clinical Laboratory Technologists And Technicians': 0.0015792298060460482,\n",
       " 'MGR-Industrial Production Managers': 0.0015792298060460482,\n",
       " 'ENG-Aerospace Engineers': 0.0015792298060460482,\n",
       " 'BUS-Claims Adjusters, Appraisers, Examiners, And Investigators': 0.0015741190299747017,\n",
       " 'SCI-Other Psychologists': 0.0015690082539033551,\n",
       " 'ENG-Architects, Except Landscape And Naval': 0.001543454373546623,\n",
       " 'MED-Physical Therapists': 0.001543454373546623,\n",
       " 'BUS-Wholesale And Retail Buyers, Except Farm Products': 0.0015383435974752767,\n",
       " 'PRD-Packaging And Filling Machine Operators And Tenders': 0.0015332328214039302,\n",
       " 'PRD-Bakers': 0.0015230112692612373,\n",
       " 'ENT-Musicians and Singers': 0.0015179004931898908,\n",
       " 'RPR-Heating, Air Conditioning, And Refrigeration Mechanics And Installers': 0.0014770142846191193,\n",
       " 'MGR-Transportation, Storage, And Distribution Managers': 0.0014770142846191193,\n",
       " 'HLS-Massage Therapists': 0.0014667927324764265,\n",
       " 'PRT-Correctional Officers and Jailers': 0.0014565711803337337,\n",
       " 'SAL-Securities, Commodities, And Financial Services Sales Agents': 0.0014310172999770015,\n",
       " 'RPR-Industrial And Refractory Machinery Mechanics': 0.0014207957478343087,\n",
       " 'PRS-Personal Care and Service Workers, All Other': 0.00139013109140623,\n",
       " 'EDU-Special Education Teachers': 0.0013747987631921906,\n",
       " 'FIN-Financial And Investment Analysts': 0.0013492448828354585,\n",
       " 'CON-Construction Equipment Operators': 0.00131858022640738,\n",
       " 'ENG-Mechanical Engineers': 0.0012981371221219941,\n",
       " 'CLN-First-Line Supervisors Of Housekeeping And Janitorial Workers': 0.0012572509135512229,\n",
       " 'RPR-First-Line Supervisors Of Mechanics, Installers, And Repairers': 0.001236807809265837,\n",
       " 'RPR-Heavy Vehicle And Mobile Equipment Service Technicians And Mechanics': 0.0012214754810517976,\n",
       " 'CMS-Counselors, All Other': 0.0012214754810517976,\n",
       " 'ENT-Actors': 0.0012214754810517976,\n",
       " 'MED-Dentists': 0.0012163647049804513,\n",
       " 'RPR-Bus And Truck Mechanics And Diesel Engine Specialists': 0.0012163647049804513,\n",
       " 'CMM-Operations Research Analysts': 0.0011959216006950655,\n",
       " 'HLS-Home Health Aides': 0.0011908108246237192,\n",
       " 'CMM-Other Mathematical Science Occupations': 0.0011805892724810261,\n",
       " 'CMM-Network And Computer Systems Administrators': 0.001165256944266987,\n",
       " 'OFF-Payroll And Timekeeping Clerks': 0.0011601461681956405,\n",
       " 'PRD-Butchers And Other Meat, Poultry, And Fish Processing Workers': 0.0011601461681956405,\n",
       " 'FIN-Tax Preparers': 0.001155035392124294,\n",
       " 'MGR-Purchasing Managers': 0.0011448138399816012,\n",
       " 'SCI-Other Life Scientists': 0.0011141491835535227,\n",
       " 'OFF-Tellers': 0.0011039276314108296,\n",
       " 'BUS-Meeting, Convention, And Event Planners': 0.0011039276314108296,\n",
       " 'PRD-Electrical, Electronics, And Electromechanical Assemblers': 0.001083484527125444,\n",
       " 'PRT-Other Protective Service Workers': 0.0010783737510540975,\n",
       " 'MED-Radiologic Technologists And Technicians': 0.0010630414228400584,\n",
       " 'ENT-Television, Video, And Motion Picture Camera Operators And Editors': 0.0010579306467687118,\n",
       " 'BUS-Cost Estimators': 0.0010528198706973653,\n",
       " 'ENT-Other Media And Communication Equipment Workers': 0.0010528198706973653,\n",
       " 'FFF-Graders And Sorters, Agricultural Products': 0.0010425983185546725,\n",
       " 'MED-Dental Hygienists': 0.0010374875424833262,\n",
       " 'TRN-Shuttle Drivers And Chauffeurs': 0.0010323767664119797,\n",
       " 'OFF-Dispatchers, Except Police, Fire, And Ambulance': 0.0010323767664119797,\n",
       " 'ENT-Interpreters and Translators': 0.0010221552142692868,\n",
       " 'EAT-Food Servers, Nonrestaurant': 0.0010170444381979403,\n",
       " 'MGR-Lodging Managers': 0.001011933662126594,\n",
       " 'EDU-Librarians And Media Collections Specialists': 0.001011933662126594,\n",
       " 'OFF-Other Financial Clerks': 0.001011933662126594,\n",
       " 'RPR-Radio And Telecommunications Equipment Installers And Repairers': 0.0010068228860552475,\n",
       " 'OFF-Eligibility Interviewers, Government Programs': 0.0009914905578412082,\n",
       " 'OFF-Other Information And Records Clerks': 0.0009761582296271689,\n",
       " 'SAL-Door-To-Door Sales Workers, News And Street Vendors, And Related Workers': 0.000965936677484476,\n",
       " 'MED-Speech-Language Pathologists': 0.0009454935731990902,\n",
       " 'CON-Carpet, Floor, And Tile Installers And Finishers': 0.0009352720210563974,\n",
       " 'ENT-Public Relations Specialists': 0.0009352720210563974,\n",
       " 'PRD-Laundry And Dry-Cleaning Workers': 0.0009148289167710117,\n",
       " 'CLN-First-Line Supervisors Of Landscaping, Lawn Service, And Groundskeeping Workers': 0.0008994965885569724,\n",
       " 'CON-Drywall Installers, Ceiling Tile Installers, And Tapers': 0.0008943858124856259,\n",
       " 'TRN-Aircraft Pilots And Flight Engineers': 0.0008892750364142795,\n",
       " 'ENT-Interior Designers': 0.0008790534842715867,\n",
       " 'RPR-Aircraft Mechanics And Service Technicians': 0.0008790534842715867,\n",
       " 'PRS-Gambling Services Workers': 0.0008637211560575473,\n",
       " 'RPR-Computer, Automated Teller, And Office Machine Repairers': 0.0008637211560575473,\n",
       " 'SAL-Advertising Sales Agents': 0.0008586103799862009,\n",
       " 'TRN-Parking Lot Attendants': 0.0008534996039148545,\n",
       " 'EDU-Other Educational Instruction and Library Workers': 0.0008330564996294688,\n",
       " 'OFF-Hotel, Motel, And Resort Desk Clerks': 0.0008279457235581223,\n",
       " 'OFF-Correspondence Clerks And Order Clerks': 0.0008279457235581223,\n",
       " 'OFF-Insurance Claims And Policy Processing Clerks': 0.0008177241714154294,\n",
       " 'RPR-Telecommunications Line Installers And Repairers': 0.0008177241714154294,\n",
       " 'MED-Medical Records Specialists': 0.000812613395344083,\n",
       " 'SCI-Biological Scientists': 0.000812613395344083,\n",
       " 'CMM-Web Developers': 0.0008075026192727366,\n",
       " 'CMS-Healthcare Social Workers': 0.0008023918432013902,\n",
       " 'HLS-Other Healthcare Support Workers': 0.0007972810671300437,\n",
       " 'FFF-First-Line Supervisors Of Farming, Fishing, And Forestry Workers': 0.0007870595149873508,\n",
       " 'BUS-Logisticians': 0.0007819487389160044,\n",
       " 'BUS-Training And Development Specialists': 0.0007666164107019651,\n",
       " 'TRN-Motor Vehicle Operators, All Other': 0.0007615056346306187,\n",
       " 'ENG-Other Drafters': 0.0007615056346306187,\n",
       " 'CMS-Substance Abuse And Behavioral Disorder Counselors': 0.0007563948585592723,\n",
       " 'TRN-Bus Drivers, School': 0.0007563948585592723,\n",
       " 'PRD-Painting Workers': 0.0007512840824879258,\n",
       " 'CMM-Database Administrators and Architects': 0.0007461733064165793,\n",
       " 'CON-Roofers': 0.0007410625303452329,\n",
       " 'MGR-Facilities Managers': 0.0007359517542738865,\n",
       " 'RPR-Automotive Body And Related Repairers': 0.0007359517542738865,\n",
       " 'OFF-Loan Interviewers And Clerks': 0.0007257302021311936,\n",
       " 'BUS-Fundraisers': 0.0007155086499885007,\n",
       " 'OFF-Bill And Account Collectors': 0.0007155086499885007,\n",
       " 'TRN-Flight Attendants': 0.0007103978739171543,\n",
       " 'MED-Nurse Practitioners, And Nurse Midwives': 0.0007001763217744614,\n",
       " 'PRD-Printing Press Operators': 0.0007001763217744614,\n",
       " 'PRT-Detectives And Criminal Investigators': 0.000695065545703115,\n",
       " 'OFF-Postal Service Clerks': 0.000695065545703115,\n",
       " 'CMM-Computer Network Architects': 0.000695065545703115,\n",
       " 'MED-Emergency Medical Technicians': 0.000695065545703115,\n",
       " 'OFF-Reservation And Transportation Ticket Agents And Travel Clerks': 0.0006899547696317686,\n",
       " 'SAL-Travel Agents': 0.0006848439935604222,\n",
       " 'OFF-Library Assistants, Clerical': 0.0006848439935604222,\n",
       " 'PRS-Supervisors Of Personal Care And Service Workers': 0.0006848439935604222,\n",
       " 'OFF-Interviewers, Except Eligibility And Loan': 0.0006746224414177292,\n",
       " 'PRD-Food Processing Workers, All Other': 0.0006746224414177292,\n",
       " 'SCI-Chemists And Materials Scientists': 0.0006695116653463828,\n",
       " 'MED-Respiratory Therapists': 0.0006490685610609971,\n",
       " 'PRS-Skincare Specialists': 0.0006490685610609971,\n",
       " 'MED-Miscellaneous Health Technologists and Technicians': 0.0006439577849896507,\n",
       " 'CMS-Other Community and Social Service Specialists': 0.0006388470089183043,\n",
       " 'MED-Physician Assistants': 0.0006286254567756114,\n",
       " 'CMM-Web And Digital Interface Designers': 0.0006286254567756114,\n",
       " 'ENG-Electrical And Electronic Engineering Technologists and Technicians': 0.0006235146807042649,\n",
       " 'BUS-Agents And Business Managers Of Artists, Performers, And Athletes': 0.0006184039046329185,\n",
       " 'MED-Occupational Therapists': 0.0006081823524902257,\n",
       " 'CLN-Tree Trimmers and Pruners': 0.0006030715764188792,\n",
       " 'PRD-Dental And Ophthalmic Laboratory Technicians And Medical Appliance Technicians': 0.0006030715764188792,\n",
       " 'TRN-Refuse And Recyclable Material Collectors': 0.0006030715764188792,\n",
       " 'HLS-Physical Therapist Assistants And Aides': 0.0005979608003475327,\n",
       " 'OFF-Weighers, Measurers, Checkers, And Samplers, Recordkeeping': 0.0005826284721334935,\n",
       " 'MED-Psychiatric Technicians': 0.0005826284721334935,\n",
       " 'ENT-Entertainers And Performers, Sports and Related Workers, All Other': 0.0005826284721334935,\n",
       " 'HLS-Phlebotomists': 0.000577517696062147,\n",
       " 'ENT-Technical Writers': 0.000577517696062147,\n",
       " 'PRT-First-Line Supervisors Of Police And Detectives': 0.0005724069199908006,\n",
       " 'CON-Construction And Building Inspectors': 0.0005672961439194542,\n",
       " 'CMM-Software Quality Assurance Analysts and Testers': 0.0005672961439194542,\n",
       " 'PRS-Tour And Travel Guides': 0.0005672961439194542,\n",
       " 'PRS-Barbers': 0.0005672961439194542,\n",
       " 'PRD-Helpers-Production Workers': 0.0005621853678481078,\n",
       " 'MED-Veterinarians': 0.0005621853678481078,\n",
       " 'SAL-Models, Demonstrators, And Product Promoters': 0.0005519638157054148,\n",
       " 'PRD-Tailors, Dressmakers, And Sewers': 0.0005468530396340684,\n",
       " 'CMS-Directors, Religious Activities And Education': 0.0005468530396340684,\n",
       " 'OFF-Legal Secretaries and Administrative Assistants': 0.0005468530396340684,\n",
       " 'MED-Veterinary Technologists and Technicians': 0.0005468530396340684,\n",
       " 'ENG-Computer Hardware Engineers': 0.0005315207114200292,\n",
       " 'CLN-Pest Control Workers': 0.0005264099353486827,\n",
       " 'PRT-Private Detectives And Investigators': 0.0005161883832059898,\n",
       " 'CON-Sheet Metal Workers': 0.0005110776071346434,\n",
       " 'FIN-Property Appraisers and Assessors': 0.0005110776071346434,\n",
       " 'CMS-Mental Health Counselors': 0.0005110776071346434,\n",
       " 'ENT-News Analysts, Reporters And Correspondents': 0.0005110776071346434,\n",
       " 'PRT-First-Line Supervisors of Security And Protective Service Workers, All Other': 0.0005008560549919505,\n",
       " 'PRD-Stationary Engineers And Boiler Operators': 0.0005008560549919505,\n",
       " 'MED-Dietitians And Nutritionists': 0.0004957452789206041,\n",
       " 'PRD-Chemical Processing Machine Setters, Operators, And Tenders': 0.0004957452789206041,\n",
       " 'FIN-Insurance Underwriters': 0.0004957452789206041,\n",
       " 'OFF-Court, Municipal, And License Clerks': 0.0004957452789206041,\n",
       " 'SAL-Parts Salespersons': 0.0004906345028492577,\n",
       " 'RPR-Miscellaneous Vehicle And Mobile Equipment Mechanics, Installers, And Repairers': 0.0004855237267779112,\n",
       " 'CMM-Information Security Analysts': 0.0004804129507065648,\n",
       " 'MED-Surgical Technologists': 0.0004804129507065648,\n",
       " 'PRS-Residential Advisors': 0.0004753021746352184,\n",
       " 'PRD-Food Batchmakers': 0.0004701913985638719,\n",
       " 'LGL-Title Examiners, Abstractors, and Searchers': 0.0004701913985638719,\n",
       " 'CMS-Probation Officers And Correctional Treatment Specialists': 0.0004701913985638719,\n",
       " 'MGR-Public Relations And Fundraising Managers': 0.0004701913985638719,\n",
       " 'TRN-Transportation Service Attendants': 0.00045996984642117904,\n",
       " 'MED-Paramedics': 0.0004548590703498326,\n",
       " 'EDU-Archivists, Curators, And Museum Technicians': 0.0004497482942784862,\n",
       " 'OFF-Public Safety Telecommunicators': 0.00044463751820713975,\n",
       " 'CMS-Religious Workers, All Other': 0.00044463751820713975,\n",
       " 'LGL-Legal Support Workers, All Other': 0.00044463751820713975,\n",
       " 'ENT-Music Directors and Composers': 0.00044463751820713975,\n",
       " 'SAL-Counter And Rental Clerks': 0.00043952674213579334,\n",
       " 'MED-Diagnostic Medical Sonographers': 0.00043441596606444687,\n",
       " 'PRT-First-Line Supervisors Of Fire Fighting And Prevention Workers': 0.00042930518999310046,\n",
       " 'CON-Brickmasons, Blockmasons, Stonemasons, And Reinforcing Iron And Rebar Workers': 0.00042930518999310046,\n",
       " 'OFF-Postal Service Mail Sorters, Processors, And Processing Machine Operators': 0.0004190836378504076,\n",
       " 'ENT-Floral Designers': 0.0004190836378504076,\n",
       " 'PRS-Baggage Porters, Bellhops, And Concierges': 0.00041397286177906117,\n",
       " 'MGR-Entertainment and Recreation Managers': 0.00039864053356502183,\n",
       " 'PRD-Computer Numerically Controlled Tool Operators And Programmers': 0.00039864053356502183,\n",
       " 'MED-Other Healthcare Practitioners and Technical Occupations': 0.00039864053356502183,\n",
       " 'MIL-First-Line Enlisted Military Supervisors': 0.0003935297574936754,\n",
       " 'OFF-Mail Clerks And Mail Machine Operators, Except Postal Service': 0.000388418981422329,\n",
       " 'SCI-School Psychologists': 0.00038330820535098254,\n",
       " 'MGR-Training And Development Managers': 0.00038330820535098254,\n",
       " 'HLS-Veterinary Assistants And Laboratory Animal Caretakers': 0.00037819742927963613,\n",
       " 'CMS-Marriage And Family Therapists': 0.00037819742927963613,\n",
       " 'RPR-Precision Instrument And Equipment Repairers': 0.00037819742927963613,\n",
       " 'PRD-Water And Wastewater Treatment Plant And System Operators': 0.00037308665320828966,\n",
       " 'ENG-Architectural And Civil Drafters': 0.00037308665320828966,\n",
       " 'SCI-Occupational Health And Safety Specialists and Technicians': 0.00037308665320828966,\n",
       " 'PRT-Crossing Guards And Flaggers': 0.00036797587713694325,\n",
       " 'MED-Opticians, Dispensing': 0.0003628651010655968,\n",
       " 'PRD-Jewelers And Precious Stone And Metal Workers': 0.0003628651010655968,\n",
       " 'CON-Other Construction And Related Workers': 0.0003628651010655968,\n",
       " 'RPR-Electrical Power-Line Installers And Repairers': 0.0003628651010655968,\n",
       " 'ENG-Materials Engineers': 0.0003577543249942504,\n",
       " 'MGR-Advertising And Promotions Managers': 0.0003577543249942504,\n",
       " 'MED-Chiropractors': 0.0003577543249942504,\n",
       " 'ENT-Fashion Designers': 0.00035264354892290396,\n",
       " 'HLS-Orderlies and Psychiatric Aides': 0.0003475327728515575,\n",
       " 'RPR-Security And Fire Alarm Systems Installers': 0.0003475327728515575,\n",
       " 'CON-Structural Iron And Steel Workers': 0.0003475327728515575,\n",
       " 'CMM-Computer And Information Research Scientists': 0.0003475327728515575,\n",
       " 'FIN-Other Financial Specialists': 0.0003424219967802111,\n",
       " 'PRS-Other Personal Appearance Workers': 0.0003373112207088646,\n",
       " 'PRD-Cutting Workers': 0.0003322004446375182,\n",
       " 'PRS-Ushers, Lobby Attendants, And Ticket Takers': 0.0003322004446375182,\n",
       " 'CON-Cement Masons, Concrete Finishers, And Terrazzo Workers': 0.0003270896685661718,\n",
       " 'ENG-Chemical Engineers': 0.0003270896685661718,\n",
       " 'EDU-Library Technicians': 0.00032197889249482533,\n",
       " 'MED-Optometrists': 0.0003168681164234789,\n",
       " 'SAL-Telemarketers': 0.0003168681164234789,\n",
       " 'FIN-Tax Examiners And Collectors, And Revenue Agents': 0.0003168681164234789,\n",
       " 'MGR-Administrative Services Managers': 0.00031175734035213245,\n",
       " 'MED-Surgeons': 0.00031175734035213245,\n",
       " 'BUS-Compensation, Benefits, And Job Analysis Specialists': 0.00030664656428078604,\n",
       " 'PRD-Crushing, Grinding, Polishing, Mixing, And Blending Workers': 0.00030664656428078604,\n",
       " 'PRS-Animal Trainers': 0.00030664656428078604,\n",
       " 'SCI-Other Social Scientists': 0.0003015357882094396,\n",
       " 'CON-Solar Photovoltaic Installers': 0.00029642501213809317,\n",
       " 'TRN-Other Material Moving Workers': 0.00029642501213809317,\n",
       " 'SCI-Chemical Technicians': 0.0002862034599954003,\n",
       " 'ENG-Landscape Architects': 0.0002862034599954003,\n",
       " 'OFF-Communications Equipment Operators, All Other': 0.0002862034599954003,\n",
       " 'SAL-Sales Engineers': 0.0002810926839240539,\n",
       " 'TRN-Ship And Boat Captains And Operators': 0.0002810926839240539,\n",
       " 'RPR-Locksmiths And Safe Repairers': 0.0002810926839240539,\n",
       " 'SCI-Biological Technicians': 0.0002810926839240539,\n",
       " 'ENT-Court Reporters and Simultaneous Captioners': 0.0002810926839240539,\n",
       " 'PRT-Transportation Security Screeners': 0.0002810926839240539,\n",
       " 'SCI-Environmental Scientists And Specialists, Including Health': 0.0002759819078527074,\n",
       " 'SCI-Geoscientists And Hydrologists, Except Geographers': 0.0002759819078527074,\n",
       " 'SCI-Agricultural And Food Science Technicians': 0.0002759819078527074,\n",
       " 'TRN-Crane And Tower Operators': 0.000270871131781361,\n",
       " 'OFF-Human Resources Assistants, Except Payroll And Timekeeping': 0.000270871131781361,\n",
       " 'PRD-Photographic Process Workers And Processing Machine Operators': 0.000270871131781361,\n",
       " 'CMS-Child, Family, And School Social Workers': 0.000270871131781361,\n",
       " 'MED-Cardiovascular Technologists and Technicians': 0.0002657603557100146,\n",
       " 'MED-Acupuncturists': 0.0002606495796386681,\n",
       " 'ENT-Umpires, Referees, And Other Sports Officials': 0.0002606495796386681,\n",
       " 'OFF-Medical Secretaries and Administrative Assistants': 0.0002555388035673217,\n",
       " 'ENT-Athletes and Sports Competitors': 0.0002555388035673217,\n",
       " 'SCI-Clinical And Counseling Psychologists': 0.0002555388035673217,\n",
       " 'HLS-Medical Transcriptionists': 0.0002555388035673217,\n",
       " 'RPR-Other Electrical And Electronic Equipment Mechanics, Installers, And Repairers.': 0.00024531725142462883,\n",
       " 'ENT-Media And Communication Workers, All Other': 0.00024531725142462883,\n",
       " 'CON-Pipelayers': 0.0002402064753532824,\n",
       " 'PRD-Upholsterers': 0.0002402064753532824,\n",
       " 'PRD-Cabinetmakers And Bench Carpenters': 0.00023509569928193596,\n",
       " 'PRD-Cutting, Punching, And Press Machine Setters, Operators, And Tenders, Metal And Plastic': 0.00023509569928193596,\n",
       " 'PRD-Miscellaneous Plant And System Operators': 0.00022998492321058952,\n",
       " 'CON-Highway Maintenance Workers': 0.00022998492321058952,\n",
       " 'ENG-Environmental Engineers': 0.00022998492321058952,\n",
       " 'PRD-Pressers, Textile, Garment, And Related Materials': 0.00022998492321058952,\n",
       " 'HLS-Pharmacy Aides': 0.0002248741471392431,\n",
       " 'FIN-Budget Analysts': 0.0002248741471392431,\n",
       " 'ENG-Surveying And Mapping Technicians': 0.0002248741471392431,\n",
       " 'PRD-Molders, Shapers, And Casters, Except Metal And Plastic': 0.0002248741471392431,\n",
       " 'CON-Plasterers And Stucco Masons': 0.00021976337106789667,\n",
       " 'ENG-Surveyors, Cartographers, And Photogrammetrists': 0.00021976337106789667,\n",
       " 'TRN-Air Traffic Controllers And Airfield Operations Specialists': 0.00021976337106789667,\n",
       " 'OFF-Office Machine Operators, Except Computer': 0.00021976337106789667,\n",
       " 'OFF-Statistical Assistants': 0.00021465259499655023,\n",
       " 'CON-Glaziers': 0.00021465259499655023,\n",
       " 'OFF-Procurement Clerks': 0.00021465259499655023,\n",
       " 'ENT-Commercial And Industrial Designers': 0.0002095418189252038,\n",
       " 'Grinding, Lapping, Polishing, And Buffing Machine Tool': 0.0002095418189252038,\n",
       " 'MED-Magnetic Resonance Imaging Technologists': 0.00020443104285385735,\n",
       " 'PRD-Power Plant Operators, Distributors, And Dispatchers': 0.00020443104285385735,\n",
       " 'LGL-Judicial Law Clerks': 0.00019932026678251091,\n",
       " 'OFF-Credit Authorizers, Checkers, And Clerks': 0.0001942094907111645,\n",
       " 'SCI-Urban And Regional Planners': 0.0001942094907111645,\n",
       " 'TRN-Transportation Inspectors': 0.00018909871463981806,\n",
       " 'FFF-Fishing And Hunting Workers': 0.00018909871463981806,\n",
       " 'RPR-Electronic Home Entertainment Equipment Installers And Repairers': 0.00018909871463981806,\n",
       " 'ENT-Broadcast Announcers And Radio Disc Jockeys': 0.00018909871463981806,\n",
       " 'CLN-Other Grounds Maintenance Workers': 0.00018909871463981806,\n",
       " 'MED-Nuclear Medicine Technologists and Medical Dosimetrists': 0.00018398793856847163,\n",
       " 'MED-Healthcare Diagnosing Or Treating Practitioners, All Other': 0.00018398793856847163,\n",
       " 'CMS-Rehabilitation Counselors': 0.00018398793856847163,\n",
       " 'RPR-Home Appliance Repairers': 0.00017376638642577875,\n",
       " 'PRT-First-Line Supervisors Of Correctional Officers': 0.00017376638642577875,\n",
       " 'MIL-Military Officer Special And Tactical Operations Leaders': 0.00017376638642577875,\n",
       " 'RPR-Electric Motor, Power Tool, And Related Repairers': 0.0001686556103544323,\n",
       " 'TRN-Sailors And Marine Oilers, And Ship Engineers': 0.0001686556103544323,\n",
       " 'PRD-Other Woodworkers': 0.0001635448342830859,\n",
       " 'MED-Dietetic Technicians And Ophthalmic Medical Technicians': 0.0001635448342830859,\n",
       " 'FIN-Credit Analysts': 0.00015843405821173946,\n",
       " 'PRS-Morticians, Undertakers, And Funeral Arrangers': 0.00015843405821173946,\n",
       " 'CMS-Mental Health And Substance Abuse Social Workers': 0.00015843405821173946,\n",
       " 'TRN-Other Transportation Workers': 0.00015843405821173946,\n",
       " 'TRN-Machine Feeders And Offbearers': 0.00015843405821173946,\n",
       " 'ENG-Biomedical And Agricultural Engineers': 0.00015332328214039302,\n",
       " 'EXT-Other Extraction Workers': 0.00015332328214039302,\n",
       " 'PRT-Fire Inspectors': 0.00014821250606904658,\n",
       " 'EXT-Surface Mining Machine Operators And Earth Drillers': 0.00014821250606904658,\n",
       " 'CON-Hazardous Materials Removal Workers': 0.00014821250606904658,\n",
       " 'MGR-Natural Sciences Managers': 0.00014821250606904658,\n",
       " 'RPR-Avionics Technicians': 0.00014821250606904658,\n",
       " 'FFF-Logging Workers': 0.00014821250606904658,\n",
       " 'HLS-Occupational Therapy Assistants And Aides': 0.00014310172999770014,\n",
       " 'CON-Helpers, Construction Trades': 0.00014310172999770014,\n",
       " 'PRD-Prepress Technicians And Workers': 0.00014310172999770014,\n",
       " 'SCI-Agricultural And Food Scientists': 0.00014310172999770014,\n",
       " 'RPR-Small Engine Mechanics': 0.00014310172999770014,\n",
       " 'PRD-Model Makers, Patternmakers, And Molding Machine Setters, Metal And Plastic': 0.0001379909539263537,\n",
       " 'PRD-Other Textile, Apparel, And Furnishings Workers': 0.0001379909539263537,\n",
       " 'OFF-Switchboard Operators, Including Answering Service': 0.0001328801778550073,\n",
       " 'OFF-Telephone Operators': 0.0001328801778550073,\n",
       " 'CON-Fence Erectors': 0.0001328801778550073,\n",
       " 'TRN-Locomotive Engineers And Operators': 0.0001328801778550073,\n",
       " 'TRN-Passenger Attendants': 0.00012776940178366086,\n",
       " 'ENT-Merchandise Displayers And Windows Trimmers': 0.00012776940178366086,\n",
       " 'CON-Elevator Installers And Repairers': 0.00012265862571231442,\n",
       " 'ENT-Dancers And Choreographers': 0.00012265862571231442,\n",
       " 'OFF-Cargo And Freight Agents': 0.00011754784964096798,\n",
       " 'FFF-Forest And Conservation Workers': 0.00011754784964096798,\n",
       " 'EAT-Food Preparation and Serving Related Workers, All Other': 0.00011754784964096798,\n",
       " 'RPR-Control And Valve Installers And Repairers': 0.00011754784964096798,\n",
       " 'RPR-Helpers--Installation, Maintenance, And Repair Workers': 0.00011754784964096798,\n",
       " 'RPR-Maintenance Workers, Machinery': 0.00011754784964096798,\n",
       " 'PRD-Tool And Die Makers': 0.00011243707356962155,\n",
       " 'MGR-Compensation And Benefits Managers': 0.00011243707356962155,\n",
       " 'ENT-Disc Jockeys, Except Radio': 0.00011243707356962155,\n",
       " 'RPR-Coin, Vending, And Amusement Machine Servicers And Repairers': 0.00011243707356962155,\n",
       " 'TRN-Pumping Station Operators': 0.00010732629749827511,\n",
       " 'TRN-Railroad Conductors And Yardmasters': 0.00010732629749827511,\n",
       " 'CMM-Actuaries': 0.00010732629749827511,\n",
       " 'PRD-Shoe And Leather Workers': 0.00010221552142692868,\n",
       " 'PRT-Bailiffs': 0.00010221552142692868,\n",
       " 'SCI-Environmental Science and Geoscience Technicians, And Nuclear Technicians': 0.00010221552142692868,\n",
       " 'EXT-Underground Mining Machine Operators': 0.00010221552142692868,\n",
       " 'RPR-Millwrights': 9.710474535558225e-05,\n",
       " 'PRD-Sawing Machine Setters, Operators, And Tenders, Wood': 9.710474535558225e-05,\n",
       " 'CON-Insulation Workers': 9.710474535558225e-05,\n",
       " 'RPR-Automotive Glass Installers And Repairers': 9.199396928423581e-05,\n",
       " 'OFF-Meter Readers, Utilities': 9.199396928423581e-05,\n",
       " 'SCI-Conservation Scientists And Foresters': 9.199396928423581e-05,\n",
       " 'EXT-Explosives Workers, Ordnance Handling Experts, and Blasters': 9.199396928423581e-05,\n",
       " 'SCI-Astronomers And Physicists': 8.688319321288937e-05,\n",
       " 'PRT-Fish And Game Wardens And Parking Enforcement Officers': 8.688319321288937e-05,\n",
       " 'PRD-Furniture Finishers': 8.688319321288937e-05,\n",
       " 'SCI-Economists': 8.688319321288937e-05,\n",
       " 'FFF-Agricultural Inspectors': 8.177241714154295e-05,\n",
       " 'PRT-Animal Control Workers': 8.177241714154295e-05,\n",
       " 'PRD-Woodworking Machine Setters, Operators, And Tenders, Except Sawing': 8.177241714154295e-05,\n",
       " 'EXT-Derrick, Rotary Drill, And Service Unit Operators, And Roustabouts, Oil, Gas, And Mining': 8.177241714154295e-05,\n",
       " 'PRD-Textile Machine Setters, Operators, And Tenders': 7.666164107019651e-05,\n",
       " 'PRD-Food Cooking Machine Operators And Tenders': 7.666164107019651e-05,\n",
       " 'TRN-Conveyor, Dredge, And Hoist and Winch Operators': 7.155086499885007e-05,\n",
       " 'PRD-Print Binding And Finishing Workers': 7.155086499885007e-05,\n",
       " 'PRD-Etchers And Engravers': 7.155086499885007e-05,\n",
       " 'MED-Radiation Therapists': 6.644008892750365e-05,\n",
       " 'PRD-Other Machine Tool Setters, Operators, And Tenders, Metal and Plastic': 6.644008892750365e-05,\n",
       " 'MED-Audiologists': 6.644008892750365e-05,\n",
       " 'ENG-Petroleum, Mining And Geological Engineers, Including Mining Safety Engineers': 6.644008892750365e-05,\n",
       " 'MED-Nurse Anesthetists': 6.644008892750365e-05,\n",
       " 'RPR-Riggers': 6.644008892750365e-05,\n",
       " 'PRS-Embalmers, Crematory Operators, And Funeral Attendants': 6.644008892750365e-05,\n",
       " 'PRD-Paper Goods Machine Setters, Operators, And Tenders': 6.132931285615721e-05,\n",
       " 'TRN-Other Rail Transportation Workers': 6.132931285615721e-05,\n",
       " 'FIN-Financial Examiners': 6.132931285615721e-05,\n",
       " 'MGR-Emergency Management Directors': 6.132931285615721e-05,\n",
       " 'TRN-Ambulance Drivers And Attendants, Except Emergency Medical Technicians': 5.621853678481078e-05,\n",
       " 'MED-Podiatrists': 5.621853678481078e-05,\n",
       " 'PRD-Food And Tobacco Roasting, Baking, And Drying Machine Operators And Tenders': 5.621853678481078e-05,\n",
       " 'PRD-Structural Metal Fabricators And Fitters': 5.621853678481078e-05,\n",
       " 'MED-Recreational Therapists': 5.110776071346434e-05,\n",
       " 'SCI-Atmospheric And Space Scientists': 5.110776071346434e-05,\n",
       " 'OFF-New Accounts Clerks': 4.5996984642117906e-05,\n",
       " 'PRD-Forming Machine Setters, Operators, And Tenders, Metal And Plastic': 4.5996984642117906e-05,\n",
       " 'ENG-Marine Engineers And Naval Architects': 4.0886208570771475e-05,\n",
       " 'PRD-Metal Furnace Operators, Tenders, Pourers, And Casters': 4.0886208570771475e-05,\n",
       " 'PRD-Extruding, Forming, Pressing, And Compacting Machine Setters, Operators, And Tenders': 4.0886208570771475e-05,\n",
       " 'OFF-Proofreaders And Copy Markers': 3.5775432499425036e-05,\n",
       " 'PRD-Furnace, Kiln, Oven, Drier, And Kettle Operators And Tenders': 3.0664656428078604e-05,\n",
       " 'PRD-Engine And Other Machine Assemblers': 2.555388035673217e-05,\n",
       " 'PRT-School Bus Monitors': 2.0443104285385737e-05,\n",
       " 'BUS-Buyers And Purchasing Agents, Farm Products': 1.5332328214039302e-05,\n",
       " 'CON-Boilermakers': 1.5332328214039302e-05,\n",
       " 'PRD-Adhesive Bonding Machine Operators And Tenders': 1.5332328214039302e-05,\n",
       " 'PRD-Tire Builders': 1.0221552142692869e-05,\n",
       " 'CON-Rail-Track Laying And Maintenance Equipment Operators': 5.110776071346434e-06}"
      ]
     },
     "execution_count": 114,
     "metadata": {},
     "output_type": "execute_result"
    }
   ],
   "source": [
    "{k:v/len(df_analysis) for k, v in dict(df_analysis['OCCP'].value_counts()).items()}"
   ]
  },
  {
   "cell_type": "code",
   "execution_count": 115,
   "id": "6f28cd15",
   "metadata": {},
   "outputs": [
    {
     "data": {
      "text/html": [
       "<div>\n",
       "<style scoped>\n",
       "    .dataframe tbody tr th:only-of-type {\n",
       "        vertical-align: middle;\n",
       "    }\n",
       "\n",
       "    .dataframe tbody tr th {\n",
       "        vertical-align: top;\n",
       "    }\n",
       "\n",
       "    .dataframe thead th {\n",
       "        text-align: right;\n",
       "    }\n",
       "</style>\n",
       "<table border=\"1\" class=\"dataframe\">\n",
       "  <thead>\n",
       "    <tr style=\"text-align: right;\">\n",
       "      <th></th>\n",
       "      <th>support</th>\n",
       "      <th>itemsets</th>\n",
       "      <th>length</th>\n",
       "      <th>support_count</th>\n",
       "      <th>outcome</th>\n",
       "      <th>d_outcome</th>\n",
       "      <th>t_value_outcome</th>\n",
       "    </tr>\n",
       "  </thead>\n",
       "  <tbody>\n",
       "    <tr>\n",
       "      <th>1</th>\n",
       "      <td>0.653199</td>\n",
       "      <td>(COW=Employee of a private for-profit company or business, or of an individual, for wages, salary, or commissions)</td>\n",
       "      <td>1</td>\n",
       "      <td>127737.0</td>\n",
       "      <td>62742.593642</td>\n",
       "      <td>-2442.476783</td>\n",
       "      <td>7.961542</td>\n",
       "    </tr>\n",
       "    <tr>\n",
       "      <th>2</th>\n",
       "      <td>0.618478</td>\n",
       "      <td>(RAC1P=White alone)</td>\n",
       "      <td>1</td>\n",
       "      <td>120947.0</td>\n",
       "      <td>70747.009202</td>\n",
       "      <td>5561.938778</td>\n",
       "      <td>16.846105</td>\n",
       "    </tr>\n",
       "    <tr>\n",
       "      <th>3</th>\n",
       "      <td>0.527966</td>\n",
       "      <td>(SEX=Male)</td>\n",
       "      <td>1</td>\n",
       "      <td>103247.0</td>\n",
       "      <td>76392.579717</td>\n",
       "      <td>11207.509292</td>\n",
       "      <td>30.818413</td>\n",
       "    </tr>\n",
       "    <tr>\n",
       "      <th>4</th>\n",
       "      <td>0.523512</td>\n",
       "      <td>(MAR=Married)</td>\n",
       "      <td>1</td>\n",
       "      <td>102376.0</td>\n",
       "      <td>82385.285067</td>\n",
       "      <td>17200.214642</td>\n",
       "      <td>46.824038</td>\n",
       "    </tr>\n",
       "    <tr>\n",
       "      <th>5</th>\n",
       "      <td>0.482982</td>\n",
       "      <td>(POBP=California/CA)</td>\n",
       "      <td>1</td>\n",
       "      <td>94450.0</td>\n",
       "      <td>57412.700286</td>\n",
       "      <td>-7772.370139</td>\n",
       "      <td>24.949485</td>\n",
       "    </tr>\n",
       "    <tr>\n",
       "      <th>...</th>\n",
       "      <td>...</td>\n",
       "      <td>...</td>\n",
       "      <td>...</td>\n",
       "      <td>...</td>\n",
       "      <td>...</td>\n",
       "      <td>...</td>\n",
       "      <td>...</td>\n",
       "    </tr>\n",
       "    <tr>\n",
       "      <th>4491</th>\n",
       "      <td>0.011419</td>\n",
       "      <td>(SCHL=Grade 9)</td>\n",
       "      <td>1</td>\n",
       "      <td>2233.0</td>\n",
       "      <td>29471.253918</td>\n",
       "      <td>-35713.816506</td>\n",
       "      <td>62.188578</td>\n",
       "    </tr>\n",
       "    <tr>\n",
       "      <th>4926</th>\n",
       "      <td>0.010626</td>\n",
       "      <td>(OCCP=CLN-Maids And Housekeeping Cleaners)</td>\n",
       "      <td>1</td>\n",
       "      <td>2078.0</td>\n",
       "      <td>21058.296439</td>\n",
       "      <td>-44126.773986</td>\n",
       "      <td>90.208075</td>\n",
       "    </tr>\n",
       "    <tr>\n",
       "      <th>5136</th>\n",
       "      <td>0.010314</td>\n",
       "      <td>(OCCP=MGR-Chief Executives And Legislators)</td>\n",
       "      <td>1</td>\n",
       "      <td>2017.0</td>\n",
       "      <td>208556.807139</td>\n",
       "      <td>143371.736714</td>\n",
       "      <td>34.251326</td>\n",
       "    </tr>\n",
       "    <tr>\n",
       "      <th>5299</th>\n",
       "      <td>0.010069</td>\n",
       "      <td>(OCCP=TRN-Stockers And Order Fillers)</td>\n",
       "      <td>1</td>\n",
       "      <td>1969.0</td>\n",
       "      <td>24382.488573</td>\n",
       "      <td>-40802.581852</td>\n",
       "      <td>58.407112</td>\n",
       "    </tr>\n",
       "    <tr>\n",
       "      <th>5329</th>\n",
       "      <td>0.010018</td>\n",
       "      <td>(RELP=Father or mother)</td>\n",
       "      <td>1</td>\n",
       "      <td>1959.0</td>\n",
       "      <td>33811.077080</td>\n",
       "      <td>-31373.993345</td>\n",
       "      <td>35.617390</td>\n",
       "    </tr>\n",
       "  </tbody>\n",
       "</table>\n",
       "<p>87 rows × 7 columns</p>\n",
       "</div>"
      ],
      "text/plain": [
       "       support  \\\n",
       "1     0.653199   \n",
       "2     0.618478   \n",
       "3     0.527966   \n",
       "4     0.523512   \n",
       "5     0.482982   \n",
       "...        ...   \n",
       "4491  0.011419   \n",
       "4926  0.010626   \n",
       "5136  0.010314   \n",
       "5299  0.010069   \n",
       "5329  0.010018   \n",
       "\n",
       "                                                                                                                itemsets  \\\n",
       "1     (COW=Employee of a private for-profit company or business, or of an individual, for wages, salary, or commissions)   \n",
       "2                                                                                                    (RAC1P=White alone)   \n",
       "3                                                                                                             (SEX=Male)   \n",
       "4                                                                                                          (MAR=Married)   \n",
       "5                                                                                                   (POBP=California/CA)   \n",
       "...                                                                                                                  ...   \n",
       "4491                                                                                                      (SCHL=Grade 9)   \n",
       "4926                                                                          (OCCP=CLN-Maids And Housekeeping Cleaners)   \n",
       "5136                                                                         (OCCP=MGR-Chief Executives And Legislators)   \n",
       "5299                                                                               (OCCP=TRN-Stockers And Order Fillers)   \n",
       "5329                                                                                             (RELP=Father or mother)   \n",
       "\n",
       "      length  support_count        outcome      d_outcome  t_value_outcome  \n",
       "1          1       127737.0   62742.593642   -2442.476783         7.961542  \n",
       "2          1       120947.0   70747.009202    5561.938778        16.846105  \n",
       "3          1       103247.0   76392.579717   11207.509292        30.818413  \n",
       "4          1       102376.0   82385.285067   17200.214642        46.824038  \n",
       "5          1        94450.0   57412.700286   -7772.370139        24.949485  \n",
       "...      ...            ...            ...            ...              ...  \n",
       "4491       1         2233.0   29471.253918  -35713.816506        62.188578  \n",
       "4926       1         2078.0   21058.296439  -44126.773986        90.208075  \n",
       "5136       1         2017.0  208556.807139  143371.736714        34.251326  \n",
       "5299       1         1969.0   24382.488573  -40802.581852        58.407112  \n",
       "5329       1         1959.0   33811.077080  -31373.993345        35.617390  \n",
       "\n",
       "[87 rows x 7 columns]"
      ]
     },
     "execution_count": 115,
     "metadata": {},
     "output_type": "execute_result"
    }
   ],
   "source": [
    "base.loc[base['length']==1]"
   ]
  },
  {
   "cell_type": "code",
   "execution_count": 123,
   "id": "278793f6",
   "metadata": {},
   "outputs": [
    {
     "name": "stdout",
     "output_type": "stream",
     "text": [
      "5 1\n",
      "64 2\n",
      "70 3\n",
      "77 3\n",
      "82 3\n",
      "88 3\n",
      "93 2\n",
      "96 3\n",
      "111 2\n",
      "125 3\n",
      "139 3\n",
      "140 3\n",
      "149 1\n",
      "174 3\n",
      "200 2\n",
      "203 2\n",
      "226 3\n",
      "230 2\n",
      "234 3\n",
      "285 2\n",
      "293 2\n",
      "320 2\n",
      "361 2\n",
      "412 1\n",
      "628 2\n",
      "685 2\n",
      "1080 2\n",
      "1114 2\n",
      "1126 1\n",
      "1147 1\n",
      "1170 2\n",
      "2257 2\n",
      "2423 3\n",
      "2446 2\n",
      "2505 2\n",
      "2531 2\n",
      "2599 2\n",
      "2604 3\n",
      "2707 3\n",
      "2726 1\n",
      "2732 2\n",
      "2738 3\n",
      "2747 1\n",
      "2796 2\n",
      "2834 2\n",
      "3174 3\n",
      "3204 2\n",
      "3303 3\n",
      "3371 2\n",
      "3410 2\n",
      "3485 1\n",
      "3522 3\n",
      "3573 2\n",
      "3652 2\n",
      "3655 1\n",
      "3853 2\n",
      "3961 1\n",
      "3988 2\n",
      "3991 2\n",
      "3996 1\n",
      "4012 2\n",
      "4065 1\n",
      "4098 3\n",
      "4108 2\n",
      "4168 2\n",
      "4221 3\n",
      "4289 1\n",
      "4309 1\n",
      "4336 2\n",
      "4350 2\n",
      "4369 2\n",
      "4375 3\n",
      "4402 2\n",
      "4432 1\n",
      "4440 2\n",
      "4446 3\n",
      "4560 1\n",
      "4564 2\n",
      "4571 1\n",
      "4591 2\n",
      "4600 1\n",
      "4606 3\n",
      "4632 2\n",
      "4639 1\n",
      "4664 2\n",
      "4693 1\n",
      "4713 1\n",
      "4718 2\n",
      "4722 2\n",
      "4764 3\n",
      "4885 2\n",
      "4916 3\n",
      "4931 1\n",
      "4953 2\n",
      "4959 2\n",
      "4980 3\n",
      "5061 2\n",
      "5078 3\n",
      "5113 2\n",
      "5118 3\n",
      "5124 3\n",
      "5129 4\n",
      "5165 2\n",
      "5166 3\n",
      "5169 3\n",
      "5170 4\n",
      "5175 2\n"
     ]
    }
   ],
   "source": [
    "base_s = base.sort_values(metric, ascending=False)\n",
    "\n",
    "for eb, itemset in enumerate(base_s.itemsets):\n",
    "    f = False\n",
    "    \n",
    "    for item in itemset:\n",
    "        if 'OCCP' in item:\n",
    "            f = True\n",
    "            print(eb, len(itemset))\n",
    "            break"
   ]
  },
  {
   "cell_type": "code",
   "execution_count": 125,
   "id": "de3bbbab",
   "metadata": {},
   "outputs": [
    {
     "data": {
      "text/plain": [
       "support                                                                                                                                               0.017504\n",
       "itemsets           (COW=Employee of a private for-profit company or business, or of an individual, for wages, salary, or commissions, OCCP=MGR-Other Managers)\n",
       "length                                                                                                                                                       2\n",
       "support_count                                                                                                                                           3423.0\n",
       "outcome                                                                                                                                          134943.613789\n",
       "d_outcome                                                                                                                                         69758.543364\n",
       "t_value_outcome                                                                                                                                      30.971035\n",
       "Name: 2589, dtype: object"
      ]
     },
     "execution_count": 125,
     "metadata": {},
     "output_type": "execute_result"
    }
   ],
   "source": [
    "base_s.iloc[285]"
   ]
  },
  {
   "cell_type": "code",
   "execution_count": 126,
   "id": "ee46202e",
   "metadata": {},
   "outputs": [
    {
     "data": {
      "text/plain": [
       "support                                          0.011475\n",
       "itemsets           (WKHP=>=44.0, OCCP=MGR-Other Managers)\n",
       "length                                                  2\n",
       "support_count                                      2244.0\n",
       "outcome                                     160572.771836\n",
       "d_outcome                                    95387.701411\n",
       "t_value_outcome                                 30.260967\n",
       "Name: 4463, dtype: object"
      ]
     },
     "execution_count": 126,
     "metadata": {},
     "output_type": "execute_result"
    }
   ],
   "source": [
    "base_s.iloc[64]"
   ]
  },
  {
   "cell_type": "code",
   "execution_count": 117,
   "id": "d2440125",
   "metadata": {},
   "outputs": [
    {
     "name": "stdout",
     "output_type": "stream",
     "text": [
      "5\n"
     ]
    },
    {
     "data": {
      "text/plain": [
       "support                                               0.010314\n",
       "itemsets           (OCCP=MGR-Chief Executives And Legislators)\n",
       "length                                                       1\n",
       "support_count                                           2017.0\n",
       "outcome                                          208556.807139\n",
       "d_outcome                                        143371.736714\n",
       "t_value_outcome                                      34.251326\n",
       "Name: 5136, dtype: object"
      ]
     },
     "execution_count": 117,
     "metadata": {},
     "output_type": "execute_result"
    }
   ],
   "source": [
    "base_s = base.sort_values(metric, ascending=False)\n",
    "\n",
    "for eb, itemset in enumerate(base_s.itemsets):\n",
    "    f = False\n",
    "    \n",
    "    for item in itemset:\n",
    "        if 'OCCP' in item:\n",
    "            f = True\n",
    "            print(eb)\n",
    "            break\n",
    "    if f:\n",
    "        break\n",
    "            \n",
    "base_s.iloc[eb]"
   ]
  },
  {
   "cell_type": "code",
   "execution_count": 118,
   "id": "a397295d",
   "metadata": {},
   "outputs": [
    {
     "name": "stdout",
     "output_type": "stream",
     "text": [
      "11\n"
     ]
    },
    {
     "data": {
      "text/plain": [
       "support                                                                                                                                                                                                    0.010105\n",
       "itemsets           (WKHP=>=44.0, AGEP=>=35.0, COW=Employee of a private for-profit company or business, or of an individual, for wages, salary, or commissions, OCCP=MGR, RAC1P=White alone, MAR=Married, SEX=Male)\n",
       "length                                                                                                                                                                                                            7\n",
       "support_count                                                                                                                                                                                                1976.0\n",
       "outcome                                                                                                                                                                                               217157.616397\n",
       "d_outcome                                                                                                                                                                                             151972.545972\n",
       "t_value_outcome                                                                                                                                                                                           37.858689\n",
       "Name: 26203, dtype: object"
      ]
     },
     "execution_count": 118,
     "metadata": {},
     "output_type": "execute_result"
    }
   ],
   "source": [
    "generalized_s = generalized.sort_values(metric, ascending=False)\n",
    "\n",
    "for e, itemset in enumerate(generalized_s.itemsets):\n",
    "    f = False\n",
    "    \n",
    "    for item in itemset:\n",
    "        if 'OCCP' in item:\n",
    "            f = True\n",
    "            print(e)\n",
    "            break\n",
    "    if f:\n",
    "        break\n",
    "            \n",
    "generalized_s.iloc[e]"
   ]
  },
  {
   "cell_type": "code",
   "execution_count": 122,
   "id": "6cb8f5a6",
   "metadata": {},
   "outputs": [
    {
     "data": {
      "text/plain": [
       "support                                                                                                                                                                                                    0.010105\n",
       "itemsets           (WKHP=>=44.0, AGEP=>=35.0, COW=Employee of a private for-profit company or business, or of an individual, for wages, salary, or commissions, OCCP=MGR, RAC1P=White alone, MAR=Married, SEX=Male)\n",
       "length                                                                                                                                                                                                            7\n",
       "support_count                                                                                                                                                                                                1976.0\n",
       "outcome                                                                                                                                                                                               217157.616397\n",
       "d_outcome                                                                                                                                                                                             151972.545972\n",
       "t_value_outcome                                                                                                                                                                                           37.858689\n",
       "Name: 26203, dtype: object"
      ]
     },
     "metadata": {},
     "output_type": "display_data"
    },
    {
     "data": {
      "text/plain": [
       "support                                               0.010314\n",
       "itemsets           (OCCP=MGR-Chief Executives And Legislators)\n",
       "length                                                       1\n",
       "support_count                                           2017.0\n",
       "outcome                                          208556.807139\n",
       "d_outcome                                        143371.736714\n",
       "t_value_outcome                                      34.251326\n",
       "Name: 5136, dtype: object"
      ]
     },
     "metadata": {},
     "output_type": "display_data"
    }
   ],
   "source": [
    "display(generalized_s.iloc[e])\n",
    "display(base_s.iloc[eb])"
   ]
  },
  {
   "cell_type": "code",
   "execution_count": 119,
   "id": "54e46992",
   "metadata": {},
   "outputs": [
    {
     "data": {
      "text/plain": [
       "8600.809257445304"
      ]
     },
     "execution_count": 119,
     "metadata": {},
     "output_type": "execute_result"
    }
   ],
   "source": [
    "generalized_s.iloc[e][metric]-base_s.iloc[eb][metric]"
   ]
  },
  {
   "cell_type": "code",
   "execution_count": 120,
   "id": "142d6677",
   "metadata": {},
   "outputs": [
    {
     "data": {
      "text/html": [
       "<div>\n",
       "<style scoped>\n",
       "    .dataframe tbody tr th:only-of-type {\n",
       "        vertical-align: middle;\n",
       "    }\n",
       "\n",
       "    .dataframe tbody tr th {\n",
       "        vertical-align: top;\n",
       "    }\n",
       "\n",
       "    .dataframe thead th {\n",
       "        text-align: right;\n",
       "    }\n",
       "</style>\n",
       "<table border=\"1\" class=\"dataframe\">\n",
       "  <thead>\n",
       "    <tr style=\"text-align: right;\">\n",
       "      <th></th>\n",
       "      <th>support</th>\n",
       "      <th>itemsets</th>\n",
       "      <th>length</th>\n",
       "      <th>support_count</th>\n",
       "      <th>outcome</th>\n",
       "      <th>d_outcome</th>\n",
       "      <th>t_value_outcome</th>\n",
       "    </tr>\n",
       "  </thead>\n",
       "  <tbody>\n",
       "    <tr>\n",
       "      <th>25541</th>\n",
       "      <td>0.010268</td>\n",
       "      <td>(WKHP=&gt;=40.0, AGEP=&gt;=35.0, SCHL=Professional degree beyond a bachelor's degree, SEX=Male)</td>\n",
       "      <td>4</td>\n",
       "      <td>2008.0</td>\n",
       "      <td>237481.040837</td>\n",
       "      <td>172295.970412</td>\n",
       "      <td>39.344466</td>\n",
       "    </tr>\n",
       "    <tr>\n",
       "      <th>24251</th>\n",
       "      <td>0.010652</td>\n",
       "      <td>(MAR=Married, AGEP=&gt;=35.0, SCHL=Professional degree beyond a bachelor's degree, SEX=Male)</td>\n",
       "      <td>4</td>\n",
       "      <td>2083.0</td>\n",
       "      <td>228965.972156</td>\n",
       "      <td>163780.901731</td>\n",
       "      <td>38.327022</td>\n",
       "    </tr>\n",
       "    <tr>\n",
       "      <th>21275</th>\n",
       "      <td>0.011654</td>\n",
       "      <td>(WKHP=&gt;=44.0, SCHL=Professional degree beyond a bachelor's degree)</td>\n",
       "      <td>2</td>\n",
       "      <td>2279.0</td>\n",
       "      <td>228664.931988</td>\n",
       "      <td>163479.861563</td>\n",
       "      <td>40.290922</td>\n",
       "    </tr>\n",
       "    <tr>\n",
       "      <th>26256</th>\n",
       "      <td>0.010094</td>\n",
       "      <td>(AGEP=&gt;=46.0, SCHL=Professional degree beyond a bachelor's degree, SEX=Male)</td>\n",
       "      <td>3</td>\n",
       "      <td>1974.0</td>\n",
       "      <td>221792.608916</td>\n",
       "      <td>156607.538491</td>\n",
       "      <td>35.238657</td>\n",
       "    </tr>\n",
       "    <tr>\n",
       "      <th>21164</th>\n",
       "      <td>0.011695</td>\n",
       "      <td>(MAR=Married, SCHL=Professional degree beyond a bachelor's degree, SEX=Male)</td>\n",
       "      <td>3</td>\n",
       "      <td>2287.0</td>\n",
       "      <td>221697.415829</td>\n",
       "      <td>156512.345404</td>\n",
       "      <td>39.083566</td>\n",
       "    </tr>\n",
       "  </tbody>\n",
       "</table>\n",
       "</div>"
      ],
      "text/plain": [
       "        support  \\\n",
       "25541  0.010268   \n",
       "24251  0.010652   \n",
       "21275  0.011654   \n",
       "26256  0.010094   \n",
       "21164  0.011695   \n",
       "\n",
       "                                                                                        itemsets  \\\n",
       "25541  (WKHP=>=40.0, AGEP=>=35.0, SCHL=Professional degree beyond a bachelor's degree, SEX=Male)   \n",
       "24251  (MAR=Married, AGEP=>=35.0, SCHL=Professional degree beyond a bachelor's degree, SEX=Male)   \n",
       "21275                         (WKHP=>=44.0, SCHL=Professional degree beyond a bachelor's degree)   \n",
       "26256               (AGEP=>=46.0, SCHL=Professional degree beyond a bachelor's degree, SEX=Male)   \n",
       "21164               (MAR=Married, SCHL=Professional degree beyond a bachelor's degree, SEX=Male)   \n",
       "\n",
       "       length  support_count        outcome      d_outcome  t_value_outcome  \n",
       "25541       4         2008.0  237481.040837  172295.970412        39.344466  \n",
       "24251       4         2083.0  228965.972156  163780.901731        38.327022  \n",
       "21275       2         2279.0  228664.931988  163479.861563        40.290922  \n",
       "26256       3         1974.0  221792.608916  156607.538491        35.238657  \n",
       "21164       3         2287.0  221697.415829  156512.345404        39.083566  "
      ]
     },
     "execution_count": 120,
     "metadata": {},
     "output_type": "execute_result"
    }
   ],
   "source": [
    "generalized.sort_values(metric, ascending = False).head()"
   ]
  },
  {
   "cell_type": "markdown",
   "id": "cad794db",
   "metadata": {},
   "source": [
    "# Print results"
   ]
  },
  {
   "cell_type": "markdown",
   "id": "059ded46",
   "metadata": {},
   "source": [
    "## Divergence"
   ]
  },
  {
   "cell_type": "code",
   "execution_count": 42,
   "id": "0434f399",
   "metadata": {},
   "outputs": [],
   "source": [
    "t_value_col = \"t_value_outcome\""
   ]
  },
  {
   "cell_type": "code",
   "execution_count": 43,
   "id": "1626582e",
   "metadata": {},
   "outputs": [
    {
     "data": {
      "text/html": [
       "<div>\n",
       "<style scoped>\n",
       "    .dataframe tbody tr th:only-of-type {\n",
       "        vertical-align: middle;\n",
       "    }\n",
       "\n",
       "    .dataframe tbody tr th {\n",
       "        vertical-align: top;\n",
       "    }\n",
       "\n",
       "    .dataframe thead th {\n",
       "        text-align: right;\n",
       "    }\n",
       "</style>\n",
       "<table border=\"1\" class=\"dataframe\">\n",
       "  <thead>\n",
       "    <tr style=\"text-align: right;\">\n",
       "      <th></th>\n",
       "      <th>s</th>\n",
       "      <th>Exploration approach</th>\n",
       "      <th>itemsets</th>\n",
       "      <th>sup</th>\n",
       "      <th>Δ_outcome</th>\n",
       "      <th>t_outcome</th>\n",
       "    </tr>\n",
       "  </thead>\n",
       "  <tbody>\n",
       "    <tr>\n",
       "      <th>341</th>\n",
       "      <td>0.050</td>\n",
       "      <td>base</td>\n",
       "      <td>MAR=Married, RAC=White, SEX=Male, WKHP=&gt;=44.0</td>\n",
       "      <td>0.07</td>\n",
       "      <td>80986.277</td>\n",
       "      <td>62.3</td>\n",
       "    </tr>\n",
       "    <tr>\n",
       "      <th>1858</th>\n",
       "      <td>0.050</td>\n",
       "      <td>generalized</td>\n",
       "      <td>AGEP=&gt;=35.0, OCCP=MGR, SEX=Male</td>\n",
       "      <td>0.05</td>\n",
       "      <td>90204.019</td>\n",
       "      <td>60.6</td>\n",
       "    </tr>\n",
       "    <tr>\n",
       "      <th>1285</th>\n",
       "      <td>0.025</td>\n",
       "      <td>base</td>\n",
       "      <td>SCHL=Prof beyond bachelor</td>\n",
       "      <td>0.03</td>\n",
       "      <td>105256.743</td>\n",
       "      <td>46.7</td>\n",
       "    </tr>\n",
       "    <tr>\n",
       "      <th>6602</th>\n",
       "      <td>0.025</td>\n",
       "      <td>generalized</td>\n",
       "      <td>AGEP=&gt;=35.0, OCCP=MGR, SEX=Male, WKHP=&gt;=44.0</td>\n",
       "      <td>0.03</td>\n",
       "      <td>119340.209</td>\n",
       "      <td>50.6</td>\n",
       "    </tr>\n",
       "    <tr>\n",
       "      <th>4388</th>\n",
       "      <td>0.010</td>\n",
       "      <td>base</td>\n",
       "      <td>SCHL=Prof beyond bachelor, WKHP=&gt;=44.0</td>\n",
       "      <td>0.01</td>\n",
       "      <td>163479.862</td>\n",
       "      <td>40.3</td>\n",
       "    </tr>\n",
       "    <tr>\n",
       "      <th>25541</th>\n",
       "      <td>0.010</td>\n",
       "      <td>generalized</td>\n",
       "      <td>AGEP=&gt;=35.0, SCHL=Prof beyond bachelor, SEX=Male, WKHP=&gt;=40.0</td>\n",
       "      <td>0.01</td>\n",
       "      <td>172295.970</td>\n",
       "      <td>39.3</td>\n",
       "    </tr>\n",
       "  </tbody>\n",
       "</table>\n",
       "</div>"
      ],
      "text/plain": [
       "           s Exploration approach  \\\n",
       "341    0.050                 base   \n",
       "1858   0.050          generalized   \n",
       "1285   0.025                 base   \n",
       "6602   0.025          generalized   \n",
       "4388   0.010                 base   \n",
       "25541  0.010          generalized   \n",
       "\n",
       "                                                            itemsets   sup  \\\n",
       "341                    MAR=Married, RAC=White, SEX=Male, WKHP=>=44.0  0.07   \n",
       "1858                                 AGEP=>=35.0, OCCP=MGR, SEX=Male  0.05   \n",
       "1285                                       SCHL=Prof beyond bachelor  0.03   \n",
       "6602                    AGEP=>=35.0, OCCP=MGR, SEX=Male, WKHP=>=44.0  0.03   \n",
       "4388                          SCHL=Prof beyond bachelor, WKHP=>=44.0  0.01   \n",
       "25541  AGEP=>=35.0, SCHL=Prof beyond bachelor, SEX=Male, WKHP=>=40.0  0.01   \n",
       "\n",
       "        Δ_outcome  t_outcome  \n",
       "341     80986.277       62.3  \n",
       "1858    90204.019       60.6  \n",
       "1285   105256.743       46.7  \n",
       "6602   119340.209       50.6  \n",
       "4388   163479.862       40.3  \n",
       "25541  172295.970       39.3  "
      ]
     },
     "execution_count": 43,
     "metadata": {},
     "output_type": "execute_result"
    }
   ],
   "source": [
    "method_name = \"Exploration approach\"\n",
    "\n",
    "res_acc = []\n",
    "for min_sup_divergence in min_sup_divergences:\n",
    "    res = pd.concat([out_support[min_sup_divergence][k] for k in out_support[min_sup_divergence]])\n",
    "    res[method_name] = out_support[min_sup_divergence].keys()\n",
    "    res[\"s\"] = [min_sup_divergence]*len(res)\n",
    "    from utils_printable import printable\n",
    "\n",
    "    COLS = [\"s\", method_name] + [\"itemsets\", \"support\"] + [metric, t_value_col]\n",
    "    \n",
    "    res_pr = printable(res[COLS], abbreviations=abbreviations, resort_cols = False)\n",
    "    \n",
    "    res_acc.append(res_pr)\n",
    "\n",
    "pd.concat(res_acc)"
   ]
  },
  {
   "cell_type": "markdown",
   "id": "294dc092",
   "metadata": {},
   "source": [
    "## Wlogr"
   ]
  },
  {
   "cell_type": "code",
   "execution_count": 60,
   "id": "9b667b30",
   "metadata": {},
   "outputs": [
    {
     "name": "stdout",
     "output_type": "stream",
     "text": [
      "Minimum support divergence: 0.01\n"
     ]
    },
    {
     "data": {
      "text/html": [
       "<div>\n",
       "<style scoped>\n",
       "    .dataframe tbody tr th:only-of-type {\n",
       "        vertical-align: middle;\n",
       "    }\n",
       "\n",
       "    .dataframe tbody tr th {\n",
       "        vertical-align: top;\n",
       "    }\n",
       "\n",
       "    .dataframe thead th {\n",
       "        text-align: right;\n",
       "    }\n",
       "</style>\n",
       "<table border=\"1\" class=\"dataframe\">\n",
       "  <thead>\n",
       "    <tr style=\"text-align: right;\">\n",
       "      <th></th>\n",
       "      <th>Exploration approach</th>\n",
       "      <th>itemsets</th>\n",
       "      <th>sup</th>\n",
       "      <th>Δ_outcome</th>\n",
       "      <th>t_outcome</th>\n",
       "      <th>wlogr</th>\n",
       "    </tr>\n",
       "  </thead>\n",
       "  <tbody>\n",
       "    <tr>\n",
       "      <th>58</th>\n",
       "      <td>base</td>\n",
       "      <td>AGEP=&lt;=26.0</td>\n",
       "      <td>0.17</td>\n",
       "      <td>-43.9</td>\n",
       "      <td>173.8</td>\n",
       "      <td>-0.191</td>\n",
       "    </tr>\n",
       "    <tr>\n",
       "      <th>75</th>\n",
       "      <td>base</td>\n",
       "      <td>AGEP=&lt;=26.0, MAR=Never married/&lt;15yrs</td>\n",
       "      <td>0.15</td>\n",
       "      <td>-44.9</td>\n",
       "      <td>175.9</td>\n",
       "      <td>-0.179</td>\n",
       "    </tr>\n",
       "    <tr>\n",
       "      <th>51</th>\n",
       "      <td>base</td>\n",
       "      <td>WKHP=&lt;=29.0</td>\n",
       "      <td>0.18</td>\n",
       "      <td>-40.4</td>\n",
       "      <td>122.5</td>\n",
       "      <td>-0.178</td>\n",
       "    </tr>\n",
       "    <tr>\n",
       "      <th>40</th>\n",
       "      <td>generalized</td>\n",
       "      <td>WKHP=&lt;=39.0</td>\n",
       "      <td>0.31</td>\n",
       "      <td>-33.0</td>\n",
       "      <td>108.5</td>\n",
       "      <td>-0.216</td>\n",
       "    </tr>\n",
       "    <tr>\n",
       "      <th>285</th>\n",
       "      <td>generalized</td>\n",
       "      <td>AGEP=&lt;=34.0, WKHP=&lt;=39.0</td>\n",
       "      <td>0.14</td>\n",
       "      <td>-49.9</td>\n",
       "      <td>203.6</td>\n",
       "      <td>-0.197</td>\n",
       "    </tr>\n",
       "    <tr>\n",
       "      <th>26</th>\n",
       "      <td>generalized</td>\n",
       "      <td>AGEP=&lt;=34.0</td>\n",
       "      <td>0.34</td>\n",
       "      <td>-28.0</td>\n",
       "      <td>104.3</td>\n",
       "      <td>-0.193</td>\n",
       "    </tr>\n",
       "  </tbody>\n",
       "</table>\n",
       "</div>"
      ],
      "text/plain": [
       "    Exploration approach                               itemsets   sup  \\\n",
       "58                  base                            AGEP=<=26.0  0.17   \n",
       "75                  base  AGEP=<=26.0, MAR=Never married/<15yrs  0.15   \n",
       "51                  base                            WKHP=<=29.0  0.18   \n",
       "40           generalized                            WKHP=<=39.0  0.31   \n",
       "285          generalized               AGEP=<=34.0, WKHP=<=39.0  0.14   \n",
       "26           generalized                            AGEP=<=34.0  0.34   \n",
       "\n",
       "     Δ_outcome  t_outcome  wlogr  \n",
       "58       -43.9      173.8 -0.191  \n",
       "75       -44.9      175.9 -0.179  \n",
       "51       -40.4      122.5 -0.178  \n",
       "40       -33.0      108.5 -0.216  \n",
       "285      -49.9      203.6 -0.197  \n",
       "26       -28.0      104.3 -0.193  "
      ]
     },
     "metadata": {},
     "output_type": "display_data"
    }
   ],
   "source": [
    "method_name = \"Exploration approach\"\n",
    "\n",
    "min_sup_divergence = 0.01\n",
    "for k in out_support_wlogr[min_sup_divergence]:\n",
    "    out_support_wlogr[min_sup_divergence][k][method_name] = [k] * len(out_support_wlogr[min_sup_divergence][k])\n",
    "res = pd.concat([out_support_wlogr[min_sup_divergence][k] for k in out_support_wlogr[min_sup_divergence]])\n",
    "\n",
    "from utils_printable import printable\n",
    "\n",
    "COLS = [method_name] +[\"itemsets\", \"support\"] + [metric, t_value_col, \"wlogr\"]\n",
    "res[metric] = (res[metric]/1000).round(1)\n",
    "res_pr = printable(res[COLS], abbreviations=abbreviations, resort_cols = False)\n",
    "\n",
    "print(f\"Minimum support divergence: {min_sup_divergence}\")\n",
    "display(res_pr)"
   ]
  }
 ],
 "metadata": {
  "hide_input": false,
  "kernelspec": {
   "display_name": "Python 3 (ipykernel)",
   "language": "python",
   "name": "python3"
  },
  "language_info": {
   "codemirror_mode": {
    "name": "ipython",
    "version": 3
   },
   "file_extension": ".py",
   "mimetype": "text/x-python",
   "name": "python",
   "nbconvert_exporter": "python",
   "pygments_lexer": "ipython3",
   "version": "3.10.8"
  },
  "toc": {
   "base_numbering": 1,
   "nav_menu": {},
   "number_sections": true,
   "sideBar": true,
   "skip_h1_title": false,
   "title_cell": "Table of Contents",
   "title_sidebar": "Contents",
   "toc_cell": false,
   "toc_position": {
    "height": "calc(100% - 180px)",
    "left": "10px",
    "top": "150px",
    "width": "341.953px"
   },
   "toc_section_display": true,
   "toc_window_display": true
  },
  "varInspector": {
   "cols": {
    "lenName": 16,
    "lenType": 16,
    "lenVar": 40
   },
   "kernels_config": {
    "python": {
     "delete_cmd_postfix": "",
     "delete_cmd_prefix": "del ",
     "library": "var_list.py",
     "varRefreshCmd": "print(var_dic_list())"
    },
    "r": {
     "delete_cmd_postfix": ") ",
     "delete_cmd_prefix": "rm(",
     "library": "var_list.r",
     "varRefreshCmd": "cat(var_dic_list()) "
    }
   },
   "types_to_exclude": [
    "module",
    "function",
    "builtin_function_or_method",
    "instance",
    "_Feature"
   ],
   "window_display": false
  }
 },
 "nbformat": 4,
 "nbformat_minor": 5
}
