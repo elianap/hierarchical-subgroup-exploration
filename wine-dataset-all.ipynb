{
 "cells": [
  {
   "cell_type": "code",
   "execution_count": 1,
   "id": "67c0fa62",
   "metadata": {
    "ExecuteTime": {
     "end_time": "2022-12-23T13:35:10.071884Z",
     "start_time": "2022-12-23T13:35:10.044041Z"
    }
   },
   "outputs": [],
   "source": [
    "%load_ext autoreload\n",
    "%autoreload 2"
   ]
  },
  {
   "cell_type": "code",
   "execution_count": 2,
   "id": "ff4af8df",
   "metadata": {
    "ExecuteTime": {
     "end_time": "2022-12-23T13:35:11.250290Z",
     "start_time": "2022-12-23T13:35:11.237291Z"
    }
   },
   "outputs": [],
   "source": [
    "import warnings\n",
    "warnings.filterwarnings(\"ignore\")"
   ]
  },
  {
   "cell_type": "code",
   "execution_count": 3,
   "id": "8b4c5533",
   "metadata": {
    "ExecuteTime": {
     "end_time": "2022-12-23T13:35:20.460516Z",
     "start_time": "2022-12-23T13:35:11.914944Z"
    }
   },
   "outputs": [],
   "source": [
    "import os\n",
    "import pandas as pd\n",
    "from divexplorer_generalized.FP_Divergence import FP_Divergence"
   ]
  },
  {
   "cell_type": "markdown",
   "id": "27d0b123",
   "metadata": {},
   "source": [
    "# Import data"
   ]
  },
  {
   "cell_type": "code",
   "execution_count": 4,
   "id": "17ffc492",
   "metadata": {
    "ExecuteTime": {
     "end_time": "2022-12-23T13:35:20.479718Z",
     "start_time": "2022-12-23T13:35:20.463872Z"
    }
   },
   "outputs": [],
   "source": [
    "dataset_name = 'wine'\n"
   ]
  },
  {
   "cell_type": "code",
   "execution_count": 5,
   "id": "9a317097",
   "metadata": {
    "ExecuteTime": {
     "end_time": "2022-12-23T13:35:23.945943Z",
     "start_time": "2022-12-23T13:35:20.481275Z"
    }
   },
   "outputs": [],
   "source": [
    "\n",
    "df_all = []\n",
    "\n",
    "for d in ['winequality-white', 'winequality-white']:\n",
    "    df = pd.read_csv(f\"https://archive.ics.uci.edu/ml/machine-learning-databases/wine-quality/{d}.csv\", sep=\";\")\n",
    "\n",
    "    df[\"quality\"] = df[\"quality\"].apply(lambda x: \"good\" if x>5 else \"bad\")\n",
    "    class_map = {'P': 'good', 'N': 'bad'}\n",
    "    df.rename(columns = {\"quality\": \"class\"}, inplace=True)\n",
    "    df_all.append(df)\n",
    "    \n",
    "df = pd.concat(df_all)\n",
    "df.reset_index(drop=True, inplace = True)"
   ]
  },
  {
   "cell_type": "markdown",
   "id": "eaccf41e",
   "metadata": {},
   "source": [
    "# Train and predict with RF classifier"
   ]
  },
  {
   "cell_type": "code",
   "execution_count": 6,
   "id": "ef51d117",
   "metadata": {
    "ExecuteTime": {
     "end_time": "2022-12-23T13:35:44.565487Z",
     "start_time": "2022-12-23T13:35:23.949355Z"
    }
   },
   "outputs": [],
   "source": [
    "from sklearn.model_selection import StratifiedKFold\n",
    "from sklearn.model_selection import cross_val_predict\n",
    "from sklearn.ensemble import RandomForestClassifier\n",
    "\n",
    "\n",
    "attributes = df.columns.drop(\"class\")\n",
    "X = df[attributes].copy()\n",
    "y = df[\"class\"].copy()\n",
    "\n",
    "clf = RandomForestClassifier(random_state=42)\n",
    "\n",
    "\n",
    "k_cv = 10\n",
    "\n",
    "\n",
    "cv = StratifiedKFold(n_splits=k_cv, random_state=42, shuffle=True\n",
    "            )  # Added to fix the random state  #Added shuffle=True for new version sklearn, Value Error\n",
    "       \n",
    "y_predicted = cross_val_predict(clf, X, y.values, cv=cv)"
   ]
  },
  {
   "cell_type": "code",
   "execution_count": 7,
   "id": "2c5b7fe8",
   "metadata": {
    "ExecuteTime": {
     "end_time": "2022-12-23T13:35:44.597971Z",
     "start_time": "2022-12-23T13:35:44.569414Z"
    }
   },
   "outputs": [],
   "source": [
    "df[\"predicted\"] = y_predicted"
   ]
  },
  {
   "cell_type": "code",
   "execution_count": 8,
   "id": "824883c8",
   "metadata": {
    "ExecuteTime": {
     "end_time": "2022-12-23T13:35:44.793409Z",
     "start_time": "2022-12-23T13:35:44.599809Z"
    }
   },
   "outputs": [
    {
     "data": {
      "text/plain": [
       "195.92000000000002"
      ]
     },
     "execution_count": 8,
     "metadata": {},
     "output_type": "execute_result"
    }
   ],
   "source": [
    "df.shape[0]*0.02"
   ]
  },
  {
   "cell_type": "markdown",
   "id": "97f5ae76",
   "metadata": {},
   "source": [
    "# Tree divergence"
   ]
  },
  {
   "cell_type": "code",
   "execution_count": 9,
   "id": "6fd28cc7",
   "metadata": {
    "ExecuteTime": {
     "end_time": "2022-12-23T13:35:44.948294Z",
     "start_time": "2022-12-23T13:35:44.795026Z"
    }
   },
   "outputs": [],
   "source": [
    "true_class_name = \"class\"\n",
    "pred_class_name = \"predicted\"\n",
    "cols_c = [true_class_name, pred_class_name]"
   ]
  },
  {
   "cell_type": "code",
   "execution_count": 10,
   "id": "b4d35d8b",
   "metadata": {
    "ExecuteTime": {
     "end_time": "2022-12-23T13:35:45.244618Z",
     "start_time": "2022-12-23T13:35:44.952130Z"
    }
   },
   "outputs": [],
   "source": [
    "continuous_attributes = list(df.describe().columns)"
   ]
  },
  {
   "cell_type": "code",
   "execution_count": 11,
   "id": "8a6aef74",
   "metadata": {
    "ExecuteTime": {
     "end_time": "2022-12-23T13:35:45.420869Z",
     "start_time": "2022-12-23T13:35:45.247053Z"
    }
   },
   "outputs": [],
   "source": [
    "df_analyze = df.copy()"
   ]
  },
  {
   "cell_type": "code",
   "execution_count": 12,
   "id": "8ca85c12",
   "metadata": {
    "ExecuteTime": {
     "end_time": "2022-12-23T13:35:45.655588Z",
     "start_time": "2022-12-23T13:35:45.426145Z"
    }
   },
   "outputs": [],
   "source": [
    "min_support_tree = 0.1"
   ]
  },
  {
   "cell_type": "code",
   "execution_count": 13,
   "id": "57d5d3fc",
   "metadata": {
    "ExecuteTime": {
     "end_time": "2022-12-23T13:35:45.888279Z",
     "start_time": "2022-12-23T13:35:45.659906Z"
    }
   },
   "outputs": [],
   "source": [
    "metric = \"d_fpr\""
   ]
  },
  {
   "cell_type": "code",
   "execution_count": 14,
   "id": "6157c495",
   "metadata": {
    "ExecuteTime": {
     "end_time": "2022-12-23T13:35:45.989816Z",
     "start_time": "2022-12-23T13:35:45.892191Z"
    }
   },
   "outputs": [],
   "source": [
    "type_criterion=\"divergence_criterion\"\n",
    "\n",
    "type_experiment = \"one_at_time\""
   ]
  },
  {
   "cell_type": "code",
   "execution_count": 15,
   "id": "41e06596",
   "metadata": {
    "ExecuteTime": {
     "end_time": "2022-12-23T13:35:46.923187Z",
     "start_time": "2022-12-23T13:35:45.993235Z"
    }
   },
   "outputs": [],
   "source": [
    "from tree_discretization import TreeDiscretization\n",
    "\n",
    "tree_discr = TreeDiscretization()\n",
    "\n",
    "# ## Extract tree\n",
    "generalization_dict, discretizations = tree_discr.get_tree_discretization(\n",
    "    df_analyze,\n",
    "    type_splitting=type_experiment,\n",
    "    min_support=min_support_tree,\n",
    "    metric=metric,\n",
    "    class_map=class_map,\n",
    "    continuous_attributes=list(continuous_attributes),\n",
    "    class_and_pred_names=cols_c,\n",
    "    storeTree=True,\n",
    "    type_criterion=type_criterion, #entropy\n",
    "    #minimal_gain = 0.0015\n",
    ")"
   ]
  },
  {
   "cell_type": "code",
   "execution_count": 16,
   "id": "71ca493e",
   "metadata": {
    "ExecuteTime": {
     "end_time": "2022-12-23T13:35:46.948732Z",
     "start_time": "2022-12-23T13:35:46.925275Z"
    }
   },
   "outputs": [
    {
     "name": "stdout",
     "output_type": "stream",
     "text": [
      "fixed acidity\n",
      " root s=1.00 --> d_fpr=0.00\n",
      "         fixed acidity<=6.8 s=0.54 --> d_fpr=-0.01\n",
      "                 fixed acidity<=6.3 s=0.26 --> d_fpr=0.01\n",
      "                         fixed acidity<=6.0 s=0.15 --> d_fpr=0.02\n",
      "                         fixed acidity>6.0 s=0.11 --> d_fpr=-0.00\n",
      "                 fixed acidity>6.3 s=0.27 --> d_fpr=-0.02\n",
      "                         fixed acidity<=6.6 s=0.16 --> d_fpr=-0.02\n",
      "                         fixed acidity>6.6 s=0.11 --> d_fpr=-0.01\n",
      "         fixed acidity>6.8 s=0.46 --> d_fpr=0.01\n",
      "                 fixed acidity<=7.4 s=0.26 --> d_fpr=0.01\n",
      "                         fixed acidity<=7.1 s=0.14 --> d_fpr=0.01\n",
      "                         fixed acidity>7.1 s=0.12 --> d_fpr=0.02\n",
      "                 fixed acidity>7.4 s=0.21 --> d_fpr=0.00\n",
      "\n",
      "volatile acidity\n",
      " root s=1.00 --> d_fpr=0.00\n",
      "         volatile acidity<=0.23 s=0.36 --> d_fpr=0.03\n",
      "                 volatile acidity<=0.2 s=0.23 --> d_fpr=0.05\n",
      "                         volatile acidity<=0.17 s=0.11 --> d_fpr=0.04\n",
      "                         volatile acidity>0.17 s=0.12 --> d_fpr=0.06\n",
      "                 volatile acidity>0.2 s=0.13 --> d_fpr=0.01\n",
      "         volatile acidity>0.23 s=0.64 --> d_fpr=-0.01\n",
      "                 volatile acidity<=0.38 s=0.52 --> d_fpr=-0.01\n",
      "                         volatile acidity<=0.3 s=0.33 --> d_fpr=-0.01\n",
      "                                 volatile acidity<=0.275 s=0.20 --> d_fpr=-0.02\n",
      "                                 volatile acidity>0.275 s=0.13 --> d_fpr=0.01\n",
      "                         volatile acidity>0.3 s=0.19 --> d_fpr=-0.02\n",
      "                 volatile acidity>0.38 s=0.12 --> d_fpr=0.01\n",
      "\n",
      "citric acid\n",
      " root s=1.00 --> d_fpr=0.00\n",
      "         citric acid<=0.31 s=0.50 --> d_fpr=-0.01\n",
      "                 citric acid<=0.28 s=0.35 --> d_fpr=-0.01\n",
      "                         citric acid<=0.23 s=0.14 --> d_fpr=-0.01\n",
      "                         citric acid>0.23 s=0.21 --> d_fpr=-0.01\n",
      "                                 citric acid<=0.26 s=0.11 --> d_fpr=-0.00\n",
      "                                 citric acid>0.26 s=0.10 --> d_fpr=-0.01\n",
      "                 citric acid>0.28 s=0.15 --> d_fpr=-0.02\n",
      "         citric acid>0.31 s=0.50 --> d_fpr=0.01\n",
      "                 citric acid<=0.41 s=0.31 --> d_fpr=0.02\n",
      "                         citric acid<=0.36 s=0.20 --> d_fpr=0.01\n",
      "                         citric acid>0.36 s=0.11 --> d_fpr=0.04\n",
      "                 citric acid>0.41 s=0.19 --> d_fpr=-0.00\n",
      "\n",
      "residual sugar\n",
      " root s=1.00 --> d_fpr=0.00\n",
      "         residual sugar<=6.9 s=0.59 --> d_fpr=0.01\n",
      "                 residual sugar<=3.9 s=0.42 --> d_fpr=0.01\n",
      "                         residual sugar<=1.7 s=0.26 --> d_fpr=0.01\n",
      "                                 residual sugar<=1.25 s=0.10 --> d_fpr=0.00\n",
      "                                 residual sugar>1.25 s=0.15 --> d_fpr=0.02\n",
      "                         residual sugar>1.7 s=0.17 --> d_fpr=-0.01\n",
      "                 residual sugar>3.9 s=0.17 --> d_fpr=0.03\n",
      "         residual sugar>6.9 s=0.41 --> d_fpr=-0.01\n",
      "                 residual sugar<=12.6 s=0.26 --> d_fpr=-0.01\n",
      "                         residual sugar<=8.5 s=0.10 --> d_fpr=-0.02\n",
      "                         residual sugar>8.5 s=0.16 --> d_fpr=0.00\n",
      "                 residual sugar>12.6 s=0.15 --> d_fpr=-0.02\n",
      "\n",
      "chlorides\n",
      " root s=1.00 --> d_fpr=0.00\n",
      "         chlorides<=0.048 s=0.70 --> d_fpr=0.01\n",
      "                 chlorides<=0.035 s=0.24 --> d_fpr=0.04\n",
      "                         chlorides<=0.03 s=0.12 --> d_fpr=0.07\n",
      "                         chlorides>0.03 s=0.13 --> d_fpr=0.02\n",
      "                 chlorides>0.035 s=0.46 --> d_fpr=0.00\n",
      "                         chlorides<=0.039 s=0.14 --> d_fpr=-0.01\n",
      "                         chlorides>0.039 s=0.32 --> d_fpr=0.01\n",
      "                                 chlorides<=0.044 s=0.17 --> d_fpr=0.00\n",
      "                                 chlorides>0.044 s=0.14 --> d_fpr=0.01\n",
      "         chlorides>0.048 s=0.30 --> d_fpr=-0.01\n",
      "                 chlorides<=0.053 s=0.13 --> d_fpr=-0.02\n",
      "                 chlorides>0.053 s=0.17 --> d_fpr=-0.01\n",
      "\n",
      "free sulfur dioxide\n",
      " root s=1.00 --> d_fpr=0.00\n",
      "         free sulfur dioxide<=35.0 s=0.55 --> d_fpr=0.01\n",
      "                 free sulfur dioxide<=19.5 s=0.17 --> d_fpr=-0.01\n",
      "                 free sulfur dioxide>19.5 s=0.38 --> d_fpr=0.02\n",
      "                         free sulfur dioxide<=28.0 s=0.20 --> d_fpr=0.03\n",
      "                         free sulfur dioxide>28.0 s=0.18 --> d_fpr=0.01\n",
      "         free sulfur dioxide>35.0 s=0.45 --> d_fpr=-0.01\n",
      "                 free sulfur dioxide<=49.0 s=0.26 --> d_fpr=-0.02\n",
      "                         free sulfur dioxide<=41.0 s=0.13 --> d_fpr=-0.01\n",
      "                         free sulfur dioxide>41.0 s=0.13 --> d_fpr=-0.03\n",
      "                 free sulfur dioxide>49.0 s=0.19 --> d_fpr=0.00\n",
      "\n",
      "total sulfur dioxide\n",
      " root s=1.00 --> d_fpr=0.00\n",
      "         total sulfur dioxide<=167.0 s=0.75 --> d_fpr=0.01\n",
      "                 total sulfur dioxide<=147.0 s=0.60 --> d_fpr=0.00\n",
      "                         total sulfur dioxide<=114.0 s=0.31 --> d_fpr=0.02\n",
      "                                 total sulfur dioxide<=99.0 s=0.18 --> d_fpr=-0.00\n",
      "                                 total sulfur dioxide>99.0 s=0.13 --> d_fpr=0.05\n",
      "                         total sulfur dioxide>114.0 s=0.29 --> d_fpr=-0.01\n",
      "                                 total sulfur dioxide<=126.0 s=0.12 --> d_fpr=-0.03\n",
      "                                 total sulfur dioxide>126.0 s=0.17 --> d_fpr=0.00\n",
      "                 total sulfur dioxide>147.0 s=0.15 --> d_fpr=0.03\n",
      "         total sulfur dioxide>167.0 s=0.25 --> d_fpr=-0.02\n",
      "                 total sulfur dioxide<=188.0 s=0.12 --> d_fpr=-0.01\n",
      "                 total sulfur dioxide>188.0 s=0.13 --> d_fpr=-0.03\n",
      "\n",
      "density\n",
      " root s=1.00 --> d_fpr=0.00\n",
      "         density<=0.9954 s=0.68 --> d_fpr=0.02\n",
      "                 density<=0.99178 s=0.26 --> d_fpr=0.05\n",
      "                         density<=0.9906 s=0.13 --> d_fpr=0.10\n",
      "                         density>0.9906 s=0.13 --> d_fpr=0.03\n",
      "                 density>0.99178 s=0.42 --> d_fpr=0.01\n",
      "                         density<=0.99405 s=0.28 --> d_fpr=0.00\n",
      "                                 density<=0.99264 s=0.10 --> d_fpr=-0.01\n",
      "                                 density>0.99264 s=0.17 --> d_fpr=0.01\n",
      "                         density>0.99405 s=0.14 --> d_fpr=0.02\n",
      "         density>0.9954 s=0.32 --> d_fpr=-0.02\n",
      "                 density<=0.99652 s=0.10 --> d_fpr=-0.01\n",
      "                 density>0.99652 s=0.22 --> d_fpr=-0.02\n",
      "                         density<=0.998 s=0.11 --> d_fpr=-0.02\n",
      "                         density>0.998 s=0.11 --> d_fpr=-0.03\n",
      "\n",
      "pH\n",
      " root s=1.00 --> d_fpr=0.00\n",
      "         pH<=3.07 s=0.22 --> d_fpr=-0.01\n",
      "                 pH<=3.0 s=0.10 --> d_fpr=-0.01\n",
      "                 pH>3.0 s=0.12 --> d_fpr=-0.02\n",
      "         pH>3.07 s=0.78 --> d_fpr=0.00\n",
      "                 pH<=3.25 s=0.48 --> d_fpr=0.00\n",
      "                         pH<=3.21 s=0.38 --> d_fpr=0.01\n",
      "                                 pH<=3.13 s=0.15 --> d_fpr=0.01\n",
      "                                 pH>3.13 s=0.23 --> d_fpr=0.00\n",
      "                                         pH<=3.17 s=0.12 --> d_fpr=0.00\n",
      "                                         pH>3.17 s=0.11 --> d_fpr=0.01\n",
      "                         pH>3.21 s=0.10 --> d_fpr=-0.02\n",
      "                 pH>3.25 s=0.30 --> d_fpr=0.01\n",
      "                         pH<=3.35 s=0.16 --> d_fpr=0.03\n",
      "                         pH>3.35 s=0.14 --> d_fpr=-0.01\n",
      "\n",
      "sulphates\n",
      " root s=1.00 --> d_fpr=0.00\n",
      "         sulphates<=0.56 s=0.79 --> d_fpr=-0.01\n",
      "                 sulphates<=0.47 s=0.50 --> d_fpr=0.00\n",
      "                         sulphates<=0.39 s=0.21 --> d_fpr=-0.01\n",
      "                                 sulphates<=0.36 s=0.11 --> d_fpr=0.01\n",
      "                                 sulphates>0.36 s=0.10 --> d_fpr=-0.02\n",
      "                         sulphates>0.39 s=0.29 --> d_fpr=0.01\n",
      "                                 sulphates<=0.44 s=0.18 --> d_fpr=0.00\n",
      "                                 sulphates>0.44 s=0.12 --> d_fpr=0.01\n",
      "                 sulphates>0.47 s=0.29 --> d_fpr=-0.02\n",
      "                         sulphates<=0.51 s=0.15 --> d_fpr=-0.02\n",
      "                         sulphates>0.51 s=0.14 --> d_fpr=-0.02\n",
      "         sulphates>0.56 s=0.21 --> d_fpr=0.03\n",
      "                 sulphates<=0.63 s=0.11 --> d_fpr=0.04\n",
      "                 sulphates>0.63 s=0.10 --> d_fpr=0.01\n",
      "\n",
      "alcohol\n",
      " root s=1.00 --> d_fpr=0.00\n",
      "         alcohol<=9.6 s=0.32 --> d_fpr=-0.02\n",
      "                 alcohol<=9.2 s=0.17 --> d_fpr=-0.03\n",
      "                 alcohol>9.2 s=0.15 --> d_fpr=-0.02\n",
      "         alcohol>9.6 s=0.68 --> d_fpr=0.03\n",
      "                 alcohol<=11.0 s=0.36 --> d_fpr=0.01\n",
      "                         alcohol<=10.0 s=0.11 --> d_fpr=0.03\n",
      "                         alcohol>10.0 s=0.26 --> d_fpr=0.01\n",
      "                                 alcohol<=10.4666666666667 s=0.10 --> d_fpr=-0.01\n",
      "                                 alcohol>10.4666666666667 s=0.16 --> d_fpr=0.02\n",
      "                 alcohol>11.0 s=0.32 --> d_fpr=0.07\n",
      "                         alcohol<=12.3333333333333 s=0.22 --> d_fpr=0.04\n",
      "                                 alcohol<=11.5 s=0.11 --> d_fpr=0.04\n",
      "                                 alcohol>11.5 s=0.11 --> d_fpr=0.05\n",
      "                         alcohol>12.3333333333333 s=0.10 --> d_fpr=0.23\n",
      "\n"
     ]
    }
   ],
   "source": [
    "tree_discr.printDiscretizationTrees(round_v =2, show_condition = True)"
   ]
  },
  {
   "cell_type": "markdown",
   "id": "3e1fd702",
   "metadata": {},
   "source": [
    "# Extract patterns"
   ]
  },
  {
   "cell_type": "code",
   "execution_count": 17,
   "id": "97e88d65",
   "metadata": {
    "ExecuteTime": {
     "end_time": "2022-12-23T13:35:47.135302Z",
     "start_time": "2022-12-23T13:35:46.950478Z"
    }
   },
   "outputs": [],
   "source": [
    "out_support = {}\n",
    "out_time = {}"
   ]
  },
  {
   "cell_type": "code",
   "execution_count": 18,
   "id": "e2364e1e",
   "metadata": {
    "ExecuteTime": {
     "end_time": "2022-12-23T13:35:47.204864Z",
     "start_time": "2022-12-23T13:35:47.139093Z"
    }
   },
   "outputs": [],
   "source": [
    "min_sup_divergences = [0.01] #[0.05, 0.1, 0.15, 0.2] # ] #"
   ]
  },
  {
   "cell_type": "markdown",
   "id": "d137f8ad",
   "metadata": {},
   "source": [
    "## Base"
   ]
  },
  {
   "cell_type": "code",
   "execution_count": 24,
   "id": "02d47470",
   "metadata": {
    "ExecuteTime": {
     "end_time": "2022-12-23T13:36:49.756917Z",
     "start_time": "2022-12-23T13:36:47.405968Z"
    }
   },
   "outputs": [],
   "source": [
    "apply_generalization = False\n",
    "\n",
    "if apply_generalization:\n",
    "    type_gen = 'generalized'\n",
    "else:\n",
    "    type_gen = 'base'\n",
    "\n",
    "\n",
    "\n",
    "from utils_extract_divergence_generalized import (\n",
    "    extract_divergence_generalized,\n",
    ")\n",
    "import time\n",
    "\n",
    "for min_sup_divergence in min_sup_divergences:\n",
    "    s_time = time.time()\n",
    "    FP_fm_base = extract_divergence_generalized(\n",
    "        df_analyze,\n",
    "        discretizations,\n",
    "        generalization_dict,\n",
    "        continuous_attributes,\n",
    "        min_sup_divergence=min_sup_divergence,\n",
    "        apply_generalization=False,\n",
    "        true_class_name=true_class_name,\n",
    "        predicted_class_name=pred_class_name,\n",
    "        class_map=class_map,\n",
    "        metrics_divergence = [metric],\n",
    "        FPM_type=\"fpgrowth\",\n",
    "    )\n",
    "    \n",
    "    out_time.setdefault(min_sup_divergence, {})[type_gen] = time.time()-s_time\n",
    "    fp_divergence_i_base = FP_Divergence(FP_fm_base, metric=metric)\n",
    "\n",
    "    most_divergent_base = (\n",
    "        fp_divergence_i_base.getDivergence(th_redundancy=0)\n",
    "        .sort_values(\n",
    "            [fp_divergence_i_base.metric, fp_divergence_i_base.t_value_col], ascending=False\n",
    "        )\n",
    "        .head(1)\n",
    "    )\n",
    "    out_support.setdefault(min_sup_divergence, {})[type_gen] = most_divergent_base\n",
    "    \n",
    "    del FP_fm_base\n",
    "    del fp_divergence_i_base"
   ]
  },
  {
   "cell_type": "code",
   "execution_count": 30,
   "id": "9150bab3",
   "metadata": {
    "ExecuteTime": {
     "end_time": "2022-12-23T13:37:20.656432Z",
     "start_time": "2022-12-23T13:37:20.629226Z"
    }
   },
   "outputs": [
    {
     "data": {
      "text/plain": [
       "0.9695121951219512"
      ]
     },
     "execution_count": 30,
     "metadata": {},
     "output_type": "execute_result"
    }
   ],
   "source": []
  },
  {
   "cell_type": "markdown",
   "id": "47c4d244",
   "metadata": {},
   "source": [
    "## Generalized"
   ]
  },
  {
   "cell_type": "code",
   "execution_count": 31,
   "id": "8cf4a3ac",
   "metadata": {
    "ExecuteTime": {
     "end_time": "2022-12-23T14:10:44.803472Z",
     "start_time": "2022-12-23T13:38:42.143708Z"
    }
   },
   "outputs": [
    {
     "name": "stdout",
     "output_type": "stream",
     "text": [
      "0.01\n",
      "1 10000\n",
      "2 20000\n",
      "3 30000\n",
      "4 40000\n",
      "5 50000\n",
      "6 60000\n",
      "7 70000\n",
      "8 80000\n",
      "9 90000\n",
      "10 100000\n",
      "11 110000\n",
      "12 120000\n",
      "13 130000\n",
      "14 140000\n",
      "15 150000\n",
      "16 160000\n",
      "17 170000\n",
      "18 180000\n",
      "19 190000\n",
      "20 200000\n",
      "21 210000\n",
      "22 220000\n",
      "23 230000\n",
      "24 240000\n",
      "25 250000\n",
      "26 260000\n",
      "27 270000\n",
      "28 280000\n",
      "29 290000\n",
      "30 300000\n",
      "31 310000\n",
      "32 320000\n",
      "33 330000\n",
      "34 340000\n",
      "35 350000\n",
      "36 360000\n",
      "37 370000\n",
      "38 380000\n",
      "39 390000\n",
      "40 400000\n",
      "41 410000\n",
      "42 420000\n",
      "43 430000\n",
      "44 440000\n",
      "45 450000\n",
      "46 460000\n",
      "47 470000\n",
      "48 480000\n",
      "49 490000\n",
      "50 500000\n",
      "51 510000\n",
      "52 520000\n",
      "53 530000\n",
      "54 540000\n",
      "55 550000\n",
      "56 560000\n",
      "57 570000\n",
      "58 580000\n",
      "59 590000\n",
      "60 600000\n",
      "61 610000\n",
      "62 620000\n",
      "63 630000\n",
      "64 640000\n",
      "65 650000\n",
      "66 660000\n",
      "67 670000\n",
      "68 680000\n",
      "69 690000\n",
      "70 700000\n",
      "71 710000\n",
      "72 720000\n",
      "73 730000\n",
      "74 740000\n",
      "75 750000\n",
      "76 760000\n",
      "77 770000\n",
      "78 780000\n",
      "79 790000\n",
      "80 800000\n",
      "81 810000\n",
      "82 820000\n",
      "83 830000\n",
      "84 840000\n",
      "85 850000\n",
      "86 860000\n",
      "87 870000\n",
      "88 880000\n",
      "89 890000\n",
      "90 900000\n",
      "91 910000\n",
      "92 920000\n",
      "93 930000\n",
      "94 940000\n",
      "95 950000\n",
      "96 960000\n",
      "97 970000\n",
      "98 980000\n",
      "99 990000\n",
      "100 1000000\n",
      "101 1010000\n",
      "102 1020000\n",
      "103 1030000\n",
      "104 1040000\n",
      "105 1050000\n",
      "106 1060000\n",
      "107 1070000\n",
      "108 1080000\n",
      "109 1090000\n",
      "110 1100000\n",
      "111 1110000\n",
      "112 1120000\n",
      "113 1130000\n",
      "114 1140000\n",
      "115 1150000\n",
      "116 1160000\n",
      "117 1170000\n",
      "118 1180000\n",
      "119 1190000\n",
      "120 1200000\n",
      "121 1210000\n",
      "122 1220000\n",
      "123 1230000\n",
      "124 1240000\n",
      "125 1250000\n",
      "126 1260000\n",
      "127 1270000\n",
      "128 1280000\n",
      "129 1290000\n",
      "130 1300000\n",
      "131 1310000\n",
      "132 1320000\n",
      "133 1330000\n",
      "134 1340000\n",
      "135 1350000\n",
      "136 1360000\n",
      "137 1370000\n",
      "138 1380000\n",
      "139 1390000\n",
      "140 1400000\n",
      "141 1410000\n",
      "142 1420000\n",
      "143 1430000\n",
      "144 1440000\n",
      "145 1450000\n",
      "146 1460000\n",
      "147 1470000\n",
      "148 1480000\n",
      "149 1490000\n",
      "150 1500000\n",
      "151 1510000\n",
      "152 1520000\n",
      "153 1530000\n",
      "154 1540000\n",
      "155 1550000\n",
      "156 1560000\n",
      "157 1570000\n",
      "158 1580000\n",
      "159 1590000\n",
      "160 1600000\n",
      "161 1610000\n",
      "162 1620000\n",
      "163 1630000\n",
      "164 1640000\n",
      "165 1650000\n",
      "166 1660000\n",
      "167 1670000\n",
      "168 1680000\n",
      "169 1690000\n",
      "170 1700000\n",
      "171 1710000\n",
      "172 1720000\n",
      "173 1730000\n",
      "174 1740000\n",
      "175 1750000\n",
      "176 1760000\n",
      "177 1770000\n",
      "178 1780000\n",
      "179 1790000\n",
      "180 1800000\n",
      "181 1810000\n",
      "182 1820000\n",
      "183 1830000\n",
      "184 1840000\n",
      "185 1850000\n",
      "186 1860000\n",
      "187 1870000\n",
      "188 1880000\n",
      "189 1890000\n",
      "190 1900000\n",
      "191 1910000\n",
      "192 1920000\n",
      "193 1930000\n",
      "194 1940000\n",
      "195 1950000\n",
      "196 1960000\n",
      "197 1970000\n",
      "198 1980000\n",
      "199 1990000\n",
      "200 2000000\n",
      "201 2010000\n",
      "202 2020000\n",
      "203 2030000\n",
      "204 2040000\n",
      "205 2050000\n",
      "206 2060000\n",
      "207 2070000\n",
      "208 2080000\n",
      "209 2090000\n",
      "210 2100000\n",
      "211 2110000\n",
      "212 2120000\n",
      "213 2130000\n",
      "214 2140000\n",
      "215 2150000\n",
      "216 2160000\n",
      "217 2170000\n",
      "218 2180000\n",
      "219 2190000\n",
      "220 2200000\n",
      "221 2210000\n",
      "222 2220000\n",
      "223 2230000\n",
      "224 2240000\n",
      "225 2250000\n",
      "226 2260000\n",
      "227 2270000\n",
      "228 2280000\n",
      "229 2290000\n",
      "230 2300000\n",
      "231 2310000\n",
      "232 2320000\n",
      "233 2330000\n",
      "234 2340000\n",
      "235 2350000\n",
      "236 2360000\n",
      "237 2370000\n",
      "238 2380000\n",
      "239 2390000\n",
      "240 2400000\n",
      "241 2410000\n",
      "242 2420000\n",
      "243 2430000\n",
      "244 2440000\n",
      "245 2450000\n",
      "246 2460000\n",
      "247 2470000\n",
      "248 2480000\n",
      "249 2490000\n",
      "250 2500000\n",
      "251 2510000\n",
      "252 2520000\n",
      "253 2530000\n",
      "254 2540000\n",
      "255 2550000\n",
      "256 2560000\n",
      "257 2570000\n",
      "258 2580000\n",
      "259 2590000\n",
      "260 2600000\n",
      "261 2610000\n",
      "262 2620000\n",
      "263 2630000\n",
      "264 2640000\n",
      "265 2650000\n",
      "266 2660000\n",
      "267 2670000\n",
      "268 2680000\n",
      "269 2690000\n",
      "270 2700000\n",
      "271 2710000\n",
      "272 2720000\n",
      "273 2730000\n",
      "274 2740000\n",
      "275 2750000\n",
      "276 2760000\n",
      "277 2770000\n",
      "278 2780000\n",
      "279 2790000\n",
      "280 2800000\n",
      "281 2810000\n",
      "282 2820000\n",
      "283 2830000\n",
      "284 2840000\n",
      "285 2850000\n",
      "286 2860000\n",
      "287 2870000\n",
      "288 2880000\n",
      "289 2890000\n",
      "290 2900000\n",
      "291 2910000\n",
      "292 2920000\n",
      "293 2930000\n",
      "294 2940000\n",
      "295 2950000\n",
      "296 2960000\n",
      "297 2970000\n",
      "298 2980000\n",
      "299 2990000\n",
      "300 3000000\n",
      "301 3010000\n",
      "302 3020000\n",
      "303 3030000\n",
      "304 3040000\n",
      "305 3050000\n",
      "306 3060000\n",
      "307 3070000\n",
      "308 3080000\n",
      "309 3090000\n",
      "310 3100000\n",
      "311 3110000\n",
      "312 3120000\n",
      "313 3130000\n",
      "314 3140000\n",
      "315 3150000\n",
      "316 3160000\n",
      "317 3170000\n",
      "318 3180000\n",
      "319 3190000\n",
      "320 3200000\n",
      "321 3210000\n",
      "322 3220000\n",
      "323 3230000\n",
      "324 3240000\n",
      "325 3250000\n",
      "326 3260000\n",
      "327 3270000\n",
      "328 3280000\n",
      "329 3290000\n",
      "330 3300000\n",
      "331 3310000\n",
      "332 3320000\n",
      "333 3330000\n",
      "334 3340000\n",
      "335 3350000\n",
      "336 3360000\n",
      "337 3370000\n",
      "338 3380000\n",
      "339 3390000\n",
      "340 3400000\n",
      "341 3410000\n",
      "342 3420000\n",
      "343 3430000\n",
      "344 3440000\n",
      "345 3450000\n",
      "346 3460000\n",
      "347 3470000\n",
      "348 3480000\n",
      "349 3490000\n",
      "350 3500000\n",
      "351 3510000\n",
      "352 3520000\n",
      "353 3530000\n",
      "354 3540000\n",
      "355 3550000\n",
      "356 3560000\n",
      "357 3570000\n",
      "358 3580000\n",
      "359 3590000\n",
      "360 3600000\n",
      "361 3610000\n",
      "362 3620000\n",
      "363 3630000\n",
      "364 3640000\n",
      "365 3650000\n",
      "366 3660000\n",
      "367 3670000\n",
      "368 3680000\n",
      "369 3690000\n",
      "370 3700000\n",
      "371 3710000\n",
      "372 3720000\n",
      "373 3730000\n",
      "374 3740000\n",
      "375 3750000\n",
      "376 3760000\n",
      "377 3770000\n",
      "378 3780000\n",
      "379 3790000\n",
      "380 3800000\n",
      "381 3810000\n",
      "382 3820000\n",
      "383 3830000\n",
      "384 3840000\n",
      "385 3850000\n",
      "386 3860000\n",
      "387 3870000\n",
      "388 3880000\n",
      "389 3890000\n",
      "390 3900000\n",
      "391 3910000\n",
      "392 3920000\n",
      "393 3930000\n",
      "394 3940000\n",
      "395 3950000\n",
      "396 3960000\n",
      "397 3970000\n",
      "398 3980000\n",
      "399 3990000\n",
      "400 4000000\n",
      "401 4010000\n",
      "402 4020000\n",
      "403 4030000\n",
      "404 4040000\n",
      "405 4050000\n",
      "406 4060000\n",
      "407 4070000\n",
      "408 4080000\n",
      "409 4090000\n",
      "410 4100000\n",
      "411 4110000\n",
      "412 4120000\n",
      "413 4130000\n",
      "414 4140000\n",
      "415 4150000\n",
      "416 4160000\n",
      "417 4170000\n",
      "418 4180000\n",
      "419 4190000\n",
      "420 4200000\n",
      "421 4210000\n",
      "422 4220000\n",
      "423 4230000\n",
      "424 4240000\n",
      "425 4250000\n",
      "426 4260000\n",
      "427 4270000\n",
      "428 4280000\n",
      "429 4290000\n",
      "430 4300000\n",
      "431 4310000\n",
      "432 4320000\n",
      "433 4330000\n",
      "434 4340000\n",
      "435 4350000\n",
      "436 4360000\n",
      "437 4370000\n",
      "438 4380000\n",
      "439 4390000\n",
      "440 4400000\n",
      "441 4410000\n",
      "442 4420000\n",
      "443 4430000\n",
      "444 4440000\n",
      "445 4450000\n",
      "446 4460000\n",
      "447 4470000\n",
      "448 4480000\n",
      "449 4490000\n",
      "450 4500000\n",
      "451 4510000\n",
      "452 4520000\n",
      "453 4530000\n",
      "454 4540000\n",
      "455 4550000\n",
      "456 4560000\n",
      "457 4570000\n",
      "458 4580000\n",
      "459 4590000\n",
      "460 4600000\n",
      "461 4610000\n",
      "462 4620000\n",
      "463 4630000\n",
      "464 4640000\n",
      "465 4650000\n",
      "466 4660000\n",
      "467 4670000\n",
      "468 4680000\n",
      "469 4690000\n",
      "470 4700000\n",
      "471 4710000\n",
      "472 4720000\n",
      "473 4730000\n",
      "474 4740000\n",
      "475 4750000\n",
      "476 4760000\n",
      "477 4770000\n",
      "478 4780000\n",
      "479 4790000\n",
      "480 4800000\n",
      "481 4810000\n",
      "482 4820000\n",
      "483 4830000\n",
      "484 4840000\n",
      "485 4850000\n",
      "486 4860000\n",
      "487 4870000\n",
      "488 4880000\n",
      "489 4890000\n",
      "490 4900000\n",
      "491 4910000\n",
      "492 4920000\n",
      "493 4930000\n",
      "494 4940000\n",
      "495 4950000\n",
      "496 4960000\n",
      "497 4970000\n",
      "498 4980000\n",
      "499 4990000\n",
      "500 5000000\n",
      "501 5010000\n",
      "502 5020000\n",
      "503 5030000\n",
      "504 5040000\n",
      "505 5050000\n",
      "506 5060000\n",
      "507 5070000\n",
      "508 5080000\n",
      "509 5090000\n",
      "510 5100000\n",
      "511 5110000\n",
      "512 5120000\n",
      "513 5130000\n",
      "514 5140000\n",
      "515 5150000\n",
      "516 5160000\n",
      "517 5170000\n",
      "518 5180000\n",
      "519 5190000\n",
      "520 5200000\n",
      "521 5210000\n",
      "522 5220000\n",
      "523 5230000\n",
      "524 5240000\n",
      "525 5250000\n",
      "526 5260000\n",
      "527 5270000\n",
      "528 5280000\n",
      "529 5290000\n",
      "530 5300000\n",
      "531 5310000\n",
      "532 5320000\n",
      "533 5330000\n",
      "534 5340000\n",
      "535 5350000\n",
      "536 5360000\n",
      "537 5370000\n",
      "538 5380000\n",
      "539 5390000\n",
      "540 5400000\n",
      "541 5410000\n",
      "542 5420000\n",
      "543 5430000\n",
      "544 5440000\n",
      "545 5450000\n",
      "546 5460000\n",
      "547 5470000\n",
      "548 5480000\n",
      "549 5490000\n",
      "550 5500000\n",
      "551 5510000\n",
      "552 5520000\n",
      "553 5530000\n",
      "554 5540000\n",
      "555 5550000\n",
      "556 5560000\n",
      "557 5570000\n",
      "558 5580000\n",
      "559 5590000\n",
      "560 5600000\n",
      "561 5610000\n",
      "562 5620000\n",
      "563 5630000\n",
      "564 5640000\n",
      "565 5650000\n",
      "566 5660000\n",
      "567 5670000\n",
      "568 5680000\n",
      "569 5690000\n",
      "570 5700000\n",
      "571 5710000\n",
      "572 5720000\n",
      "573 5730000\n",
      "574 5740000\n",
      "575 5750000\n",
      "576 5760000\n",
      "577 5770000\n",
      "578 5780000\n",
      "579 5790000\n",
      "580 5800000\n",
      "581 5810000\n",
      "582 5820000\n",
      "583 5830000\n",
      "584 5840000\n",
      "585 5850000\n",
      "586 5860000\n",
      "587 5870000\n",
      "588 5880000\n",
      "589 5890000\n",
      "590 5900000\n",
      "591 5910000\n",
      "592 5920000\n",
      "593 5930000\n",
      "594 5940000\n",
      "595 5950000\n",
      "596 5960000\n",
      "597 5970000\n",
      "598 5980000\n",
      "599 5990000\n",
      "600 6000000\n",
      "601 6010000\n",
      "602 6020000\n",
      "603 6030000\n",
      "604 6040000\n",
      "605 6050000\n",
      "606 6060000\n",
      "607 6070000\n",
      "608 6080000\n",
      "609 6090000\n",
      "610 6100000\n",
      "611 6110000\n",
      "612 6120000\n",
      "613 6130000\n",
      "614 6140000\n",
      "615 6150000\n",
      "616 6160000\n",
      "617 6170000\n",
      "618 6180000\n",
      "619 6190000\n",
      "620 6200000\n",
      "621 6210000\n",
      "622 6220000\n",
      "623 6230000\n",
      "624 6240000\n",
      "625 6250000\n",
      "626 6260000\n",
      "627 6270000\n",
      "628 6280000\n",
      "629 6290000\n",
      "630 6300000\n",
      "631 6310000\n",
      "632 6320000\n",
      "633 6330000\n",
      "634 6340000\n",
      "635 6350000\n",
      "636 6360000\n",
      "637 6370000\n",
      "638 6380000\n",
      "639 6390000\n",
      "640 6400000\n",
      "641 6410000\n",
      "642 6420000\n",
      "643 6430000\n",
      "644 6440000\n",
      "645 6450000\n",
      "646 6460000\n",
      "647 6470000\n",
      "648 6480000\n",
      "649 6490000\n",
      "650 6500000\n",
      "651 6510000\n",
      "652 6520000\n",
      "653 6530000\n",
      "654 6540000\n",
      "655 6550000\n",
      "656 6560000\n",
      "657 6570000\n",
      "658 6580000\n",
      "659 6590000\n",
      "660 6600000\n",
      "661 6610000\n",
      "662 6620000\n",
      "663 6630000\n",
      "664 6640000\n",
      "665 6650000\n",
      "666 6660000\n",
      "667 6670000\n",
      "668 6680000\n",
      "669 6690000\n",
      "670 6700000\n",
      "671 6710000\n",
      "672 6720000\n",
      "673 6730000\n",
      "674 6740000\n",
      "675 6750000\n",
      "676 6760000\n",
      "677 6770000\n",
      "678 6780000\n",
      "679 6790000\n",
      "680 6800000\n",
      "681 6810000\n",
      "682 6820000\n",
      "683 6830000\n",
      "684 6840000\n",
      "685 6850000\n",
      "686 6860000\n",
      "687 6870000\n",
      "688 6880000\n",
      "689 6890000\n",
      "690 6900000\n",
      "691 6910000\n",
      "692 6920000\n"
     ]
    }
   ],
   "source": [
    "from utils_extract_divergence_generalized import (\n",
    "    extract_divergence_generalized,\n",
    ")\n",
    "import time\n",
    "\n",
    "apply_generalization = True\n",
    "\n",
    "if apply_generalization:\n",
    "    type_gen = 'generalized'\n",
    "else:\n",
    "    type_gen = 'base'\n",
    "\n",
    "\n",
    "\n",
    "#for min_sup_divergence in min_sup_divergences:\n",
    "for min_sup_divergence in min_sup_divergences:\n",
    "    print(min_sup_divergence)\n",
    "    s_time = time.time()\n",
    "    FP_fm = extract_divergence_generalized(\n",
    "        df_analyze,\n",
    "        discretizations,\n",
    "        generalization_dict,\n",
    "        continuous_attributes,\n",
    "        min_sup_divergence=min_sup_divergence,\n",
    "        apply_generalization=apply_generalization,\n",
    "        true_class_name=true_class_name,\n",
    "        predicted_class_name=pred_class_name,\n",
    "        class_map=class_map,\n",
    "        metrics_divergence = [metric],\n",
    "        FPM_type=\"fpgrowth\",\n",
    "        save_in_progress = False\n",
    "    )\n",
    "    \n",
    "    out_time.setdefault(min_sup_divergence, {})[type_gen] = time.time()-s_time\n",
    "\n",
    "    if min_sup_divergence == 0.01:\n",
    "        most_divergent = max(FP_fm_base[metric])\n",
    "    else:\n",
    "        fp_divergence_i = FP_Divergence(FP_fm, metric=metric)\n",
    "\n",
    "        most_divergent = (\n",
    "            fp_divergence_i.getDivergence(th_redundancy=0)\n",
    "            .sort_values(\n",
    "                [fp_divergence_i.metric, fp_divergence_i.t_value_col], ascending=False\n",
    "            )\n",
    "            .head(1)\n",
    "        )\n",
    "    out_support.setdefault(min_sup_divergence, {})[type_gen] = most_divergent\n",
    "    del FP_fm"
   ]
  },
  {
   "cell_type": "code",
   "execution_count": 35,
   "id": "8fab7705",
   "metadata": {
    "ExecuteTime": {
     "end_time": "2022-12-23T14:17:39.328185Z",
     "start_time": "2022-12-23T14:17:39.299845Z"
    }
   },
   "outputs": [
    {
     "data": {
      "text/plain": [
       "2086    0.969512\n",
       "Name: d_fpr, dtype: float64"
      ]
     },
     "execution_count": 35,
     "metadata": {},
     "output_type": "execute_result"
    }
   ],
   "source": [
    "out_support[0.01]['base'][metric]"
   ]
  },
  {
   "cell_type": "code",
   "execution_count": 36,
   "id": "e0fa2b96",
   "metadata": {
    "ExecuteTime": {
     "end_time": "2022-12-23T14:17:53.456749Z",
     "start_time": "2022-12-23T14:17:53.426889Z"
    }
   },
   "outputs": [
    {
     "data": {
      "text/plain": [
       "0.9695121951219512"
      ]
     },
     "execution_count": 36,
     "metadata": {},
     "output_type": "execute_result"
    }
   ],
   "source": [
    "out_support[0.01]['generalized']"
   ]
  },
  {
   "cell_type": "markdown",
   "id": "4f64609d",
   "metadata": {},
   "source": [
    "# Results"
   ]
  },
  {
   "cell_type": "code",
   "execution_count": null,
   "id": "f3f5d214",
   "metadata": {
    "ExecuteTime": {
     "start_time": "2022-12-20T19:35:27.706Z"
    }
   },
   "outputs": [],
   "source": [
    "out_time"
   ]
  },
  {
   "cell_type": "code",
   "execution_count": null,
   "id": "3cc04b2c",
   "metadata": {
    "ExecuteTime": {
     "start_time": "2022-12-20T19:35:27.709Z"
    }
   },
   "outputs": [],
   "source": [
    "for k in out_support:\n",
    "    print(k)\n",
    "    for t_gen in out_support[k]:\n",
    "        print(t_gen)\n",
    "        display(out_support[k][t_gen])"
   ]
  },
  {
   "cell_type": "markdown",
   "id": "0f7e7a4e",
   "metadata": {},
   "source": [
    "# Plot results"
   ]
  },
  {
   "cell_type": "code",
   "execution_count": null,
   "id": "2c0b443c",
   "metadata": {
    "ExecuteTime": {
     "start_time": "2022-12-20T19:35:27.712Z"
    }
   },
   "outputs": [],
   "source": [
    "out_time"
   ]
  },
  {
   "cell_type": "markdown",
   "id": "2459dd2c",
   "metadata": {},
   "source": [
    "## Set "
   ]
  },
  {
   "cell_type": "code",
   "execution_count": 58,
   "id": "669cb929",
   "metadata": {
    "ExecuteTime": {
     "end_time": "2022-12-23T14:25:11.351402Z",
     "start_time": "2022-12-23T14:25:11.323112Z"
    }
   },
   "outputs": [],
   "source": [
    "import os\n",
    "\n",
    "output_fig_dir = os.path.join(os.path.curdir, \"output_figures\", \"figures\", \"output_performance\")\n",
    "from pathlib import Path\n",
    "\n",
    "Path(output_fig_dir).mkdir(parents=True, exist_ok=True)"
   ]
  },
  {
   "cell_type": "code",
   "execution_count": 52,
   "id": "2fa8eb1d",
   "metadata": {
    "ExecuteTime": {
     "end_time": "2022-12-23T14:24:55.014098Z",
     "start_time": "2022-12-23T14:24:54.988262Z"
    }
   },
   "outputs": [],
   "source": [
    "abbreviations = {\"one_at_time\":\"indiv t.\", \\\n",
    "                  \"divergence_criterion\":\"g$\\\\Delta$\", \"entropy\":\"entr\"}"
   ]
  },
  {
   "cell_type": "code",
   "execution_count": 53,
   "id": "03061fbe",
   "metadata": {
    "ExecuteTime": {
     "end_time": "2022-12-23T14:24:55.160620Z",
     "start_time": "2022-12-23T14:24:55.016472Z"
    }
   },
   "outputs": [],
   "source": [
    "def abbreviateValue(value, abbreviations={}):\n",
    "    for k, v in abbreviations.items():\n",
    "        if k in value:\n",
    "            \n",
    "            value = value.replace(k, v)\n",
    "    #TODO\n",
    "    if value[0:2] not in [\"q_\", \"u_\"]:\n",
    "        value = value.replace(\"_\", \" \")\n",
    "    return value\n",
    "    \n",
    "def abbreviate_dict_value(input_dict, abbreviations):\n",
    "    \n",
    "    conv ={}\n",
    "    for k1, dict_i in input_dict.items():\n",
    "        conv[k1] = { abbreviateValue(k, abbreviations): d for k, d in dict_i.items()}\n",
    "    return conv"
   ]
  },
  {
   "cell_type": "code",
   "execution_count": 54,
   "id": "43897227",
   "metadata": {
    "ExecuteTime": {
     "end_time": "2022-12-23T14:24:56.116778Z",
     "start_time": "2022-12-23T14:24:56.086623Z"
    }
   },
   "outputs": [
    {
     "name": "stdout",
     "output_type": "stream",
     "text": [
      "{'entr base': '#7fcc7f', 'g$\\\\Delta$ base': '#009900', 'entr generalized': 'mediumblue', 'g$\\\\Delta$ generalized': 'orangered'}\n"
     ]
    }
   ],
   "source": [
    "color_labels = {}\n",
    "color_labels[abbreviateValue(f'entropy_base', abbreviations)]=\"#7fcc7f\"\n",
    "color_labels[abbreviateValue(f'divergence_criterion_base', abbreviations)]=\"#009900\"\n",
    "\n",
    "color_labels[abbreviateValue(f'entropy_generalized', abbreviations)]=\"mediumblue\"\n",
    "color_labels[abbreviateValue(f'divergence_criterion_generalized', abbreviations)]=\"orangered\"\n",
    "\n",
    "lines_style = {k:\"-\" for k in color_labels}\n",
    "print(color_labels)\n",
    "lines_style.update({k:\"--\" for k in color_labels if( \"base\" in k and abbreviations[\"entropy\"] in k)})\n",
    "lines_style.update({k:\"-.\" for k in color_labels if( 'base' in k and abbreviations[\"divergence_criterion\"] in k)})"
   ]
  },
  {
   "cell_type": "markdown",
   "id": "889bb822",
   "metadata": {},
   "source": [
    "## Plot time"
   ]
  },
  {
   "cell_type": "code",
   "execution_count": null,
   "id": "ffb0f6ef",
   "metadata": {
    "ExecuteTime": {
     "start_time": "2022-12-20T19:35:27.723Z"
    }
   },
   "outputs": [],
   "source": [
    "from utils_plot import plotDicts\n",
    "\n",
    "\n",
    "\n",
    "info_plot = {}\n",
    "for sup in sorted(out_time.keys()):\n",
    "    for type_gen in out_time[sup]:\n",
    "        type_gen_str = abbreviateValue(f\"{type_criterion}_{type_gen}\", abbreviations)\n",
    "        if type_gen_str not in info_plot:\n",
    "            info_plot[type_gen_str] = {}\n",
    "        info_plot[type_gen_str][sup] = out_time[sup][type_gen]\n",
    "        \n",
    "        \n",
    "size_fig = (3,3)\n",
    "\n",
    "\n",
    "info_i = \"time\"\n",
    "\n",
    "figure_name = os.path.join(output_fig_dir, f\"{dataset_name}_stree_{min_support_tree}_{metric}_{info_i}.pdf\")\n",
    "\n",
    "\n",
    "\n",
    "\n",
    "plotDicts(info_plot, marker=True, \\\n",
    "          title = 'Execution time', sizeFig=size_fig,\\\n",
    "                   linestyle=lines_style, color_labels=color_labels, \\\n",
    "          xlabel=\"Minimum support s\",  ylabel=\"Execution time $(seconds)$\", labelSize=10.2,\\\n",
    "         outside=False,  saveFig=True, nameFig = figure_name)"
   ]
  },
  {
   "cell_type": "markdown",
   "id": "fdea9bd1",
   "metadata": {},
   "source": [
    "## Plot max_fpr"
   ]
  },
  {
   "cell_type": "code",
   "execution_count": null,
   "id": "1a2380c5",
   "metadata": {
    "ExecuteTime": {
     "start_time": "2022-12-20T19:35:27.726Z"
    }
   },
   "outputs": [],
   "source": [
    "from utils_plot import plotDicts\n",
    "\n",
    "\n",
    "\n",
    "info_plot = {}\n",
    "for sup in sorted(out_support.keys()):\n",
    "    for type_gen in out_support[sup]:\n",
    "        type_gen_str = abbreviateValue(f\"{type_criterion}_{type_gen}\", abbreviations)\n",
    "        if type_gen_str not in info_plot:\n",
    "            info_plot[type_gen_str] = {}\n",
    "        info_plot[type_gen_str][sup] = out_support[sup][type_gen][metric].iloc[0]\n",
    "        \n",
    "        \n",
    "size_fig = (3,3)\n",
    "\n",
    "\n",
    "info_i = f\"max_{metric}\"\n",
    "\n",
    "figure_name = os.path.join(output_fig_dir, f\"{dataset_name}_stree_{min_support_tree}_{metric}_{info_i}.pdf\")\n",
    "\n",
    "\n",
    "\n",
    "\n",
    "plotDicts(info_plot, marker=True, \\\n",
    "          title=\"Highest $\\\\Delta_{FPR}$\" , sizeFig=size_fig,\n",
    "                   linestyle=lines_style, color_labels=color_labels, \\\n",
    "          xlabel=\"Minimum support s\",  ylabel=\"Max $\\\\Delta_{FPR}$\", labelSize=10.2,\\\n",
    "         outside=False,  saveFig=True, nameFig = figure_name) #yscale=\"log\",  "
   ]
  },
  {
   "cell_type": "code",
   "execution_count": null,
   "id": "91d763d0",
   "metadata": {
    "ExecuteTime": {
     "start_time": "2022-12-20T19:35:27.728Z"
    }
   },
   "outputs": [],
   "source": [
    "info_plots"
   ]
  },
  {
   "cell_type": "markdown",
   "id": "6776906e",
   "metadata": {},
   "source": [
    "# Store performance results"
   ]
  },
  {
   "cell_type": "code",
   "execution_count": null,
   "id": "8aaae2bc",
   "metadata": {
    "ExecuteTime": {
     "start_time": "2022-12-20T19:35:27.731Z"
    }
   },
   "outputs": [],
   "source": [
    "from copy import deepcopy\n",
    "a = deepcopy(out_time)\n",
    "b = deepcopy(out_support)"
   ]
  },
  {
   "cell_type": "code",
   "execution_count": null,
   "id": "2c3cdf64",
   "metadata": {
    "ExecuteTime": {
     "start_time": "2022-12-20T19:35:27.733Z"
    }
   },
   "outputs": [],
   "source": [
    "save = False"
   ]
  },
  {
   "cell_type": "code",
   "execution_count": null,
   "id": "2b5119eb",
   "metadata": {
    "ExecuteTime": {
     "start_time": "2022-12-20T19:35:27.734Z"
    }
   },
   "outputs": [],
   "source": [
    "import os\n",
    "\n",
    "output_results = os.path.join(os.path.curdir, \"output_results\", 'performance')\n",
    "from pathlib import Path\n",
    "\n",
    "Path(output_results).mkdir(parents=True, exist_ok=True)"
   ]
  },
  {
   "cell_type": "code",
   "execution_count": null,
   "id": "ee5d978e",
   "metadata": {
    "ExecuteTime": {
     "start_time": "2022-12-20T19:35:27.736Z"
    }
   },
   "outputs": [],
   "source": [
    "if save:\n",
    "\n",
    "    import json\n",
    "    with open(os.path.join(output_results, f'{dataset_name}_{metric}_time.json'), 'w') as output_file:\n",
    "         output_file.write(json.dumps(out_time))\n",
    "\n",
    "\n",
    "    out_support_max = {}\n",
    "\n",
    "\n",
    "    for sup in sorted(out_support.keys()):\n",
    "        out_support_max[sup] = {}\n",
    "        for type_gen in out_support[sup]:\n",
    "            out_support_max[sup][type_gen] = out_support[sup][type_gen][metric].iloc[0]\n",
    "\n",
    "    with open(os.path.join(output_results, f'{dataset_name}_{metric}_div.json'), 'w') as output_file:\n",
    "         output_file.write(json.dumps(out_support_max))"
   ]
  },
  {
   "cell_type": "markdown",
   "id": "b4d3faed",
   "metadata": {},
   "source": [
    "# Read results"
   ]
  },
  {
   "cell_type": "code",
   "execution_count": 55,
   "id": "a23a00e1",
   "metadata": {
    "ExecuteTime": {
     "end_time": "2022-12-23T14:25:02.422810Z",
     "start_time": "2022-12-23T14:25:02.403234Z"
    }
   },
   "outputs": [],
   "source": [
    "dataset_name = 'wine'\n",
    "metric = 'd_fpr'\n",
    "type_criterion=\"divergence_criterion\"\n",
    "\n",
    "type_experiment = \"one_at_time\"\n",
    "min_support_tree = 0.1"
   ]
  },
  {
   "cell_type": "code",
   "execution_count": 65,
   "id": "d16fc652",
   "metadata": {
    "ExecuteTime": {
     "end_time": "2022-12-23T14:26:08.987488Z",
     "start_time": "2022-12-23T14:26:08.960204Z"
    }
   },
   "outputs": [],
   "source": [
    "import json\n",
    "import os\n",
    "\n",
    "\n",
    "output_results = os.path.join(os.path.curdir, \"output_results\", 'performance')\n",
    "\n",
    "\n",
    "\n",
    "with open(os.path.join(output_results, f'{dataset_name}_{metric}_time_all.json')) as json_file:\n",
    "    result_time = json.load(json_file)\n",
    "\n",
    "with open(os.path.join(output_results, f'{dataset_name}_{metric}_div_all.json')) as json_file:\n",
    "    result_maxdiv = json.load(json_file)\n",
    "\n"
   ]
  },
  {
   "cell_type": "code",
   "execution_count": 62,
   "id": "ad66b183",
   "metadata": {
    "ExecuteTime": {
     "end_time": "2022-12-23T14:26:04.503216Z",
     "start_time": "2022-12-23T14:26:04.473447Z"
    }
   },
   "outputs": [],
   "source": [
    "result_time['0.01'] = {'base' : out_time[0.01]['base'],\\\n",
    "                        'generalized': out_time[0.01]['generalized']}"
   ]
  },
  {
   "cell_type": "code",
   "execution_count": 63,
   "id": "39d8727a",
   "metadata": {
    "ExecuteTime": {
     "end_time": "2022-12-23T14:26:05.111964Z",
     "start_time": "2022-12-23T14:26:05.081587Z"
    }
   },
   "outputs": [],
   "source": [
    "result_maxdiv['0.01'] = {'base' : out_support[0.01]['base'].iloc[0][metric],\\\n",
    "                        'generalized': out_support[0.01]['generalized']}"
   ]
  },
  {
   "cell_type": "code",
   "execution_count": 64,
   "id": "db1fe8d7",
   "metadata": {
    "ExecuteTime": {
     "end_time": "2022-12-23T14:26:07.151227Z",
     "start_time": "2022-12-23T14:26:06.977507Z"
    }
   },
   "outputs": [],
   "source": [
    "import json\n",
    "with open(os.path.join(output_results, f'{dataset_name}_{metric}_time_all.json'), 'w') as output_file:\n",
    "         output_file.write(json.dumps(result_time))\n",
    "\n",
    "import json\n",
    "with open(os.path.join(output_results, f'{dataset_name}_{metric}_div_all.json'), 'w') as output_file:\n",
    "         output_file.write(json.dumps(result_maxdiv))\n",
    "\n",
    "\n"
   ]
  },
  {
   "cell_type": "code",
   "execution_count": 66,
   "id": "5a343460",
   "metadata": {
    "ExecuteTime": {
     "end_time": "2022-12-23T14:26:12.051995Z",
     "start_time": "2022-12-23T14:26:11.706626Z"
    }
   },
   "outputs": [
    {
     "data": {
      "image/png": "[encoded data removed]",
      "text/plain": [
       "<Figure size 300x300 with 1 Axes>"
      ]
     },
     "metadata": {
      "needs_background": "light"
     },
     "output_type": "display_data"
    }
   ],
   "source": [
    "from utils_plot import plotDicts\n",
    "\n",
    "input_dict = result_time\n",
    "info_i = \"time\"\n",
    "ylabel =\"Execution time $(seconds)$\"\n",
    "title = 'Execution time'\n",
    "\n",
    "\n",
    "info_plot = {}\n",
    "for sup in input_dict.keys():\n",
    "    for type_gen in input_dict[sup]:\n",
    "        type_gen_str = abbreviateValue(f\"{type_criterion}_{type_gen}\", abbreviations)\n",
    "        if type_gen_str not in info_plot:\n",
    "            info_plot[type_gen_str] = {}\n",
    "        info_plot[type_gen_str][float(sup)] = input_dict[sup][type_gen]\n",
    "    \n",
    "for type_gen_str in info_plot:\n",
    "    info_plot[type_gen_str] = dict(sorted(info_plot[type_gen_str].items()))\n",
    "        \n",
    "size_fig = (3,3)\n",
    "\n",
    "\n",
    "\n",
    "figure_name = os.path.join(output_fig_dir, f\"{dataset_name}_stree_{min_support_tree}_{metric}_{info_i}.pdf\")\n",
    "\n",
    "\n",
    "\n",
    "\n",
    "plotDicts(info_plot, marker=True, \\\n",
    "          title=title, sizeFig=size_fig,\\\n",
    "                   linestyle=lines_style, color_labels=color_labels, \\\n",
    "          xlabel=\"Minimum support s\",  ylabel=ylabel, labelSize=10.2,\\\n",
    "         outside=False,  saveFig=True, nameFig = figure_name, legendSize=10.2)"
   ]
  },
  {
   "cell_type": "code",
   "execution_count": 67,
   "id": "f3d8e24c",
   "metadata": {
    "ExecuteTime": {
     "end_time": "2022-12-23T14:26:13.388462Z",
     "start_time": "2022-12-23T14:26:13.043000Z"
    }
   },
   "outputs": [
    {
     "data": {
      "image/png": "[encoded data removed]",
      "text/plain": [
       "<Figure size 300x300 with 1 Axes>"
      ]
     },
     "metadata": {
      "needs_background": "light"
     },
     "output_type": "display_data"
    }
   ],
   "source": [
    "from utils_plot import plotDicts\n",
    "\n",
    "input_dict = result_maxdiv\n",
    "info_i = \"time\"\n",
    "ylabel = 'Max $\\\\Delta_{FPR}$'\n",
    "title = 'Highest $\\\\Delta_{FPR}$'\n",
    "\n",
    "\n",
    "info_plot = {}\n",
    "for sup in input_dict.keys():\n",
    "    for type_gen in input_dict[sup]:\n",
    "        type_gen_str = abbreviateValue(f\"{type_criterion}_{type_gen}\", abbreviations)\n",
    "        if type_gen_str not in info_plot:\n",
    "            info_plot[type_gen_str] = {}\n",
    "        info_plot[type_gen_str][float(sup)] = input_dict[sup][type_gen]\n",
    "    \n",
    "for type_gen_str in info_plot:\n",
    "    info_plot[type_gen_str] = dict(sorted(info_plot[type_gen_str].items()))\n",
    "        \n",
    "size_fig = (3,3)\n",
    "\n",
    "\n",
    "\n",
    "figure_name = os.path.join(output_fig_dir, f\"{dataset_name}_stree_{min_support_tree}_{metric}_{info_i}.pdf\")\n",
    "\n",
    "\n",
    "\n",
    "\n",
    "plotDicts(info_plot, marker=True, \\\n",
    "          title=title, sizeFig=size_fig,\\\n",
    "                   linestyle=lines_style, color_labels=color_labels, \\\n",
    "          xlabel=\"Minimum support s\",  ylabel=ylabel, labelSize=10.2,\\\n",
    "         outside=False,  saveFig=True, nameFig = figure_name, legendSize=10.2)"
   ]
  },
  {
   "cell_type": "code",
   "execution_count": null,
   "id": "3982d598",
   "metadata": {},
   "outputs": [],
   "source": []
  }
 ],
 "metadata": {
  "kernelspec": {
   "display_name": "main-exp",
   "language": "python",
   "name": "main-exp"
  },
  "language_info": {
   "codemirror_mode": {
    "name": "ipython",
    "version": 3
   },
   "file_extension": ".py",
   "mimetype": "text/x-python",
   "name": "python",
   "nbconvert_exporter": "python",
   "pygments_lexer": "ipython3",
   "version": "3.7.9"
  },
  "toc": {
   "base_numbering": 1,
   "nav_menu": {},
   "number_sections": true,
   "sideBar": true,
   "skip_h1_title": false,
   "title_cell": "Table of Contents",
   "title_sidebar": "Contents",
   "toc_cell": false,
   "toc_position": {
    "height": "calc(100% - 180px)",
    "left": "10px",
    "top": "150px",
    "width": "270px"
   },
   "toc_section_display": true,
   "toc_window_display": true
  }
 },
 "nbformat": 4,
 "nbformat_minor": 5
}
