{
 "cells": [
  {
   "cell_type": "code",
   "execution_count": 13,
   "id": "portuguese-robert",
   "metadata": {
    "ExecuteTime": {
     "end_time": "2022-01-22T10:45:55.773375Z",
     "start_time": "2022-01-22T10:45:55.742266Z"
    }
   },
   "outputs": [],
   "source": [
    "%load_ext autoreload\n",
    "%autoreload 2"
   ]
  },
  {
   "cell_type": "code",
   "execution_count": 14,
   "id": "complicated-introduction",
   "metadata": {
    "ExecuteTime": {
     "end_time": "2022-01-22T10:45:55.904190Z",
     "start_time": "2022-01-22T10:45:55.880254Z"
    }
   },
   "outputs": [],
   "source": [
    "def convert_dict(dict_i):\n",
    "    conv = {}\n",
    "    for type_exp, d1 in dict_i.items():\n",
    "        for type_gen,d2 in d1.items():\n",
    "            if type_gen not in conv:\n",
    "                conv[type_gen] = {}\n",
    "            conv[type_gen][type_exp]=  {float(k):v for k,v in d2.items()}\n",
    "    return conv"
   ]
  },
  {
   "cell_type": "code",
   "execution_count": 15,
   "id": "reasonable-crossing",
   "metadata": {
    "ExecuteTime": {
     "end_time": "2022-01-22T10:45:56.088825Z",
     "start_time": "2022-01-22T10:45:56.073042Z"
    }
   },
   "outputs": [],
   "source": [
    "def load_json(filename):\n",
    "    import json\n",
    "    with open(\n",
    "        filename,\n",
    "        \"r\",\n",
    "    ) as fp:\n",
    "        dict_i = json.load(fp)  \n",
    "    return dict_i"
   ]
  },
  {
   "cell_type": "code",
   "execution_count": 16,
   "id": "afraid-instrument",
   "metadata": {
    "ExecuteTime": {
     "end_time": "2022-01-22T10:45:56.732152Z",
     "start_time": "2022-01-22T10:45:56.701427Z"
    }
   },
   "outputs": [],
   "source": [
    "def abbreviateValue(value, abbreviations={}):\n",
    "    for k, v in abbreviations.items():\n",
    "        if k in value:\n",
    "            \n",
    "            value = value.replace(k, v)\n",
    "    #TODO\n",
    "    if value[0:2] not in [\"q_\", \"u_\"]:\n",
    "        value = value.replace(\"_\", \" \")\n",
    "    return value\n",
    "    \n",
    "def abbreviate_dict_value(input_dict, abbreviations):\n",
    "    \n",
    "    conv ={}\n",
    "    for k1, dict_i in input_dict.items():\n",
    "        conv[k1] = { abbreviateValue(k, abbreviations): d for k, d in dict_i.items()}\n",
    "    return conv"
   ]
  },
  {
   "cell_type": "code",
   "execution_count": 5,
   "id": "undefined-subsection",
   "metadata": {
    "ExecuteTime": {
     "end_time": "2022-01-19T08:44:35.332909Z",
     "start_time": "2022-01-19T08:44:35.321049Z"
    }
   },
   "outputs": [],
   "source": [
    "import os\n",
    "\n",
    "output_fig_dir = os.path.join(os.path.curdir, \"output_figures\", \"figures\", \"output_performance_reference\")\n",
    "from pathlib import Path\n",
    "\n",
    "Path(output_fig_dir).mkdir(parents=True, exist_ok=True)"
   ]
  },
  {
   "cell_type": "code",
   "execution_count": 17,
   "id": "southeast-forest",
   "metadata": {
    "ExecuteTime": {
     "end_time": "2022-01-22T10:55:21.427781Z",
     "start_time": "2022-01-22T10:55:21.410563Z"
    }
   },
   "outputs": [],
   "source": [
    "name_folder_output = \"output\""
   ]
  },
  {
   "cell_type": "code",
   "execution_count": 20,
   "id": "north-representative",
   "metadata": {
    "ExecuteTime": {
     "end_time": "2022-01-22T11:05:02.784849Z",
     "start_time": "2022-01-22T11:05:02.774247Z"
    }
   },
   "outputs": [],
   "source": [
    "compute_results = False"
   ]
  },
  {
   "cell_type": "code",
   "execution_count": 22,
   "id": "sharp-sheffield",
   "metadata": {
    "ExecuteTime": {
     "end_time": "2022-01-22T11:05:08.740966Z",
     "start_time": "2022-01-22T11:05:08.720577Z"
    }
   },
   "outputs": [],
   "source": [
    "if compute_results:\n",
    "    from experiments_adult_trees import run_adult_experiments_trees\n",
    "\n",
    "    run_adult_experiments_trees(\n",
    "        name_output_dir=\"results\",\n",
    "        type_experiments=[\"one_at_time\", \"all_attributes\"],\n",
    "        type_criterion=\"weighted_sum_abs_reference_s\",\n",
    "        min_support_tree=0.1,\n",
    "        metrics=[\"d_outcome\"],\n",
    "        verbose=False,\n",
    "        ouput_folder_dir=name_folder_output,\n",
    "    )"
   ]
  },
  {
   "cell_type": "code",
   "execution_count": 25,
   "id": "suited-george",
   "metadata": {
    "ExecuteTime": {
     "end_time": "2022-01-22T11:05:29.809689Z",
     "start_time": "2022-01-22T11:05:29.782047Z"
    }
   },
   "outputs": [],
   "source": [
    "import os\n",
    "\n",
    "output_fig_dir = os.path.join(os.path.curdir, \"output\", \"figures\", \"output_performance\")\n",
    "from pathlib import Path\n",
    "\n",
    "Path(output_fig_dir).mkdir(parents=True, exist_ok=True)"
   ]
  },
  {
   "cell_type": "markdown",
   "id": "documented-fight",
   "metadata": {},
   "source": [
    "# Read data"
   ]
  },
  {
   "cell_type": "code",
   "execution_count": 26,
   "id": "advised-selling",
   "metadata": {
    "ExecuteTime": {
     "end_time": "2022-01-22T11:05:32.088433Z",
     "start_time": "2022-01-22T11:05:32.075488Z"
    }
   },
   "outputs": [],
   "source": [
    "abbreviations = {\"one_at_time\":\"indiv t.\", \"all_attributes\":\"comb t.\", \"continuous\":\"c\", \\\n",
    "                 \"quantile\": \"quant #bins:\", \"uniform\":\"unif #bins:\", \"weighted_sum_abs_reference_s\":\"w$\\Delta$\", \"entropy\":\"entr\",\\\n",
    "                \"without_gen\": \"Leaf items\", \"with_gen\": \"All items\"}"
   ]
  },
  {
   "cell_type": "code",
   "execution_count": 27,
   "id": "pointed-louisville",
   "metadata": {
    "ExecuteTime": {
     "end_time": "2022-01-22T11:05:32.262445Z",
     "start_time": "2022-01-22T11:05:32.239062Z"
    }
   },
   "outputs": [],
   "source": [
    "q_abbr = abbreviations[\"quantile\"]\n",
    "u_abbr = abbreviations[\"uniform\"]"
   ]
  },
  {
   "cell_type": "code",
   "execution_count": 53,
   "id": "chinese-laugh",
   "metadata": {
    "ExecuteTime": {
     "end_time": "2022-01-22T11:09:39.858998Z",
     "start_time": "2022-01-22T11:09:39.836364Z"
    }
   },
   "outputs": [],
   "source": [
    "label_names = {\"one_at_time\":\"indiv t.\", \"all_attributes\":\"comb t.\", \\\n",
    "                 \"quantile\": \"q\", \"uniform\":\"u\", \"weighted_sum_abs_reference_s\":\"w$\\Delta$\", \"entropy\":\"entr\",\\\n",
    "                \"without_gen\": \"Leaf items\", \"with_gen\": \"All items\"}"
   ]
  },
  {
   "cell_type": "code",
   "execution_count": 54,
   "id": "reserved-fashion",
   "metadata": {
    "ExecuteTime": {
     "end_time": "2022-01-22T11:09:41.175469Z",
     "start_time": "2022-01-22T11:09:41.147300Z"
    }
   },
   "outputs": [],
   "source": [
    "label_names_2 = {\"one_at_time\":\"indiv t.\", \"all_attributes\":\"comb t.\", \"continuous\":\"c\", \\\n",
    "                 \"quantile\": \"q\", \"uniform\":\"u\", \"weighted_sum_abs_reference_s\":\"w$\\Delta$\", \"entropy\":\"entr\",\\\n",
    "                \"without_gen\": \"Leaf\", \"with_gen\": \"All\"}"
   ]
  },
  {
   "cell_type": "code",
   "execution_count": 29,
   "id": "manual-swaziland",
   "metadata": {
    "ExecuteTime": {
     "end_time": "2022-01-22T11:05:32.898907Z",
     "start_time": "2022-01-22T11:05:32.876431Z"
    }
   },
   "outputs": [],
   "source": [
    "tree_keys = ['weighted_sum_abs_reference_s_one_at_time', 'weighted_sum_abs_reference_s_all_attributes', 'entropy_one_at_time', 'entropy_all_attributes']\n",
    "tree_keys = [abbreviateValue(k, abbreviations) for k in tree_keys]"
   ]
  },
  {
   "cell_type": "code",
   "execution_count": 30,
   "id": "attended-twenty",
   "metadata": {
    "ExecuteTime": {
     "end_time": "2022-01-22T11:05:34.096252Z",
     "start_time": "2022-01-22T11:05:34.076033Z"
    }
   },
   "outputs": [],
   "source": [
    "info = {}"
   ]
  },
  {
   "cell_type": "code",
   "execution_count": 33,
   "id": "mature-provincial",
   "metadata": {
    "ExecuteTime": {
     "end_time": "2022-01-22T11:06:00.450679Z",
     "start_time": "2022-01-22T11:06:00.424737Z"
    }
   },
   "outputs": [],
   "source": [
    "min_sup_tree = 0.1\n",
    "\n",
    "metric= \"d_outcome\"\n",
    "type_criterion = \"weighted_sum_abs_reference_s\"\n",
    "\n",
    "type_criterions = [\"weighted_sum_abs_reference_s\"]\n",
    "dataset_name = \"adult_income\"\n",
    "import os\n",
    "output_results= os.path.join(os.path.curdir, name_folder_output, \"results\")"
   ]
  },
  {
   "cell_type": "code",
   "execution_count": 37,
   "id": "academic-senior",
   "metadata": {
    "ExecuteTime": {
     "end_time": "2022-01-22T11:07:51.664001Z",
     "start_time": "2022-01-22T11:07:51.636038Z"
    }
   },
   "outputs": [
    {
     "name": "stdout",
     "output_type": "stream",
     "text": [
      "weighted_sum_abs_reference_s\n",
      "weighted_sum_abs_reference_s\n"
     ]
    }
   ],
   "source": [
    "import os\n",
    "\n",
    "info_tree = {type_criterion:{} for type_criterion in type_criterions}\n",
    "\n",
    "info_ex_discr = {}\n",
    "\n",
    "for info_i in [\"max\", \"FP\"]:\n",
    "\n",
    "    for type_criterion in type_criterions:\n",
    "        print(type_criterion)\n",
    "        filename = os.path.join(output_results, dataset_name ,type_criterion,f\"stree_{min_sup_tree}\", metric, \"gain_0\",  f\"info_ALL_{info_i}.json\")\n",
    "\n",
    "        info_tree[type_criterion][info_i] = abbreviate_dict_value(convert_dict(load_json(filename)), abbreviations)"
   ]
  },
  {
   "cell_type": "code",
   "execution_count": 38,
   "id": "qualified-essex",
   "metadata": {
    "ExecuteTime": {
     "end_time": "2022-01-22T11:07:55.621654Z",
     "start_time": "2022-01-22T11:07:55.605791Z"
    }
   },
   "outputs": [
    {
     "data": {
      "text/plain": [
       "dict_keys(['weighted_sum_abs_reference_s'])"
      ]
     },
     "execution_count": 38,
     "metadata": {},
     "output_type": "execute_result"
    }
   ],
   "source": [
    "info_tree.keys()"
   ]
  },
  {
   "cell_type": "code",
   "execution_count": 39,
   "id": "altered-atlantic",
   "metadata": {
    "ExecuteTime": {
     "end_time": "2022-01-22T11:07:56.002032Z",
     "start_time": "2022-01-22T11:07:55.983798Z"
    }
   },
   "outputs": [],
   "source": [
    "for info_i in info:\n",
    "    for type_gen in info[info_i]:\n",
    "        if \"all_c\" in info[info_i][type_gen]:\n",
    "            info[info_i][type_gen].pop(\"all_c\")"
   ]
  },
  {
   "cell_type": "code",
   "execution_count": 40,
   "id": "democratic-channel",
   "metadata": {
    "ExecuteTime": {
     "end_time": "2022-01-22T11:07:56.451324Z",
     "start_time": "2022-01-22T11:07:56.423892Z"
    }
   },
   "outputs": [],
   "source": [
    "color_labels = {}\n",
    "color_labels[abbreviateValue('weighted_sum_abs_reference_s_one_at_time', abbreviations)]=\"orangered\"\n",
    "color_labels[abbreviateValue('weighted_sum_abs_reference_s_all_attributes', abbreviations)]=\"orange\"\n",
    "color_labels['user']=\"crimson\""
   ]
  },
  {
   "cell_type": "code",
   "execution_count": 41,
   "id": "comic-sudan",
   "metadata": {
    "ExecuteTime": {
     "end_time": "2022-01-22T11:07:56.937748Z",
     "start_time": "2022-01-22T11:07:56.925170Z"
    }
   },
   "outputs": [],
   "source": [
    "save_fig = False"
   ]
  },
  {
   "cell_type": "code",
   "execution_count": 42,
   "id": "lesser-macedonia",
   "metadata": {
    "ExecuteTime": {
     "end_time": "2022-01-22T11:07:57.508363Z",
     "start_time": "2022-01-22T11:07:57.481581Z"
    }
   },
   "outputs": [],
   "source": [
    "type_gens = [\"without_gen\", \"with_gen\"]"
   ]
  },
  {
   "cell_type": "code",
   "execution_count": 43,
   "id": "likely-chaos",
   "metadata": {
    "ExecuteTime": {
     "end_time": "2022-01-22T11:07:58.779839Z",
     "start_time": "2022-01-22T11:07:58.757400Z"
    }
   },
   "outputs": [],
   "source": [
    "info_i=\"max\"\n",
    "\n",
    "info_dicts = {}\n",
    "\n",
    "info_plot_max = {type_gen:{} for type_gen in type_gens}\n",
    "for type_gen in type_gens:\n",
    "        \n",
    "    for type_criterion in type_criterions:\n",
    "        info_plot_max[type_gen].update({abbreviateValue(f\"{type_criterion}_{type_exp}\", abbreviations):v for type_exp, v in info_tree[type_criterion][info_i][type_gen].items()})"
   ]
  },
  {
   "cell_type": "code",
   "execution_count": 44,
   "id": "empirical-conference",
   "metadata": {
    "ExecuteTime": {
     "end_time": "2022-01-22T11:07:59.964400Z",
     "start_time": "2022-01-22T11:07:59.937964Z"
    }
   },
   "outputs": [],
   "source": [
    "def select_keys(dict_i, keys_sel):\n",
    "    return {k:dict_i[k] for k in keys_sel if k in dict_i}"
   ]
  },
  {
   "cell_type": "markdown",
   "id": "seasonal-rental",
   "metadata": {},
   "source": [
    "# Plot max \\Delta_income"
   ]
  },
  {
   "cell_type": "code",
   "execution_count": 47,
   "id": "promising-friday",
   "metadata": {
    "ExecuteTime": {
     "end_time": "2022-01-22T11:08:01.528882Z",
     "start_time": "2022-01-22T11:08:01.503408Z"
    }
   },
   "outputs": [],
   "source": [
    "save_fig = True"
   ]
  },
  {
   "cell_type": "code",
   "execution_count": 56,
   "id": "secondary-princeton",
   "metadata": {
    "ExecuteTime": {
     "end_time": "2022-01-22T11:10:30.884821Z",
     "start_time": "2022-01-22T11:10:30.393940Z"
    }
   },
   "outputs": [
    {
     "name": "stdout",
     "output_type": "stream",
     "text": [
      "./output/figures/output_performance/adult_income_stree_0.1_d_outcome_max_tree_all2.pdf\n"
     ]
    },
    {
     "data": {
      "image/png": "[encoded data removed]",
      "text/plain": [
       "<Figure size 380x400 with 1 Axes>"
      ]
     },
     "metadata": {},
     "output_type": "display_data"
    }
   ],
   "source": [
    "info_i = \"max\"\n",
    "\n",
    "color_labels = {}\n",
    "color_labels[abbreviateValue('entropy_one_at_time Leaf', abbreviations)]=\"#7fcc7f\"\n",
    "color_labels[abbreviateValue('weighted_sum_abs_reference_s_one_at_time Leaf', abbreviations)]=\"#009900\"\n",
    "\n",
    "\n",
    "color_labels[abbreviateValue('entropy_one_at_time All', abbreviations)]=\"mediumblue\"\n",
    "color_labels[abbreviateValue('weighted_sum_abs_reference_s_one_at_time All', abbreviations)]=\"orangered\"\n",
    "color_labels[abbreviateValue('entropy_all_attributes All', abbreviations)]=\"royalblue\"\n",
    "color_labels[abbreviateValue('weighted_sum_abs_reference_s_all_attributes All', abbreviations)]=\"orange\"\n",
    "\n",
    "lines_style = {k:\"-\" for k in color_labels}\n",
    "lines_style.update({k:\"--\" for k in color_labels if( \"Leaf\" in k and \"entr\" in k)})\n",
    "lines_style.update({k:\"-.\" for k in color_labels if( \"Leaf\" in k and \"w$\\\\Delta$\" in k)})\n",
    "\n",
    "\n",
    "\n",
    "size_fig = (3.8,4)\n",
    "\n",
    "\n",
    "info_plot = {}\n",
    "for type_gen in type_gens:\n",
    "    for type_criterion in type_criterions:\n",
    "        info_plot.update({abbreviateValue(f\"{type_criterion}_{type_exp}_{label_names_2[type_gen]}\", abbreviations):v for type_exp, v in info_tree[type_criterion][info_i][type_gen].items() if v})\n",
    "\n",
    "        \n",
    "figure_name = os.path.join(output_fig_dir, f\"{dataset_name}_stree_{min_sup_tree}_{metric}_{info_i}_tree_all2.pdf\")\n",
    "print(figure_name)\n",
    "\n",
    "\n",
    "from utils_plot import plotDicts\n",
    "\n",
    "plotDicts(info_plot, marker=True, \\\n",
    "          linestyle=lines_style, sizeFig=size_fig, title=\"Highest $\\Delta_{FPR}$\",\n",
    "          xlabel=\"Minimum support s\",  ylabel=\"max $\\Delta_{FPR}$\", labelSize=10.2,\n",
    "          outside=False, color_labels=color_labels, saveFig=True, nameFig = figure_name)"
   ]
  },
  {
   "cell_type": "markdown",
   "id": "specific-emergency",
   "metadata": {
    "ExecuteTime": {
     "end_time": "2022-01-04T11:47:09.321389Z",
     "start_time": "2022-01-04T11:47:09.304994Z"
    }
   },
   "source": [
    "# Plot FP"
   ]
  },
  {
   "cell_type": "code",
   "execution_count": 59,
   "id": "speaking-diameter",
   "metadata": {
    "ExecuteTime": {
     "end_time": "2022-01-22T11:12:07.659243Z",
     "start_time": "2022-01-22T11:12:06.674614Z"
    }
   },
   "outputs": [
    {
     "name": "stdout",
     "output_type": "stream",
     "text": [
      "./output/figures/output_performance/adult_income_stree_0.1_d_outcome_FP_tree_all2.pdf\n"
     ]
    },
    {
     "data": {
      "image/png": "[encoded data removed]",
      "text/plain": [
       "<Figure size 380x400 with 1 Axes>"
      ]
     },
     "metadata": {},
     "output_type": "display_data"
    }
   ],
   "source": [
    "info_i = \"FP\"\n",
    "\n",
    "color_labels = {}\n",
    "color_labels[abbreviateValue('entropy_one_at_time Leaf', abbreviations)]=\"#7fcc7f\"\n",
    "color_labels[abbreviateValue('weighted_sum_abs_reference_s_one_at_time Leaf', abbreviations)]=\"#009900\"\n",
    "\n",
    "\n",
    "color_labels[abbreviateValue('entropy_one_at_time All', abbreviations)]=\"mediumblue\"\n",
    "color_labels[abbreviateValue('weighted_sum_abs_reference_s_one_at_time All', abbreviations)]=\"orangered\"\n",
    "color_labels[abbreviateValue('entropy_all_attributes All', abbreviations)]=\"royalblue\"\n",
    "color_labels[abbreviateValue('weighted_sum_abs_reference_s_all_attributes All', abbreviations)]=\"orange\"\n",
    "\n",
    "lines_style = {k:\"-\" for k in color_labels}\n",
    "lines_style.update({k:\"--\" for k in color_labels if( \"Leaf\" in k and \"entr\" in k)})\n",
    "lines_style.update({k:\"-.\" for k in color_labels if( \"Leaf\" in k and \"w$\\\\Delta$\" in k)})\n",
    "\n",
    "\n",
    "\n",
    "size_fig = (3.8,4)\n",
    "\n",
    "\n",
    "info_plot = {}\n",
    "for type_gen in type_gens:\n",
    "    for type_criterion in type_criterions:\n",
    "        info_plot.update({abbreviateValue(f\"{type_criterion}_{type_exp}_{label_names_2[type_gen]}\", abbreviations):v for type_exp, v in info_tree[type_criterion][info_i][type_gen].items() if v})\n",
    "\n",
    "        \n",
    "figure_name = os.path.join(output_fig_dir, f\"{dataset_name}_stree_{min_sup_tree}_{metric}_{info_i}_tree_all2.pdf\")\n",
    "print(figure_name)\n",
    "\n",
    "    \n",
    "from utils_plot import plotDicts\n",
    "\n",
    "plotDicts(info_plot,  marker=True, \\\n",
    "          linestyle=lines_style, title=\"Number of frequent patterns\",\n",
    "          xlabel=\"Minimum support s\",  ylabel=\"#FP\",\n",
    "          yscale=\"log\", sizeFig=size_fig, labelSize=10.2,\n",
    "          outside=False, color_labels=color_labels, borderpad=0.05, saveFig=True, nameFig = figure_name)"
   ]
  }
 ],
 "metadata": {
  "hide_input": false,
  "kernelspec": {
   "display_name": "Python 3",
   "language": "python",
   "name": "python3"
  },
  "language_info": {
   "codemirror_mode": {
    "name": "ipython",
    "version": 3
   },
   "file_extension": ".py",
   "mimetype": "text/x-python",
   "name": "python",
   "nbconvert_exporter": "python",
   "pygments_lexer": "ipython3",
   "version": "3.7.9"
  },
  "toc": {
   "base_numbering": 1,
   "nav_menu": {},
   "number_sections": true,
   "sideBar": true,
   "skip_h1_title": false,
   "title_cell": "Table of Contents",
   "title_sidebar": "Contents",
   "toc_cell": false,
   "toc_position": {
    "height": "calc(100% - 180px)",
    "left": "10px",
    "top": "150px",
    "width": "396px"
   },
   "toc_section_display": true,
   "toc_window_display": true
  },
  "varInspector": {
   "cols": {
    "lenName": 16,
    "lenType": 16,
    "lenVar": 40
   },
   "kernels_config": {
    "python": {
     "delete_cmd_postfix": "",
     "delete_cmd_prefix": "del ",
     "library": "var_list.py",
     "varRefreshCmd": "print(var_dic_list())"
    },
    "r": {
     "delete_cmd_postfix": ") ",
     "delete_cmd_prefix": "rm(",
     "library": "var_list.r",
     "varRefreshCmd": "cat(var_dic_list()) "
    }
   },
   "types_to_exclude": [
    "module",
    "function",
    "builtin_function_or_method",
    "instance",
    "_Feature"
   ],
   "window_display": false
  }
 },
 "nbformat": 4,
 "nbformat_minor": 5
}
