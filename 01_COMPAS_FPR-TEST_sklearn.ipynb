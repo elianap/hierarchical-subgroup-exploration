{
 "cells": [
  {
   "cell_type": "code",
   "execution_count": 1,
   "id": "46fdcc75",
   "metadata": {
    "ExecuteTime": {
     "end_time": "2022-01-22T08:43:06.679146Z",
     "start_time": "2022-01-22T08:43:06.660468Z"
    }
   },
   "outputs": [],
   "source": [
    "%load_ext autoreload\n",
    "%autoreload 2"
   ]
  },
  {
   "cell_type": "code",
   "execution_count": 2,
   "id": "ea0472d0",
   "metadata": {},
   "outputs": [],
   "source": [
    "import pandas as pd\n",
    "import numpy as np\n",
    "\n",
    "pd.set_option(\"display.max_colwidth\", None)"
   ]
  },
  {
   "cell_type": "code",
   "execution_count": 3,
   "id": "bb1913af",
   "metadata": {
    "ExecuteTime": {
     "end_time": "2022-01-22T08:43:07.091756Z",
     "start_time": "2022-01-22T08:43:07.078862Z"
    }
   },
   "outputs": [],
   "source": [
    "#out = {}\n",
    "out_support = {}"
   ]
  },
  {
   "cell_type": "code",
   "execution_count": 4,
   "id": "ddf5e70a",
   "metadata": {
    "ExecuteTime": {
     "end_time": "2022-01-22T08:43:07.118618Z",
     "start_time": "2022-01-22T08:43:07.109128Z"
    }
   },
   "outputs": [],
   "source": [
    "COL_info_detail = [\"itemsets\", \"support\", \"tn\", \"fp\", \"fn\", \"tp\"]\n",
    "\n",
    "COL_info = [\"itemsets\", \"support\"]"
   ]
  },
  {
   "cell_type": "markdown",
   "id": "bea0d75b",
   "metadata": {},
   "source": [
    "# Parameters"
   ]
  },
  {
   "cell_type": "code",
   "execution_count": 5,
   "id": "0b68edc0",
   "metadata": {
    "ExecuteTime": {
     "end_time": "2022-01-22T08:43:07.140720Z",
     "start_time": "2022-01-22T08:43:07.120438Z"
    }
   },
   "outputs": [],
   "source": [
    "K=3\n",
    "\n",
    "metric = \"d_fpr\"\n",
    "t_value_col = \"t_value_fp\"\n",
    "\n",
    "min_sup_divergence=0.05"
   ]
  },
  {
   "cell_type": "code",
   "execution_count": 6,
   "id": "4620f703",
   "metadata": {
    "ExecuteTime": {
     "end_time": "2022-01-22T08:43:07.162157Z",
     "start_time": "2022-01-22T08:43:07.143268Z"
    }
   },
   "outputs": [],
   "source": [
    "name_output_dir = \"output_compas\""
   ]
  },
  {
   "cell_type": "code",
   "execution_count": 7,
   "id": "db7a88e1",
   "metadata": {
    "ExecuteTime": {
     "end_time": "2022-01-22T08:43:07.183479Z",
     "start_time": "2022-01-22T08:43:07.164963Z"
    }
   },
   "outputs": [],
   "source": [
    "saveFig = False\n",
    "show_fig = False"
   ]
  },
  {
   "cell_type": "markdown",
   "id": "15cff3c3",
   "metadata": {},
   "source": [
    "# Dataset"
   ]
  },
  {
   "cell_type": "code",
   "execution_count": 8,
   "id": "72affc73",
   "metadata": {
    "ExecuteTime": {
     "end_time": "2022-01-22T08:43:07.435967Z",
     "start_time": "2022-01-22T08:43:07.186047Z"
    }
   },
   "outputs": [
    {
     "data": {
      "text/html": [
       "<div>\n",
       "<style scoped>\n",
       "    .dataframe tbody tr th:only-of-type {\n",
       "        vertical-align: middle;\n",
       "    }\n",
       "\n",
       "    .dataframe tbody tr th {\n",
       "        vertical-align: top;\n",
       "    }\n",
       "\n",
       "    .dataframe thead th {\n",
       "        text-align: right;\n",
       "    }\n",
       "</style>\n",
       "<table border=\"1\" class=\"dataframe\">\n",
       "  <thead>\n",
       "    <tr style=\"text-align: right;\">\n",
       "      <th></th>\n",
       "      <th>c_charge_degree</th>\n",
       "      <th>race</th>\n",
       "      <th>sex</th>\n",
       "      <th>age</th>\n",
       "      <th>priors_count</th>\n",
       "      <th>length_of_stay</th>\n",
       "      <th>class</th>\n",
       "      <th>predicted</th>\n",
       "    </tr>\n",
       "  </thead>\n",
       "  <tbody>\n",
       "    <tr>\n",
       "      <th>0</th>\n",
       "      <td>F</td>\n",
       "      <td>Other</td>\n",
       "      <td>Male</td>\n",
       "      <td>69</td>\n",
       "      <td>0</td>\n",
       "      <td>1.0</td>\n",
       "      <td>0</td>\n",
       "      <td>0</td>\n",
       "    </tr>\n",
       "    <tr>\n",
       "      <th>1</th>\n",
       "      <td>F</td>\n",
       "      <td>African-American</td>\n",
       "      <td>Male</td>\n",
       "      <td>34</td>\n",
       "      <td>0</td>\n",
       "      <td>10.0</td>\n",
       "      <td>1</td>\n",
       "      <td>0</td>\n",
       "    </tr>\n",
       "    <tr>\n",
       "      <th>2</th>\n",
       "      <td>F</td>\n",
       "      <td>African-American</td>\n",
       "      <td>Male</td>\n",
       "      <td>24</td>\n",
       "      <td>4</td>\n",
       "      <td>1.0</td>\n",
       "      <td>1</td>\n",
       "      <td>0</td>\n",
       "    </tr>\n",
       "    <tr>\n",
       "      <th>3</th>\n",
       "      <td>M</td>\n",
       "      <td>Other</td>\n",
       "      <td>Male</td>\n",
       "      <td>44</td>\n",
       "      <td>0</td>\n",
       "      <td>1.0</td>\n",
       "      <td>0</td>\n",
       "      <td>0</td>\n",
       "    </tr>\n",
       "    <tr>\n",
       "      <th>4</th>\n",
       "      <td>F</td>\n",
       "      <td>Caucasian</td>\n",
       "      <td>Male</td>\n",
       "      <td>41</td>\n",
       "      <td>14</td>\n",
       "      <td>6.0</td>\n",
       "      <td>1</td>\n",
       "      <td>0</td>\n",
       "    </tr>\n",
       "  </tbody>\n",
       "</table>\n",
       "</div>"
      ],
      "text/plain": [
       "  c_charge_degree              race   sex  age  priors_count  length_of_stay  \\\n",
       "0               F             Other  Male   69             0             1.0   \n",
       "1               F  African-American  Male   34             0            10.0   \n",
       "2               F  African-American  Male   24             4             1.0   \n",
       "3               M             Other  Male   44             0             1.0   \n",
       "4               F         Caucasian  Male   41            14             6.0   \n",
       "\n",
       "   class  predicted  \n",
       "0      0          0  \n",
       "1      1          0  \n",
       "2      1          0  \n",
       "3      0          0  \n",
       "4      1          0  "
      ]
     },
     "execution_count": 8,
     "metadata": {},
     "output_type": "execute_result"
    }
   ],
   "source": [
    "abbreviations = {\n",
    "    \"age_cat\": \"age\",\n",
    "    \"priors_count\": \"#prior\",\n",
    "    \"Greater than 45\": \">45\",\n",
    "    \"25 - 45\": \"25-45\",\n",
    "    \"African-American\": \"Afr-Am\",\n",
    "    \"c_charge_degree\": \"charge\",\n",
    "    \"Less than 25\": \"<25\",\n",
    "    \"=>\": \">\",\n",
    "    \"=<\": \"<\",\n",
    "    \"length_of_stay\": \"stay\",\n",
    "    \"Caucasian\": \"Cauc\",\n",
    "}\n",
    "\n",
    "dataset_name = \"compas\"\n",
    "risk_class_type = True\n",
    "\n",
    "from import_datasets import import_process_compas\n",
    "\n",
    "dfI, class_map = import_process_compas(\n",
    "    risk_class=risk_class_type, continuous_col=True\n",
    ")\n",
    "dfI.reset_index(drop=True, inplace=True)\n",
    "\n",
    "dfI[\"predicted\"] = dfI[\"predicted\"].replace({\"Medium-Low\": 0, \"High\": 1})\n",
    "true_class_name, pred_class_name = \"class\", \"predicted\"\n",
    "class_and_pred_names = [true_class_name, pred_class_name]\n",
    "attributes = list(dfI.columns.drop(class_and_pred_names))\n",
    "\n",
    "dfI = dfI[attributes + class_and_pred_names]\n",
    "dfI.head()"
   ]
  },
  {
   "cell_type": "markdown",
   "id": "aa13828a",
   "metadata": {},
   "source": [
    "# Tree divergence - error"
   ]
  },
  {
   "cell_type": "code",
   "execution_count": 375,
   "id": "7afbd8f9",
   "metadata": {
    "ExecuteTime": {
     "end_time": "2022-01-22T08:43:09.448385Z",
     "start_time": "2022-01-22T08:43:09.435884Z"
    }
   },
   "outputs": [],
   "source": [
    "min_support_tree = 0.1"
   ]
  },
  {
   "cell_type": "code",
   "execution_count": 376,
   "id": "4cb578fa",
   "metadata": {
    "ExecuteTime": {
     "end_time": "2022-01-22T08:43:09.488526Z",
     "start_time": "2022-01-22T08:43:09.468955Z"
    }
   },
   "outputs": [],
   "source": [
    "import os\n",
    "\n",
    "\n",
    "tree_outputdir = os.path.join(\".\", \"output\", \"figures\", \"compas\", \"tree\")\n",
    "if saveFig:\n",
    "    from pathlib import Path\n",
    "\n",
    "    Path(tree_outputdir).mkdir(parents=True, exist_ok=True)"
   ]
  },
  {
   "cell_type": "code",
   "execution_count": 377,
   "id": "c410d546",
   "metadata": {
    "ExecuteTime": {
     "end_time": "2022-01-22T08:43:09.508568Z",
     "start_time": "2022-01-22T08:43:09.491159Z"
    }
   },
   "outputs": [],
   "source": [
    "cols_c = [\"class\", \"predicted\"]\n",
    "continuous_attributes = [\"priors_count\", \"length_of_stay\", \"age\"]"
   ]
  },
  {
   "cell_type": "code",
   "execution_count": 378,
   "id": "f9fd6165",
   "metadata": {
    "ExecuteTime": {
     "end_time": "2022-01-22T08:43:09.529281Z",
     "start_time": "2022-01-22T08:43:09.510751Z"
    }
   },
   "outputs": [],
   "source": [
    "type_experiment = \"one_at_time\""
   ]
  },
  {
   "cell_type": "code",
   "execution_count": 379,
   "id": "00c8f65a",
   "metadata": {},
   "outputs": [],
   "source": [
    "input_attributes = ['priors_count']"
   ]
  },
  {
   "cell_type": "code",
   "execution_count": 69,
   "id": "7c9e7c74",
   "metadata": {
    "ExecuteTime": {
     "end_time": "2022-01-22T08:43:09.551507Z",
     "start_time": "2022-01-22T08:43:09.531694Z"
    }
   },
   "outputs": [],
   "source": [
    "df_analyze = dfI.copy()\n",
    "df_analyze = df_analyze[input_attributes + cols_c]"
   ]
  },
  {
   "cell_type": "markdown",
   "id": "2464af81",
   "metadata": {},
   "source": [
    "## Entropy"
   ]
  },
  {
   "cell_type": "code",
   "execution_count": 380,
   "id": "e67d6a1c",
   "metadata": {},
   "outputs": [
    {
     "data": {
      "text/plain": [
       "('d_error', 0.1)"
      ]
     },
     "execution_count": 380,
     "metadata": {},
     "output_type": "execute_result"
    }
   ],
   "source": [
    "metric = 'd_error'\n",
    "metric, min_support_tree"
   ]
  },
  {
   "cell_type": "code",
   "execution_count": 381,
   "id": "3d6a3a74",
   "metadata": {
    "ExecuteTime": {
     "end_time": "2022-01-22T08:43:09.694041Z",
     "start_time": "2022-01-22T08:43:09.553786Z"
    }
   },
   "outputs": [],
   "source": [
    "from tree_discretization import TreeDiscretization\n",
    "\n",
    "tree_discr = TreeDiscretization()\n",
    "\n",
    "# ## Extract tree\n",
    "generalization_dict, discretizations = tree_discr.get_tree_discretization(\n",
    "    df_analyze,\n",
    "    type_splitting=type_experiment,\n",
    "    min_support=min_support_tree,\n",
    "    metric=metric,\n",
    "    class_map=class_map,\n",
    "    continuous_attributes=input_attributes,\n",
    "    class_and_pred_names=cols_c,\n",
    "    storeTree=True,\n",
    "    type_criterion='entropy', #type_criterion,\n",
    "    minimal_gain = None\n",
    ")"
   ]
  },
  {
   "cell_type": "code",
   "execution_count": 382,
   "id": "4096f5b7",
   "metadata": {},
   "outputs": [
    {
     "data": {
      "text/plain": [
       "{'priors_count': {'[1-2]': '>=1',\n",
       "  '1': '[1-2]',\n",
       "  '2': '[1-2]',\n",
       "  '>=3': '>=1',\n",
       "  '[3-8]': '>=3',\n",
       "  '[3-4]': '[3-8]',\n",
       "  '[5-8]': '[3-8]',\n",
       "  '>=9': '>=3'}}"
      ]
     },
     "execution_count": 382,
     "metadata": {},
     "output_type": "execute_result"
    }
   ],
   "source": [
    "generalization_dict"
   ]
  },
  {
   "cell_type": "code",
   "execution_count": 383,
   "id": "4ec64e28",
   "metadata": {},
   "outputs": [],
   "source": [
    "tree1 = tree_discr.trees['priors_count']\n",
    "tree_df = tree1.get_hierarchy_DF()"
   ]
  },
  {
   "cell_type": "code",
   "execution_count": 384,
   "id": "83ab4386",
   "metadata": {},
   "outputs": [
    {
     "data": {
      "text/plain": [
       "<TreeDivergence.Node at 0x7fed1888beb0>"
      ]
     },
     "execution_count": 384,
     "metadata": {},
     "output_type": "execute_result"
    }
   ],
   "source": [
    "tree1.tree"
   ]
  },
  {
   "cell_type": "code",
   "execution_count": 385,
   "id": "001b8778",
   "metadata": {},
   "outputs": [],
   "source": [
    "tree_df = []\n",
    "tree1.node_get_hierarchy_DF(tree1.tree, tree_df, parent_node_names=[])"
   ]
  },
  {
   "cell_type": "code",
   "execution_count": 386,
   "id": "b9bf2b1a",
   "metadata": {},
   "outputs": [
    {
     "data": {
      "text/plain": [
       "[{'attribute': 'priors_count',\n",
       "  'parent': [],\n",
       "  'parent_node_name_all_attrs': [('root', {})],\n",
       "  'parent_node_name': frozenset(),\n",
       "  'itemset': frozenset({'priors_count<=0'}),\n",
       "  'itemset_short': ['priors_count<=0'],\n",
       "  'itemset_name': '<=0',\n",
       "  'hasChild': False,\n",
       "  'rels': ['<='],\n",
       "  'vals': [0],\n",
       "  'level': 0},\n",
       " {'attribute': 'priors_count',\n",
       "  'parent': [],\n",
       "  'parent_node_name_all_attrs': [('root', {})],\n",
       "  'parent_node_name': frozenset(),\n",
       "  'itemset': frozenset({'priors_count>=1'}),\n",
       "  'itemset_short': ['priors_count>=1'],\n",
       "  'itemset_name': '>=1',\n",
       "  'hasChild': True,\n",
       "  'rels': ['>='],\n",
       "  'vals': [1],\n",
       "  'level': 0},\n",
       " {'attribute': 'priors_count',\n",
       "  'parent': ['priors_count>=1'],\n",
       "  'parent_node_name_all_attrs': [('root', {}), ('priors_count', '>=1')],\n",
       "  'parent_node_name': '>=1',\n",
       "  'itemset': frozenset({'priors_count<=2', 'priors_count>=1'}),\n",
       "  'itemset_short': ['priors_count=[1-2]'],\n",
       "  'itemset_name': '[1-2]',\n",
       "  'hasChild': True,\n",
       "  'rels': ['>=', '<='],\n",
       "  'vals': [1, 2],\n",
       "  'level': 1},\n",
       " {'attribute': 'priors_count',\n",
       "  'parent': ['priors_count>=1', 'priors_count<=2'],\n",
       "  'parent_node_name_all_attrs': [('root', {}), ('priors_count', '[1-2]')],\n",
       "  'parent_node_name': '[1-2]',\n",
       "  'itemset': frozenset({'priors_count<=1',\n",
       "             'priors_count<=2',\n",
       "             'priors_count>=1'}),\n",
       "  'itemset_short': ['priors_count=1'],\n",
       "  'itemset_name': '1',\n",
       "  'hasChild': False,\n",
       "  'rels': ['='],\n",
       "  'vals': [1],\n",
       "  'level': 2},\n",
       " {'attribute': 'priors_count',\n",
       "  'parent': ['priors_count>=1', 'priors_count<=2'],\n",
       "  'parent_node_name_all_attrs': [('root', {}), ('priors_count', '[1-2]')],\n",
       "  'parent_node_name': '[1-2]',\n",
       "  'itemset': frozenset({'priors_count<=2',\n",
       "             'priors_count>=1',\n",
       "             'priors_count>=2'}),\n",
       "  'itemset_short': ['priors_count=2'],\n",
       "  'itemset_name': '2',\n",
       "  'hasChild': False,\n",
       "  'rels': ['='],\n",
       "  'vals': [2],\n",
       "  'level': 2},\n",
       " {'attribute': 'priors_count',\n",
       "  'parent': ['priors_count>=1'],\n",
       "  'parent_node_name_all_attrs': [('root', {}), ('priors_count', '>=1')],\n",
       "  'parent_node_name': '>=1',\n",
       "  'itemset': frozenset({'priors_count>=1', 'priors_count>=3'}),\n",
       "  'itemset_short': ['priors_count>=3'],\n",
       "  'itemset_name': '>=3',\n",
       "  'hasChild': True,\n",
       "  'rels': ['>='],\n",
       "  'vals': [3],\n",
       "  'level': 1},\n",
       " {'attribute': 'priors_count',\n",
       "  'parent': ['priors_count>=1', 'priors_count>=3'],\n",
       "  'parent_node_name_all_attrs': [('root', {}), ('priors_count', '>=3')],\n",
       "  'parent_node_name': '>=3',\n",
       "  'itemset': frozenset({'priors_count<=8',\n",
       "             'priors_count>=1',\n",
       "             'priors_count>=3'}),\n",
       "  'itemset_short': ['priors_count=[3-8]'],\n",
       "  'itemset_name': '[3-8]',\n",
       "  'hasChild': True,\n",
       "  'rels': ['>=', '<='],\n",
       "  'vals': [3, 8],\n",
       "  'level': 2},\n",
       " {'attribute': 'priors_count',\n",
       "  'parent': ['priors_count>=1', 'priors_count>=3', 'priors_count<=8'],\n",
       "  'parent_node_name_all_attrs': [('root', {}), ('priors_count', '[3-8]')],\n",
       "  'parent_node_name': '[3-8]',\n",
       "  'itemset': frozenset({'priors_count<=4',\n",
       "             'priors_count<=8',\n",
       "             'priors_count>=1',\n",
       "             'priors_count>=3'}),\n",
       "  'itemset_short': ['priors_count=[3-4]'],\n",
       "  'itemset_name': '[3-4]',\n",
       "  'hasChild': False,\n",
       "  'rels': ['>=', '<='],\n",
       "  'vals': [3, 4],\n",
       "  'level': 3},\n",
       " {'attribute': 'priors_count',\n",
       "  'parent': ['priors_count>=1', 'priors_count>=3', 'priors_count<=8'],\n",
       "  'parent_node_name_all_attrs': [('root', {}), ('priors_count', '[3-8]')],\n",
       "  'parent_node_name': '[3-8]',\n",
       "  'itemset': frozenset({'priors_count<=8',\n",
       "             'priors_count>=1',\n",
       "             'priors_count>=3',\n",
       "             'priors_count>=5'}),\n",
       "  'itemset_short': ['priors_count=[5-8]'],\n",
       "  'itemset_name': '[5-8]',\n",
       "  'hasChild': False,\n",
       "  'rels': ['>=', '<='],\n",
       "  'vals': [5, 8],\n",
       "  'level': 3},\n",
       " {'attribute': 'priors_count',\n",
       "  'parent': ['priors_count>=1', 'priors_count>=3'],\n",
       "  'parent_node_name_all_attrs': [('root', {}), ('priors_count', '>=3')],\n",
       "  'parent_node_name': '>=3',\n",
       "  'itemset': frozenset({'priors_count>=1',\n",
       "             'priors_count>=3',\n",
       "             'priors_count>=9'}),\n",
       "  'itemset_short': ['priors_count>=9'],\n",
       "  'itemset_name': '>=9',\n",
       "  'hasChild': False,\n",
       "  'rels': ['>='],\n",
       "  'vals': [9],\n",
       "  'level': 2}]"
      ]
     },
     "execution_count": 386,
     "metadata": {},
     "output_type": "execute_result"
    }
   ],
   "source": [
    "tree_df "
   ]
  },
  {
   "cell_type": "code",
   "execution_count": 387,
   "id": "5594090e",
   "metadata": {
    "scrolled": false
   },
   "outputs": [
    {
     "name": "stdout",
     "output_type": "stream",
     "text": [
      "priors_count\n",
      " root s=1.00 --> d_error=0.00\n",
      "         priors_count<=0 s=0.34 --> d_error=-0.09\n",
      "         priors_count>0 s=0.66 --> d_error=0.05\n",
      "                 priors_count<=2 s=0.29 --> d_error=0.01\n",
      "                         priors_count<=1 s=0.18 --> d_error=-0.00\n",
      "                         priors_count>1 s=0.11 --> d_error=0.03\n",
      "                 priors_count>2 s=0.37 --> d_error=0.08\n",
      "                         priors_count<=8 s=0.25 --> d_error=0.10\n",
      "                                 priors_count<=4 s=0.13 --> d_error=0.09\n",
      "                                 priors_count>4 s=0.13 --> d_error=0.10\n",
      "                         priors_count>8 s=0.11 --> d_error=0.04\n",
      "\n"
     ]
    }
   ],
   "source": [
    "tree_discr.printDiscretizationTrees(round_v =2, show_condition = True)"
   ]
  },
  {
   "cell_type": "markdown",
   "id": "27b6cc9f",
   "metadata": {},
   "source": [
    "## divergence_criterion"
   ]
  },
  {
   "cell_type": "code",
   "execution_count": null,
   "id": "8179996d",
   "metadata": {},
   "outputs": [],
   "source": []
  },
  {
   "cell_type": "code",
   "execution_count": 73,
   "id": "99bc3fa2",
   "metadata": {
    "ExecuteTime": {
     "end_time": "2022-01-22T08:43:09.694041Z",
     "start_time": "2022-01-22T08:43:09.553786Z"
    }
   },
   "outputs": [],
   "source": [
    "from tree_discretization import TreeDiscretization\n",
    "\n",
    "tree_discr = TreeDiscretization()\n",
    "\n",
    "# ## Extract tree\n",
    "generalization_dict, discretizations = tree_discr.get_tree_discretization(\n",
    "    df_analyze,\n",
    "    type_splitting=type_experiment,\n",
    "    min_support=min_support_tree,\n",
    "    metric=metric,\n",
    "    class_map=class_map,\n",
    "    continuous_attributes=input_attributes,\n",
    "    class_and_pred_names=cols_c,\n",
    "    storeTree=True,\n",
    "    type_criterion='divergence_criterion',\n",
    ")"
   ]
  },
  {
   "cell_type": "code",
   "execution_count": 74,
   "id": "c4048dc3",
   "metadata": {
    "scrolled": false
   },
   "outputs": [
    {
     "name": "stdout",
     "output_type": "stream",
     "text": [
      "priors_count\n",
      " root s=1.00 --> d_fpr=0.00\n",
      " {'tn': 3066, 'fp': 297, 'fn': 1962, 'tp': 847}\n",
      " Measure node 0.08831400535236396\n",
      " Criterion value 0.0\n",
      "\n",
      "         priors_count<=3 s=0.71 --> d_fpr=-0.03\n",
      "         {'tn': 2596, 'fp': 165, 'fn': 1292, 'tp': 308}\n",
      "         Measure node 0.05976095617529881\n",
      "         Criterion value 0.02855304917706515\n",
      "        \n",
      "                 priors_count<=0 s=0.34 --> d_fpr=-0.04\n",
      "                 {'tn': 1416, 'fp': 72, 'fn': 498, 'tp': 99}\n",
      "                 Measure node 0.04838709677419355\n",
      "                 Criterion value 0.01137385940110526\n",
      "                \n",
      "                 priors_count>0 s=0.37 --> d_fpr=-0.02\n",
      "                 {'tn': 1180, 'fp': 93, 'fn': 794, 'tp': 209}\n",
      "                 Measure node 0.07305577376276512\n",
      "                 Criterion value 0.013294817587466312\n",
      "                \n",
      "                         priors_count<=1 s=0.18 --> d_fpr=-0.02\n",
      "                         {'tn': 648, 'fp': 49, 'fn': 362, 'tp': 70}\n",
      "                         Measure node 0.0703012912482066\n",
      "                         Criterion value 0.0027544825145585233\n",
      "                        \n",
      "                         priors_count>1 s=0.19 --> d_fpr=-0.01\n",
      "                         {'tn': 532, 'fp': 44, 'fn': 432, 'tp': 139}\n",
      "                         Measure node 0.0763888888888889\n",
      "                         Criterion value 0.0033331151261237757\n",
      "                        \n",
      "         priors_count>3 s=0.29 --> d_fpr=0.13\n",
      "         {'tn': 470, 'fp': 132, 'fn': 670, 'tp': 539}\n",
      "         Measure node 0.21926910299003322\n",
      "         Criterion value 0.13095509763766927\n",
      "        \n",
      "                 priors_count<=8 s=0.18 --> d_fpr=0.07\n",
      "                 {'tn': 364, 'fp': 66, 'fn': 450, 'tp': 222}\n",
      "                 Measure node 0.15348837209302327\n",
      "                 Criterion value 0.06578073089700995\n",
      "                \n",
      "                 priors_count>8 s=0.11 --> d_fpr=0.30\n",
      "                 {'tn': 106, 'fp': 66, 'fn': 220, 'tp': 317}\n",
      "                 Measure node 0.38372093023255816\n",
      "                 Criterion value 0.16445182724252494\n",
      "                \n",
      "\n"
     ]
    }
   ],
   "source": [
    "tree_discr.printDiscretizationTrees(round_v =2, show_condition = True)"
   ]
  },
  {
   "cell_type": "code",
   "execution_count": 116,
   "id": "bbc6c969",
   "metadata": {},
   "outputs": [
    {
     "ename": "ExecutableNotFound",
     "evalue": "failed to execute PosixPath('dot'), make sure the Graphviz executables are on your systems' PATH",
     "output_type": "error",
     "traceback": [
      "\u001b[0;31m---------------------------------------------------------------------------\u001b[0m",
      "\u001b[0;31mFileNotFoundError\u001b[0m                         Traceback (most recent call last)",
      "File \u001b[0;32m~/anaconda3/envs/mainexp/lib/python3.10/site-packages/graphviz/backend/execute.py:79\u001b[0m, in \u001b[0;36mrun_check\u001b[0;34m(cmd, input_lines, encoding, quiet, **kwargs)\u001b[0m\n\u001b[1;32m     78\u001b[0m         kwargs[\u001b[38;5;124m'\u001b[39m\u001b[38;5;124mstdout\u001b[39m\u001b[38;5;124m'\u001b[39m] \u001b[38;5;241m=\u001b[39m kwargs[\u001b[38;5;124m'\u001b[39m\u001b[38;5;124mstderr\u001b[39m\u001b[38;5;124m'\u001b[39m] \u001b[38;5;241m=\u001b[39m subprocess\u001b[38;5;241m.\u001b[39mPIPE\n\u001b[0;32m---> 79\u001b[0m     proc \u001b[38;5;241m=\u001b[39m \u001b[43m_run_input_lines\u001b[49m\u001b[43m(\u001b[49m\u001b[43mcmd\u001b[49m\u001b[43m,\u001b[49m\u001b[43m \u001b[49m\u001b[43minput_lines\u001b[49m\u001b[43m,\u001b[49m\u001b[43m \u001b[49m\u001b[43mkwargs\u001b[49m\u001b[38;5;241;43m=\u001b[39;49m\u001b[43mkwargs\u001b[49m\u001b[43m)\u001b[49m\n\u001b[1;32m     80\u001b[0m \u001b[38;5;28;01melse\u001b[39;00m:\n",
      "File \u001b[0;32m~/anaconda3/envs/mainexp/lib/python3.10/site-packages/graphviz/backend/execute.py:99\u001b[0m, in \u001b[0;36m_run_input_lines\u001b[0;34m(cmd, input_lines, kwargs)\u001b[0m\n\u001b[1;32m     98\u001b[0m \u001b[38;5;28;01mdef\u001b[39;00m \u001b[38;5;21m_run_input_lines\u001b[39m(cmd, input_lines, \u001b[38;5;241m*\u001b[39m, kwargs):\n\u001b[0;32m---> 99\u001b[0m     popen \u001b[38;5;241m=\u001b[39m \u001b[43msubprocess\u001b[49m\u001b[38;5;241;43m.\u001b[39;49m\u001b[43mPopen\u001b[49m\u001b[43m(\u001b[49m\u001b[43mcmd\u001b[49m\u001b[43m,\u001b[49m\u001b[43m \u001b[49m\u001b[43mstdin\u001b[49m\u001b[38;5;241;43m=\u001b[39;49m\u001b[43msubprocess\u001b[49m\u001b[38;5;241;43m.\u001b[39;49m\u001b[43mPIPE\u001b[49m\u001b[43m,\u001b[49m\u001b[43m \u001b[49m\u001b[38;5;241;43m*\u001b[39;49m\u001b[38;5;241;43m*\u001b[39;49m\u001b[43mkwargs\u001b[49m\u001b[43m)\u001b[49m\n\u001b[1;32m    101\u001b[0m     stdin_write \u001b[38;5;241m=\u001b[39m popen\u001b[38;5;241m.\u001b[39mstdin\u001b[38;5;241m.\u001b[39mwrite\n",
      "File \u001b[0;32m~/anaconda3/envs/mainexp/lib/python3.10/subprocess.py:969\u001b[0m, in \u001b[0;36mPopen.__init__\u001b[0;34m(self, args, bufsize, executable, stdin, stdout, stderr, preexec_fn, close_fds, shell, cwd, env, universal_newlines, startupinfo, creationflags, restore_signals, start_new_session, pass_fds, user, group, extra_groups, encoding, errors, text, umask, pipesize)\u001b[0m\n\u001b[1;32m    966\u001b[0m             \u001b[38;5;28mself\u001b[39m\u001b[38;5;241m.\u001b[39mstderr \u001b[38;5;241m=\u001b[39m io\u001b[38;5;241m.\u001b[39mTextIOWrapper(\u001b[38;5;28mself\u001b[39m\u001b[38;5;241m.\u001b[39mstderr,\n\u001b[1;32m    967\u001b[0m                     encoding\u001b[38;5;241m=\u001b[39mencoding, errors\u001b[38;5;241m=\u001b[39merrors)\n\u001b[0;32m--> 969\u001b[0m     \u001b[38;5;28;43mself\u001b[39;49m\u001b[38;5;241;43m.\u001b[39;49m\u001b[43m_execute_child\u001b[49m\u001b[43m(\u001b[49m\u001b[43margs\u001b[49m\u001b[43m,\u001b[49m\u001b[43m \u001b[49m\u001b[43mexecutable\u001b[49m\u001b[43m,\u001b[49m\u001b[43m \u001b[49m\u001b[43mpreexec_fn\u001b[49m\u001b[43m,\u001b[49m\u001b[43m \u001b[49m\u001b[43mclose_fds\u001b[49m\u001b[43m,\u001b[49m\n\u001b[1;32m    970\u001b[0m \u001b[43m                        \u001b[49m\u001b[43mpass_fds\u001b[49m\u001b[43m,\u001b[49m\u001b[43m \u001b[49m\u001b[43mcwd\u001b[49m\u001b[43m,\u001b[49m\u001b[43m \u001b[49m\u001b[43menv\u001b[49m\u001b[43m,\u001b[49m\n\u001b[1;32m    971\u001b[0m \u001b[43m                        \u001b[49m\u001b[43mstartupinfo\u001b[49m\u001b[43m,\u001b[49m\u001b[43m \u001b[49m\u001b[43mcreationflags\u001b[49m\u001b[43m,\u001b[49m\u001b[43m \u001b[49m\u001b[43mshell\u001b[49m\u001b[43m,\u001b[49m\n\u001b[1;32m    972\u001b[0m \u001b[43m                        \u001b[49m\u001b[43mp2cread\u001b[49m\u001b[43m,\u001b[49m\u001b[43m \u001b[49m\u001b[43mp2cwrite\u001b[49m\u001b[43m,\u001b[49m\n\u001b[1;32m    973\u001b[0m \u001b[43m                        \u001b[49m\u001b[43mc2pread\u001b[49m\u001b[43m,\u001b[49m\u001b[43m \u001b[49m\u001b[43mc2pwrite\u001b[49m\u001b[43m,\u001b[49m\n\u001b[1;32m    974\u001b[0m \u001b[43m                        \u001b[49m\u001b[43merrread\u001b[49m\u001b[43m,\u001b[49m\u001b[43m \u001b[49m\u001b[43merrwrite\u001b[49m\u001b[43m,\u001b[49m\n\u001b[1;32m    975\u001b[0m \u001b[43m                        \u001b[49m\u001b[43mrestore_signals\u001b[49m\u001b[43m,\u001b[49m\n\u001b[1;32m    976\u001b[0m \u001b[43m                        \u001b[49m\u001b[43mgid\u001b[49m\u001b[43m,\u001b[49m\u001b[43m \u001b[49m\u001b[43mgids\u001b[49m\u001b[43m,\u001b[49m\u001b[43m \u001b[49m\u001b[43muid\u001b[49m\u001b[43m,\u001b[49m\u001b[43m \u001b[49m\u001b[43mumask\u001b[49m\u001b[43m,\u001b[49m\n\u001b[1;32m    977\u001b[0m \u001b[43m                        \u001b[49m\u001b[43mstart_new_session\u001b[49m\u001b[43m)\u001b[49m\n\u001b[1;32m    978\u001b[0m \u001b[38;5;28;01mexcept\u001b[39;00m:\n\u001b[1;32m    979\u001b[0m     \u001b[38;5;66;03m# Cleanup if the child failed starting.\u001b[39;00m\n",
      "File \u001b[0;32m~/anaconda3/envs/mainexp/lib/python3.10/subprocess.py:1845\u001b[0m, in \u001b[0;36mPopen._execute_child\u001b[0;34m(self, args, executable, preexec_fn, close_fds, pass_fds, cwd, env, startupinfo, creationflags, shell, p2cread, p2cwrite, c2pread, c2pwrite, errread, errwrite, restore_signals, gid, gids, uid, umask, start_new_session)\u001b[0m\n\u001b[1;32m   1844\u001b[0m         err_msg \u001b[38;5;241m=\u001b[39m os\u001b[38;5;241m.\u001b[39mstrerror(errno_num)\n\u001b[0;32m-> 1845\u001b[0m     \u001b[38;5;28;01mraise\u001b[39;00m child_exception_type(errno_num, err_msg, err_filename)\n\u001b[1;32m   1846\u001b[0m \u001b[38;5;28;01mraise\u001b[39;00m child_exception_type(err_msg)\n",
      "\u001b[0;31mFileNotFoundError\u001b[0m: [Errno 2] No such file or directory: PosixPath('dot')",
      "\nThe above exception was the direct cause of the following exception:\n",
      "\u001b[0;31mExecutableNotFound\u001b[0m                        Traceback (most recent call last)",
      "File \u001b[0;32m~/.local/lib/python3.10/site-packages/IPython/core/formatters.py:973\u001b[0m, in \u001b[0;36mMimeBundleFormatter.__call__\u001b[0;34m(self, obj, include, exclude)\u001b[0m\n\u001b[1;32m    970\u001b[0m     method \u001b[38;5;241m=\u001b[39m get_real_method(obj, \u001b[38;5;28mself\u001b[39m\u001b[38;5;241m.\u001b[39mprint_method)\n\u001b[1;32m    972\u001b[0m     \u001b[38;5;28;01mif\u001b[39;00m method \u001b[38;5;129;01mis\u001b[39;00m \u001b[38;5;129;01mnot\u001b[39;00m \u001b[38;5;28;01mNone\u001b[39;00m:\n\u001b[0;32m--> 973\u001b[0m         \u001b[38;5;28;01mreturn\u001b[39;00m \u001b[43mmethod\u001b[49m\u001b[43m(\u001b[49m\u001b[43minclude\u001b[49m\u001b[38;5;241;43m=\u001b[39;49m\u001b[43minclude\u001b[49m\u001b[43m,\u001b[49m\u001b[43m \u001b[49m\u001b[43mexclude\u001b[49m\u001b[38;5;241;43m=\u001b[39;49m\u001b[43mexclude\u001b[49m\u001b[43m)\u001b[49m\n\u001b[1;32m    974\u001b[0m     \u001b[38;5;28;01mreturn\u001b[39;00m \u001b[38;5;28;01mNone\u001b[39;00m\n\u001b[1;32m    975\u001b[0m \u001b[38;5;28;01melse\u001b[39;00m:\n",
      "File \u001b[0;32m~/anaconda3/envs/mainexp/lib/python3.10/site-packages/graphviz/jupyter_integration.py:98\u001b[0m, in \u001b[0;36mJupyterIntegration._repr_mimebundle_\u001b[0;34m(self, include, exclude, **_)\u001b[0m\n\u001b[1;32m     96\u001b[0m include \u001b[38;5;241m=\u001b[39m \u001b[38;5;28mset\u001b[39m(include) \u001b[38;5;28;01mif\u001b[39;00m include \u001b[38;5;129;01mis\u001b[39;00m \u001b[38;5;129;01mnot\u001b[39;00m \u001b[38;5;28;01mNone\u001b[39;00m \u001b[38;5;28;01melse\u001b[39;00m {\u001b[38;5;28mself\u001b[39m\u001b[38;5;241m.\u001b[39m_jupyter_mimetype}\n\u001b[1;32m     97\u001b[0m include \u001b[38;5;241m-\u001b[39m\u001b[38;5;241m=\u001b[39m \u001b[38;5;28mset\u001b[39m(exclude \u001b[38;5;129;01mor\u001b[39;00m [])\n\u001b[0;32m---> 98\u001b[0m \u001b[38;5;28;01mreturn\u001b[39;00m {mimetype: \u001b[38;5;28mgetattr\u001b[39m(\u001b[38;5;28mself\u001b[39m, method_name)()\n\u001b[1;32m     99\u001b[0m         \u001b[38;5;28;01mfor\u001b[39;00m mimetype, method_name \u001b[38;5;129;01min\u001b[39;00m MIME_TYPES\u001b[38;5;241m.\u001b[39mitems()\n\u001b[1;32m    100\u001b[0m         \u001b[38;5;28;01mif\u001b[39;00m mimetype \u001b[38;5;129;01min\u001b[39;00m include}\n",
      "File \u001b[0;32m~/anaconda3/envs/mainexp/lib/python3.10/site-packages/graphviz/jupyter_integration.py:98\u001b[0m, in \u001b[0;36m<dictcomp>\u001b[0;34m(.0)\u001b[0m\n\u001b[1;32m     96\u001b[0m include \u001b[38;5;241m=\u001b[39m \u001b[38;5;28mset\u001b[39m(include) \u001b[38;5;28;01mif\u001b[39;00m include \u001b[38;5;129;01mis\u001b[39;00m \u001b[38;5;129;01mnot\u001b[39;00m \u001b[38;5;28;01mNone\u001b[39;00m \u001b[38;5;28;01melse\u001b[39;00m {\u001b[38;5;28mself\u001b[39m\u001b[38;5;241m.\u001b[39m_jupyter_mimetype}\n\u001b[1;32m     97\u001b[0m include \u001b[38;5;241m-\u001b[39m\u001b[38;5;241m=\u001b[39m \u001b[38;5;28mset\u001b[39m(exclude \u001b[38;5;129;01mor\u001b[39;00m [])\n\u001b[0;32m---> 98\u001b[0m \u001b[38;5;28;01mreturn\u001b[39;00m {mimetype: \u001b[38;5;28;43mgetattr\u001b[39;49m\u001b[43m(\u001b[49m\u001b[38;5;28;43mself\u001b[39;49m\u001b[43m,\u001b[49m\u001b[43m \u001b[49m\u001b[43mmethod_name\u001b[49m\u001b[43m)\u001b[49m\u001b[43m(\u001b[49m\u001b[43m)\u001b[49m\n\u001b[1;32m     99\u001b[0m         \u001b[38;5;28;01mfor\u001b[39;00m mimetype, method_name \u001b[38;5;129;01min\u001b[39;00m MIME_TYPES\u001b[38;5;241m.\u001b[39mitems()\n\u001b[1;32m    100\u001b[0m         \u001b[38;5;28;01mif\u001b[39;00m mimetype \u001b[38;5;129;01min\u001b[39;00m include}\n",
      "File \u001b[0;32m~/anaconda3/envs/mainexp/lib/python3.10/site-packages/graphviz/jupyter_integration.py:112\u001b[0m, in \u001b[0;36mJupyterIntegration._repr_image_svg_xml\u001b[0;34m(self)\u001b[0m\n\u001b[1;32m    110\u001b[0m \u001b[38;5;28;01mdef\u001b[39;00m \u001b[38;5;21m_repr_image_svg_xml\u001b[39m(\u001b[38;5;28mself\u001b[39m) \u001b[38;5;241m-\u001b[39m\u001b[38;5;241m>\u001b[39m \u001b[38;5;28mstr\u001b[39m:\n\u001b[1;32m    111\u001b[0m     \u001b[38;5;124;03m\"\"\"Return the rendered graph as SVG string.\"\"\"\u001b[39;00m\n\u001b[0;32m--> 112\u001b[0m     \u001b[38;5;28;01mreturn\u001b[39;00m \u001b[38;5;28;43mself\u001b[39;49m\u001b[38;5;241;43m.\u001b[39;49m\u001b[43mpipe\u001b[49m\u001b[43m(\u001b[49m\u001b[38;5;28;43mformat\u001b[39;49m\u001b[38;5;241;43m=\u001b[39;49m\u001b[38;5;124;43m'\u001b[39;49m\u001b[38;5;124;43msvg\u001b[39;49m\u001b[38;5;124;43m'\u001b[39;49m\u001b[43m,\u001b[49m\u001b[43m \u001b[49m\u001b[43mencoding\u001b[49m\u001b[38;5;241;43m=\u001b[39;49m\u001b[43mSVG_ENCODING\u001b[49m\u001b[43m)\u001b[49m\n",
      "File \u001b[0;32m~/anaconda3/envs/mainexp/lib/python3.10/site-packages/graphviz/piping.py:104\u001b[0m, in \u001b[0;36mPipe.pipe\u001b[0;34m(self, format, renderer, formatter, neato_no_op, quiet, engine, encoding)\u001b[0m\n\u001b[1;32m     55\u001b[0m \u001b[38;5;28;01mdef\u001b[39;00m \u001b[38;5;21mpipe\u001b[39m(\u001b[38;5;28mself\u001b[39m,\n\u001b[1;32m     56\u001b[0m          \u001b[38;5;28mformat\u001b[39m: typing\u001b[38;5;241m.\u001b[39mOptional[\u001b[38;5;28mstr\u001b[39m] \u001b[38;5;241m=\u001b[39m \u001b[38;5;28;01mNone\u001b[39;00m,\n\u001b[1;32m     57\u001b[0m          renderer: typing\u001b[38;5;241m.\u001b[39mOptional[\u001b[38;5;28mstr\u001b[39m] \u001b[38;5;241m=\u001b[39m \u001b[38;5;28;01mNone\u001b[39;00m,\n\u001b[0;32m   (...)\u001b[0m\n\u001b[1;32m     61\u001b[0m          engine: typing\u001b[38;5;241m.\u001b[39mOptional[\u001b[38;5;28mstr\u001b[39m] \u001b[38;5;241m=\u001b[39m \u001b[38;5;28;01mNone\u001b[39;00m,\n\u001b[1;32m     62\u001b[0m          encoding: typing\u001b[38;5;241m.\u001b[39mOptional[\u001b[38;5;28mstr\u001b[39m] \u001b[38;5;241m=\u001b[39m \u001b[38;5;28;01mNone\u001b[39;00m) \u001b[38;5;241m-\u001b[39m\u001b[38;5;241m>\u001b[39m typing\u001b[38;5;241m.\u001b[39mUnion[\u001b[38;5;28mbytes\u001b[39m, \u001b[38;5;28mstr\u001b[39m]:\n\u001b[1;32m     63\u001b[0m     \u001b[38;5;124;03m\"\"\"Return the source piped through the Graphviz layout command.\u001b[39;00m\n\u001b[1;32m     64\u001b[0m \n\u001b[1;32m     65\u001b[0m \u001b[38;5;124;03m    Args:\u001b[39;00m\n\u001b[0;32m   (...)\u001b[0m\n\u001b[1;32m    102\u001b[0m \u001b[38;5;124;03m        '<?xml version='\u001b[39;00m\n\u001b[1;32m    103\u001b[0m \u001b[38;5;124;03m    \"\"\"\u001b[39;00m\n\u001b[0;32m--> 104\u001b[0m     \u001b[38;5;28;01mreturn\u001b[39;00m \u001b[38;5;28;43mself\u001b[39;49m\u001b[38;5;241;43m.\u001b[39;49m\u001b[43m_pipe_legacy\u001b[49m\u001b[43m(\u001b[49m\u001b[38;5;28;43mformat\u001b[39;49m\u001b[43m,\u001b[49m\n\u001b[1;32m    105\u001b[0m \u001b[43m                             \u001b[49m\u001b[43mrenderer\u001b[49m\u001b[38;5;241;43m=\u001b[39;49m\u001b[43mrenderer\u001b[49m\u001b[43m,\u001b[49m\n\u001b[1;32m    106\u001b[0m \u001b[43m                             \u001b[49m\u001b[43mformatter\u001b[49m\u001b[38;5;241;43m=\u001b[39;49m\u001b[43mformatter\u001b[49m\u001b[43m,\u001b[49m\n\u001b[1;32m    107\u001b[0m \u001b[43m                             \u001b[49m\u001b[43mneato_no_op\u001b[49m\u001b[38;5;241;43m=\u001b[39;49m\u001b[43mneato_no_op\u001b[49m\u001b[43m,\u001b[49m\n\u001b[1;32m    108\u001b[0m \u001b[43m                             \u001b[49m\u001b[43mquiet\u001b[49m\u001b[38;5;241;43m=\u001b[39;49m\u001b[43mquiet\u001b[49m\u001b[43m,\u001b[49m\n\u001b[1;32m    109\u001b[0m \u001b[43m                             \u001b[49m\u001b[43mengine\u001b[49m\u001b[38;5;241;43m=\u001b[39;49m\u001b[43mengine\u001b[49m\u001b[43m,\u001b[49m\n\u001b[1;32m    110\u001b[0m \u001b[43m                             \u001b[49m\u001b[43mencoding\u001b[49m\u001b[38;5;241;43m=\u001b[39;49m\u001b[43mencoding\u001b[49m\u001b[43m)\u001b[49m\n",
      "File \u001b[0;32m~/anaconda3/envs/mainexp/lib/python3.10/site-packages/graphviz/_tools.py:171\u001b[0m, in \u001b[0;36mdeprecate_positional_args.<locals>.decorator.<locals>.wrapper\u001b[0;34m(*args, **kwargs)\u001b[0m\n\u001b[1;32m    162\u001b[0m     wanted \u001b[38;5;241m=\u001b[39m \u001b[38;5;124m'\u001b[39m\u001b[38;5;124m, \u001b[39m\u001b[38;5;124m'\u001b[39m\u001b[38;5;241m.\u001b[39mjoin(\u001b[38;5;124mf\u001b[39m\u001b[38;5;124m'\u001b[39m\u001b[38;5;132;01m{\u001b[39;00mname\u001b[38;5;132;01m}\u001b[39;00m\u001b[38;5;124m=\u001b[39m\u001b[38;5;132;01m{\u001b[39;00mvalue\u001b[38;5;132;01m!r}\u001b[39;00m\u001b[38;5;124m'\u001b[39m\n\u001b[1;32m    163\u001b[0m                        \u001b[38;5;28;01mfor\u001b[39;00m name, value \u001b[38;5;129;01min\u001b[39;00m deprecated\u001b[38;5;241m.\u001b[39mitems())\n\u001b[1;32m    164\u001b[0m     warnings\u001b[38;5;241m.\u001b[39mwarn(\u001b[38;5;124mf\u001b[39m\u001b[38;5;124m'\u001b[39m\u001b[38;5;124mThe signature of \u001b[39m\u001b[38;5;132;01m{\u001b[39;00mfunc\u001b[38;5;241m.\u001b[39m\u001b[38;5;18m__name__\u001b[39m\u001b[38;5;132;01m}\u001b[39;00m\u001b[38;5;124m will be reduced\u001b[39m\u001b[38;5;124m'\u001b[39m\n\u001b[1;32m    165\u001b[0m                   \u001b[38;5;124mf\u001b[39m\u001b[38;5;124m'\u001b[39m\u001b[38;5;124m to \u001b[39m\u001b[38;5;132;01m{\u001b[39;00msupported_number\u001b[38;5;132;01m}\u001b[39;00m\u001b[38;5;124m positional args\u001b[39m\u001b[38;5;124m'\u001b[39m\n\u001b[1;32m    166\u001b[0m                   \u001b[38;5;124mf\u001b[39m\u001b[38;5;124m'\u001b[39m\u001b[38;5;124m \u001b[39m\u001b[38;5;132;01m{\u001b[39;00m\u001b[38;5;28mlist\u001b[39m(supported)\u001b[38;5;132;01m}\u001b[39;00m\u001b[38;5;124m: pass \u001b[39m\u001b[38;5;132;01m{\u001b[39;00mwanted\u001b[38;5;132;01m}\u001b[39;00m\u001b[38;5;124m'\u001b[39m\n\u001b[1;32m    167\u001b[0m                   \u001b[38;5;124m'\u001b[39m\u001b[38;5;124m as keyword arg(s)\u001b[39m\u001b[38;5;124m'\u001b[39m,\n\u001b[1;32m    168\u001b[0m                   stacklevel\u001b[38;5;241m=\u001b[39mstacklevel,\n\u001b[1;32m    169\u001b[0m                   category\u001b[38;5;241m=\u001b[39mcategory)\n\u001b[0;32m--> 171\u001b[0m \u001b[38;5;28;01mreturn\u001b[39;00m \u001b[43mfunc\u001b[49m\u001b[43m(\u001b[49m\u001b[38;5;241;43m*\u001b[39;49m\u001b[43margs\u001b[49m\u001b[43m,\u001b[49m\u001b[43m \u001b[49m\u001b[38;5;241;43m*\u001b[39;49m\u001b[38;5;241;43m*\u001b[39;49m\u001b[43mkwargs\u001b[49m\u001b[43m)\u001b[49m\n",
      "File \u001b[0;32m~/anaconda3/envs/mainexp/lib/python3.10/site-packages/graphviz/piping.py:121\u001b[0m, in \u001b[0;36mPipe._pipe_legacy\u001b[0;34m(self, format, renderer, formatter, neato_no_op, quiet, engine, encoding)\u001b[0m\n\u001b[1;32m    112\u001b[0m \u001b[38;5;129m@_tools\u001b[39m\u001b[38;5;241m.\u001b[39mdeprecate_positional_args(supported_number\u001b[38;5;241m=\u001b[39m\u001b[38;5;241m2\u001b[39m)\n\u001b[1;32m    113\u001b[0m \u001b[38;5;28;01mdef\u001b[39;00m \u001b[38;5;21m_pipe_legacy\u001b[39m(\u001b[38;5;28mself\u001b[39m,\n\u001b[1;32m    114\u001b[0m                  \u001b[38;5;28mformat\u001b[39m: typing\u001b[38;5;241m.\u001b[39mOptional[\u001b[38;5;28mstr\u001b[39m] \u001b[38;5;241m=\u001b[39m \u001b[38;5;28;01mNone\u001b[39;00m,\n\u001b[0;32m   (...)\u001b[0m\n\u001b[1;32m    119\u001b[0m                  engine: typing\u001b[38;5;241m.\u001b[39mOptional[\u001b[38;5;28mstr\u001b[39m] \u001b[38;5;241m=\u001b[39m \u001b[38;5;28;01mNone\u001b[39;00m,\n\u001b[1;32m    120\u001b[0m                  encoding: typing\u001b[38;5;241m.\u001b[39mOptional[\u001b[38;5;28mstr\u001b[39m] \u001b[38;5;241m=\u001b[39m \u001b[38;5;28;01mNone\u001b[39;00m) \u001b[38;5;241m-\u001b[39m\u001b[38;5;241m>\u001b[39m typing\u001b[38;5;241m.\u001b[39mUnion[\u001b[38;5;28mbytes\u001b[39m, \u001b[38;5;28mstr\u001b[39m]:\n\u001b[0;32m--> 121\u001b[0m     \u001b[38;5;28;01mreturn\u001b[39;00m \u001b[38;5;28;43mself\u001b[39;49m\u001b[38;5;241;43m.\u001b[39;49m\u001b[43m_pipe_future\u001b[49m\u001b[43m(\u001b[49m\u001b[38;5;28;43mformat\u001b[39;49m\u001b[43m,\u001b[49m\n\u001b[1;32m    122\u001b[0m \u001b[43m                             \u001b[49m\u001b[43mrenderer\u001b[49m\u001b[38;5;241;43m=\u001b[39;49m\u001b[43mrenderer\u001b[49m\u001b[43m,\u001b[49m\n\u001b[1;32m    123\u001b[0m \u001b[43m                             \u001b[49m\u001b[43mformatter\u001b[49m\u001b[38;5;241;43m=\u001b[39;49m\u001b[43mformatter\u001b[49m\u001b[43m,\u001b[49m\n\u001b[1;32m    124\u001b[0m \u001b[43m                             \u001b[49m\u001b[43mneato_no_op\u001b[49m\u001b[38;5;241;43m=\u001b[39;49m\u001b[43mneato_no_op\u001b[49m\u001b[43m,\u001b[49m\n\u001b[1;32m    125\u001b[0m \u001b[43m                             \u001b[49m\u001b[43mquiet\u001b[49m\u001b[38;5;241;43m=\u001b[39;49m\u001b[43mquiet\u001b[49m\u001b[43m,\u001b[49m\n\u001b[1;32m    126\u001b[0m \u001b[43m                             \u001b[49m\u001b[43mengine\u001b[49m\u001b[38;5;241;43m=\u001b[39;49m\u001b[43mengine\u001b[49m\u001b[43m,\u001b[49m\n\u001b[1;32m    127\u001b[0m \u001b[43m                             \u001b[49m\u001b[43mencoding\u001b[49m\u001b[38;5;241;43m=\u001b[39;49m\u001b[43mencoding\u001b[49m\u001b[43m)\u001b[49m\n",
      "File \u001b[0;32m~/anaconda3/envs/mainexp/lib/python3.10/site-packages/graphviz/piping.py:149\u001b[0m, in \u001b[0;36mPipe._pipe_future\u001b[0;34m(self, format, renderer, formatter, neato_no_op, quiet, engine, encoding)\u001b[0m\n\u001b[1;32m    146\u001b[0m \u001b[38;5;28;01mif\u001b[39;00m encoding \u001b[38;5;129;01mis\u001b[39;00m \u001b[38;5;129;01mnot\u001b[39;00m \u001b[38;5;28;01mNone\u001b[39;00m:\n\u001b[1;32m    147\u001b[0m     \u001b[38;5;28;01mif\u001b[39;00m codecs\u001b[38;5;241m.\u001b[39mlookup(encoding) \u001b[38;5;129;01mis\u001b[39;00m codecs\u001b[38;5;241m.\u001b[39mlookup(\u001b[38;5;28mself\u001b[39m\u001b[38;5;241m.\u001b[39mencoding):\n\u001b[1;32m    148\u001b[0m         \u001b[38;5;66;03m# common case: both stdin and stdout need the same encoding\u001b[39;00m\n\u001b[0;32m--> 149\u001b[0m         \u001b[38;5;28;01mreturn\u001b[39;00m \u001b[38;5;28;43mself\u001b[39;49m\u001b[38;5;241;43m.\u001b[39;49m\u001b[43m_pipe_lines_string\u001b[49m\u001b[43m(\u001b[49m\u001b[38;5;241;43m*\u001b[39;49m\u001b[43margs\u001b[49m\u001b[43m,\u001b[49m\u001b[43m \u001b[49m\u001b[43mencoding\u001b[49m\u001b[38;5;241;43m=\u001b[39;49m\u001b[43mencoding\u001b[49m\u001b[43m,\u001b[49m\u001b[43m \u001b[49m\u001b[38;5;241;43m*\u001b[39;49m\u001b[38;5;241;43m*\u001b[39;49m\u001b[43mkwargs\u001b[49m\u001b[43m)\u001b[49m\n\u001b[1;32m    150\u001b[0m     \u001b[38;5;28;01mtry\u001b[39;00m:\n\u001b[1;32m    151\u001b[0m         raw \u001b[38;5;241m=\u001b[39m \u001b[38;5;28mself\u001b[39m\u001b[38;5;241m.\u001b[39m_pipe_lines(\u001b[38;5;241m*\u001b[39margs, input_encoding\u001b[38;5;241m=\u001b[39m\u001b[38;5;28mself\u001b[39m\u001b[38;5;241m.\u001b[39mencoding, \u001b[38;5;241m*\u001b[39m\u001b[38;5;241m*\u001b[39mkwargs)\n",
      "File \u001b[0;32m~/anaconda3/envs/mainexp/lib/python3.10/site-packages/graphviz/backend/piping.py:212\u001b[0m, in \u001b[0;36mpipe_lines_string\u001b[0;34m(engine, format, input_lines, encoding, renderer, formatter, neato_no_op, quiet)\u001b[0m\n\u001b[1;32m    206\u001b[0m cmd \u001b[38;5;241m=\u001b[39m dot_command\u001b[38;5;241m.\u001b[39mcommand(engine, \u001b[38;5;28mformat\u001b[39m,\n\u001b[1;32m    207\u001b[0m                           renderer\u001b[38;5;241m=\u001b[39mrenderer,\n\u001b[1;32m    208\u001b[0m                           formatter\u001b[38;5;241m=\u001b[39mformatter,\n\u001b[1;32m    209\u001b[0m                           neato_no_op\u001b[38;5;241m=\u001b[39mneato_no_op)\n\u001b[1;32m    210\u001b[0m kwargs \u001b[38;5;241m=\u001b[39m {\u001b[38;5;124m'\u001b[39m\u001b[38;5;124minput_lines\u001b[39m\u001b[38;5;124m'\u001b[39m: input_lines, \u001b[38;5;124m'\u001b[39m\u001b[38;5;124mencoding\u001b[39m\u001b[38;5;124m'\u001b[39m: encoding}\n\u001b[0;32m--> 212\u001b[0m proc \u001b[38;5;241m=\u001b[39m \u001b[43mexecute\u001b[49m\u001b[38;5;241;43m.\u001b[39;49m\u001b[43mrun_check\u001b[49m\u001b[43m(\u001b[49m\u001b[43mcmd\u001b[49m\u001b[43m,\u001b[49m\u001b[43m \u001b[49m\u001b[43mcapture_output\u001b[49m\u001b[38;5;241;43m=\u001b[39;49m\u001b[38;5;28;43;01mTrue\u001b[39;49;00m\u001b[43m,\u001b[49m\u001b[43m \u001b[49m\u001b[43mquiet\u001b[49m\u001b[38;5;241;43m=\u001b[39;49m\u001b[43mquiet\u001b[49m\u001b[43m,\u001b[49m\u001b[43m \u001b[49m\u001b[38;5;241;43m*\u001b[39;49m\u001b[38;5;241;43m*\u001b[39;49m\u001b[43mkwargs\u001b[49m\u001b[43m)\u001b[49m\n\u001b[1;32m    213\u001b[0m \u001b[38;5;28;01mreturn\u001b[39;00m proc\u001b[38;5;241m.\u001b[39mstdout\n",
      "File \u001b[0;32m~/anaconda3/envs/mainexp/lib/python3.10/site-packages/graphviz/backend/execute.py:84\u001b[0m, in \u001b[0;36mrun_check\u001b[0;34m(cmd, input_lines, encoding, quiet, **kwargs)\u001b[0m\n\u001b[1;32m     82\u001b[0m \u001b[38;5;28;01mexcept\u001b[39;00m \u001b[38;5;167;01mOSError\u001b[39;00m \u001b[38;5;28;01mas\u001b[39;00m e:\n\u001b[1;32m     83\u001b[0m     \u001b[38;5;28;01mif\u001b[39;00m e\u001b[38;5;241m.\u001b[39merrno \u001b[38;5;241m==\u001b[39m errno\u001b[38;5;241m.\u001b[39mENOENT:\n\u001b[0;32m---> 84\u001b[0m         \u001b[38;5;28;01mraise\u001b[39;00m ExecutableNotFound(cmd) \u001b[38;5;28;01mfrom\u001b[39;00m \u001b[38;5;21;01me\u001b[39;00m\n\u001b[1;32m     85\u001b[0m     \u001b[38;5;28;01mraise\u001b[39;00m\n\u001b[1;32m     87\u001b[0m \u001b[38;5;28;01mif\u001b[39;00m \u001b[38;5;129;01mnot\u001b[39;00m quiet \u001b[38;5;129;01mand\u001b[39;00m proc\u001b[38;5;241m.\u001b[39mstderr:\n",
      "\u001b[0;31mExecutableNotFound\u001b[0m: failed to execute PosixPath('dot'), make sure the Graphviz executables are on your systems' PATH"
     ]
    },
    {
     "data": {
      "text/plain": [
       "<graphviz.graphs.Digraph at 0x7fed1262cc40>"
      ]
     },
     "execution_count": 116,
     "metadata": {},
     "output_type": "execute_result"
    }
   ],
   "source": [
    "if type(tree_discr.trees) is dict:\n",
    "        dot = {}\n",
    "        for attribute in input_attributes:\n",
    "            dot[attribute] = tree_discr.trees[attribute].visualizeTreeDiGraph(all_info = False)\n",
    "dot[attribute]\n",
    "    "
   ]
  },
  {
   "cell_type": "markdown",
   "id": "9fb7a549",
   "metadata": {},
   "source": [
    "# Sklearn"
   ]
  },
  {
   "cell_type": "code",
   "execution_count": 410,
   "id": "376ca340",
   "metadata": {},
   "outputs": [],
   "source": [
    "from utils_metric_tree import instanceConfusionMatrix\n",
    "\n",
    "\n",
    "data_cm = (\n",
    "    instanceConfusionMatrix(df_analyze, class_map, class_name=true_class_name, pred_name=pred_class_name)\n",
    "    .drop(columns=[true_class_name, pred_class_name])\n",
    "    .copy()\n",
    ")\n",
    "\n",
    "conf_matrix_rows = data_cm[[\"tn\", \"fp\", \"fn\", \"tp\"]]"
   ]
  },
  {
   "cell_type": "code",
   "execution_count": 411,
   "id": "047cac87",
   "metadata": {},
   "outputs": [
    {
     "name": "stdout",
     "output_type": "stream",
     "text": [
      "(6172,) (6172,) (6172, 2)\n"
     ]
    },
    {
     "data": {
      "text/plain": [
       "array([[0, 1],\n",
       "       [1, 0],\n",
       "       [1, 0],\n",
       "       ...,\n",
       "       [0, 1],\n",
       "       [0, 1],\n",
       "       [1, 0]])"
      ]
     },
     "execution_count": 411,
     "metadata": {},
     "output_type": "execute_result"
    }
   ],
   "source": [
    "cols_orderTP_dict={\"tn\": 0, \"fp\": 1, \"fn\": 2, \"tp\": 3}\n",
    "\n",
    "num_v = [\"fp\", \"fn\"]\n",
    "den_v = [\"tn\", 'tp']\n",
    "\n",
    "\n",
    "conf_m = conf_matrix_rows.values\n",
    "\n",
    "\n",
    "num_i = [cols_orderTP_dict[k] for k in num_v]\n",
    "den_i = [cols_orderTP_dict[k] for k in den_v]\n",
    "\n",
    "conf_m = conf_matrix_rows.values\n",
    "\n",
    "numerator = np.sum(conf_m[:, num_i], axis=1)\n",
    "denominator = np.sum(conf_m[:, den_i], axis=1)\n",
    "\n",
    "num_dem = np.vstack([numerator, denominator])\n",
    "\n",
    "print(numerator.shape, denominator.shape, num_dem.T.shape)\n",
    "\n",
    "y = num_dem.T\n",
    "\n",
    "y"
   ]
  },
  {
   "cell_type": "code",
   "execution_count": 412,
   "id": "9033fd3d",
   "metadata": {},
   "outputs": [
    {
     "name": "stdout",
     "output_type": "stream",
     "text": [
      "aaaa\n",
      "Fit\n",
      "[2 2] 2 [array([0, 1]), array([0, 1])]\n"
     ]
    },
    {
     "data": {
      "text/plain": [
       "0.004059791564941406"
      ]
     },
     "execution_count": 412,
     "metadata": {},
     "output_type": "execute_result"
    }
   ],
   "source": [
    "from discretization_tree_sklearn import DecisionTreeClassifierDiscretization\n",
    "\n",
    "X = df_analyze[input_attributes]\n",
    "\n",
    "import time\n",
    "s_time =time.time()\n",
    "clf = DecisionTreeClassifierDiscretization(criterion = 'divergence', \\\n",
    "                                           min_samples_leaf =int(0.1*len(df_analyze)),\n",
    "                                          min_impurity_decrease = -0.012)\n",
    "clf = clf.fit(X, num_dem.T, outcome_f=None)\n",
    "e_time = time.time()\n",
    "e_time - s_time"
   ]
  },
  {
   "cell_type": "code",
   "execution_count": 413,
   "id": "5681d3ea",
   "metadata": {},
   "outputs": [
    {
     "data": {
      "image/png": "[encoded data removed]",
      "text/plain": [
       "<Figure size 720x720 with 1 Axes>"
      ]
     },
     "metadata": {
      "needs_background": "light"
     },
     "output_type": "display_data"
    }
   ],
   "source": [
    "from sklearn import tree\n",
    "import matplotlib.pyplot as plt\n",
    "\n",
    "plt.subplots(figsize = (10,10))\n",
    "tree.plot_tree(clf, feature_names=['priors_count'], precision = 0)\n",
    "plt.show()"
   ]
  },
  {
   "cell_type": "markdown",
   "id": "0648efcf",
   "metadata": {},
   "source": [
    "# Generalized"
   ]
  },
  {
   "cell_type": "code",
   "execution_count": 392,
   "id": "9fb369d4",
   "metadata": {},
   "outputs": [],
   "source": [
    "from divexplorer_generalized.FP_Divergence import FP_Divergence"
   ]
  },
  {
   "cell_type": "code",
   "execution_count": 393,
   "id": "1ac39d89",
   "metadata": {},
   "outputs": [
    {
     "data": {
      "text/plain": [
       "{'priors_count': {'<=0': {'rels': ['<='], 'vals': [0]},\n",
       "  '1': {'rels': ['='], 'vals': [1]},\n",
       "  '2': {'rels': ['='], 'vals': [2]},\n",
       "  '[3-4]': {'rels': ['>=', '<='], 'vals': [3, 4]},\n",
       "  '[5-8]': {'rels': ['>=', '<='], 'vals': [5, 8]},\n",
       "  '>=9': {'rels': ['>='], 'vals': [9]}}}"
      ]
     },
     "execution_count": 393,
     "metadata": {},
     "output_type": "execute_result"
    }
   ],
   "source": [
    "discretizations"
   ]
  },
  {
   "cell_type": "code",
   "execution_count": 394,
   "id": "04aea52a",
   "metadata": {},
   "outputs": [
    {
     "data": {
      "text/plain": [
       "{'priors_count': {'[1-2]': '>=1',\n",
       "  '1': '[1-2]',\n",
       "  '2': '[1-2]',\n",
       "  '>=3': '>=1',\n",
       "  '[3-8]': '>=3',\n",
       "  '[3-4]': '[3-8]',\n",
       "  '[5-8]': '[3-8]',\n",
       "  '>=9': '>=3'}}"
      ]
     },
     "execution_count": 394,
     "metadata": {},
     "output_type": "execute_result"
    }
   ],
   "source": [
    "generalization_dict"
   ]
  },
  {
   "cell_type": "code",
   "execution_count": 396,
   "id": "72b142f2",
   "metadata": {},
   "outputs": [
    {
     "name": "stderr",
     "output_type": "stream",
     "text": [
      "/Users/eliana/Projects/dev/hierarchical-subgroup-exploration/utils_hierarchy.py:80: FutureWarning: In a future version of pandas all arguments of DataFrame.any and Series.any will be keyword-only.\n",
      "  X_one_hot_extend[X_one_hot_extend.columns[list(id_cols)]].any(1).astype(int)\n",
      "/Users/eliana/Projects/dev/hierarchical-subgroup-exploration/utils_hierarchy.py:80: FutureWarning: In a future version of pandas all arguments of DataFrame.any and Series.any will be keyword-only.\n",
      "  X_one_hot_extend[X_one_hot_extend.columns[list(id_cols)]].any(1).astype(int)\n",
      "/Users/eliana/Projects/dev/hierarchical-subgroup-exploration/utils_hierarchy.py:80: FutureWarning: In a future version of pandas all arguments of DataFrame.any and Series.any will be keyword-only.\n",
      "  X_one_hot_extend[X_one_hot_extend.columns[list(id_cols)]].any(1).astype(int)\n",
      "/Users/eliana/Projects/dev/hierarchical-subgroup-exploration/utils_hierarchy.py:80: FutureWarning: In a future version of pandas all arguments of DataFrame.any and Series.any will be keyword-only.\n",
      "  X_one_hot_extend[X_one_hot_extend.columns[list(id_cols)]].any(1).astype(int)\n",
      "/Users/eliana/Projects/dev/hierarchical-subgroup-exploration/divexplorer_generalized/FP_DivergenceExplorer.py:550: FutureWarning: The frame.append method is deprecated and will be removed from pandas in a future version. Use pandas.concat instead.\n",
      "  fp = fp.append(row_root, ignore_index=True)\n"
     ]
    }
   ],
   "source": [
    "from utils_extract_divergence_generalized import (\n",
    "    extract_divergence_generalized,\n",
    ")\n",
    "\n",
    "min_sup_divergence = 0.05\n",
    "\n",
    "FP_fm = extract_divergence_generalized(\n",
    "    dfI[input_attributes+['race']+cols_c],\n",
    "    discretizations,\n",
    "    generalization_dict,\n",
    "    continuous_attributes,\n",
    "    min_sup_divergence=min_sup_divergence,\n",
    "    apply_generalization=True,\n",
    "    true_class_name=true_class_name,\n",
    "    predicted_class_name=pred_class_name,\n",
    "    class_map=class_map,\n",
    "    metrics_divergence = [\"d_error\"],\n",
    "    FPM_type=\"fpgrowth\",\n",
    ")\n",
    "    \n",
    "fp_divergence_i = FP_Divergence(FP_fm, metric=metric)"
   ]
  },
  {
   "cell_type": "code",
   "execution_count": 397,
   "id": "79e8830f",
   "metadata": {},
   "outputs": [
    {
     "data": {
      "text/html": [
       "<div>\n",
       "<style scoped>\n",
       "    .dataframe tbody tr th:only-of-type {\n",
       "        vertical-align: middle;\n",
       "    }\n",
       "\n",
       "    .dataframe tbody tr th {\n",
       "        vertical-align: top;\n",
       "    }\n",
       "\n",
       "    .dataframe thead th {\n",
       "        text-align: right;\n",
       "    }\n",
       "</style>\n",
       "<table border=\"1\" class=\"dataframe\">\n",
       "  <thead>\n",
       "    <tr style=\"text-align: right;\">\n",
       "      <th></th>\n",
       "      <th>support</th>\n",
       "      <th>itemsets</th>\n",
       "      <th>tn</th>\n",
       "      <th>fp</th>\n",
       "      <th>fn</th>\n",
       "      <th>tp</th>\n",
       "      <th>length</th>\n",
       "      <th>support_count</th>\n",
       "      <th>error</th>\n",
       "      <th>d_error</th>\n",
       "      <th>t_value_fp_fn</th>\n",
       "    </tr>\n",
       "  </thead>\n",
       "  <tbody>\n",
       "    <tr>\n",
       "      <th>21</th>\n",
       "      <td>0.099482</td>\n",
       "      <td>(race=Caucasian, priors_count=&gt;=3)</td>\n",
       "      <td>227</td>\n",
       "      <td>27</td>\n",
       "      <td>260</td>\n",
       "      <td>100</td>\n",
       "      <td>2</td>\n",
       "      <td>614.0</td>\n",
       "      <td>0.467427</td>\n",
       "      <td>0.101419</td>\n",
       "      <td>4.832124</td>\n",
       "    </tr>\n",
       "    <tr>\n",
       "      <th>16</th>\n",
       "      <td>0.127187</td>\n",
       "      <td>(priors_count=[5-8])</td>\n",
       "      <td>249</td>\n",
       "      <td>45</td>\n",
       "      <td>320</td>\n",
       "      <td>171</td>\n",
       "      <td>1</td>\n",
       "      <td>785.0</td>\n",
       "      <td>0.464968</td>\n",
       "      <td>0.098960</td>\n",
       "      <td>5.267397</td>\n",
       "    </tr>\n",
       "    <tr>\n",
       "      <th>26</th>\n",
       "      <td>0.077933</td>\n",
       "      <td>(priors_count=[3-8], race=Caucasian)</td>\n",
       "      <td>200</td>\n",
       "      <td>20</td>\n",
       "      <td>203</td>\n",
       "      <td>58</td>\n",
       "      <td>2</td>\n",
       "      <td>481.0</td>\n",
       "      <td>0.463617</td>\n",
       "      <td>0.097610</td>\n",
       "      <td>4.161383</td>\n",
       "    </tr>\n",
       "    <tr>\n",
       "      <th>8</th>\n",
       "      <td>0.254051</td>\n",
       "      <td>(priors_count=[3-8])</td>\n",
       "      <td>558</td>\n",
       "      <td>83</td>\n",
       "      <td>642</td>\n",
       "      <td>285</td>\n",
       "      <td>1</td>\n",
       "      <td>1568.0</td>\n",
       "      <td>0.462372</td>\n",
       "      <td>0.096365</td>\n",
       "      <td>6.886755</td>\n",
       "    </tr>\n",
       "    <tr>\n",
       "      <th>17</th>\n",
       "      <td>0.126863</td>\n",
       "      <td>(priors_count=[3-4])</td>\n",
       "      <td>309</td>\n",
       "      <td>38</td>\n",
       "      <td>322</td>\n",
       "      <td>114</td>\n",
       "      <td>1</td>\n",
       "      <td>783.0</td>\n",
       "      <td>0.459770</td>\n",
       "      <td>0.093762</td>\n",
       "      <td>4.989388</td>\n",
       "    </tr>\n",
       "    <tr>\n",
       "      <th>27</th>\n",
       "      <td>0.069994</td>\n",
       "      <td>(priors_count=[3-4], race=African-American)</td>\n",
       "      <td>156</td>\n",
       "      <td>26</td>\n",
       "      <td>171</td>\n",
       "      <td>79</td>\n",
       "      <td>2</td>\n",
       "      <td>432.0</td>\n",
       "      <td>0.456019</td>\n",
       "      <td>0.090011</td>\n",
       "      <td>3.657217</td>\n",
       "    </tr>\n",
       "    <tr>\n",
       "      <th>12</th>\n",
       "      <td>0.150356</td>\n",
       "      <td>(priors_count=[3-8], race=African-American)</td>\n",
       "      <td>303</td>\n",
       "      <td>57</td>\n",
       "      <td>359</td>\n",
       "      <td>209</td>\n",
       "      <td>2</td>\n",
       "      <td>928.0</td>\n",
       "      <td>0.448276</td>\n",
       "      <td>0.082268</td>\n",
       "      <td>4.728145</td>\n",
       "    </tr>\n",
       "    <tr>\n",
       "      <th>4</th>\n",
       "      <td>0.368924</td>\n",
       "      <td>(priors_count=&gt;=3)</td>\n",
       "      <td>664</td>\n",
       "      <td>149</td>\n",
       "      <td>862</td>\n",
       "      <td>602</td>\n",
       "      <td>1</td>\n",
       "      <td>2277.0</td>\n",
       "      <td>0.444005</td>\n",
       "      <td>0.077997</td>\n",
       "      <td>6.458767</td>\n",
       "    </tr>\n",
       "    <tr>\n",
       "      <th>25</th>\n",
       "      <td>0.080363</td>\n",
       "      <td>(priors_count=[5-8], race=African-American)</td>\n",
       "      <td>147</td>\n",
       "      <td>31</td>\n",
       "      <td>188</td>\n",
       "      <td>130</td>\n",
       "      <td>2</td>\n",
       "      <td>496.0</td>\n",
       "      <td>0.441532</td>\n",
       "      <td>0.075524</td>\n",
       "      <td>3.283359</td>\n",
       "    </tr>\n",
       "    <tr>\n",
       "      <th>9</th>\n",
       "      <td>0.236714</td>\n",
       "      <td>(priors_count=&gt;=3, race=African-American)</td>\n",
       "      <td>371</td>\n",
       "      <td>113</td>\n",
       "      <td>508</td>\n",
       "      <td>469</td>\n",
       "      <td>2</td>\n",
       "      <td>1461.0</td>\n",
       "      <td>0.425051</td>\n",
       "      <td>0.059044</td>\n",
       "      <td>4.132759</td>\n",
       "    </tr>\n",
       "    <tr>\n",
       "      <th>1</th>\n",
       "      <td>0.662184</td>\n",
       "      <td>(priors_count=&gt;=1)</td>\n",
       "      <td>1650</td>\n",
       "      <td>225</td>\n",
       "      <td>1464</td>\n",
       "      <td>748</td>\n",
       "      <td>1</td>\n",
       "      <td>4087.0</td>\n",
       "      <td>0.413262</td>\n",
       "      <td>0.047254</td>\n",
       "      <td>4.801083</td>\n",
       "    </tr>\n",
       "    <tr>\n",
       "      <th>3</th>\n",
       "      <td>0.377349</td>\n",
       "      <td>(priors_count=&gt;=1, race=African-American)</td>\n",
       "      <td>794</td>\n",
       "      <td>162</td>\n",
       "      <td>800</td>\n",
       "      <td>573</td>\n",
       "      <td>2</td>\n",
       "      <td>2329.0</td>\n",
       "      <td>0.413053</td>\n",
       "      <td>0.047045</td>\n",
       "      <td>3.956851</td>\n",
       "    </tr>\n",
       "    <tr>\n",
       "      <th>10</th>\n",
       "      <td>0.207712</td>\n",
       "      <td>(priors_count=&gt;=1, race=Caucasian)</td>\n",
       "      <td>626</td>\n",
       "      <td>45</td>\n",
       "      <td>481</td>\n",
       "      <td>130</td>\n",
       "      <td>2</td>\n",
       "      <td>1282.0</td>\n",
       "      <td>0.410296</td>\n",
       "      <td>0.044289</td>\n",
       "      <td>2.953161</td>\n",
       "    </tr>\n",
       "    <tr>\n",
       "      <th>30</th>\n",
       "      <td>0.052657</td>\n",
       "      <td>(priors_count=2, race=African-American)</td>\n",
       "      <td>142</td>\n",
       "      <td>17</td>\n",
       "      <td>115</td>\n",
       "      <td>51</td>\n",
       "      <td>2</td>\n",
       "      <td>325.0</td>\n",
       "      <td>0.406154</td>\n",
       "      <td>0.040146</td>\n",
       "      <td>1.462799</td>\n",
       "    </tr>\n",
       "    <tr>\n",
       "      <th>18</th>\n",
       "      <td>0.114874</td>\n",
       "      <td>(priors_count=&gt;=9)</td>\n",
       "      <td>106</td>\n",
       "      <td>66</td>\n",
       "      <td>220</td>\n",
       "      <td>317</td>\n",
       "      <td>1</td>\n",
       "      <td>709.0</td>\n",
       "      <td>0.403385</td>\n",
       "      <td>0.037377</td>\n",
       "      <td>1.940221</td>\n",
       "    </tr>\n",
       "    <tr>\n",
       "      <th>13</th>\n",
       "      <td>0.140635</td>\n",
       "      <td>(priors_count=[1-2], race=African-American)</td>\n",
       "      <td>423</td>\n",
       "      <td>49</td>\n",
       "      <td>292</td>\n",
       "      <td>104</td>\n",
       "      <td>2</td>\n",
       "      <td>868.0</td>\n",
       "      <td>0.392857</td>\n",
       "      <td>0.026849</td>\n",
       "      <td>1.532793</td>\n",
       "    </tr>\n",
       "    <tr>\n",
       "      <th>19</th>\n",
       "      <td>0.110337</td>\n",
       "      <td>(priors_count=2)</td>\n",
       "      <td>338</td>\n",
       "      <td>27</td>\n",
       "      <td>240</td>\n",
       "      <td>76</td>\n",
       "      <td>1</td>\n",
       "      <td>681.0</td>\n",
       "      <td>0.392070</td>\n",
       "      <td>0.026063</td>\n",
       "      <td>1.340180</td>\n",
       "    </tr>\n",
       "    <tr>\n",
       "      <th>2</th>\n",
       "      <td>0.514420</td>\n",
       "      <td>(race=African-American)</td>\n",
       "      <td>1303</td>\n",
       "      <td>211</td>\n",
       "      <td>1027</td>\n",
       "      <td>634</td>\n",
       "      <td>1</td>\n",
       "      <td>3175.0</td>\n",
       "      <td>0.389921</td>\n",
       "      <td>0.023913</td>\n",
       "      <td>2.257649</td>\n",
       "    </tr>\n",
       "    <tr>\n",
       "      <th>22</th>\n",
       "      <td>0.087978</td>\n",
       "      <td>(priors_count=1, race=African-American)</td>\n",
       "      <td>281</td>\n",
       "      <td>32</td>\n",
       "      <td>177</td>\n",
       "      <td>53</td>\n",
       "      <td>2</td>\n",
       "      <td>543.0</td>\n",
       "      <td>0.384899</td>\n",
       "      <td>0.018891</td>\n",
       "      <td>0.887563</td>\n",
       "    </tr>\n",
       "    <tr>\n",
       "      <th>23</th>\n",
       "      <td>0.086358</td>\n",
       "      <td>(priors_count=&gt;=9, race=African-American)</td>\n",
       "      <td>68</td>\n",
       "      <td>56</td>\n",
       "      <td>149</td>\n",
       "      <td>260</td>\n",
       "      <td>2</td>\n",
       "      <td>533.0</td>\n",
       "      <td>0.384615</td>\n",
       "      <td>0.018608</td>\n",
       "      <td>0.867617</td>\n",
       "    </tr>\n",
       "    <tr>\n",
       "      <th>7</th>\n",
       "      <td>0.293260</td>\n",
       "      <td>(priors_count=[1-2])</td>\n",
       "      <td>986</td>\n",
       "      <td>76</td>\n",
       "      <td>602</td>\n",
       "      <td>146</td>\n",
       "      <td>1</td>\n",
       "      <td>1810.0</td>\n",
       "      <td>0.374586</td>\n",
       "      <td>0.008578</td>\n",
       "      <td>0.671496</td>\n",
       "    </tr>\n",
       "    <tr>\n",
       "      <th>0</th>\n",
       "      <td>1.000000</td>\n",
       "      <td>()</td>\n",
       "      <td>3066</td>\n",
       "      <td>297</td>\n",
       "      <td>1962</td>\n",
       "      <td>847</td>\n",
       "      <td>0</td>\n",
       "      <td>6172.0</td>\n",
       "      <td>0.366008</td>\n",
       "      <td>0.000000</td>\n",
       "      <td>0.000000</td>\n",
       "    </tr>\n",
       "    <tr>\n",
       "      <th>11</th>\n",
       "      <td>0.182923</td>\n",
       "      <td>(priors_count=1)</td>\n",
       "      <td>648</td>\n",
       "      <td>49</td>\n",
       "      <td>362</td>\n",
       "      <td>70</td>\n",
       "      <td>1</td>\n",
       "      <td>1129.0</td>\n",
       "      <td>0.364039</td>\n",
       "      <td>-0.001969</td>\n",
       "      <td>0.113858</td>\n",
       "    </tr>\n",
       "    <tr>\n",
       "      <th>20</th>\n",
       "      <td>0.108231</td>\n",
       "      <td>(priors_count=[1-2], race=Caucasian)</td>\n",
       "      <td>399</td>\n",
       "      <td>18</td>\n",
       "      <td>221</td>\n",
       "      <td>30</td>\n",
       "      <td>2</td>\n",
       "      <td>668.0</td>\n",
       "      <td>0.357784</td>\n",
       "      <td>-0.008223</td>\n",
       "      <td>0.402194</td>\n",
       "    </tr>\n",
       "    <tr>\n",
       "      <th>24</th>\n",
       "      <td>0.082469</td>\n",
       "      <td>(race=Hispanic)</td>\n",
       "      <td>300</td>\n",
       "      <td>20</td>\n",
       "      <td>162</td>\n",
       "      <td>27</td>\n",
       "      <td>1</td>\n",
       "      <td>509.0</td>\n",
       "      <td>0.357564</td>\n",
       "      <td>-0.008444</td>\n",
       "      <td>0.359504</td>\n",
       "    </tr>\n",
       "    <tr>\n",
       "      <th>28</th>\n",
       "      <td>0.066429</td>\n",
       "      <td>(priors_count=1, race=Caucasian)</td>\n",
       "      <td>254</td>\n",
       "      <td>11</td>\n",
       "      <td>133</td>\n",
       "      <td>12</td>\n",
       "      <td>2</td>\n",
       "      <td>410.0</td>\n",
       "      <td>0.351220</td>\n",
       "      <td>-0.014788</td>\n",
       "      <td>0.580960</td>\n",
       "    </tr>\n",
       "    <tr>\n",
       "      <th>5</th>\n",
       "      <td>0.340732</td>\n",
       "      <td>(race=Caucasian)</td>\n",
       "      <td>1220</td>\n",
       "      <td>61</td>\n",
       "      <td>660</td>\n",
       "      <td>162</td>\n",
       "      <td>1</td>\n",
       "      <td>2103.0</td>\n",
       "      <td>0.342844</td>\n",
       "      <td>-0.023164</td>\n",
       "      <td>1.917645</td>\n",
       "    </tr>\n",
       "    <tr>\n",
       "      <th>14</th>\n",
       "      <td>0.137071</td>\n",
       "      <td>(priors_count=&lt;=0, race=African-American)</td>\n",
       "      <td>509</td>\n",
       "      <td>49</td>\n",
       "      <td>227</td>\n",
       "      <td>61</td>\n",
       "      <td>2</td>\n",
       "      <td>846.0</td>\n",
       "      <td>0.326241</td>\n",
       "      <td>-0.039767</td>\n",
       "      <td>2.287583</td>\n",
       "    </tr>\n",
       "    <tr>\n",
       "      <th>29</th>\n",
       "      <td>0.055574</td>\n",
       "      <td>(race=Other)</td>\n",
       "      <td>216</td>\n",
       "      <td>3</td>\n",
       "      <td>105</td>\n",
       "      <td>19</td>\n",
       "      <td>1</td>\n",
       "      <td>343.0</td>\n",
       "      <td>0.314869</td>\n",
       "      <td>-0.051139</td>\n",
       "      <td>1.947236</td>\n",
       "    </tr>\n",
       "    <tr>\n",
       "      <th>6</th>\n",
       "      <td>0.337816</td>\n",
       "      <td>(priors_count=&lt;=0)</td>\n",
       "      <td>1416</td>\n",
       "      <td>72</td>\n",
       "      <td>498</td>\n",
       "      <td>99</td>\n",
       "      <td>1</td>\n",
       "      <td>2085.0</td>\n",
       "      <td>0.273381</td>\n",
       "      <td>-0.092626</td>\n",
       "      <td>8.023810</td>\n",
       "    </tr>\n",
       "    <tr>\n",
       "      <th>15</th>\n",
       "      <td>0.133020</td>\n",
       "      <td>(priors_count=&lt;=0, race=Caucasian)</td>\n",
       "      <td>594</td>\n",
       "      <td>16</td>\n",
       "      <td>179</td>\n",
       "      <td>32</td>\n",
       "      <td>2</td>\n",
       "      <td>821.0</td>\n",
       "      <td>0.237515</td>\n",
       "      <td>-0.128493</td>\n",
       "      <td>7.966142</td>\n",
       "    </tr>\n",
       "  </tbody>\n",
       "</table>\n",
       "</div>"
      ],
      "text/plain": [
       "     support                                     itemsets    tn   fp    fn  \\\n",
       "21  0.099482           (race=Caucasian, priors_count=>=3)   227   27   260   \n",
       "16  0.127187                         (priors_count=[5-8])   249   45   320   \n",
       "26  0.077933         (priors_count=[3-8], race=Caucasian)   200   20   203   \n",
       "8   0.254051                         (priors_count=[3-8])   558   83   642   \n",
       "17  0.126863                         (priors_count=[3-4])   309   38   322   \n",
       "27  0.069994  (priors_count=[3-4], race=African-American)   156   26   171   \n",
       "12  0.150356  (priors_count=[3-8], race=African-American)   303   57   359   \n",
       "4   0.368924                           (priors_count=>=3)   664  149   862   \n",
       "25  0.080363  (priors_count=[5-8], race=African-American)   147   31   188   \n",
       "9   0.236714    (priors_count=>=3, race=African-American)   371  113   508   \n",
       "1   0.662184                           (priors_count=>=1)  1650  225  1464   \n",
       "3   0.377349    (priors_count=>=1, race=African-American)   794  162   800   \n",
       "10  0.207712           (priors_count=>=1, race=Caucasian)   626   45   481   \n",
       "30  0.052657      (priors_count=2, race=African-American)   142   17   115   \n",
       "18  0.114874                           (priors_count=>=9)   106   66   220   \n",
       "13  0.140635  (priors_count=[1-2], race=African-American)   423   49   292   \n",
       "19  0.110337                             (priors_count=2)   338   27   240   \n",
       "2   0.514420                      (race=African-American)  1303  211  1027   \n",
       "22  0.087978      (priors_count=1, race=African-American)   281   32   177   \n",
       "23  0.086358    (priors_count=>=9, race=African-American)    68   56   149   \n",
       "7   0.293260                         (priors_count=[1-2])   986   76   602   \n",
       "0   1.000000                                           ()  3066  297  1962   \n",
       "11  0.182923                             (priors_count=1)   648   49   362   \n",
       "20  0.108231         (priors_count=[1-2], race=Caucasian)   399   18   221   \n",
       "24  0.082469                              (race=Hispanic)   300   20   162   \n",
       "28  0.066429             (priors_count=1, race=Caucasian)   254   11   133   \n",
       "5   0.340732                             (race=Caucasian)  1220   61   660   \n",
       "14  0.137071    (priors_count=<=0, race=African-American)   509   49   227   \n",
       "29  0.055574                                 (race=Other)   216    3   105   \n",
       "6   0.337816                           (priors_count=<=0)  1416   72   498   \n",
       "15  0.133020           (priors_count=<=0, race=Caucasian)   594   16   179   \n",
       "\n",
       "     tp  length  support_count     error   d_error  t_value_fp_fn  \n",
       "21  100       2          614.0  0.467427  0.101419       4.832124  \n",
       "16  171       1          785.0  0.464968  0.098960       5.267397  \n",
       "26   58       2          481.0  0.463617  0.097610       4.161383  \n",
       "8   285       1         1568.0  0.462372  0.096365       6.886755  \n",
       "17  114       1          783.0  0.459770  0.093762       4.989388  \n",
       "27   79       2          432.0  0.456019  0.090011       3.657217  \n",
       "12  209       2          928.0  0.448276  0.082268       4.728145  \n",
       "4   602       1         2277.0  0.444005  0.077997       6.458767  \n",
       "25  130       2          496.0  0.441532  0.075524       3.283359  \n",
       "9   469       2         1461.0  0.425051  0.059044       4.132759  \n",
       "1   748       1         4087.0  0.413262  0.047254       4.801083  \n",
       "3   573       2         2329.0  0.413053  0.047045       3.956851  \n",
       "10  130       2         1282.0  0.410296  0.044289       2.953161  \n",
       "30   51       2          325.0  0.406154  0.040146       1.462799  \n",
       "18  317       1          709.0  0.403385  0.037377       1.940221  \n",
       "13  104       2          868.0  0.392857  0.026849       1.532793  \n",
       "19   76       1          681.0  0.392070  0.026063       1.340180  \n",
       "2   634       1         3175.0  0.389921  0.023913       2.257649  \n",
       "22   53       2          543.0  0.384899  0.018891       0.887563  \n",
       "23  260       2          533.0  0.384615  0.018608       0.867617  \n",
       "7   146       1         1810.0  0.374586  0.008578       0.671496  \n",
       "0   847       0         6172.0  0.366008  0.000000       0.000000  \n",
       "11   70       1         1129.0  0.364039 -0.001969       0.113858  \n",
       "20   30       2          668.0  0.357784 -0.008223       0.402194  \n",
       "24   27       1          509.0  0.357564 -0.008444       0.359504  \n",
       "28   12       2          410.0  0.351220 -0.014788       0.580960  \n",
       "5   162       1         2103.0  0.342844 -0.023164       1.917645  \n",
       "14   61       2          846.0  0.326241 -0.039767       2.287583  \n",
       "29   19       1          343.0  0.314869 -0.051139       1.947236  \n",
       "6    99       1         2085.0  0.273381 -0.092626       8.023810  \n",
       "15   32       2          821.0  0.237515 -0.128493       7.966142  "
      ]
     },
     "execution_count": 397,
     "metadata": {},
     "output_type": "execute_result"
    }
   ],
   "source": [
    "fp_divergence_i.getDivergence(th_redundancy=0).sort_values(\n",
    "        [fp_divergence_i.metric, fp_divergence_i.t_value_col], ascending=False\n",
    "    )"
   ]
  },
  {
   "cell_type": "markdown",
   "id": "50930c16",
   "metadata": {},
   "source": [
    "# Convert"
   ]
  },
  {
   "cell_type": "code",
   "execution_count": 398,
   "id": "7d55c7e3",
   "metadata": {},
   "outputs": [
    {
     "data": {
      "text/plain": [
       "{'priors_count': {'[1-2]': '>=1',\n",
       "  '1': '[1-2]',\n",
       "  '2': '[1-2]',\n",
       "  '>=3': '>=1',\n",
       "  '[3-8]': '>=3',\n",
       "  '[3-4]': '[3-8]',\n",
       "  '[5-8]': '[3-8]',\n",
       "  '>=9': '>=3'}}"
      ]
     },
     "execution_count": 398,
     "metadata": {},
     "output_type": "execute_result"
    }
   ],
   "source": [
    "generalization_dict"
   ]
  },
  {
   "cell_type": "code",
   "execution_count": 414,
   "id": "5f5fc2a9",
   "metadata": {},
   "outputs": [
    {
     "data": {
      "image/png": "[encoded data removed]",
      "text/plain": [
       "<Figure size 720x720 with 1 Axes>"
      ]
     },
     "metadata": {
      "needs_background": "light"
     },
     "output_type": "display_data"
    }
   ],
   "source": [
    "from sklearn import tree\n",
    "import matplotlib.pyplot as plt\n",
    "\n",
    "plt.subplots(figsize = (10,10))\n",
    "tree.plot_tree(clf, feature_names=['priors_count'], precision = 2)\n",
    "plt.show()"
   ]
  },
  {
   "cell_type": "code",
   "execution_count": 415,
   "id": "2fdc565f",
   "metadata": {},
   "outputs": [
    {
     "name": "stdout",
     "output_type": "stream",
     "text": [
      "|--- priors <= 0.50\n",
      "|   |--- value: [570.00, 0.00]\n",
      "|--- priors >  0.50\n",
      "|   |--- priors <= 2.50\n",
      "|   |   |--- priors <= 1.50\n",
      "|   |   |   |--- value: [411.00, 0.00]\n",
      "|   |   |--- priors >  1.50\n",
      "|   |   |   |--- value: [267.00, 0.00]\n",
      "|   |--- priors >  2.50\n",
      "|   |   |--- priors <= 8.50\n",
      "|   |   |   |--- priors <= 4.50\n",
      "|   |   |   |   |--- value: [360.00, 0.00]\n",
      "|   |   |   |--- priors >  4.50\n",
      "|   |   |   |   |--- value: [365.00, 0.00]\n",
      "|   |   |--- priors >  8.50\n",
      "|   |   |   |--- value: [286.00, 0.00]\n",
      "\n"
     ]
    }
   ],
   "source": [
    "import sklearn\n",
    "print(sklearn.tree.export_text(clf, feature_names=['priors']))"
   ]
  },
  {
   "cell_type": "code",
   "execution_count": 402,
   "id": "e4ffa237",
   "metadata": {},
   "outputs": [],
   "source": [
    "attr = \"root\"\n",
    "val = \"\"\n",
    "rel = \"\"\n",
    "\n",
    "dataset_len = X.shape[0]\n",
    "\n",
    "\n",
    "\n",
    "node_divergence = -1\n",
    "node_size = clftree.n_node_samples[0]\n",
    "support = clftree.n_node_samples[0] / dataset_len\n",
    "    \n",
    "confusion_matrix = None\n",
    "node_criterion = clftree.impurity[0]\n",
    "node_support_ratio = node_size / parent_size\n",
    "    \n",
    "        \n"
   ]
  },
  {
   "cell_type": "code",
   "execution_count": 403,
   "id": "4d27d3af",
   "metadata": {},
   "outputs": [],
   "source": [
    "tree1 = tree_discr.trees['priors_count']\n",
    "\n"
   ]
  },
  {
   "cell_type": "code",
   "execution_count": null,
   "id": "d1c5aea7",
   "metadata": {},
   "outputs": [],
   "source": []
  },
  {
   "cell_type": "code",
   "execution_count": 405,
   "id": "95077cf3",
   "metadata": {},
   "outputs": [
    {
     "data": {
      "image/png": "[encoded data removed]",
      "text/plain": [
       "<Figure size 720x720 with 1 Axes>"
      ]
     },
     "metadata": {
      "needs_background": "light"
     },
     "output_type": "display_data"
    }
   ],
   "source": [
    "from sklearn import tree\n",
    "import matplotlib.pyplot as plt\n",
    "\n",
    "plt.subplots(figsize = (10,10))\n",
    "tree.plot_tree(clf, feature_names=['priors_count'], precision = 2)\n",
    "plt.show()"
   ]
  },
  {
   "cell_type": "code",
   "execution_count": 421,
   "id": "4ae86d54",
   "metadata": {},
   "outputs": [],
   "source": [
    "from utils_sklearn_convert import build_tree"
   ]
  },
  {
   "cell_type": "code",
   "execution_count": 442,
   "id": "e5b2e2a8",
   "metadata": {
    "scrolled": true
   },
   "outputs": [
    {
     "name": "stdout",
     "output_type": "stream",
     "text": [
      "|--- root   s: 1.00 Impurity: 0.95 Size_ratio: 1.00 \tdiv 0.00\n",
      "|   |--- prior <= 0.00 s: 0.34 Impurity: 0.85 Size_ratio: 0.34 \tdiv -0.09\n",
      "|   |--- prior > 0.00 s: 0.66 Impurity: 0.98 Size_ratio: 0.66 \tdiv 0.05\n",
      "|   |   |--- prior <= 2.00 s: 0.29 Impurity: 0.95 Size_ratio: 0.44 \tdiv 0.01\n",
      "|   |   |   |--- prior <= 1.00 s: 0.18 Impurity: 0.95 Size_ratio: 0.62 \tdiv -0.00\n",
      "|   |   |   |--- prior > 1.00 s: 0.11 Impurity: 0.97 Size_ratio: 0.38 \tdiv 0.03\n",
      "|   |   |--- prior > 2.00 s: 0.37 Impurity: 0.99 Size_ratio: 0.56 \tdiv 0.08\n",
      "|   |   |   |--- prior <= 8.00 s: 0.25 Impurity: 1.00 Size_ratio: 0.69 \tdiv 0.10\n",
      "|   |   |   |   |--- prior <= 4.00 s: 0.13 Impurity: 1.00 Size_ratio: 0.50 \tdiv 0.09\n",
      "|   |   |   |   |--- prior > 4.00 s: 0.13 Impurity: 1.00 Size_ratio: 0.50 \tdiv 0.10\n",
      "|   |   |   |--- prior > 8.00 s: 0.11 Impurity: 0.97 Size_ratio: 0.31 \tdiv 0.04\n"
     ]
    }
   ],
   "source": [
    "clftree = clf.tree_\n",
    "\n",
    "mytree = build_tree(clftree, 'prior', is_integer=True, verbose=True)"
   ]
  },
  {
   "cell_type": "code",
   "execution_count": 443,
   "id": "0ba6eef0",
   "metadata": {},
   "outputs": [
    {
     "name": "stdout",
     "output_type": "stream",
     "text": [
      " root s=1.00 --> None=0.00\n",
      "         prior<=0 s=0.34 --> None=-0.09\n",
      "         prior>0 s=0.66 --> None=0.05\n",
      "                 prior<=2 s=0.29 --> None=0.01\n",
      "                         prior<=1 s=0.18 --> None=-0.00\n",
      "                         prior>1 s=0.11 --> None=0.03\n",
      "                 prior>2 s=0.37 --> None=0.08\n",
      "                         prior<=8 s=0.25 --> None=0.10\n",
      "                                 prior<=4 s=0.13 --> None=0.09\n",
      "                                 prior>4 s=0.13 --> None=0.10\n",
      "                         prior>8 s=0.11 --> None=0.04\n"
     ]
    }
   ],
   "source": [
    "td.printTree(tree = mytree, round_v =2, show_condition = True)"
   ]
  },
  {
   "cell_type": "code",
   "execution_count": 444,
   "id": "cf8af88e",
   "metadata": {},
   "outputs": [
    {
     "name": "stdout",
     "output_type": "stream",
     "text": [
      " root s=1.00 --> d_error=0.00\n",
      "         priors_count<=0 s=0.34 --> d_error=-0.09\n",
      "         priors_count>0 s=0.66 --> d_error=0.05\n",
      "                 priors_count<=2 s=0.29 --> d_error=0.01\n",
      "                         priors_count<=1 s=0.18 --> d_error=-0.00\n",
      "                         priors_count>1 s=0.11 --> d_error=0.03\n",
      "                 priors_count>2 s=0.37 --> d_error=0.08\n",
      "                         priors_count<=8 s=0.25 --> d_error=0.10\n",
      "                                 priors_count<=4 s=0.13 --> d_error=0.09\n",
      "                                 priors_count>4 s=0.13 --> d_error=0.10\n",
      "                         priors_count>8 s=0.11 --> d_error=0.04\n"
     ]
    }
   ],
   "source": [
    "tree1 = tree_discr.trees['priors_count']\n",
    "\n",
    "tree1.printTree(tree = tree1.tree, round_v =2, show_condition = True)"
   ]
  },
  {
   "cell_type": "code",
   "execution_count": 447,
   "id": "026b998b",
   "metadata": {},
   "outputs": [
    {
     "data": {
      "text/html": [
       "<div>\n",
       "<style scoped>\n",
       "    .dataframe tbody tr th:only-of-type {\n",
       "        vertical-align: middle;\n",
       "    }\n",
       "\n",
       "    .dataframe tbody tr th {\n",
       "        vertical-align: top;\n",
       "    }\n",
       "\n",
       "    .dataframe thead th {\n",
       "        text-align: right;\n",
       "    }\n",
       "</style>\n",
       "<table border=\"1\" class=\"dataframe\">\n",
       "  <thead>\n",
       "    <tr style=\"text-align: right;\">\n",
       "      <th></th>\n",
       "      <th>attribute</th>\n",
       "      <th>itemset_name</th>\n",
       "      <th>parent_node_name</th>\n",
       "      <th>parent_node_name_all_attrs</th>\n",
       "      <th>rels</th>\n",
       "      <th>vals</th>\n",
       "      <th>level</th>\n",
       "    </tr>\n",
       "  </thead>\n",
       "  <tbody>\n",
       "    <tr>\n",
       "      <th>0</th>\n",
       "      <td>prior</td>\n",
       "      <td>&lt;=0</td>\n",
       "      <td>()</td>\n",
       "      <td>[(root, {})]</td>\n",
       "      <td>[&lt;=]</td>\n",
       "      <td>[0]</td>\n",
       "      <td>0</td>\n",
       "    </tr>\n",
       "    <tr>\n",
       "      <th>1</th>\n",
       "      <td>prior</td>\n",
       "      <td>&gt;0</td>\n",
       "      <td>()</td>\n",
       "      <td>[(root, {})]</td>\n",
       "      <td>[&gt;]</td>\n",
       "      <td>[0]</td>\n",
       "      <td>0</td>\n",
       "    </tr>\n",
       "    <tr>\n",
       "      <th>2</th>\n",
       "      <td>prior</td>\n",
       "      <td>[0-2]</td>\n",
       "      <td>&gt;0</td>\n",
       "      <td>[(root, {}), (prior, &gt;0)]</td>\n",
       "      <td>[&gt;, &lt;=]</td>\n",
       "      <td>[0, 2]</td>\n",
       "      <td>1</td>\n",
       "    </tr>\n",
       "    <tr>\n",
       "      <th>3</th>\n",
       "      <td>prior</td>\n",
       "      <td>[0-1]</td>\n",
       "      <td>[0-2]</td>\n",
       "      <td>[(root, {}), (prior, [0-2])]</td>\n",
       "      <td>[&gt;, &lt;=]</td>\n",
       "      <td>[0, 1]</td>\n",
       "      <td>2</td>\n",
       "    </tr>\n",
       "    <tr>\n",
       "      <th>4</th>\n",
       "      <td>prior</td>\n",
       "      <td>[1-2]</td>\n",
       "      <td>[0-2]</td>\n",
       "      <td>[(root, {}), (prior, [0-2])]</td>\n",
       "      <td>[&gt;, &lt;=]</td>\n",
       "      <td>[1, 2]</td>\n",
       "      <td>2</td>\n",
       "    </tr>\n",
       "    <tr>\n",
       "      <th>5</th>\n",
       "      <td>prior</td>\n",
       "      <td>&gt;2</td>\n",
       "      <td>&gt;0</td>\n",
       "      <td>[(root, {}), (prior, &gt;0)]</td>\n",
       "      <td>[&gt;]</td>\n",
       "      <td>[2]</td>\n",
       "      <td>1</td>\n",
       "    </tr>\n",
       "    <tr>\n",
       "      <th>6</th>\n",
       "      <td>prior</td>\n",
       "      <td>[2-8]</td>\n",
       "      <td>&gt;2</td>\n",
       "      <td>[(root, {}), (prior, &gt;2)]</td>\n",
       "      <td>[&gt;, &lt;=]</td>\n",
       "      <td>[2, 8]</td>\n",
       "      <td>2</td>\n",
       "    </tr>\n",
       "    <tr>\n",
       "      <th>7</th>\n",
       "      <td>prior</td>\n",
       "      <td>[2-4]</td>\n",
       "      <td>[2-8]</td>\n",
       "      <td>[(root, {}), (prior, [2-8])]</td>\n",
       "      <td>[&gt;, &lt;=]</td>\n",
       "      <td>[2, 4]</td>\n",
       "      <td>3</td>\n",
       "    </tr>\n",
       "    <tr>\n",
       "      <th>8</th>\n",
       "      <td>prior</td>\n",
       "      <td>[4-8]</td>\n",
       "      <td>[2-8]</td>\n",
       "      <td>[(root, {}), (prior, [2-8])]</td>\n",
       "      <td>[&gt;, &lt;=]</td>\n",
       "      <td>[4, 8]</td>\n",
       "      <td>3</td>\n",
       "    </tr>\n",
       "    <tr>\n",
       "      <th>9</th>\n",
       "      <td>prior</td>\n",
       "      <td>&gt;8</td>\n",
       "      <td>&gt;2</td>\n",
       "      <td>[(root, {}), (prior, &gt;2)]</td>\n",
       "      <td>[&gt;]</td>\n",
       "      <td>[8]</td>\n",
       "      <td>2</td>\n",
       "    </tr>\n",
       "  </tbody>\n",
       "</table>\n",
       "</div>"
      ],
      "text/plain": [
       "  attribute itemset_name parent_node_name    parent_node_name_all_attrs  \\\n",
       "0     prior          <=0               ()                  [(root, {})]   \n",
       "1     prior           >0               ()                  [(root, {})]   \n",
       "2     prior        [0-2]               >0     [(root, {}), (prior, >0)]   \n",
       "3     prior        [0-1]            [0-2]  [(root, {}), (prior, [0-2])]   \n",
       "4     prior        [1-2]            [0-2]  [(root, {}), (prior, [0-2])]   \n",
       "5     prior           >2               >0     [(root, {}), (prior, >0)]   \n",
       "6     prior        [2-8]               >2     [(root, {}), (prior, >2)]   \n",
       "7     prior        [2-4]            [2-8]  [(root, {}), (prior, [2-8])]   \n",
       "8     prior        [4-8]            [2-8]  [(root, {}), (prior, [2-8])]   \n",
       "9     prior           >8               >2     [(root, {}), (prior, >2)]   \n",
       "\n",
       "      rels    vals  level  \n",
       "0     [<=]     [0]      0  \n",
       "1      [>]     [0]      0  \n",
       "2  [>, <=]  [0, 2]      1  \n",
       "3  [>, <=]  [0, 1]      2  \n",
       "4  [>, <=]  [1, 2]      2  \n",
       "5      [>]     [2]      1  \n",
       "6  [>, <=]  [2, 8]      2  \n",
       "7  [>, <=]  [2, 4]      3  \n",
       "8  [>, <=]  [4, 8]      3  \n",
       "9      [>]     [8]      2  "
      ]
     },
     "execution_count": 447,
     "metadata": {},
     "output_type": "execute_result"
    }
   ],
   "source": [
    "from TreeDivergence import TreeDivergence\n",
    "\n",
    "td = TreeDivergence()\n",
    "\n",
    "td.get_hierarchy_DF(mytree, ver2=True)"
   ]
  },
  {
   "cell_type": "code",
   "execution_count": 449,
   "id": "554430c2",
   "metadata": {},
   "outputs": [
    {
     "data": {
      "text/html": [
       "<div>\n",
       "<style scoped>\n",
       "    .dataframe tbody tr th:only-of-type {\n",
       "        vertical-align: middle;\n",
       "    }\n",
       "\n",
       "    .dataframe tbody tr th {\n",
       "        vertical-align: top;\n",
       "    }\n",
       "\n",
       "    .dataframe thead th {\n",
       "        text-align: right;\n",
       "    }\n",
       "</style>\n",
       "<table border=\"1\" class=\"dataframe\">\n",
       "  <thead>\n",
       "    <tr style=\"text-align: right;\">\n",
       "      <th></th>\n",
       "      <th>attribute</th>\n",
       "      <th>itemset_name</th>\n",
       "      <th>parent_node_name</th>\n",
       "      <th>parent_node_name_all_attrs</th>\n",
       "      <th>rels</th>\n",
       "      <th>vals</th>\n",
       "      <th>level</th>\n",
       "    </tr>\n",
       "  </thead>\n",
       "  <tbody>\n",
       "    <tr>\n",
       "      <th>0</th>\n",
       "      <td>priors_count</td>\n",
       "      <td>&lt;=0</td>\n",
       "      <td>()</td>\n",
       "      <td>[(root, {})]</td>\n",
       "      <td>[&lt;=]</td>\n",
       "      <td>[0]</td>\n",
       "      <td>0</td>\n",
       "    </tr>\n",
       "    <tr>\n",
       "      <th>1</th>\n",
       "      <td>priors_count</td>\n",
       "      <td>&gt;=1</td>\n",
       "      <td>()</td>\n",
       "      <td>[(root, {})]</td>\n",
       "      <td>[&gt;=]</td>\n",
       "      <td>[1]</td>\n",
       "      <td>0</td>\n",
       "    </tr>\n",
       "    <tr>\n",
       "      <th>2</th>\n",
       "      <td>priors_count</td>\n",
       "      <td>[1-2]</td>\n",
       "      <td>&gt;=1</td>\n",
       "      <td>[(root, {}), (priors_count, &gt;=1)]</td>\n",
       "      <td>[&gt;=, &lt;=]</td>\n",
       "      <td>[1, 2]</td>\n",
       "      <td>1</td>\n",
       "    </tr>\n",
       "    <tr>\n",
       "      <th>3</th>\n",
       "      <td>priors_count</td>\n",
       "      <td>1</td>\n",
       "      <td>[1-2]</td>\n",
       "      <td>[(root, {}), (priors_count, [1-2])]</td>\n",
       "      <td>[=]</td>\n",
       "      <td>[1]</td>\n",
       "      <td>2</td>\n",
       "    </tr>\n",
       "    <tr>\n",
       "      <th>4</th>\n",
       "      <td>priors_count</td>\n",
       "      <td>2</td>\n",
       "      <td>[1-2]</td>\n",
       "      <td>[(root, {}), (priors_count, [1-2])]</td>\n",
       "      <td>[=]</td>\n",
       "      <td>[2]</td>\n",
       "      <td>2</td>\n",
       "    </tr>\n",
       "    <tr>\n",
       "      <th>5</th>\n",
       "      <td>priors_count</td>\n",
       "      <td>&gt;=3</td>\n",
       "      <td>&gt;=1</td>\n",
       "      <td>[(root, {}), (priors_count, &gt;=1)]</td>\n",
       "      <td>[&gt;=]</td>\n",
       "      <td>[3]</td>\n",
       "      <td>1</td>\n",
       "    </tr>\n",
       "    <tr>\n",
       "      <th>6</th>\n",
       "      <td>priors_count</td>\n",
       "      <td>[3-8]</td>\n",
       "      <td>&gt;=3</td>\n",
       "      <td>[(root, {}), (priors_count, &gt;=3)]</td>\n",
       "      <td>[&gt;=, &lt;=]</td>\n",
       "      <td>[3, 8]</td>\n",
       "      <td>2</td>\n",
       "    </tr>\n",
       "    <tr>\n",
       "      <th>7</th>\n",
       "      <td>priors_count</td>\n",
       "      <td>[3-4]</td>\n",
       "      <td>[3-8]</td>\n",
       "      <td>[(root, {}), (priors_count, [3-8])]</td>\n",
       "      <td>[&gt;=, &lt;=]</td>\n",
       "      <td>[3, 4]</td>\n",
       "      <td>3</td>\n",
       "    </tr>\n",
       "    <tr>\n",
       "      <th>8</th>\n",
       "      <td>priors_count</td>\n",
       "      <td>[5-8]</td>\n",
       "      <td>[3-8]</td>\n",
       "      <td>[(root, {}), (priors_count, [3-8])]</td>\n",
       "      <td>[&gt;=, &lt;=]</td>\n",
       "      <td>[5, 8]</td>\n",
       "      <td>3</td>\n",
       "    </tr>\n",
       "    <tr>\n",
       "      <th>9</th>\n",
       "      <td>priors_count</td>\n",
       "      <td>&gt;=9</td>\n",
       "      <td>&gt;=3</td>\n",
       "      <td>[(root, {}), (priors_count, &gt;=3)]</td>\n",
       "      <td>[&gt;=]</td>\n",
       "      <td>[9]</td>\n",
       "      <td>2</td>\n",
       "    </tr>\n",
       "  </tbody>\n",
       "</table>\n",
       "</div>"
      ],
      "text/plain": [
       "      attribute itemset_name parent_node_name  \\\n",
       "0  priors_count          <=0               ()   \n",
       "1  priors_count          >=1               ()   \n",
       "2  priors_count        [1-2]              >=1   \n",
       "3  priors_count            1            [1-2]   \n",
       "4  priors_count            2            [1-2]   \n",
       "5  priors_count          >=3              >=1   \n",
       "6  priors_count        [3-8]              >=3   \n",
       "7  priors_count        [3-4]            [3-8]   \n",
       "8  priors_count        [5-8]            [3-8]   \n",
       "9  priors_count          >=9              >=3   \n",
       "\n",
       "            parent_node_name_all_attrs      rels    vals  level  \n",
       "0                         [(root, {})]      [<=]     [0]      0  \n",
       "1                         [(root, {})]      [>=]     [1]      0  \n",
       "2    [(root, {}), (priors_count, >=1)]  [>=, <=]  [1, 2]      1  \n",
       "3  [(root, {}), (priors_count, [1-2])]       [=]     [1]      2  \n",
       "4  [(root, {}), (priors_count, [1-2])]       [=]     [2]      2  \n",
       "5    [(root, {}), (priors_count, >=1)]      [>=]     [3]      1  \n",
       "6    [(root, {}), (priors_count, >=3)]  [>=, <=]  [3, 8]      2  \n",
       "7  [(root, {}), (priors_count, [3-8])]  [>=, <=]  [3, 4]      3  \n",
       "8  [(root, {}), (priors_count, [3-8])]  [>=, <=]  [5, 8]      3  \n",
       "9    [(root, {}), (priors_count, >=3)]      [>=]     [9]      2  "
      ]
     },
     "execution_count": 449,
     "metadata": {},
     "output_type": "execute_result"
    }
   ],
   "source": [
    "from TreeDivergence import TreeDivergence\n",
    "\n",
    "td = TreeDivergence()\n",
    "\n",
    "td.get_hierarchy_DF(tree1.tree, ver2=False)"
   ]
  },
  {
   "cell_type": "code",
   "execution_count": 450,
   "id": "c9d292fe",
   "metadata": {},
   "outputs": [
    {
     "name": "stdout",
     "output_type": "stream",
     "text": [
      "|--- priors <= 0.50\n",
      "|   |--- value: [570.00, 0.00]\n",
      "|--- priors >  0.50\n",
      "|   |--- priors <= 2.50\n",
      "|   |   |--- priors <= 1.50\n",
      "|   |   |   |--- value: [411.00, 0.00]\n",
      "|   |   |--- priors >  1.50\n",
      "|   |   |   |--- value: [267.00, 0.00]\n",
      "|   |--- priors >  2.50\n",
      "|   |   |--- priors <= 8.50\n",
      "|   |   |   |--- priors <= 4.50\n",
      "|   |   |   |   |--- value: [360.00, 0.00]\n",
      "|   |   |   |--- priors >  4.50\n",
      "|   |   |   |   |--- value: [365.00, 0.00]\n",
      "|   |   |--- priors >  8.50\n",
      "|   |   |   |--- value: [286.00, 0.00]\n",
      "\n"
     ]
    }
   ],
   "source": [
    "import sklearn\n",
    "print(sklearn.tree.export_text(clf, feature_names=['priors']))"
   ]
  },
  {
   "cell_type": "code",
   "execution_count": null,
   "id": "1d177ecf",
   "metadata": {},
   "outputs": [],
   "source": []
  },
  {
   "cell_type": "code",
   "execution_count": 451,
   "id": "26a8edbb",
   "metadata": {},
   "outputs": [
    {
     "data": {
      "text/plain": [
       "({'priors_count': {'[1-2]': '>=1',\n",
       "   '1': '[1-2]',\n",
       "   '2': '[1-2]',\n",
       "   '>=3': '>=1',\n",
       "   '[3-8]': '>=3',\n",
       "   '[3-4]': '[3-8]',\n",
       "   '[5-8]': '[3-8]',\n",
       "   '>=9': '>=3'}},\n",
       " {'priors_count': {'<=0': {'rels': ['<='], 'vals': [0]},\n",
       "   '1': {'rels': ['='], 'vals': [1]},\n",
       "   '2': {'rels': ['='], 'vals': [2]},\n",
       "   '[3-4]': {'rels': ['>=', '<='], 'vals': [3, 4]},\n",
       "   '[5-8]': {'rels': ['>=', '<='], 'vals': [5, 8]},\n",
       "   '>=9': {'rels': ['>='], 'vals': [9]}}})"
      ]
     },
     "execution_count": 451,
     "metadata": {},
     "output_type": "execute_result"
    }
   ],
   "source": [
    "from TreeDivergence import TreeDivergence\n",
    "\n",
    "td = TreeDivergence()\n",
    "\n",
    "td.getHierarchyAndDiscretizationSplits(tree1.tree, ver2=False)\n",
    "\n"
   ]
  },
  {
   "cell_type": "code",
   "execution_count": 455,
   "id": "57d97258",
   "metadata": {},
   "outputs": [
    {
     "name": "stdout",
     "output_type": "stream",
     "text": [
      "prior >\n"
     ]
    },
    {
     "ename": "ValueError",
     "evalue": "# TODO - only intervals",
     "output_type": "error",
     "traceback": [
      "\u001b[0;31m---------------------------------------------------------------------------\u001b[0m",
      "\u001b[0;31mValueError\u001b[0m                                Traceback (most recent call last)",
      "Input \u001b[0;32mIn [455]\u001b[0m, in \u001b[0;36m<cell line: 5>\u001b[0;34m()\u001b[0m\n\u001b[1;32m      1\u001b[0m \u001b[38;5;28;01mfrom\u001b[39;00m \u001b[38;5;21;01mTreeDivergence\u001b[39;00m \u001b[38;5;28;01mimport\u001b[39;00m TreeDivergence\n\u001b[1;32m      3\u001b[0m td \u001b[38;5;241m=\u001b[39m TreeDivergence()\n\u001b[0;32m----> 5\u001b[0m \u001b[43mtd\u001b[49m\u001b[38;5;241;43m.\u001b[39;49m\u001b[43mgetHierarchyAndDiscretizationSplits\u001b[49m\u001b[43m(\u001b[49m\u001b[43mmytree\u001b[49m\u001b[43m,\u001b[49m\u001b[43m \u001b[49m\u001b[43mver2\u001b[49m\u001b[38;5;241;43m=\u001b[39;49m\u001b[38;5;28;43;01mTrue\u001b[39;49;00m\u001b[43m)\u001b[49m\n",
      "File \u001b[0;32m~/Projects/dev/hierarchical-subgroup-exploration/TreeDivergence.py:1330\u001b[0m, in \u001b[0;36mTreeDivergence.getHierarchyAndDiscretizationSplits\u001b[0;34m(self, tree, verbose, ver2)\u001b[0m\n\u001b[1;32m   1328\u001b[0m \u001b[38;5;28;01mdef\u001b[39;00m \u001b[38;5;21mgetHierarchyAndDiscretizationSplits\u001b[39m(\u001b[38;5;28mself\u001b[39m, tree, verbose\u001b[38;5;241m=\u001b[39m\u001b[38;5;28;01mFalse\u001b[39;00m, ver2\u001b[38;5;241m=\u001b[39m\u001b[38;5;28;01mFalse\u001b[39;00m):\n\u001b[1;32m   1329\u001b[0m     \u001b[38;5;66;03m# TODO: manage empy tree\u001b[39;00m\n\u001b[0;32m-> 1330\u001b[0m     df_hierarchy \u001b[38;5;241m=\u001b[39m \u001b[38;5;28;43mself\u001b[39;49m\u001b[38;5;241;43m.\u001b[39;49m\u001b[43mget_hierarchy_DF\u001b[49m\u001b[43m(\u001b[49m\u001b[43mtree\u001b[49m\u001b[43m,\u001b[49m\u001b[43m \u001b[49m\u001b[43mver2\u001b[49m\u001b[43m)\u001b[49m\n\u001b[1;32m   1331\u001b[0m     \u001b[38;5;28;01mif\u001b[39;00m df_hierarchy \u001b[38;5;129;01mis\u001b[39;00m \u001b[38;5;28;01mNone\u001b[39;00m:\n\u001b[1;32m   1332\u001b[0m         \u001b[38;5;28;01mreturn\u001b[39;00m \u001b[38;5;28;01mNone\u001b[39;00m, \u001b[38;5;28;01mNone\u001b[39;00m\n",
      "File \u001b[0;32m~/Projects/dev/hierarchical-subgroup-exploration/TreeDivergence.py:1071\u001b[0m, in \u001b[0;36mTreeDivergence.get_hierarchy_DF\u001b[0;34m(self, tree, verbose_info, ver2)\u001b[0m\n\u001b[1;32m   1069\u001b[0m tree \u001b[38;5;241m=\u001b[39m tree \u001b[38;5;28;01mif\u001b[39;00m tree \u001b[38;5;28;01melse\u001b[39;00m \u001b[38;5;28mself\u001b[39m\u001b[38;5;241m.\u001b[39mtree\n\u001b[1;32m   1070\u001b[0m tree_df \u001b[38;5;241m=\u001b[39m []\n\u001b[0;32m-> 1071\u001b[0m \u001b[38;5;28;43mself\u001b[39;49m\u001b[38;5;241;43m.\u001b[39;49m\u001b[43mnode_get_hierarchy_DF\u001b[49m\u001b[43m(\u001b[49m\u001b[43mtree\u001b[49m\u001b[43m,\u001b[49m\u001b[43m \u001b[49m\u001b[43mtree_df\u001b[49m\u001b[43m,\u001b[49m\u001b[43m \u001b[49m\u001b[43mparent_node_names\u001b[49m\u001b[38;5;241;43m=\u001b[39;49m\u001b[43m[\u001b[49m\u001b[43m]\u001b[49m\u001b[43m,\u001b[49m\u001b[43m \u001b[49m\u001b[43mver2\u001b[49m\u001b[38;5;241;43m=\u001b[39;49m\u001b[43mver2\u001b[49m\u001b[43m)\u001b[49m\n\u001b[1;32m   1073\u001b[0m \u001b[38;5;28;01mif\u001b[39;00m tree_df \u001b[38;5;241m==\u001b[39m []:\n\u001b[1;32m   1074\u001b[0m     \u001b[38;5;28;01mreturn\u001b[39;00m \u001b[38;5;28;01mNone\u001b[39;00m\n",
      "File \u001b[0;32m~/Projects/dev/hierarchical-subgroup-exploration/TreeDivergence.py:1317\u001b[0m, in \u001b[0;36mTreeDivergence.node_get_hierarchy_DF\u001b[0;34m(self, node, tree_df, parent_node, parent_node_info, parent_node_name, parent_node_names, indent, ver2)\u001b[0m\n\u001b[1;32m   1315\u001b[0m     parent_node_names[index_i] \u001b[38;5;241m=\u001b[39m (node\u001b[38;5;241m.\u001b[39mattr, itemset_value_name)\n\u001b[1;32m   1316\u001b[0m \u001b[38;5;28;01mfor\u001b[39;00m child \u001b[38;5;129;01min\u001b[39;00m node\u001b[38;5;241m.\u001b[39mchildren:\n\u001b[0;32m-> 1317\u001b[0m     \u001b[38;5;28;43mself\u001b[39;49m\u001b[38;5;241;43m.\u001b[39;49m\u001b[43mnode_get_hierarchy_DF\u001b[49m\u001b[43m(\u001b[49m\n\u001b[1;32m   1318\u001b[0m \u001b[43m        \u001b[49m\u001b[43mchild\u001b[49m\u001b[43m,\u001b[49m\n\u001b[1;32m   1319\u001b[0m \u001b[43m        \u001b[49m\u001b[43mtree_df\u001b[49m\u001b[43m,\u001b[49m\n\u001b[1;32m   1320\u001b[0m \u001b[43m        \u001b[49m\u001b[43mparent_node\u001b[49m\u001b[38;5;241;43m=\u001b[39;49m\u001b[43mparent_node\u001b[49m\u001b[43m \u001b[49m\u001b[38;5;241;43m+\u001b[39;49m\u001b[43m \u001b[49m\u001b[43m[\u001b[49m\u001b[43mcurrent_node\u001b[49m\u001b[43m]\u001b[49m\u001b[43m \u001b[49m\u001b[38;5;28;43;01mif\u001b[39;49;00m\u001b[43m \u001b[49m\u001b[43misRoot\u001b[49m\u001b[43m \u001b[49m\u001b[38;5;129;43;01mis\u001b[39;49;00m\u001b[43m \u001b[49m\u001b[38;5;28;43;01mFalse\u001b[39;49;00m\u001b[43m \u001b[49m\u001b[38;5;28;43;01melse\u001b[39;49;00m\u001b[43m \u001b[49m\u001b[43m[\u001b[49m\u001b[43m]\u001b[49m\u001b[43m,\u001b[49m\n\u001b[1;32m   1321\u001b[0m \u001b[43m        \u001b[49m\u001b[43mparent_node_name\u001b[49m\u001b[38;5;241;43m=\u001b[39;49m\u001b[43mparent_node_names\u001b[49m\u001b[43m,\u001b[49m\n\u001b[1;32m   1322\u001b[0m \u001b[43m        \u001b[49m\u001b[43mparent_node_info\u001b[49m\u001b[38;5;241;43m=\u001b[39;49m\u001b[43mrels\u001b[49m\u001b[43m,\u001b[49m\n\u001b[1;32m   1323\u001b[0m \u001b[43m        \u001b[49m\u001b[43mparent_node_names\u001b[49m\u001b[38;5;241;43m=\u001b[39;49m\u001b[43mparent_node_names\u001b[49m\u001b[43m,\u001b[49m\n\u001b[1;32m   1324\u001b[0m \u001b[43m        \u001b[49m\u001b[43mindent\u001b[49m\u001b[38;5;241;43m=\u001b[39;49m\u001b[43mindent\u001b[49m\u001b[43m \u001b[49m\u001b[38;5;241;43m+\u001b[39;49m\u001b[43m \u001b[49m\u001b[38;5;124;43m\"\u001b[39;49m\u001b[38;5;124;43m        \u001b[39;49m\u001b[38;5;124;43m\"\u001b[39;49m\u001b[43m,\u001b[49m\n\u001b[1;32m   1325\u001b[0m \u001b[43m        \u001b[49m\u001b[43mver2\u001b[49m\u001b[38;5;241;43m=\u001b[39;49m\u001b[43mver2\u001b[49m\u001b[43m,\u001b[49m\n\u001b[1;32m   1326\u001b[0m \u001b[43m    \u001b[49m\u001b[43m)\u001b[49m\n",
      "File \u001b[0;32m~/Projects/dev/hierarchical-subgroup-exploration/TreeDivergence.py:1317\u001b[0m, in \u001b[0;36mTreeDivergence.node_get_hierarchy_DF\u001b[0;34m(self, node, tree_df, parent_node, parent_node_info, parent_node_name, parent_node_names, indent, ver2)\u001b[0m\n\u001b[1;32m   1315\u001b[0m     parent_node_names[index_i] \u001b[38;5;241m=\u001b[39m (node\u001b[38;5;241m.\u001b[39mattr, itemset_value_name)\n\u001b[1;32m   1316\u001b[0m \u001b[38;5;28;01mfor\u001b[39;00m child \u001b[38;5;129;01min\u001b[39;00m node\u001b[38;5;241m.\u001b[39mchildren:\n\u001b[0;32m-> 1317\u001b[0m     \u001b[38;5;28;43mself\u001b[39;49m\u001b[38;5;241;43m.\u001b[39;49m\u001b[43mnode_get_hierarchy_DF\u001b[49m\u001b[43m(\u001b[49m\n\u001b[1;32m   1318\u001b[0m \u001b[43m        \u001b[49m\u001b[43mchild\u001b[49m\u001b[43m,\u001b[49m\n\u001b[1;32m   1319\u001b[0m \u001b[43m        \u001b[49m\u001b[43mtree_df\u001b[49m\u001b[43m,\u001b[49m\n\u001b[1;32m   1320\u001b[0m \u001b[43m        \u001b[49m\u001b[43mparent_node\u001b[49m\u001b[38;5;241;43m=\u001b[39;49m\u001b[43mparent_node\u001b[49m\u001b[43m \u001b[49m\u001b[38;5;241;43m+\u001b[39;49m\u001b[43m \u001b[49m\u001b[43m[\u001b[49m\u001b[43mcurrent_node\u001b[49m\u001b[43m]\u001b[49m\u001b[43m \u001b[49m\u001b[38;5;28;43;01mif\u001b[39;49;00m\u001b[43m \u001b[49m\u001b[43misRoot\u001b[49m\u001b[43m \u001b[49m\u001b[38;5;129;43;01mis\u001b[39;49;00m\u001b[43m \u001b[49m\u001b[38;5;28;43;01mFalse\u001b[39;49;00m\u001b[43m \u001b[49m\u001b[38;5;28;43;01melse\u001b[39;49;00m\u001b[43m \u001b[49m\u001b[43m[\u001b[49m\u001b[43m]\u001b[49m\u001b[43m,\u001b[49m\n\u001b[1;32m   1321\u001b[0m \u001b[43m        \u001b[49m\u001b[43mparent_node_name\u001b[49m\u001b[38;5;241;43m=\u001b[39;49m\u001b[43mparent_node_names\u001b[49m\u001b[43m,\u001b[49m\n\u001b[1;32m   1322\u001b[0m \u001b[43m        \u001b[49m\u001b[43mparent_node_info\u001b[49m\u001b[38;5;241;43m=\u001b[39;49m\u001b[43mrels\u001b[49m\u001b[43m,\u001b[49m\n\u001b[1;32m   1323\u001b[0m \u001b[43m        \u001b[49m\u001b[43mparent_node_names\u001b[49m\u001b[38;5;241;43m=\u001b[39;49m\u001b[43mparent_node_names\u001b[49m\u001b[43m,\u001b[49m\n\u001b[1;32m   1324\u001b[0m \u001b[43m        \u001b[49m\u001b[43mindent\u001b[49m\u001b[38;5;241;43m=\u001b[39;49m\u001b[43mindent\u001b[49m\u001b[43m \u001b[49m\u001b[38;5;241;43m+\u001b[39;49m\u001b[43m \u001b[49m\u001b[38;5;124;43m\"\u001b[39;49m\u001b[38;5;124;43m        \u001b[39;49m\u001b[38;5;124;43m\"\u001b[39;49m\u001b[43m,\u001b[49m\n\u001b[1;32m   1325\u001b[0m \u001b[43m        \u001b[49m\u001b[43mver2\u001b[49m\u001b[38;5;241;43m=\u001b[39;49m\u001b[43mver2\u001b[49m\u001b[43m,\u001b[49m\n\u001b[1;32m   1326\u001b[0m \u001b[43m    \u001b[49m\u001b[43m)\u001b[49m\n",
      "File \u001b[0;32m~/Projects/dev/hierarchical-subgroup-exploration/TreeDivergence.py:1245\u001b[0m, in \u001b[0;36mTreeDivergence.node_get_hierarchy_DF\u001b[0;34m(self, node, tree_df, parent_node, parent_node_info, parent_node_name, parent_node_names, indent, ver2)\u001b[0m\n\u001b[1;32m   1230\u001b[0m     (\n\u001b[1;32m   1231\u001b[0m         rels,\n\u001b[1;32m   1232\u001b[0m         itemset_attribute_value_short,\n\u001b[0;32m   (...)\u001b[0m\n\u001b[1;32m   1235\u001b[0m         itemset_value_name,\n\u001b[1;32m   1236\u001b[0m     ) \u001b[38;5;241m=\u001b[39m \u001b[38;5;28mself\u001b[39m\u001b[38;5;241m.\u001b[39msummarizeInterval_v2(node, parent_node_info, isRoot)\n\u001b[1;32m   1238\u001b[0m \u001b[38;5;28;01melse\u001b[39;00m:\n\u001b[1;32m   1239\u001b[0m     (\n\u001b[1;32m   1240\u001b[0m         rels,\n\u001b[1;32m   1241\u001b[0m         itemset_attribute_value_short,\n\u001b[1;32m   1242\u001b[0m         rels_ret,\n\u001b[1;32m   1243\u001b[0m         vals_ret,\n\u001b[1;32m   1244\u001b[0m         itemset_value_name,\n\u001b[0;32m-> 1245\u001b[0m     ) \u001b[38;5;241m=\u001b[39m \u001b[38;5;28;43mself\u001b[39;49m\u001b[38;5;241;43m.\u001b[39;49m\u001b[43msummarizeInterval\u001b[49m\u001b[43m(\u001b[49m\u001b[43mnode\u001b[49m\u001b[43m,\u001b[49m\u001b[43m \u001b[49m\u001b[43mparent_node_info\u001b[49m\u001b[43m,\u001b[49m\u001b[43m \u001b[49m\u001b[43misRoot\u001b[49m\u001b[43m)\u001b[49m\n\u001b[1;32m   1246\u001b[0m parent_node_name_attribute \u001b[38;5;241m=\u001b[39m []\n\u001b[1;32m   1247\u001b[0m index_i \u001b[38;5;241m=\u001b[39m \u001b[38;5;241m-\u001b[39m\u001b[38;5;241m1\u001b[39m\n",
      "File \u001b[0;32m~/Projects/dev/hierarchical-subgroup-exploration/TreeDivergence.py:974\u001b[0m, in \u001b[0;36mTreeDivergence.summarizeInterval\u001b[0;34m(self, node, parent_node_info, isRoot)\u001b[0m\n\u001b[1;32m    972\u001b[0m \u001b[38;5;28;01mif\u001b[39;00m d[\u001b[38;5;124m\"\u001b[39m\u001b[38;5;124mrel\u001b[39m\u001b[38;5;124m\"\u001b[39m] \u001b[38;5;129;01mnot\u001b[39;00m \u001b[38;5;129;01min\u001b[39;00m [\u001b[38;5;124m\"\u001b[39m\u001b[38;5;124m<=\u001b[39m\u001b[38;5;124m\"\u001b[39m, \u001b[38;5;124m\"\u001b[39m\u001b[38;5;124m>=\u001b[39m\u001b[38;5;124m\"\u001b[39m, \u001b[38;5;124m\"\u001b[39m\u001b[38;5;124m=\u001b[39m\u001b[38;5;124m\"\u001b[39m]:\n\u001b[1;32m    973\u001b[0m     \u001b[38;5;28mprint\u001b[39m(attr, d[\u001b[38;5;124m\"\u001b[39m\u001b[38;5;124mrel\u001b[39m\u001b[38;5;124m\"\u001b[39m])\n\u001b[0;32m--> 974\u001b[0m     \u001b[38;5;28;01mraise\u001b[39;00m \u001b[38;5;167;01mValueError\u001b[39;00m(\u001b[38;5;124m\"\u001b[39m\u001b[38;5;124m# TODO - only intervals\u001b[39m\u001b[38;5;124m\"\u001b[39m)\n\u001b[1;32m    975\u001b[0m \u001b[38;5;28;01mif\u001b[39;00m d[\u001b[38;5;124m\"\u001b[39m\u001b[38;5;124mrel\u001b[39m\u001b[38;5;124m\"\u001b[39m] \u001b[38;5;129;01mnot\u001b[39;00m \u001b[38;5;129;01min\u001b[39;00m attr_rel:\n\u001b[1;32m    976\u001b[0m     attr_rel[d[\u001b[38;5;124m\"\u001b[39m\u001b[38;5;124mrel\u001b[39m\u001b[38;5;124m\"\u001b[39m]] \u001b[38;5;241m=\u001b[39m []\n",
      "\u001b[0;31mValueError\u001b[0m: # TODO - only intervals"
     ]
    }
   ],
   "source": [
    "from TreeDivergence import TreeDivergence\n",
    "\n",
    "td = TreeDivergence()\n",
    "\n",
    "td.getHierarchyAndDiscretizationSplits(mytree, ver2=True)\n",
    "\n"
   ]
  },
  {
   "cell_type": "code",
   "execution_count": null,
   "id": "b64939d6",
   "metadata": {},
   "outputs": [],
   "source": []
  }
 ],
 "metadata": {
  "hide_input": false,
  "kernelspec": {
   "display_name": "mainexp",
   "language": "python",
   "name": "mainexp"
  },
  "language_info": {
   "codemirror_mode": {
    "name": "ipython",
    "version": 3
   },
   "file_extension": ".py",
   "mimetype": "text/x-python",
   "name": "python",
   "nbconvert_exporter": "python",
   "pygments_lexer": "ipython3",
   "version": "3.10.6"
  },
  "toc": {
   "base_numbering": 1,
   "nav_menu": {},
   "number_sections": true,
   "sideBar": true,
   "skip_h1_title": false,
   "title_cell": "Table of Contents",
   "title_sidebar": "Contents",
   "toc_cell": false,
   "toc_position": {
    "height": "calc(100% - 180px)",
    "left": "10px",
    "top": "150px",
    "width": "370px"
   },
   "toc_section_display": true,
   "toc_window_display": true
  },
  "varInspector": {
   "cols": {
    "lenName": 16,
    "lenType": 16,
    "lenVar": 40
   },
   "kernels_config": {
    "python": {
     "delete_cmd_postfix": "",
     "delete_cmd_prefix": "del ",
     "library": "var_list.py",
     "varRefreshCmd": "print(var_dic_list())"
    },
    "r": {
     "delete_cmd_postfix": ") ",
     "delete_cmd_prefix": "rm(",
     "library": "var_list.r",
     "varRefreshCmd": "cat(var_dic_list()) "
    }
   },
   "types_to_exclude": [
    "module",
    "function",
    "builtin_function_or_method",
    "instance",
    "_Feature"
   ],
   "window_display": false
  }
 },
 "nbformat": 4,
 "nbformat_minor": 5
}
