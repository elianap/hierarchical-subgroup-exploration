{
 "cells": [
  {
   "cell_type": "code",
   "execution_count": 1,
   "metadata": {
    "ExecuteTime": {
     "end_time": "2022-01-22T11:46:44.458190Z",
     "start_time": "2022-01-22T11:46:44.454294Z"
    }
   },
   "outputs": [],
   "source": [
    "def get_random_intervals(min_v=0, max_v=1, min_step=0.1, round_v=1):\n",
    "    import random\n",
    "    generate = True\n",
    "    while(generate):\n",
    "        left_edge = (round(random.uniform(min_v, max_v),round_v))\n",
    "        if (left_edge+min_step)<=1:\n",
    "            right_edge = round(random.uniform(left_edge+min_step, max_v),round_v)\n",
    "            if ((left_edge==0) and (right_edge==1)) == False:\n",
    "                generate = False\n",
    "    return left_edge, right_edge"
   ]
  },
  {
   "cell_type": "markdown",
   "metadata": {
    "ExecuteTime": {
     "end_time": "2022-01-14T09:50:34.830101Z",
     "start_time": "2022-01-14T09:50:34.825236Z"
    }
   },
   "source": [
    "# Read data"
   ]
  },
  {
   "cell_type": "code",
   "execution_count": 2,
   "metadata": {
    "ExecuteTime": {
     "end_time": "2022-01-22T11:46:45.674270Z",
     "start_time": "2022-01-22T11:46:45.662118Z"
    }
   },
   "outputs": [],
   "source": [
    "def get_random_pattern(df_input, attributes, k, ratio= 0.3, metric = \"d_fpr\", ranges_attributes = None, min_samples_size = 100, round_v = 3, n_total_tests=100):\n",
    "    # We pass the ranges to get_random_intervals\n",
    "    import random\n",
    "    pattern_not_found = True\n",
    "    n_tests = 0\n",
    "    while(pattern_not_found and n_tests<n_total_tests):\n",
    "        bias_pattern = {}\n",
    "        sel_attributes = random.sample(attributes, k=k)\n",
    "        sel_df = df_input.copy()\n",
    "        for attribute in sel_attributes:\n",
    "            not_enough_size = True\n",
    "            min_input_step = min_samples_size/len(df_input)\n",
    "            n_iter = 1\n",
    "            while(not_enough_size and n_iter<=5):\n",
    "                left_edge, right_edge = get_random_intervals(min_step=min_input_step*n_iter, round_v=round_v)\n",
    "\n",
    "                support_count_interval = len( sel_df.loc[(sel_df[attribute]>=left_edge)&(sel_df[attribute]<=right_edge)] )\n",
    "                if support_count_interval>min_samples_size:\n",
    "                    sel_df = sel_df.loc[(sel_df[attribute]>=left_edge)&(sel_df[attribute]<=right_edge)]\n",
    "                    not_enough_size = False\n",
    "                else:\n",
    "                    n_iter+=1\n",
    "            if not_enough_size:\n",
    "                break\n",
    "            else: \n",
    "                bias_pattern[attribute] = [[('>=', left_edge), ('<=', right_edge)]]\n",
    "        if len(bias_pattern)==k:\n",
    "            pattern_not_found=False\n",
    "        else:\n",
    "            n_tests+=1\n",
    "    if n_tests>n_total_tests:\n",
    "        raise ValueError()\n",
    "    if (k!=len(sel_attributes)) or (k!=len(bias_pattern)):\n",
    "        raise ValueError()\n",
    "\n",
    "    return bias_pattern, len(sel_df)"
   ]
  },
  {
   "cell_type": "code",
   "execution_count": 3,
   "metadata": {
    "ExecuteTime": {
     "end_time": "2022-01-22T11:46:47.303772Z",
     "start_time": "2022-01-22T11:46:46.999462Z"
    }
   },
   "outputs": [
    {
     "name": "stdout",
     "output_type": "stream",
     "text": [
      "From stored\n"
     ]
    }
   ],
   "source": [
    "import pandas as pd\n",
    "import os\n",
    "\n",
    "dataset_name = \"artificial_data_10_10k\"\n",
    "dataset_dir = os.path.join(os.path.curdir, \"datasets\")\n",
    "\n",
    "from import_datasets import is_dataset_available\n",
    "if is_dataset_available(f\"{dataset_name}.csv\", inputDir=dataset_dir):\n",
    "    print(\"From stored\")\n",
    "    df_artificial = pd.read_csv(os.path.join(dataset_dir, f\"{dataset_name}.csv\"))\n",
    "else:\n",
    "    from import_datasets import create_artificial_dataset\n",
    "\n",
    "    df_artificial = create_artificial_dataset(round_v = 3)\n",
    "    df_artificial.to_csv(os.path.join(dataset_dir, f\"{dataset_name}.csv\"), index=False)"
   ]
  },
  {
   "cell_type": "code",
   "execution_count": 4,
   "metadata": {
    "ExecuteTime": {
     "end_time": "2022-01-22T11:46:48.309105Z",
     "start_time": "2022-01-22T11:46:48.280776Z"
    }
   },
   "outputs": [
    {
     "data": {
      "text/html": [
       "<div>\n",
       "<style scoped>\n",
       "    .dataframe tbody tr th:only-of-type {\n",
       "        vertical-align: middle;\n",
       "    }\n",
       "\n",
       "    .dataframe tbody tr th {\n",
       "        vertical-align: top;\n",
       "    }\n",
       "\n",
       "    .dataframe thead th {\n",
       "        text-align: right;\n",
       "    }\n",
       "</style>\n",
       "<table border=\"1\" class=\"dataframe\">\n",
       "  <thead>\n",
       "    <tr style=\"text-align: right;\">\n",
       "      <th></th>\n",
       "      <th>a</th>\n",
       "      <th>b</th>\n",
       "      <th>c</th>\n",
       "      <th>d</th>\n",
       "      <th>e</th>\n",
       "      <th>f</th>\n",
       "      <th>g</th>\n",
       "      <th>h</th>\n",
       "      <th>i</th>\n",
       "      <th>j</th>\n",
       "      <th>class</th>\n",
       "    </tr>\n",
       "  </thead>\n",
       "  <tbody>\n",
       "    <tr>\n",
       "      <th>0</th>\n",
       "      <td>0.076</td>\n",
       "      <td>0.780</td>\n",
       "      <td>0.438</td>\n",
       "      <td>0.723</td>\n",
       "      <td>0.978</td>\n",
       "      <td>0.538</td>\n",
       "      <td>0.501</td>\n",
       "      <td>0.072</td>\n",
       "      <td>0.268</td>\n",
       "      <td>0.500</td>\n",
       "      <td>1</td>\n",
       "    </tr>\n",
       "    <tr>\n",
       "      <th>1</th>\n",
       "      <td>0.679</td>\n",
       "      <td>0.804</td>\n",
       "      <td>0.381</td>\n",
       "      <td>0.066</td>\n",
       "      <td>0.288</td>\n",
       "      <td>0.910</td>\n",
       "      <td>0.213</td>\n",
       "      <td>0.452</td>\n",
       "      <td>0.931</td>\n",
       "      <td>0.025</td>\n",
       "      <td>0</td>\n",
       "    </tr>\n",
       "    <tr>\n",
       "      <th>2</th>\n",
       "      <td>0.601</td>\n",
       "      <td>0.950</td>\n",
       "      <td>0.230</td>\n",
       "      <td>0.548</td>\n",
       "      <td>0.909</td>\n",
       "      <td>0.133</td>\n",
       "      <td>0.523</td>\n",
       "      <td>0.750</td>\n",
       "      <td>0.669</td>\n",
       "      <td>0.468</td>\n",
       "      <td>0</td>\n",
       "    </tr>\n",
       "  </tbody>\n",
       "</table>\n",
       "</div>"
      ],
      "text/plain": [
       "       a      b      c      d      e      f      g      h      i      j  class\n",
       "0  0.076  0.780  0.438  0.723  0.978  0.538  0.501  0.072  0.268  0.500      1\n",
       "1  0.679  0.804  0.381  0.066  0.288  0.910  0.213  0.452  0.931  0.025      0\n",
       "2  0.601  0.950  0.230  0.548  0.909  0.133  0.523  0.750  0.669  0.468      0"
      ]
     },
     "execution_count": 4,
     "metadata": {},
     "output_type": "execute_result"
    }
   ],
   "source": [
    "df_artificial.head(3)"
   ]
  },
  {
   "cell_type": "markdown",
   "metadata": {},
   "source": [
    "# Generate biases"
   ]
  },
  {
   "cell_type": "code",
   "execution_count": 5,
   "metadata": {
    "ExecuteTime": {
     "end_time": "2022-01-22T11:46:56.820534Z",
     "start_time": "2022-01-22T11:46:55.862415Z"
    }
   },
   "outputs": [
    {
     "data": {
      "text/plain": [
       "40"
      ]
     },
     "execution_count": 5,
     "metadata": {},
     "output_type": "execute_result"
    }
   ],
   "source": [
    "attributes = [\"a\", \"b\", \"c\", \"d\", \"e\", \"f\", \"g\", \"h\", \"i\", \"j\"]\n",
    "injected_bias_list = []\n",
    "ratio = 0.5\n",
    "metric = \"d_error\"\n",
    "max_len_pattern = 5\n",
    "n_times = 10\n",
    "for k in range(2, max_len_pattern+1):\n",
    "    for i in range(0, n_times):\n",
    "        # Try 10 time to identify a pattern with enough instances\n",
    "        bias_pattern, support = get_random_pattern(df_artificial, attributes, k, round_v = 3, n_total_tests = 100)\n",
    "        if bias_pattern is not None:\n",
    "            found = True\n",
    "        if found:\n",
    "            injected_bias_list.append((bias_pattern, ratio, metric, support))\n",
    "        else:\n",
    "            raise ValueError(k)\n",
    "len(injected_bias_list)"
   ]
  },
  {
   "cell_type": "code",
   "execution_count": 6,
   "metadata": {
    "ExecuteTime": {
     "end_time": "2022-01-22T11:47:00.653247Z",
     "start_time": "2022-01-22T11:47:00.649240Z"
    }
   },
   "outputs": [],
   "source": [
    "def save_pickle(data, filename):\n",
    "    import pickle\n",
    "\n",
    "    with open(\n",
    "        filename,\n",
    "        \"wb\",\n",
    "    ) as handle:\n",
    "        pickle.dump(\n",
    "            data,\n",
    "            handle,\n",
    "            protocol=pickle.HIGHEST_PROTOCOL,\n",
    "        )"
   ]
  },
  {
   "cell_type": "code",
   "execution_count": 38,
   "metadata": {
    "ExecuteTime": {
     "end_time": "2022-01-14T10:09:33.732438Z",
     "start_time": "2022-01-14T10:09:33.686067Z"
    }
   },
   "outputs": [],
   "source": [
    "#save_list_bias = False\n",
    "# if save_list_bias:\n",
    "#    save_pickle(injected_bias_list, os.path.join(dataset_dir, \"injected_bias_list.pickle\"))"
   ]
  },
  {
   "cell_type": "code",
   "execution_count": 8,
   "metadata": {
    "ExecuteTime": {
     "end_time": "2022-01-22T11:49:54.474029Z",
     "start_time": "2022-01-22T11:49:54.463164Z"
    }
   },
   "outputs": [],
   "source": [
    "import pickle\n",
    "\n",
    "with open(os.path.join(dataset_dir, \"injected_bias_list.pickle\"), \"rb\") as fp:\n",
    "    injected_bias = pickle.load(fp)"
   ]
  },
  {
   "cell_type": "code",
   "execution_count": 33,
   "metadata": {
    "ExecuteTime": {
     "end_time": "2022-01-14T10:09:24.044599Z",
     "start_time": "2022-01-14T10:09:24.037686Z"
    }
   },
   "outputs": [
    {
     "data": {
      "text/plain": [
       "40"
      ]
     },
     "execution_count": 33,
     "metadata": {},
     "output_type": "execute_result"
    }
   ],
   "source": [
    "len(injected_bias)"
   ]
  }
 ],
 "metadata": {
  "hide_input": false,
  "kernelspec": {
   "display_name": "Python 3",
   "language": "python",
   "name": "python3"
  },
  "language_info": {
   "codemirror_mode": {
    "name": "ipython",
    "version": 3
   },
   "file_extension": ".py",
   "mimetype": "text/x-python",
   "name": "python",
   "nbconvert_exporter": "python",
   "pygments_lexer": "ipython3",
   "version": "3.6.5"
  },
  "toc": {
   "base_numbering": 1,
   "nav_menu": {},
   "number_sections": true,
   "sideBar": true,
   "skip_h1_title": false,
   "title_cell": "Table of Contents",
   "title_sidebar": "Contents",
   "toc_cell": false,
   "toc_position": {
    "height": "calc(100% - 180px)",
    "left": "10px",
    "top": "150px",
    "width": "383.796875px"
   },
   "toc_section_display": true,
   "toc_window_display": true
  },
  "varInspector": {
   "cols": {
    "lenName": 16,
    "lenType": 16,
    "lenVar": 40
   },
   "kernels_config": {
    "python": {
     "delete_cmd_postfix": "",
     "delete_cmd_prefix": "del ",
     "library": "var_list.py",
     "varRefreshCmd": "print(var_dic_list())"
    },
    "r": {
     "delete_cmd_postfix": ") ",
     "delete_cmd_prefix": "rm(",
     "library": "var_list.r",
     "varRefreshCmd": "cat(var_dic_list()) "
    }
   },
   "types_to_exclude": [
    "module",
    "function",
    "builtin_function_or_method",
    "instance",
    "_Feature"
   ],
   "window_display": false
  }
 },
 "nbformat": 4,
 "nbformat_minor": 4
}
