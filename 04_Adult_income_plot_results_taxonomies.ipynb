{
 "cells": [
  {
   "cell_type": "code",
   "execution_count": 2,
   "id": "cardiac-syntax",
   "metadata": {
    "ExecuteTime": {
     "end_time": "2022-06-08T12:26:41.199472Z",
     "start_time": "2022-06-08T12:26:41.181516Z"
    }
   },
   "outputs": [],
   "source": [
    "%load_ext autoreload\n",
    "%autoreload 2"
   ]
  },
  {
   "cell_type": "code",
   "execution_count": 3,
   "id": "viral-omaha",
   "metadata": {
    "ExecuteTime": {
     "end_time": "2022-06-08T12:26:41.277060Z",
     "start_time": "2022-06-08T12:26:41.256219Z"
    }
   },
   "outputs": [],
   "source": [
    "def load_json(filename):\n",
    "    import json\n",
    "    with open(\n",
    "        filename,\n",
    "        \"r\",\n",
    "    ) as fp:\n",
    "        dict_i = json.load(fp)  \n",
    "    return dict_i"
   ]
  },
  {
   "cell_type": "code",
   "execution_count": 4,
   "id": "round-territory",
   "metadata": {
    "ExecuteTime": {
     "end_time": "2022-06-08T12:26:41.310181Z",
     "start_time": "2022-06-08T12:26:41.279264Z"
    }
   },
   "outputs": [],
   "source": [
    "def abbreviateValue(value, abbreviations={}):\n",
    "    for k, v in abbreviations.items():\n",
    "        if k in value:\n",
    "            \n",
    "            value = value.replace(k, v)\n",
    "    #TODO\n",
    "    if value[0:2] not in [\"q_\", \"u_\"]:\n",
    "        value = value.replace(\"_\", \" \")\n",
    "    return value\n",
    "    \n",
    "def abbreviate_dict_value(input_dict, abbreviations):\n",
    "    \n",
    "    conv ={}\n",
    "    for k1, dict_i in input_dict.items():\n",
    "        conv[k1] = { abbreviateValue(k, abbreviations): d for k, d in dict_i.items()}\n",
    "    return conv"
   ]
  },
  {
   "cell_type": "code",
   "execution_count": 5,
   "id": "mighty-meaning",
   "metadata": {
    "ExecuteTime": {
     "end_time": "2022-06-08T12:26:41.326616Z",
     "start_time": "2022-06-08T12:26:41.312710Z"
    }
   },
   "outputs": [],
   "source": [
    "name_folder_output = \"output_v2\""
   ]
  },
  {
   "cell_type": "code",
   "execution_count": 6,
   "id": "earned-resident",
   "metadata": {
    "ExecuteTime": {
     "end_time": "2022-06-08T12:26:41.354151Z",
     "start_time": "2022-06-08T12:26:41.328985Z"
    }
   },
   "outputs": [],
   "source": [
    "compute_results = False"
   ]
  },
  {
   "cell_type": "code",
   "execution_count": 7,
   "id": "handed-arcade",
   "metadata": {
    "ExecuteTime": {
     "end_time": "2022-06-08T12:26:41.402900Z",
     "start_time": "2022-06-08T12:26:41.390153Z"
    }
   },
   "outputs": [],
   "source": [
    "if compute_results:\n",
    "    from experiments_adult_trees_taxonomies import run_adult_experiments_trees_taxonomies\n",
    "\n",
    "    run_adult_experiments_trees_taxonomies(\n",
    "        name_output_dir=\"results\",\n",
    "        type_experiment=\"one_at_time\",\n",
    "        type_criterion=\"divergence_criterion\",\n",
    "        min_support_tree=0.1,\n",
    "        metric=\"d_outcome\",\n",
    "        verbose=False,\n",
    "        ouput_folder_dir=name_folder_output\n",
    "        \n",
    "    )"
   ]
  },
  {
   "cell_type": "code",
   "execution_count": 8,
   "id": "logical-announcement",
   "metadata": {
    "ExecuteTime": {
     "end_time": "2022-06-08T12:26:41.485805Z",
     "start_time": "2022-06-08T12:26:41.442372Z"
    }
   },
   "outputs": [],
   "source": [
    "import os\n",
    "\n",
    "output_fig_dir = os.path.join(os.path.curdir, \"output_figures\", \"figures\", \"output_performance\")\n",
    "from pathlib import Path\n",
    "\n",
    "Path(output_fig_dir).mkdir(parents=True, exist_ok=True)"
   ]
  },
  {
   "cell_type": "markdown",
   "id": "amino-photography",
   "metadata": {},
   "source": [
    "# Read data"
   ]
  },
  {
   "cell_type": "code",
   "execution_count": 9,
   "id": "prepared-aberdeen",
   "metadata": {
    "ExecuteTime": {
     "end_time": "2022-06-08T12:32:18.057812Z",
     "start_time": "2022-06-08T12:32:18.038748Z"
    }
   },
   "outputs": [],
   "source": [
    "abbreviations = {\"one_at_time\":\"indiv t.\", \\\n",
    "                  \"divergence_criterion\":\"g$\\Delta$\", \"entropy\":\"entr\",\\\n",
    "                \"without_gen\": \"base\", \"with_gen\": \"generalized\"}"
   ]
  },
  {
   "cell_type": "code",
   "execution_count": 10,
   "id": "genetic-drawing",
   "metadata": {
    "ExecuteTime": {
     "end_time": "2022-06-08T12:32:19.754779Z",
     "start_time": "2022-06-08T12:32:19.734919Z"
    }
   },
   "outputs": [],
   "source": [
    "min_sup_tree = 0.1\n",
    "\n",
    "metric= \"d_outcome\"\n",
    "\n",
    "type_criterions = [\"divergence_criterion\"]\n",
    "type_gens = [\"without_gen\", \"with_gen\"]\n",
    "dataset_name = \"adult_income_taxonomy\"\n",
    "import os\n",
    "output_results= os.path.join(os.path.curdir, name_folder_output, \"results\")"
   ]
  },
  {
   "cell_type": "code",
   "execution_count": 11,
   "id": "front-singer",
   "metadata": {
    "ExecuteTime": {
     "end_time": "2022-06-08T12:32:19.860340Z",
     "start_time": "2022-06-08T12:32:19.835213Z"
    }
   },
   "outputs": [],
   "source": [
    "import os\n",
    "\n",
    "info_tree = {type_criterion:{} for type_criterion in type_criterions}\n",
    "\n",
    "info_ex_discr = {}\n",
    "\n",
    "for info_i in [\"max\", \"FP\"]:\n",
    "\n",
    "    for type_criterion in type_criterions:\n",
    "        if info_i not in info_tree[type_criterion]:\n",
    "            info_tree[type_criterion][info_i] = {}\n",
    "        filename = os.path.join(output_results,dataset_name ,type_criterion,f\"stree_{min_sup_tree}\", metric, f\"info_ALL_{info_i}.json\")\n",
    "\n",
    "        stat = abbreviate_dict_value(load_json(filename), abbreviations)\n",
    "\n",
    "        for gen_type in stat:\n",
    "            info_tree[type_criterion][info_i][gen_type] =  {float(k):v for k,v in stat[gen_type].items()}    "
   ]
  },
  {
   "cell_type": "markdown",
   "id": "shared-south",
   "metadata": {
    "ExecuteTime": {
     "end_time": "2022-01-22T09:47:32.043419Z",
     "start_time": "2022-01-22T09:47:32.018434Z"
    }
   },
   "source": [
    "# Plot max \\Delta_FPR"
   ]
  },
  {
   "cell_type": "code",
   "execution_count": 12,
   "id": "781e2703",
   "metadata": {},
   "outputs": [],
   "source": [
    "color_labels = {}\n",
    "color_labels[abbreviateValue(f'divergence_criterion_{abbreviations[\"without_gen\"]}', abbreviations)]=\"#009900\"\n",
    "\n",
    "color_labels[abbreviateValue(f'divergence_criterion_{abbreviations[\"with_gen\"]}', abbreviations)]=\"orangered\"\n",
    "\n",
    "lines_style = {k:\"-\" for k in color_labels}\n",
    "lines_style.update({k:\"-.\" for k in color_labels if( abbreviations[\"without_gen\"] in k and abbreviations[\"divergence_criterion\"] in k)})\n"
   ]
  },
  {
   "cell_type": "markdown",
   "id": "9f913500",
   "metadata": {},
   "source": [
    "## All"
   ]
  },
  {
   "cell_type": "code",
   "execution_count": 12,
   "id": "23b456b1",
   "metadata": {},
   "outputs": [
    {
     "data": {
      "image/png": "[encoded data removed]",
      "text/plain": [
       "<Figure size 380x400 with 1 Axes>"
      ]
     },
     "metadata": {
      "needs_background": "light"
     },
     "output_type": "display_data"
    }
   ],
   "source": [
    "from utils_plot import plotDicts\n",
    "info_i = \"max\"\n",
    "type_criterion = \"divergence_criterion\"\n",
    "gen_type = \"with_gen\"\n",
    "from utils_plot import plotDicts\n",
    "\n",
    "\n",
    "\n",
    "info_plot = {}\n",
    "for type_gen in type_gens:\n",
    "    for type_criterion in type_criterions:\n",
    "        info_plot.update({abbreviateValue(f\"{type_criterion}_{abbreviations[type_gen]}\", abbreviations) \\\n",
    "            :  info_tree[type_criterion][info_i][type_gen] })\n",
    "\n",
    "figure_name = os.path.join(output_fig_dir, f\"{dataset_name}_stree_{min_sup_tree}_{metric}_{info_i}_tree_all_n.pdf\")\n",
    "\n",
    "\n",
    "size_fig = (3.8,4)\n",
    "\n",
    "plotDicts(info_plot, marker=True, \\\n",
    "           sizeFig=size_fig, title=\"Highest $\\Delta_{FPR}$\", #yscale=\"log\", \n",
    "          linestyle=lines_style, color_labels=color_labels,\n",
    "          xlabel=\"Minimum support s\",  ylabel=\"max $\\Delta_{FPR}$\", labelSize=10.2,\n",
    "          outside=False,  saveFig=True, nameFig = figure_name)"
   ]
  },
  {
   "cell_type": "markdown",
   "id": "becoming-drove",
   "metadata": {},
   "source": [
    "#  Plot FP "
   ]
  },
  {
   "cell_type": "markdown",
   "id": "bad4373d",
   "metadata": {},
   "source": [
    "## All"
   ]
  },
  {
   "cell_type": "code",
   "execution_count": 13,
   "id": "peripheral-idaho",
   "metadata": {
    "ExecuteTime": {
     "end_time": "2022-06-08T12:37:20.329917Z",
     "start_time": "2022-06-08T12:37:19.688192Z"
    }
   },
   "outputs": [
    {
     "data": {
      "image/png": "[encoded data removed]",
      "text/plain": [
       "<Figure size 380x400 with 1 Axes>"
      ]
     },
     "metadata": {
      "needs_background": "light"
     },
     "output_type": "display_data"
    }
   ],
   "source": [
    "from utils_plot import plotDicts\n",
    "info_i = \"FP\"\n",
    "\n",
    "\n",
    "info_plot = {}\n",
    "for type_gen in type_gens:\n",
    "    for type_criterion in type_criterions:\n",
    "        info_plot.update({abbreviateValue(f\"{type_criterion}_{abbreviations[type_gen]}\", abbreviations) \\\n",
    "            :  info_tree[type_criterion][info_i][type_gen] })\n",
    "\n",
    "figure_name = os.path.join(output_fig_dir, f\"{dataset_name}_stree_{min_sup_tree}_{metric}_{info_i}_tree_all_n.pdf\")\n",
    "\n",
    "\n",
    "size_fig = (3.8,4)\n",
    "\n",
    "plotDicts(info_plot,  marker=True, \\\n",
    "          linestyle=lines_style, title=\"Number of frequent patterns\",\n",
    "          xlabel=\"Minimum support s\",  ylabel=\"#FP\",\n",
    "          yscale=\"log\", sizeFig=size_fig, labelSize=10.2,\n",
    "          outside=False, color_labels=color_labels, borderpad=0.05, saveFig=True, nameFig = figure_name)"
   ]
  },
  {
   "cell_type": "markdown",
   "id": "f98b9519",
   "metadata": {},
   "source": [
    "## Time"
   ]
  },
  {
   "cell_type": "code",
   "execution_count": 13,
   "id": "9df88ad0",
   "metadata": {},
   "outputs": [],
   "source": [
    "import os\n",
    "\n",
    "time_div = {type_criterion:{} for type_criterion in type_criterions}\n",
    "\n",
    "info_ex_discr = {}\n",
    "\n",
    "for info_i in [\"time\"]:\n",
    "\n",
    "    for type_criterion in type_criterions:\n",
    "        if info_i not in info_tree[type_criterion]:\n",
    "            info_tree[type_criterion][info_i] = {}\n",
    "        filename = os.path.join(output_results,dataset_name ,type_criterion,f\"stree_{min_sup_tree}\", metric, f\"info_{info_i}.json\")\n",
    "\n",
    "        stat = load_json(filename)\n",
    "\n",
    "        for gen_type in type_gens:\n",
    "            time_div[type_criterion][gen_type] =  {float(k):v for k,v in stat[gen_type].items()}    "
   ]
  },
  {
   "cell_type": "code",
   "execution_count": 14,
   "id": "1514d7cb",
   "metadata": {},
   "outputs": [
    {
     "data": {
      "image/png": "[encoded data removed]",
      "text/plain": [
       "<Figure size 380x400 with 1 Axes>"
      ]
     },
     "metadata": {
      "needs_background": "light"
     },
     "output_type": "display_data"
    }
   ],
   "source": [
    "from utils_plot import plotDicts\n",
    "\n",
    "type_criterion = \"divergence_criterion\"\n",
    "gen_type = \"with_gen\"\n",
    "from utils_plot import plotDicts\n",
    "\n",
    "\n",
    "\n",
    "info_plot = {}\n",
    "for type_gen in type_gens:\n",
    "        info_plot.update({abbreviateValue(f\"{type_criterion}_{abbreviations[type_gen]}\", abbreviations) \\\n",
    "            :  time_div[type_criterion][type_gen] })\n",
    "\n",
    "figure_name = os.path.join(output_fig_dir, f\"{dataset_name}_stree_{min_sup_tree}_{metric}_{info_i}_time.pdf\")\n",
    "\n",
    "\n",
    "size_fig = (3.8,4)\n",
    "fig = plotDicts(info_plot, marker=True, \\\n",
    "           sizeFig=size_fig, title=\"Execution time\", #yscale=\"log\", \n",
    "          linestyle=lines_style, color_labels=color_labels,\n",
    "          xlabel=\"Minimum support s\",  ylabel=\"Execution time $(seconds)$\", labelSize=10.2,\n",
    "          outside=False,  saveFig=True, nameFig = figure_name)"
   ]
  },
  {
   "cell_type": "code",
   "execution_count": 15,
   "id": "e8f7a730",
   "metadata": {},
   "outputs": [
    {
     "data": {
      "image/png": "[encoded data removed]",
      "text/plain": [
       "<Figure size 380x400 with 1 Axes>"
      ]
     },
     "metadata": {
      "needs_background": "light"
     },
     "output_type": "display_data"
    }
   ],
   "source": [
    "from utils_plot import MARKERS\n",
    "\n",
    "import matplotlib.pyplot as plt\n",
    "import numpy as np\n",
    "\n",
    "# plt.rcParams[\"figure.figsize\"], plt.rcParams[\"figure.dpi\"] = sizeFig, 100\n",
    "size_fig = (3.8,4)\n",
    "fig, ax = plt.subplots(figsize=size_fig, dpi=100)\n",
    "\n",
    "tree_discr_time = stat[\"tree_time\"]\n",
    "\n",
    "info_plot2 = {k: {ki:vi+tree_discr_time for ki, vi in info_plot[k].items()} for k in info_plot }\n",
    "m_i = 0\n",
    "info_dicts = info_plot2\n",
    "colors = [color_labels[label] for label in info_dicts]\n",
    "\n",
    "keys = list(info_dicts.keys())\n",
    "markersize=4\n",
    "linewidth = 1.5\n",
    "for e, (label_name, info_dict) in enumerate(info_dicts.items()):\n",
    "    # label_name = (\n",
    "    #     label if label != \"artificial_10\" else \"artificial\"\n",
    "    # )  # For clarity reasons\n",
    "\n",
    "    ax.plot(\n",
    "        list(info_dict.keys()),\n",
    "        list(info_dict.values()),\n",
    "        label=label_name,\n",
    "        marker=MARKERS[m_i],\n",
    "        linewidth=linewidth,\n",
    "        markersize=markersize,\n",
    "        color=colors[e],\n",
    "        linestyle=lines_style[label_name],\n",
    "    )\n",
    "    m_i = m_i + 1\n",
    "plt.plot(list(info_dict.keys()), [tree_discr_time]*len(list(info_dict.keys())), c=\"darkblue\")\n",
    "\n",
    "import cycler\n",
    "linestyle=lines_style\n",
    "xlabel=\"Minimum support s\"\n",
    "ylabel=\"Execution time $(seconds)$\"\n",
    "labelSize=10.2\n",
    "title=\"Execution time\"\n",
    "\n",
    "plt.xlabel(xlabel)\n",
    "plt.ylabel(ylabel)\n",
    "plt.title(title)\n",
    "plt.ylim(bottom=0)\n",
    "plt.legend(\n",
    "        prop={\"size\": labelSize},\n",
    "        fontsize=5,\n",
    "        borderpad=0.25,\n",
    "    )\n",
    "saveFig = False\n",
    "nameFig = \"performance_adult.pdf\"\n",
    "if saveFig:\n",
    "    fig.tight_layout()\n",
    "    plt.savefig(nameFig, bbox_inches=\"tight\")\n"
   ]
  },
  {
   "cell_type": "code",
   "execution_count": 20,
   "id": "b8827caf",
   "metadata": {},
   "outputs": [
    {
     "name": "stdout",
     "output_type": "stream",
     "text": [
      "2.7158851623535156\n"
     ]
    },
    {
     "data": {
      "text/html": [
       "<div>\n",
       "<style scoped>\n",
       "    .dataframe tbody tr th:only-of-type {\n",
       "        vertical-align: middle;\n",
       "    }\n",
       "\n",
       "    .dataframe tbody tr th {\n",
       "        vertical-align: top;\n",
       "    }\n",
       "\n",
       "    .dataframe thead th {\n",
       "        text-align: right;\n",
       "    }\n",
       "</style>\n",
       "<table border=\"1\" class=\"dataframe\">\n",
       "  <thead>\n",
       "    <tr style=\"text-align: right;\">\n",
       "      <th></th>\n",
       "      <th>without_gen</th>\n",
       "      <th>with_gen</th>\n",
       "    </tr>\n",
       "  </thead>\n",
       "  <tbody>\n",
       "    <tr>\n",
       "      <th>0.01</th>\n",
       "      <td>30.804337</td>\n",
       "      <td>27.611208</td>\n",
       "    </tr>\n",
       "    <tr>\n",
       "      <th>0.02</th>\n",
       "      <td>13.795122</td>\n",
       "      <td>20.766008</td>\n",
       "    </tr>\n",
       "    <tr>\n",
       "      <th>0.03</th>\n",
       "      <td>14.179719</td>\n",
       "      <td>16.858640</td>\n",
       "    </tr>\n",
       "    <tr>\n",
       "      <th>0.04</th>\n",
       "      <td>12.604796</td>\n",
       "      <td>21.119761</td>\n",
       "    </tr>\n",
       "    <tr>\n",
       "      <th>0.05</th>\n",
       "      <td>13.225782</td>\n",
       "      <td>16.083487</td>\n",
       "    </tr>\n",
       "    <tr>\n",
       "      <th>0.10</th>\n",
       "      <td>12.701613</td>\n",
       "      <td>20.458572</td>\n",
       "    </tr>\n",
       "    <tr>\n",
       "      <th>0.15</th>\n",
       "      <td>10.011231</td>\n",
       "      <td>12.070076</td>\n",
       "    </tr>\n",
       "    <tr>\n",
       "      <th>0.20</th>\n",
       "      <td>8.612627</td>\n",
       "      <td>13.724524</td>\n",
       "    </tr>\n",
       "  </tbody>\n",
       "</table>\n",
       "</div>"
      ],
      "text/plain": [
       "      without_gen   with_gen\n",
       "0.01    30.804337  27.611208\n",
       "0.02    13.795122  20.766008\n",
       "0.03    14.179719  16.858640\n",
       "0.04    12.604796  21.119761\n",
       "0.05    13.225782  16.083487\n",
       "0.10    12.701613  20.458572\n",
       "0.15    10.011231  12.070076\n",
       "0.20     8.612627  13.724524"
      ]
     },
     "execution_count": 20,
     "metadata": {},
     "output_type": "execute_result"
    }
   ],
   "source": [
    "import pandas as pd\n",
    "print(tree_discr_time)\n",
    "df_a = pd.DataFrame(time_div[\"divergence_criterion\"])\n",
    "df_a"
   ]
  },
  {
   "cell_type": "code",
   "execution_count": null,
   "id": "9f681b2b",
   "metadata": {},
   "outputs": [],
   "source": []
  }
 ],
 "metadata": {
  "hide_input": false,
  "kernelspec": {
   "display_name": "Python 3.8.8 ('base')",
   "language": "python",
   "name": "python3"
  },
  "language_info": {
   "codemirror_mode": {
    "name": "ipython",
    "version": 3
   },
   "file_extension": ".py",
   "mimetype": "text/x-python",
   "name": "python",
   "nbconvert_exporter": "python",
   "pygments_lexer": "ipython3",
   "version": "3.8.8"
  },
  "toc": {
   "base_numbering": 1,
   "nav_menu": {},
   "number_sections": true,
   "sideBar": true,
   "skip_h1_title": false,
   "title_cell": "Table of Contents",
   "title_sidebar": "Contents",
   "toc_cell": false,
   "toc_position": {
    "height": "calc(100% - 180px)",
    "left": "10px",
    "top": "150px",
    "width": "396px"
   },
   "toc_section_display": true,
   "toc_window_display": true
  },
  "varInspector": {
   "cols": {
    "lenName": 16,
    "lenType": 16,
    "lenVar": 40
   },
   "kernels_config": {
    "python": {
     "delete_cmd_postfix": "",
     "delete_cmd_prefix": "del ",
     "library": "var_list.py",
     "varRefreshCmd": "print(var_dic_list())"
    },
    "r": {
     "delete_cmd_postfix": ") ",
     "delete_cmd_prefix": "rm(",
     "library": "var_list.r",
     "varRefreshCmd": "cat(var_dic_list()) "
    }
   },
   "types_to_exclude": [
    "module",
    "function",
    "builtin_function_or_method",
    "instance",
    "_Feature"
   ],
   "window_display": false
  },
  "vscode": {
   "interpreter": {
    "hash": "07df9bc2b24d98062a84ddbd1ffd60fbcc72456b438b7897cd79ef4167382f91"
   }
  }
 },
 "nbformat": 4,
 "nbformat_minor": 5
}
