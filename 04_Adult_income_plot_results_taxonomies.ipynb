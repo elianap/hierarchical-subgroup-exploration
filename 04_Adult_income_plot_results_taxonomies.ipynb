{
 "cells": [
  {
   "cell_type": "code",
   "execution_count": 1,
   "id": "cardiac-syntax",
   "metadata": {
    "ExecuteTime": {
     "end_time": "2022-06-08T12:26:41.199472Z",
     "start_time": "2022-06-08T12:26:41.181516Z"
    }
   },
   "outputs": [],
   "source": [
    "%load_ext autoreload\n",
    "%autoreload 2"
   ]
  },
  {
   "cell_type": "code",
   "execution_count": 2,
   "id": "viral-omaha",
   "metadata": {
    "ExecuteTime": {
     "end_time": "2022-06-08T12:26:41.277060Z",
     "start_time": "2022-06-08T12:26:41.256219Z"
    }
   },
   "outputs": [],
   "source": [
    "def load_json(filename):\n",
    "    import json\n",
    "    with open(\n",
    "        filename,\n",
    "        \"r\",\n",
    "    ) as fp:\n",
    "        dict_i = json.load(fp)  \n",
    "    return dict_i"
   ]
  },
  {
   "cell_type": "code",
   "execution_count": 3,
   "id": "round-territory",
   "metadata": {
    "ExecuteTime": {
     "end_time": "2022-06-08T12:26:41.310181Z",
     "start_time": "2022-06-08T12:26:41.279264Z"
    }
   },
   "outputs": [],
   "source": [
    "def abbreviateValue(value, abbreviations={}):\n",
    "    for k, v in abbreviations.items():\n",
    "        if k in value:\n",
    "            \n",
    "            value = value.replace(k, v)\n",
    "    #TODO\n",
    "    if value[0:2] not in [\"q_\", \"u_\"]:\n",
    "        value = value.replace(\"_\", \" \")\n",
    "    return value\n",
    "    \n",
    "def abbreviate_dict_value(input_dict, abbreviations):\n",
    "    \n",
    "    conv ={}\n",
    "    for k1, dict_i in input_dict.items():\n",
    "        conv[k1] = { abbreviateValue(k, abbreviations): d for k, d in dict_i.items()}\n",
    "    return conv"
   ]
  },
  {
   "cell_type": "code",
   "execution_count": 4,
   "id": "mighty-meaning",
   "metadata": {
    "ExecuteTime": {
     "end_time": "2022-06-08T12:26:41.326616Z",
     "start_time": "2022-06-08T12:26:41.312710Z"
    }
   },
   "outputs": [],
   "source": [
    "name_folder_output = \"output_v2\""
   ]
  },
  {
   "cell_type": "code",
   "execution_count": 5,
   "id": "earned-resident",
   "metadata": {
    "ExecuteTime": {
     "end_time": "2022-06-08T12:26:41.354151Z",
     "start_time": "2022-06-08T12:26:41.328985Z"
    }
   },
   "outputs": [],
   "source": [
    "compute_results = True"
   ]
  },
  {
   "cell_type": "code",
   "execution_count": 6,
   "id": "handed-arcade",
   "metadata": {
    "ExecuteTime": {
     "end_time": "2022-06-08T12:26:41.402900Z",
     "start_time": "2022-06-08T12:26:41.390153Z"
    }
   },
   "outputs": [
    {
     "name": "stdout",
     "output_type": "stream",
     "text": [
      "1 10000\n"
     ]
    }
   ],
   "source": [
    "if compute_results:\n",
    "    from experiments_adult_trees_taxonomies import run_adult_experiments_trees_taxonomies\n",
    "\n",
    "    run_adult_experiments_trees_taxonomies(\n",
    "        name_output_dir=\"results\",\n",
    "        type_experiment=\"one_at_time\",\n",
    "        type_criterion=\"divergence_criterion\",\n",
    "        min_support_tree=0.1,\n",
    "        metric=\"d_outcome\",\n",
    "        verbose=False,\n",
    "        ouput_folder_dir=name_folder_output\n",
    "        \n",
    "    )"
   ]
  },
  {
   "cell_type": "code",
   "execution_count": 7,
   "id": "logical-announcement",
   "metadata": {
    "ExecuteTime": {
     "end_time": "2022-06-08T12:26:41.485805Z",
     "start_time": "2022-06-08T12:26:41.442372Z"
    }
   },
   "outputs": [],
   "source": [
    "import os\n",
    "\n",
    "output_fig_dir = os.path.join(os.path.curdir, \"output_figures\", \"figures\", \"output_performance\")\n",
    "from pathlib import Path\n",
    "\n",
    "Path(output_fig_dir).mkdir(parents=True, exist_ok=True)"
   ]
  },
  {
   "cell_type": "markdown",
   "id": "amino-photography",
   "metadata": {},
   "source": [
    "# Read data"
   ]
  },
  {
   "cell_type": "code",
   "execution_count": 8,
   "id": "prepared-aberdeen",
   "metadata": {
    "ExecuteTime": {
     "end_time": "2022-06-08T12:32:18.057812Z",
     "start_time": "2022-06-08T12:32:18.038748Z"
    }
   },
   "outputs": [],
   "source": [
    "abbreviations = {\"one_at_time\":\"indiv t.\", \\\n",
    "                  \"divergence_criterion\":\"g$\\Delta$\", \"entropy\":\"entr\",\\\n",
    "                \"without_gen\": \"base\", \"with_gen\": \"generalized\"}"
   ]
  },
  {
   "cell_type": "code",
   "execution_count": 9,
   "id": "genetic-drawing",
   "metadata": {
    "ExecuteTime": {
     "end_time": "2022-06-08T12:32:19.754779Z",
     "start_time": "2022-06-08T12:32:19.734919Z"
    }
   },
   "outputs": [],
   "source": [
    "min_sup_tree = 0.1\n",
    "\n",
    "metric= \"d_outcome\"\n",
    "\n",
    "type_criterions = [\"divergence_criterion\"]\n",
    "type_gens = [\"without_gen\", \"with_gen\"]\n",
    "dataset_name = \"adult_income_taxonomy\"\n",
    "import os\n",
    "output_results= os.path.join(os.path.curdir, name_folder_output, \"results\")"
   ]
  },
  {
   "cell_type": "code",
   "execution_count": 10,
   "id": "front-singer",
   "metadata": {
    "ExecuteTime": {
     "end_time": "2022-06-08T12:32:19.860340Z",
     "start_time": "2022-06-08T12:32:19.835213Z"
    }
   },
   "outputs": [],
   "source": [
    "import os\n",
    "\n",
    "info_tree = {type_criterion:{} for type_criterion in type_criterions}\n",
    "\n",
    "info_ex_discr = {}\n",
    "\n",
    "for info_i in [\"max\", \"FP\"]:\n",
    "\n",
    "    for type_criterion in type_criterions:\n",
    "        if info_i not in info_tree[type_criterion]:\n",
    "            info_tree[type_criterion][info_i] = {}\n",
    "        filename = os.path.join(output_results,dataset_name ,type_criterion,f\"stree_{min_sup_tree}\", metric, f\"info_ALL_{info_i}.json\")\n",
    "\n",
    "        stat = abbreviate_dict_value(load_json(filename), abbreviations)\n",
    "\n",
    "        for gen_type in stat:\n",
    "            info_tree[type_criterion][info_i][gen_type] =  {float(k):v for k,v in stat[gen_type].items()}    "
   ]
  },
  {
   "cell_type": "markdown",
   "id": "shared-south",
   "metadata": {
    "ExecuteTime": {
     "end_time": "2022-01-22T09:47:32.043419Z",
     "start_time": "2022-01-22T09:47:32.018434Z"
    }
   },
   "source": [
    "# Plot max \\Delta_FPR"
   ]
  },
  {
   "cell_type": "code",
   "execution_count": 11,
   "id": "781e2703",
   "metadata": {},
   "outputs": [],
   "source": [
    "color_labels = {}\n",
    "color_labels[abbreviateValue(f'divergence_criterion_{abbreviations[\"without_gen\"]}', abbreviations)]=\"#009900\"\n",
    "\n",
    "color_labels[abbreviateValue(f'divergence_criterion_{abbreviations[\"with_gen\"]}', abbreviations)]=\"orangered\"\n",
    "\n",
    "lines_style = {k:\"-\" for k in color_labels}\n",
    "lines_style.update({k:\"-.\" for k in color_labels if( abbreviations[\"without_gen\"] in k and abbreviations[\"divergence_criterion\"] in k)})\n"
   ]
  },
  {
   "cell_type": "markdown",
   "id": "9f913500",
   "metadata": {},
   "source": [
    "## All"
   ]
  },
  {
   "cell_type": "code",
   "execution_count": 12,
   "id": "23b456b1",
   "metadata": {},
   "outputs": [
    {
     "data": {
      "image/png": "[encoded data removed]",
      "text/plain": [
       "<Figure size 380x400 with 1 Axes>"
      ]
     },
     "metadata": {
      "needs_background": "light"
     },
     "output_type": "display_data"
    }
   ],
   "source": [
    "from utils_plot import plotDicts\n",
    "info_i = \"max\"\n",
    "type_criterion = \"divergence_criterion\"\n",
    "gen_type = \"with_gen\"\n",
    "from utils_plot import plotDicts\n",
    "\n",
    "\n",
    "\n",
    "info_plot = {}\n",
    "for type_gen in type_gens:\n",
    "    for type_criterion in type_criterions:\n",
    "        info_plot.update({abbreviateValue(f\"{type_criterion}_{abbreviations[type_gen]}\", abbreviations) \\\n",
    "            :  info_tree[type_criterion][info_i][type_gen] })\n",
    "\n",
    "figure_name = os.path.join(output_fig_dir, f\"{dataset_name}_stree_{min_sup_tree}_{metric}_{info_i}_tree_all_n.pdf\")\n",
    "\n",
    "\n",
    "size_fig = (3.8,4)\n",
    "\n",
    "plotDicts(info_plot, marker=True, \\\n",
    "           sizeFig=size_fig, title=\"Highest $\\Delta_{FPR}$\", #yscale=\"log\", \n",
    "          linestyle=lines_style, color_labels=color_labels,\n",
    "          xlabel=\"Minimum support s\",  ylabel=\"max $\\Delta_{FPR}$\", labelSize=10.2,\n",
    "          outside=False,  saveFig=True, nameFig = figure_name)"
   ]
  },
  {
   "cell_type": "markdown",
   "id": "becoming-drove",
   "metadata": {},
   "source": [
    "#  Plot FP "
   ]
  },
  {
   "cell_type": "markdown",
   "id": "bad4373d",
   "metadata": {},
   "source": [
    "## All"
   ]
  },
  {
   "cell_type": "code",
   "execution_count": 13,
   "id": "peripheral-idaho",
   "metadata": {
    "ExecuteTime": {
     "end_time": "2022-06-08T12:37:20.329917Z",
     "start_time": "2022-06-08T12:37:19.688192Z"
    }
   },
   "outputs": [
    {
     "data": {
      "image/png": "[encoded data removed]",
      "text/plain": [
       "<Figure size 380x400 with 1 Axes>"
      ]
     },
     "metadata": {
      "needs_background": "light"
     },
     "output_type": "display_data"
    }
   ],
   "source": [
    "from utils_plot import plotDicts\n",
    "info_i = \"FP\"\n",
    "\n",
    "\n",
    "info_plot = {}\n",
    "for type_gen in type_gens:\n",
    "    for type_criterion in type_criterions:\n",
    "        info_plot.update({abbreviateValue(f\"{type_criterion}_{abbreviations[type_gen]}\", abbreviations) \\\n",
    "            :  info_tree[type_criterion][info_i][type_gen] })\n",
    "\n",
    "figure_name = os.path.join(output_fig_dir, f\"{dataset_name}_stree_{min_sup_tree}_{metric}_{info_i}_tree_all_n.pdf\")\n",
    "\n",
    "\n",
    "size_fig = (3.8,4)\n",
    "\n",
    "plotDicts(info_plot,  marker=True, \\\n",
    "          linestyle=lines_style, title=\"Number of frequent patterns\",\n",
    "          xlabel=\"Minimum support s\",  ylabel=\"#FP\",\n",
    "          yscale=\"log\", sizeFig=size_fig, labelSize=10.2,\n",
    "          outside=False, color_labels=color_labels, borderpad=0.05, saveFig=True, nameFig = figure_name)"
   ]
  },
  {
   "cell_type": "code",
   "execution_count": null,
   "id": "9df88ad0",
   "metadata": {},
   "outputs": [],
   "source": []
  }
 ],
 "metadata": {
  "hide_input": false,
  "kernelspec": {
   "display_name": "Python 3.8.8 ('base')",
   "language": "python",
   "name": "python3"
  },
  "language_info": {
   "codemirror_mode": {
    "name": "ipython",
    "version": 3
   },
   "file_extension": ".py",
   "mimetype": "text/x-python",
   "name": "python",
   "nbconvert_exporter": "python",
   "pygments_lexer": "ipython3",
   "version": "3.8.8"
  },
  "toc": {
   "base_numbering": 1,
   "nav_menu": {},
   "number_sections": true,
   "sideBar": true,
   "skip_h1_title": false,
   "title_cell": "Table of Contents",
   "title_sidebar": "Contents",
   "toc_cell": false,
   "toc_position": {
    "height": "calc(100% - 180px)",
    "left": "10px",
    "top": "150px",
    "width": "396px"
   },
   "toc_section_display": true,
   "toc_window_display": true
  },
  "varInspector": {
   "cols": {
    "lenName": 16,
    "lenType": 16,
    "lenVar": 40
   },
   "kernels_config": {
    "python": {
     "delete_cmd_postfix": "",
     "delete_cmd_prefix": "del ",
     "library": "var_list.py",
     "varRefreshCmd": "print(var_dic_list())"
    },
    "r": {
     "delete_cmd_postfix": ") ",
     "delete_cmd_prefix": "rm(",
     "library": "var_list.r",
     "varRefreshCmd": "cat(var_dic_list()) "
    }
   },
   "types_to_exclude": [
    "module",
    "function",
    "builtin_function_or_method",
    "instance",
    "_Feature"
   ],
   "window_display": false
  },
  "vscode": {
   "interpreter": {
    "hash": "07df9bc2b24d98062a84ddbd1ffd60fbcc72456b438b7897cd79ef4167382f91"
   }
  }
 },
 "nbformat": 4,
 "nbformat_minor": 5
}
