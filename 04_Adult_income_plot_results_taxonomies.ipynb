{
 "cells": [
  {
   "cell_type": "code",
   "execution_count": 1,
   "id": "portuguese-robert",
   "metadata": {
    "ExecuteTime": {
     "end_time": "2022-06-08T12:02:06.878338Z",
     "start_time": "2022-06-08T12:02:06.830348Z"
    }
   },
   "outputs": [],
   "source": [
    "%load_ext autoreload\n",
    "%autoreload 2"
   ]
  },
  {
   "cell_type": "code",
   "execution_count": 2,
   "id": "complicated-introduction",
   "metadata": {
    "ExecuteTime": {
     "end_time": "2022-06-08T12:02:06.890210Z",
     "start_time": "2022-06-08T12:02:06.880142Z"
    }
   },
   "outputs": [],
   "source": [
    "def convert_dict(dict_i):\n",
    "    conv = {}\n",
    "    for type_exp, d1 in dict_i.items():\n",
    "        for type_gen,d2 in d1.items():\n",
    "            if type_gen not in conv:\n",
    "                conv[type_gen] = {}\n",
    "            conv[type_gen][type_exp]=  {float(k):v for k,v in d2.items()}\n",
    "    return conv"
   ]
  },
  {
   "cell_type": "code",
   "execution_count": 3,
   "id": "reasonable-crossing",
   "metadata": {
    "ExecuteTime": {
     "end_time": "2022-06-08T12:02:06.908132Z",
     "start_time": "2022-06-08T12:02:06.892348Z"
    }
   },
   "outputs": [],
   "source": [
    "def load_json(filename):\n",
    "    import json\n",
    "    with open(\n",
    "        filename,\n",
    "        \"r\",\n",
    "    ) as fp:\n",
    "        dict_i = json.load(fp)  \n",
    "    return dict_i"
   ]
  },
  {
   "cell_type": "code",
   "execution_count": 4,
   "id": "afraid-instrument",
   "metadata": {
    "ExecuteTime": {
     "end_time": "2022-06-08T12:02:06.949923Z",
     "start_time": "2022-06-08T12:02:06.909848Z"
    }
   },
   "outputs": [],
   "source": [
    "def abbreviateValue(value, abbreviations={}):\n",
    "    for k, v in abbreviations.items():\n",
    "        if k in value:\n",
    "            \n",
    "            value = value.replace(k, v)\n",
    "    #TODO\n",
    "    if value[0:2] not in [\"q_\", \"u_\"]:\n",
    "        value = value.replace(\"_\", \" \")\n",
    "    return value\n",
    "    \n",
    "def abbreviate_dict_value(input_dict, abbreviations):\n",
    "    \n",
    "    conv ={}\n",
    "    for k1, dict_i in input_dict.items():\n",
    "        conv[k1] = { abbreviateValue(k, abbreviations): d for k, d in dict_i.items()}\n",
    "    return conv"
   ]
  },
  {
   "cell_type": "code",
   "execution_count": 5,
   "id": "undefined-subsection",
   "metadata": {
    "ExecuteTime": {
     "end_time": "2022-06-08T12:02:06.971683Z",
     "start_time": "2022-06-08T12:02:06.953210Z"
    }
   },
   "outputs": [],
   "source": [
    "import os\n",
    "\n",
    "output_fig_dir = os.path.join(os.path.curdir, \"output_figures\", \"figures\", \"output_performance_reference\")\n",
    "from pathlib import Path\n",
    "\n",
    "Path(output_fig_dir).mkdir(parents=True, exist_ok=True)"
   ]
  },
  {
   "cell_type": "code",
   "execution_count": 6,
   "id": "southeast-forest",
   "metadata": {
    "ExecuteTime": {
     "end_time": "2022-06-08T12:02:06.988014Z",
     "start_time": "2022-06-08T12:02:06.973445Z"
    }
   },
   "outputs": [],
   "source": [
    "name_folder_output = \"output_taxonomies_ratio\""
   ]
  },
  {
   "cell_type": "code",
   "execution_count": 7,
   "id": "suitable-figure",
   "metadata": {
    "ExecuteTime": {
     "end_time": "2022-06-08T12:02:07.034954Z",
     "start_time": "2022-06-08T12:02:06.989345Z"
    }
   },
   "outputs": [],
   "source": [
    "compute_ratios = True"
   ]
  },
  {
   "cell_type": "code",
   "execution_count": 8,
   "id": "north-representative",
   "metadata": {
    "ExecuteTime": {
     "end_time": "2022-06-08T12:02:07.060272Z",
     "start_time": "2022-06-08T12:02:07.038242Z"
    }
   },
   "outputs": [],
   "source": [
    "compute_results = True"
   ]
  },
  {
   "cell_type": "code",
   "execution_count": 9,
   "id": "sharp-sheffield",
   "metadata": {
    "ExecuteTime": {
     "end_time": "2022-06-08T12:09:25.649029Z",
     "start_time": "2022-06-08T12:02:07.063306Z"
    }
   },
   "outputs": [
    {
     "name": "stdout",
     "output_type": "stream",
     "text": [
      "True\n",
      "1 10000\n",
      "1 10000\n",
      "2 20000\n",
      "3 30000\n",
      "4 40000\n",
      "1 10000\n",
      "output_taxonomies_ratio/results/adult_income_taxonomy/weighted_sum_abs_reference_s/stree_0.1/d_outcome/gain_0/info_ALL_ratio_min.json\n",
      "output_taxonomies_ratio/results/adult_income_taxonomy/weighted_sum_abs_reference_s/stree_0.1/d_outcome/gain_0/info_ALL_ratio_max.json\n",
      "output_taxonomies_ratio/results/adult_income_taxonomy/weighted_sum_abs_reference_s/stree_0.1/d_outcome/gain_0/info_ALL_wlogr_min.json\n",
      "output_taxonomies_ratio/results/adult_income_taxonomy/weighted_sum_abs_reference_s/stree_0.1/d_outcome/gain_0/info_ALL_wlogr_max.json\n"
     ]
    }
   ],
   "source": [
    "if compute_results:\n",
    "    from experiments_adult_trees_taxonomies_ratio import run_adult_experiments_trees_taxonomies\n",
    "\n",
    "    run_adult_experiments_trees_taxonomies(\n",
    "        name_output_dir=\"results\",\n",
    "        type_experiments=[\"one_at_time\", \"all_attributes\"],\n",
    "        type_criterion=\"weighted_sum_abs_reference_s\",\n",
    "        min_support_tree=0.1,\n",
    "        metrics=[\"d_outcome\"],\n",
    "        verbose=False,\n",
    "        ouput_folder_dir=name_folder_output,\n",
    "        compute_ratios = compute_ratios\n",
    "        \n",
    "    )"
   ]
  },
  {
   "cell_type": "code",
   "execution_count": 10,
   "id": "suited-george",
   "metadata": {
    "ExecuteTime": {
     "end_time": "2022-06-08T12:09:25.669097Z",
     "start_time": "2022-06-08T12:09:25.651821Z"
    }
   },
   "outputs": [],
   "source": [
    "import os\n",
    "\n",
    "output_fig_dir = os.path.join(os.path.curdir, \"output_taxonomies\", \"figures\", \"output_performance\")\n",
    "from pathlib import Path\n",
    "\n",
    "Path(output_fig_dir).mkdir(parents=True, exist_ok=True)"
   ]
  },
  {
   "cell_type": "markdown",
   "id": "documented-fight",
   "metadata": {},
   "source": [
    "# Read data"
   ]
  },
  {
   "cell_type": "code",
   "execution_count": 35,
   "id": "varying-employee",
   "metadata": {
    "ExecuteTime": {
     "end_time": "2022-06-08T12:31:43.712250Z",
     "start_time": "2022-06-08T12:31:43.692400Z"
    }
   },
   "outputs": [],
   "source": [
    "gains_names = {\"weighted_sum_abs_reference_s\":\"g$\\\\Delta$\",\n",
    "                 \"entropy\":\"gEntr\"}\n",
    "trees_names = {\"one_at_time\":\"indiv\", \n",
    "               \"all_attributes\":\"comb\"}\n",
    "gen_names = {\"without_gen\": \"base\", \"with_gen\": \"generalized\"}\n",
    "\n",
    "abbr = {}\n",
    "abbr.update(gains_names)\n",
    "abbr.update(trees_names)\n",
    "abbr.update(gen_names)"
   ]
  },
  {
   "cell_type": "code",
   "execution_count": 36,
   "id": "advised-selling",
   "metadata": {
    "ExecuteTime": {
     "end_time": "2022-06-08T12:31:43.755117Z",
     "start_time": "2022-06-08T12:31:43.739610Z"
    }
   },
   "outputs": [],
   "source": [
    "abbreviations = {\"continuous\":\"c\", \\\n",
    "                 \"quantile\": \"quant #bins:\", \"uniform\":\"unif #bins:\"}\n",
    "abbreviations.update(abbr)"
   ]
  },
  {
   "cell_type": "code",
   "execution_count": 37,
   "id": "pointed-louisville",
   "metadata": {
    "ExecuteTime": {
     "end_time": "2022-06-08T12:31:43.901838Z",
     "start_time": "2022-06-08T12:31:43.882055Z"
    }
   },
   "outputs": [],
   "source": [
    "q_abbr = abbreviations[\"quantile\"]\n",
    "u_abbr = abbreviations[\"uniform\"]"
   ]
  },
  {
   "cell_type": "code",
   "execution_count": 38,
   "id": "chinese-laugh",
   "metadata": {
    "ExecuteTime": {
     "end_time": "2022-06-08T12:31:44.106603Z",
     "start_time": "2022-06-08T12:31:44.086982Z"
    }
   },
   "outputs": [],
   "source": [
    "label_names = { \"quantile\": \"q\", \"uniform\":\"u\",}\n",
    "label_names.update(abbr)"
   ]
  },
  {
   "cell_type": "code",
   "execution_count": 39,
   "id": "reserved-fashion",
   "metadata": {
    "ExecuteTime": {
     "end_time": "2022-06-08T12:31:44.222601Z",
     "start_time": "2022-06-08T12:31:44.203397Z"
    }
   },
   "outputs": [],
   "source": [
    "label_names_2 = {\"continuous\":\"c\", \"quantile\": \"q\", \"uniform\":\"u\"}\n",
    "label_names_2.update(abbr)"
   ]
  },
  {
   "cell_type": "code",
   "execution_count": 40,
   "id": "manual-swaziland",
   "metadata": {
    "ExecuteTime": {
     "end_time": "2022-06-08T12:31:44.365699Z",
     "start_time": "2022-06-08T12:31:44.346338Z"
    }
   },
   "outputs": [],
   "source": [
    "tree_keys = ['weighted_sum_abs_reference_s_one_at_time', 'weighted_sum_abs_reference_s_all_attributes', 'entropy_one_at_time', 'entropy_all_attributes']\n",
    "tree_keys = [abbreviateValue(k, abbreviations) for k in tree_keys]"
   ]
  },
  {
   "cell_type": "code",
   "execution_count": 41,
   "id": "attended-twenty",
   "metadata": {
    "ExecuteTime": {
     "end_time": "2022-06-08T12:31:44.541416Z",
     "start_time": "2022-06-08T12:31:44.522011Z"
    }
   },
   "outputs": [],
   "source": [
    "info = {}"
   ]
  },
  {
   "cell_type": "code",
   "execution_count": 42,
   "id": "mature-provincial",
   "metadata": {
    "ExecuteTime": {
     "end_time": "2022-06-08T12:31:44.761917Z",
     "start_time": "2022-06-08T12:31:44.741326Z"
    }
   },
   "outputs": [],
   "source": [
    "min_sup_tree = 0.1\n",
    "\n",
    "metric= \"d_outcome\"\n",
    "type_criterion = \"weighted_sum_abs_reference_s\"\n",
    "\n",
    "type_criterions = [\"weighted_sum_abs_reference_s\"]\n",
    "dataset_name = \"adult_income_taxonomy\"\n",
    "import os\n",
    "output_results= os.path.join(os.path.curdir, name_folder_output, \"results\")"
   ]
  },
  {
   "cell_type": "code",
   "execution_count": 43,
   "id": "academic-senior",
   "metadata": {
    "ExecuteTime": {
     "end_time": "2022-06-08T12:31:44.877341Z",
     "start_time": "2022-06-08T12:31:44.853804Z"
    }
   },
   "outputs": [
    {
     "name": "stdout",
     "output_type": "stream",
     "text": [
      "weighted_sum_abs_reference_s\n",
      "weighted_sum_abs_reference_s\n"
     ]
    }
   ],
   "source": [
    "import os\n",
    "\n",
    "info_tree = {type_criterion:{} for type_criterion in type_criterions}\n",
    "\n",
    "info_ex_discr = {}\n",
    "\n",
    "for info_i in [\"max\", \"FP\"]:\n",
    "\n",
    "    for type_criterion in type_criterions:\n",
    "        print(type_criterion)\n",
    "        filename = os.path.join(output_results, dataset_name ,type_criterion,f\"stree_{min_sup_tree}\", metric, \"gain_0\",  f\"info_ALL_{info_i}.json\")\n",
    "\n",
    "        info_tree[type_criterion][info_i] = abbreviate_dict_value(convert_dict(load_json(filename)), abbreviations)"
   ]
  },
  {
   "cell_type": "code",
   "execution_count": 47,
   "id": "altered-atlantic",
   "metadata": {
    "ExecuteTime": {
     "end_time": "2022-06-08T12:31:48.959288Z",
     "start_time": "2022-06-08T12:31:48.937712Z"
    }
   },
   "outputs": [],
   "source": [
    "for info_i in info:\n",
    "    for type_gen in info[info_i]:\n",
    "        if \"all_c\" in info[info_i][type_gen]:\n",
    "            info[info_i][type_gen].pop(\"all_c\")"
   ]
  },
  {
   "cell_type": "code",
   "execution_count": 48,
   "id": "democratic-channel",
   "metadata": {
    "ExecuteTime": {
     "end_time": "2022-06-08T12:31:49.098417Z",
     "start_time": "2022-06-08T12:31:49.075975Z"
    }
   },
   "outputs": [],
   "source": [
    "color_labels = {}\n",
    "color_labels[abbreviateValue('weighted_sum_abs_reference_s_one_at_time', abbreviations)]=\"orangered\"\n",
    "color_labels[abbreviateValue('weighted_sum_abs_reference_s_all_attributes', abbreviations)]=\"orange\"\n",
    "color_labels['user']=\"crimson\""
   ]
  },
  {
   "cell_type": "code",
   "execution_count": 49,
   "id": "comic-sudan",
   "metadata": {
    "ExecuteTime": {
     "end_time": "2022-06-08T12:31:49.350819Z",
     "start_time": "2022-06-08T12:31:49.329442Z"
    }
   },
   "outputs": [],
   "source": [
    "save_fig = False"
   ]
  },
  {
   "cell_type": "code",
   "execution_count": 50,
   "id": "lesser-macedonia",
   "metadata": {
    "ExecuteTime": {
     "end_time": "2022-06-08T12:31:49.825192Z",
     "start_time": "2022-06-08T12:31:49.804066Z"
    }
   },
   "outputs": [],
   "source": [
    "type_gens = [\"without_gen\", \"with_gen\"]"
   ]
  },
  {
   "cell_type": "code",
   "execution_count": 51,
   "id": "likely-chaos",
   "metadata": {
    "ExecuteTime": {
     "end_time": "2022-06-08T12:31:50.077589Z",
     "start_time": "2022-06-08T12:31:50.055184Z"
    }
   },
   "outputs": [],
   "source": [
    "info_i=\"max\"\n",
    "\n",
    "info_dicts = {}\n",
    "\n",
    "info_plot_max = {type_gen:{} for type_gen in type_gens}\n",
    "for type_gen in type_gens:\n",
    "        \n",
    "    for type_criterion in type_criterions:\n",
    "        info_plot_max[type_gen].update({abbreviateValue(f\"{type_criterion}_{type_exp}\", abbreviations):v for type_exp, v in info_tree[type_criterion][info_i][type_gen].items()})"
   ]
  },
  {
   "cell_type": "code",
   "execution_count": 52,
   "id": "empirical-conference",
   "metadata": {
    "ExecuteTime": {
     "end_time": "2022-06-08T12:31:50.522792Z",
     "start_time": "2022-06-08T12:31:50.500967Z"
    }
   },
   "outputs": [],
   "source": [
    "def select_keys(dict_i, keys_sel):\n",
    "    return {k:dict_i[k] for k in keys_sel if k in dict_i}"
   ]
  },
  {
   "cell_type": "markdown",
   "id": "seasonal-rental",
   "metadata": {},
   "source": [
    "# Plot max \\Delta_income"
   ]
  },
  {
   "cell_type": "code",
   "execution_count": 54,
   "id": "promising-friday",
   "metadata": {
    "ExecuteTime": {
     "end_time": "2022-06-08T12:31:54.656371Z",
     "start_time": "2022-06-08T12:31:54.637747Z"
    }
   },
   "outputs": [],
   "source": [
    "save_fig = True"
   ]
  },
  {
   "cell_type": "code",
   "execution_count": 58,
   "id": "secondary-princeton",
   "metadata": {
    "ExecuteTime": {
     "end_time": "2022-06-08T13:11:03.771427Z",
     "start_time": "2022-06-08T13:11:03.233130Z"
    }
   },
   "outputs": [
    {
     "name": "stdout",
     "output_type": "stream",
     "text": [
      "./output_taxonomies/figures/output_performance/adult_income_taxonomy_stree_0.1_d_outcome_max_tree_all.pdf\n"
     ]
    },
    {
     "data": {
      "image/png": "[encoded data removed]",
      "text/plain": [
       "<Figure size 380x400 with 1 Axes>"
      ]
     },
     "metadata": {
      "needs_background": "light"
     },
     "output_type": "display_data"
    }
   ],
   "source": [
    "info_i = \"max\"\n",
    "\n",
    "\n",
    "\n",
    "\n",
    "color_labels = {}\n",
    "#color_labels[abbreviateValue(f'entropy_one_at_time {label_names_2[\"without_gen\"]}', abbreviations)]=\"#7fcc7f\"#colors[0]\n",
    "color_labels[abbreviateValue(f'weighted_sum_abs_reference_s_one_at_time {label_names_2[\"without_gen\"]}', abbreviations)]=\"#009900\"\n",
    "\n",
    "\n",
    "#color_labels[abbreviateValue(f'entropy_one_at_time {label_names_2[\"with_gen\"]}', abbreviations)]=\"mediumblue\"#colors[0]\n",
    "color_labels[abbreviateValue(f'weighted_sum_abs_reference_s_one_at_time {label_names_2[\"with_gen\"]}', abbreviations)]=\"orangered\"\n",
    "#color_labels[abbreviateValue(f'entropy_all_attributes {label_names_2[\"with_gen\"]}', abbreviations)]=\"royalblue\"#colors[0]\n",
    "color_labels[abbreviateValue(f'weighted_sum_abs_reference_s_all_attributes {label_names_2[\"with_gen\"]}', abbreviations)]=\"orange\"\n",
    "\n",
    "lines_style = {k:\"-\" for k in color_labels}\n",
    "lines_style.update({k:\"--\" for k in color_labels if( abbreviations[\"without_gen\"] in k and abbreviations[\"entropy\"] in k)})\n",
    "lines_style.update({k:\"-.\" for k in color_labels if( abbreviations[\"without_gen\"] in k and abbreviations[\"weighted_sum_abs_reference_s\"] in k)})\n",
    "\n",
    "\n",
    "\n",
    "size_fig = (3.8,4)\n",
    "remove_combined = True\n",
    "\n",
    "info_plot = {}\n",
    "for type_gen in type_gens:\n",
    "    for type_criterion in type_criterions:\n",
    "        if remove_combined:\n",
    "            info_plot.update({abbreviateValue(f\"{type_criterion}_{type_exp}_{label_names_2[type_gen]}\", abbreviations):v for type_exp, v in info_tree[type_criterion][info_i][type_gen].items() if v  and type_exp!=abbreviations[\"all_attributes\"]})\n",
    "        else:\n",
    "            info_plot.update({abbreviateValue(f\"{type_criterion}_{type_exp}_{label_names_2[type_gen]}\", abbreviations):v for type_exp, v in info_tree[type_criterion][info_i][type_gen].items() if v})\n",
    "\n",
    "        \n",
    "figure_name = os.path.join(output_fig_dir, f\"{dataset_name}_stree_{min_sup_tree}_{metric}_{info_i}_tree_all.pdf\")\n",
    "print(figure_name)\n",
    "\n",
    "info_plot = {k.replace(f'{abbreviations[\"one_at_time\"]} ', \"\"):v for k,v in info_plot.items()}\n",
    "color_labels = {k.replace(f'{abbreviations[\"one_at_time\"]} ', \"\"):v for k,v in color_labels.items()}\n",
    "lines_style = {k.replace(f'{abbreviations[\"one_at_time\"]} ', \"\"):v for k,v in lines_style.items()}\n",
    "\n",
    "from utils_plot import plotDicts\n",
    "\n",
    "plotDicts(info_plot, marker=True, \\\n",
    "          linestyle=lines_style, sizeFig=size_fig, title=\"Highest $\\Delta_{income}$\", #yscale=\"log\",\n",
    "          xlabel=\"Minimum support s\",  ylabel=\"max $\\Delta_{income}$\", labelSize=10.2,\n",
    "          outside=False, color_labels=color_labels, saveFig=True, nameFig = figure_name)"
   ]
  },
  {
   "cell_type": "markdown",
   "id": "specific-emergency",
   "metadata": {
    "ExecuteTime": {
     "end_time": "2022-01-04T11:47:09.321389Z",
     "start_time": "2022-01-04T11:47:09.304994Z"
    }
   },
   "source": [
    "# Plot FP"
   ]
  },
  {
   "cell_type": "code",
   "execution_count": 56,
   "id": "speaking-diameter",
   "metadata": {
    "ExecuteTime": {
     "end_time": "2022-06-08T12:31:59.499392Z",
     "start_time": "2022-06-08T12:31:58.820450Z"
    }
   },
   "outputs": [
    {
     "name": "stdout",
     "output_type": "stream",
     "text": [
      "./output_taxonomies/figures/output_performance/adult_income_taxonomy_stree_0.1_d_outcome_FP_tree_all.pdf\n"
     ]
    },
    {
     "data": {
      "image/png": "[encoded data removed]",
      "text/plain": [
       "<Figure size 380x400 with 1 Axes>"
      ]
     },
     "metadata": {
      "needs_background": "light"
     },
     "output_type": "display_data"
    }
   ],
   "source": [
    "info_i = \"FP\"\n",
    "\n",
    "\n",
    "color_labels = {}\n",
    "color_labels[abbreviateValue(f'entropy_one_at_time {abbreviations[\"without_gen\"]}', abbreviations)]=\"#7fcc7f\"\n",
    "color_labels[abbreviateValue(f'weighted_sum_abs_reference_s_one_at_time {abbreviations[\"without_gen\"]}', abbreviations)]=\"#009900\"\n",
    "\n",
    "\n",
    "color_labels[abbreviateValue(f'entropy_one_at_time {abbreviations[\"with_gen\"]}', abbreviations)]=\"mediumblue\"\n",
    "color_labels[abbreviateValue(f'weighted_sum_abs_reference_s_one_at_time {abbreviations[\"with_gen\"]}', abbreviations)]=\"orangered\"\n",
    "color_labels[abbreviateValue(f'entropy_all_attributes {abbreviations[\"with_gen\"]}', abbreviations)]=\"royalblue\"\n",
    "color_labels[abbreviateValue(f'weighted_sum_abs_reference_s_all_attributes {abbreviations[\"with_gen\"]}', abbreviations)]=\"orange\"\n",
    "\n",
    "lines_style = {k:\"-\" for k in color_labels}\n",
    "lines_style.update({k:\"--\" for k in color_labels if( abbreviations[\"without_gen\"] in k and abbreviations[\"entropy\"] in k)})\n",
    "lines_style.update({k:\"-.\" for k in color_labels if( abbreviations[\"without_gen\"] in k and abbreviations[\"weighted_sum_abs_reference_s\"] in k)})\n",
    "\n",
    "\n",
    "size_fig = (3.8,4)\n",
    "remove_combined = True\n",
    "\n",
    "info_plot = {}\n",
    "for type_gen in type_gens:\n",
    "    for type_criterion in type_criterions:\n",
    "        if remove_combined:\n",
    "            info_plot.update({abbreviateValue(f\"{type_criterion}_{type_exp}_{label_names_2[type_gen]}\", abbreviations):v for type_exp, v in info_tree[type_criterion][info_i][type_gen].items() if v and type_exp!=abbreviations[\"all_attributes\"]})\n",
    "        else:\n",
    "            info_plot.update({abbreviateValue(f\"{type_criterion}_{type_exp}_{label_names_2[type_gen]}\", abbreviations):v for type_exp, v in info_tree[type_criterion][info_i][type_gen].items() if v})\n",
    "\n",
    "        \n",
    "figure_name = os.path.join(output_fig_dir, f\"{dataset_name}_stree_{min_sup_tree}_{metric}_{info_i}_tree_all.pdf\")\n",
    "print(figure_name)\n",
    "\n",
    "info_plot = {k.replace(f'{abbreviations[\"one_at_time\"]} ', \"\"):v for k,v in info_plot.items()}\n",
    "color_labels = {k.replace(f'{abbreviations[\"one_at_time\"]} ', \"\"):v for k,v in color_labels.items()}\n",
    "lines_style = {k.replace(f'{abbreviations[\"one_at_time\"]} ', \"\"):v for k,v in lines_style.items()}\n",
    "\n",
    "    \n",
    "from utils_plot import plotDicts\n",
    "\n",
    "plotDicts(info_plot,  marker=True, \\\n",
    "          linestyle=lines_style, title=\"Number of frequent patterns\",\n",
    "          xlabel=\"Minimum support s\",  ylabel=\"#FP\",\n",
    "          yscale=\"log\", sizeFig=size_fig, labelSize=10.2,\n",
    "          outside=False, color_labels=color_labels, borderpad=0.05, saveFig=True, nameFig = figure_name)"
   ]
  },
  {
   "cell_type": "markdown",
   "id": "recovered-september",
   "metadata": {},
   "source": [
    "# Ratio"
   ]
  },
  {
   "cell_type": "code",
   "execution_count": 33,
   "id": "phantom-agency",
   "metadata": {
    "ExecuteTime": {
     "end_time": "2022-06-02T13:08:58.491031Z",
     "start_time": "2022-06-02T13:08:58.477547Z"
    }
   },
   "outputs": [],
   "source": [
    "info = {}"
   ]
  },
  {
   "cell_type": "code",
   "execution_count": 34,
   "id": "remarkable-optimization",
   "metadata": {
    "ExecuteTime": {
     "end_time": "2022-06-02T13:08:58.530389Z",
     "start_time": "2022-06-02T13:08:58.492598Z"
    }
   },
   "outputs": [],
   "source": [
    "min_sup_tree = 0.1\n",
    "\n",
    "metric= \"d_outcome\"\n",
    "type_criterion = \"weighted_sum_abs_reference_s\"\n",
    "\n",
    "type_criterions = [\"weighted_sum_abs_reference_s\"]\n",
    "dataset_name = \"adult_income_taxonomy\"\n",
    "import os\n",
    "output_results= os.path.join(os.path.curdir, name_folder_output, \"results\")"
   ]
  },
  {
   "cell_type": "code",
   "execution_count": 35,
   "id": "everyday-style",
   "metadata": {
    "ExecuteTime": {
     "end_time": "2022-06-02T13:08:58.570933Z",
     "start_time": "2022-06-02T13:08:58.533296Z"
    }
   },
   "outputs": [],
   "source": [
    "import os\n",
    "\n",
    "info_tree = {type_criterion:{} for type_criterion in type_criterions}\n",
    "\n",
    "info_ex_discr = {}\n",
    "\n",
    "for info_i in [\"max\", \"min\"]:\n",
    "    for type_criterion in type_criterions:\n",
    "        for ratio_type in [\"ratio\", \"wlogr\"]:\n",
    "            filename = os.path.join(output_results, dataset_name ,type_criterion,f\"stree_{min_sup_tree}\", metric, \"gain_0\",  f\"info_ALL_{ratio_type}_{info_i}.json\")\n",
    "            if ratio_type not in info_tree[type_criterion]:\n",
    "                info_tree[type_criterion][ratio_type] = {}\n",
    "            info_tree[type_criterion][ratio_type][info_i] = abbreviate_dict_value(convert_dict(load_json(filename)), abbreviations)"
   ]
  },
  {
   "cell_type": "code",
   "execution_count": null,
   "id": "traditional-intervention",
   "metadata": {
    "ExecuteTime": {
     "end_time": "2022-06-02T12:58:52.218328Z",
     "start_time": "2022-06-02T12:58:52.198789Z"
    }
   },
   "outputs": [],
   "source": []
  },
  {
   "cell_type": "code",
   "execution_count": 42,
   "id": "endless-cardiff",
   "metadata": {
    "ExecuteTime": {
     "end_time": "2022-06-02T13:14:34.628801Z",
     "start_time": "2022-06-02T13:14:34.274625Z"
    }
   },
   "outputs": [
    {
     "name": "stdout",
     "output_type": "stream",
     "text": [
      "./output_taxonomies/figures/output_performance/adult_income_taxonomy_stree_0.1_d_outcome_wlogr_max_tree_all.pdf\n"
     ]
    },
    {
     "data": {
      "image/png": "[encoded data removed]",
      "text/plain": [
       "<Figure size 380x400 with 1 Axes>"
      ]
     },
     "metadata": {
      "needs_background": "light"
     },
     "output_type": "display_data"
    }
   ],
   "source": [
    "info_i = \"FP\"\n",
    "\n",
    "\n",
    "color_labels = {}\n",
    "color_labels[abbreviateValue(f'entropy_one_at_time {abbreviations[\"without_gen\"]}', abbreviations)]=\"#7fcc7f\"\n",
    "color_labels[abbreviateValue(f'weighted_sum_abs_reference_s_one_at_time {abbreviations[\"without_gen\"]}', abbreviations)]=\"#009900\"\n",
    "\n",
    "\n",
    "color_labels[abbreviateValue(f'entropy_one_at_time {abbreviations[\"with_gen\"]}', abbreviations)]=\"mediumblue\"\n",
    "color_labels[abbreviateValue(f'weighted_sum_abs_reference_s_one_at_time {abbreviations[\"with_gen\"]}', abbreviations)]=\"orangered\"\n",
    "color_labels[abbreviateValue(f'entropy_all_attributes {abbreviations[\"with_gen\"]}', abbreviations)]=\"royalblue\"\n",
    "color_labels[abbreviateValue(f'weighted_sum_abs_reference_s_all_attributes {abbreviations[\"with_gen\"]}', abbreviations)]=\"orange\"\n",
    "\n",
    "lines_style = {k:\"-\" for k in color_labels}\n",
    "lines_style.update({k:\"--\" for k in color_labels if( abbreviations[\"without_gen\"] in k and abbreviations[\"entropy\"] in k)})\n",
    "lines_style.update({k:\"-.\" for k in color_labels if( abbreviations[\"without_gen\"] in k and abbreviations[\"weighted_sum_abs_reference_s\"] in k)})\n",
    "\n",
    "\n",
    "size_fig = (3.8,4)\n",
    "\n",
    "\n",
    "measure = \"wlogr\"\n",
    "info_i = \"max\"\n",
    "\n",
    "\n",
    "\n",
    "info_plot = {}\n",
    "for type_gen in type_gens:\n",
    "    for type_criterion in type_criterions:\n",
    "        info_plot.update(\n",
    "        {abbreviateValue(f\"{type_criterion}_{type_exp}_{label_names_2[type_gen]}\", abbreviations):v \n",
    "                     for type_exp, v in info_tree[type_criterion][measure][info_i][type_gen].items() if v})\n",
    "\n",
    "        \n",
    "figure_name = os.path.join(output_fig_dir, f\"{dataset_name}_stree_{min_sup_tree}_{metric}_{measure}_{info_i}_tree_all.pdf\")\n",
    "print(figure_name)\n",
    "\n",
    "    \n",
    "from utils_plot import plotDicts\n",
    "\n",
    "plotDicts(info_plot,  marker=True, \\\n",
    "          linestyle=lines_style, title=measure,\n",
    "          xlabel=\"Minimum support s\",  ylabel=measure,  sizeFig=size_fig, labelSize=10.2,\n",
    "          outside=False, color_labels=color_labels, borderpad=0.05, saveFig=True, nameFig = figure_name)"
   ]
  },
  {
   "cell_type": "code",
   "execution_count": null,
   "id": "adjacent-lease",
   "metadata": {},
   "outputs": [],
   "source": []
  }
 ],
 "metadata": {
  "hide_input": false,
  "kernelspec": {
   "display_name": "Python 3",
   "language": "python",
   "name": "python3"
  },
  "language_info": {
   "codemirror_mode": {
    "name": "ipython",
    "version": 3
   },
   "file_extension": ".py",
   "mimetype": "text/x-python",
   "name": "python",
   "nbconvert_exporter": "python",
   "pygments_lexer": "ipython3",
   "version": "3.7.9"
  },
  "toc": {
   "base_numbering": 1,
   "nav_menu": {},
   "number_sections": true,
   "sideBar": true,
   "skip_h1_title": false,
   "title_cell": "Table of Contents",
   "title_sidebar": "Contents",
   "toc_cell": false,
   "toc_position": {
    "height": "calc(100% - 180px)",
    "left": "10px",
    "top": "150px",
    "width": "396px"
   },
   "toc_section_display": true,
   "toc_window_display": true
  },
  "varInspector": {
   "cols": {
    "lenName": 16,
    "lenType": 16,
    "lenVar": 40
   },
   "kernels_config": {
    "python": {
     "delete_cmd_postfix": "",
     "delete_cmd_prefix": "del ",
     "library": "var_list.py",
     "varRefreshCmd": "print(var_dic_list())"
    },
    "r": {
     "delete_cmd_postfix": ") ",
     "delete_cmd_prefix": "rm(",
     "library": "var_list.r",
     "varRefreshCmd": "cat(var_dic_list()) "
    }
   },
   "types_to_exclude": [
    "module",
    "function",
    "builtin_function_or_method",
    "instance",
    "_Feature"
   ],
   "window_display": false
  }
 },
 "nbformat": 4,
 "nbformat_minor": 5
}
