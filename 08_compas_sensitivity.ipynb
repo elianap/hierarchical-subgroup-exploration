{
 "cells": [
  {
   "cell_type": "code",
   "execution_count": 1,
   "id": "6e29837b",
   "metadata": {
    "ExecuteTime": {
     "end_time": "2022-01-22T08:43:06.679146Z",
     "start_time": "2022-01-22T08:43:06.660468Z"
    }
   },
   "outputs": [],
   "source": [
    "%load_ext autoreload\n",
    "%autoreload 2"
   ]
  },
  {
   "cell_type": "code",
   "execution_count": 2,
   "id": "4c1469a5",
   "metadata": {
    "ExecuteTime": {
     "end_time": "2022-01-22T08:43:07.062536Z",
     "start_time": "2022-01-22T08:43:06.680756Z"
    }
   },
   "outputs": [],
   "source": [
    "import pandas as pd\n",
    "import numpy as np\n",
    "\n",
    "pd.set_option(\"display.max_colwidth\", None)"
   ]
  },
  {
   "cell_type": "code",
   "execution_count": 3,
   "id": "3afd0a1c",
   "metadata": {
    "ExecuteTime": {
     "end_time": "2022-01-22T08:43:07.077201Z",
     "start_time": "2022-01-22T08:43:07.063916Z"
    }
   },
   "outputs": [],
   "source": [
    "def viz_tree(tree_discr, continuous_attributes, tree_outputdir, suffix, saveFig=False):\n",
    "    import os\n",
    "\n",
    "    tree_discr.printDiscretizationTrees(round_v=3)\n",
    "\n",
    "    if type(tree_discr.trees) is dict:\n",
    "        dot = {}\n",
    "        for attribute in continuous_attributes:\n",
    "            dot[attribute] = tree_discr.trees[attribute].visualizeTreeDiGraph()\n",
    "            if saveFig:\n",
    "                dot[attribute].render(\n",
    "                    os.path.join(tree_outputdir, f\"tree_{attribute}_{suffix}.pdf\")\n",
    "                )\n",
    "        dot_show = dot[attribute]\n",
    "    else:\n",
    "        dot_show = tree_discr.trees.visualizeTreeDiGraph()\n",
    "        if saveFig:\n",
    "\n",
    "            dot_show.render(os.path.join(tree_outputdir, f\"tree_{suffix}.pdf\"))\n",
    "\n",
    "\n",
    "def printable_top_k(FP_fm, metric, COL_info, K=3, abbreviations={}, th_redundancy=0):\n",
    "    from divexplorer_generalized.FP_Divergence import FP_Divergence\n",
    "\n",
    "    fp_divergence_i = FP_Divergence(FP_fm, metric=metric)\n",
    "\n",
    "    FP_sorted_i = (\n",
    "        fp_divergence_i.getDivergence(th_redundancy=th_redundancy)\n",
    "        .sort_values(\n",
    "            [fp_divergence_i.metric, fp_divergence_i.t_value_col], ascending=False\n",
    "        )\n",
    "        .head(K)\n",
    "    )\n",
    "\n",
    "    from utils_printable import printable\n",
    "\n",
    "    COLS = COL_info + [fp_divergence_i.metric, fp_divergence_i.t_value_col]\n",
    "\n",
    "    FP_print_i = printable(FP_sorted_i[COLS], abbreviations=abbreviations)\n",
    "    return FP_print_i"
   ]
  },
  {
   "cell_type": "code",
   "execution_count": 4,
   "id": "2852c000",
   "metadata": {
    "ExecuteTime": {
     "end_time": "2022-01-22T08:43:07.091756Z",
     "start_time": "2022-01-22T08:43:07.078862Z"
    }
   },
   "outputs": [],
   "source": [
    "out = {}\n",
    "out_support = {}"
   ]
  },
  {
   "cell_type": "code",
   "execution_count": 5,
   "id": "5619797d",
   "metadata": {
    "ExecuteTime": {
     "end_time": "2022-01-22T08:43:07.118618Z",
     "start_time": "2022-01-22T08:43:07.109128Z"
    }
   },
   "outputs": [],
   "source": [
    "COL_info_detail = [\"itemsets\", \"support\", \"tn\", \"fp\", \"fn\", \"tp\"]\n",
    "\n",
    "COL_info = [\"itemsets\", \"support\"]"
   ]
  },
  {
   "cell_type": "markdown",
   "id": "0e23bbf4",
   "metadata": {},
   "source": [
    "# Parameters"
   ]
  },
  {
   "cell_type": "code",
   "execution_count": 6,
   "id": "48d5a81e",
   "metadata": {
    "ExecuteTime": {
     "end_time": "2022-01-22T08:43:07.140720Z",
     "start_time": "2022-01-22T08:43:07.120438Z"
    }
   },
   "outputs": [],
   "source": [
    "K=3\n",
    "\n",
    "metric = \"d_fpr\"\n",
    "t_value_col = \"t_value_fp\"\n",
    "min_sup_divergence=0.05"
   ]
  },
  {
   "cell_type": "code",
   "execution_count": 7,
   "id": "d23ada4f",
   "metadata": {},
   "outputs": [],
   "source": [
    "metrics = [\"d_fpr\", \"d_fnr\", \"d_accuracy\", \"d_error\"]"
   ]
  },
  {
   "cell_type": "code",
   "execution_count": 8,
   "id": "3aece848",
   "metadata": {
    "ExecuteTime": {
     "end_time": "2022-01-22T08:43:07.162157Z",
     "start_time": "2022-01-22T08:43:07.143268Z"
    }
   },
   "outputs": [],
   "source": [
    "name_output_dir = \"output_compas\""
   ]
  },
  {
   "cell_type": "code",
   "execution_count": 9,
   "id": "2d748a99",
   "metadata": {
    "ExecuteTime": {
     "end_time": "2022-01-22T08:43:07.183479Z",
     "start_time": "2022-01-22T08:43:07.164963Z"
    }
   },
   "outputs": [],
   "source": [
    "saveFig = False"
   ]
  },
  {
   "cell_type": "markdown",
   "id": "2d9153a6",
   "metadata": {},
   "source": [
    "# Dataset"
   ]
  },
  {
   "cell_type": "code",
   "execution_count": 10,
   "id": "e3ef12c1",
   "metadata": {
    "ExecuteTime": {
     "end_time": "2022-01-22T08:43:07.435967Z",
     "start_time": "2022-01-22T08:43:07.186047Z"
    }
   },
   "outputs": [
    {
     "data": {
      "text/html": [
       "<div>\n",
       "<style scoped>\n",
       "    .dataframe tbody tr th:only-of-type {\n",
       "        vertical-align: middle;\n",
       "    }\n",
       "\n",
       "    .dataframe tbody tr th {\n",
       "        vertical-align: top;\n",
       "    }\n",
       "\n",
       "    .dataframe thead th {\n",
       "        text-align: right;\n",
       "    }\n",
       "</style>\n",
       "<table border=\"1\" class=\"dataframe\">\n",
       "  <thead>\n",
       "    <tr style=\"text-align: right;\">\n",
       "      <th></th>\n",
       "      <th>c_charge_degree</th>\n",
       "      <th>race</th>\n",
       "      <th>sex</th>\n",
       "      <th>age</th>\n",
       "      <th>priors_count</th>\n",
       "      <th>length_of_stay</th>\n",
       "      <th>class</th>\n",
       "      <th>predicted</th>\n",
       "    </tr>\n",
       "  </thead>\n",
       "  <tbody>\n",
       "    <tr>\n",
       "      <th>0</th>\n",
       "      <td>F</td>\n",
       "      <td>Other</td>\n",
       "      <td>Male</td>\n",
       "      <td>69</td>\n",
       "      <td>0</td>\n",
       "      <td>1.0</td>\n",
       "      <td>0</td>\n",
       "      <td>0</td>\n",
       "    </tr>\n",
       "    <tr>\n",
       "      <th>1</th>\n",
       "      <td>F</td>\n",
       "      <td>African-American</td>\n",
       "      <td>Male</td>\n",
       "      <td>34</td>\n",
       "      <td>0</td>\n",
       "      <td>10.0</td>\n",
       "      <td>1</td>\n",
       "      <td>0</td>\n",
       "    </tr>\n",
       "    <tr>\n",
       "      <th>2</th>\n",
       "      <td>F</td>\n",
       "      <td>African-American</td>\n",
       "      <td>Male</td>\n",
       "      <td>24</td>\n",
       "      <td>4</td>\n",
       "      <td>1.0</td>\n",
       "      <td>1</td>\n",
       "      <td>0</td>\n",
       "    </tr>\n",
       "    <tr>\n",
       "      <th>3</th>\n",
       "      <td>M</td>\n",
       "      <td>Other</td>\n",
       "      <td>Male</td>\n",
       "      <td>44</td>\n",
       "      <td>0</td>\n",
       "      <td>1.0</td>\n",
       "      <td>0</td>\n",
       "      <td>0</td>\n",
       "    </tr>\n",
       "    <tr>\n",
       "      <th>4</th>\n",
       "      <td>F</td>\n",
       "      <td>Caucasian</td>\n",
       "      <td>Male</td>\n",
       "      <td>41</td>\n",
       "      <td>14</td>\n",
       "      <td>6.0</td>\n",
       "      <td>1</td>\n",
       "      <td>0</td>\n",
       "    </tr>\n",
       "  </tbody>\n",
       "</table>\n",
       "</div>"
      ],
      "text/plain": [
       "  c_charge_degree              race   sex  age  priors_count  length_of_stay  \\\n",
       "0               F             Other  Male   69             0             1.0   \n",
       "1               F  African-American  Male   34             0            10.0   \n",
       "2               F  African-American  Male   24             4             1.0   \n",
       "3               M             Other  Male   44             0             1.0   \n",
       "4               F         Caucasian  Male   41            14             6.0   \n",
       "\n",
       "   class  predicted  \n",
       "0      0          0  \n",
       "1      1          0  \n",
       "2      1          0  \n",
       "3      0          0  \n",
       "4      1          0  "
      ]
     },
     "execution_count": 10,
     "metadata": {},
     "output_type": "execute_result"
    }
   ],
   "source": [
    "abbreviations = {\n",
    "    \"age_cat\": \"age\",\n",
    "    \"priors_count\": \"#prior\",\n",
    "    \"Greater than 45\": \">45\",\n",
    "    \"25 - 45\": \"25-45\",\n",
    "    \"African-American\": \"Afr-Am\",\n",
    "    \"c_charge_degree\": \"charge\",\n",
    "    \"Less than 25\": \"<25\",\n",
    "    \"=>\": \">\",\n",
    "    \"=<\": \"<\",\n",
    "    \"length_of_stay\": \"stay\",\n",
    "    \"Caucasian\": \"Cauc\",\n",
    "}\n",
    "\n",
    "dataset_name = \"compas\"\n",
    "risk_class_type = True\n",
    "\n",
    "from import_datasets import import_process_compas\n",
    "\n",
    "dfI, class_map = import_process_compas(\n",
    "    risk_class=risk_class_type, continuous_col=True\n",
    ")\n",
    "dfI.reset_index(drop=True, inplace=True)\n",
    "\n",
    "dfI[\"predicted\"] = dfI[\"predicted\"].replace({\"Medium-Low\": 0, \"High\": 1})\n",
    "true_class_name, pred_class_name = \"class\", \"predicted\"\n",
    "class_and_pred_names = [true_class_name, pred_class_name]\n",
    "attributes = list(dfI.columns.drop(class_and_pred_names))\n",
    "\n",
    "dfI = dfI[attributes + class_and_pred_names]\n",
    "dfI.head()"
   ]
  },
  {
   "cell_type": "markdown",
   "id": "08cc5454",
   "metadata": {},
   "source": [
    "# Tree divergence - error"
   ]
  },
  {
   "cell_type": "code",
   "execution_count": 11,
   "id": "d770f619",
   "metadata": {
    "ExecuteTime": {
     "end_time": "2022-01-22T08:43:09.466928Z",
     "start_time": "2022-01-22T08:43:09.453680Z"
    }
   },
   "outputs": [],
   "source": [
    "show_fig = False\n",
    "saveFig = False"
   ]
  },
  {
   "cell_type": "code",
   "execution_count": 12,
   "id": "7eb43b04",
   "metadata": {
    "ExecuteTime": {
     "end_time": "2022-01-22T08:43:09.488526Z",
     "start_time": "2022-01-22T08:43:09.468955Z"
    }
   },
   "outputs": [],
   "source": [
    "import os\n",
    "\n",
    "\n",
    "tree_outputdir = os.path.join(\".\", \"output\", \"figures\", \"compas\", \"tree\")\n",
    "if saveFig:\n",
    "    from pathlib import Path\n",
    "\n",
    "    Path(tree_outputdir).mkdir(parents=True, exist_ok=True)"
   ]
  },
  {
   "cell_type": "code",
   "execution_count": 13,
   "id": "876c356a",
   "metadata": {
    "ExecuteTime": {
     "end_time": "2022-01-22T08:43:10.341235Z",
     "start_time": "2022-01-22T08:43:10.325226Z"
    }
   },
   "outputs": [],
   "source": [
    "complete_info=False\n",
    "\n",
    "if complete_info:\n",
    "    COL_info = [\"itemsets\", \"support\", \"tn\", \"fp\", \"fn\", \"tp\"]\n",
    "else:\n",
    "    COL_info = [\"itemsets\", \"support\"]"
   ]
  },
  {
   "cell_type": "markdown",
   "id": "8cf34252",
   "metadata": {},
   "source": [
    "## Tree divergence -fpr 0.025\n"
   ]
  },
  {
   "cell_type": "code",
   "execution_count": 14,
   "id": "ad9bbe17",
   "metadata": {
    "ExecuteTime": {
     "end_time": "2022-01-22T08:43:09.529281Z",
     "start_time": "2022-01-22T08:43:09.510751Z"
    }
   },
   "outputs": [],
   "source": [
    "cols_c = [\"class\", \"predicted\"]\n",
    "continuous_attributes = [\"priors_count\", \"length_of_stay\", \"age\"]\n",
    "\n",
    "\n",
    "type_criterion=\"weighted_sum_abs_reference_s\"\n",
    "\n",
    "type_experiment = \"one_at_time\"\n",
    "\n",
    "min_sup_divergence = 0.025"
   ]
  },
  {
   "cell_type": "code",
   "execution_count": 15,
   "id": "b9c034f9",
   "metadata": {},
   "outputs": [],
   "source": [
    "min_support_trees = [0.005, 0.01, 0.02, 0.025, 0.035, 0.05, 0.075, 0.1, 0.125, 0.15, 0.175, 0.2, 0.25, 0.3]"
   ]
  },
  {
   "cell_type": "code",
   "execution_count": 16,
   "id": "bbec8de2",
   "metadata": {},
   "outputs": [],
   "source": [
    "display_res = False"
   ]
  },
  {
   "cell_type": "code",
   "execution_count": 17,
   "id": "5d3240e3",
   "metadata": {},
   "outputs": [],
   "source": [
    "all_results = {}"
   ]
  },
  {
   "cell_type": "code",
   "execution_count": 18,
   "id": "243e47d0",
   "metadata": {
    "ExecuteTime": {
     "end_time": "2022-01-22T08:43:09.694041Z",
     "start_time": "2022-01-22T08:43:09.553786Z"
    }
   },
   "outputs": [
    {
     "name": "stdout",
     "output_type": "stream",
     "text": [
      "0.005 "
     ]
    },
    {
     "name": "stderr",
     "output_type": "stream",
     "text": [
      "/Users/eliana/Projects/hierarchical-subgroup-exploration-private/utils_printable.py:25: FutureWarning: The default value of regex will change from True to False in a future version.\n",
      "  df_print.columns = df_print.columns.str.replace(\"d_*\", f\"{div_name}_\")\n",
      "/Users/eliana/Projects/hierarchical-subgroup-exploration-private/utils_printable.py:25: FutureWarning: The default value of regex will change from True to False in a future version.\n",
      "  df_print.columns = df_print.columns.str.replace(\"d_*\", f\"{div_name}_\")\n"
     ]
    },
    {
     "name": "stdout",
     "output_type": "stream",
     "text": [
      "0.01 "
     ]
    },
    {
     "name": "stderr",
     "output_type": "stream",
     "text": [
      "/Users/eliana/Projects/hierarchical-subgroup-exploration-private/utils_printable.py:25: FutureWarning: The default value of regex will change from True to False in a future version.\n",
      "  df_print.columns = df_print.columns.str.replace(\"d_*\", f\"{div_name}_\")\n",
      "/Users/eliana/Projects/hierarchical-subgroup-exploration-private/utils_printable.py:25: FutureWarning: The default value of regex will change from True to False in a future version.\n",
      "  df_print.columns = df_print.columns.str.replace(\"d_*\", f\"{div_name}_\")\n"
     ]
    },
    {
     "name": "stdout",
     "output_type": "stream",
     "text": [
      "0.02 "
     ]
    },
    {
     "name": "stderr",
     "output_type": "stream",
     "text": [
      "/Users/eliana/Projects/hierarchical-subgroup-exploration-private/utils_printable.py:25: FutureWarning: The default value of regex will change from True to False in a future version.\n",
      "  df_print.columns = df_print.columns.str.replace(\"d_*\", f\"{div_name}_\")\n",
      "/Users/eliana/Projects/hierarchical-subgroup-exploration-private/utils_printable.py:25: FutureWarning: The default value of regex will change from True to False in a future version.\n",
      "  df_print.columns = df_print.columns.str.replace(\"d_*\", f\"{div_name}_\")\n"
     ]
    },
    {
     "name": "stdout",
     "output_type": "stream",
     "text": [
      "0.025 "
     ]
    },
    {
     "name": "stderr",
     "output_type": "stream",
     "text": [
      "/Users/eliana/Projects/hierarchical-subgroup-exploration-private/utils_printable.py:25: FutureWarning: The default value of regex will change from True to False in a future version.\n",
      "  df_print.columns = df_print.columns.str.replace(\"d_*\", f\"{div_name}_\")\n",
      "/Users/eliana/Projects/hierarchical-subgroup-exploration-private/utils_printable.py:25: FutureWarning: The default value of regex will change from True to False in a future version.\n",
      "  df_print.columns = df_print.columns.str.replace(\"d_*\", f\"{div_name}_\")\n"
     ]
    },
    {
     "name": "stdout",
     "output_type": "stream",
     "text": [
      "0.035 "
     ]
    },
    {
     "name": "stderr",
     "output_type": "stream",
     "text": [
      "/Users/eliana/Projects/hierarchical-subgroup-exploration-private/utils_printable.py:25: FutureWarning: The default value of regex will change from True to False in a future version.\n",
      "  df_print.columns = df_print.columns.str.replace(\"d_*\", f\"{div_name}_\")\n",
      "/Users/eliana/Projects/hierarchical-subgroup-exploration-private/utils_printable.py:25: FutureWarning: The default value of regex will change from True to False in a future version.\n",
      "  df_print.columns = df_print.columns.str.replace(\"d_*\", f\"{div_name}_\")\n"
     ]
    },
    {
     "name": "stdout",
     "output_type": "stream",
     "text": [
      "0.05 "
     ]
    },
    {
     "name": "stderr",
     "output_type": "stream",
     "text": [
      "/Users/eliana/Projects/hierarchical-subgroup-exploration-private/utils_printable.py:25: FutureWarning: The default value of regex will change from True to False in a future version.\n",
      "  df_print.columns = df_print.columns.str.replace(\"d_*\", f\"{div_name}_\")\n",
      "/Users/eliana/Projects/hierarchical-subgroup-exploration-private/utils_printable.py:25: FutureWarning: The default value of regex will change from True to False in a future version.\n",
      "  df_print.columns = df_print.columns.str.replace(\"d_*\", f\"{div_name}_\")\n"
     ]
    },
    {
     "name": "stdout",
     "output_type": "stream",
     "text": [
      "0.075 "
     ]
    },
    {
     "name": "stderr",
     "output_type": "stream",
     "text": [
      "/Users/eliana/Projects/hierarchical-subgroup-exploration-private/utils_printable.py:25: FutureWarning: The default value of regex will change from True to False in a future version.\n",
      "  df_print.columns = df_print.columns.str.replace(\"d_*\", f\"{div_name}_\")\n",
      "/Users/eliana/Projects/hierarchical-subgroup-exploration-private/utils_printable.py:25: FutureWarning: The default value of regex will change from True to False in a future version.\n",
      "  df_print.columns = df_print.columns.str.replace(\"d_*\", f\"{div_name}_\")\n"
     ]
    },
    {
     "name": "stdout",
     "output_type": "stream",
     "text": [
      "0.1 "
     ]
    },
    {
     "name": "stderr",
     "output_type": "stream",
     "text": [
      "/Users/eliana/Projects/hierarchical-subgroup-exploration-private/utils_printable.py:25: FutureWarning: The default value of regex will change from True to False in a future version.\n",
      "  df_print.columns = df_print.columns.str.replace(\"d_*\", f\"{div_name}_\")\n",
      "/Users/eliana/Projects/hierarchical-subgroup-exploration-private/utils_printable.py:25: FutureWarning: The default value of regex will change from True to False in a future version.\n",
      "  df_print.columns = df_print.columns.str.replace(\"d_*\", f\"{div_name}_\")\n"
     ]
    },
    {
     "name": "stdout",
     "output_type": "stream",
     "text": [
      "0.125 "
     ]
    },
    {
     "name": "stderr",
     "output_type": "stream",
     "text": [
      "/Users/eliana/Projects/hierarchical-subgroup-exploration-private/utils_printable.py:25: FutureWarning: The default value of regex will change from True to False in a future version.\n",
      "  df_print.columns = df_print.columns.str.replace(\"d_*\", f\"{div_name}_\")\n",
      "/Users/eliana/Projects/hierarchical-subgroup-exploration-private/utils_printable.py:25: FutureWarning: The default value of regex will change from True to False in a future version.\n",
      "  df_print.columns = df_print.columns.str.replace(\"d_*\", f\"{div_name}_\")\n"
     ]
    },
    {
     "name": "stdout",
     "output_type": "stream",
     "text": [
      "0.15 "
     ]
    },
    {
     "name": "stderr",
     "output_type": "stream",
     "text": [
      "/Users/eliana/Projects/hierarchical-subgroup-exploration-private/utils_printable.py:25: FutureWarning: The default value of regex will change from True to False in a future version.\n",
      "  df_print.columns = df_print.columns.str.replace(\"d_*\", f\"{div_name}_\")\n",
      "/Users/eliana/Projects/hierarchical-subgroup-exploration-private/utils_printable.py:25: FutureWarning: The default value of regex will change from True to False in a future version.\n",
      "  df_print.columns = df_print.columns.str.replace(\"d_*\", f\"{div_name}_\")\n"
     ]
    },
    {
     "name": "stdout",
     "output_type": "stream",
     "text": [
      "0.175 "
     ]
    },
    {
     "name": "stderr",
     "output_type": "stream",
     "text": [
      "/Users/eliana/Projects/hierarchical-subgroup-exploration-private/utils_printable.py:25: FutureWarning: The default value of regex will change from True to False in a future version.\n",
      "  df_print.columns = df_print.columns.str.replace(\"d_*\", f\"{div_name}_\")\n",
      "/Users/eliana/Projects/hierarchical-subgroup-exploration-private/utils_printable.py:25: FutureWarning: The default value of regex will change from True to False in a future version.\n",
      "  df_print.columns = df_print.columns.str.replace(\"d_*\", f\"{div_name}_\")\n"
     ]
    },
    {
     "name": "stdout",
     "output_type": "stream",
     "text": [
      "0.2 "
     ]
    },
    {
     "name": "stderr",
     "output_type": "stream",
     "text": [
      "/Users/eliana/Projects/hierarchical-subgroup-exploration-private/utils_printable.py:25: FutureWarning: The default value of regex will change from True to False in a future version.\n",
      "  df_print.columns = df_print.columns.str.replace(\"d_*\", f\"{div_name}_\")\n",
      "/Users/eliana/Projects/hierarchical-subgroup-exploration-private/utils_printable.py:25: FutureWarning: The default value of regex will change from True to False in a future version.\n",
      "  df_print.columns = df_print.columns.str.replace(\"d_*\", f\"{div_name}_\")\n"
     ]
    },
    {
     "name": "stdout",
     "output_type": "stream",
     "text": [
      "0.25 "
     ]
    },
    {
     "name": "stderr",
     "output_type": "stream",
     "text": [
      "/Users/eliana/Projects/hierarchical-subgroup-exploration-private/utils_printable.py:25: FutureWarning: The default value of regex will change from True to False in a future version.\n",
      "  df_print.columns = df_print.columns.str.replace(\"d_*\", f\"{div_name}_\")\n",
      "/Users/eliana/Projects/hierarchical-subgroup-exploration-private/utils_printable.py:25: FutureWarning: The default value of regex will change from True to False in a future version.\n",
      "  df_print.columns = df_print.columns.str.replace(\"d_*\", f\"{div_name}_\")\n"
     ]
    },
    {
     "name": "stdout",
     "output_type": "stream",
     "text": [
      "0.3 "
     ]
    },
    {
     "name": "stderr",
     "output_type": "stream",
     "text": [
      "/Users/eliana/Projects/hierarchical-subgroup-exploration-private/utils_printable.py:25: FutureWarning: The default value of regex will change from True to False in a future version.\n",
      "  df_print.columns = df_print.columns.str.replace(\"d_*\", f\"{div_name}_\")\n",
      "/Users/eliana/Projects/hierarchical-subgroup-exploration-private/utils_printable.py:25: FutureWarning: The default value of regex will change from True to False in a future version.\n",
      "  df_print.columns = df_print.columns.str.replace(\"d_*\", f\"{div_name}_\")\n"
     ]
    }
   ],
   "source": [
    "for min_support_tree in min_support_trees:\n",
    "\n",
    "    if min_support_tree in all_results:\n",
    "        out = all_results[min_support_tree]\n",
    "    else:\n",
    "        out = {}\n",
    "        \n",
    "    print(min_support_tree, end = \" \")\n",
    "\n",
    "    df_analyze = dfI.copy()\n",
    "\n",
    "    from tree_discretization import TreeDiscretization\n",
    "\n",
    "    tree_discr = TreeDiscretization()\n",
    "\n",
    "    # ## Extract tree\n",
    "    generalization_dict, discretizations = tree_discr.get_tree_discretization(\n",
    "        df_analyze,\n",
    "        type_splitting=type_experiment,\n",
    "        min_support=min_support_tree,\n",
    "        metric=metric,\n",
    "        class_map=class_map,\n",
    "        continuous_attributes=list(continuous_attributes),\n",
    "        class_and_pred_names=cols_c,\n",
    "        storeTree=True,\n",
    "        type_criterion=type_criterion,\n",
    "        # minimal_gain = 0.0015\n",
    "    )\n",
    "    \n",
    "    considerOnlyContinuos = True\n",
    "    if considerOnlyContinuos:\n",
    "        for k in list(generalization_dict.keys()):\n",
    "            if k not in continuous_attributes:\n",
    "                generalization_dict.pop(k, None)\n",
    "                \n",
    "    for apply_generalization in [False, True]:\n",
    "        \n",
    "        if apply_generalization == True:\n",
    "            type_gen = \"generalized\"\n",
    "        else:\n",
    "            type_gen = \"base\"\n",
    "        \n",
    "        if type_gen in out:\n",
    "            continue\n",
    "        #print(apply_generalization, type_gen)\n",
    "        \n",
    "        from utils_extract_divergence_generalized import (\n",
    "            extract_divergence_generalized,\n",
    "        )\n",
    "\n",
    "        FP_fm = extract_divergence_generalized(\n",
    "            df_analyze,\n",
    "            discretizations,\n",
    "            generalization_dict,\n",
    "            continuous_attributes,\n",
    "            min_sup_divergence=min_sup_divergence,\n",
    "            apply_generalization=apply_generalization,\n",
    "            true_class_name=true_class_name,\n",
    "            predicted_class_name=pred_class_name,\n",
    "            class_map=class_map,\n",
    "            FPM_type=\"fpgrowth\",\n",
    "        )\n",
    "\n",
    "\n",
    "        if display_res:\n",
    "            display(printable_top_k(\n",
    "                FP_fm, metric, COL_info_detail, K=K, abbreviations=abbreviations))\n",
    "\n",
    "        out[type_gen] = printable_top_k(\n",
    "            FP_fm, metric, COL_info, K=K, abbreviations=abbreviations\n",
    "        )\n",
    "    all_results[min_support_tree] = out"
   ]
  },
  {
   "cell_type": "code",
   "execution_count": 19,
   "id": "dd7cab3e",
   "metadata": {
    "ExecuteTime": {
     "end_time": "2022-01-22T08:43:10.961708Z",
     "start_time": "2022-01-22T08:43:10.930606Z"
    }
   },
   "outputs": [
    {
     "data": {
      "text/html": [
       "<div>\n",
       "<style scoped>\n",
       "    .dataframe tbody tr th:only-of-type {\n",
       "        vertical-align: middle;\n",
       "    }\n",
       "\n",
       "    .dataframe tbody tr th {\n",
       "        vertical-align: top;\n",
       "    }\n",
       "\n",
       "    .dataframe thead th {\n",
       "        text-align: right;\n",
       "    }\n",
       "</style>\n",
       "<table border=\"1\" class=\"dataframe\">\n",
       "  <thead>\n",
       "    <tr style=\"text-align: right;\">\n",
       "      <th></th>\n",
       "      <th>min_sup</th>\n",
       "      <th>type_gen</th>\n",
       "      <th>itemsets</th>\n",
       "      <th>sup</th>\n",
       "      <th>Δ_fpr</th>\n",
       "      <th>t_fp</th>\n",
       "    </tr>\n",
       "  </thead>\n",
       "  <tbody>\n",
       "    <tr>\n",
       "      <th>0</th>\n",
       "      <td>0.005</td>\n",
       "      <td>base</td>\n",
       "      <td>age=21, race=Afr-Am</td>\n",
       "      <td>0.03</td>\n",
       "      <td>0.231</td>\n",
       "      <td>4.3</td>\n",
       "    </tr>\n",
       "    <tr>\n",
       "      <th>1</th>\n",
       "      <td>0.005</td>\n",
       "      <td>generalized</td>\n",
       "      <td>age=[25-32], charge=F, #prior&gt;=9, sex=Male</td>\n",
       "      <td>0.03</td>\n",
       "      <td>0.621</td>\n",
       "      <td>7.7</td>\n",
       "    </tr>\n",
       "    <tr>\n",
       "      <th>2</th>\n",
       "      <td>0.010</td>\n",
       "      <td>base</td>\n",
       "      <td>age=21, race=Afr-Am</td>\n",
       "      <td>0.03</td>\n",
       "      <td>0.231</td>\n",
       "      <td>4.3</td>\n",
       "    </tr>\n",
       "    <tr>\n",
       "      <th>3</th>\n",
       "      <td>0.010</td>\n",
       "      <td>generalized</td>\n",
       "      <td>age=[25-32], charge=F, #prior&gt;=9, sex=Male</td>\n",
       "      <td>0.03</td>\n",
       "      <td>0.621</td>\n",
       "      <td>7.7</td>\n",
       "    </tr>\n",
       "    <tr>\n",
       "      <th>4</th>\n",
       "      <td>0.020</td>\n",
       "      <td>base</td>\n",
       "      <td>#prior=[14-18]</td>\n",
       "      <td>0.03</td>\n",
       "      <td>0.384</td>\n",
       "      <td>4.8</td>\n",
       "    </tr>\n",
       "    <tr>\n",
       "      <th>5</th>\n",
       "      <td>0.020</td>\n",
       "      <td>generalized</td>\n",
       "      <td>age=[25-32], charge=F, #prior&gt;=9, sex=Male</td>\n",
       "      <td>0.03</td>\n",
       "      <td>0.621</td>\n",
       "      <td>7.7</td>\n",
       "    </tr>\n",
       "    <tr>\n",
       "      <th>6</th>\n",
       "      <td>0.025</td>\n",
       "      <td>base</td>\n",
       "      <td>#prior&gt;=14, race=Afr-Am</td>\n",
       "      <td>0.04</td>\n",
       "      <td>0.382</td>\n",
       "      <td>5.6</td>\n",
       "    </tr>\n",
       "    <tr>\n",
       "      <th>7</th>\n",
       "      <td>0.025</td>\n",
       "      <td>generalized</td>\n",
       "      <td>age=[25-32], charge=F, #prior&gt;=9, sex=Male</td>\n",
       "      <td>0.03</td>\n",
       "      <td>0.621</td>\n",
       "      <td>7.7</td>\n",
       "    </tr>\n",
       "    <tr>\n",
       "      <th>8</th>\n",
       "      <td>0.035</td>\n",
       "      <td>base</td>\n",
       "      <td>#prior&gt;=14, race=Afr-Am</td>\n",
       "      <td>0.04</td>\n",
       "      <td>0.382</td>\n",
       "      <td>5.6</td>\n",
       "    </tr>\n",
       "    <tr>\n",
       "      <th>9</th>\n",
       "      <td>0.035</td>\n",
       "      <td>generalized</td>\n",
       "      <td>age=[25-32], charge=F, #prior&gt;=9, sex=Male</td>\n",
       "      <td>0.03</td>\n",
       "      <td>0.621</td>\n",
       "      <td>7.7</td>\n",
       "    </tr>\n",
       "    <tr>\n",
       "      <th>10</th>\n",
       "      <td>0.050</td>\n",
       "      <td>base</td>\n",
       "      <td>#prior=[9-12], race=Afr-Am</td>\n",
       "      <td>0.04</td>\n",
       "      <td>0.372</td>\n",
       "      <td>6.1</td>\n",
       "    </tr>\n",
       "    <tr>\n",
       "      <th>11</th>\n",
       "      <td>0.050</td>\n",
       "      <td>generalized</td>\n",
       "      <td>age=[25-32], charge=F, #prior&gt;=9, sex=Male</td>\n",
       "      <td>0.03</td>\n",
       "      <td>0.621</td>\n",
       "      <td>7.7</td>\n",
       "    </tr>\n",
       "    <tr>\n",
       "      <th>12</th>\n",
       "      <td>0.075</td>\n",
       "      <td>base</td>\n",
       "      <td>stay&gt;=34.0, #prior&gt;=9</td>\n",
       "      <td>0.03</td>\n",
       "      <td>0.375</td>\n",
       "      <td>5.0</td>\n",
       "    </tr>\n",
       "    <tr>\n",
       "      <th>13</th>\n",
       "      <td>0.075</td>\n",
       "      <td>generalized</td>\n",
       "      <td>age=[25-32], charge=F, #prior&gt;=9, sex=Male</td>\n",
       "      <td>0.03</td>\n",
       "      <td>0.621</td>\n",
       "      <td>7.7</td>\n",
       "    </tr>\n",
       "    <tr>\n",
       "      <th>14</th>\n",
       "      <td>0.100</td>\n",
       "      <td>base</td>\n",
       "      <td>age=[28-32], #prior&gt;=9, sex=Male</td>\n",
       "      <td>0.03</td>\n",
       "      <td>0.590</td>\n",
       "      <td>6.8</td>\n",
       "    </tr>\n",
       "    <tr>\n",
       "      <th>15</th>\n",
       "      <td>0.100</td>\n",
       "      <td>generalized</td>\n",
       "      <td>age=[25-32], charge=F, #prior&gt;=9, sex=Male</td>\n",
       "      <td>0.03</td>\n",
       "      <td>0.621</td>\n",
       "      <td>7.7</td>\n",
       "    </tr>\n",
       "    <tr>\n",
       "      <th>16</th>\n",
       "      <td>0.125</td>\n",
       "      <td>base</td>\n",
       "      <td>age=[28-32], charge=F, #prior&gt;=8</td>\n",
       "      <td>0.03</td>\n",
       "      <td>0.559</td>\n",
       "      <td>7.0</td>\n",
       "    </tr>\n",
       "    <tr>\n",
       "      <th>17</th>\n",
       "      <td>0.125</td>\n",
       "      <td>generalized</td>\n",
       "      <td>age&lt;=32, stay&gt;=3.0, #prior&gt;=8, sex=Male</td>\n",
       "      <td>0.03</td>\n",
       "      <td>0.632</td>\n",
       "      <td>7.1</td>\n",
       "    </tr>\n",
       "    <tr>\n",
       "      <th>18</th>\n",
       "      <td>0.150</td>\n",
       "      <td>base</td>\n",
       "      <td>age=[25-32], charge=F, stay&gt;=20.0, #prior&gt;=4</td>\n",
       "      <td>0.03</td>\n",
       "      <td>0.428</td>\n",
       "      <td>5.0</td>\n",
       "    </tr>\n",
       "    <tr>\n",
       "      <th>19</th>\n",
       "      <td>0.150</td>\n",
       "      <td>generalized</td>\n",
       "      <td>age&lt;=32, charge=F, stay&gt;=20.0, #prior&gt;=4, sex=Male</td>\n",
       "      <td>0.03</td>\n",
       "      <td>0.500</td>\n",
       "      <td>6.1</td>\n",
       "    </tr>\n",
       "    <tr>\n",
       "      <th>20</th>\n",
       "      <td>0.175</td>\n",
       "      <td>base</td>\n",
       "      <td>age=[25-32], stay&gt;=3.0, #prior&gt;=4, race=Afr-Am, sex=Male</td>\n",
       "      <td>0.04</td>\n",
       "      <td>0.401</td>\n",
       "      <td>5.7</td>\n",
       "    </tr>\n",
       "    <tr>\n",
       "      <th>21</th>\n",
       "      <td>0.175</td>\n",
       "      <td>generalized</td>\n",
       "      <td>age&lt;=32, stay&gt;=3.0, #prior&gt;=4, race=Afr-Am, sex=Male</td>\n",
       "      <td>0.04</td>\n",
       "      <td>0.431</td>\n",
       "      <td>6.4</td>\n",
       "    </tr>\n",
       "    <tr>\n",
       "      <th>22</th>\n",
       "      <td>0.200</td>\n",
       "      <td>base</td>\n",
       "      <td>age=[25-32], stay&gt;=3.0, #prior&gt;=4, race=Afr-Am, sex=Male</td>\n",
       "      <td>0.04</td>\n",
       "      <td>0.401</td>\n",
       "      <td>5.7</td>\n",
       "    </tr>\n",
       "    <tr>\n",
       "      <th>23</th>\n",
       "      <td>0.200</td>\n",
       "      <td>generalized</td>\n",
       "      <td>age&lt;=32, stay&gt;=3.0, #prior&gt;=4, race=Afr-Am, sex=Male</td>\n",
       "      <td>0.04</td>\n",
       "      <td>0.431</td>\n",
       "      <td>6.4</td>\n",
       "    </tr>\n",
       "    <tr>\n",
       "      <th>24</th>\n",
       "      <td>0.250</td>\n",
       "      <td>base</td>\n",
       "      <td>age&lt;=25, #prior&gt;=4, sex=Male</td>\n",
       "      <td>0.03</td>\n",
       "      <td>0.462</td>\n",
       "      <td>6.0</td>\n",
       "    </tr>\n",
       "    <tr>\n",
       "      <th>25</th>\n",
       "      <td>0.250</td>\n",
       "      <td>generalized</td>\n",
       "      <td>age&lt;=25, #prior&gt;=4, sex=Male</td>\n",
       "      <td>0.03</td>\n",
       "      <td>0.462</td>\n",
       "      <td>6.0</td>\n",
       "    </tr>\n",
       "    <tr>\n",
       "      <th>26</th>\n",
       "      <td>0.300</td>\n",
       "      <td>base</td>\n",
       "      <td>age&lt;=32, charge=F, stay&gt;=3.0, #prior&gt;=3, race=Afr-Am, sex=Male</td>\n",
       "      <td>0.04</td>\n",
       "      <td>0.392</td>\n",
       "      <td>5.8</td>\n",
       "    </tr>\n",
       "    <tr>\n",
       "      <th>27</th>\n",
       "      <td>0.300</td>\n",
       "      <td>generalized</td>\n",
       "      <td>age&lt;=32, charge=F, stay&gt;=3.0, #prior&gt;=3, race=Afr-Am, sex=Male</td>\n",
       "      <td>0.04</td>\n",
       "      <td>0.392</td>\n",
       "      <td>5.8</td>\n",
       "    </tr>\n",
       "  </tbody>\n",
       "</table>\n",
       "</div>"
      ],
      "text/plain": [
       "    min_sup     type_gen  \\\n",
       "0     0.005         base   \n",
       "1     0.005  generalized   \n",
       "2     0.010         base   \n",
       "3     0.010  generalized   \n",
       "4     0.020         base   \n",
       "5     0.020  generalized   \n",
       "6     0.025         base   \n",
       "7     0.025  generalized   \n",
       "8     0.035         base   \n",
       "9     0.035  generalized   \n",
       "10    0.050         base   \n",
       "11    0.050  generalized   \n",
       "12    0.075         base   \n",
       "13    0.075  generalized   \n",
       "14    0.100         base   \n",
       "15    0.100  generalized   \n",
       "16    0.125         base   \n",
       "17    0.125  generalized   \n",
       "18    0.150         base   \n",
       "19    0.150  generalized   \n",
       "20    0.175         base   \n",
       "21    0.175  generalized   \n",
       "22    0.200         base   \n",
       "23    0.200  generalized   \n",
       "24    0.250         base   \n",
       "25    0.250  generalized   \n",
       "26    0.300         base   \n",
       "27    0.300  generalized   \n",
       "\n",
       "                                                          itemsets   sup  \\\n",
       "0                                              age=21, race=Afr-Am  0.03   \n",
       "1                       age=[25-32], charge=F, #prior>=9, sex=Male  0.03   \n",
       "2                                              age=21, race=Afr-Am  0.03   \n",
       "3                       age=[25-32], charge=F, #prior>=9, sex=Male  0.03   \n",
       "4                                                   #prior=[14-18]  0.03   \n",
       "5                       age=[25-32], charge=F, #prior>=9, sex=Male  0.03   \n",
       "6                                          #prior>=14, race=Afr-Am  0.04   \n",
       "7                       age=[25-32], charge=F, #prior>=9, sex=Male  0.03   \n",
       "8                                          #prior>=14, race=Afr-Am  0.04   \n",
       "9                       age=[25-32], charge=F, #prior>=9, sex=Male  0.03   \n",
       "10                                      #prior=[9-12], race=Afr-Am  0.04   \n",
       "11                      age=[25-32], charge=F, #prior>=9, sex=Male  0.03   \n",
       "12                                           stay>=34.0, #prior>=9  0.03   \n",
       "13                      age=[25-32], charge=F, #prior>=9, sex=Male  0.03   \n",
       "14                                age=[28-32], #prior>=9, sex=Male  0.03   \n",
       "15                      age=[25-32], charge=F, #prior>=9, sex=Male  0.03   \n",
       "16                                age=[28-32], charge=F, #prior>=8  0.03   \n",
       "17                         age<=32, stay>=3.0, #prior>=8, sex=Male  0.03   \n",
       "18                    age=[25-32], charge=F, stay>=20.0, #prior>=4  0.03   \n",
       "19              age<=32, charge=F, stay>=20.0, #prior>=4, sex=Male  0.03   \n",
       "20        age=[25-32], stay>=3.0, #prior>=4, race=Afr-Am, sex=Male  0.04   \n",
       "21            age<=32, stay>=3.0, #prior>=4, race=Afr-Am, sex=Male  0.04   \n",
       "22        age=[25-32], stay>=3.0, #prior>=4, race=Afr-Am, sex=Male  0.04   \n",
       "23            age<=32, stay>=3.0, #prior>=4, race=Afr-Am, sex=Male  0.04   \n",
       "24                                    age<=25, #prior>=4, sex=Male  0.03   \n",
       "25                                    age<=25, #prior>=4, sex=Male  0.03   \n",
       "26  age<=32, charge=F, stay>=3.0, #prior>=3, race=Afr-Am, sex=Male  0.04   \n",
       "27  age<=32, charge=F, stay>=3.0, #prior>=3, race=Afr-Am, sex=Male  0.04   \n",
       "\n",
       "    Δ_fpr  t_fp  \n",
       "0   0.231   4.3  \n",
       "1   0.621   7.7  \n",
       "2   0.231   4.3  \n",
       "3   0.621   7.7  \n",
       "4   0.384   4.8  \n",
       "5   0.621   7.7  \n",
       "6   0.382   5.6  \n",
       "7   0.621   7.7  \n",
       "8   0.382   5.6  \n",
       "9   0.621   7.7  \n",
       "10  0.372   6.1  \n",
       "11  0.621   7.7  \n",
       "12  0.375   5.0  \n",
       "13  0.621   7.7  \n",
       "14  0.590   6.8  \n",
       "15  0.621   7.7  \n",
       "16  0.559   7.0  \n",
       "17  0.632   7.1  \n",
       "18  0.428   5.0  \n",
       "19  0.500   6.1  \n",
       "20  0.401   5.7  \n",
       "21  0.431   6.4  \n",
       "22  0.401   5.7  \n",
       "23  0.431   6.4  \n",
       "24  0.462   6.0  \n",
       "25  0.462   6.0  \n",
       "26  0.392   5.8  \n",
       "27  0.392   5.8  "
      ]
     },
     "metadata": {},
     "output_type": "display_data"
    }
   ],
   "source": [
    "\n",
    "vs = []\n",
    "for min_support_tree in all_results:\n",
    "    out = all_results[min_support_tree]\n",
    "    for type_gen in out:\n",
    "        vs.append([min_support_tree, type_gen] + list(out[type_gen].iloc[0].values))\n",
    "result = pd.DataFrame(vs, columns = [\"min_sup\", \"type_gen\"] + list(out[type_gen].columns))\n",
    "display(result)"
   ]
  },
  {
   "cell_type": "markdown",
   "id": "a08693da",
   "metadata": {},
   "source": [
    "### Plot 1"
   ]
  },
  {
   "cell_type": "code",
   "execution_count": 52,
   "id": "19264951",
   "metadata": {
    "scrolled": true
   },
   "outputs": [
    {
     "data": {
      "image/png": "[encoded data removed]",
      "text/plain": [
       "<Figure size 288x252 with 1 Axes>"
      ]
     },
     "metadata": {
      "needs_background": "light"
     },
     "output_type": "display_data"
    }
   ],
   "source": [
    "show_sup = [0.005, 0.01, 0.02, 0.025, 0.035, 0.05, 0.075, 0.1, 0.125, 0.15, 0.175, 0.2]\n",
    "\n",
    "\n",
    "\n",
    "from pathlib import Path\n",
    "outfig_dir = \"0_output_figures\"\n",
    "Path(outfig_dir).mkdir(parents=True, exist_ok=True)\n",
    "\n",
    "import matplotlib.pyplot as plt\n",
    "\n",
    "\n",
    "\n",
    "metric_name = \"Δ_fpr\"\n",
    "\n",
    "\n",
    "vs = {}\n",
    "\n",
    "\n",
    "fig, ax = plt.subplots(figsize = (4,3.5))\n",
    "\n",
    "base = { min_support_tree: all_results[min_support_tree][\"base\"].iloc[0][metric_name] for min_support_tree in all_results if min_support_tree in show_sup}\n",
    "gen =  { min_support_tree: all_results[min_support_tree][\"generalized\"].iloc[0][metric_name] for min_support_tree in all_results if min_support_tree in show_sup}\n",
    "\n",
    "base = dict(sorted(base.items(), key=lambda item: item[0]))\n",
    "gen = dict(sorted(gen.items(), key=lambda item: item[0]))\n",
    "ax.set_title(r\"Highest Δ$_{FPR}$\")\n",
    "\n",
    "\n",
    "ax.plot(list(base.keys()), list(base.values()), label = \"base\", marker = \"o\")\n",
    "ax.plot(list(gen.keys()), list(gen.values()), label = \"generalized\", marker = \"o\")\n",
    "ax.set_ylabel(r\"max Δ$_{FPR}$\")\n",
    "ax.set_xlabel(r\"Minimum support $s_{tree}$\")\n",
    "for item in ([ax.title, ax.xaxis.label, ax.yaxis.label] ): #ax.get_xticklabels()\n",
    "        item.set_fontsize(14)\n",
    "\n",
    "for item in ax.get_xticklabels() + ax.get_yticklabels():\n",
    "     item.set_fontsize(12)\n",
    "        \n",
    "plt.legend( fontsize = 13, handletextpad=0.2)\n",
    "\n",
    "\n",
    "\n",
    "plt.tight_layout();\n",
    "plt.savefig(f\"{outfig_dir}/compas_sensitivity_s_{min_sup_divergence}.pdf\");"
   ]
  },
  {
   "cell_type": "markdown",
   "id": "6d05e448",
   "metadata": {},
   "source": [
    "### Plot 2"
   ]
  },
  {
   "cell_type": "code",
   "execution_count": 51,
   "id": "5f03cbf9",
   "metadata": {
    "scrolled": true
   },
   "outputs": [
    {
     "data": {
      "image/png": "[encoded data removed]",
      "text/plain": [
       "<Figure size 288x252 with 1 Axes>"
      ]
     },
     "metadata": {
      "needs_background": "light"
     },
     "output_type": "display_data"
    }
   ],
   "source": [
    "show_sup_dotted = [0.005, 0.01, 0.02 ]\n",
    "show_sup = [0.02, 0.025, 0.035, 0.05, 0.075, 0.1, 0.125, 0.15, 0.175, 0.2]\n",
    "\n",
    "\n",
    "\n",
    "from pathlib import Path\n",
    "outfig_dir = \"0_output_figures\"\n",
    "Path(outfig_dir).mkdir(parents=True, exist_ok=True)\n",
    "\n",
    "import matplotlib.pyplot as plt\n",
    "\n",
    "\n",
    "\n",
    "metric_name = \"Δ_fpr\"\n",
    "\n",
    "\n",
    "vs = {}\n",
    "\n",
    "\n",
    "fig, ax = plt.subplots(figsize = (4,3.5))\n",
    "\n",
    "base = { min_support_tree: all_results[min_support_tree][\"base\"].iloc[0][metric_name] for min_support_tree in all_results if min_support_tree in show_sup}\n",
    "gen =  { min_support_tree: all_results[min_support_tree][\"generalized\"].iloc[0][metric_name] for min_support_tree in all_results if min_support_tree in show_sup}\n",
    "\n",
    "base = dict(sorted(base.items(), key=lambda item: item[0]))\n",
    "gen = dict(sorted(gen.items(), key=lambda item: item[0]))\n",
    "ax.set_title(r\"Highest Δ$_{FPR}$\")\n",
    "base_dotted = { min_support_tree: all_results[min_support_tree][\"base\"].iloc[0][metric_name] for min_support_tree in all_results if min_support_tree in show_sup_dotted}\n",
    "gen_dotted =  { min_support_tree: all_results[min_support_tree][\"generalized\"].iloc[0][metric_name] for min_support_tree in all_results if min_support_tree in show_sup_dotted}\n",
    "\n",
    "base_dotted = dict(sorted(base_dotted.items(), key=lambda item: item[0]))\n",
    "gen_dotted = dict(sorted(gen_dotted.items(), key=lambda item: item[0]))\n",
    "\n",
    "b, = ax.plot(list(base.keys()), list(base.values()), label = \"base\", marker = \"o\", c = \"C0\")\n",
    "g, = ax.plot(list(gen.keys()), list(gen.values()), label = \"generalized\", marker = \"o\", c = \"C1\")\n",
    "ax.plot(list(base_dotted.keys()), list(base_dotted.values()), label = \"base\", marker = \"o\", c = \"C0\", linestyle=(0, (3, 1, 1, 1)))\n",
    "ax.plot(list(gen_dotted.keys()), list(gen_dotted.values()), label = \"generalized\", marker = \"o\", c = \"C1\", linestyle=(0, (3, 1, 1, 1)))\n",
    "ax.set_ylabel(r\"max Δ$_{FPR}$\")\n",
    "ax.set_xlabel(r\"Minimum support $s_{tree}$\")\n",
    "for item in ([ax.title, ax.xaxis.label, ax.yaxis.label] ): #ax.get_xticklabels()\n",
    "        item.set_fontsize(14)\n",
    "\n",
    "for item in ax.get_xticklabels() + ax.get_yticklabels():\n",
    "     item.set_fontsize(12)\n",
    "        \n",
    "ax.legend([b, g], ['base', 'generalized'], fontsize = 13,  handletextpad=0.2)\n",
    "#plt.legend( )\n",
    "\n",
    "\n",
    "plt.tight_layout();\n",
    "plt.savefig(f\"{outfig_dir}/compas_sensitivity_s_{min_sup_divergence}.pdf\");"
   ]
  },
  {
   "cell_type": "code",
   "execution_count": 48,
   "id": "b8756e5a",
   "metadata": {},
   "outputs": [
    {
     "data": {
      "text/plain": [
       "'0_output_figures'"
      ]
     },
     "execution_count": 48,
     "metadata": {},
     "output_type": "execute_result"
    }
   ],
   "source": [
    "outfig_dir"
   ]
  },
  {
   "cell_type": "code",
   "execution_count": null,
   "id": "c54d0d33",
   "metadata": {},
   "outputs": [],
   "source": []
  }
 ],
 "metadata": {
  "hide_input": false,
  "kernelspec": {
   "display_name": "Python 3",
   "language": "python",
   "name": "python3"
  },
  "language_info": {
   "codemirror_mode": {
    "name": "ipython",
    "version": 3
   },
   "file_extension": ".py",
   "mimetype": "text/x-python",
   "name": "python",
   "nbconvert_exporter": "python",
   "pygments_lexer": "ipython3",
   "version": "3.8.8"
  },
  "toc": {
   "base_numbering": 1,
   "nav_menu": {},
   "number_sections": true,
   "sideBar": true,
   "skip_h1_title": false,
   "title_cell": "Table of Contents",
   "title_sidebar": "Contents",
   "toc_cell": false,
   "toc_position": {
    "height": "calc(100% - 180px)",
    "left": "10px",
    "top": "150px",
    "width": "370px"
   },
   "toc_section_display": true,
   "toc_window_display": true
  },
  "varInspector": {
   "cols": {
    "lenName": 16,
    "lenType": 16,
    "lenVar": 40
   },
   "kernels_config": {
    "python": {
     "delete_cmd_postfix": "",
     "delete_cmd_prefix": "del ",
     "library": "var_list.py",
     "varRefreshCmd": "print(var_dic_list())"
    },
    "r": {
     "delete_cmd_postfix": ") ",
     "delete_cmd_prefix": "rm(",
     "library": "var_list.r",
     "varRefreshCmd": "cat(var_dic_list()) "
    }
   },
   "types_to_exclude": [
    "module",
    "function",
    "builtin_function_or_method",
    "instance",
    "_Feature"
   ],
   "window_display": false
  }
 },
 "nbformat": 4,
 "nbformat_minor": 5
}
