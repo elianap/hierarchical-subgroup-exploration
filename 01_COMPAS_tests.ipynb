{
 "cells": [
  {
   "cell_type": "code",
   "execution_count": 1,
   "id": "46fdcc75",
   "metadata": {
    "ExecuteTime": {
     "end_time": "2022-12-23T17:03:25.170708Z",
     "start_time": "2022-12-23T17:03:25.146013Z"
    }
   },
   "outputs": [],
   "source": [
    "%load_ext autoreload\n",
    "%autoreload 2"
   ]
  },
  {
   "cell_type": "code",
   "execution_count": 2,
   "id": "ea0472d0",
   "metadata": {
    "ExecuteTime": {
     "end_time": "2022-12-23T17:03:25.341496Z",
     "start_time": "2022-12-23T17:03:25.173285Z"
    }
   },
   "outputs": [],
   "source": [
    "import pandas as pd\n",
    "import numpy as np\n",
    "\n",
    "pd.set_option(\"display.max_colwidth\", None)"
   ]
  },
  {
   "cell_type": "code",
   "execution_count": 3,
   "id": "bb1913af",
   "metadata": {
    "ExecuteTime": {
     "end_time": "2022-12-23T17:03:25.377641Z",
     "start_time": "2022-12-23T17:03:25.345593Z"
    }
   },
   "outputs": [],
   "source": [
    "#out = {}\n",
    "out_support = {}"
   ]
  },
  {
   "cell_type": "code",
   "execution_count": 4,
   "id": "ddf5e70a",
   "metadata": {
    "ExecuteTime": {
     "end_time": "2022-12-23T17:03:25.415905Z",
     "start_time": "2022-12-23T17:03:25.380170Z"
    }
   },
   "outputs": [],
   "source": [
    "COL_info_detail = [\"itemsets\", \"support\", \"tn\", \"fp\", \"fn\", \"tp\"]\n",
    "\n",
    "COL_info = [\"itemsets\", \"support\"]"
   ]
  },
  {
   "cell_type": "markdown",
   "id": "bea0d75b",
   "metadata": {},
   "source": [
    "# Parameters"
   ]
  },
  {
   "cell_type": "code",
   "execution_count": 45,
   "id": "0b68edc0",
   "metadata": {
    "ExecuteTime": {
     "end_time": "2022-12-23T17:03:25.483047Z",
     "start_time": "2022-12-23T17:03:25.420212Z"
    }
   },
   "outputs": [],
   "source": [
    "K=3\n",
    "\n",
    "metric = \"d_error\"\n",
    "#t_value_col = \"t_value_fp\"\n",
    "\n",
    "dataset_name = 'adult'"
   ]
  },
  {
   "cell_type": "markdown",
   "id": "15cff3c3",
   "metadata": {},
   "source": [
    "# Dataset"
   ]
  },
  {
   "cell_type": "code",
   "execution_count": 46,
   "id": "72affc73",
   "metadata": {
    "ExecuteTime": {
     "end_time": "2022-12-23T17:03:25.708302Z",
     "start_time": "2022-12-23T17:03:25.566507Z"
    }
   },
   "outputs": [],
   "source": [
    "if dataset_name== \"wine\":\n",
    "\n",
    "\n",
    "    \n",
    "    from import_process_dataset import import_process_wine, train_classifier_kv\n",
    "\n",
    "    df, class_map, continuous_attributes = import_process_wine()\n",
    "    # # Train and predict with RF classifier\n",
    "\n",
    "    df = train_classifier_kv(df)\n",
    "\n",
    "elif dataset_name== \"compas\":\n",
    "        from import_process_dataset import import_compas\n",
    "\n",
    "        df, class_map, continuous_attributes = import_compas()\n",
    "\n",
    "elif dataset_name== \"adult\":\n",
    "    from import_process_dataset import import_process_adult, train_classifier_kv\n",
    "\n",
    "    df, class_map, continuous_attributes = import_process_adult()\n",
    "\n",
    "    df = train_classifier_kv(df, encoding = True)"
   ]
  },
  {
   "cell_type": "code",
   "execution_count": 47,
   "id": "f13cdf24",
   "metadata": {
    "ExecuteTime": {
     "end_time": "2022-12-23T17:03:25.726599Z",
     "start_time": "2022-12-23T17:03:25.710168Z"
    }
   },
   "outputs": [],
   "source": [
    "min_sup_divergences = [0.01, 0.02, 0.025, 0.03, 0.04, 0.05, 0.1, 0.15, 0.2]"
   ]
  },
  {
   "cell_type": "markdown",
   "id": "e819aa95",
   "metadata": {
    "ExecuteTime": {
     "end_time": "2022-01-14T19:26:22.246705Z",
     "start_time": "2022-01-14T19:26:22.223783Z"
    }
   },
   "source": [
    "## Divergence"
   ]
  },
  {
   "cell_type": "markdown",
   "id": "aa13828a",
   "metadata": {},
   "source": [
    "# Tree divergence "
   ]
  },
  {
   "cell_type": "code",
   "execution_count": 48,
   "id": "7afbd8f9",
   "metadata": {
    "ExecuteTime": {
     "end_time": "2022-12-23T17:03:28.198200Z",
     "start_time": "2022-12-23T17:03:28.176567Z"
    }
   },
   "outputs": [],
   "source": [
    "min_support_tree = 0.1"
   ]
  },
  {
   "cell_type": "code",
   "execution_count": 49,
   "id": "c410d546",
   "metadata": {
    "ExecuteTime": {
     "end_time": "2022-12-23T17:03:28.380641Z",
     "start_time": "2022-12-23T17:03:28.355135Z"
    }
   },
   "outputs": [],
   "source": [
    "cols_c = [\"class\", \"predicted\"]"
   ]
  },
  {
   "cell_type": "code",
   "execution_count": 50,
   "id": "e14140c8",
   "metadata": {
    "ExecuteTime": {
     "end_time": "2022-12-23T17:03:26.063199Z",
     "start_time": "2022-12-23T17:03:25.729196Z"
    }
   },
   "outputs": [],
   "source": [
    "from divexplorer_generalized.FP_Divergence import FP_Divergence"
   ]
  },
  {
   "cell_type": "markdown",
   "id": "58a644c4",
   "metadata": {},
   "source": [
    "## Tree divergence - divergence_criterion"
   ]
  },
  {
   "cell_type": "code",
   "execution_count": 51,
   "id": "f9fd6165",
   "metadata": {
    "ExecuteTime": {
     "end_time": "2022-12-23T17:03:28.411897Z",
     "start_time": "2022-12-23T17:03:28.382435Z"
    }
   },
   "outputs": [],
   "source": [
    "type_criterion=\"divergence_criterion\"\n",
    "\n",
    "type_experiment = \"one_at_time\""
   ]
  },
  {
   "cell_type": "code",
   "execution_count": 52,
   "id": "7c9e7c74",
   "metadata": {
    "ExecuteTime": {
     "end_time": "2022-12-23T17:03:28.482675Z",
     "start_time": "2022-12-23T17:03:28.414186Z"
    }
   },
   "outputs": [],
   "source": [
    "df_analyze = df.copy()"
   ]
  },
  {
   "cell_type": "code",
   "execution_count": 53,
   "id": "3d6a3a74",
   "metadata": {
    "ExecuteTime": {
     "end_time": "2022-12-23T17:03:28.674730Z",
     "start_time": "2022-12-23T17:03:28.486278Z"
    }
   },
   "outputs": [],
   "source": [
    "from tree_discretization import TreeDiscretization\n",
    "\n",
    "tree_discr = TreeDiscretization()\n",
    "\n",
    "# ## Extract tree\n",
    "generalization_dict, discretizations = tree_discr.get_tree_discretization(\n",
    "    df_analyze,\n",
    "    type_splitting=type_experiment,\n",
    "    min_support=min_support_tree,\n",
    "    metric=metric,\n",
    "    class_map=class_map,\n",
    "    continuous_attributes=list(continuous_attributes),\n",
    "    class_and_pred_names=cols_c,\n",
    "    storeTree=True,\n",
    "    type_criterion=type_criterion,\n",
    "    # minimal_gain = 0.0015\n",
    ")"
   ]
  },
  {
   "cell_type": "code",
   "execution_count": 54,
   "id": "f5aec61f",
   "metadata": {
    "ExecuteTime": {
     "end_time": "2022-12-23T17:03:28.696512Z",
     "start_time": "2022-12-23T17:03:28.677043Z"
    }
   },
   "outputs": [
    {
     "name": "stdout",
     "output_type": "stream",
     "text": [
      "age\n",
      " root s=1.00 --> d_error=0.00\n",
      "         age<=30 s=0.32 --> d_error=-0.10\n",
      "                 age<=24 s=0.16 --> d_error=-0.14\n",
      "                 age>24 s=0.15 --> d_error=-0.05\n",
      "         age>30 s=0.68 --> d_error=0.04\n",
      "                 age<=38 s=0.22 --> d_error=0.02\n",
      "                         age<=34 s=0.11 --> d_error=0.02\n",
      "                         age>34 s=0.11 --> d_error=0.03\n",
      "                 age>38 s=0.46 --> d_error=0.06\n",
      "                         age<=54 s=0.33 --> d_error=0.06\n",
      "                                 age<=46 s=0.19 --> d_error=0.05\n",
      "                                 age>46 s=0.14 --> d_error=0.08\n",
      "                         age>54 s=0.13 --> d_error=0.03\n",
      "\n",
      "hours-per-week\n",
      " root s=1.00 --> d_error=0.00\n",
      "         hours-per-week<=40 s=0.70 --> d_error=-0.03\n",
      "                 hours-per-week<=39 s=0.22 --> d_error=-0.09\n",
      "                         hours-per-week<=29 s=0.11 --> d_error=-0.10\n",
      "                         hours-per-week>29 s=0.11 --> d_error=-0.07\n",
      "                 hours-per-week>39 s=0.47 --> d_error=-0.01\n",
      "         hours-per-week>40 s=0.30 --> d_error=0.07\n",
      "                 hours-per-week<=53 s=0.20 --> d_error=0.06\n",
      "                 hours-per-week>53 s=0.11 --> d_error=0.09\n",
      "\n"
     ]
    }
   ],
   "source": [
    "tree_discr.printDiscretizationTrees(round_v =2, show_condition = True)"
   ]
  },
  {
   "cell_type": "markdown",
   "id": "07eedaf0",
   "metadata": {},
   "source": [
    "# Divergence"
   ]
  },
  {
   "cell_type": "code",
   "execution_count": 55,
   "id": "bffa6488",
   "metadata": {},
   "outputs": [],
   "source": [
    "true_class_name = 'class'\n",
    "pred_class_name = 'predicted'"
   ]
  },
  {
   "cell_type": "code",
   "execution_count": 65,
   "id": "9bd3e93a",
   "metadata": {},
   "outputs": [],
   "source": [
    "min_sup_divergences = [0.01, 0.02, 0.025, 0.03, 0.04, 0.05, 0.1, 0.15, 0.2]"
   ]
  },
  {
   "cell_type": "markdown",
   "id": "45f45d6d",
   "metadata": {
    "ExecuteTime": {
     "end_time": "2022-01-04T15:36:06.722985Z",
     "start_time": "2022-01-04T15:36:06.718877Z"
    }
   },
   "source": [
    "### Base"
   ]
  },
  {
   "cell_type": "code",
   "execution_count": 66,
   "id": "7d924c3e",
   "metadata": {
    "ExecuteTime": {
     "end_time": "2022-12-23T17:03:31.197627Z",
     "start_time": "2022-12-23T17:03:28.857961Z"
    }
   },
   "outputs": [],
   "source": [
    "from utils_extract_divergence_generalized import (\n",
    "    extract_divergence_generalized,\n",
    ")\n",
    "\n",
    "for min_sup_divergence in min_sup_divergences:\n",
    "    FP_fm = extract_divergence_generalized(\n",
    "        df_analyze,\n",
    "        discretizations,\n",
    "        generalization_dict,\n",
    "        continuous_attributes,\n",
    "        min_sup_divergence=min_sup_divergence,\n",
    "        apply_generalization=False,\n",
    "        true_class_name=true_class_name,\n",
    "        predicted_class_name=pred_class_name,\n",
    "        class_map=class_map,\n",
    "        metrics_divergence = [metric],\n",
    "        FPM_type=\"fpgrowth\",\n",
    "    )\n",
    "   \n",
    "    out_support.setdefault(min_sup_divergence, {})[\"base\"] = max(FP_fm[metric])"
   ]
  },
  {
   "cell_type": "markdown",
   "id": "1ad7f8f4",
   "metadata": {},
   "source": [
    "### Generalized"
   ]
  },
  {
   "cell_type": "code",
   "execution_count": 67,
   "id": "34cd02b5",
   "metadata": {
    "ExecuteTime": {
     "end_time": "2022-12-23T17:04:05.994608Z",
     "start_time": "2022-12-23T17:04:05.439607Z"
    }
   },
   "outputs": [
    {
     "name": "stdout",
     "output_type": "stream",
     "text": [
      "1 10000\n",
      "2 20000\n",
      "1 10000\n"
     ]
    }
   ],
   "source": [
    "from utils_extract_divergence_generalized import (\n",
    "    extract_divergence_generalized,\n",
    ")\n",
    "\n",
    "\n",
    "for min_sup_divergence in min_sup_divergences:\n",
    "\n",
    "    FP_fm = extract_divergence_generalized(\n",
    "        df_analyze,\n",
    "        discretizations,\n",
    "        generalization_dict,\n",
    "        continuous_attributes,\n",
    "        min_sup_divergence=min_sup_divergence,\n",
    "        apply_generalization=True,\n",
    "        true_class_name=true_class_name,\n",
    "        predicted_class_name=pred_class_name,\n",
    "        class_map=class_map,\n",
    "        metrics_divergence = [metric],\n",
    "        FPM_type=\"fpgrowth\",\n",
    "    )\n",
    "    \n",
    "    fp_divergence_i = FP_Divergence(FP_fm, metric=metric)\n",
    "\n",
    "    \n",
    "    out_support.setdefault(min_sup_divergence, {})[\"generalized\"] = max(FP_fm[metric])"
   ]
  },
  {
   "cell_type": "code",
   "execution_count": 68,
   "id": "d79bd0cd",
   "metadata": {},
   "outputs": [
    {
     "name": "stdout",
     "output_type": "stream",
     "text": [
      "1 10000\n",
      "2 20000\n",
      "1 10000\n"
     ]
    }
   ],
   "source": [
    "from utils_extract_divergence_generalized import (\n",
    "    extract_divergence_generalized,\n",
    ")\n",
    "\n",
    "\n",
    "for min_sup_divergence in min_sup_divergences:\n",
    "\n",
    "    FP_fm = extract_divergence_generalized(\n",
    "        df_analyze,\n",
    "        discretizations,\n",
    "        generalization_dict,\n",
    "        continuous_attributes,\n",
    "        min_sup_divergence=min_sup_divergence,\n",
    "        apply_generalization=True,\n",
    "        true_class_name=true_class_name,\n",
    "        predicted_class_name=pred_class_name,\n",
    "        class_map=class_map,\n",
    "        metrics_divergence = [metric],\n",
    "        FPM_type=\"fpgrowth\",\n",
    "        take_top_k=1000\n",
    "    )\n",
    "    \n",
    "    fp_divergence_i = FP_Divergence(FP_fm, metric=metric)\n",
    "    \n",
    "    out_support.setdefault(min_sup_divergence, {})[\"generalized_top\"]  = max(FP_fm[metric])"
   ]
  },
  {
   "cell_type": "code",
   "execution_count": 69,
   "id": "293eca3a",
   "metadata": {},
   "outputs": [
    {
     "name": "stdout",
     "output_type": "stream",
     "text": [
      "1 10000\n"
     ]
    }
   ],
   "source": [
    "from utils_extract_divergence_generalized import (\n",
    "    extract_divergence_generalized,\n",
    ")\n",
    "\n",
    "keep_items = tree_discr.get_keep_items_associated_with_divergence()\n",
    "\n",
    "for min_sup_divergence in min_sup_divergences:\n",
    "\n",
    "    FP_fm = extract_divergence_generalized(\n",
    "        df_analyze,\n",
    "        discretizations,\n",
    "        generalization_dict,\n",
    "        continuous_attributes,\n",
    "        min_sup_divergence=min_sup_divergence,\n",
    "        apply_generalization=True,\n",
    "        true_class_name=true_class_name,\n",
    "        predicted_class_name=pred_class_name,\n",
    "        class_map=class_map,\n",
    "        metrics_divergence = [metric],\n",
    "        FPM_type=\"fpgrowth\",\n",
    "        keep_only_positive_divergent_items=keep_items,\n",
    "        \n",
    "    )\n",
    "    \n",
    "    fp_divergence_i = FP_Divergence(FP_fm, metric=metric)\n",
    "    \n",
    "    out_support.setdefault(min_sup_divergence, {})[\"generalized_pruned\"]  = max(FP_fm[metric])"
   ]
  },
  {
   "cell_type": "code",
   "execution_count": 70,
   "id": "c33c90f6",
   "metadata": {},
   "outputs": [
    {
     "name": "stdout",
     "output_type": "stream",
     "text": [
      "1 10000\n"
     ]
    }
   ],
   "source": [
    "from utils_extract_divergence_generalized import (\n",
    "    extract_divergence_generalized,\n",
    ")\n",
    "\n",
    "keep_items = tree_discr.get_keep_items_associated_with_divergence()\n",
    "\n",
    "for min_sup_divergence in min_sup_divergences:\n",
    "\n",
    "    FP_fm = extract_divergence_generalized(\n",
    "        df_analyze,\n",
    "        discretizations,\n",
    "        generalization_dict,\n",
    "        continuous_attributes,\n",
    "        min_sup_divergence=min_sup_divergence,\n",
    "        apply_generalization=True,\n",
    "        true_class_name=true_class_name,\n",
    "        predicted_class_name=pred_class_name,\n",
    "        class_map=class_map,\n",
    "        metrics_divergence = [metric],\n",
    "        FPM_type=\"fpgrowth\",\n",
    "        keep_only_positive_divergent_items=keep_items,\n",
    "        take_top_k=1000\n",
    "        \n",
    "    )\n",
    "    \n",
    "    fp_divergence_i = FP_Divergence(FP_fm, metric=metric)\n",
    "    \n",
    "    out_support.setdefault(min_sup_divergence, {})[\"generalized_pruned_top\"]  = max(FP_fm[metric])"
   ]
  },
  {
   "cell_type": "code",
   "execution_count": 71,
   "id": "2bd06c65",
   "metadata": {},
   "outputs": [
    {
     "name": "stdout",
     "output_type": "stream",
     "text": [
      "0.1 True\n",
      "0.1 p True\n",
      "0.1 True\n",
      "0.15 True\n",
      "0.15 p True\n",
      "0.15 True\n",
      "0.2 True\n",
      "0.2 p True\n",
      "0.2 True\n",
      "0.01 True\n",
      "0.01 p True\n",
      "0.01 True\n",
      "0.02 True\n",
      "0.02 p True\n",
      "0.02 True\n",
      "0.025 True\n",
      "0.025 p True\n",
      "0.025 True\n",
      "0.03 True\n",
      "0.03 p True\n",
      "0.03 True\n",
      "0.04 True\n",
      "0.04 p True\n",
      "0.04 True\n",
      "0.05 True\n",
      "0.05 p True\n",
      "0.05 True\n"
     ]
    }
   ],
   "source": [
    "for s in out_support:\n",
    "    print(s,  out_support[s]['generalized'] == out_support[s]['generalized_top'])\n",
    "    print(s, 'p', out_support[s]['generalized_pruned'] == out_support[s]['generalized_pruned_top'])\n",
    "    print(s,  out_support[s]['generalized'] == out_support[s]['generalized_pruned'])"
   ]
  }
 ],
 "metadata": {
  "hide_input": false,
  "kernelspec": {
   "display_name": "mainexp",
   "language": "python",
   "name": "mainexp"
  },
  "language_info": {
   "codemirror_mode": {
    "name": "ipython",
    "version": 3
   },
   "file_extension": ".py",
   "mimetype": "text/x-python",
   "name": "python",
   "nbconvert_exporter": "python",
   "pygments_lexer": "ipython3",
   "version": "3.10.8"
  },
  "toc": {
   "base_numbering": 1,
   "nav_menu": {},
   "number_sections": true,
   "sideBar": true,
   "skip_h1_title": false,
   "title_cell": "Table of Contents",
   "title_sidebar": "Contents",
   "toc_cell": false,
   "toc_position": {
    "height": "calc(100% - 180px)",
    "left": "10px",
    "top": "150px",
    "width": "370px"
   },
   "toc_section_display": true,
   "toc_window_display": true
  },
  "varInspector": {
   "cols": {
    "lenName": 16,
    "lenType": 16,
    "lenVar": 40
   },
   "kernels_config": {
    "python": {
     "delete_cmd_postfix": "",
     "delete_cmd_prefix": "del ",
     "library": "var_list.py",
     "varRefreshCmd": "print(var_dic_list())"
    },
    "r": {
     "delete_cmd_postfix": ") ",
     "delete_cmd_prefix": "rm(",
     "library": "var_list.r",
     "varRefreshCmd": "cat(var_dic_list()) "
    }
   },
   "types_to_exclude": [
    "module",
    "function",
    "builtin_function_or_method",
    "instance",
    "_Feature"
   ],
   "window_display": false
  }
 },
 "nbformat": 4,
 "nbformat_minor": 5
}
