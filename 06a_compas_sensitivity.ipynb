{
 "cells": [
  {
   "cell_type": "code",
   "execution_count": 1,
   "id": "6e29837b",
   "metadata": {
    "ExecuteTime": {
     "end_time": "2022-01-22T08:43:06.679146Z",
     "start_time": "2022-01-22T08:43:06.660468Z"
    }
   },
   "outputs": [],
   "source": [
    "%load_ext autoreload\n",
    "%autoreload 2"
   ]
  },
  {
   "cell_type": "code",
   "execution_count": 2,
   "id": "4c1469a5",
   "metadata": {
    "ExecuteTime": {
     "end_time": "2022-01-22T08:43:07.062536Z",
     "start_time": "2022-01-22T08:43:06.680756Z"
    }
   },
   "outputs": [],
   "source": [
    "import pandas as pd\n",
    "import numpy as np\n",
    "\n",
    "pd.set_option(\"display.max_colwidth\", None)"
   ]
  },
  {
   "cell_type": "code",
   "execution_count": 3,
   "id": "2852c000",
   "metadata": {
    "ExecuteTime": {
     "end_time": "2022-01-22T08:43:07.091756Z",
     "start_time": "2022-01-22T08:43:07.078862Z"
    }
   },
   "outputs": [],
   "source": [
    "out = {}\n",
    "out_support = {}"
   ]
  },
  {
   "cell_type": "code",
   "execution_count": 4,
   "id": "5619797d",
   "metadata": {
    "ExecuteTime": {
     "end_time": "2022-01-22T08:43:07.118618Z",
     "start_time": "2022-01-22T08:43:07.109128Z"
    }
   },
   "outputs": [],
   "source": [
    "COL_info_detail = [\"itemsets\", \"support\", \"tn\", \"fp\", \"fn\", \"tp\"]\n",
    "\n",
    "COL_info = [\"itemsets\", \"support\"]"
   ]
  },
  {
   "cell_type": "markdown",
   "id": "0e23bbf4",
   "metadata": {},
   "source": [
    "# Parameters"
   ]
  },
  {
   "cell_type": "code",
   "execution_count": 5,
   "id": "48d5a81e",
   "metadata": {
    "ExecuteTime": {
     "end_time": "2022-01-22T08:43:07.140720Z",
     "start_time": "2022-01-22T08:43:07.120438Z"
    }
   },
   "outputs": [],
   "source": [
    "K=3\n",
    "\n",
    "metric = \"d_fpr\"\n",
    "t_value_col = \"t_value_fp\"\n",
    "min_sup_divergence=0.05"
   ]
  },
  {
   "cell_type": "code",
   "execution_count": 6,
   "id": "d23ada4f",
   "metadata": {},
   "outputs": [],
   "source": [
    "metrics = [\"d_fpr\", \"d_fnr\", \"d_accuracy\", \"d_error\"]"
   ]
  },
  {
   "cell_type": "code",
   "execution_count": 7,
   "id": "3aece848",
   "metadata": {
    "ExecuteTime": {
     "end_time": "2022-01-22T08:43:07.162157Z",
     "start_time": "2022-01-22T08:43:07.143268Z"
    }
   },
   "outputs": [],
   "source": [
    "name_output_dir = \"output_compas\""
   ]
  },
  {
   "cell_type": "code",
   "execution_count": 8,
   "id": "2d748a99",
   "metadata": {
    "ExecuteTime": {
     "end_time": "2022-01-22T08:43:07.183479Z",
     "start_time": "2022-01-22T08:43:07.164963Z"
    }
   },
   "outputs": [],
   "source": [
    "saveFig = False"
   ]
  },
  {
   "cell_type": "markdown",
   "id": "2d9153a6",
   "metadata": {},
   "source": [
    "# Dataset"
   ]
  },
  {
   "cell_type": "code",
   "execution_count": 9,
   "id": "e3ef12c1",
   "metadata": {
    "ExecuteTime": {
     "end_time": "2022-01-22T08:43:07.435967Z",
     "start_time": "2022-01-22T08:43:07.186047Z"
    }
   },
   "outputs": [
    {
     "data": {
      "text/html": [
       "<div>\n",
       "<style scoped>\n",
       "    .dataframe tbody tr th:only-of-type {\n",
       "        vertical-align: middle;\n",
       "    }\n",
       "\n",
       "    .dataframe tbody tr th {\n",
       "        vertical-align: top;\n",
       "    }\n",
       "\n",
       "    .dataframe thead th {\n",
       "        text-align: right;\n",
       "    }\n",
       "</style>\n",
       "<table border=\"1\" class=\"dataframe\">\n",
       "  <thead>\n",
       "    <tr style=\"text-align: right;\">\n",
       "      <th></th>\n",
       "      <th>c_charge_degree</th>\n",
       "      <th>race</th>\n",
       "      <th>sex</th>\n",
       "      <th>age</th>\n",
       "      <th>priors_count</th>\n",
       "      <th>length_of_stay</th>\n",
       "      <th>class</th>\n",
       "      <th>predicted</th>\n",
       "    </tr>\n",
       "  </thead>\n",
       "  <tbody>\n",
       "    <tr>\n",
       "      <th>0</th>\n",
       "      <td>F</td>\n",
       "      <td>Other</td>\n",
       "      <td>Male</td>\n",
       "      <td>69</td>\n",
       "      <td>0</td>\n",
       "      <td>1.0</td>\n",
       "      <td>0</td>\n",
       "      <td>0</td>\n",
       "    </tr>\n",
       "    <tr>\n",
       "      <th>1</th>\n",
       "      <td>F</td>\n",
       "      <td>African-American</td>\n",
       "      <td>Male</td>\n",
       "      <td>34</td>\n",
       "      <td>0</td>\n",
       "      <td>10.0</td>\n",
       "      <td>1</td>\n",
       "      <td>0</td>\n",
       "    </tr>\n",
       "    <tr>\n",
       "      <th>2</th>\n",
       "      <td>F</td>\n",
       "      <td>African-American</td>\n",
       "      <td>Male</td>\n",
       "      <td>24</td>\n",
       "      <td>4</td>\n",
       "      <td>1.0</td>\n",
       "      <td>1</td>\n",
       "      <td>0</td>\n",
       "    </tr>\n",
       "    <tr>\n",
       "      <th>3</th>\n",
       "      <td>M</td>\n",
       "      <td>Other</td>\n",
       "      <td>Male</td>\n",
       "      <td>44</td>\n",
       "      <td>0</td>\n",
       "      <td>1.0</td>\n",
       "      <td>0</td>\n",
       "      <td>0</td>\n",
       "    </tr>\n",
       "    <tr>\n",
       "      <th>4</th>\n",
       "      <td>F</td>\n",
       "      <td>Caucasian</td>\n",
       "      <td>Male</td>\n",
       "      <td>41</td>\n",
       "      <td>14</td>\n",
       "      <td>6.0</td>\n",
       "      <td>1</td>\n",
       "      <td>0</td>\n",
       "    </tr>\n",
       "  </tbody>\n",
       "</table>\n",
       "</div>"
      ],
      "text/plain": [
       "  c_charge_degree              race   sex  age  priors_count  length_of_stay  \\\n",
       "0               F             Other  Male   69             0             1.0   \n",
       "1               F  African-American  Male   34             0            10.0   \n",
       "2               F  African-American  Male   24             4             1.0   \n",
       "3               M             Other  Male   44             0             1.0   \n",
       "4               F         Caucasian  Male   41            14             6.0   \n",
       "\n",
       "   class  predicted  \n",
       "0      0          0  \n",
       "1      1          0  \n",
       "2      1          0  \n",
       "3      0          0  \n",
       "4      1          0  "
      ]
     },
     "execution_count": 9,
     "metadata": {},
     "output_type": "execute_result"
    }
   ],
   "source": [
    "abbreviations = {\n",
    "    \"age_cat\": \"age\",\n",
    "    \"priors_count\": \"#prior\",\n",
    "    \"Greater than 45\": \">45\",\n",
    "    \"25 - 45\": \"25-45\",\n",
    "    \"African-American\": \"Afr-Am\",\n",
    "    \"c_charge_degree\": \"charge\",\n",
    "    \"Less than 25\": \"<25\",\n",
    "    \"=>\": \">\",\n",
    "    \"=<\": \"<\",\n",
    "    \"length_of_stay\": \"stay\",\n",
    "    \"Caucasian\": \"Cauc\",\n",
    "}\n",
    "\n",
    "dataset_name = \"compas\"\n",
    "risk_class_type = True\n",
    "\n",
    "from import_datasets import import_process_compas\n",
    "\n",
    "dfI, class_map = import_process_compas(\n",
    "    risk_class=risk_class_type, continuous_col=True\n",
    ")\n",
    "dfI.reset_index(drop=True, inplace=True)\n",
    "\n",
    "dfI[\"predicted\"] = dfI[\"predicted\"].replace({\"Medium-Low\": 0, \"High\": 1})\n",
    "true_class_name, pred_class_name = \"class\", \"predicted\"\n",
    "class_and_pred_names = [true_class_name, pred_class_name]\n",
    "attributes = list(dfI.columns.drop(class_and_pred_names))\n",
    "\n",
    "dfI = dfI[attributes + class_and_pred_names]\n",
    "dfI.head()"
   ]
  },
  {
   "cell_type": "markdown",
   "id": "08cc5454",
   "metadata": {},
   "source": [
    "# Tree divergence - error"
   ]
  },
  {
   "cell_type": "code",
   "execution_count": 10,
   "id": "876c356a",
   "metadata": {
    "ExecuteTime": {
     "end_time": "2022-01-22T08:43:10.341235Z",
     "start_time": "2022-01-22T08:43:10.325226Z"
    }
   },
   "outputs": [],
   "source": [
    "COL_info = [\"itemsets\", \"support\"]"
   ]
  },
  {
   "cell_type": "markdown",
   "id": "8cf34252",
   "metadata": {},
   "source": [
    "## Tree divergence -fpr 0.025\n"
   ]
  },
  {
   "cell_type": "code",
   "execution_count": 11,
   "id": "ad9bbe17",
   "metadata": {
    "ExecuteTime": {
     "end_time": "2022-01-22T08:43:09.529281Z",
     "start_time": "2022-01-22T08:43:09.510751Z"
    }
   },
   "outputs": [],
   "source": [
    "cols_c = [\"class\", \"predicted\"]\n",
    "continuous_attributes = [\"priors_count\", \"length_of_stay\", \"age\"]\n",
    "\n",
    "\n",
    "type_criterion=\"divergence_criterion\"\n",
    "\n",
    "type_experiment = \"one_at_time\"\n",
    "\n",
    "min_sup_divergence = 0.025"
   ]
  },
  {
   "cell_type": "code",
   "execution_count": 12,
   "id": "b9c034f9",
   "metadata": {},
   "outputs": [],
   "source": [
    "min_support_trees = [0.005, 0.01, 0.02, 0.025, 0.035, 0.05, 0.075, 0.1, 0.125, 0.15, 0.175, 0.2, 0.25, 0.3]"
   ]
  },
  {
   "cell_type": "code",
   "execution_count": 13,
   "id": "243e47d0",
   "metadata": {
    "ExecuteTime": {
     "end_time": "2022-01-22T08:43:09.694041Z",
     "start_time": "2022-01-22T08:43:09.553786Z"
    }
   },
   "outputs": [
    {
     "name": "stdout",
     "output_type": "stream",
     "text": [
      "0.005 0.01 0.02 0.025 0.035 0.05 0.075 0.1 0.125 0.15 0.175 0.2 0.25 0.3 "
     ]
    }
   ],
   "source": [
    "max_divergence_dict = {}\n",
    "\n",
    "for min_support_tree in min_support_trees:\n",
    "\n",
    "    out = {}\n",
    "    print(min_support_tree, end = \" \")\n",
    "\n",
    "    df_analyze = dfI.copy()\n",
    "\n",
    "    from tree_discretization import TreeDiscretization\n",
    "\n",
    "    tree_discr = TreeDiscretization()\n",
    "\n",
    "    # ## Extract tree\n",
    "    generalization_dict, discretizations = tree_discr.get_tree_discretization(\n",
    "        df_analyze,\n",
    "        type_splitting=type_experiment,\n",
    "        min_support=min_support_tree,\n",
    "        metric=metric,\n",
    "        class_map=class_map,\n",
    "        continuous_attributes=list(continuous_attributes),\n",
    "        class_and_pred_names=cols_c,\n",
    "        storeTree=True,\n",
    "        type_criterion=type_criterion,\n",
    "        # minimal_gain = 0.0015\n",
    "    )\n",
    "    \n",
    "    considerOnlyContinuos = True\n",
    "    if considerOnlyContinuos:\n",
    "        for k in list(generalization_dict.keys()):\n",
    "            if k not in continuous_attributes:\n",
    "                generalization_dict.pop(k, None)\n",
    "                \n",
    "    for apply_generalization in [False, True]:\n",
    "        \n",
    "        if apply_generalization == True:\n",
    "            type_gen = \"generalized\"\n",
    "        else:\n",
    "            type_gen = \"base\"\n",
    "            \n",
    "\n",
    "        from utils_extract_divergence_generalized import (\n",
    "            extract_divergence_generalized,\n",
    "        )\n",
    "\n",
    "        FP_fm = extract_divergence_generalized(\n",
    "            df_analyze,\n",
    "            discretizations,\n",
    "            generalization_dict,\n",
    "            continuous_attributes,\n",
    "            min_sup_divergence=min_sup_divergence,\n",
    "            apply_generalization=apply_generalization,\n",
    "            true_class_name=true_class_name,\n",
    "            predicted_class_name=pred_class_name,\n",
    "            class_map=class_map,\n",
    "            FPM_type=\"fpgrowth\",\n",
    "        )\n",
    "\n",
    "        out[type_gen] = max(FP_fm[metric])\n",
    "    max_divergence_dict[min_support_tree] = out"
   ]
  },
  {
   "cell_type": "markdown",
   "id": "a08693da",
   "metadata": {},
   "source": [
    "### Plot "
   ]
  },
  {
   "cell_type": "code",
   "execution_count": 14,
   "id": "19264951",
   "metadata": {
    "scrolled": true
   },
   "outputs": [
    {
     "data": {
      "image/png": "[encoded data removed]",
      "text/plain": [
       "<Figure size 288x252 with 1 Axes>"
      ]
     },
     "metadata": {
      "needs_background": "light"
     },
     "output_type": "display_data"
    }
   ],
   "source": [
    "show_sup = [0.005, 0.01, 0.02, 0.025, 0.035, 0.05, 0.075, 0.1, 0.125, 0.15, 0.175, 0.2]\n",
    "\n",
    "\n",
    "\n",
    "from pathlib import Path\n",
    "outfig_dir = \"0_output_figures\"\n",
    "Path(outfig_dir).mkdir(parents=True, exist_ok=True)\n",
    "\n",
    "import matplotlib.pyplot as plt\n",
    "\n",
    "\n",
    "\n",
    "metric_name = \"Δ_fpr\"\n",
    "\n",
    "\n",
    "vs = {}\n",
    "\n",
    "\n",
    "fig, ax = plt.subplots(figsize = (4,3.5))\n",
    "\n",
    "base = { min_support_tree: max_divergence_dict[min_support_tree][\"base\"] for min_support_tree in max_divergence_dict if min_support_tree in show_sup}\n",
    "gen =  { min_support_tree: max_divergence_dict[min_support_tree][\"generalized\"] for min_support_tree in max_divergence_dict if min_support_tree in show_sup}\n",
    "\n",
    "base = dict(sorted(base.items(), key=lambda item: item[0]))\n",
    "gen = dict(sorted(gen.items(), key=lambda item: item[0]))\n",
    "ax.set_title(r\"Highest Δ$_{FPR}$\")\n",
    "\n",
    "\n",
    "ax.plot(list(base.keys()), list(base.values()), label = \"base\", marker = \"o\")\n",
    "ax.plot(list(gen.keys()), list(gen.values()), label = \"generalized\", marker = \"o\")\n",
    "ax.set_ylabel(r\"max Δ$_{FPR}$\")\n",
    "ax.set_xlabel(r\"Minimum support $s_{tree}$\")\n",
    "for item in ([ax.title, ax.xaxis.label, ax.yaxis.label] ): #ax.get_xticklabels()\n",
    "        item.set_fontsize(14)\n",
    "\n",
    "for item in ax.get_xticklabels() + ax.get_yticklabels():\n",
    "     item.set_fontsize(12)\n",
    "        \n",
    "plt.legend( fontsize = 13, handletextpad=0.2)\n",
    "\n",
    "\n",
    "\n",
    "plt.tight_layout();\n",
    "plt.savefig(f\"{outfig_dir}/compas_sensitivity_s_{min_sup_divergence}.pdf\");"
   ]
  }
 ],
 "metadata": {
  "hide_input": false,
  "kernelspec": {
   "display_name": "Python 3.8.8 ('base')",
   "language": "python",
   "name": "python3"
  },
  "language_info": {
   "codemirror_mode": {
    "name": "ipython",
    "version": 3
   },
   "file_extension": ".py",
   "mimetype": "text/x-python",
   "name": "python",
   "nbconvert_exporter": "python",
   "pygments_lexer": "ipython3",
   "version": "3.8.8"
  },
  "toc": {
   "base_numbering": 1,
   "nav_menu": {},
   "number_sections": true,
   "sideBar": true,
   "skip_h1_title": false,
   "title_cell": "Table of Contents",
   "title_sidebar": "Contents",
   "toc_cell": false,
   "toc_position": {
    "height": "calc(100% - 180px)",
    "left": "10px",
    "top": "150px",
    "width": "370px"
   },
   "toc_section_display": true,
   "toc_window_display": true
  },
  "varInspector": {
   "cols": {
    "lenName": 16,
    "lenType": 16,
    "lenVar": 40
   },
   "kernels_config": {
    "python": {
     "delete_cmd_postfix": "",
     "delete_cmd_prefix": "del ",
     "library": "var_list.py",
     "varRefreshCmd": "print(var_dic_list())"
    },
    "r": {
     "delete_cmd_postfix": ") ",
     "delete_cmd_prefix": "rm(",
     "library": "var_list.r",
     "varRefreshCmd": "cat(var_dic_list()) "
    }
   },
   "types_to_exclude": [
    "module",
    "function",
    "builtin_function_or_method",
    "instance",
    "_Feature"
   ],
   "window_display": false
  },
  "vscode": {
   "interpreter": {
    "hash": "07df9bc2b24d98062a84ddbd1ffd60fbcc72456b438b7897cd79ef4167382f91"
   }
  }
 },
 "nbformat": 4,
 "nbformat_minor": 5
}
