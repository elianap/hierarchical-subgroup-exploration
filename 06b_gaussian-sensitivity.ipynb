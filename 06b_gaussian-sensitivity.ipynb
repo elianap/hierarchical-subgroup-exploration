{
 "cells": [
  {
   "cell_type": "code",
   "execution_count": 1,
   "id": "spatial-reason",
   "metadata": {
    "ExecuteTime": {
     "end_time": "2022-06-07T14:39:52.023037Z",
     "start_time": "2022-06-07T14:39:52.002059Z"
    }
   },
   "outputs": [],
   "source": [
    "%load_ext autoreload\n",
    "%autoreload 2"
   ]
  },
  {
   "cell_type": "markdown",
   "id": "pediatric-twenty",
   "metadata": {},
   "source": [
    "Try with **multiple dimension**! 5 or 6"
   ]
  },
  {
   "cell_type": "code",
   "execution_count": 2,
   "id": "019d2a75",
   "metadata": {},
   "outputs": [],
   "source": [
    "import warnings\n",
    "warnings.filterwarnings(\"ignore\")\n",
    "\n",
    "from utils_artificial import gaussian_error_data\n",
    "import pandas as pd"
   ]
  },
  {
   "cell_type": "code",
   "execution_count": 3,
   "id": "statutory-decline",
   "metadata": {
    "ExecuteTime": {
     "end_time": "2022-06-07T14:39:52.705842Z",
     "start_time": "2022-06-07T14:39:52.690642Z"
    }
   },
   "outputs": [],
   "source": [
    "from pathlib import Path\n",
    "outfig_dir = \"0_output_figures\"\n",
    "Path(outfig_dir).mkdir(parents=True, exist_ok=True)"
   ]
  },
  {
   "cell_type": "markdown",
   "id": "industrial-manner",
   "metadata": {},
   "source": [
    "# Error rate based on a gaussian"
   ]
  },
  {
   "cell_type": "code",
   "execution_count": 4,
   "id": "suspended-prospect",
   "metadata": {
    "ExecuteTime": {
     "end_time": "2022-06-07T14:54:57.876014Z",
     "start_time": "2022-06-07T14:54:57.852411Z"
    }
   },
   "outputs": [],
   "source": [
    "min_sups = [0.005, 0.01, 0.02, 0.025, 0.035, 0.05, 0.075, 0.1, 0.125, 0.15, 0.175, 0.2]"
   ]
  },
  {
   "cell_type": "code",
   "execution_count": 6,
   "id": "ranging-seeking",
   "metadata": {
    "ExecuteTime": {
     "end_time": "2022-06-07T14:55:05.397507Z",
     "start_time": "2022-06-07T14:54:58.181213Z"
    },
    "scrolled": true
   },
   "outputs": [],
   "source": [
    "\n",
    "n_attributes = 3\n",
    "df_analysis, attributes, g, g_sc = gaussian_error_data(n = 10000, n_attributes = n_attributes)\n",
    "\n",
    "from tqdm import tqdm \n",
    "\n",
    "from utils_extract_divergence_generalized_ranking import (\n",
    "    extract_divergence_generalized,\n",
    ")\n",
    "\n",
    "\n",
    "\n",
    "pred_name =\"predicted_class\"\n",
    "class_name =  \"true_class\" \n",
    "class_map = {\"P\":1, \"N\":0}\n",
    "\n",
    "continuous_attributes = attributes\n",
    "\n",
    "min_sup_divergence=0.025\n",
    "\n",
    "type_experiment = \"one_at_time\"\n",
    "metric = \"d_error\"\n",
    "type_criterion = \"divergence_criterion\"\n"
   ]
  },
  {
   "cell_type": "code",
   "execution_count": 7,
   "id": "a58c1bc6",
   "metadata": {},
   "outputs": [
    {
     "name": "stdout",
     "output_type": "stream",
     "text": [
      "0.005 0.01 0.02 0.025 0.035 0.05 0.075 0.1 0.125 0.15 0.175 0.2 "
     ]
    }
   ],
   "source": [
    "from tree_discretization import TreeDiscretization\n",
    "\n",
    "tree_discr = TreeDiscretization()\n",
    "\n",
    "stats_tree = {}\n",
    "for min_support in min_sups:\n",
    "    if min_support in stats_tree:\n",
    "        continue\n",
    "    print(min_support, end = \" \")\n",
    "    generalization_dict, discretizations = tree_discr.get_tree_discretization(\n",
    "        df_analysis,\n",
    "        type_splitting=type_experiment,\n",
    "        min_support=min_support,\n",
    "        metric=metric,\n",
    "        continuous_attributes= list(continuous_attributes),\n",
    "        storeTree=True,\n",
    "        type_criterion = type_criterion,\n",
    "        minimal_gain = 0.00,    \n",
    "        class_map=class_map,\n",
    "        class_and_pred_names=[class_name, pred_name],\n",
    "    )    \n",
    "\n",
    "    for apply_generalization in [True, False]:\n",
    "        if apply_generalization is True:\n",
    "            gen_type = \"generalized\"\n",
    "        else:\n",
    "            gen_type = \"base\"\n",
    "        FP_fm = extract_divergence_generalized(\n",
    "            df_analysis,\n",
    "            discretizations,\n",
    "            generalization_dict,\n",
    "            continuous_attributes,\n",
    "            min_sup_divergence=min_sup_divergence,\n",
    "            apply_generalization=apply_generalization,\n",
    "            true_class_name=pred_name,\n",
    "            predicted_class_name=class_name,\n",
    "            class_map=class_map,\n",
    "            FPM_type=\"fpgrowth\",\n",
    "            metrics_divergence = [metric],\n",
    "            type_experiment = type_experiment,\n",
    "            allow_overalp = False if type_experiment!=\"all_attributes\" else True\n",
    "        )\n",
    "        from divexplorer_generalized_ranking.FP_Divergence import FP_Divergence\n",
    "        fp_divergence_o=FP_Divergence(FP_fm, metric)\n",
    "        fpdiv = fp_divergence_o.getDivergence(th_redundancy=0).sort_values(fp_divergence_o.metric, ascending = False)\n",
    "\n",
    "        if min_support not in stats_tree:\n",
    "            stats_tree[min_support] = {}\n",
    "        stats_tree[min_support][gen_type] = fpdiv.iloc[0]\n",
    "        "
   ]
  },
  {
   "cell_type": "code",
   "execution_count": 11,
   "id": "1f71e9a9",
   "metadata": {},
   "outputs": [
    {
     "data": {
      "image/png": "[encoded data removed]",
      "text/plain": [
       "<Figure size 288x252 with 1 Axes>"
      ]
     },
     "metadata": {
      "needs_background": "light"
     },
     "output_type": "display_data"
    }
   ],
   "source": [
    "import matplotlib.pyplot as plt\n",
    "\n",
    "show_sup = [0.005, 0.01, 0.02, 0.025, 0.035, 0.05, 0.075, 0.1, 0.125, 0.15, 0.175, 0.2]\n",
    "\n",
    "n_attributes = 3\n",
    "vs = {}\n",
    "\n",
    "\n",
    "fig, ax = plt.subplots(figsize = (4,3.5))\n",
    "\n",
    "base = { min_support: stats_tree[min_support][\"base\"][\"d_error\"] for min_support in stats_tree if min_support in show_sup}\n",
    "gen =  { min_support: stats_tree[min_support][\"generalized\"][\"d_error\"] for min_support in stats_tree if min_support in show_sup}\n",
    "\n",
    "base = dict(sorted(base.items(), key=lambda item: item[0]))\n",
    "gen = dict(sorted(gen.items(), key=lambda item: item[0]))\n",
    "\n",
    "\n",
    "ax.plot(list(base.keys()), list(base.values()), label = \"base\", marker = \"o\")\n",
    "ax.plot(list(gen.keys()), list(gen.values()), label = \"generalized\", marker = \"o\")\n",
    "ax.set_title(r\"Highest Δ$_{error}$\")\n",
    "ax.set_ylabel(r\"max Δ$_{FPR}$\")\n",
    "ax.set_xlabel(r\"Minimum support $s_{tree}$\")\n",
    "plt.legend( fontsize = 13, handletextpad=0.2)\n",
    "for item in ([ax.title, ax.xaxis.label, ax.yaxis.label] ): #ax.get_xticklabels()\n",
    "    item.set_fontsize(14)\n",
    "\n",
    "for item in ax.get_xticklabels() + ax.get_yticklabels():\n",
    "     item.set_fontsize(12)\n",
    "\n",
    "\n",
    "plt.tight_layout();\n",
    "plt.savefig(f\"{outfig_dir}/artificial_gaussian_sensitivity_{n_attributes}_s_{min_sup_divergence}.pdf\");"
   ]
  }
 ],
 "metadata": {
  "kernelspec": {
   "display_name": "Python 3.8.8 ('base')",
   "language": "python",
   "name": "python3"
  },
  "language_info": {
   "codemirror_mode": {
    "name": "ipython",
    "version": 3
   },
   "file_extension": ".py",
   "mimetype": "text/x-python",
   "name": "python",
   "nbconvert_exporter": "python",
   "pygments_lexer": "ipython3",
   "version": "3.8.8"
  },
  "toc": {
   "base_numbering": 1,
   "nav_menu": {},
   "number_sections": true,
   "sideBar": true,
   "skip_h1_title": false,
   "title_cell": "Table of Contents",
   "title_sidebar": "Contents",
   "toc_cell": false,
   "toc_position": {
    "height": "calc(100% - 180px)",
    "left": "10px",
    "top": "150px",
    "width": "250.484px"
   },
   "toc_section_display": true,
   "toc_window_display": true
  },
  "vscode": {
   "interpreter": {
    "hash": "07df9bc2b24d98062a84ddbd1ffd60fbcc72456b438b7897cd79ef4167382f91"
   }
  }
 },
 "nbformat": 4,
 "nbformat_minor": 5
}
