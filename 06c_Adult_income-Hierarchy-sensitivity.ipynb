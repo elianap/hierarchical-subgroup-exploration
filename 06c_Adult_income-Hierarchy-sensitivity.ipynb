{
 "cells": [
  {
   "cell_type": "code",
   "execution_count": 2,
   "id": "23ebfde9",
   "metadata": {
    "ExecuteTime": {
     "end_time": "2022-06-08T13:22:23.566119Z",
     "start_time": "2022-06-08T13:22:23.536059Z"
    }
   },
   "outputs": [
    {
     "name": "stdout",
     "output_type": "stream",
     "text": [
      "The autoreload extension is already loaded. To reload it, use:\n",
      "  %reload_ext autoreload\n"
     ]
    }
   ],
   "source": [
    "%load_ext autoreload\n",
    "%autoreload 2"
   ]
  },
  {
   "cell_type": "code",
   "execution_count": 3,
   "id": "7f0419cc",
   "metadata": {},
   "outputs": [],
   "source": [
    "\n",
    "import pandas as pd\n",
    "pd.set_option('max_colwidth', None)\n",
    "import os"
   ]
  },
  {
   "cell_type": "code",
   "execution_count": 4,
   "id": "sunrise-seating",
   "metadata": {
    "ExecuteTime": {
     "end_time": "2022-06-08T13:22:23.587021Z",
     "start_time": "2022-06-08T13:22:23.567959Z"
    }
   },
   "outputs": [],
   "source": [
    "from utils_printable import printable\n",
    "\n",
    "\n",
    "\n",
    "abbreviations = {\"RAC1P\": \"RAC\", \"White alone\": \"White\", \"Reference person\": \"Ref person\", \\\n",
    "\"Employee of a private for-profit company or business, or of an individual, for wages, salary, or commissions\": \"Empl. for-profit-c\",\\\n",
    "\"Employee of a private not-for-profit, tax-exempt, or charitable organization\": \"Empl. no-profit-c\",\n",
    "\"Self-employed in own not incorporated business, professional practice, or farm\": \"Self-Empl. not incorp\" ,     \n",
    "\"Self-employed in own incorporated business, professional practice or farm\": \"Self-Empl. incorp\" ,\n",
    "\"Local government employee (city, county, etc.)\" : \"Local gov. Empl. \",\n",
    "\"Federal government employee\": \"Federal gov.  Empl.\",\n",
    "\"California/CA\":\"CA\", \"Never married or under 15 years old\": \"Never married/<15yrs\", \n",
    "\"Biological son or daughter\": \"Son/daughter\", \"Regular high school diploma\":\"HS\", \\\n",
    "\"Asian alone\":\"Asian\", \"1 or more years of college credit\":\"1+ collage cr\",\n",
    "\"Some Other Race alone\": \"Other\", \"Bachelor's degree\": \"Bachelor\", \"Master's degree\": \"Master\", \n",
    "                \"Some college, but less than 1 year\": \"<1y collage\",\n",
    "                \"Associate's degree\":\"Associate\",\n",
    "\"Noninstitutionalized group quarters population\": \"Noninstit. GQs\", \n",
    "\"OCCP=CMM-Software Developers\": \"OCCP=CMM-SW Dev\", \n",
    "                 \"Professional degree beyond a bachelor's degree\": \"Prof beyond bachelor\"}"
   ]
  },
  {
   "cell_type": "markdown",
   "id": "2c61951a",
   "metadata": {},
   "source": [
    "# Load data"
   ]
  },
  {
   "cell_type": "code",
   "execution_count": 5,
   "id": "1e8527f4",
   "metadata": {
    "ExecuteTime": {
     "end_time": "2022-06-08T13:22:32.514993Z",
     "start_time": "2022-06-08T13:22:23.605431Z"
    }
   },
   "outputs": [],
   "source": [
    "from folktables import ACSDataSource, ACSIncome\n",
    "\n",
    "data_source = ACSDataSource(survey_year='2018', horizon='1-Year', survey='person')\n",
    "acs_data = data_source.get_data(states=[\"CA\"], download=True)\n",
    "features, label, group = ACSIncome.df_to_numpy(acs_data)"
   ]
  },
  {
   "cell_type": "code",
   "execution_count": 6,
   "id": "49915da4",
   "metadata": {
    "ExecuteTime": {
     "end_time": "2022-06-08T13:22:32.532579Z",
     "start_time": "2022-06-08T13:22:32.516650Z"
    }
   },
   "outputs": [],
   "source": [
    "from folktables.acs import adult_filter\n",
    "from folktables import BasicProblem\n",
    "import numpy as np\n",
    "\n",
    "feature_names = [ 'AGEP', 'COW', 'SCHL', 'MAR', 'OCCP', 'POBP',  'RELP', 'WKHP', 'SEX', 'RAC1P' ]\n",
    "\n",
    "target='PINCP'\n",
    "\n",
    "ACSIncome_outcome = BasicProblem(\n",
    "    features=feature_names,\n",
    "    target=target,\n",
    "    group='RAC1P',\n",
    "    preprocess=adult_filter,\n",
    ")"
   ]
  },
  {
   "cell_type": "code",
   "execution_count": 7,
   "id": "fd2ef146",
   "metadata": {
    "ExecuteTime": {
     "end_time": "2022-06-08T13:22:33.506902Z",
     "start_time": "2022-06-08T13:22:32.533974Z"
    }
   },
   "outputs": [],
   "source": [
    "features, label, group = ACSIncome_outcome.df_to_numpy(acs_data)"
   ]
  },
  {
   "cell_type": "code",
   "execution_count": 8,
   "id": "bbb6df0e",
   "metadata": {
    "ExecuteTime": {
     "end_time": "2022-06-08T13:22:33.522619Z",
     "start_time": "2022-06-08T13:22:33.508827Z"
    }
   },
   "outputs": [],
   "source": [
    "continuous_attributes = ['AGEP', 'WKHP']"
   ]
  },
  {
   "cell_type": "code",
   "execution_count": 9,
   "id": "076d453a",
   "metadata": {
    "ExecuteTime": {
     "end_time": "2022-06-08T13:22:33.550247Z",
     "start_time": "2022-06-08T13:22:33.524064Z"
    }
   },
   "outputs": [],
   "source": [
    "categorical_attributes = list(set(feature_names)-set(continuous_attributes))"
   ]
  },
  {
   "cell_type": "code",
   "execution_count": 10,
   "id": "d57cc259",
   "metadata": {
    "ExecuteTime": {
     "end_time": "2022-06-08T13:22:33.580876Z",
     "start_time": "2022-06-08T13:22:33.553991Z"
    }
   },
   "outputs": [
    {
     "data": {
      "text/html": [
       "<div>\n",
       "<style scoped>\n",
       "    .dataframe tbody tr th:only-of-type {\n",
       "        vertical-align: middle;\n",
       "    }\n",
       "\n",
       "    .dataframe tbody tr th {\n",
       "        vertical-align: top;\n",
       "    }\n",
       "\n",
       "    .dataframe thead th {\n",
       "        text-align: right;\n",
       "    }\n",
       "</style>\n",
       "<table border=\"1\" class=\"dataframe\">\n",
       "  <thead>\n",
       "    <tr style=\"text-align: right;\">\n",
       "      <th></th>\n",
       "      <th>AGEP</th>\n",
       "      <th>COW</th>\n",
       "      <th>SCHL</th>\n",
       "      <th>MAR</th>\n",
       "      <th>OCCP</th>\n",
       "      <th>POBP</th>\n",
       "      <th>RELP</th>\n",
       "      <th>WKHP</th>\n",
       "      <th>SEX</th>\n",
       "      <th>RAC1P</th>\n",
       "      <th>income</th>\n",
       "    </tr>\n",
       "  </thead>\n",
       "  <tbody>\n",
       "    <tr>\n",
       "      <th>0</th>\n",
       "      <td>30.0</td>\n",
       "      <td>6.0</td>\n",
       "      <td>14.0</td>\n",
       "      <td>1.0</td>\n",
       "      <td>9610.0</td>\n",
       "      <td>6.0</td>\n",
       "      <td>16.0</td>\n",
       "      <td>40.0</td>\n",
       "      <td>1.0</td>\n",
       "      <td>8.0</td>\n",
       "      <td>48500.0</td>\n",
       "    </tr>\n",
       "    <tr>\n",
       "      <th>1</th>\n",
       "      <td>21.0</td>\n",
       "      <td>4.0</td>\n",
       "      <td>16.0</td>\n",
       "      <td>5.0</td>\n",
       "      <td>1970.0</td>\n",
       "      <td>6.0</td>\n",
       "      <td>17.0</td>\n",
       "      <td>20.0</td>\n",
       "      <td>1.0</td>\n",
       "      <td>1.0</td>\n",
       "      <td>7700.0</td>\n",
       "    </tr>\n",
       "    <tr>\n",
       "      <th>2</th>\n",
       "      <td>65.0</td>\n",
       "      <td>2.0</td>\n",
       "      <td>22.0</td>\n",
       "      <td>5.0</td>\n",
       "      <td>2040.0</td>\n",
       "      <td>6.0</td>\n",
       "      <td>17.0</td>\n",
       "      <td>8.0</td>\n",
       "      <td>1.0</td>\n",
       "      <td>1.0</td>\n",
       "      <td>17200.0</td>\n",
       "    </tr>\n",
       "    <tr>\n",
       "      <th>3</th>\n",
       "      <td>33.0</td>\n",
       "      <td>1.0</td>\n",
       "      <td>14.0</td>\n",
       "      <td>3.0</td>\n",
       "      <td>9610.0</td>\n",
       "      <td>36.0</td>\n",
       "      <td>16.0</td>\n",
       "      <td>40.0</td>\n",
       "      <td>1.0</td>\n",
       "      <td>1.0</td>\n",
       "      <td>12000.0</td>\n",
       "    </tr>\n",
       "    <tr>\n",
       "      <th>4</th>\n",
       "      <td>18.0</td>\n",
       "      <td>2.0</td>\n",
       "      <td>19.0</td>\n",
       "      <td>5.0</td>\n",
       "      <td>1021.0</td>\n",
       "      <td>6.0</td>\n",
       "      <td>17.0</td>\n",
       "      <td>18.0</td>\n",
       "      <td>2.0</td>\n",
       "      <td>1.0</td>\n",
       "      <td>300.0</td>\n",
       "    </tr>\n",
       "  </tbody>\n",
       "</table>\n",
       "</div>"
      ],
      "text/plain": [
       "   AGEP  COW  SCHL  MAR    OCCP  POBP  RELP  WKHP  SEX  RAC1P   income\n",
       "0  30.0  6.0  14.0  1.0  9610.0   6.0  16.0  40.0  1.0    8.0  48500.0\n",
       "1  21.0  4.0  16.0  5.0  1970.0   6.0  17.0  20.0  1.0    1.0   7700.0\n",
       "2  65.0  2.0  22.0  5.0  2040.0   6.0  17.0   8.0  1.0    1.0  17200.0\n",
       "3  33.0  1.0  14.0  3.0  9610.0  36.0  16.0  40.0  1.0    1.0  12000.0\n",
       "4  18.0  2.0  19.0  5.0  1021.0   6.0  17.0  18.0  2.0    1.0    300.0"
      ]
     },
     "execution_count": 10,
     "metadata": {},
     "output_type": "execute_result"
    }
   ],
   "source": [
    "import pandas as pd\n",
    "\n",
    "\n",
    "df = pd.DataFrame(features, columns=feature_names)\n",
    "df[\"income\"] = label\n",
    "df.head()"
   ]
  },
  {
   "cell_type": "markdown",
   "id": "65895cac",
   "metadata": {},
   "source": [
    "# Remap columns"
   ]
  },
  {
   "cell_type": "markdown",
   "id": "dependent-positive",
   "metadata": {},
   "source": [
    "From label encoding to interpretable notation: e.g., 0, 1 to \"male\", \"female\""
   ]
  },
  {
   "cell_type": "code",
   "execution_count": 11,
   "id": "abstract-prospect",
   "metadata": {
    "ExecuteTime": {
     "end_time": "2022-06-08T13:22:33.595785Z",
     "start_time": "2022-06-08T13:22:33.582512Z"
    }
   },
   "outputs": [],
   "source": [
    "filename = os.path.join(os.path.curdir, \"datasets\", \"ACSPUMS\", \"PUMS_Data_Dictionary_2018.csv\")\n",
    "df_mappings = pd.read_csv(filename)"
   ]
  },
  {
   "cell_type": "code",
   "execution_count": 12,
   "id": "e17ec43e",
   "metadata": {
    "ExecuteTime": {
     "end_time": "2022-06-08T13:22:33.806407Z",
     "start_time": "2022-06-08T13:22:33.756004Z"
    }
   },
   "outputs": [],
   "source": [
    "remapping_cols = {}\n",
    "\n",
    "orig_col = \"1\"\n",
    "new_col = \"Record Type\"\n",
    "cols_i = [orig_col, new_col]\n",
    "\n",
    "#col_name = \"OCCP\"\n",
    "for col_name in categorical_attributes:\n",
    "    dict_i = df_mappings.loc[\"VAL\"].loc[col_name][cols_i].set_index(orig_col).to_dict()[new_col]\n",
    "    dict_i = {float(k) if (k not in [\"b\", \"bb\", 'bbb', 'bbbb']) else -1 :v for k,v in dict_i.items()}\n",
    "    remapping_cols[col_name] = dict_i"
   ]
  },
  {
   "cell_type": "code",
   "execution_count": 13,
   "id": "f6b86971",
   "metadata": {
    "ExecuteTime": {
     "end_time": "2022-06-08T13:22:35.841095Z",
     "start_time": "2022-06-08T13:22:33.807934Z"
    }
   },
   "outputs": [],
   "source": [
    "from copy import deepcopy\n",
    "\n",
    "df_analysis = deepcopy(df)\n",
    "\n",
    "for column_name in remapping_cols:\n",
    "    df_analysis[column_name] = df[column_name].replace(remapping_cols[column_name])"
   ]
  },
  {
   "cell_type": "markdown",
   "id": "portable-personal",
   "metadata": {},
   "source": [
    "We substituite nan with string \"NaN\""
   ]
  },
  {
   "cell_type": "code",
   "execution_count": 14,
   "id": "029194e4",
   "metadata": {
    "ExecuteTime": {
     "end_time": "2022-06-08T13:22:35.912798Z",
     "start_time": "2022-06-08T13:22:35.842887Z"
    }
   },
   "outputs": [],
   "source": [
    "for c in df_analysis:\n",
    "    if df_analysis[c].isna().any():\n",
    "        print(c)\n",
    "        df_analysis[c].fillna('NaN', inplace=True)"
   ]
  },
  {
   "cell_type": "code",
   "execution_count": 15,
   "id": "5e353603",
   "metadata": {
    "ExecuteTime": {
     "end_time": "2022-06-08T13:22:37.467885Z",
     "start_time": "2022-06-08T13:22:36.066184Z"
    }
   },
   "outputs": [],
   "source": [
    "df_analysis.to_csv(os.path.join(os.path.curdir, \"datasets\", \"ACSPUMS\", \"adult_dataset_income.csv\"), index=False)"
   ]
  },
  {
   "cell_type": "code",
   "execution_count": 16,
   "id": "ff583e16",
   "metadata": {
    "ExecuteTime": {
     "end_time": "2022-06-08T13:22:37.484075Z",
     "start_time": "2022-06-08T13:22:37.469515Z"
    }
   },
   "outputs": [],
   "source": [
    "continuous_attributes = ['AGEP', 'WKHP']"
   ]
  },
  {
   "cell_type": "code",
   "execution_count": 17,
   "id": "9ec8ef79",
   "metadata": {
    "ExecuteTime": {
     "end_time": "2022-06-08T13:22:37.527758Z",
     "start_time": "2022-06-08T13:22:37.485452Z"
    }
   },
   "outputs": [
    {
     "data": {
      "text/plain": [
       "(195665, 11)"
      ]
     },
     "execution_count": 17,
     "metadata": {},
     "output_type": "execute_result"
    }
   ],
   "source": [
    "df_analysis.shape"
   ]
  },
  {
   "cell_type": "markdown",
   "id": "3cd56012",
   "metadata": {},
   "source": [
    "# Taxonomy"
   ]
  },
  {
   "cell_type": "code",
   "execution_count": 18,
   "id": "0f9f22bf",
   "metadata": {
    "ExecuteTime": {
     "end_time": "2022-06-08T13:22:37.556681Z",
     "start_time": "2022-06-08T13:22:37.530892Z"
    }
   },
   "outputs": [],
   "source": [
    "df_analysis_proc = deepcopy(df_analysis)"
   ]
  },
  {
   "cell_type": "markdown",
   "id": "romance-devil",
   "metadata": {},
   "source": [
    "### Occupation"
   ]
  },
  {
   "cell_type": "code",
   "execution_count": 19,
   "id": "4ee6945c",
   "metadata": {
    "ExecuteTime": {
     "end_time": "2022-06-08T13:22:37.647640Z",
     "start_time": "2022-06-08T13:22:37.558321Z"
    }
   },
   "outputs": [],
   "source": [
    "attr = \"OCCP\"\n",
    "\n",
    "generalization_dict_tax = {}\n",
    "generalization_dict_tax[attr] = {x: x.split(\"-\")[0] for x in df_analysis_proc[attr].values if \"-\" in x}"
   ]
  },
  {
   "cell_type": "markdown",
   "id": "varied-mainland",
   "metadata": {},
   "source": [
    "### Country"
   ]
  },
  {
   "cell_type": "markdown",
   "id": "distributed-nepal",
   "metadata": {},
   "source": [
    "We rename some of the columns for vizualization and mapping reasons."
   ]
  },
  {
   "cell_type": "code",
   "execution_count": 20,
   "id": "committed-hayes",
   "metadata": {
    "ExecuteTime": {
     "end_time": "2022-06-08T13:22:37.956257Z",
     "start_time": "2022-06-08T13:22:37.854235Z"
    }
   },
   "outputs": [],
   "source": [
    "if \"POBP\" in df_analysis_proc.columns:\n",
    "    df_analysis_proc[\"POBP\"] = df_analysis_proc[\"POBP\"]\\\n",
    "    .replace({\"England\":\"United Kingdom\", 'Scotland': \"United Kingdom\", \\\n",
    "              \"United Kingdom, Not Specified\": \"United Kingdom\",  'Northern Ireland': \"United Kingdom\",\\\n",
    "               \"USSR\": \"Russia\", \"Hong Kong\": \"Hong Kong SAR\",\n",
    "             \"Democratic Republic of Congo (Zaire)\": 'Democratic Republic of the Congo',\n",
    "             \"Trinidad & Tobago\": \"Trinidad and Tobago\", 'Macedonia':'North Macedonia',\n",
    "             'Antigua & Barbuda': 'Antigua and Barbuda', \\\n",
    "              'Commonwealth of the Northern Mariana Islands':'Northern Mariana Islands',\n",
    "             'St. Vincent & the Grenadines': 'St. Vincent and the Grenadines', \\\n",
    "              #simplification\n",
    "             \"Azores Islands\": \"Portugal\"})"
   ]
  },
  {
   "cell_type": "code",
   "execution_count": 21,
   "id": "grave-greeting",
   "metadata": {
    "ExecuteTime": {
     "end_time": "2022-06-08T13:22:38.038318Z",
     "start_time": "2022-06-08T13:22:37.957882Z"
    }
   },
   "outputs": [],
   "source": [
    "# https://statisticstimes.com/geography/countries-by-continents.php\n",
    "df_taxonomy_country = pd.read_csv(\"country_hierarchies.csv\", header=None, index_col=0)\n",
    "\n",
    "df_taxonomy_country.columns=[\"Country or Area\",\"ISO-alpha3 Code\", \"M49 Code\", \"Region 1\", \"Region 2\", \"Continent\"]\n",
    "\n",
    "df_taxonomy_country[\"Country or Area\"] = df_taxonomy_country[\"Country or Area\"].replace({\n",
    "    \"Viet Nam\":\"Vietnam\", \"Bolivia (Plurinational State of)\": \"Bolivia\" ,\\\n",
    "      \"Russian Federation\": \"Russia\",'Iran (Islamic Republic of)': 'Iran', \\\n",
    "    \"Lao People's Democratic Republic\": \"Laos\", 'Syrian Arab Republic': \"Syria\", \n",
    "    'Venezuela (Bolivarian Republic of)': \"Venezuela\",\n",
    "    \"Republic of Moldova\": \"Moldova\", \"Czechia\": \"Czech Republic\",\n",
    "        'United Republic of Tanzania': \"Tanzania\", 'Côte d’Ivoire': \"Ivory Coast\",\n",
    "        'United States Virgin Islands': 'US Virgin Islands', 'Saint Lucia': 'St. Lucia', \n",
    "    'Saint Kitts and Nevis': 'St. Kitts-Nevis',\n",
    "    'Saint Vincent and the Grenadines': 'St. Vincent and the Grenadines',\n",
    "    \"United Kingdom of Great Britain and Northern Ireland\" : \"United Kingdom\",\\\n",
    "    \"China, Hong Kong Special Administrative Region\" : \"Hong Kong SAR\"\n",
    "})\n",
    "\n",
    "\n",
    "g_hierarchy = {}\n",
    "target_cols = [\"Country or Area\", \"Region 1\", \"Continent\"]\n",
    "for i, row in df_taxonomy_country.iterrows():\n",
    "    levels = [col for col in target_cols if pd.notnull(row[col])]\n",
    "    \n",
    "    for l in range(len(levels)-1):\n",
    "        tax_c, tax_p = row[levels[l]], row[levels[l+1]]\n",
    "        # If already exist but the value is different\n",
    "        if \"Korea\" in tax_c:\n",
    "            tax_c = \"Korea\"\n",
    "        \n",
    "        if tax_c in g_hierarchy and tax_p!=g_hierarchy[tax_c]:\n",
    "            print(row)\n",
    "            raise ValueError()\n",
    "        if tax_c == tax_p:\n",
    "            continue\n",
    "        g_hierarchy[tax_c] = tax_p\n",
    "attr = 'POBP'\n",
    "#g_hierarchy = {}\n",
    "g_hierarchy.update({\"North America\": \"America\", \n",
    " \"South America\": \"America\", \n",
    " \"Americas, Not Specified\" : \"America\", \n",
    "\"Other Europe, Not Specified\": \"Europe\",\n",
    "\"Eastern Africa, Not Specified\": \"Africa\",\n",
    "\"Other Asia, Not Specified\": \"Asia\",\n",
    "\"South Central Asia, Not Specified\": \"Asia\",\n",
    "\"Caribbean, Not Specified\": \"North America\",\n",
    "\"Other US Island Areas, Oceania, Not Specified, or at Sea\": \"Oceania\",\n",
    "\"Other Africa, Not Specified\": \"Africa\",\n",
    "\"Western Africa, Not Specified\": \"Africa\",\n",
    "                   \"Taiwan\" : 'Eastern Asia',\n",
    "                   'Czechoslovakia':'Eastern Europe', 'Yugoslavia':'Southern Europe'})\n"
   ]
  },
  {
   "cell_type": "code",
   "execution_count": 22,
   "id": "original-diary",
   "metadata": {
    "ExecuteTime": {
     "end_time": "2022-06-08T13:22:38.249067Z",
     "start_time": "2022-06-08T13:22:38.039860Z"
    },
    "scrolled": false
   },
   "outputs": [
    {
     "name": "stdout",
     "output_type": "stream",
     "text": [
      "Asia 54\n",
      "Europe 23\n",
      "Africa 18\n",
      "West Indies 2\n",
      "North America 0\n",
      "South America 4\n",
      "Micronesia 8\n",
      "109 0.00056\n"
     ]
    }
   ],
   "source": [
    "generalization_dict_tax_u = deepcopy(g_hierarchy)\n",
    "delete_values = []\n",
    "for c, v in df_analysis_proc[\"POBP\"].value_counts().items():\n",
    "    if c not in g_hierarchy.keys():\n",
    "        if \"/\" in c:\n",
    "            g_hierarchy[c] = \"United States of America\"\n",
    "        else:\n",
    "            delete_values.append(c)\n",
    "\n",
    "delete_values.append(\"North America\")\n",
    "delete_values.append(\"South America\")\n",
    "delete_values.append(\"Micronesia\")\n",
    "\n",
    "tot_deleted = 0\n",
    "for c in delete_values:\n",
    "    print(c, len(df_analysis_proc.loc[df_analysis_proc[\"POBP\"]==c]))\n",
    "    tot_deleted +=len(df_analysis_proc.loc[df_analysis_proc[\"POBP\"]==c])\n",
    "print(tot_deleted, round(tot_deleted/len(df_analysis_proc),5))"
   ]
  },
  {
   "cell_type": "markdown",
   "id": "approved-peninsula",
   "metadata": {
    "ExecuteTime": {
     "end_time": "2022-05-22T14:48:17.840751Z",
     "start_time": "2022-05-22T14:48:17.832450Z"
    }
   },
   "source": [
    "Delete rows for which the detailed information is not available"
   ]
  },
  {
   "cell_type": "code",
   "execution_count": 23,
   "id": "804d2083",
   "metadata": {
    "ExecuteTime": {
     "end_time": "2022-06-08T13:22:38.281291Z",
     "start_time": "2022-06-08T13:22:38.250548Z"
    }
   },
   "outputs": [],
   "source": [
    "df_analysis_proc = df_analysis_proc.loc[df_analysis_proc[\"POBP\"].isin(delete_values)==False]"
   ]
  },
  {
   "cell_type": "code",
   "execution_count": 24,
   "id": "b6e0891a",
   "metadata": {
    "ExecuteTime": {
     "end_time": "2022-06-08T13:22:38.322532Z",
     "start_time": "2022-06-08T13:22:38.307743Z"
    }
   },
   "outputs": [],
   "source": [
    "generalization_dict_tax[attr] = generalization_dict_tax_u"
   ]
  },
  {
   "cell_type": "markdown",
   "id": "fdc16218",
   "metadata": {},
   "source": [
    "# Tree divergence - income - individual"
   ]
  },
  {
   "cell_type": "markdown",
   "id": "bef91cf1",
   "metadata": {
    "ExecuteTime": {
     "end_time": "2022-01-14T16:09:38.440308Z",
     "start_time": "2022-01-14T16:09:38.415153Z"
    }
   },
   "source": [
    "## Tree"
   ]
  },
  {
   "cell_type": "code",
   "execution_count": 25,
   "id": "d3004959",
   "metadata": {
    "ExecuteTime": {
     "end_time": "2022-06-08T13:22:43.771108Z",
     "start_time": "2022-06-08T13:22:43.750747Z"
    }
   },
   "outputs": [],
   "source": [
    "metric = \"d_outcome\"\n",
    "target = \"income\""
   ]
  },
  {
   "cell_type": "code",
   "execution_count": 26,
   "id": "506b1417",
   "metadata": {},
   "outputs": [],
   "source": [
    "type_criterion=\"divergence_criterion\"\n",
    "type_experiment = \"one_at_time\"\n",
    "min_sup_divergence = 0.025"
   ]
  },
  {
   "cell_type": "code",
   "execution_count": 27,
   "id": "af241d30",
   "metadata": {},
   "outputs": [],
   "source": [
    "min_support_trees = [0.0025, 0.005, 0.01, 0.02, 0.025, 0.035, 0.05, 0.075, 0.1, 0.125, 0.15, 0.175, 0.2, 0.25, 0.3]"
   ]
  },
  {
   "cell_type": "code",
   "execution_count": 28,
   "id": "32db5661",
   "metadata": {
    "ExecuteTime": {
     "end_time": "2022-06-08T13:22:44.712665Z",
     "start_time": "2022-06-08T13:22:44.102915Z"
    },
    "scrolled": true
   },
   "outputs": [
    {
     "name": "stdout",
     "output_type": "stream",
     "text": [
      "0.0025 0.0025 0.005 0.005 0.01 0.01 0.02 0.02 0.025 0.025 0.035 0.035 0.05 0.05 0.075 0.075 0.1 0.1 0.125 0.125 0.15 0.15 0.175 0.175 0.2 0.2 0.25 0.25 0.3 0.3 "
     ]
    }
   ],
   "source": [
    "from tree_discretization_ranking import TreeDiscretization_ranking\n",
    "from divexplorer_generalized_ranking.FP_Divergence import FP_Divergence\n",
    "\n",
    "max_divergence_dict = {}\n",
    "\n",
    "\n",
    "for min_support_tree in min_support_trees:\n",
    "\n",
    "    out = {}\n",
    "    print(min_support_tree, end = \" \")\n",
    "    \n",
    "    tree_discr = TreeDiscretization_ranking()\n",
    "\n",
    "\n",
    "\n",
    "    generalization_dict, discretizations = tree_discr.get_tree_discretization(\n",
    "        df_analysis_proc,\n",
    "        type_splitting=type_experiment,\n",
    "        min_support=min_support_tree,\n",
    "        metric=metric,\n",
    "        continuous_attributes= list(continuous_attributes),\n",
    "        storeTree=True,\n",
    "        type_criterion = type_criterion,\n",
    "        minimal_gain = 0.0,\n",
    "        target_col = target\n",
    "    )\n",
    "\n",
    "    \n",
    "    generalization_dict_all = deepcopy(generalization_dict)\n",
    "    generalization_dict_all.update(generalization_dict_tax)\n",
    "    \n",
    "    from utils_extract_divergence_generalized_ranking import (\n",
    "        extract_divergence_generalized,\n",
    "    )\n",
    "\n",
    "    for apply_generalization in [False, True]:\n",
    "        if apply_generalization == True:\n",
    "            pattern_type = \"generalized\"\n",
    "        else:\n",
    "            pattern_type = \"base\"\n",
    "\n",
    "        if pattern_type in out:\n",
    "            continue\n",
    "            \n",
    "        FP_fm = extract_divergence_generalized(\n",
    "            df_analysis_proc,\n",
    "            discretizations,\n",
    "            generalization_dict_all,\n",
    "            continuous_attributes,\n",
    "            min_sup_divergence=min_sup_divergence,\n",
    "            apply_generalization=apply_generalization,\n",
    "            target_name = target,\n",
    "            FPM_type=\"fpgrowth\",\n",
    "            metrics_divergence = [\"d_outcome\"],\n",
    "            type_experiment = type_experiment,\n",
    "            allow_overalp = False if type_experiment!=\"all_attributes\" else True\n",
    "        )\n",
    "\n",
    "        out[pattern_type] = max(FP_fm[metric])\n",
    "    max_divergence_dict[min_support_tree] = out"
   ]
  },
  {
   "cell_type": "code",
   "execution_count": 31,
   "id": "2f47bb6a",
   "metadata": {},
   "outputs": [
    {
     "data": {
      "text/plain": [
       "{0.0025: {'base': 105256.74307427197, 'generalized': 119340.2092811625},\n",
       " 0.005: {'base': 105256.74307427197, 'generalized': 119340.2092811625},\n",
       " 0.01: {'base': 105256.74307427197, 'generalized': 119340.2092811625},\n",
       " 0.02: {'base': 105256.74307427197, 'generalized': 119340.2092811625},\n",
       " 0.025: {'base': 105256.74307427197, 'generalized': 119340.2092811625},\n",
       " 0.035: {'base': 105256.74307427197, 'generalized': 119340.2092811625},\n",
       " 0.05: {'base': 105256.74307427197, 'generalized': 119340.2092811625},\n",
       " 0.075: {'base': 105256.74307427197, 'generalized': 119340.2092811625},\n",
       " 0.1: {'base': 105256.74307427197, 'generalized': 119340.2092811625},\n",
       " 0.125: {'base': 105256.74307427197, 'generalized': 119340.2092811625},\n",
       " 0.15: {'base': 105256.74307427197, 'generalized': 119340.2092811625},\n",
       " 0.175: {'base': 105256.74307427197, 'generalized': 119340.2092811625},\n",
       " 0.2: {'base': 105256.74307427197, 'generalized': 119340.2092811625},\n",
       " 0.25: {'base': 105256.74307427197, 'generalized': 115751.94926969381},\n",
       " 0.3: {'base': 105256.74307427197, 'generalized': 115751.94926969381}}"
      ]
     },
     "execution_count": 31,
     "metadata": {},
     "output_type": "execute_result"
    }
   ],
   "source": [
    "max_divergence_dict"
   ]
  },
  {
   "cell_type": "markdown",
   "id": "75480a14",
   "metadata": {},
   "source": [
    "# Plot"
   ]
  },
  {
   "cell_type": "code",
   "execution_count": 33,
   "id": "118afddb",
   "metadata": {},
   "outputs": [
    {
     "data": {
      "image/png": "[encoded data removed]",
      "text/plain": [
       "<Figure size 288x252 with 1 Axes>"
      ]
     },
     "metadata": {
      "needs_background": "light"
     },
     "output_type": "display_data"
    }
   ],
   "source": [
    "show_sup = [0.005, 0.01, 0.02, 0.025, 0.035, 0.05, 0.075, 0.1, 0.125, 0.15, 0.175, 0.2]\n",
    "\n",
    "\n",
    "\n",
    "from pathlib import Path\n",
    "outfig_dir = \"0_output_figures\"\n",
    "Path(outfig_dir).mkdir(parents=True, exist_ok=True)\n",
    "\n",
    "import matplotlib.pyplot as plt\n",
    "\n",
    "\n",
    "\n",
    "metric_name = \"Δ_fpr\"\n",
    "\n",
    "\n",
    "vs = {}\n",
    "\n",
    "\n",
    "fig, ax = plt.subplots(figsize = (4,3.5))\n",
    "\n",
    "base = { min_support_tree: max_divergence_dict[min_support_tree][\"base\"] for min_support_tree in max_divergence_dict if min_support_tree in show_sup}\n",
    "gen =  { min_support_tree: max_divergence_dict[min_support_tree][\"generalized\"] for min_support_tree in max_divergence_dict if min_support_tree in show_sup}\n",
    "\n",
    "base = dict(sorted(base.items(), key=lambda item: item[0]))\n",
    "gen = dict(sorted(gen.items(), key=lambda item: item[0]))\n",
    "ax.set_title(r\"Highest Δ$_{income}$\")\n",
    "\n",
    "\n",
    "ax.plot(list(base.keys()), list(base.values()), label = \"base\", marker = \"o\")\n",
    "ax.plot(list(gen.keys()), list(gen.values()), label = \"generalized\", marker = \"o\")\n",
    "\n",
    "ax.set_ylabel(r\"max Δ$_{income}$\")\n",
    "ax.set_xlabel(r\"Minimum support $s_{tree}$\")\n",
    "for item in ([ax.title, ax.xaxis.label, ax.yaxis.label] ): #ax.get_xticklabels()\n",
    "        item.set_fontsize(14)\n",
    "\n",
    "for item in ax.get_xticklabels() + ax.get_yticklabels():\n",
    "     item.set_fontsize(12)\n",
    "        \n",
    "plt.legend( fontsize = 13, handletextpad=0.2)\n",
    "\n",
    "\n",
    "\n",
    "plt.tight_layout();\n",
    "plt.savefig(f\"{outfig_dir}/adult_sensitivity_s_{min_sup_divergence}.pdf\");"
   ]
  }
 ],
 "metadata": {
  "hide_input": false,
  "kernelspec": {
   "display_name": "Python 3.8.8 ('base')",
   "language": "python",
   "name": "python3"
  },
  "language_info": {
   "codemirror_mode": {
    "name": "ipython",
    "version": 3
   },
   "file_extension": ".py",
   "mimetype": "text/x-python",
   "name": "python",
   "nbconvert_exporter": "python",
   "pygments_lexer": "ipython3",
   "version": "3.8.8"
  },
  "toc": {
   "base_numbering": 1,
   "nav_menu": {},
   "number_sections": true,
   "sideBar": true,
   "skip_h1_title": false,
   "title_cell": "Table of Contents",
   "title_sidebar": "Contents",
   "toc_cell": false,
   "toc_position": {
    "height": "calc(100% - 180px)",
    "left": "10px",
    "top": "150px",
    "width": "341.953px"
   },
   "toc_section_display": true,
   "toc_window_display": true
  },
  "varInspector": {
   "cols": {
    "lenName": 16,
    "lenType": 16,
    "lenVar": 40
   },
   "kernels_config": {
    "python": {
     "delete_cmd_postfix": "",
     "delete_cmd_prefix": "del ",
     "library": "var_list.py",
     "varRefreshCmd": "print(var_dic_list())"
    },
    "r": {
     "delete_cmd_postfix": ") ",
     "delete_cmd_prefix": "rm(",
     "library": "var_list.r",
     "varRefreshCmd": "cat(var_dic_list()) "
    }
   },
   "types_to_exclude": [
    "module",
    "function",
    "builtin_function_or_method",
    "instance",
    "_Feature"
   ],
   "window_display": false
  },
  "vscode": {
   "interpreter": {
    "hash": "07df9bc2b24d98062a84ddbd1ffd60fbcc72456b438b7897cd79ef4167382f91"
   }
  }
 },
 "nbformat": 4,
 "nbformat_minor": 5
}
