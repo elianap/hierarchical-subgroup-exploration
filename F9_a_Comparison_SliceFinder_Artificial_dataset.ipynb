{
 "cells": [
  {
   "cell_type": "code",
   "execution_count": 1,
   "metadata": {
    "ExecuteTime": {
     "end_time": "2020-09-22T16:00:58.582960Z",
     "start_time": "2020-09-22T16:00:58.254395Z"
    }
   },
   "outputs": [],
   "source": [
    "from import_datasets import *\n",
    "from utils_c import *"
   ]
  },
  {
   "cell_type": "code",
   "execution_count": 2,
   "metadata": {
    "ExecuteTime": {
     "end_time": "2020-09-22T16:00:58.588507Z",
     "start_time": "2020-09-22T16:00:58.584445Z"
    }
   },
   "outputs": [],
   "source": [
    "def getRecommendationsDf(recommendations):\n",
    "    recom_df=[]\n",
    "    for s in recommendations:\n",
    "        itemset=[]\n",
    "        for k, v in list(s.filters.items()):\n",
    "            values = ''\n",
    "            if k in encoders:\n",
    "                le = encoders[k]\n",
    "                for v_ in v:\n",
    "                    values += '%s'%(le.inverse_transform(v_)[0])\n",
    "            else:\n",
    "                for v_ in v:\n",
    "                    values += '%s'%(v_[0])\n",
    "            itemset.append(f\"{k}={values}\")\n",
    "\n",
    "        recom_df.append([frozenset(itemset), s.effect_size, s.metric, s.size])\n",
    "    recom_df=pd.DataFrame(recom_df, columns=[\"itemset\", \"effect_size\", \"metric\", \"size\"])\n",
    "    return recom_df"
   ]
  },
  {
   "cell_type": "markdown",
   "metadata": {},
   "source": [
    "# Dataset"
   ]
  },
  {
   "cell_type": "code",
   "execution_count": 3,
   "metadata": {
    "ExecuteTime": {
     "end_time": "2020-09-22T16:00:59.509646Z",
     "start_time": "2020-09-22T16:00:58.590538Z"
    }
   },
   "outputs": [
    {
     "name": "stdout",
     "output_type": "stream",
     "text": [
      "X\n"
     ]
    },
    {
     "data": {
      "text/html": [
       "<div>\n",
       "<style scoped>\n",
       "    .dataframe tbody tr th:only-of-type {\n",
       "        vertical-align: middle;\n",
       "    }\n",
       "\n",
       "    .dataframe tbody tr th {\n",
       "        vertical-align: top;\n",
       "    }\n",
       "\n",
       "    .dataframe thead th {\n",
       "        text-align: right;\n",
       "    }\n",
       "</style>\n",
       "<table border=\"1\" class=\"dataframe\">\n",
       "  <thead>\n",
       "    <tr style=\"text-align: right;\">\n",
       "      <th></th>\n",
       "      <th>a</th>\n",
       "      <th>b</th>\n",
       "      <th>c</th>\n",
       "      <th>d</th>\n",
       "      <th>e</th>\n",
       "      <th>f</th>\n",
       "      <th>g</th>\n",
       "      <th>h</th>\n",
       "      <th>i</th>\n",
       "      <th>j</th>\n",
       "    </tr>\n",
       "  </thead>\n",
       "  <tbody>\n",
       "    <tr>\n",
       "      <th>0</th>\n",
       "      <td>1</td>\n",
       "      <td>1</td>\n",
       "      <td>1</td>\n",
       "      <td>1</td>\n",
       "      <td>1</td>\n",
       "      <td>1</td>\n",
       "      <td>0</td>\n",
       "      <td>1</td>\n",
       "      <td>1</td>\n",
       "      <td>0</td>\n",
       "    </tr>\n",
       "    <tr>\n",
       "      <th>1</th>\n",
       "      <td>1</td>\n",
       "      <td>1</td>\n",
       "      <td>0</td>\n",
       "      <td>1</td>\n",
       "      <td>1</td>\n",
       "      <td>0</td>\n",
       "      <td>0</td>\n",
       "      <td>1</td>\n",
       "      <td>0</td>\n",
       "      <td>1</td>\n",
       "    </tr>\n",
       "    <tr>\n",
       "      <th>2</th>\n",
       "      <td>1</td>\n",
       "      <td>1</td>\n",
       "      <td>0</td>\n",
       "      <td>1</td>\n",
       "      <td>0</td>\n",
       "      <td>0</td>\n",
       "      <td>1</td>\n",
       "      <td>0</td>\n",
       "      <td>1</td>\n",
       "      <td>1</td>\n",
       "    </tr>\n",
       "    <tr>\n",
       "      <th>3</th>\n",
       "      <td>0</td>\n",
       "      <td>1</td>\n",
       "      <td>0</td>\n",
       "      <td>1</td>\n",
       "      <td>0</td>\n",
       "      <td>1</td>\n",
       "      <td>1</td>\n",
       "      <td>1</td>\n",
       "      <td>1</td>\n",
       "      <td>0</td>\n",
       "    </tr>\n",
       "    <tr>\n",
       "      <th>4</th>\n",
       "      <td>0</td>\n",
       "      <td>0</td>\n",
       "      <td>1</td>\n",
       "      <td>1</td>\n",
       "      <td>0</td>\n",
       "      <td>1</td>\n",
       "      <td>1</td>\n",
       "      <td>0</td>\n",
       "      <td>0</td>\n",
       "      <td>1</td>\n",
       "    </tr>\n",
       "  </tbody>\n",
       "</table>\n",
       "</div>"
      ],
      "text/plain": [
       "   a  b  c  d  e  f  g  h  i  j\n",
       "0  1  1  1  1  1  1  0  1  1  0\n",
       "1  1  1  0  1  1  0  0  1  0  1\n",
       "2  1  1  0  1  0  0  1  0  1  1\n",
       "3  0  1  0  1  0  1  1  1  1  0\n",
       "4  0  0  1  1  0  1  1  0  0  1"
      ]
     },
     "metadata": {},
     "output_type": "display_data"
    },
    {
     "name": "stdout",
     "output_type": "stream",
     "text": [
      "y\n"
     ]
    },
    {
     "data": {
      "text/html": [
       "<div>\n",
       "<style scoped>\n",
       "    .dataframe tbody tr th:only-of-type {\n",
       "        vertical-align: middle;\n",
       "    }\n",
       "\n",
       "    .dataframe tbody tr th {\n",
       "        vertical-align: top;\n",
       "    }\n",
       "\n",
       "    .dataframe thead th {\n",
       "        text-align: right;\n",
       "    }\n",
       "</style>\n",
       "<table border=\"1\" class=\"dataframe\">\n",
       "  <thead>\n",
       "    <tr style=\"text-align: right;\">\n",
       "      <th></th>\n",
       "      <th>class</th>\n",
       "    </tr>\n",
       "  </thead>\n",
       "  <tbody>\n",
       "    <tr>\n",
       "      <th>0</th>\n",
       "      <td>1</td>\n",
       "    </tr>\n",
       "    <tr>\n",
       "      <th>1</th>\n",
       "      <td>0</td>\n",
       "    </tr>\n",
       "    <tr>\n",
       "      <th>2</th>\n",
       "      <td>0</td>\n",
       "    </tr>\n",
       "    <tr>\n",
       "      <th>3</th>\n",
       "      <td>0</td>\n",
       "    </tr>\n",
       "    <tr>\n",
       "      <th>4</th>\n",
       "      <td>0</td>\n",
       "    </tr>\n",
       "  </tbody>\n",
       "</table>\n",
       "</div>"
      ],
      "text/plain": [
       "   class\n",
       "0      1\n",
       "1      0\n",
       "2      0\n",
       "3      0\n",
       "4      0"
      ]
     },
     "metadata": {},
     "output_type": "display_data"
    },
    {
     "name": "stdout",
     "output_type": "stream",
     "text": [
      "X_one_hot_FP\n"
     ]
    },
    {
     "data": {
      "text/html": [
       "<div>\n",
       "<style scoped>\n",
       "    .dataframe tbody tr th:only-of-type {\n",
       "        vertical-align: middle;\n",
       "    }\n",
       "\n",
       "    .dataframe tbody tr th {\n",
       "        vertical-align: top;\n",
       "    }\n",
       "\n",
       "    .dataframe thead th {\n",
       "        text-align: right;\n",
       "    }\n",
       "</style>\n",
       "<table border=\"1\" class=\"dataframe\">\n",
       "  <thead>\n",
       "    <tr style=\"text-align: right;\">\n",
       "      <th></th>\n",
       "      <th>a=0</th>\n",
       "      <th>a=1</th>\n",
       "      <th>b=0</th>\n",
       "      <th>b=1</th>\n",
       "      <th>c=0</th>\n",
       "      <th>c=1</th>\n",
       "      <th>d=0</th>\n",
       "      <th>d=1</th>\n",
       "      <th>e=0</th>\n",
       "      <th>e=1</th>\n",
       "      <th>f=0</th>\n",
       "      <th>f=1</th>\n",
       "      <th>g=0</th>\n",
       "      <th>g=1</th>\n",
       "      <th>h=0</th>\n",
       "      <th>h=1</th>\n",
       "      <th>i=0</th>\n",
       "      <th>i=1</th>\n",
       "      <th>j=0</th>\n",
       "      <th>j=1</th>\n",
       "    </tr>\n",
       "  </thead>\n",
       "  <tbody>\n",
       "    <tr>\n",
       "      <th>0</th>\n",
       "      <td>0</td>\n",
       "      <td>1</td>\n",
       "      <td>0</td>\n",
       "      <td>1</td>\n",
       "      <td>0</td>\n",
       "      <td>1</td>\n",
       "      <td>0</td>\n",
       "      <td>1</td>\n",
       "      <td>0</td>\n",
       "      <td>1</td>\n",
       "      <td>0</td>\n",
       "      <td>1</td>\n",
       "      <td>1</td>\n",
       "      <td>0</td>\n",
       "      <td>0</td>\n",
       "      <td>1</td>\n",
       "      <td>0</td>\n",
       "      <td>1</td>\n",
       "      <td>1</td>\n",
       "      <td>0</td>\n",
       "    </tr>\n",
       "    <tr>\n",
       "      <th>1</th>\n",
       "      <td>0</td>\n",
       "      <td>1</td>\n",
       "      <td>0</td>\n",
       "      <td>1</td>\n",
       "      <td>1</td>\n",
       "      <td>0</td>\n",
       "      <td>0</td>\n",
       "      <td>1</td>\n",
       "      <td>0</td>\n",
       "      <td>1</td>\n",
       "      <td>1</td>\n",
       "      <td>0</td>\n",
       "      <td>1</td>\n",
       "      <td>0</td>\n",
       "      <td>0</td>\n",
       "      <td>1</td>\n",
       "      <td>1</td>\n",
       "      <td>0</td>\n",
       "      <td>0</td>\n",
       "      <td>1</td>\n",
       "    </tr>\n",
       "    <tr>\n",
       "      <th>2</th>\n",
       "      <td>0</td>\n",
       "      <td>1</td>\n",
       "      <td>0</td>\n",
       "      <td>1</td>\n",
       "      <td>1</td>\n",
       "      <td>0</td>\n",
       "      <td>0</td>\n",
       "      <td>1</td>\n",
       "      <td>1</td>\n",
       "      <td>0</td>\n",
       "      <td>1</td>\n",
       "      <td>0</td>\n",
       "      <td>0</td>\n",
       "      <td>1</td>\n",
       "      <td>1</td>\n",
       "      <td>0</td>\n",
       "      <td>0</td>\n",
       "      <td>1</td>\n",
       "      <td>0</td>\n",
       "      <td>1</td>\n",
       "    </tr>\n",
       "    <tr>\n",
       "      <th>3</th>\n",
       "      <td>1</td>\n",
       "      <td>0</td>\n",
       "      <td>0</td>\n",
       "      <td>1</td>\n",
       "      <td>1</td>\n",
       "      <td>0</td>\n",
       "      <td>0</td>\n",
       "      <td>1</td>\n",
       "      <td>1</td>\n",
       "      <td>0</td>\n",
       "      <td>0</td>\n",
       "      <td>1</td>\n",
       "      <td>0</td>\n",
       "      <td>1</td>\n",
       "      <td>0</td>\n",
       "      <td>1</td>\n",
       "      <td>0</td>\n",
       "      <td>1</td>\n",
       "      <td>1</td>\n",
       "      <td>0</td>\n",
       "    </tr>\n",
       "    <tr>\n",
       "      <th>4</th>\n",
       "      <td>1</td>\n",
       "      <td>0</td>\n",
       "      <td>1</td>\n",
       "      <td>0</td>\n",
       "      <td>0</td>\n",
       "      <td>1</td>\n",
       "      <td>0</td>\n",
       "      <td>1</td>\n",
       "      <td>1</td>\n",
       "      <td>0</td>\n",
       "      <td>0</td>\n",
       "      <td>1</td>\n",
       "      <td>0</td>\n",
       "      <td>1</td>\n",
       "      <td>1</td>\n",
       "      <td>0</td>\n",
       "      <td>1</td>\n",
       "      <td>0</td>\n",
       "      <td>0</td>\n",
       "      <td>1</td>\n",
       "    </tr>\n",
       "  </tbody>\n",
       "</table>\n",
       "</div>"
      ],
      "text/plain": [
       "   a=0  a=1  b=0  b=1  c=0  c=1  d=0  d=1  e=0  e=1  f=0  f=1  g=0  g=1  h=0  \\\n",
       "0    0    1    0    1    0    1    0    1    0    1    0    1    1    0    0   \n",
       "1    0    1    0    1    1    0    0    1    0    1    1    0    1    0    0   \n",
       "2    0    1    0    1    1    0    0    1    1    0    1    0    0    1    1   \n",
       "3    1    0    0    1    1    0    0    1    1    0    0    1    0    1    0   \n",
       "4    1    0    1    0    0    1    0    1    1    0    0    1    0    1    1   \n",
       "\n",
       "   h=1  i=0  i=1  j=0  j=1  \n",
       "0    1    0    1    1    0  \n",
       "1    1    1    0    0    1  \n",
       "2    0    0    1    0    1  \n",
       "3    1    0    1    1    0  \n",
       "4    0    1    0    0    1  "
      ]
     },
     "metadata": {},
     "output_type": "display_data"
    }
   ],
   "source": [
    "import numpy as np\n",
    "import pandas as pd\n",
    "dataset_name=\"artificial_10\"\n",
    "features_3=[\"a\", \"b\", \"c\", \"d\", \"e\", \"f\", \"g\", \"h\", \"i\", \"j\"]\n",
    "\n",
    "data=np.concatenate([np.full((25000, 10), 0), np.full((25000, 10), 1)])\n",
    "np.random.seed(7)\n",
    "for i in range(data.shape[1]):\n",
    "    np.random.shuffle(data[:,i])\n",
    "df_artificial_3=pd.DataFrame(data=data, columns=features_3)\n",
    "df_artificial_3[\"class\"]=0\n",
    "indexes=df_artificial_3.loc[((df_artificial_3[\"a\"]==df_artificial_3[\"b\"])& (df_artificial_3[\"a\"]==df_artificial_3[\"c\"]))].index\n",
    "df_artificial_3.loc[indexes, \"class\"]=1\n",
    "df_artificial_3[\"class\"].value_counts()\n",
    "\n",
    "\n",
    "\n",
    "type_cl=\"RF\"\n",
    "labelEncoding=True\n",
    "X_FP, y_FP, y_predicted, y_predict_prob, encoders, indexes_FP, clf_3=train_predict(df_artificial_3, type_cl=type_cl, labelEncoding=labelEncoding, validation=\"all\", retClf=True)\n",
    "attributes=df_artificial_3.columns.drop(\"class\")\n",
    "#X_discretized=discretize(df_artificial_3, attributes=attributes, indexes_FP=indexes_FP)\n",
    "X_one_hot_FP=oneHotEncoding(X_FP)\n",
    "\n",
    "print(\"X\")\n",
    "display(X_FP.head())\n",
    "print(\"y\")\n",
    "display(y_FP.head())\n",
    "print(\"X_one_hot_FP\")\n",
    "display(X_one_hot_FP.head())\n",
    "\n",
    "### Alteration\n",
    "\n",
    "df_artif_altered_3=X_FP.copy()\n",
    "df_artif_altered_3[\"class\"]=y_FP[\"class\"].copy()\n",
    "\n",
    "\n",
    "indexes1=list(df_artif_altered_3.loc[\\\n",
    "    (df_artif_altered_3[\"a\"]==df_artif_altered_3[\"b\"]) &\\\n",
    "    (df_artif_altered_3[\"a\"]==df_artif_altered_3[\"c\"])].index)\n",
    "import random\n",
    "random.seed(7) \n",
    "random.shuffle(indexes1)\n",
    "indexes=list(indexes1)[0:int(len(indexes1)/2)]\n",
    "df_artif_altered_3.loc[indexes, \"class\"]=0\n",
    "\n",
    "attributes_3=features_3\n",
    "attributes_artif_one_hot_3=X_one_hot_FP.columns\n",
    "if labelEncoding:\n",
    "    X_altered_3=df_artif_altered_3[attributes_3]\n",
    "    y_altered_3=df_artif_altered_3[[\"class\"]]\n",
    "    X_altered_one_hot_encoding_3=pd.get_dummies(df_artif_altered_3, prefix_sep=\"=\", columns=attributes_3)[attributes_artif_one_hot_3]\n",
    "else:\n",
    "    X_altered_3=pd.get_dummies(df_artif_altered_3, prefix_sep=\"=\", columns=attributes_3)[attributes_artif_one_hot_3]\n",
    "    y_altered_3=df_artif_altered_3[[\"class\"]]\n",
    "\n",
    "y_altered_predicted_3=clf_3.predict(X_altered_3)\n",
    "y_altered_predicted_prob_3=clf_3.predict_proba(X_altered_3)"
   ]
  },
  {
   "cell_type": "code",
   "execution_count": 4,
   "metadata": {
    "ExecuteTime": {
     "end_time": "2020-09-22T16:00:59.515508Z",
     "start_time": "2020-09-22T16:00:59.510988Z"
    }
   },
   "outputs": [],
   "source": [
    "y_FP=y_altered_3\n",
    "y_predict_prob=y_altered_predicted_prob_3\n",
    "y_predicted=y_altered_predicted_3"
   ]
  },
  {
   "cell_type": "code",
   "execution_count": 5,
   "metadata": {
    "ExecuteTime": {
     "end_time": "2020-09-22T16:00:59.543895Z",
     "start_time": "2020-09-22T16:00:59.518792Z"
    }
   },
   "outputs": [
    {
     "name": "stdout",
     "output_type": "stream",
     "text": [
      "True Class:  Counter({0: 43694, 1: 6306})\n",
      "Predicted class: Counter({0: 37388, 1: 12612})\n",
      "Accuracy:  0.8739\n"
     ]
    }
   ],
   "source": [
    "from collections import Counter\n",
    "print(\"True Class: \", Counter(y_FP[\"class\"]))\n",
    "print(\"Predicted class:\", Counter(y_predicted))\n",
    "\n",
    "from sklearn.metrics import accuracy_score\n",
    "print(\"Accuracy: \", round(accuracy_score(y_FP, y_predicted),4))"
   ]
  },
  {
   "cell_type": "code",
   "execution_count": 6,
   "metadata": {
    "ExecuteTime": {
     "end_time": "2020-09-22T16:00:59.548533Z",
     "start_time": "2020-09-22T16:00:59.545575Z"
    }
   },
   "outputs": [],
   "source": [
    "from statistics import mean\n",
    "import time\n",
    "n_times=10\n",
    "times_sf={}"
   ]
  },
  {
   "cell_type": "markdown",
   "metadata": {
    "ExecuteTime": {
     "end_time": "2020-09-20T09:06:22.220312Z",
     "start_time": "2020-09-20T09:06:22.217872Z"
    }
   },
   "source": [
    "# DivExplorer"
   ]
  },
  {
   "cell_type": "code",
   "execution_count": 7,
   "metadata": {
    "ExecuteTime": {
     "end_time": "2020-09-22T16:00:59.560473Z",
     "start_time": "2020-09-22T16:00:59.550467Z"
    }
   },
   "outputs": [],
   "source": [
    "from utils_c import *\n",
    "from utils_metrics_FPx import *\n",
    "from FP_DivergenceExplorer import *\n",
    "from item_score_FP import *\n",
    "ITEMSETS=[\"support\", \"itemsets\", \"tn\", \"tp\", \"fn\", \"fp\"]\n",
    "DIVERGENCE_METRICS=[\"d_fpr\", \"d_fnr\", \"d_accuracy\"] \n",
    "CLASSIFICATION_METRICS=[\"fpr\", \"fnr\", \"accuracy\"]\n",
    "T_VALUES=[\"t_value_fp\", \"t_value_fn\", \"t_value_tp_tn\"]\n",
    "INFOS=ITEMSETS+CLASSIFICATION_METRICS+DIVERGENCE_METRICS+T_VALUES\n",
    "pd.set_option('display.max_colwidth', -1)"
   ]
  },
  {
   "cell_type": "code",
   "execution_count": 8,
   "metadata": {
    "ExecuteTime": {
     "end_time": "2020-09-22T16:00:59.564424Z",
     "start_time": "2020-09-22T16:00:59.562020Z"
    }
   },
   "outputs": [],
   "source": [
    "class_map={\"N\":0, \"P\":1}\n",
    "abbreviations={}"
   ]
  },
  {
   "cell_type": "code",
   "execution_count": 9,
   "metadata": {
    "ExecuteTime": {
     "end_time": "2020-09-22T16:01:38.219454Z",
     "start_time": "2020-09-22T16:00:59.566962Z"
    }
   },
   "outputs": [
    {
     "name": "stdout",
     "output_type": "stream",
     "text": [
      "3.871400833129883\n",
      "3.8569350242614746\n",
      "3.7646257877349854\n",
      "3.9374942779541016\n",
      "3.7764055728912354\n",
      "3.78828501701355\n",
      "3.933051109313965\n",
      "3.957368850708008\n",
      "3.8474748134613037\n",
      "3.912914276123047\n"
     ]
    }
   ],
   "source": [
    "min_sup=0.01\n",
    "times_de={}\n",
    "for i in range(0, n_times):\n",
    "    s=time.time()\n",
    "    fp_div=FP_DivergenceExplorer(X_one_hot_FP,y_FP,y_predicted, dataset_name=dataset_name)\n",
    "    FP_fm=fp_div.getFrequentPatternDivergence(min_support=min_sup, class_map=class_map)\n",
    "    FP_fm=fp_div.t_test_FP(min_sup)\n",
    "    times_de[i]=time.time()-s\n",
    "    print(time.time()-s)"
   ]
  },
  {
   "cell_type": "code",
   "execution_count": 37,
   "metadata": {
    "ExecuteTime": {
     "end_time": "2020-09-22T21:44:56.812144Z",
     "start_time": "2020-09-22T21:44:56.496848Z"
    }
   },
   "outputs": [
    {
     "data": {
      "text/html": [
       "<div>\n",
       "<style scoped>\n",
       "    .dataframe tbody tr th:only-of-type {\n",
       "        vertical-align: middle;\n",
       "    }\n",
       "\n",
       "    .dataframe tbody tr th {\n",
       "        vertical-align: top;\n",
       "    }\n",
       "\n",
       "    .dataframe thead th {\n",
       "        text-align: right;\n",
       "    }\n",
       "</style>\n",
       "<table border=\"1\" class=\"dataframe\">\n",
       "  <thead>\n",
       "    <tr style=\"text-align: right;\">\n",
       "      <th></th>\n",
       "      <th>support</th>\n",
       "      <th>itemsets</th>\n",
       "      <th>tn</th>\n",
       "      <th>tp</th>\n",
       "      <th>fn</th>\n",
       "      <th>fp</th>\n",
       "      <th>fpr</th>\n",
       "      <th>fnr</th>\n",
       "      <th>accuracy</th>\n",
       "      <th>d_fpr</th>\n",
       "      <th>d_fnr</th>\n",
       "      <th>d_accuracy</th>\n",
       "      <th>t_value_fp</th>\n",
       "      <th>t_value_fn</th>\n",
       "      <th>t_value_tp_tn</th>\n",
       "    </tr>\n",
       "  </thead>\n",
       "  <tbody>\n",
       "    <tr>\n",
       "      <th>241</th>\n",
       "      <td>0.12688</td>\n",
       "      <td>(b=1, c=1, a=1)</td>\n",
       "      <td>0</td>\n",
       "      <td>3187</td>\n",
       "      <td>0</td>\n",
       "      <td>3157</td>\n",
       "      <td>1.0</td>\n",
       "      <td>0.0</td>\n",
       "      <td>0.502364</td>\n",
       "      <td>0.855678</td>\n",
       "      <td>0.0</td>\n",
       "      <td>-0.371516</td>\n",
       "      <td>499.994074</td>\n",
       "      <td>0.441392</td>\n",
       "      <td>57.604258</td>\n",
       "    </tr>\n",
       "    <tr>\n",
       "      <th>556</th>\n",
       "      <td>0.12536</td>\n",
       "      <td>(c=0, b=0, a=0)</td>\n",
       "      <td>0</td>\n",
       "      <td>3119</td>\n",
       "      <td>0</td>\n",
       "      <td>3149</td>\n",
       "      <td>1.0</td>\n",
       "      <td>0.0</td>\n",
       "      <td>0.497607</td>\n",
       "      <td>0.855678</td>\n",
       "      <td>0.0</td>\n",
       "      <td>-0.376273</td>\n",
       "      <td>499.950129</td>\n",
       "      <td>0.452967</td>\n",
       "      <td>58.009797</td>\n",
       "    </tr>\n",
       "    <tr>\n",
       "      <th>1236</th>\n",
       "      <td>0.06438</td>\n",
       "      <td>(b=1, c=1, a=1, h=0)</td>\n",
       "      <td>0</td>\n",
       "      <td>1605</td>\n",
       "      <td>0</td>\n",
       "      <td>1614</td>\n",
       "      <td>1.0</td>\n",
       "      <td>0.0</td>\n",
       "      <td>0.498602</td>\n",
       "      <td>0.855678</td>\n",
       "      <td>0.0</td>\n",
       "      <td>-0.375278</td>\n",
       "      <td>477.324592</td>\n",
       "      <td>0.722607</td>\n",
       "      <td>42.009357</td>\n",
       "    </tr>\n",
       "    <tr>\n",
       "      <th>1273</th>\n",
       "      <td>0.06418</td>\n",
       "      <td>(b=1, c=1, a=1, j=0)</td>\n",
       "      <td>0</td>\n",
       "      <td>1639</td>\n",
       "      <td>0</td>\n",
       "      <td>1570</td>\n",
       "      <td>1.0</td>\n",
       "      <td>0.0</td>\n",
       "      <td>0.510751</td>\n",
       "      <td>0.855678</td>\n",
       "      <td>0.0</td>\n",
       "      <td>-0.363129</td>\n",
       "      <td>475.709473</td>\n",
       "      <td>0.716438</td>\n",
       "      <td>40.597738</td>\n",
       "    </tr>\n",
       "    <tr>\n",
       "      <th>1281</th>\n",
       "      <td>0.06418</td>\n",
       "      <td>(b=1, c=1, a=1, g=0)</td>\n",
       "      <td>0</td>\n",
       "      <td>1586</td>\n",
       "      <td>0</td>\n",
       "      <td>1623</td>\n",
       "      <td>1.0</td>\n",
       "      <td>0.0</td>\n",
       "      <td>0.494235</td>\n",
       "      <td>0.855678</td>\n",
       "      <td>0.0</td>\n",
       "      <td>-0.379645</td>\n",
       "      <td>477.640841</td>\n",
       "      <td>0.726053</td>\n",
       "      <td>42.436330</td>\n",
       "    </tr>\n",
       "  </tbody>\n",
       "</table>\n",
       "</div>"
      ],
      "text/plain": [
       "      support              itemsets  tn    tp  fn    fp  fpr  fnr  accuracy  \\\n",
       "241   0.12688  (b=1, c=1, a=1)       0   3187  0   3157  1.0  0.0  0.502364   \n",
       "556   0.12536  (c=0, b=0, a=0)       0   3119  0   3149  1.0  0.0  0.497607   \n",
       "1236  0.06438  (b=1, c=1, a=1, h=0)  0   1605  0   1614  1.0  0.0  0.498602   \n",
       "1273  0.06418  (b=1, c=1, a=1, j=0)  0   1639  0   1570  1.0  0.0  0.510751   \n",
       "1281  0.06418  (b=1, c=1, a=1, g=0)  0   1586  0   1623  1.0  0.0  0.494235   \n",
       "\n",
       "         d_fpr  d_fnr  d_accuracy  t_value_fp  t_value_fn  t_value_tp_tn  \n",
       "241   0.855678  0.0   -0.371516    499.994074  0.441392    57.604258      \n",
       "556   0.855678  0.0   -0.376273    499.950129  0.452967    58.009797      \n",
       "1236  0.855678  0.0   -0.375278    477.324592  0.722607    42.009357      \n",
       "1273  0.855678  0.0   -0.363129    475.709473  0.716438    40.597738      \n",
       "1281  0.855678  0.0   -0.379645    477.640841  0.726053    42.436330      "
      ]
     },
     "execution_count": 37,
     "metadata": {},
     "output_type": "execute_result"
    }
   ],
   "source": [
    "fp_fpr=FP_Divergence(FP_fm, \"d_fpr\")\n",
    "fp_fpr.getDivergence()[INFOS].head()"
   ]
  },
  {
   "cell_type": "code",
   "execution_count": 38,
   "metadata": {
    "ExecuteTime": {
     "end_time": "2020-09-22T21:45:18.072965Z",
     "start_time": "2020-09-22T21:45:14.699017Z"
    }
   },
   "outputs": [
    {
     "data": {
      "text/html": [
       "<div>\n",
       "<style scoped>\n",
       "    .dataframe tbody tr th:only-of-type {\n",
       "        vertical-align: middle;\n",
       "    }\n",
       "\n",
       "    .dataframe tbody tr th {\n",
       "        vertical-align: top;\n",
       "    }\n",
       "\n",
       "    .dataframe thead th {\n",
       "        text-align: right;\n",
       "    }\n",
       "</style>\n",
       "<table border=\"1\" class=\"dataframe\">\n",
       "  <thead>\n",
       "    <tr style=\"text-align: right;\">\n",
       "      <th></th>\n",
       "      <th>support</th>\n",
       "      <th>itemsets</th>\n",
       "      <th>tn</th>\n",
       "      <th>tp</th>\n",
       "      <th>fn</th>\n",
       "      <th>fp</th>\n",
       "      <th>fpr</th>\n",
       "      <th>fnr</th>\n",
       "      <th>accuracy</th>\n",
       "      <th>d_fpr</th>\n",
       "      <th>d_fnr</th>\n",
       "      <th>d_accuracy</th>\n",
       "      <th>t_value_fp</th>\n",
       "      <th>t_value_fn</th>\n",
       "      <th>t_value_tp_tn</th>\n",
       "    </tr>\n",
       "  </thead>\n",
       "  <tbody>\n",
       "    <tr>\n",
       "      <th>241</th>\n",
       "      <td>0.12688</td>\n",
       "      <td>(b=1, c=1, a=1)</td>\n",
       "      <td>0</td>\n",
       "      <td>3187</td>\n",
       "      <td>0</td>\n",
       "      <td>3157</td>\n",
       "      <td>1.000000</td>\n",
       "      <td>0.0</td>\n",
       "      <td>0.502364</td>\n",
       "      <td>0.855678</td>\n",
       "      <td>0.0</td>\n",
       "      <td>-0.371516</td>\n",
       "      <td>499.994074</td>\n",
       "      <td>0.441392</td>\n",
       "      <td>57.604258</td>\n",
       "    </tr>\n",
       "    <tr>\n",
       "      <th>556</th>\n",
       "      <td>0.12536</td>\n",
       "      <td>(c=0, b=0, a=0)</td>\n",
       "      <td>0</td>\n",
       "      <td>3119</td>\n",
       "      <td>0</td>\n",
       "      <td>3149</td>\n",
       "      <td>1.000000</td>\n",
       "      <td>0.0</td>\n",
       "      <td>0.497607</td>\n",
       "      <td>0.855678</td>\n",
       "      <td>0.0</td>\n",
       "      <td>-0.376273</td>\n",
       "      <td>499.950129</td>\n",
       "      <td>0.452967</td>\n",
       "      <td>58.009797</td>\n",
       "    </tr>\n",
       "    <tr>\n",
       "      <th>100</th>\n",
       "      <td>0.25018</td>\n",
       "      <td>(b=1, c=1)</td>\n",
       "      <td>6165</td>\n",
       "      <td>3187</td>\n",
       "      <td>0</td>\n",
       "      <td>3157</td>\n",
       "      <td>0.338661</td>\n",
       "      <td>0.0</td>\n",
       "      <td>0.747622</td>\n",
       "      <td>0.194339</td>\n",
       "      <td>0.0</td>\n",
       "      <td>-0.126258</td>\n",
       "      <td>37.511427</td>\n",
       "      <td>0.441392</td>\n",
       "      <td>30.373557</td>\n",
       "    </tr>\n",
       "    <tr>\n",
       "      <th>87</th>\n",
       "      <td>0.25048</td>\n",
       "      <td>(b=1, a=1)</td>\n",
       "      <td>6180</td>\n",
       "      <td>3187</td>\n",
       "      <td>0</td>\n",
       "      <td>3157</td>\n",
       "      <td>0.338117</td>\n",
       "      <td>0.0</td>\n",
       "      <td>0.747924</td>\n",
       "      <td>0.193795</td>\n",
       "      <td>0.0</td>\n",
       "      <td>-0.125956</td>\n",
       "      <td>37.446486</td>\n",
       "      <td>0.441392</td>\n",
       "      <td>30.327195</td>\n",
       "    </tr>\n",
       "    <tr>\n",
       "      <th>29</th>\n",
       "      <td>0.25158</td>\n",
       "      <td>(c=1, a=1)</td>\n",
       "      <td>6235</td>\n",
       "      <td>3187</td>\n",
       "      <td>0</td>\n",
       "      <td>3157</td>\n",
       "      <td>0.336137</td>\n",
       "      <td>0.0</td>\n",
       "      <td>0.749026</td>\n",
       "      <td>0.191815</td>\n",
       "      <td>0.0</td>\n",
       "      <td>-0.124854</td>\n",
       "      <td>37.209340</td>\n",
       "      <td>0.441392</td>\n",
       "      <td>30.157551</td>\n",
       "    </tr>\n",
       "  </tbody>\n",
       "</table>\n",
       "</div>"
      ],
      "text/plain": [
       "     support         itemsets    tn    tp  fn    fp       fpr  fnr  accuracy  \\\n",
       "241  0.12688  (b=1, c=1, a=1)  0     3187  0   3157  1.000000  0.0  0.502364   \n",
       "556  0.12536  (c=0, b=0, a=0)  0     3119  0   3149  1.000000  0.0  0.497607   \n",
       "100  0.25018  (b=1, c=1)       6165  3187  0   3157  0.338661  0.0  0.747622   \n",
       "87   0.25048  (b=1, a=1)       6180  3187  0   3157  0.338117  0.0  0.747924   \n",
       "29   0.25158  (c=1, a=1)       6235  3187  0   3157  0.336137  0.0  0.749026   \n",
       "\n",
       "        d_fpr  d_fnr  d_accuracy  t_value_fp  t_value_fn  t_value_tp_tn  \n",
       "241  0.855678  0.0   -0.371516    499.994074  0.441392    57.604258      \n",
       "556  0.855678  0.0   -0.376273    499.950129  0.452967    58.009797      \n",
       "100  0.194339  0.0   -0.126258    37.511427   0.441392    30.373557      \n",
       "87   0.193795  0.0   -0.125956    37.446486   0.441392    30.327195      \n",
       "29   0.191815  0.0   -0.124854    37.209340   0.441392    30.157551      "
      ]
     },
     "execution_count": 38,
     "metadata": {},
     "output_type": "execute_result"
    }
   ],
   "source": [
    "fp_fpr=FP_Divergence(FP_fm, \"d_fpr\")\n",
    "fp_fpr.getDivergence(th_redundancy=0.05)[INFOS].head()"
   ]
  },
  {
   "cell_type": "code",
   "execution_count": 10,
   "metadata": {
    "ExecuteTime": {
     "end_time": "2020-09-22T16:01:38.224561Z",
     "start_time": "2020-09-22T16:01:38.221650Z"
    }
   },
   "outputs": [
    {
     "name": "stdout",
     "output_type": "stream",
     "text": [
      "3.864593744277954\n"
     ]
    }
   ],
   "source": [
    "print(mean(times_de.values()))"
   ]
  },
  {
   "cell_type": "markdown",
   "metadata": {},
   "source": [
    "# Slice Finder"
   ]
  },
  {
   "cell_type": "markdown",
   "metadata": {},
   "source": [
    "## Estimate the log loss"
   ]
  },
  {
   "cell_type": "code",
   "execution_count": 11,
   "metadata": {
    "ExecuteTime": {
     "end_time": "2020-09-22T16:01:54.820123Z",
     "start_time": "2020-09-22T16:01:38.226239Z"
    }
   },
   "outputs": [],
   "source": [
    "from sklearn.metrics import log_loss\n",
    "import functools\n",
    "metric=log_loss\n",
    "from sklearn.utils.multiclass import unique_labels\n",
    "classes=unique_labels(y_FP)\n",
    "\n",
    "y_p = list(map(functools.partial(np.expand_dims, axis=0), y_predict_prob))\n",
    "y = list(map(functools.partial(np.expand_dims, axis=0), y_FP.values))\n",
    "loss_list_FP= np.array(list(map(functools.partial(metric, labels=classes), y, y_p)))"
   ]
  },
  {
   "cell_type": "code",
   "execution_count": 12,
   "metadata": {
    "ExecuteTime": {
     "end_time": "2020-09-22T16:01:54.830571Z",
     "start_time": "2020-09-22T16:01:54.821638Z"
    }
   },
   "outputs": [],
   "source": [
    "import sys\n",
    "sys.path.append(\"./SliceFinder_master/\")\n",
    "from SliceFinder_master.slice_finder import SliceFinder"
   ]
  },
  {
   "cell_type": "code",
   "execution_count": 13,
   "metadata": {
    "ExecuteTime": {
     "end_time": "2020-09-22T16:01:54.839322Z",
     "start_time": "2020-09-22T16:01:54.837123Z"
    }
   },
   "outputs": [],
   "source": [
    "createDir(\"./log\")"
   ]
  },
  {
   "cell_type": "markdown",
   "metadata": {},
   "source": [
    "### Max workers=1"
   ]
  },
  {
   "cell_type": "code",
   "execution_count": 14,
   "metadata": {
    "ExecuteTime": {
     "end_time": "2020-09-22T16:04:55.578992Z",
     "start_time": "2020-09-22T16:01:54.840915Z"
    }
   },
   "outputs": [
    {
     "name": "stdout",
     "output_type": "stream",
     "text": [
      "degree 1\n",
      "degree : 1, recommended slices : 0\n",
      "degree 2\n",
      "degree : 2, recommended slices : 6\n",
      "degree 3\n",
      "24.8395\n",
      "degree 1\n",
      "degree : 1, recommended slices : 0\n",
      "degree 2\n",
      "degree : 2, recommended slices : 6\n",
      "degree 3\n",
      "17.7712\n",
      "degree 1\n",
      "degree : 1, recommended slices : 0\n",
      "degree 2\n",
      "degree : 2, recommended slices : 6\n",
      "degree 3\n",
      "17.1417\n",
      "degree 1\n",
      "degree : 1, recommended slices : 0\n",
      "degree 2\n",
      "degree : 2, recommended slices : 6\n",
      "degree 3\n",
      "17.094\n",
      "degree 1\n",
      "degree : 1, recommended slices : 0\n",
      "degree 2\n",
      "degree : 2, recommended slices : 6\n",
      "degree 3\n",
      "17.0969\n",
      "degree 1\n",
      "degree : 1, recommended slices : 0\n",
      "degree 2\n",
      "degree : 2, recommended slices : 6\n",
      "degree 3\n",
      "17.7697\n",
      "degree 1\n",
      "degree : 1, recommended slices : 0\n",
      "degree 2\n",
      "degree : 2, recommended slices : 6\n",
      "degree 3\n",
      "17.1044\n",
      "degree 1\n",
      "degree : 1, recommended slices : 0\n",
      "degree 2\n",
      "degree : 2, recommended slices : 6\n",
      "degree 3\n",
      "17.3403\n",
      "degree 1\n",
      "degree : 1, recommended slices : 0\n",
      "degree 2\n",
      "degree : 2, recommended slices : 6\n",
      "degree 3\n",
      "17.0197\n",
      "degree 1\n",
      "degree : 1, recommended slices : 0\n",
      "degree 2\n",
      "degree : 2, recommended slices : 6\n",
      "degree 3\n",
      "17.5447\n"
     ]
    }
   ],
   "source": [
    "max_workers=1\n",
    "\n",
    "n_bin=10\n",
    "degree=3\n",
    "k=f\"max_w_{max_workers}\"\n",
    "times_sf[k]={}\n",
    "\n",
    "for i in range(0,n_times):\n",
    "    s=time.time()\n",
    "    sf = SliceFinder((X_FP, y_FP), n_bin, loss_list_FP)\n",
    "    recommendations = sf.find_slice(degree=degree, max_workers=max_workers)\n",
    "    times_sf[k][i]=time.time()-s\n",
    "    print(round(time.time()-s,4))"
   ]
  },
  {
   "cell_type": "code",
   "execution_count": 15,
   "metadata": {
    "ExecuteTime": {
     "end_time": "2020-09-22T16:04:55.584429Z",
     "start_time": "2020-09-22T16:04:55.581399Z"
    }
   },
   "outputs": [
    {
     "name": "stdout",
     "output_type": "stream",
     "text": [
      "max_w_1 18.072201251983643\n"
     ]
    }
   ],
   "source": [
    "print(k, mean(times_sf[k].values()))"
   ]
  },
  {
   "cell_type": "code",
   "execution_count": 16,
   "metadata": {
    "ExecuteTime": {
     "end_time": "2020-09-22T16:04:55.619673Z",
     "start_time": "2020-09-22T16:04:55.585948Z"
    }
   },
   "outputs": [
    {
     "name": "stdout",
     "output_type": "stream",
     "text": [
      "10 8\n"
     ]
    },
    {
     "data": {
      "text/html": [
       "<div>\n",
       "<style scoped>\n",
       "    .dataframe tbody tr th:only-of-type {\n",
       "        vertical-align: middle;\n",
       "    }\n",
       "\n",
       "    .dataframe tbody tr th {\n",
       "        vertical-align: top;\n",
       "    }\n",
       "\n",
       "    .dataframe thead th {\n",
       "        text-align: right;\n",
       "    }\n",
       "</style>\n",
       "<table border=\"1\" class=\"dataframe\">\n",
       "  <thead>\n",
       "    <tr style=\"text-align: right;\">\n",
       "      <th></th>\n",
       "      <th>itemset</th>\n",
       "      <th>effect_size</th>\n",
       "      <th>metric</th>\n",
       "      <th>size</th>\n",
       "    </tr>\n",
       "  </thead>\n",
       "  <tbody>\n",
       "    <tr>\n",
       "      <th>4</th>\n",
       "      <td>(c=1, b=1)</td>\n",
       "      <td>1.644455</td>\n",
       "      <td>8.716837</td>\n",
       "      <td>12509</td>\n",
       "    </tr>\n",
       "    <tr>\n",
       "      <th>2</th>\n",
       "      <td>(a=1, b=1)</td>\n",
       "      <td>1.641354</td>\n",
       "      <td>8.706397</td>\n",
       "      <td>12524</td>\n",
       "    </tr>\n",
       "    <tr>\n",
       "      <th>5</th>\n",
       "      <td>(b=0, c=0)</td>\n",
       "      <td>1.636331</td>\n",
       "      <td>8.694748</td>\n",
       "      <td>12509</td>\n",
       "    </tr>\n",
       "    <tr>\n",
       "      <th>3</th>\n",
       "      <td>(b=0, a=0)</td>\n",
       "      <td>1.633236</td>\n",
       "      <td>8.684335</td>\n",
       "      <td>12524</td>\n",
       "    </tr>\n",
       "    <tr>\n",
       "      <th>0</th>\n",
       "      <td>(c=1, a=1)</td>\n",
       "      <td>1.630034</td>\n",
       "      <td>8.668330</td>\n",
       "      <td>12579</td>\n",
       "    </tr>\n",
       "    <tr>\n",
       "      <th>1</th>\n",
       "      <td>(c=0, a=0)</td>\n",
       "      <td>1.621935</td>\n",
       "      <td>8.646364</td>\n",
       "      <td>12579</td>\n",
       "    </tr>\n",
       "    <tr>\n",
       "      <th>8</th>\n",
       "      <td>(h=0, a=1, b=1)</td>\n",
       "      <td>1.403132</td>\n",
       "      <td>8.760897</td>\n",
       "      <td>6363</td>\n",
       "    </tr>\n",
       "    <tr>\n",
       "      <th>6</th>\n",
       "      <td>(c=1, a=1, g=0)</td>\n",
       "      <td>1.393080</td>\n",
       "      <td>8.720665</td>\n",
       "      <td>6428</td>\n",
       "    </tr>\n",
       "  </tbody>\n",
       "</table>\n",
       "</div>"
      ],
      "text/plain": [
       "           itemset  effect_size    metric   size\n",
       "4  (c=1, b=1)       1.644455     8.716837  12509\n",
       "2  (a=1, b=1)       1.641354     8.706397  12524\n",
       "5  (b=0, c=0)       1.636331     8.694748  12509\n",
       "3  (b=0, a=0)       1.633236     8.684335  12524\n",
       "0  (c=1, a=1)       1.630034     8.668330  12579\n",
       "1  (c=0, a=0)       1.621935     8.646364  12579\n",
       "8  (h=0, a=1, b=1)  1.403132     8.760897  6363 \n",
       "6  (c=1, a=1, g=0)  1.393080     8.720665  6428 "
      ]
     },
     "execution_count": 16,
     "metadata": {},
     "output_type": "execute_result"
    }
   ],
   "source": [
    "recom_df=getRecommendationsDf(recommendations)\n",
    "print(len(recom_df), len(recom_df.drop_duplicates()))\n",
    "\n",
    "recom_df=recom_df.drop_duplicates()\n",
    "recom_df.sort_values(\"effect_size\", ascending=False).head(10)"
   ]
  },
  {
   "cell_type": "markdown",
   "metadata": {},
   "source": [
    "### Max workers=4"
   ]
  },
  {
   "cell_type": "code",
   "execution_count": 17,
   "metadata": {
    "ExecuteTime": {
     "end_time": "2020-09-22T16:07:21.607359Z",
     "start_time": "2020-09-22T16:04:55.621859Z"
    }
   },
   "outputs": [
    {
     "name": "stdout",
     "output_type": "stream",
     "text": [
      "degree 1\n",
      "degree : 1, recommended slices : 0\n",
      "degree 2\n",
      "degree : 2, recommended slices : 6\n",
      "degree 3\n",
      "14.6066\n",
      "degree 1\n",
      "degree : 1, recommended slices : 0\n",
      "degree 2\n",
      "degree : 2, recommended slices : 6\n",
      "degree 3\n",
      "14.4587\n",
      "degree 1\n",
      "degree : 1, recommended slices : 0\n",
      "degree 2\n",
      "degree : 2, recommended slices : 6\n",
      "degree 3\n",
      "14.4552\n",
      "degree 1\n",
      "degree : 1, recommended slices : 0\n",
      "degree 2\n",
      "degree : 2, recommended slices : 6\n",
      "degree 3\n",
      "14.9597\n",
      "degree 1\n",
      "degree : 1, recommended slices : 0\n",
      "degree 2\n",
      "degree : 2, recommended slices : 6\n",
      "degree 3\n",
      "14.4987\n",
      "degree 1\n",
      "degree : 1, recommended slices : 0\n",
      "degree 2\n",
      "degree : 2, recommended slices : 6\n",
      "degree 3\n",
      "14.6167\n",
      "degree 1\n",
      "degree : 1, recommended slices : 0\n",
      "degree 2\n",
      "degree : 2, recommended slices : 6\n",
      "degree 3\n",
      "14.4404\n",
      "degree 1\n",
      "degree : 1, recommended slices : 0\n",
      "degree 2\n",
      "degree : 2, recommended slices : 6\n",
      "degree 3\n",
      "14.6548\n",
      "degree 1\n",
      "degree : 1, recommended slices : 0\n",
      "degree 2\n",
      "degree : 2, recommended slices : 6\n",
      "degree 3\n",
      "14.8006\n",
      "degree 1\n",
      "degree : 1, recommended slices : 0\n",
      "degree 2\n",
      "degree : 2, recommended slices : 6\n",
      "degree 3\n",
      "14.4879\n"
     ]
    }
   ],
   "source": [
    "n_bin=10\n",
    "max_workers=4\n",
    "degree=3\n",
    "k=f\"max_w_{max_workers}\"\n",
    "times_sf[k]={}\n",
    "for i in range(0,n_times):\n",
    "    s=time.time()\n",
    "    sf = SliceFinder((X_FP, y_FP), n_bin, loss_list_FP)\n",
    "    recommendations = sf.find_slice(degree=degree, max_workers=max_workers)\n",
    "    times_sf[k][i]=time.time()-s\n",
    "    print(round(time.time()-s,4))"
   ]
  },
  {
   "cell_type": "code",
   "execution_count": 18,
   "metadata": {
    "ExecuteTime": {
     "end_time": "2020-09-22T16:07:21.613006Z",
     "start_time": "2020-09-22T16:07:21.609732Z"
    }
   },
   "outputs": [
    {
     "name": "stdout",
     "output_type": "stream",
     "text": [
      "max_w_4 14.597919130325318\n"
     ]
    }
   ],
   "source": [
    "print(k, mean(times_sf[k].values()))"
   ]
  },
  {
   "cell_type": "code",
   "execution_count": 19,
   "metadata": {
    "ExecuteTime": {
     "end_time": "2020-09-22T16:07:21.657953Z",
     "start_time": "2020-09-22T16:07:21.615450Z"
    }
   },
   "outputs": [
    {
     "name": "stdout",
     "output_type": "stream",
     "text": [
      "10 8\n"
     ]
    },
    {
     "data": {
      "text/html": [
       "<div>\n",
       "<style scoped>\n",
       "    .dataframe tbody tr th:only-of-type {\n",
       "        vertical-align: middle;\n",
       "    }\n",
       "\n",
       "    .dataframe tbody tr th {\n",
       "        vertical-align: top;\n",
       "    }\n",
       "\n",
       "    .dataframe thead th {\n",
       "        text-align: right;\n",
       "    }\n",
       "</style>\n",
       "<table border=\"1\" class=\"dataframe\">\n",
       "  <thead>\n",
       "    <tr style=\"text-align: right;\">\n",
       "      <th></th>\n",
       "      <th>itemset</th>\n",
       "      <th>effect_size</th>\n",
       "      <th>metric</th>\n",
       "      <th>size</th>\n",
       "    </tr>\n",
       "  </thead>\n",
       "  <tbody>\n",
       "    <tr>\n",
       "      <th>4</th>\n",
       "      <td>(c=1, b=1)</td>\n",
       "      <td>1.644455</td>\n",
       "      <td>8.716837</td>\n",
       "      <td>12509</td>\n",
       "    </tr>\n",
       "    <tr>\n",
       "      <th>2</th>\n",
       "      <td>(a=1, b=1)</td>\n",
       "      <td>1.641354</td>\n",
       "      <td>8.706397</td>\n",
       "      <td>12524</td>\n",
       "    </tr>\n",
       "    <tr>\n",
       "      <th>5</th>\n",
       "      <td>(b=0, c=0)</td>\n",
       "      <td>1.636331</td>\n",
       "      <td>8.694748</td>\n",
       "      <td>12509</td>\n",
       "    </tr>\n",
       "    <tr>\n",
       "      <th>3</th>\n",
       "      <td>(b=0, a=0)</td>\n",
       "      <td>1.633236</td>\n",
       "      <td>8.684335</td>\n",
       "      <td>12524</td>\n",
       "    </tr>\n",
       "    <tr>\n",
       "      <th>0</th>\n",
       "      <td>(c=1, a=1)</td>\n",
       "      <td>1.630034</td>\n",
       "      <td>8.668330</td>\n",
       "      <td>12579</td>\n",
       "    </tr>\n",
       "    <tr>\n",
       "      <th>1</th>\n",
       "      <td>(c=0, a=0)</td>\n",
       "      <td>1.621935</td>\n",
       "      <td>8.646364</td>\n",
       "      <td>12579</td>\n",
       "    </tr>\n",
       "    <tr>\n",
       "      <th>8</th>\n",
       "      <td>(h=0, a=1, b=1)</td>\n",
       "      <td>1.403132</td>\n",
       "      <td>8.760897</td>\n",
       "      <td>6363</td>\n",
       "    </tr>\n",
       "    <tr>\n",
       "      <th>6</th>\n",
       "      <td>(c=1, a=1, g=0)</td>\n",
       "      <td>1.393080</td>\n",
       "      <td>8.720665</td>\n",
       "      <td>6428</td>\n",
       "    </tr>\n",
       "  </tbody>\n",
       "</table>\n",
       "</div>"
      ],
      "text/plain": [
       "           itemset  effect_size    metric   size\n",
       "4  (c=1, b=1)       1.644455     8.716837  12509\n",
       "2  (a=1, b=1)       1.641354     8.706397  12524\n",
       "5  (b=0, c=0)       1.636331     8.694748  12509\n",
       "3  (b=0, a=0)       1.633236     8.684335  12524\n",
       "0  (c=1, a=1)       1.630034     8.668330  12579\n",
       "1  (c=0, a=0)       1.621935     8.646364  12579\n",
       "8  (h=0, a=1, b=1)  1.403132     8.760897  6363 \n",
       "6  (c=1, a=1, g=0)  1.393080     8.720665  6428 "
      ]
     },
     "execution_count": 19,
     "metadata": {},
     "output_type": "execute_result"
    }
   ],
   "source": [
    "recom_df=getRecommendationsDf(recommendations)\n",
    "print(len(recom_df), len(recom_df.drop_duplicates()))\n",
    "\n",
    "recom_df=recom_df.drop_duplicates()\n",
    "recom_df.sort_values(\"effect_size\", ascending=False).head(10)"
   ]
  },
  {
   "cell_type": "markdown",
   "metadata": {},
   "source": [
    "### Greater Effect Size Threshold"
   ]
  },
  {
   "cell_type": "markdown",
   "metadata": {},
   "source": [
    "#### Max workers=1"
   ]
  },
  {
   "cell_type": "code",
   "execution_count": 20,
   "metadata": {
    "ExecuteTime": {
     "end_time": "2020-09-22T16:10:23.954657Z",
     "start_time": "2020-09-22T16:07:21.660667Z"
    }
   },
   "outputs": [
    {
     "name": "stdout",
     "output_type": "stream",
     "text": [
      "degree 1\n",
      "degree : 1, recommended slices : 0\n",
      "degree 2\n",
      "degree : 2, recommended slices : 0\n",
      "degree 3\n",
      "degree : 3, recommended slices : 6\n",
      "18.2627\n",
      "degree 1\n",
      "degree : 1, recommended slices : 0\n",
      "degree 2\n",
      "degree : 2, recommended slices : 0\n",
      "degree 3\n",
      "degree : 3, recommended slices : 6\n",
      "17.7712\n",
      "degree 1\n",
      "degree : 1, recommended slices : 0\n",
      "degree 2\n",
      "degree : 2, recommended slices : 0\n",
      "degree 3\n",
      "degree : 3, recommended slices : 6\n",
      "18.1189\n",
      "degree 1\n",
      "degree : 1, recommended slices : 0\n",
      "degree 2\n",
      "degree : 2, recommended slices : 0\n",
      "degree 3\n",
      "degree : 3, recommended slices : 6\n",
      "17.703\n",
      "degree 1\n",
      "degree : 1, recommended slices : 0\n",
      "degree 2\n",
      "degree : 2, recommended slices : 0\n",
      "degree 3\n",
      "degree : 3, recommended slices : 6\n",
      "17.7972\n",
      "degree 1\n",
      "degree : 1, recommended slices : 0\n",
      "degree 2\n",
      "degree : 2, recommended slices : 0\n",
      "degree 3\n",
      "degree : 3, recommended slices : 6\n",
      "18.1838\n",
      "degree 1\n",
      "degree : 1, recommended slices : 0\n",
      "degree 2\n",
      "degree : 2, recommended slices : 0\n",
      "degree 3\n",
      "degree : 3, recommended slices : 6\n",
      "17.6851\n",
      "degree 1\n",
      "degree : 1, recommended slices : 0\n",
      "degree 2\n",
      "degree : 2, recommended slices : 0\n",
      "degree 3\n",
      "degree : 3, recommended slices : 6\n",
      "19.1324\n",
      "degree 1\n",
      "degree : 1, recommended slices : 0\n",
      "degree 2\n",
      "degree : 2, recommended slices : 0\n",
      "degree 3\n",
      "degree : 3, recommended slices : 6\n",
      "19.0143\n",
      "degree 1\n",
      "degree : 1, recommended slices : 0\n",
      "degree 2\n",
      "degree : 2, recommended slices : 0\n",
      "degree 3\n",
      "degree : 3, recommended slices : 6\n",
      "18.6183\n"
     ]
    }
   ],
   "source": [
    "max_workers=1\n",
    "\n",
    "n_bin=10\n",
    "eps=1.65\n",
    "degree=3\n",
    "k=f\"eps_{eps}_{max_workers}\"\n",
    "times_sf[k]={}\n",
    "\n",
    "for i in range(0,n_times):\n",
    "    s=time.time()\n",
    "    sf = SliceFinder((X_FP, y_FP), n_bin, loss_list_FP)\n",
    "    recommendations = sf.find_slice(degree=degree, max_workers=max_workers, epsilon=eps)\n",
    "    times_sf[k][i]=time.time()-s\n",
    "    print(round(time.time()-s,4))"
   ]
  },
  {
   "cell_type": "code",
   "execution_count": 21,
   "metadata": {
    "ExecuteTime": {
     "end_time": "2020-09-22T16:10:23.960230Z",
     "start_time": "2020-09-22T16:10:23.956638Z"
    }
   },
   "outputs": [
    {
     "name": "stdout",
     "output_type": "stream",
     "text": [
      "eps_1.65_1 18.228675627708434\n"
     ]
    }
   ],
   "source": [
    "print(k, mean(times_sf[k].values()))"
   ]
  },
  {
   "cell_type": "code",
   "execution_count": 22,
   "metadata": {
    "ExecuteTime": {
     "end_time": "2020-09-22T16:10:23.978526Z",
     "start_time": "2020-09-22T16:10:23.962507Z"
    },
    "scrolled": true
   },
   "outputs": [
    {
     "name": "stdout",
     "output_type": "stream",
     "text": [
      "6 2\n"
     ]
    },
    {
     "data": {
      "text/html": [
       "<div>\n",
       "<style scoped>\n",
       "    .dataframe tbody tr th:only-of-type {\n",
       "        vertical-align: middle;\n",
       "    }\n",
       "\n",
       "    .dataframe tbody tr th {\n",
       "        vertical-align: top;\n",
       "    }\n",
       "\n",
       "    .dataframe thead th {\n",
       "        text-align: right;\n",
       "    }\n",
       "</style>\n",
       "<table border=\"1\" class=\"dataframe\">\n",
       "  <thead>\n",
       "    <tr style=\"text-align: right;\">\n",
       "      <th></th>\n",
       "      <th>itemset</th>\n",
       "      <th>effect_size</th>\n",
       "      <th>metric</th>\n",
       "      <th>size</th>\n",
       "    </tr>\n",
       "  </thead>\n",
       "  <tbody>\n",
       "    <tr>\n",
       "      <th>3</th>\n",
       "      <td>(b=0, c=0, a=0)</td>\n",
       "      <td>3.996828</td>\n",
       "      <td>17.352043</td>\n",
       "      <td>6268</td>\n",
       "    </tr>\n",
       "    <tr>\n",
       "      <th>0</th>\n",
       "      <td>(c=1, a=1, b=1)</td>\n",
       "      <td>3.954308</td>\n",
       "      <td>17.187723</td>\n",
       "      <td>6344</td>\n",
       "    </tr>\n",
       "  </tbody>\n",
       "</table>\n",
       "</div>"
      ],
      "text/plain": [
       "           itemset  effect_size     metric  size\n",
       "3  (b=0, c=0, a=0)  3.996828     17.352043  6268\n",
       "0  (c=1, a=1, b=1)  3.954308     17.187723  6344"
      ]
     },
     "execution_count": 22,
     "metadata": {},
     "output_type": "execute_result"
    }
   ],
   "source": [
    "recom_df=getRecommendationsDf(recommendations)\n",
    "print(len(recom_df), len(recom_df.drop_duplicates()))\n",
    "\n",
    "recom_df=recom_df.drop_duplicates()\n",
    "recom_df.sort_values(\"effect_size\", ascending=False).head(10)"
   ]
  },
  {
   "cell_type": "markdown",
   "metadata": {},
   "source": [
    "#### Max workers=4"
   ]
  },
  {
   "cell_type": "code",
   "execution_count": 23,
   "metadata": {
    "ExecuteTime": {
     "end_time": "2020-09-22T16:12:57.252825Z",
     "start_time": "2020-09-22T16:10:23.980174Z"
    }
   },
   "outputs": [
    {
     "name": "stdout",
     "output_type": "stream",
     "text": [
      "degree 1\n",
      "degree : 1, recommended slices : 0\n",
      "degree 2\n",
      "degree : 2, recommended slices : 0\n",
      "degree 3\n",
      "degree : 3, recommended slices : 6\n",
      "15.1976\n",
      "degree 1\n",
      "degree : 1, recommended slices : 0\n",
      "degree 2\n",
      "degree : 2, recommended slices : 0\n",
      "degree 3\n",
      "degree : 3, recommended slices : 6\n",
      "15.2871\n",
      "degree 1\n",
      "degree : 1, recommended slices : 0\n",
      "degree 2\n",
      "degree : 2, recommended slices : 0\n",
      "degree 3\n",
      "degree : 3, recommended slices : 6\n",
      "15.2143\n",
      "degree 1\n",
      "degree : 1, recommended slices : 0\n",
      "degree 2\n",
      "degree : 2, recommended slices : 0\n",
      "degree 3\n",
      "degree : 3, recommended slices : 6\n",
      "15.7537\n",
      "degree 1\n",
      "degree : 1, recommended slices : 0\n",
      "degree 2\n",
      "degree : 2, recommended slices : 0\n",
      "degree 3\n",
      "degree : 3, recommended slices : 6\n",
      "15.2436\n",
      "degree 1\n",
      "degree : 1, recommended slices : 0\n",
      "degree 2\n",
      "degree : 2, recommended slices : 0\n",
      "degree 3\n",
      "degree : 3, recommended slices : 6\n",
      "15.1597\n",
      "degree 1\n",
      "degree : 1, recommended slices : 0\n",
      "degree 2\n",
      "degree : 2, recommended slices : 0\n",
      "degree 3\n",
      "degree : 3, recommended slices : 6\n",
      "15.1878\n",
      "degree 1\n",
      "degree : 1, recommended slices : 0\n",
      "degree 2\n",
      "degree : 2, recommended slices : 0\n",
      "degree 3\n",
      "degree : 3, recommended slices : 6\n",
      "15.686\n",
      "degree 1\n",
      "degree : 1, recommended slices : 0\n",
      "degree 2\n",
      "degree : 2, recommended slices : 0\n",
      "degree 3\n",
      "degree : 3, recommended slices : 6\n",
      "15.3327\n",
      "degree 1\n",
      "degree : 1, recommended slices : 0\n",
      "degree 2\n",
      "degree : 2, recommended slices : 0\n",
      "degree 3\n",
      "degree : 3, recommended slices : 6\n",
      "15.206\n"
     ]
    }
   ],
   "source": [
    "max_workers=4\n",
    "\n",
    "n_bin=10\n",
    "eps=1.65\n",
    "degree=3\n",
    "k=f\"eps_{eps}_{max_workers}\"\n",
    "times_sf[k]={}\n",
    "\n",
    "for i in range(0,n_times):\n",
    "    s=time.time()\n",
    "    sf = SliceFinder((X_FP, y_FP), n_bin, loss_list_FP)\n",
    "    recommendations = sf.find_slice(degree=degree, max_workers=max_workers, epsilon=eps)\n",
    "    times_sf[k][i]=time.time()-s\n",
    "    print(round(time.time()-s,4))"
   ]
  },
  {
   "cell_type": "code",
   "execution_count": 24,
   "metadata": {
    "ExecuteTime": {
     "end_time": "2020-09-22T16:12:57.259539Z",
     "start_time": "2020-09-22T16:12:57.254959Z"
    }
   },
   "outputs": [
    {
     "name": "stdout",
     "output_type": "stream",
     "text": [
      "eps_1.65_4 15.326845335960389\n"
     ]
    }
   ],
   "source": [
    "print(k, mean(times_sf[k].values()))"
   ]
  },
  {
   "cell_type": "code",
   "execution_count": 25,
   "metadata": {
    "ExecuteTime": {
     "end_time": "2020-09-22T16:12:57.279047Z",
     "start_time": "2020-09-22T16:12:57.261750Z"
    },
    "scrolled": true
   },
   "outputs": [
    {
     "name": "stdout",
     "output_type": "stream",
     "text": [
      "6 2\n"
     ]
    },
    {
     "data": {
      "text/html": [
       "<div>\n",
       "<style scoped>\n",
       "    .dataframe tbody tr th:only-of-type {\n",
       "        vertical-align: middle;\n",
       "    }\n",
       "\n",
       "    .dataframe tbody tr th {\n",
       "        vertical-align: top;\n",
       "    }\n",
       "\n",
       "    .dataframe thead th {\n",
       "        text-align: right;\n",
       "    }\n",
       "</style>\n",
       "<table border=\"1\" class=\"dataframe\">\n",
       "  <thead>\n",
       "    <tr style=\"text-align: right;\">\n",
       "      <th></th>\n",
       "      <th>itemset</th>\n",
       "      <th>effect_size</th>\n",
       "      <th>metric</th>\n",
       "      <th>size</th>\n",
       "    </tr>\n",
       "  </thead>\n",
       "  <tbody>\n",
       "    <tr>\n",
       "      <th>3</th>\n",
       "      <td>(b=0, c=0, a=0)</td>\n",
       "      <td>3.996828</td>\n",
       "      <td>17.352043</td>\n",
       "      <td>6268</td>\n",
       "    </tr>\n",
       "    <tr>\n",
       "      <th>0</th>\n",
       "      <td>(c=1, a=1, b=1)</td>\n",
       "      <td>3.954308</td>\n",
       "      <td>17.187723</td>\n",
       "      <td>6344</td>\n",
       "    </tr>\n",
       "  </tbody>\n",
       "</table>\n",
       "</div>"
      ],
      "text/plain": [
       "           itemset  effect_size     metric  size\n",
       "3  (b=0, c=0, a=0)  3.996828     17.352043  6268\n",
       "0  (c=1, a=1, b=1)  3.954308     17.187723  6344"
      ]
     },
     "execution_count": 25,
     "metadata": {},
     "output_type": "execute_result"
    }
   ],
   "source": [
    "recom_df=getRecommendationsDf(recommendations)\n",
    "print(len(recom_df), len(recom_df.drop_duplicates()))\n",
    "\n",
    "recom_df=recom_df.drop_duplicates()\n",
    "recom_df.sort_values(\"effect_size\", ascending=False).head(10)"
   ]
  },
  {
   "cell_type": "code",
   "execution_count": 26,
   "metadata": {
    "ExecuteTime": {
     "end_time": "2020-09-22T16:12:57.287379Z",
     "start_time": "2020-09-22T16:12:57.281073Z"
    }
   },
   "outputs": [
    {
     "name": "stdout",
     "output_type": "stream",
     "text": [
      "max_w_1 4.676352146649811\n",
      "max_w_4 3.777348952121936\n",
      "eps_1.65_1 4.716841363907505\n",
      "eps_1.65_4 3.9659654675614546\n"
     ]
    }
   ],
   "source": [
    "for k in times_sf:\n",
    "    print(k, mean(times_sf[k].values())/mean(times_de.values()))"
   ]
  },
  {
   "cell_type": "markdown",
   "metadata": {},
   "source": [
    "Nearly 4.5 and 3.5 times faster"
   ]
  },
  {
   "cell_type": "code",
   "execution_count": 27,
   "metadata": {
    "ExecuteTime": {
     "end_time": "2020-09-22T16:12:57.292609Z",
     "start_time": "2020-09-22T16:12:57.288873Z"
    }
   },
   "outputs": [
    {
     "name": "stdout",
     "output_type": "stream",
     "text": [
      "max_w_1 18.072201251983643\n",
      "max_w_4 14.597919130325318\n",
      "eps_1.65_1 18.228675627708434\n",
      "eps_1.65_4 15.326845335960389\n"
     ]
    }
   ],
   "source": [
    "for k in times_sf:\n",
    "    print(k, mean(times_sf[k].values()))"
   ]
  }
 ],
 "metadata": {
  "celltoolbar": "Raw Cell Format",
  "hide_input": false,
  "kernelspec": {
   "display_name": "Python 3",
   "language": "python",
   "name": "python3"
  },
  "language_info": {
   "codemirror_mode": {
    "name": "ipython",
    "version": 3
   },
   "file_extension": ".py",
   "mimetype": "text/x-python",
   "name": "python",
   "nbconvert_exporter": "python",
   "pygments_lexer": "ipython3",
   "version": "3.8.8"
  },
  "toc": {
   "base_numbering": 1,
   "nav_menu": {},
   "number_sections": true,
   "sideBar": true,
   "skip_h1_title": false,
   "title_cell": "Table of Contents",
   "title_sidebar": "Contents",
   "toc_cell": false,
   "toc_position": {},
   "toc_section_display": true,
   "toc_window_display": true
  },
  "varInspector": {
   "cols": {
    "lenName": 16,
    "lenType": 16,
    "lenVar": 40
   },
   "kernels_config": {
    "python": {
     "delete_cmd_postfix": "",
     "delete_cmd_prefix": "del ",
     "library": "var_list.py",
     "varRefreshCmd": "print(var_dic_list())"
    },
    "r": {
     "delete_cmd_postfix": ") ",
     "delete_cmd_prefix": "rm(",
     "library": "var_list.r",
     "varRefreshCmd": "cat(var_dic_list()) "
    }
   },
   "types_to_exclude": [
    "module",
    "function",
    "builtin_function_or_method",
    "instance",
    "_Feature"
   ],
   "window_display": false
  }
 },
 "nbformat": 4,
 "nbformat_minor": 2
}
