{
 "cells": [
  {
   "cell_type": "code",
   "execution_count": 1,
   "id": "89713bd2",
   "metadata": {
    "ExecuteTime": {
     "end_time": "2022-12-23T15:58:08.159328Z",
     "start_time": "2022-12-23T15:58:07.629628Z"
    }
   },
   "outputs": [],
   "source": [
    "from import_process_dataset import import_process_online_shoppers_intention\n",
    "\n",
    "df, c, cc = import_process_online_shoppers_intention()"
   ]
  },
  {
   "cell_type": "code",
   "execution_count": 3,
   "id": "df9c2506",
   "metadata": {
    "ExecuteTime": {
     "end_time": "2022-12-23T16:02:02.989844Z",
     "start_time": "2022-12-23T16:02:02.963760Z"
    }
   },
   "outputs": [],
   "source": [
    "%load_ext autoreload\n",
    "%autoreload 2"
   ]
  },
  {
   "cell_type": "code",
   "execution_count": 8,
   "id": "353244ce",
   "metadata": {
    "ExecuteTime": {
     "end_time": "2022-12-23T16:04:37.077766Z",
     "start_time": "2022-12-23T16:04:37.056925Z"
    }
   },
   "outputs": [],
   "source": [
    "from import_process_dataset import check_dataset_availability, DATASET_DIR\n",
    "\n",
    "import pandas as pd\n",
    "import os"
   ]
  },
  {
   "cell_type": "code",
   "execution_count": 9,
   "id": "dbdb3e08",
   "metadata": {
    "ExecuteTime": {
     "end_time": "2022-12-23T16:04:37.258430Z",
     "start_time": "2022-12-23T16:04:37.192647Z"
    }
   },
   "outputs": [],
   "source": [
    "df = pd.read_csv(os.path.join(DATASET_DIR, \"Daegu_Real_Estate_data.csv\"), sep=\",\")"
   ]
  },
  {
   "cell_type": "code",
   "execution_count": 17,
   "id": "b541d8ac",
   "metadata": {
    "ExecuteTime": {
     "end_time": "2022-12-23T16:07:51.695809Z",
     "start_time": "2022-12-23T16:07:51.652939Z"
    }
   },
   "outputs": [
    {
     "data": {
      "text/html": [
       "<div>\n",
       "<style scoped>\n",
       "    .dataframe tbody tr th:only-of-type {\n",
       "        vertical-align: middle;\n",
       "    }\n",
       "\n",
       "    .dataframe tbody tr th {\n",
       "        vertical-align: top;\n",
       "    }\n",
       "\n",
       "    .dataframe thead th {\n",
       "        text-align: right;\n",
       "    }\n",
       "</style>\n",
       "<table border=\"1\" class=\"dataframe\">\n",
       "  <thead>\n",
       "    <tr style=\"text-align: right;\">\n",
       "      <th></th>\n",
       "      <th>SalePrice</th>\n",
       "      <th>YearBuilt</th>\n",
       "      <th>YrSold</th>\n",
       "      <th>MonthSold</th>\n",
       "      <th>Size(sqf)</th>\n",
       "      <th>Floor</th>\n",
       "      <th>HallwayType</th>\n",
       "      <th>HeatingType</th>\n",
       "      <th>AptManageType</th>\n",
       "      <th>N_Parkinglot(Ground)</th>\n",
       "      <th>...</th>\n",
       "      <th>N_FacilitiesNearBy(Mall)</th>\n",
       "      <th>N_FacilitiesNearBy(ETC)</th>\n",
       "      <th>N_FacilitiesNearBy(Park)</th>\n",
       "      <th>N_SchoolNearBy(Elementary)</th>\n",
       "      <th>N_SchoolNearBy(Middle)</th>\n",
       "      <th>N_SchoolNearBy(High)</th>\n",
       "      <th>N_SchoolNearBy(University)</th>\n",
       "      <th>N_FacilitiesInApt</th>\n",
       "      <th>N_FacilitiesNearBy(Total)</th>\n",
       "      <th>N_SchoolNearBy(Total)</th>\n",
       "    </tr>\n",
       "  </thead>\n",
       "  <tbody>\n",
       "    <tr>\n",
       "      <th>0</th>\n",
       "      <td>141592</td>\n",
       "      <td>2006</td>\n",
       "      <td>2007</td>\n",
       "      <td>8</td>\n",
       "      <td>814</td>\n",
       "      <td>3</td>\n",
       "      <td>terraced</td>\n",
       "      <td>individual_heating</td>\n",
       "      <td>management_in_trust</td>\n",
       "      <td>111.0</td>\n",
       "      <td>...</td>\n",
       "      <td>1.0</td>\n",
       "      <td>1.0</td>\n",
       "      <td>0.0</td>\n",
       "      <td>3.0</td>\n",
       "      <td>2.0</td>\n",
       "      <td>2.0</td>\n",
       "      <td>2.0</td>\n",
       "      <td>5</td>\n",
       "      <td>6.0</td>\n",
       "      <td>9.0</td>\n",
       "    </tr>\n",
       "    <tr>\n",
       "      <th>1</th>\n",
       "      <td>51327</td>\n",
       "      <td>1985</td>\n",
       "      <td>2007</td>\n",
       "      <td>8</td>\n",
       "      <td>587</td>\n",
       "      <td>8</td>\n",
       "      <td>corridor</td>\n",
       "      <td>individual_heating</td>\n",
       "      <td>self_management</td>\n",
       "      <td>80.0</td>\n",
       "      <td>...</td>\n",
       "      <td>1.0</td>\n",
       "      <td>2.0</td>\n",
       "      <td>1.0</td>\n",
       "      <td>2.0</td>\n",
       "      <td>1.0</td>\n",
       "      <td>1.0</td>\n",
       "      <td>0.0</td>\n",
       "      <td>3</td>\n",
       "      <td>12.0</td>\n",
       "      <td>4.0</td>\n",
       "    </tr>\n",
       "    <tr>\n",
       "      <th>2</th>\n",
       "      <td>48672</td>\n",
       "      <td>1985</td>\n",
       "      <td>2007</td>\n",
       "      <td>8</td>\n",
       "      <td>587</td>\n",
       "      <td>6</td>\n",
       "      <td>corridor</td>\n",
       "      <td>individual_heating</td>\n",
       "      <td>self_management</td>\n",
       "      <td>80.0</td>\n",
       "      <td>...</td>\n",
       "      <td>1.0</td>\n",
       "      <td>2.0</td>\n",
       "      <td>1.0</td>\n",
       "      <td>2.0</td>\n",
       "      <td>1.0</td>\n",
       "      <td>1.0</td>\n",
       "      <td>0.0</td>\n",
       "      <td>3</td>\n",
       "      <td>12.0</td>\n",
       "      <td>4.0</td>\n",
       "    </tr>\n",
       "    <tr>\n",
       "      <th>3</th>\n",
       "      <td>380530</td>\n",
       "      <td>2006</td>\n",
       "      <td>2007</td>\n",
       "      <td>8</td>\n",
       "      <td>2056</td>\n",
       "      <td>8</td>\n",
       "      <td>terraced</td>\n",
       "      <td>individual_heating</td>\n",
       "      <td>management_in_trust</td>\n",
       "      <td>249.0</td>\n",
       "      <td>...</td>\n",
       "      <td>1.0</td>\n",
       "      <td>0.0</td>\n",
       "      <td>0.0</td>\n",
       "      <td>2.0</td>\n",
       "      <td>2.0</td>\n",
       "      <td>1.0</td>\n",
       "      <td>2.0</td>\n",
       "      <td>5</td>\n",
       "      <td>3.0</td>\n",
       "      <td>7.0</td>\n",
       "    </tr>\n",
       "    <tr>\n",
       "      <th>4</th>\n",
       "      <td>221238</td>\n",
       "      <td>1993</td>\n",
       "      <td>2007</td>\n",
       "      <td>8</td>\n",
       "      <td>1761</td>\n",
       "      <td>3</td>\n",
       "      <td>mixed</td>\n",
       "      <td>individual_heating</td>\n",
       "      <td>management_in_trust</td>\n",
       "      <td>523.0</td>\n",
       "      <td>...</td>\n",
       "      <td>1.0</td>\n",
       "      <td>5.0</td>\n",
       "      <td>0.0</td>\n",
       "      <td>4.0</td>\n",
       "      <td>3.0</td>\n",
       "      <td>5.0</td>\n",
       "      <td>5.0</td>\n",
       "      <td>4</td>\n",
       "      <td>14.0</td>\n",
       "      <td>17.0</td>\n",
       "    </tr>\n",
       "    <tr>\n",
       "      <th>...</th>\n",
       "      <td>...</td>\n",
       "      <td>...</td>\n",
       "      <td>...</td>\n",
       "      <td>...</td>\n",
       "      <td>...</td>\n",
       "      <td>...</td>\n",
       "      <td>...</td>\n",
       "      <td>...</td>\n",
       "      <td>...</td>\n",
       "      <td>...</td>\n",
       "      <td>...</td>\n",
       "      <td>...</td>\n",
       "      <td>...</td>\n",
       "      <td>...</td>\n",
       "      <td>...</td>\n",
       "      <td>...</td>\n",
       "      <td>...</td>\n",
       "      <td>...</td>\n",
       "      <td>...</td>\n",
       "      <td>...</td>\n",
       "      <td>...</td>\n",
       "    </tr>\n",
       "    <tr>\n",
       "      <th>5886</th>\n",
       "      <td>511504</td>\n",
       "      <td>2007</td>\n",
       "      <td>2017</td>\n",
       "      <td>8</td>\n",
       "      <td>1643</td>\n",
       "      <td>19</td>\n",
       "      <td>terraced</td>\n",
       "      <td>individual_heating</td>\n",
       "      <td>management_in_trust</td>\n",
       "      <td>0.0</td>\n",
       "      <td>...</td>\n",
       "      <td>1.0</td>\n",
       "      <td>0.0</td>\n",
       "      <td>2.0</td>\n",
       "      <td>3.0</td>\n",
       "      <td>3.0</td>\n",
       "      <td>2.0</td>\n",
       "      <td>2.0</td>\n",
       "      <td>10</td>\n",
       "      <td>9.0</td>\n",
       "      <td>10.0</td>\n",
       "    </tr>\n",
       "    <tr>\n",
       "      <th>5887</th>\n",
       "      <td>298230</td>\n",
       "      <td>2006</td>\n",
       "      <td>2017</td>\n",
       "      <td>8</td>\n",
       "      <td>903</td>\n",
       "      <td>13</td>\n",
       "      <td>terraced</td>\n",
       "      <td>individual_heating</td>\n",
       "      <td>management_in_trust</td>\n",
       "      <td>123.0</td>\n",
       "      <td>...</td>\n",
       "      <td>1.0</td>\n",
       "      <td>2.0</td>\n",
       "      <td>0.0</td>\n",
       "      <td>4.0</td>\n",
       "      <td>3.0</td>\n",
       "      <td>3.0</td>\n",
       "      <td>1.0</td>\n",
       "      <td>4</td>\n",
       "      <td>8.0</td>\n",
       "      <td>11.0</td>\n",
       "    </tr>\n",
       "    <tr>\n",
       "      <th>5888</th>\n",
       "      <td>357522</td>\n",
       "      <td>2007</td>\n",
       "      <td>2017</td>\n",
       "      <td>8</td>\n",
       "      <td>868</td>\n",
       "      <td>20</td>\n",
       "      <td>terraced</td>\n",
       "      <td>individual_heating</td>\n",
       "      <td>management_in_trust</td>\n",
       "      <td>0.0</td>\n",
       "      <td>...</td>\n",
       "      <td>1.0</td>\n",
       "      <td>0.0</td>\n",
       "      <td>2.0</td>\n",
       "      <td>3.0</td>\n",
       "      <td>3.0</td>\n",
       "      <td>2.0</td>\n",
       "      <td>2.0</td>\n",
       "      <td>10</td>\n",
       "      <td>9.0</td>\n",
       "      <td>10.0</td>\n",
       "    </tr>\n",
       "    <tr>\n",
       "      <th>5889</th>\n",
       "      <td>312389</td>\n",
       "      <td>1978</td>\n",
       "      <td>2017</td>\n",
       "      <td>8</td>\n",
       "      <td>1327</td>\n",
       "      <td>1</td>\n",
       "      <td>corridor</td>\n",
       "      <td>individual_heating</td>\n",
       "      <td>self_management</td>\n",
       "      <td>87.0</td>\n",
       "      <td>...</td>\n",
       "      <td>1.0</td>\n",
       "      <td>0.0</td>\n",
       "      <td>0.0</td>\n",
       "      <td>3.0</td>\n",
       "      <td>3.0</td>\n",
       "      <td>3.0</td>\n",
       "      <td>2.0</td>\n",
       "      <td>3</td>\n",
       "      <td>7.0</td>\n",
       "      <td>11.0</td>\n",
       "    </tr>\n",
       "    <tr>\n",
       "      <th>5890</th>\n",
       "      <td>393805</td>\n",
       "      <td>2007</td>\n",
       "      <td>2017</td>\n",
       "      <td>8</td>\n",
       "      <td>868</td>\n",
       "      <td>13</td>\n",
       "      <td>terraced</td>\n",
       "      <td>individual_heating</td>\n",
       "      <td>management_in_trust</td>\n",
       "      <td>0.0</td>\n",
       "      <td>...</td>\n",
       "      <td>1.0</td>\n",
       "      <td>0.0</td>\n",
       "      <td>2.0</td>\n",
       "      <td>3.0</td>\n",
       "      <td>3.0</td>\n",
       "      <td>2.0</td>\n",
       "      <td>2.0</td>\n",
       "      <td>10</td>\n",
       "      <td>9.0</td>\n",
       "      <td>10.0</td>\n",
       "    </tr>\n",
       "  </tbody>\n",
       "</table>\n",
       "<p>5891 rows × 30 columns</p>\n",
       "</div>"
      ],
      "text/plain": [
       "      SalePrice  YearBuilt  YrSold  MonthSold  Size(sqf)  Floor HallwayType  \\\n",
       "0        141592       2006    2007          8        814      3    terraced   \n",
       "1         51327       1985    2007          8        587      8    corridor   \n",
       "2         48672       1985    2007          8        587      6    corridor   \n",
       "3        380530       2006    2007          8       2056      8    terraced   \n",
       "4        221238       1993    2007          8       1761      3       mixed   \n",
       "...         ...        ...     ...        ...        ...    ...         ...   \n",
       "5886     511504       2007    2017          8       1643     19    terraced   \n",
       "5887     298230       2006    2017          8        903     13    terraced   \n",
       "5888     357522       2007    2017          8        868     20    terraced   \n",
       "5889     312389       1978    2017          8       1327      1    corridor   \n",
       "5890     393805       2007    2017          8        868     13    terraced   \n",
       "\n",
       "             HeatingType        AptManageType  N_Parkinglot(Ground)  ...  \\\n",
       "0     individual_heating  management_in_trust                 111.0  ...   \n",
       "1     individual_heating      self_management                  80.0  ...   \n",
       "2     individual_heating      self_management                  80.0  ...   \n",
       "3     individual_heating  management_in_trust                 249.0  ...   \n",
       "4     individual_heating  management_in_trust                 523.0  ...   \n",
       "...                  ...                  ...                   ...  ...   \n",
       "5886  individual_heating  management_in_trust                   0.0  ...   \n",
       "5887  individual_heating  management_in_trust                 123.0  ...   \n",
       "5888  individual_heating  management_in_trust                   0.0  ...   \n",
       "5889  individual_heating      self_management                  87.0  ...   \n",
       "5890  individual_heating  management_in_trust                   0.0  ...   \n",
       "\n",
       "      N_FacilitiesNearBy(Mall) N_FacilitiesNearBy(ETC)  \\\n",
       "0                          1.0                     1.0   \n",
       "1                          1.0                     2.0   \n",
       "2                          1.0                     2.0   \n",
       "3                          1.0                     0.0   \n",
       "4                          1.0                     5.0   \n",
       "...                        ...                     ...   \n",
       "5886                       1.0                     0.0   \n",
       "5887                       1.0                     2.0   \n",
       "5888                       1.0                     0.0   \n",
       "5889                       1.0                     0.0   \n",
       "5890                       1.0                     0.0   \n",
       "\n",
       "     N_FacilitiesNearBy(Park)  N_SchoolNearBy(Elementary)  \\\n",
       "0                         0.0                         3.0   \n",
       "1                         1.0                         2.0   \n",
       "2                         1.0                         2.0   \n",
       "3                         0.0                         2.0   \n",
       "4                         0.0                         4.0   \n",
       "...                       ...                         ...   \n",
       "5886                      2.0                         3.0   \n",
       "5887                      0.0                         4.0   \n",
       "5888                      2.0                         3.0   \n",
       "5889                      0.0                         3.0   \n",
       "5890                      2.0                         3.0   \n",
       "\n",
       "      N_SchoolNearBy(Middle)  N_SchoolNearBy(High) N_SchoolNearBy(University)  \\\n",
       "0                        2.0                   2.0                        2.0   \n",
       "1                        1.0                   1.0                        0.0   \n",
       "2                        1.0                   1.0                        0.0   \n",
       "3                        2.0                   1.0                        2.0   \n",
       "4                        3.0                   5.0                        5.0   \n",
       "...                      ...                   ...                        ...   \n",
       "5886                     3.0                   2.0                        2.0   \n",
       "5887                     3.0                   3.0                        1.0   \n",
       "5888                     3.0                   2.0                        2.0   \n",
       "5889                     3.0                   3.0                        2.0   \n",
       "5890                     3.0                   2.0                        2.0   \n",
       "\n",
       "      N_FacilitiesInApt  N_FacilitiesNearBy(Total)  N_SchoolNearBy(Total)  \n",
       "0                     5                        6.0                    9.0  \n",
       "1                     3                       12.0                    4.0  \n",
       "2                     3                       12.0                    4.0  \n",
       "3                     5                        3.0                    7.0  \n",
       "4                     4                       14.0                   17.0  \n",
       "...                 ...                        ...                    ...  \n",
       "5886                 10                        9.0                   10.0  \n",
       "5887                  4                        8.0                   11.0  \n",
       "5888                 10                        9.0                   10.0  \n",
       "5889                  3                        7.0                   11.0  \n",
       "5890                 10                        9.0                   10.0  \n",
       "\n",
       "[5891 rows x 30 columns]"
      ]
     },
     "execution_count": 17,
     "metadata": {},
     "output_type": "execute_result"
    }
   ],
   "source": [
    "df"
   ]
  },
  {
   "cell_type": "code",
   "execution_count": 16,
   "id": "2d2a3573",
   "metadata": {
    "ExecuteTime": {
     "end_time": "2022-12-23T16:06:08.119862Z",
     "start_time": "2022-12-23T16:06:08.043418Z"
    }
   },
   "outputs": [
    {
     "name": "stdout",
     "output_type": "stream",
     "text": [
      "SalePrice 949\n",
      "YearBuilt 16\n",
      "YrSold 11\n",
      "MonthSold 12\n",
      "Size(sqf) 92\n",
      "Floor 43\n",
      "N_Parkinglot(Ground) 23\n",
      "N_Parkinglot(Basement) 20\n",
      "N_APT 9 {8.0: 1411, 7.0: 1378, 3.0: 1143, 1.0: 620, 6.0: 593, 2.0: 368, 10.0: 203, 13.0: 111, 5.0: 64}\n",
      "N_manager 9 {6.0: 1475, 5.0: 1307, 8.0: 1085, 14.0: 610, 3.0: 431, 2.0: 418, 4.0: 219, 7.0: 203, 1.0: 143}\n",
      "N_elevators 13\n",
      "N_FacilitiesNearBy(PublicOffice) 8 {5.0: 1812, 3.0: 1195, 2.0: 751, 6.0: 674, 7.0: 623, 1.0: 414, 4.0: 358, 0.0: 64}\n",
      "N_FacilitiesNearBy(Hospital) 3 {1: 4019, 2: 1808, 0: 64}\n",
      "N_FacilitiesNearBy(Dpartmentstore) 3 {0.0: 2274, 1.0: 1954, 2.0: 1663}\n",
      "N_FacilitiesNearBy(Mall) 3 {1.0: 4922, 0.0: 657, 2.0: 312}\n",
      "N_FacilitiesNearBy(ETC) 4 {0.0: 2595, 5.0: 1919, 1.0: 913, 2.0: 464}\n",
      "N_FacilitiesNearBy(Park) 3 {0.0: 2647, 1.0: 2634, 2.0: 610}\n",
      "N_SchoolNearBy(Elementary) 5 {3.0: 2097, 4.0: 1926, 2.0: 1671, 0.0: 119, 6.0: 78}\n",
      "N_SchoolNearBy(Middle) 5 {3.0: 2472, 2.0: 1431, 1.0: 1017, 4.0: 737, 0.0: 234}\n",
      "N_SchoolNearBy(High) 6 {2.0: 1930, 1.0: 1320, 5.0: 1182, 4.0: 901, 3.0: 324, 0.0: 234}\n",
      "N_SchoolNearBy(University) 6 {2.0: 1928, 5.0: 1182, 1.0: 1168, 4.0: 901, 3.0: 583, 0.0: 129}\n",
      "N_FacilitiesInApt 9 {4: 1447, 7: 1225, 5: 1160, 10: 785, 3: 677, 8: 270, 9: 203, 2: 69, 1: 55}\n",
      "N_FacilitiesNearBy(Total) 11\n",
      "N_SchoolNearBy(Total) 14\n"
     ]
    }
   ],
   "source": [
    "continuous_attributes = list(df.describe())\n",
    "\n",
    "for c in continuous_attributes:\n",
    "    cnt = df[c].value_counts()\n",
    "    if len(cnt)>10:\n",
    "        print(c, len(cnt))\n",
    "    else:\n",
    "        print(c, len(cnt), dict(cnt))"
   ]
  },
  {
   "cell_type": "code",
   "execution_count": 30,
   "id": "afb8c857",
   "metadata": {
    "ExecuteTime": {
     "end_time": "2022-12-23T16:19:41.080188Z",
     "start_time": "2022-12-23T16:19:41.057514Z"
    }
   },
   "outputs": [],
   "source": [
    "import pandas as pd\n",
    "\n",
    "\n",
    "def import_process_real_estate(inputDir=DATASET_DIR):\n",
    "    \n",
    "    \n",
    "    check_dataset_availability(\"Daegu_Real_Estate_data.csv\", inputDir=inputDir)\n",
    "\n",
    "    df = pd.read_csv(os.path.join(DATASET_DIR, \"Daegu_Real_Estate_data.csv\"), sep=\",\")\n",
    "\n",
    "    df.rename(columns = {\"Revenue\": \"class\"}, inplace=True)\n",
    "    \n",
    "    df['Month'] = df['Month'].replace({'May': 5, 'Nov': 11, 'Mar': 3, 'Dec': 12, 'Oct': 10, 'Sep': 9, 'Aug': 8, 'Jul': 7, 'June': 6, 'Feb': 2})\n",
    "\n",
    "    continuous_attributes = list(df.describe())\n",
    "    \n",
    "    return df, class_continuous_attributes"
   ]
  },
  {
   "cell_type": "code",
   "execution_count": 32,
   "id": "97b46747",
   "metadata": {
    "ExecuteTime": {
     "end_time": "2022-12-23T16:19:46.273093Z",
     "start_time": "2022-12-23T16:19:46.191909Z"
    }
   },
   "outputs": [],
   "source": [
    "df, continuous_attributes = import_process_real_estate()"
   ]
  },
  {
   "cell_type": "code",
   "execution_count": 6,
   "id": "9f1a38ef",
   "metadata": {
    "ExecuteTime": {
     "end_time": "2022-12-23T16:22:53.640540Z",
     "start_time": "2022-12-23T16:22:53.617131Z"
    }
   },
   "outputs": [
    {
     "data": {
      "text/plain": [
       "'SalePrice'"
      ]
     },
     "execution_count": 6,
     "metadata": {},
     "output_type": "execute_result"
    }
   ],
   "source": [
    "list(df adf.colums)[0]"
   ]
  },
  {
   "cell_type": "code",
   "execution_count": 28,
   "id": "bab8dddb",
   "metadata": {
    "ExecuteTime": {
     "end_time": "2022-12-23T16:45:01.696535Z",
     "start_time": "2022-12-23T16:44:58.477533Z"
    }
   },
   "outputs": [
    {
     "name": "stdout",
     "output_type": "stream",
     "text": [
      "{'0.03': {'base_pruned': 0.33242652643184467, 'base': 0.33242652643184467, 'generalized_pruned': 0.3568959120636399, 'generalized': 0.3568959120636399}, '0.04': {'base_pruned': 0.2953222508753781, 'base': 0.3083125184937603, 'generalized_pruned': 0.3312425362888033, 'generalized': 0.3355764199565706}, '0.05': {'base_pruned': 0.27414926426685904, 'base': 0.3083125184937603, 'generalized_pruned': 0.3183982707812677, 'generalized': 0.3183982707812677}, '0.075': {'base_pruned': 0.2697557368446162, 'base': 0.2697557368446162, 'generalized_pruned': 0.2950422968647698, 'generalized': 0.2950422968647698}, '0.1': {'base_pruned': 0.2697557368446162, 'base': 0.2697557368446162, 'generalized_pruned': 0.28331985814531035, 'generalized': 0.28331985814531035}, '0.15': {'base_pruned': 0.11739653481837753, 'base': 0.11739653481837753, 'generalized_pruned': 0.2551753446877534, 'generalized': 0.2551753446877534}, '0.2': {'base_pruned': 0.08083374646066432, 'base': 0.08083374646066432, 'generalized_pruned': 0.21455973518631777, 'generalized': 0.21455973518631777}}\n",
      "Execution time $(seconds)$ time\n",
      "./output_red/figures/output_performance/online_shoppers_intention_stree_0.1_d_error_time.pdf\n",
      "/home/dauin_user/pastor/hierarchical-subgroup/hierarchical-subgroup-exploration/utils_plot.py:168: UserWarning: Tight layout not applied. The left and right margins cannot be made large enough to accommodate all axes decorations.\n",
      "  fig.tight_layout()\n",
      "Figure(300x300)\n",
      "Max $\\Delta_{ERROR}$ max_d_error\n",
      "./output_red/figures/output_performance/online_shoppers_intention_stree_0.1_d_error_max_d_error.pdf\n",
      "/home/dauin_user/pastor/hierarchical-subgroup/hierarchical-subgroup-exploration/utils_plot.py:168: UserWarning: Tight layout not applied. The left and right margins cannot be made large enough to accommodate all axes decorations.\n",
      "  fig.tight_layout()\n",
      "Figure(300x300)\n",
      "#FP FP\n",
      "./output_red/figures/output_performance/online_shoppers_intention_stree_0.1_d_error_FP.pdf\n",
      "Figure(300x300)\n"
     ]
    }
   ],
   "source": [
    "! python plot_experiment_results_varying_support.py --dataset_name online_shoppers_intention --metric d_error"
   ]
  },
  {
   "cell_type": "code",
   "execution_count": null,
   "id": "ad3b46e1",
   "metadata": {},
   "outputs": [],
   "source": [
    "\n",
    "1\n",
    "!python run_pruned_v2.py  --min_sup_divergences 0.03 0.04 0.05 0.075 0.1 0.15 0.2\n"
   ]
  },
  {
   "cell_type": "code",
   "execution_count": 64,
   "id": "4f0777d0",
   "metadata": {
    "ExecuteTime": {
     "end_time": "2022-12-23T16:57:55.268925Z",
     "start_time": "2022-12-23T16:57:51.744440Z"
    }
   },
   "outputs": [
    {
     "name": "stdout",
     "output_type": "stream",
     "text": [
      "folks\n",
      "adult\n",
      "german\n",
      "online_shopper\n",
      "wine\n"
     ]
    }
   ],
   "source": [
    "from import_process_dataset import import_folkstables, import_process_adult, import_process_german, import_process_online_shoppers_intention, import_process_wine\n",
    "info = {}\n",
    "for name, imported in [('folks', import_folkstables()), ('adult', import_process_adult()),\\\n",
    "                       ('german', import_process_german()), ('online_shopper', import_process_online_shoppers_intention()),\\\n",
    "                     ('wine', import_process_wine()) ]:\n",
    "    df, t, cc = imported\n",
    "    print(name)\n",
    "    cols = list(df.columns)\n",
    "    if type(t) == dict:\n",
    "        cols.remove('class')\n",
    "    else:\n",
    "        cols.remove(t)\n",
    "    info[name] = [df.shape[0], len(cols), len(cc), len(cols)-len(cc)]"
   ]
  },
  {
   "cell_type": "code",
   "execution_count": 65,
   "id": "c56a2527",
   "metadata": {
    "ExecuteTime": {
     "end_time": "2022-12-23T16:57:55.289628Z",
     "start_time": "2022-12-23T16:57:55.271635Z"
    }
   },
   "outputs": [],
   "source": [
    "import pandas as pd\n",
    "\n",
    "info_df = pd.DataFrame(info).T\n",
    "\n",
    "info_df.columns = ['#instances', '#attribute', '#numerical', '#nominal']"
   ]
  },
  {
   "cell_type": "code",
   "execution_count": 66,
   "id": "317d010a",
   "metadata": {
    "ExecuteTime": {
     "end_time": "2022-12-23T16:57:55.470552Z",
     "start_time": "2022-12-23T16:57:55.291347Z"
    }
   },
   "outputs": [
    {
     "data": {
      "text/html": [
       "<div>\n",
       "<style scoped>\n",
       "    .dataframe tbody tr th:only-of-type {\n",
       "        vertical-align: middle;\n",
       "    }\n",
       "\n",
       "    .dataframe tbody tr th {\n",
       "        vertical-align: top;\n",
       "    }\n",
       "\n",
       "    .dataframe thead th {\n",
       "        text-align: right;\n",
       "    }\n",
       "</style>\n",
       "<table border=\"1\" class=\"dataframe\">\n",
       "  <thead>\n",
       "    <tr style=\"text-align: right;\">\n",
       "      <th></th>\n",
       "      <th>#instances</th>\n",
       "      <th>#attribute</th>\n",
       "      <th>#numerical</th>\n",
       "      <th>#nominal</th>\n",
       "    </tr>\n",
       "  </thead>\n",
       "  <tbody>\n",
       "    <tr>\n",
       "      <th>folks</th>\n",
       "      <td>195556</td>\n",
       "      <td>10</td>\n",
       "      <td>2</td>\n",
       "      <td>8</td>\n",
       "    </tr>\n",
       "    <tr>\n",
       "      <th>adult</th>\n",
       "      <td>45222</td>\n",
       "      <td>11</td>\n",
       "      <td>4</td>\n",
       "      <td>7</td>\n",
       "    </tr>\n",
       "    <tr>\n",
       "      <th>german</th>\n",
       "      <td>1000</td>\n",
       "      <td>21</td>\n",
       "      <td>7</td>\n",
       "      <td>14</td>\n",
       "    </tr>\n",
       "    <tr>\n",
       "      <th>online_shopper</th>\n",
       "      <td>12330</td>\n",
       "      <td>17</td>\n",
       "      <td>14</td>\n",
       "      <td>3</td>\n",
       "    </tr>\n",
       "    <tr>\n",
       "      <th>wine</th>\n",
       "      <td>9796</td>\n",
       "      <td>11</td>\n",
       "      <td>11</td>\n",
       "      <td>0</td>\n",
       "    </tr>\n",
       "  </tbody>\n",
       "</table>\n",
       "</div>"
      ],
      "text/plain": [
       "                #instances  #attribute  #numerical  #nominal\n",
       "folks               195556          10           2         8\n",
       "adult                45222          11           4         7\n",
       "german                1000          21           7        14\n",
       "online_shopper       12330          17          14         3\n",
       "wine                  9796          11          11         0"
      ]
     },
     "execution_count": 66,
     "metadata": {},
     "output_type": "execute_result"
    }
   ],
   "source": [
    "info_df"
   ]
  },
  {
   "cell_type": "code",
   "execution_count": 70,
   "id": "677de091",
   "metadata": {
    "ExecuteTime": {
     "end_time": "2022-12-23T17:23:35.389139Z",
     "start_time": "2022-12-23T17:23:32.436369Z"
    }
   },
   "outputs": [
    {
     "data": {
      "text/plain": [
       "9796"
      ]
     },
     "execution_count": 70,
     "metadata": {},
     "output_type": "execute_result"
    }
   ],
   "source": [
    "df = import_process_wine()\n",
    "\n",
    "df[0].shape[0]"
   ]
  },
  {
   "cell_type": "code",
   "execution_count": null,
   "id": "8b5208dd",
   "metadata": {},
   "outputs": [],
   "source": []
  }
 ],
 "metadata": {
  "kernelspec": {
   "display_name": "main-exp",
   "language": "python",
   "name": "main-exp"
  },
  "language_info": {
   "codemirror_mode": {
    "name": "ipython",
    "version": 3
   },
   "file_extension": ".py",
   "mimetype": "text/x-python",
   "name": "python",
   "nbconvert_exporter": "python",
   "pygments_lexer": "ipython3",
   "version": "3.7.9"
  },
  "toc": {
   "base_numbering": 1,
   "nav_menu": {},
   "number_sections": true,
   "sideBar": true,
   "skip_h1_title": false,
   "title_cell": "Table of Contents",
   "title_sidebar": "Contents",
   "toc_cell": false,
   "toc_position": {},
   "toc_section_display": true,
   "toc_window_display": false
  }
 },
 "nbformat": 4,
 "nbformat_minor": 5
}
